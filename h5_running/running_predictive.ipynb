{
 "cells": [
  {
   "cell_type": "code",
   "execution_count": 1,
   "metadata": {},
   "outputs": [],
   "source": [
    "##### Batas penggunaan model yang sudah jadi #############"
   ]
  },
  {
   "cell_type": "code",
   "execution_count": 2,
   "metadata": {},
   "outputs": [],
   "source": [
    "import tensorflow as tf\n",
    "from tensorflow.keras import models\n",
    "import librosa\n",
    "import librosa.display\n",
    "import matplotlib.pyplot as plt\n",
    "import numpy as np\n",
    "import os\n",
    "import cv2\n",
    "from tensorflow.keras.preprocessing.image import img_to_array\n",
    "import jsons\n",
    "from flask import Flask, jsonify, request"
   ]
  },
  {
   "cell_type": "code",
   "execution_count": 3,
   "metadata": {},
   "outputs": [],
   "source": [
    "def transformator(file_gambar_spectogram):\n",
    "    IMG_PATH = file_gambar_spectogram\n",
    "    image = cv2.imread(IMG_PATH)\n",
    "    image = cv2.resize(image, (512, 512))\n",
    "    image = image.astype(\"float\") / 255.0\n",
    "    image = img_to_array(image)\n",
    "    image = np.expand_dims(image, axis=0)\n",
    "    return image\n",
    "\n",
    "def identifikasi_gambar(gambar):\n",
    "    y_pred = np.argmax(model.predict(transformator(gambar)), axis=1)\n",
    "    if str(y_pred[0]) == \"0\":\n",
    "       label_nama = \"Depresi\"\n",
    "    elif str(y_pred[0]) == \"1\":\n",
    "       label_nama = \"Normal\"\n",
    "    return label_nama\n",
    "\n",
    "def transform_audio_to_spectogram_to_testing(audio_file):\n",
    "    y, sr = librosa.load(audio_file)\n",
    "    librosa.feature.melspectrogram(y=y, sr=sr)\n",
    "    S = librosa.feature.melspectrogram(y=y, sr=sr, n_mels=128,\n",
    "                                               fmax=8000)\n",
    "    fig, ax = plt.subplots()\n",
    "    S_dB = librosa.power_to_db(S, ref=np.max)\n",
    "    img = librosa.display.specshow(S_dB)\n",
    "            # ax.set(title='Log Mel-frequency spectrogram')\n",
    "    folder_dituju = \"E:\\Capstone_Project\\\\runningan\\jalur_lewat_testing\" #save suatu folder diserver\n",
    "    savefigure = os.path.join(folder_dituju, 'jalur_lewat.jpg') # save di folder folder_dituju , nama file gambar 'jalur_lewat.jpg' / spectogram\n",
    "    plt.savefig(savefigure)\n",
    "    status = identifikasi_gambar(savefigure)\n",
    "    return status\n",
    "\n",
    "AUTOTUNE = tf.data.AUTOTUNE"
   ]
  },
  {
   "cell_type": "code",
   "execution_count": 4,
   "metadata": {},
   "outputs": [],
   "source": [
    "#audio_file = \"E:\\Capstone_Project\\Depressionvsnormal\\Depression\\Depression4.wav\"\n",
    "#hasil = transform_audio_to_spectogram_to_testing(audio_file)\n",
    "\n",
    "#print(hasil)"
   ]
  },
  {
   "cell_type": "code",
   "execution_count": 5,
   "metadata": {},
   "outputs": [],
   "source": [
    "model_ml = \"E:\\Capstone_Project\\heroku\\\\predictive_model_v_8.h5\"\n",
    "model = models.load_model(model_ml)"
   ]
  },
  {
   "cell_type": "code",
   "execution_count": null,
   "metadata": {},
   "outputs": [
    {
     "name": "stdout",
     "output_type": "stream",
     "text": [
      "1/1 [==============================] - 0s 220ms/step\n"
     ]
    },
    {
     "name": "stderr",
     "output_type": "stream",
     "text": [
      "127.0.0.1 - - [2022-06-08 11:37:18] \"POST /predict HTTP/1.1\" 200 159 1.475208\n"
     ]
    }
   ],
   "source": [
    "from flask import Flask\n",
    "from gevent.pywsgi import WSGIServer\n",
    "\n",
    "app = Flask(__name__)\n",
    "@app.route('/predict', methods=['POST'])\n",
    "def infer_image():\n",
    "    if request.method == 'POST':\n",
    "        if 'file' not in request.files:\n",
    "            return \"Masukan hanya jenis file saja\"\n",
    "        file = request.files.get('file')\n",
    "        try:\n",
    "            img = transform_audio_to_spectogram_to_testing(file)\n",
    "            json =  { \"status_user\":img,\"status_running\":\"Sukses\"} \n",
    "        except:\n",
    "            json =  { \"status_user\":\"-\",\"status_running\":\"Gagal\"}\n",
    "        return json\n",
    "    \n",
    "@app.route('/', methods=['GET'])\n",
    "def index():\n",
    "    return \"Selamat datang dimachine learning kami\"\n",
    "\n",
    "if __name__ == '__main__':\n",
    "    # Debug/Development\n",
    "    # app.run(debug=True, host=\"0.0.0.0\", port=\"5000\")\n",
    "    # Production\n",
    "    http_server = WSGIServer(('127.0.0.1', 5000), app)\n",
    "    http_server.serve_forever()"
   ]
  }
 ],
 "metadata": {
  "colab": {
   "collapsed_sections": [],
   "name": "Terbaik_2.ipynb",
   "provenance": []
  },
  "interpreter": {
   "hash": "42f60ef5713f6389c68d58b5cf9aed372996a4129bb1a516412447272d8a7fe7"
  },
  "kernelspec": {
   "display_name": "Python 3 (ipykernel)",
   "language": "python",
   "name": "python3"
  },
  "language_info": {
   "codemirror_mode": {
    "name": "ipython",
    "version": 3
   },
   "file_extension": ".py",
   "mimetype": "text/x-python",
   "name": "python",
   "nbconvert_exporter": "python",
   "pygments_lexer": "ipython3",
   "version": "3.8.12"
  }
 },
 "nbformat": 4,
 "nbformat_minor": 1
}
