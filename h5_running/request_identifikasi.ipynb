{
 "cells": [
  {
   "cell_type": "code",
   "execution_count": null,
   "metadata": {},
   "outputs": [],
   "source": [
    "import requests\n",
    "\n",
    "audiofile = \"./audio0.wav\"\n",
    "url = \"http://127.0.0.1:5000/predict\"\n",
    "with open(audiofile, 'rb') as fobj:\n",
    "    x = requests.post(url, files={'file': fobj})\n",
    "\n",
    "    print(x.text)"
   ]
  },
  {
   "cell_type": "code",
   "execution_count": null,
   "metadata": {},
   "outputs": [],
   "source": [
    "#Output yang keluar:\n",
    "#{\"status_running\":\"Sukses\",\"status_user\":\"Normal\"}\n",
    "#{\"status_running\":\"Sukses\",\"status_user\":\"Depresi\" , \"Tingkat\":\"x%\"}"
   ]
  },
  {
   "cell_type": "code",
   "execution_count": null,
   "metadata": {},
   "outputs": [],
   "source": []
  }
 ],
 "metadata": {
  "colab": {
   "name": "permodelan_depresi.ipynb",
   "provenance": []
  },
  "kernelspec": {
   "display_name": "Python 3 (ipykernel)",
   "language": "python",
   "name": "python3"
  },
  "language_info": {
   "codemirror_mode": {
    "name": "ipython",
    "version": 3
   },
   "file_extension": ".py",
   "mimetype": "text/x-python",
   "name": "python",
   "nbconvert_exporter": "python",
   "pygments_lexer": "ipython3",
   "version": "3.8.12"
  }
 },
 "nbformat": 4,
 "nbformat_minor": 1
}
