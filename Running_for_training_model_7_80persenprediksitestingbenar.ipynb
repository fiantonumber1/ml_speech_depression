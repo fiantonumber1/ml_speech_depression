{
 "cells": [
  {
   "cell_type": "code",
   "execution_count": 1,
   "metadata": {
    "colab": {
     "base_uri": "https://localhost:8080/"
    },
    "id": "uiYKF1goTx8p",
    "outputId": "b020990a-eca5-4ef1-8e15-2a4aa6cc7027"
   },
   "outputs": [
    {
     "name": "stdout",
     "output_type": "stream",
     "text": [
      "Python 3.8.12\n",
      "Requirement already satisfied: mutagen in c:\\users\\fiansyah\\anaconda3\\lib\\site-packages (1.45.1)\n",
      "Note: you may need to restart the kernel to use updated packages.\n"
     ]
    },
    {
     "name": "stderr",
     "output_type": "stream",
     "text": [
      "WARNING: You are using pip version 22.0.4; however, version 22.1.1 is available.\n",
      "You should consider upgrading via the 'C:\\Users\\fiansyah\\anaconda3\\python.exe -m pip install --upgrade pip' command.\n"
     ]
    },
    {
     "name": "stdout",
     "output_type": "stream",
     "text": [
      "Requirement already satisfied: pydub in c:\\users\\fiansyah\\anaconda3\\lib\\site-packages (0.25.1)\n",
      "Note: you may need to restart the kernel to use updated packages.\n"
     ]
    },
    {
     "name": "stderr",
     "output_type": "stream",
     "text": [
      "WARNING: You are using pip version 22.0.4; however, version 22.1.1 is available.\n",
      "You should consider upgrading via the 'C:\\Users\\fiansyah\\anaconda3\\python.exe -m pip install --upgrade pip' command.\n"
     ]
    },
    {
     "name": "stdout",
     "output_type": "stream",
     "text": [
      "Requirement already satisfied: noisereduce in c:\\users\\fiansyah\\anaconda3\\lib\\site-packages (2.0.1)\n",
      "Requirement already satisfied: librosa in c:\\users\\fiansyah\\anaconda3\\lib\\site-packages (from noisereduce) (0.9.1)\n",
      "Requirement already satisfied: matplotlib in c:\\users\\fiansyah\\anaconda3\\lib\\site-packages (from noisereduce) (3.5.0)\n",
      "Requirement already satisfied: scipy in c:\\users\\fiansyah\\anaconda3\\lib\\site-packages (from noisereduce) (1.7.1)\n",
      "Requirement already satisfied: tqdm in c:\\users\\fiansyah\\anaconda3\\lib\\site-packages (from noisereduce) (4.62.3)\n",
      "Requirement already satisfied: numpy in c:\\users\\fiansyah\\anaconda3\\lib\\site-packages (from noisereduce) (1.20.3)\n",
      "Requirement already satisfied: audioread>=2.1.5 in c:\\users\\fiansyah\\anaconda3\\lib\\site-packages (from librosa->noisereduce) (2.1.9)\n",
      "Requirement already satisfied: soundfile>=0.10.2 in c:\\users\\fiansyah\\anaconda3\\lib\\site-packages (from librosa->noisereduce) (0.10.3.post1)\n",
      "Requirement already satisfied: pooch>=1.0 in c:\\users\\fiansyah\\anaconda3\\lib\\site-packages (from librosa->noisereduce) (1.6.0)\n",
      "Requirement already satisfied: numba>=0.45.1 in c:\\users\\fiansyah\\anaconda3\\lib\\site-packages (from librosa->noisereduce) (0.54.1)\n",
      "Requirement already satisfied: resampy>=0.2.2 in c:\\users\\fiansyah\\anaconda3\\lib\\site-packages (from librosa->noisereduce) (0.2.2)\n",
      "Requirement already satisfied: joblib>=0.14 in c:\\users\\fiansyah\\anaconda3\\lib\\site-packages (from librosa->noisereduce) (1.1.0)\n",
      "Requirement already satisfied: scikit-learn>=0.19.1 in c:\\users\\fiansyah\\anaconda3\\lib\\site-packages (from librosa->noisereduce) (1.0.1)\n",
      "Requirement already satisfied: decorator>=4.0.10 in c:\\users\\fiansyah\\anaconda3\\lib\\site-packages (from librosa->noisereduce) (5.1.0)\n",
      "Requirement already satisfied: packaging>=20.0 in c:\\users\\fiansyah\\anaconda3\\lib\\site-packages (from librosa->noisereduce) (21.3)\n",
      "Requirement already satisfied: cycler>=0.10 in c:\\users\\fiansyah\\anaconda3\\lib\\site-packages (from matplotlib->noisereduce) (0.11.0)\n",
      "Requirement already satisfied: pillow>=6.2.0 in c:\\users\\fiansyah\\anaconda3\\lib\\site-packages (from matplotlib->noisereduce) (8.4.0)\n",
      "Requirement already satisfied: kiwisolver>=1.0.1 in c:\\users\\fiansyah\\anaconda3\\lib\\site-packages (from matplotlib->noisereduce) (1.3.1)\n",
      "Requirement already satisfied: fonttools>=4.22.0 in c:\\users\\fiansyah\\anaconda3\\lib\\site-packages (from matplotlib->noisereduce) (4.25.0)\n",
      "Requirement already satisfied: pyparsing>=2.2.1 in c:\\users\\fiansyah\\anaconda3\\lib\\site-packages (from matplotlib->noisereduce) (3.0.4)\n",
      "Requirement already satisfied: python-dateutil>=2.7 in c:\\users\\fiansyah\\anaconda3\\lib\\site-packages (from matplotlib->noisereduce) (2.8.2)\n",
      "Requirement already satisfied: colorama in c:\\users\\fiansyah\\anaconda3\\lib\\site-packages (from tqdm->noisereduce) (0.4.4)\n",
      "Requirement already satisfied: llvmlite<0.38,>=0.37.0rc1 in c:\\users\\fiansyah\\anaconda3\\lib\\site-packages (from numba>=0.45.1->librosa->noisereduce) (0.37.0)\n",
      "Requirement already satisfied: setuptools in c:\\users\\fiansyah\\anaconda3\\lib\\site-packages (from numba>=0.45.1->librosa->noisereduce) (62.1.0)\n",
      "Requirement already satisfied: requests>=2.19.0 in c:\\users\\fiansyah\\anaconda3\\lib\\site-packages (from pooch>=1.0->librosa->noisereduce) (2.26.0)\n",
      "Requirement already satisfied: appdirs>=1.3.0 in c:\\users\\fiansyah\\anaconda3\\lib\\site-packages (from pooch>=1.0->librosa->noisereduce) (1.4.4)\n",
      "Requirement already satisfied: six>=1.5 in c:\\users\\fiansyah\\anaconda3\\lib\\site-packages (from python-dateutil>=2.7->matplotlib->noisereduce) (1.16.0)\n",
      "Requirement already satisfied: threadpoolctl>=2.0.0 in c:\\users\\fiansyah\\anaconda3\\lib\\site-packages (from scikit-learn>=0.19.1->librosa->noisereduce) (2.2.0)\n",
      "Requirement already satisfied: cffi>=1.0 in c:\\users\\fiansyah\\anaconda3\\lib\\site-packages (from soundfile>=0.10.2->librosa->noisereduce) (1.15.0)\n",
      "Requirement already satisfied: pycparser in c:\\users\\fiansyah\\anaconda3\\lib\\site-packages (from cffi>=1.0->soundfile>=0.10.2->librosa->noisereduce) (2.21)\n",
      "Requirement already satisfied: certifi>=2017.4.17 in c:\\users\\fiansyah\\anaconda3\\lib\\site-packages (from requests>=2.19.0->pooch>=1.0->librosa->noisereduce) (2021.10.8)\n",
      "Requirement already satisfied: idna<4,>=2.5 in c:\\users\\fiansyah\\anaconda3\\lib\\site-packages (from requests>=2.19.0->pooch>=1.0->librosa->noisereduce) (3.3)\n",
      "Requirement already satisfied: urllib3<1.27,>=1.21.1 in c:\\users\\fiansyah\\anaconda3\\lib\\site-packages (from requests>=2.19.0->pooch>=1.0->librosa->noisereduce) (1.26.7)\n",
      "Requirement already satisfied: charset-normalizer~=2.0.0 in c:\\users\\fiansyah\\anaconda3\\lib\\site-packages (from requests>=2.19.0->pooch>=1.0->librosa->noisereduce) (2.0.4)\n",
      "Note: you may need to restart the kernel to use updated packages.\n"
     ]
    },
    {
     "name": "stderr",
     "output_type": "stream",
     "text": [
      "WARNING: You are using pip version 22.0.4; however, version 22.1.1 is available.\n",
      "You should consider upgrading via the 'C:\\Users\\fiansyah\\anaconda3\\python.exe -m pip install --upgrade pip' command.\n"
     ]
    },
    {
     "name": "stdout",
     "output_type": "stream",
     "text": [
      "Requirement already satisfied: tensorflow in c:\\users\\fiansyah\\anaconda3\\lib\\site-packages (2.9.1)\n",
      "Requirement already satisfied: termcolor>=1.1.0 in c:\\users\\fiansyah\\anaconda3\\lib\\site-packages (from tensorflow) (1.1.0)\n",
      "Requirement already satisfied: numpy>=1.20 in c:\\users\\fiansyah\\anaconda3\\lib\\site-packages (from tensorflow) (1.20.3)\n",
      "Requirement already satisfied: keras<2.10.0,>=2.9.0rc0 in c:\\users\\fiansyah\\anaconda3\\lib\\site-packages (from tensorflow) (2.9.0)\n",
      "Requirement already satisfied: protobuf<3.20,>=3.9.2 in c:\\users\\fiansyah\\anaconda3\\lib\\site-packages (from tensorflow) (3.19.4)\n",
      "Requirement already satisfied: wrapt>=1.11.0 in c:\\users\\fiansyah\\anaconda3\\lib\\site-packages (from tensorflow) (1.12.1)\n",
      "Requirement already satisfied: h5py>=2.9.0 in c:\\users\\fiansyah\\anaconda3\\lib\\site-packages (from tensorflow) (2.10.0)\n",
      "Requirement already satisfied: setuptools in c:\\users\\fiansyah\\anaconda3\\lib\\site-packages (from tensorflow) (62.1.0)\n",
      "Requirement already satisfied: typing-extensions>=3.6.6 in c:\\users\\fiansyah\\anaconda3\\lib\\site-packages (from tensorflow) (4.2.0)\n",
      "Requirement already satisfied: absl-py>=1.0.0 in c:\\users\\fiansyah\\anaconda3\\lib\\site-packages (from tensorflow) (1.0.0)\n",
      "Requirement already satisfied: tensorflow-io-gcs-filesystem>=0.23.1 in c:\\users\\fiansyah\\anaconda3\\lib\\site-packages (from tensorflow) (0.26.0)\n",
      "Requirement already satisfied: keras-preprocessing>=1.1.1 in c:\\users\\fiansyah\\anaconda3\\lib\\site-packages (from tensorflow) (1.1.2)\n",
      "Requirement already satisfied: opt-einsum>=2.3.2 in c:\\users\\fiansyah\\anaconda3\\lib\\site-packages (from tensorflow) (3.3.0)\n",
      "Requirement already satisfied: packaging in c:\\users\\fiansyah\\anaconda3\\lib\\site-packages (from tensorflow) (21.3)\n",
      "Requirement already satisfied: flatbuffers<2,>=1.12 in c:\\users\\fiansyah\\anaconda3\\lib\\site-packages (from tensorflow) (1.12)\n",
      "Requirement already satisfied: libclang>=13.0.0 in c:\\users\\fiansyah\\anaconda3\\lib\\site-packages (from tensorflow) (14.0.1)\n",
      "Requirement already satisfied: google-pasta>=0.1.1 in c:\\users\\fiansyah\\anaconda3\\lib\\site-packages (from tensorflow) (0.2.0)\n",
      "Requirement already satisfied: gast<=0.4.0,>=0.2.1 in c:\\users\\fiansyah\\anaconda3\\lib\\site-packages (from tensorflow) (0.4.0)\n",
      "Requirement already satisfied: grpcio<2.0,>=1.24.3 in c:\\users\\fiansyah\\anaconda3\\lib\\site-packages (from tensorflow) (1.46.3)\n",
      "Requirement already satisfied: astunparse>=1.6.0 in c:\\users\\fiansyah\\anaconda3\\lib\\site-packages (from tensorflow) (1.6.3)\n",
      "Requirement already satisfied: tensorflow-estimator<2.10.0,>=2.9.0rc0 in c:\\users\\fiansyah\\anaconda3\\lib\\site-packages (from tensorflow) (2.9.0)\n",
      "Requirement already satisfied: six>=1.12.0 in c:\\users\\fiansyah\\anaconda3\\lib\\site-packages (from tensorflow) (1.16.0)\n",
      "Requirement already satisfied: tensorboard<2.10,>=2.9 in c:\\users\\fiansyah\\anaconda3\\lib\\site-packages (from tensorflow) (2.9.0)\n",
      "Requirement already satisfied: wheel<1.0,>=0.23.0 in c:\\users\\fiansyah\\anaconda3\\lib\\site-packages (from astunparse>=1.6.0->tensorflow) (0.37.0)\n",
      "Requirement already satisfied: google-auth-oauthlib<0.5,>=0.4.1 in c:\\users\\fiansyah\\anaconda3\\lib\\site-packages (from tensorboard<2.10,>=2.9->tensorflow) (0.4.6)\n",
      "Requirement already satisfied: markdown>=2.6.8 in c:\\users\\fiansyah\\anaconda3\\lib\\site-packages (from tensorboard<2.10,>=2.9->tensorflow) (3.3.7)\n",
      "Requirement already satisfied: google-auth<3,>=1.6.3 in c:\\users\\fiansyah\\anaconda3\\lib\\site-packages (from tensorboard<2.10,>=2.9->tensorflow) (2.6.6)\n",
      "Requirement already satisfied: tensorboard-data-server<0.7.0,>=0.6.0 in c:\\users\\fiansyah\\anaconda3\\lib\\site-packages (from tensorboard<2.10,>=2.9->tensorflow) (0.6.1)\n",
      "Requirement already satisfied: werkzeug>=1.0.1 in c:\\users\\fiansyah\\anaconda3\\lib\\site-packages (from tensorboard<2.10,>=2.9->tensorflow) (2.0.2)\n",
      "Requirement already satisfied: tensorboard-plugin-wit>=1.6.0 in c:\\users\\fiansyah\\anaconda3\\lib\\site-packages (from tensorboard<2.10,>=2.9->tensorflow) (1.8.1)\n",
      "Requirement already satisfied: requests<3,>=2.21.0 in c:\\users\\fiansyah\\anaconda3\\lib\\site-packages (from tensorboard<2.10,>=2.9->tensorflow) (2.26.0)\n",
      "Requirement already satisfied: pyparsing!=3.0.5,>=2.0.2 in c:\\users\\fiansyah\\anaconda3\\lib\\site-packages (from packaging->tensorflow) (3.0.4)\n",
      "Requirement already satisfied: pyasn1-modules>=0.2.1 in c:\\users\\fiansyah\\anaconda3\\lib\\site-packages (from google-auth<3,>=1.6.3->tensorboard<2.10,>=2.9->tensorflow) (0.2.8)\n",
      "Requirement already satisfied: cachetools<6.0,>=2.0.0 in c:\\users\\fiansyah\\anaconda3\\lib\\site-packages (from google-auth<3,>=1.6.3->tensorboard<2.10,>=2.9->tensorflow) (5.2.0)\n",
      "Requirement already satisfied: rsa<5,>=3.1.4 in c:\\users\\fiansyah\\anaconda3\\lib\\site-packages (from google-auth<3,>=1.6.3->tensorboard<2.10,>=2.9->tensorflow) (4.8)\n",
      "Requirement already satisfied: requests-oauthlib>=0.7.0 in c:\\users\\fiansyah\\anaconda3\\lib\\site-packages (from google-auth-oauthlib<0.5,>=0.4.1->tensorboard<2.10,>=2.9->tensorflow) (1.3.1)\n",
      "Requirement already satisfied: importlib-metadata>=4.4 in c:\\users\\fiansyah\\anaconda3\\lib\\site-packages (from markdown>=2.6.8->tensorboard<2.10,>=2.9->tensorflow) (4.8.2)\n",
      "Requirement already satisfied: charset-normalizer~=2.0.0 in c:\\users\\fiansyah\\anaconda3\\lib\\site-packages (from requests<3,>=2.21.0->tensorboard<2.10,>=2.9->tensorflow) (2.0.4)\n",
      "Requirement already satisfied: idna<4,>=2.5 in c:\\users\\fiansyah\\anaconda3\\lib\\site-packages (from requests<3,>=2.21.0->tensorboard<2.10,>=2.9->tensorflow) (3.3)\n",
      "Requirement already satisfied: urllib3<1.27,>=1.21.1 in c:\\users\\fiansyah\\anaconda3\\lib\\site-packages (from requests<3,>=2.21.0->tensorboard<2.10,>=2.9->tensorflow) (1.26.7)\n",
      "Requirement already satisfied: certifi>=2017.4.17 in c:\\users\\fiansyah\\anaconda3\\lib\\site-packages (from requests<3,>=2.21.0->tensorboard<2.10,>=2.9->tensorflow) (2021.10.8)\n",
      "Requirement already satisfied: zipp>=0.5 in c:\\users\\fiansyah\\anaconda3\\lib\\site-packages (from importlib-metadata>=4.4->markdown>=2.6.8->tensorboard<2.10,>=2.9->tensorflow) (3.6.0)\n",
      "Requirement already satisfied: pyasn1<0.5.0,>=0.4.6 in c:\\users\\fiansyah\\anaconda3\\lib\\site-packages (from pyasn1-modules>=0.2.1->google-auth<3,>=1.6.3->tensorboard<2.10,>=2.9->tensorflow) (0.4.8)\n",
      "Requirement already satisfied: oauthlib>=3.0.0 in c:\\users\\fiansyah\\anaconda3\\lib\\site-packages (from requests-oauthlib>=0.7.0->google-auth-oauthlib<0.5,>=0.4.1->tensorboard<2.10,>=2.9->tensorflow) (3.2.0)\n",
      "Note: you may need to restart the kernel to use updated packages.\n"
     ]
    },
    {
     "name": "stderr",
     "output_type": "stream",
     "text": [
      "WARNING: You are using pip version 22.0.4; however, version 22.1.1 is available.\n",
      "You should consider upgrading via the 'C:\\Users\\fiansyah\\anaconda3\\python.exe -m pip install --upgrade pip' command.\n"
     ]
    },
    {
     "name": "stdout",
     "output_type": "stream",
     "text": [
      "Requirement already satisfied: keras in c:\\users\\fiansyah\\anaconda3\\lib\\site-packages (2.9.0)\n",
      "Note: you may need to restart the kernel to use updated packages.\n"
     ]
    },
    {
     "name": "stderr",
     "output_type": "stream",
     "text": [
      "WARNING: You are using pip version 22.0.4; however, version 22.1.1 is available.\n",
      "You should consider upgrading via the 'C:\\Users\\fiansyah\\anaconda3\\python.exe -m pip install --upgrade pip' command.\n"
     ]
    },
    {
     "name": "stdout",
     "output_type": "stream",
     "text": [
      "Requirement already satisfied: keras in c:\\users\\fiansyah\\anaconda3\\lib\\site-packages (2.9.0)\n",
      "Note: you may need to restart the kernel to use updated packages.\n"
     ]
    },
    {
     "name": "stderr",
     "output_type": "stream",
     "text": [
      "WARNING: You are using pip version 22.0.4; however, version 22.1.1 is available.\n",
      "You should consider upgrading via the 'C:\\Users\\fiansyah\\anaconda3\\python.exe -m pip install --upgrade pip' command.\n"
     ]
    },
    {
     "name": "stdout",
     "output_type": "stream",
     "text": [
      "Requirement already satisfied: flask_cors in c:\\users\\fiansyah\\anaconda3\\lib\\site-packages (3.0.10)\n",
      "Requirement already satisfied: Flask>=0.9 in c:\\users\\fiansyah\\anaconda3\\lib\\site-packages (from flask_cors) (1.1.2)\n",
      "Requirement already satisfied: Six in c:\\users\\fiansyah\\anaconda3\\lib\\site-packages (from flask_cors) (1.16.0)\n",
      "Requirement already satisfied: itsdangerous>=0.24 in c:\\users\\fiansyah\\anaconda3\\lib\\site-packages (from Flask>=0.9->flask_cors) (2.0.1)\n",
      "Requirement already satisfied: Jinja2>=2.10.1 in c:\\users\\fiansyah\\anaconda3\\lib\\site-packages (from Flask>=0.9->flask_cors) (2.11.3)\n",
      "Requirement already satisfied: Werkzeug>=0.15 in c:\\users\\fiansyah\\anaconda3\\lib\\site-packages (from Flask>=0.9->flask_cors) (2.0.2)\n",
      "Requirement already satisfied: click>=5.1 in c:\\users\\fiansyah\\anaconda3\\lib\\site-packages (from Flask>=0.9->flask_cors) (8.0.3)\n",
      "Requirement already satisfied: colorama in c:\\users\\fiansyah\\anaconda3\\lib\\site-packages (from click>=5.1->Flask>=0.9->flask_cors) (0.4.4)\n",
      "Requirement already satisfied: MarkupSafe>=0.23 in c:\\users\\fiansyah\\anaconda3\\lib\\site-packages (from Jinja2>=2.10.1->Flask>=0.9->flask_cors) (1.1.1)\n",
      "Note: you may need to restart the kernel to use updated packages.\n"
     ]
    },
    {
     "name": "stderr",
     "output_type": "stream",
     "text": [
      "WARNING: You are using pip version 22.0.4; however, version 22.1.1 is available.\n",
      "You should consider upgrading via the 'C:\\Users\\fiansyah\\anaconda3\\python.exe -m pip install --upgrade pip' command.\n"
     ]
    }
   ],
   "source": [
    "!python --version\n",
    "%pip install mutagen\n",
    "%pip install pydub\n",
    "%pip install noisereduce\n",
    "%pip install tensorflow\n",
    "%pip install keras\n",
    "%pip install keras\n",
    "%pip install flask_cors"
   ]
  },
  {
   "cell_type": "code",
   "execution_count": 2,
   "metadata": {
    "id": "mpyW6svkebBx"
   },
   "outputs": [
    {
     "name": "stderr",
     "output_type": "stream",
     "text": [
      "C:\\Users\\fiansyah\\anaconda3\\lib\\site-packages\\pydub\\utils.py:170: RuntimeWarning: Couldn't find ffmpeg or avconv - defaulting to ffmpeg, but may not work\n",
      "  warn(\"Couldn't find ffmpeg or avconv - defaulting to ffmpeg, but may not work\", RuntimeWarning)\n"
     ]
    }
   ],
   "source": [
    "import os\n",
    "import zipfile\n",
    "import random\n",
    "import shutil\n",
    "import tensorflow as tf\n",
    "import matplotlib.pyplot as plt\n",
    "import mutagen\n",
    "from tensorflow.keras.preprocessing.image import ImageDataGenerator\n",
    "from shutil import copyfile\n",
    "from mutagen.wave import WAVE\n",
    "from pydub import AudioSegment\n",
    "import matplotlib.pyplot as plt\n",
    "import librosa\n",
    "import numpy as np\n",
    "import librosa.display\n",
    "import os\n",
    "from tensorflow.keras import models\n",
    "from flask import Flask, request\n",
    "import cv2\n",
    "from tensorflow.keras.preprocessing.image import img_to_array\n",
    "import glob\n",
    "import librosa\n",
    "import numpy as np\n",
    "import librosa.display\n",
    "import subprocess\n",
    "from os import walk\n",
    "import csv\n",
    "import shutil\n",
    "from tensorflow.keras.layers import Embedding, Dense, LSTM, Bidirectional\n",
    "from keras.models import Sequential\n",
    "from keras.layers import Dense\n",
    "from keras.layers import LSTM\n",
    "from keras.layers import Dropout\n",
    "import  spectogram_only\n",
    "import split_voice"
   ]
  },
  {
   "cell_type": "code",
   "execution_count": null,
   "metadata": {},
   "outputs": [
    {
     "name": "stdout",
     "output_type": "stream",
     "text": [
      "Split sukses ke1\n",
      "Split sukses ke2\n",
      "Split sukses ke3\n",
      "Split sukses ke4\n",
      "Split sukses ke5\n",
      "Split sukses ke6\n",
      "Split sukses ke7\n",
      "Split sukses ke8\n",
      "Split sukses ke9\n",
      "Split sukses ke10\n",
      "Split sukses ke11\n",
      "Split sukses ke12\n",
      "Split sukses ke13\n",
      "Split sukses ke14\n",
      "Split sukses ke15\n",
      "Split sukses ke16\n",
      "Split sukses ke17\n",
      "Split sukses ke18\n",
      "Split sukses ke19\n",
      "Split sukses ke20\n",
      "Split sukses ke21\n",
      "Split sukses ke22\n",
      "Split sukses ke23\n",
      "Split sukses ke24\n",
      "Split sukses ke25\n",
      "Split sukses ke26\n",
      "Split sukses ke27\n",
      "Split sukses ke28\n",
      "Split sukses ke29\n",
      "Split sukses ke30\n",
      "Split sukses ke31\n",
      "Split sukses ke32\n",
      "Split sukses ke33\n",
      "Split sukses ke34\n",
      "Split sukses ke35\n",
      "Split sukses ke36\n",
      "Split sukses ke37\n",
      "Split sukses ke38\n",
      "Split sukses ke39\n",
      "Split sukses ke40\n",
      "Split sukses ke41\n",
      "Split sukses ke42\n",
      "Split sukses ke43\n",
      "Split sukses ke44\n",
      "Split sukses ke45\n",
      "Split sukses ke46\n",
      "Split sukses ke47\n",
      "Split sukses ke48\n",
      "Split sukses ke49\n",
      "Split sukses ke50\n",
      "Split sukses ke51\n",
      "Split sukses ke52\n",
      "Split sukses ke53\n",
      "Split sukses ke54\n",
      "Split sukses ke55\n",
      "Split sukses ke56\n",
      "Split sukses ke57\n",
      "Split sukses ke58\n",
      "Split sukses ke59\n",
      "Split sukses ke60\n",
      "Split sukses ke61\n",
      "Split sukses ke62\n",
      "Split sukses ke63\n",
      "Split sukses ke64\n",
      "Split sukses ke65\n",
      "Split sukses ke66\n",
      "Split sukses ke67\n",
      "Split sukses ke68\n",
      "Split sukses ke69\n",
      "Split sukses ke70\n",
      "Split sukses ke71\n",
      "Split sukses ke72\n",
      "Split sukses ke73\n",
      "Split sukses ke74\n",
      "Split sukses ke75\n",
      "Split sukses ke76\n",
      "Split sukses ke77\n",
      "Split sukses ke78\n",
      "Split sukses ke79\n",
      "Split sukses ke80\n",
      "Split sukses ke81\n",
      "Split sukses ke82\n",
      "Split sukses ke83\n",
      "Split sukses ke84\n",
      "Split sukses ke85\n",
      "Split sukses ke86\n",
      "Split sukses ke87\n",
      "Split sukses ke88\n",
      "Split sukses ke89\n",
      "Split sukses ke90\n",
      "Split sukses ke91\n",
      "Split sukses ke92\n",
      "Split sukses ke93\n",
      "Split sukses ke94\n",
      "Split sukses ke95\n",
      "Split sukses ke96\n",
      "Split sukses ke97\n",
      "Split sukses ke98\n",
      "Split sukses ke99\n",
      "Split sukses ke100\n",
      "Split sukses ke101\n",
      "Split sukses ke102\n",
      "Split sukses ke103\n",
      "Split sukses ke104\n",
      "Split sukses ke105\n",
      "Split sukses ke106\n",
      "Split sukses ke107\n",
      "Split sukses ke108\n",
      "Split sukses ke109\n",
      "Split sukses ke110\n",
      "Split sukses ke111\n",
      "Split sukses ke112\n",
      "Split sukses ke113\n",
      "Split sukses ke114\n",
      "Split sukses ke115\n",
      "Split sukses ke116\n",
      "Split sukses ke117\n",
      "Split sukses ke118\n",
      "Split sukses ke119\n",
      "Split sukses ke120\n",
      "Split sukses ke121\n",
      "Split sukses ke122\n",
      "Split sukses ke123\n",
      "Split sukses ke124\n",
      "Split sukses ke125\n",
      "Split sukses ke126\n",
      "Split sukses ke127\n",
      "Split sukses ke128\n",
      "Split sukses ke129\n",
      "Split sukses ke130\n",
      "Split sukses ke131\n",
      "Split sukses ke132\n",
      "Split sukses ke133\n",
      "Split sukses ke134\n",
      "Split sukses ke135\n",
      "Split sukses ke136\n",
      "Split sukses ke137\n",
      "Split sukses ke138\n",
      "Split sukses ke139\n",
      "Split sukses ke140\n",
      "Split sukses ke141\n",
      "Split sukses ke142\n",
      "Split sukses ke143\n",
      "Split sukses ke144\n",
      "Split sukses ke145\n",
      "Split sukses ke146\n",
      "Split sukses ke147\n",
      "Split sukses ke148\n",
      "Split sukses ke149\n",
      "Split sukses ke150\n",
      "Split sukses ke151\n",
      "Split sukses ke152\n",
      "Split sukses ke153\n",
      "Split sukses ke154\n",
      "Split sukses ke155\n",
      "Split sukses ke156\n",
      "Split sukses ke157\n",
      "Split sukses ke158\n",
      "Split sukses ke159\n",
      "Split sukses ke160\n",
      "Split sukses ke161\n",
      "Split sukses ke162\n",
      "Split sukses ke163\n",
      "Split sukses ke164\n",
      "Split sukses ke165\n",
      "Split sukses ke166\n",
      "Split sukses ke167\n",
      "Split sukses ke168\n",
      "Split sukses ke169\n",
      "Split sukses ke170\n",
      "Split sukses ke171\n",
      "Split sukses ke172\n",
      "Split sukses ke173\n",
      "Split sukses ke174\n"
     ]
    },
    {
     "name": "stderr",
     "output_type": "stream",
     "text": [
      "C:\\Users\\fiansyah\\anaconda3\\lib\\site-packages\\pydub\\utils.py:198: RuntimeWarning: Couldn't find ffprobe or avprobe - defaulting to ffprobe, but may not work\n",
      "  warn(\"Couldn't find ffprobe or avprobe - defaulting to ffprobe, but may not work\", RuntimeWarning)\n"
     ]
    },
    {
     "name": "stdout",
     "output_type": "stream",
     "text": [
      "Split gagal ke1\n",
      "Split sukses ke175\n",
      "Split sukses ke176\n",
      "Split sukses ke177\n",
      "Split sukses ke178\n",
      "Split sukses ke179\n",
      "Split sukses ke180\n",
      "Split sukses ke181\n",
      "Split sukses ke182\n",
      "Split sukses ke183\n",
      "Split sukses ke184\n",
      "Split sukses ke185\n",
      "Split sukses ke186\n",
      "Split sukses ke187\n",
      "Split sukses ke188\n",
      "Split sukses ke189\n",
      "Split sukses ke190\n",
      "Split sukses ke191\n",
      "Split sukses ke192\n",
      "Split sukses ke193\n",
      "Split sukses ke194\n",
      "Split sukses ke195\n",
      "Split sukses ke196\n",
      "Split sukses ke197\n",
      "Split sukses ke198\n",
      "Split sukses ke199\n",
      "Split sukses ke200\n",
      "Split sukses ke201\n",
      "Split sukses ke202\n",
      "Split sukses ke203\n",
      "Split sukses ke204\n",
      "Split sukses ke205\n",
      "Split sukses ke206\n",
      "Split sukses ke207\n",
      "Split sukses ke208\n",
      "Split sukses ke209\n",
      "Split sukses ke210\n",
      "Split sukses ke211\n",
      "Split sukses ke212\n",
      "Split sukses ke213\n",
      "Split sukses ke214\n",
      "Split sukses ke215\n",
      "Split sukses ke216\n",
      "Split sukses ke217\n",
      "Split sukses ke218\n",
      "Split sukses ke219\n",
      "Split sukses ke220\n",
      "Split sukses ke221\n",
      "Split sukses ke222\n",
      "Split sukses ke223\n",
      "Split sukses ke224\n",
      "Split sukses ke225\n",
      "Split sukses ke226\n",
      "Split sukses ke227\n",
      "Split sukses ke228\n",
      "Split sukses ke229\n",
      "Split sukses ke230\n",
      "Split sukses ke231\n",
      "Split sukses ke232\n",
      "Split sukses ke233\n",
      "Split sukses ke234\n",
      "Split sukses ke235\n",
      "Split sukses ke236\n",
      "Split sukses ke237\n",
      "Split sukses ke238\n",
      "Split sukses ke239\n",
      "Split sukses ke240\n",
      "Split sukses ke241\n",
      "Split sukses ke242\n",
      "Split sukses ke243\n",
      "Split sukses ke244\n",
      "Split sukses ke245\n",
      "Split sukses ke246\n",
      "Split sukses ke247\n",
      "Split sukses ke248\n",
      "Split sukses ke249\n",
      "Split sukses ke250\n",
      "Split sukses ke251\n",
      "Split sukses ke252\n",
      "Split sukses ke253\n",
      "Split sukses ke254\n",
      "Split sukses ke255\n",
      "Split sukses ke256\n",
      "Split sukses ke257\n",
      "Split sukses ke258\n",
      "Split sukses ke259\n",
      "Split sukses ke260\n",
      "Split sukses ke261\n",
      "Split sukses ke262\n",
      "Split sukses ke263\n",
      "Split sukses ke264\n",
      "Split sukses ke265\n",
      "Split sukses ke266\n",
      "Split sukses ke267\n",
      "Split sukses ke268\n",
      "Split sukses ke269\n",
      "Split sukses ke270\n",
      "Split sukses ke271\n",
      "Split sukses ke272\n",
      "Split sukses ke273\n",
      "Split sukses ke274\n",
      "Split sukses ke275\n",
      "Split sukses ke276\n",
      "Split sukses ke277\n",
      "Split sukses ke278\n",
      "Split sukses ke279\n",
      "Split sukses ke280\n",
      "Split sukses ke281\n",
      "Split sukses ke282\n",
      "Split sukses ke283\n",
      "Split sukses ke284\n",
      "Split sukses ke285\n",
      "Split sukses ke286\n",
      "Split sukses ke287\n",
      "Split sukses ke288\n",
      "Split sukses ke289\n",
      "Split sukses ke290\n",
      "Split sukses ke291\n",
      "Split sukses ke292\n",
      "Split sukses ke293\n",
      "Split sukses ke294\n",
      "Split sukses ke295\n",
      "Split sukses ke296\n",
      "Split sukses ke297\n",
      "Split sukses ke298\n",
      "Split sukses ke299\n",
      "Split sukses ke300\n",
      "Split sukses ke301\n",
      "Split sukses ke302\n",
      "Split sukses ke303\n",
      "Split sukses ke304\n",
      "Split sukses ke305\n",
      "Split sukses ke306\n",
      "Split sukses ke307\n",
      "Split sukses ke308\n",
      "Split sukses ke309\n",
      "Split sukses ke310\n",
      "Split sukses ke311\n",
      "Split sukses ke312\n",
      "Split sukses ke313\n",
      "Split sukses ke314\n",
      "Split sukses ke315\n",
      "Split sukses ke316\n",
      "Split sukses ke317\n",
      "Split sukses ke318\n",
      "Split sukses ke319\n",
      "Split sukses ke320\n",
      "Split sukses ke321\n",
      "Split sukses ke322\n",
      "Split sukses ke323\n",
      "Split sukses ke324\n",
      "Split sukses ke325\n",
      "Split sukses ke326\n",
      "Split sukses ke327\n",
      "Split sukses ke328\n",
      "Split sukses ke329\n",
      "Split sukses ke330\n",
      "Split sukses ke331\n",
      "Split sukses ke332\n",
      "Split sukses ke333\n",
      "Split sukses ke334\n",
      "Split sukses ke335\n",
      "Split sukses ke336\n",
      "Split sukses ke337\n",
      "Split sukses ke338\n",
      "Split sukses ke339\n",
      "Split sukses ke340\n",
      "Split sukses ke341\n",
      "Split sukses ke342\n",
      "Split sukses ke343\n",
      "Split sukses ke344\n",
      "Split sukses ke345\n",
      "Split sukses ke346\n",
      "Split sukses ke347\n",
      "Split sukses ke348\n",
      "Split sukses ke349\n",
      "Split sukses ke350\n",
      "Split sukses ke351\n",
      "Split sukses ke352\n",
      "Split sukses ke353\n",
      "Split sukses ke354\n",
      "Split sukses ke355\n",
      "Split sukses ke356\n",
      "Split sukses ke357\n",
      "Split sukses ke358\n",
      "Split gagal ke2\n",
      "Split sukses ke359\n",
      "Split sukses ke360\n",
      "Split gagal ke3\n",
      "Split sukses ke361\n",
      "Split sukses ke362\n",
      "Split sukses ke363\n",
      "Split gagal ke4\n",
      "Split sukses ke364\n",
      "Split sukses ke365\n",
      "Split sukses ke366\n",
      "Split sukses ke367\n",
      "Split sukses ke368\n",
      "Split sukses ke369\n",
      "Split sukses ke370\n",
      "Split sukses ke371\n",
      "Split sukses ke372\n",
      "Split sukses ke373\n",
      "Split sukses ke374\n",
      "Split sukses ke375\n",
      "Split sukses ke376\n",
      "Split sukses ke377\n",
      "Split sukses ke378\n",
      "Split sukses ke379\n",
      "Split gagal ke5\n",
      "Split sukses ke380\n",
      "Split sukses ke381\n",
      "Split sukses ke382\n",
      "Split gagal ke6\n",
      "Split sukses ke383\n",
      "Split sukses ke384\n",
      "Split sukses ke385\n",
      "Split sukses ke386\n",
      "Split gagal ke7\n",
      "Split sukses ke387\n",
      "Split sukses ke388\n",
      "Split sukses ke389\n",
      "Split gagal ke8\n",
      "Split sukses ke390\n",
      "Split sukses ke391\n",
      "Split sukses ke392\n",
      "Split sukses ke393\n",
      "Split sukses ke394\n",
      "Split sukses ke395\n",
      "Split sukses ke396\n",
      "Split sukses ke397\n",
      "Split sukses ke398\n",
      "Split sukses ke399\n",
      "Split sukses ke400\n",
      "Split sukses ke401\n",
      "Split sukses ke402\n",
      "Split sukses ke403\n",
      "Split sukses ke404\n",
      "Split sukses ke405\n",
      "Split sukses ke406\n",
      "Split sukses ke407\n",
      "Split sukses ke408\n",
      "Split sukses ke409\n",
      "Split sukses ke410\n",
      "Split gagal ke9\n",
      "Split sukses ke411\n",
      "Split sukses ke412\n",
      "Split sukses ke413\n",
      "Split sukses ke414\n",
      "Split sukses ke415\n",
      "Split sukses ke416\n",
      "Split sukses ke417\n",
      "Split sukses ke418\n",
      "Split sukses ke419\n",
      "Split sukses ke420\n",
      "Split sukses ke421\n",
      "Split sukses ke422\n",
      "Split sukses ke423\n",
      "Split sukses ke424\n",
      "Split sukses ke425\n",
      "Split sukses ke426\n",
      "Split sukses ke427\n",
      "Split sukses ke428\n",
      "Split sukses ke429\n",
      "Split sukses ke430\n",
      "Split sukses ke431\n",
      "Split sukses ke432\n",
      "Split sukses ke433\n",
      "Split sukses ke434\n",
      "Split gagal ke10\n",
      "Split sukses ke435\n",
      "Split sukses ke436\n",
      "Split sukses ke437\n",
      "Split sukses ke438\n",
      "Split sukses ke439\n",
      "Split sukses ke440\n",
      "Split gagal ke11\n",
      "Split sukses ke441\n",
      "Split sukses ke442\n",
      "Split sukses ke443\n",
      "Split sukses ke444\n",
      "Split sukses ke445\n",
      "Split sukses ke446\n",
      "Split sukses ke447\n",
      "Split sukses ke448\n",
      "Split sukses ke449\n",
      "Split sukses ke450\n",
      "Split sukses ke451\n",
      "Split sukses ke452\n",
      "Split sukses ke453\n",
      "Split sukses ke454\n",
      "Split sukses ke455\n",
      "Split sukses ke456\n",
      "Split sukses ke457\n",
      "Split sukses ke458\n",
      "Split sukses ke459\n",
      "Split sukses ke460\n",
      "Split sukses ke461\n",
      "Split sukses ke462\n",
      "Split sukses ke463\n",
      "Split sukses ke464\n",
      "Split sukses ke465\n",
      "Split sukses ke466\n",
      "Split sukses ke467\n",
      "Split sukses ke468\n",
      "Split gagal ke12\n",
      "Split sukses ke469\n",
      "Split sukses ke470\n",
      "Split sukses ke471\n",
      "Split gagal ke13\n",
      "Split sukses ke472\n",
      "Split sukses ke473\n",
      "Split sukses ke474\n",
      "Split sukses ke475\n",
      "Split sukses ke476\n",
      "Split sukses ke477\n",
      "Split sukses ke478\n",
      "Split sukses ke479\n",
      "Split sukses ke480\n",
      "Split sukses ke481\n",
      "Split sukses ke482\n",
      "Split sukses ke483\n",
      "Split sukses ke484\n",
      "Split sukses ke485\n",
      "Split sukses ke486\n",
      "Split sukses ke487\n",
      "Split sukses ke488\n",
      "Split gagal ke14\n",
      "Split sukses ke489\n",
      "Split sukses ke490\n",
      "Split sukses ke491\n",
      "Split gagal ke15\n",
      "Split gagal ke16\n",
      "Split sukses ke492\n",
      "Split sukses ke493\n",
      "Split gagal ke17\n",
      "Split sukses ke494\n",
      "Split sukses ke495\n",
      "Split gagal ke18\n",
      "Split sukses ke496\n",
      "Split sukses ke497\n",
      "Split sukses ke498\n",
      "Split sukses ke499\n",
      "Split sukses ke500\n",
      "Split sukses ke501\n",
      "Split sukses ke502\n",
      "Split sukses ke503\n",
      "Split sukses ke504\n",
      "Split gagal ke19\n",
      "Split sukses ke505\n",
      "Split sukses ke506\n",
      "Split sukses ke507\n",
      "Split sukses ke508\n",
      "Split sukses ke509\n",
      "Split sukses ke510\n",
      "Split sukses ke511\n",
      "Split sukses ke512\n",
      "Split sukses ke513\n",
      "Split sukses ke514\n",
      "Split sukses ke515\n",
      "Split sukses ke516\n",
      "Split sukses ke517\n",
      "Split sukses ke518\n",
      "Split sukses ke519\n",
      "Split gagal ke20\n",
      "Split gagal ke21\n",
      "Split sukses ke520\n",
      "Split sukses ke521\n",
      "Split sukses ke522\n",
      "Split sukses ke523\n",
      "Split sukses ke524\n",
      "Split sukses ke525\n",
      "Split sukses ke526\n",
      "Split sukses ke527\n",
      "Split sukses ke528\n",
      "Split sukses ke529\n",
      "Split sukses ke530\n",
      "Split sukses ke531\n",
      "Split sukses ke532\n",
      "Split sukses ke533\n",
      "Split sukses ke534\n",
      "Split sukses ke535\n",
      "Split sukses ke536\n",
      "Split sukses ke537\n",
      "Split sukses ke538\n",
      "Split sukses ke539\n",
      "Split sukses ke540\n",
      "Split sukses ke541\n",
      "Split sukses ke542\n",
      "Split sukses ke543\n",
      "Split sukses ke544\n",
      "Split sukses ke545\n",
      "Split sukses ke546\n",
      "Split sukses ke547\n",
      "Split sukses ke548\n",
      "Split sukses ke549\n",
      "Split sukses ke550\n",
      "Split sukses ke551\n",
      "Split sukses ke552\n",
      "Split sukses ke553\n",
      "Split sukses ke554\n",
      "Split sukses ke555\n",
      "Split sukses ke556\n",
      "Split sukses ke557\n",
      "Split sukses ke558\n",
      "Split sukses ke559\n",
      "Split sukses ke560\n",
      "Split sukses ke561\n",
      "Split sukses ke562\n",
      "Split sukses ke563\n",
      "Split sukses ke564\n",
      "Split sukses ke565\n",
      "Split sukses ke566\n",
      "Split sukses ke567\n",
      "Split sukses ke568\n",
      "Split sukses ke569\n",
      "Split sukses ke570\n",
      "Split sukses ke571\n",
      "Split sukses ke572\n",
      "Split sukses ke573\n",
      "Split sukses ke574\n",
      "Split sukses ke575\n",
      "Split sukses ke576\n",
      "Split sukses ke577\n",
      "Split sukses ke578\n",
      "Split sukses ke579\n",
      "Split sukses ke580\n",
      "Split sukses ke581\n",
      "Split sukses ke582\n",
      "Split sukses ke583\n",
      "Split sukses ke584\n",
      "Split sukses ke585\n",
      "Split sukses ke586\n",
      "Split sukses ke587\n",
      "Split sukses ke588\n",
      "Split sukses ke589\n",
      "Split sukses ke590\n"
     ]
    },
    {
     "name": "stdout",
     "output_type": "stream",
     "text": [
      "Split sukses ke591\n",
      "Split sukses ke592\n",
      "Split sukses ke593\n",
      "Split sukses ke594\n",
      "Split sukses ke595\n",
      "Split sukses ke596\n",
      "Split sukses ke597\n",
      "Split sukses ke598\n",
      "Split sukses ke599\n",
      "Split sukses ke600\n",
      "Split sukses ke601\n",
      "Split sukses ke602\n",
      "Split sukses ke603\n",
      "Split sukses ke604\n",
      "Split sukses ke605\n",
      "Split sukses ke606\n",
      "Split sukses ke607\n",
      "Split sukses ke608\n",
      "Split sukses ke609\n",
      "Split sukses ke610\n",
      "Split sukses ke611\n",
      "Split sukses ke612\n",
      "Split sukses ke613\n",
      "Split sukses ke614\n",
      "Split sukses ke615\n",
      "Split sukses ke616\n",
      "Split sukses ke617\n",
      "Split sukses ke618\n",
      "Split sukses ke619\n",
      "Split sukses ke620\n",
      "Split sukses ke621\n",
      "Split sukses ke622\n",
      "Split sukses ke623\n",
      "Split sukses ke624\n",
      "Split sukses ke625\n",
      "Split sukses ke626\n",
      "Split sukses ke627\n",
      "Split sukses ke628\n",
      "Split sukses ke629\n",
      "Split sukses ke630\n",
      "Split sukses ke631\n",
      "Split sukses ke632\n",
      "Split sukses ke633\n",
      "Split sukses ke634\n",
      "Split sukses ke635\n",
      "Split sukses ke636\n",
      "Split sukses ke637\n",
      "Split sukses ke638\n",
      "Split sukses ke639\n",
      "Split sukses ke640\n",
      "Split sukses ke641\n",
      "Split sukses ke642\n",
      "Split sukses ke643\n",
      "Split sukses ke644\n",
      "Split sukses ke645\n",
      "Split sukses ke646\n",
      "Split sukses ke647\n",
      "Split sukses ke648\n",
      "Split sukses ke649\n",
      "Split sukses ke650\n",
      "Split sukses ke651\n",
      "Split sukses ke652\n",
      "Split sukses ke653\n",
      "Split sukses ke654\n",
      "Split sukses ke655\n",
      "Split sukses ke656\n",
      "Split sukses ke657\n",
      "Split sukses ke658\n",
      "Split sukses ke659\n",
      "Split sukses ke660\n",
      "Split sukses ke661\n",
      "Split sukses ke662\n",
      "Split sukses ke663\n",
      "Split sukses ke664\n",
      "Split sukses ke665\n",
      "Split sukses ke666\n",
      "Split sukses ke667\n",
      "Split sukses ke668\n",
      "Split sukses ke669\n",
      "Split sukses ke670\n",
      "Split sukses ke671\n",
      "Split sukses ke672\n",
      "Split sukses ke673\n",
      "Split sukses ke674\n",
      "Split sukses ke675\n",
      "Split sukses ke676\n",
      "Split sukses ke677\n",
      "Split sukses ke678\n",
      "Split sukses ke679\n",
      "Split sukses ke680\n",
      "Split sukses ke681\n",
      "Split sukses ke682\n",
      "Split sukses ke683\n",
      "Split sukses ke684\n",
      "Split sukses ke685\n",
      "Split sukses ke686\n",
      "Split sukses ke687\n",
      "Split sukses ke688\n",
      "Split sukses ke689\n",
      "Split sukses ke690\n",
      "Split sukses ke691\n",
      "Split sukses ke692\n",
      "Split sukses ke693\n",
      "Split sukses ke694\n",
      "Split sukses ke695\n",
      "Split sukses ke696\n",
      "Split sukses ke697\n",
      "Split sukses ke698\n",
      "Split sukses ke699\n",
      "Split sukses ke700\n",
      "Split sukses ke701\n",
      "Split sukses ke702\n",
      "Split sukses ke703\n",
      "Split sukses ke704\n",
      "Split sukses ke705\n",
      "Split sukses ke706\n",
      "Split sukses ke707\n",
      "Split sukses ke708\n",
      "Split sukses ke709\n",
      "Split sukses ke710\n",
      "Split sukses ke711\n",
      "Split sukses ke712\n",
      "Split sukses ke713\n",
      "Split gagal ke22\n",
      "Split sukses ke714\n",
      "Split sukses ke715\n",
      "Split sukses ke716\n",
      "Split sukses ke717\n",
      "Split sukses ke718\n",
      "Split sukses ke719\n",
      "Split sukses ke720\n",
      "Split gagal ke23\n",
      "Split sukses ke721\n",
      "Split sukses ke722\n",
      "Split sukses ke723\n",
      "Split sukses ke724\n",
      "Split sukses ke725\n",
      "Split sukses ke726\n",
      "Split sukses ke727\n",
      "Split gagal ke24\n",
      "Split sukses ke728\n",
      "Split gagal ke25\n",
      "Split sukses ke729\n",
      "Split sukses ke730\n",
      "Split sukses ke731\n",
      "Split sukses ke732\n",
      "Split sukses ke733\n",
      "Split gagal ke26\n",
      "Split sukses ke734\n",
      "Split sukses ke735\n",
      "Split sukses ke736\n",
      "Split sukses ke737\n",
      "Split sukses ke738\n",
      "Split gagal ke27\n",
      "Split sukses ke739\n",
      "Split sukses ke740\n",
      "Split gagal ke28\n",
      "Split sukses ke741\n",
      "Split gagal ke29\n",
      "Split sukses ke742\n",
      "Split sukses ke743\n",
      "Split sukses ke744\n",
      "Split gagal ke30\n",
      "Split gagal ke31\n",
      "Split sukses ke745\n",
      "Split sukses ke746\n",
      "Split sukses ke747\n",
      "Split sukses ke748\n",
      "Split sukses ke749\n",
      "Split gagal ke32\n",
      "Split sukses ke750\n",
      "Split sukses ke751\n",
      "Split sukses ke752\n",
      "Split sukses ke753\n",
      "Split sukses ke754\n",
      "Split sukses ke755\n",
      "Split sukses ke756\n",
      "Split gagal ke33\n",
      "Split gagal ke34\n",
      "Split sukses ke757\n",
      "Split gagal ke35\n",
      "Split sukses ke758\n",
      "Split sukses ke759\n",
      "Split gagal ke36\n",
      "Split sukses ke760\n",
      "Split gagal ke37\n",
      "Split sukses ke761\n",
      "Split gagal ke38\n",
      "Split sukses ke762\n",
      "Split sukses ke763\n",
      "Split sukses ke764\n",
      "Split sukses ke765\n",
      "Split sukses ke766\n",
      "Split sukses ke767\n",
      "Split sukses ke768\n",
      "Split sukses ke769\n",
      "Split sukses ke770\n",
      "Split sukses ke771\n",
      "Split sukses ke772\n",
      "Split gagal ke39\n",
      "Split gagal ke40\n",
      "Split sukses ke773\n",
      "Split sukses ke774\n",
      "Split gagal ke41\n",
      "Split sukses ke775\n",
      "Split sukses ke776\n",
      "Split gagal ke42\n",
      "Split sukses ke777\n",
      "Split sukses ke778\n",
      "Split sukses ke779\n",
      "Split sukses ke780\n",
      "Split sukses ke781\n",
      "Split sukses ke782\n",
      "Split sukses ke783\n",
      "Split sukses ke784\n",
      "Split sukses ke785\n",
      "Split sukses ke786\n",
      "Split sukses ke787\n",
      "Split gagal ke43\n",
      "Split sukses ke788\n",
      "Split sukses ke789\n",
      "Split sukses ke790\n",
      "Split sukses ke791\n",
      "Split sukses ke792\n",
      "Split gagal ke44\n",
      "Split sukses ke793\n",
      "Split sukses ke794\n",
      "Split sukses ke795\n",
      "Split sukses ke796\n",
      "Split gagal ke45\n",
      "Split sukses ke797\n",
      "Split sukses ke798\n",
      "Split sukses ke799\n",
      "Split sukses ke800\n",
      "Split gagal ke46\n",
      "Split sukses ke801\n",
      "Split gagal ke47\n",
      "Split sukses ke802\n",
      "Split sukses ke803\n",
      "Split sukses ke804\n",
      "Split sukses ke805\n",
      "Split sukses ke806\n",
      "Split sukses ke807\n",
      "Split sukses ke808\n",
      "Split gagal ke48\n",
      "Split gagal ke49\n",
      "Split gagal ke50\n",
      "Split sukses ke809\n",
      "Split sukses ke810\n",
      "Split sukses ke811\n",
      "Split sukses ke812\n",
      "Split sukses ke813\n",
      "Split sukses ke814\n",
      "Split sukses ke815\n",
      "Split sukses ke816\n",
      "Split gagal ke51\n",
      "Split sukses ke817\n",
      "Split sukses ke818\n",
      "Split sukses ke819\n",
      "Split sukses ke820\n",
      "Split sukses ke821\n",
      "Split gagal ke52\n",
      "Split sukses ke822\n",
      "Split sukses ke823\n",
      "Split sukses ke824\n",
      "Split sukses ke825\n",
      "Split sukses ke826\n",
      "Split sukses ke827\n",
      "Split sukses ke828\n",
      "Split gagal ke53\n",
      "Split sukses ke829\n",
      "Split sukses ke830\n",
      "Split sukses ke831\n",
      "Split sukses ke832\n",
      "Split sukses ke833\n",
      "Split sukses ke834\n",
      "Split sukses ke835\n",
      "Split sukses ke836\n",
      "Split sukses ke837\n",
      "Split gagal ke54\n",
      "Split gagal ke55\n",
      "Split sukses ke838\n",
      "Split sukses ke839\n",
      "Split sukses ke840\n",
      "Split sukses ke841\n",
      "Split gagal ke56\n",
      "Split sukses ke842\n",
      "Split sukses ke843\n",
      "Split sukses ke844\n",
      "Split sukses ke845\n",
      "Split sukses ke846\n",
      "Split gagal ke57\n",
      "Split gagal ke58\n",
      "Split gagal ke59\n",
      "Split sukses ke847\n",
      "Split sukses ke848\n",
      "Split sukses ke849\n",
      "Split sukses ke850\n",
      "Split gagal ke60\n",
      "Split sukses ke851\n",
      "Split gagal ke61\n",
      "Split gagal ke62\n",
      "Split gagal ke63\n",
      "Split sukses ke852\n",
      "Split sukses ke853\n",
      "Split sukses ke854\n",
      "Split sukses ke855\n",
      "Split gagal ke64\n",
      "Split sukses ke856\n",
      "Split sukses ke857\n",
      "Split sukses ke858\n",
      "Split gagal ke65\n",
      "Split sukses ke859\n",
      "Split sukses ke860\n",
      "Split gagal ke66\n",
      "Split sukses ke861\n",
      "Split sukses ke862\n",
      "Split sukses ke863\n",
      "Split gagal ke67\n",
      "Split gagal ke68\n",
      "Split sukses ke864\n",
      "Split sukses ke865\n",
      "Split sukses ke866\n",
      "Split sukses ke867\n",
      "Split sukses ke868\n",
      "Split sukses ke869\n",
      "Split sukses ke870\n",
      "Split sukses ke871\n",
      "Split sukses ke872\n",
      "Split sukses ke873\n",
      "Split sukses ke874\n",
      "Split sukses ke875\n",
      "Split sukses ke876\n",
      "Split sukses ke877\n",
      "Split sukses ke878\n",
      "Split sukses ke879\n",
      "Split sukses ke880\n",
      "Split sukses ke881\n",
      "Split sukses ke882\n",
      "Split sukses ke883\n",
      "Split sukses ke884\n",
      "Split sukses ke885\n",
      "Split sukses ke886\n",
      "Split sukses ke887\n",
      "Split sukses ke888\n",
      "Split sukses ke889\n",
      "Split sukses ke890\n",
      "Split sukses ke891\n",
      "Split sukses ke892\n",
      "Split sukses ke893\n",
      "Split sukses ke894\n",
      "Split sukses ke895\n",
      "Split sukses ke896\n",
      "Split sukses ke897\n",
      "Split sukses ke898\n",
      "Split sukses ke899\n",
      "Split sukses ke900\n",
      "Split sukses ke901\n",
      "Split sukses ke902\n",
      "Split sukses ke903\n",
      "Split sukses ke904\n",
      "Split sukses ke905\n",
      "Split sukses ke906\n",
      "Split sukses ke907\n",
      "Split sukses ke908\n",
      "Split sukses ke909\n",
      "Split sukses ke910\n",
      "Split sukses ke911\n",
      "Split sukses ke912\n",
      "Split sukses ke913\n",
      "Split sukses ke914\n",
      "Split sukses ke915\n",
      "Split sukses ke916\n",
      "Split sukses ke917\n",
      "Split sukses ke918\n",
      "Split sukses ke919\n",
      "Split sukses ke920\n",
      "Split sukses ke921\n",
      "Split sukses ke922\n",
      "Split sukses ke923\n",
      "Split sukses ke924\n",
      "Split sukses ke925\n",
      "Split sukses ke926\n",
      "Split sukses ke927\n",
      "Split sukses ke928\n",
      "Split sukses ke929\n",
      "Split sukses ke930\n",
      "Split sukses ke931\n",
      "Split sukses ke932\n",
      "Split sukses ke933\n",
      "Split sukses ke934\n",
      "Split sukses ke935\n",
      "Split sukses ke936\n",
      "Split sukses ke937\n",
      "Split sukses ke938\n",
      "Split sukses ke939\n",
      "Split sukses ke940\n",
      "Split sukses ke941\n",
      "Split sukses ke942\n",
      "Split sukses ke943\n",
      "Split sukses ke944\n",
      "Split sukses ke945\n",
      "Split sukses ke946\n",
      "Split sukses ke947\n",
      "Split sukses ke948\n",
      "Split sukses ke949\n",
      "Split sukses ke950\n",
      "Split sukses ke951\n",
      "Split sukses ke952\n",
      "Split sukses ke953\n",
      "Split sukses ke954\n",
      "Split sukses ke955\n",
      "Split sukses ke956\n",
      "Split sukses ke957\n",
      "Split sukses ke958\n",
      "Split sukses ke959\n",
      "Split sukses ke960\n",
      "Split sukses ke961\n",
      "Split sukses ke962\n",
      "Split sukses ke963\n",
      "Split sukses ke964\n",
      "Split sukses ke965\n",
      "Split sukses ke966\n",
      "Split sukses ke967\n",
      "Split sukses ke968\n",
      "Split sukses ke969\n",
      "Split sukses ke970\n",
      "Split sukses ke971\n",
      "Split sukses ke972\n",
      "Split sukses ke973\n",
      "Split sukses ke974\n",
      "Split sukses ke975\n",
      "Split sukses ke976\n",
      "Split sukses ke977\n",
      "Split sukses ke978\n",
      "Split sukses ke979\n",
      "Split sukses ke980\n",
      "Split sukses ke981\n"
     ]
    },
    {
     "name": "stdout",
     "output_type": "stream",
     "text": [
      "Split sukses ke982\n",
      "Split sukses ke983\n",
      "Split sukses ke984\n",
      "Split sukses ke985\n",
      "Split sukses ke986\n",
      "Split sukses ke987\n",
      "Split sukses ke988\n",
      "Split sukses ke989\n",
      "Split sukses ke990\n",
      "Split sukses ke991\n",
      "Split sukses ke992\n",
      "Split sukses ke993\n",
      "Split sukses ke994\n",
      "Split sukses ke995\n",
      "Split sukses ke996\n",
      "Split sukses ke997\n",
      "Split sukses ke998\n",
      "Split sukses ke999\n",
      "Split sukses ke1000\n",
      "Split sukses ke1001\n",
      "Split sukses ke1002\n",
      "Split sukses ke1003\n",
      "Split sukses ke1004\n",
      "Split sukses ke1005\n",
      "Split sukses ke1006\n",
      "Split sukses ke1007\n",
      "Split sukses ke1008\n",
      "Split sukses ke1009\n",
      "Split sukses ke1010\n",
      "Split sukses ke1011\n",
      "Split sukses ke1012\n",
      "Split sukses ke1013\n",
      "Split sukses ke1014\n",
      "Split sukses ke1015\n",
      "Split sukses ke1016\n",
      "Split sukses ke1017\n",
      "Split sukses ke1018\n",
      "Split sukses ke1019\n",
      "Split sukses ke1020\n",
      "Split sukses ke1021\n",
      "Split sukses ke1022\n",
      "Split sukses ke1023\n",
      "Split sukses ke1024\n",
      "Split sukses ke1025\n",
      "Split sukses ke1026\n",
      "Split sukses ke1027\n",
      "Split sukses ke1028\n",
      "Split sukses ke1029\n",
      "Split sukses ke1030\n",
      "Split sukses ke1031\n",
      "Split sukses ke1032\n",
      "Split sukses ke1033\n",
      "Split sukses ke1034\n",
      "Split sukses ke1035\n",
      "Split sukses ke1036\n",
      "Split sukses ke1037\n",
      "Split sukses ke1038\n",
      "Split sukses ke1039\n",
      "Split sukses ke1040\n",
      "Split sukses ke1041\n",
      "Split sukses ke1042\n",
      "Split sukses ke1043\n",
      "Split sukses ke1044\n",
      "Split sukses ke1045\n",
      "Split sukses ke1046\n",
      "Split sukses ke1047\n",
      "Split sukses ke1048\n",
      "Split sukses ke1049\n",
      "Split sukses ke1050\n",
      "Split sukses ke1051\n",
      "Split sukses ke1052\n",
      "Split sukses ke1053\n",
      "Split sukses ke1054\n",
      "Split sukses ke1055\n",
      "Split sukses ke1056\n",
      "Split sukses ke1057\n",
      "Split sukses ke1058\n",
      "Split sukses ke1059\n",
      "Split sukses ke1060\n",
      "Split sukses ke1061\n",
      "Split sukses ke1062\n",
      "Split sukses ke1063\n",
      "Split sukses ke1064\n",
      "Split sukses ke1065\n",
      "Split sukses ke1066\n",
      "Split sukses ke1067\n",
      "Split sukses ke1068\n",
      "Split sukses ke1069\n",
      "Split sukses ke1070\n",
      "Split sukses ke1071\n",
      "Split sukses ke1072\n",
      "Split sukses ke1073\n",
      "Split sukses ke1074\n",
      "Split sukses ke1075\n",
      "Split sukses ke1076\n",
      "Split sukses ke1077\n",
      "Split sukses ke1078\n",
      "Split sukses ke1079\n",
      "Split sukses ke1080\n",
      "Split sukses ke1081\n",
      "Split sukses ke1082\n",
      "Split sukses ke1083\n",
      "Split sukses ke1084\n",
      "Split sukses ke1085\n",
      "Split sukses ke1086\n",
      "Split sukses ke1087\n",
      "Split sukses ke1088\n",
      "Split sukses ke1089\n",
      "Split sukses ke1090\n",
      "Split sukses ke1091\n",
      "Split sukses ke1092\n",
      "Split sukses ke1093\n",
      "Split sukses ke1094\n",
      "Split sukses ke1095\n",
      "Split sukses ke1096\n",
      "Split sukses ke1097\n",
      "Split sukses ke1098\n",
      "Split sukses ke1099\n",
      "Split sukses ke1100\n",
      "Split sukses ke1101\n",
      "Split sukses ke1102\n",
      "Split sukses ke1103\n",
      "Split sukses ke1104\n",
      "Split sukses ke1105\n",
      "Split sukses ke1106\n",
      "Split sukses ke1107\n",
      "Split sukses ke1108\n",
      "Split sukses ke1109\n",
      "Split sukses ke1110\n",
      "Split sukses ke1111\n",
      "Split sukses ke1112\n",
      "Split sukses ke1113\n",
      "Split sukses ke1114\n",
      "Split sukses ke1115\n",
      "Split sukses ke1116\n",
      "Split sukses ke1117\n",
      "Split sukses ke1118\n",
      "Split sukses ke1119\n",
      "Split sukses ke1120\n",
      "Split sukses ke1121\n",
      "Split sukses ke1122\n",
      "Split sukses ke1123\n",
      "Split sukses ke1124\n",
      "Split sukses ke1125\n",
      "Split sukses ke1126\n",
      "Split sukses ke1127\n",
      "Split sukses ke1128\n",
      "Split sukses ke1129\n",
      "Split sukses ke1130\n",
      "Split sukses ke1131\n",
      "Split sukses ke1132\n",
      "Split sukses ke1133\n",
      "Split sukses ke1134\n",
      "Split sukses ke1135\n",
      "Split sukses ke1136\n",
      "Split sukses ke1137\n",
      "Split sukses ke1138\n",
      "Split sukses ke1139\n",
      "Split sukses ke1140\n",
      "Split sukses ke1141\n",
      "Split sukses ke1142\n",
      "Split sukses ke1143\n",
      "Split sukses ke1144\n",
      "Split sukses ke1145\n",
      "Split sukses ke1146\n",
      "Split sukses ke1147\n",
      "Split sukses ke1148\n",
      "Split sukses ke1149\n",
      "Split sukses ke1150\n",
      "Split sukses ke1151\n",
      "Split sukses ke1152\n",
      "Split sukses ke1153\n",
      "Split sukses ke1154\n",
      "Split sukses ke1155\n",
      "Split sukses ke1156\n",
      "Split sukses ke1157\n",
      "Split sukses ke1158\n",
      "Split sukses ke1159\n",
      "Split sukses ke1160\n",
      "Split sukses ke1161\n",
      "Split sukses ke1162\n",
      "Split sukses ke1163\n",
      "Split sukses ke1164\n",
      "Split sukses ke1165\n",
      "Split sukses ke1166\n",
      "Split sukses ke1167\n",
      "Split sukses ke1168\n",
      "Split sukses ke1169\n",
      "Split sukses ke1170\n",
      "Split sukses ke1171\n",
      "Split sukses ke1172\n",
      "Split sukses ke1173\n",
      "Split sukses ke1174\n",
      "Split sukses ke1175\n",
      "Split sukses ke1176\n",
      "Split sukses ke1177\n",
      "Split sukses ke1178\n",
      "Split sukses ke1179\n",
      "Split sukses ke1180\n",
      "Split sukses ke1181\n",
      "Split sukses ke1182\n",
      "Split sukses ke1183\n",
      "Split sukses ke1184\n",
      "Split sukses ke1185\n",
      "Split sukses ke1186\n",
      "Split sukses ke1187\n",
      "Split sukses ke1188\n",
      "Split sukses ke1189\n",
      "Split sukses ke1190\n",
      "Split sukses ke1191\n",
      "Split sukses ke1192\n",
      "Split sukses ke1193\n",
      "Split sukses ke1194\n",
      "Split sukses ke1195\n",
      "Split sukses ke1196\n",
      "Split sukses ke1197\n",
      "Split sukses ke1198\n",
      "Split sukses ke1199\n",
      "Split sukses ke1200\n",
      "Split sukses ke1201\n",
      "Split sukses ke1202\n",
      "Split sukses ke1203\n",
      "Split sukses ke1204\n",
      "Split sukses ke1205\n",
      "Split sukses ke1206\n",
      "Split sukses ke1207\n",
      "Split sukses ke1208\n",
      "Split sukses ke1209\n",
      "Split sukses ke1210\n",
      "Split sukses ke1211\n",
      "Split sukses ke1212\n",
      "Split sukses ke1213\n",
      "Split sukses ke1214\n",
      "Split sukses ke1215\n",
      "Split sukses ke1216\n",
      "Split sukses ke1217\n",
      "Split sukses ke1218\n",
      "Split sukses ke1219\n",
      "Split sukses ke1220\n",
      "Split sukses ke1221\n",
      "Split sukses ke1222\n",
      "Split sukses ke1223\n",
      "Split sukses ke1224\n",
      "Split sukses ke1225\n",
      "Split sukses ke1226\n",
      "Split sukses ke1227\n",
      "Split sukses ke1228\n",
      "Split sukses ke1229\n",
      "Split sukses ke1230\n",
      "Split sukses ke1231\n",
      "Split sukses ke1232\n",
      "Split sukses ke1233\n",
      "Split sukses ke1234\n",
      "Split sukses ke1235\n",
      "Split sukses ke1236\n",
      "Split sukses ke1237\n",
      "Split sukses ke1238\n",
      "Split sukses ke1239\n",
      "Split sukses ke1240\n",
      "Split sukses ke1241\n",
      "Split sukses ke1242\n",
      "Split sukses ke1243\n",
      "Split sukses ke1244\n",
      "Split sukses ke1245\n",
      "Split sukses ke1246\n",
      "Split sukses ke1247\n",
      "Split sukses ke1248\n",
      "Split sukses ke1249\n",
      "Split sukses ke1250\n",
      "Split sukses ke1251\n",
      "Split sukses ke1252\n",
      "Split sukses ke1253\n",
      "Split sukses ke1254\n",
      "Split sukses ke1255\n",
      "Split sukses ke1256\n",
      "Split sukses ke1257\n",
      "Split sukses ke1258\n",
      "Split sukses ke1259\n",
      "Split sukses ke1260\n",
      "Split sukses ke1261\n",
      "Split sukses ke1262\n",
      "Split sukses ke1263\n",
      "Split sukses ke1264\n",
      "Split sukses ke1265\n",
      "Split sukses ke1266\n",
      "Split sukses ke1267\n",
      "Split sukses ke1268\n",
      "Split sukses ke1269\n",
      "Split sukses ke1270\n",
      "Split sukses ke1271\n",
      "Split sukses ke1272\n",
      "Split sukses ke1273\n",
      "Split sukses ke1274\n",
      "Split sukses ke1275\n",
      "Split sukses ke1276\n",
      "Split sukses ke1277\n",
      "Split sukses ke1278\n",
      "Split sukses ke1279\n",
      "Split sukses ke1280\n",
      "Split sukses ke1281\n",
      "Split sukses ke1282\n",
      "Split sukses ke1283\n",
      "Split sukses ke1284\n",
      "Split sukses ke1285\n",
      "Split sukses ke1286\n",
      "Split sukses ke1287\n",
      "Split sukses ke1288\n",
      "Split sukses ke1289\n",
      "Split sukses ke1290\n",
      "Split sukses ke1291\n",
      "Split sukses ke1292\n",
      "Split sukses ke1293\n",
      "Split sukses ke1294\n",
      "Split sukses ke1295\n",
      "Split sukses ke1296\n",
      "Split sukses ke1297\n",
      "Split sukses ke1298\n",
      "Split sukses ke1299\n",
      "Split sukses ke1300\n",
      "Split sukses ke1301\n",
      "Split sukses ke1302\n",
      "Split sukses ke1303\n",
      "Split sukses ke1304\n",
      "Split sukses ke1305\n",
      "Split sukses ke1306\n",
      "Split sukses ke1307\n",
      "Split sukses ke1308\n",
      "Split sukses ke1309\n",
      "Split sukses ke1310\n",
      "Split sukses ke1311\n",
      "Split sukses ke1312\n",
      "Split sukses ke1313\n",
      "Split sukses ke1314\n",
      "Split sukses ke1315\n",
      "Split sukses ke1316\n",
      "Split sukses ke1317\n",
      "Split sukses ke1318\n",
      "Split sukses ke1319\n",
      "Split sukses ke1320\n",
      "Split sukses ke1321\n",
      "Split sukses ke1322\n",
      "Split sukses ke1323\n",
      "Split sukses ke1324\n",
      "Split sukses ke1325\n",
      "Split sukses ke1326\n",
      "Split sukses ke1327\n",
      "Split sukses ke1328\n",
      "Split sukses ke1329\n",
      "Split sukses ke1330\n",
      "Split sukses ke1331\n",
      "Split sukses ke1332\n",
      "Split sukses ke1333\n",
      "Split sukses ke1334\n",
      "Split sukses ke1335\n",
      "Split sukses ke1336\n",
      "Split sukses ke1337\n",
      "Split sukses ke1338\n",
      "Split sukses ke1339\n",
      "Split sukses ke1340\n",
      "Split sukses ke1341\n",
      "Split sukses ke1342\n",
      "Split sukses ke1343\n",
      "Split sukses ke1344\n",
      "Split sukses ke1345\n",
      "Split sukses ke1346\n",
      "Split sukses ke1347\n",
      "Split sukses ke1348\n",
      "Split sukses ke1349\n",
      "Split sukses ke1350\n",
      "Split sukses ke1351\n",
      "Split sukses ke1352\n",
      "Split sukses ke1353\n",
      "Split sukses ke1354\n",
      "Split sukses ke1355\n",
      "Split sukses ke1356\n",
      "Split sukses ke1357\n",
      "Split sukses ke1358\n",
      "Split sukses ke1359\n",
      "Split sukses ke1360\n",
      "Split sukses ke1361\n",
      "Split sukses ke1362\n",
      "Split sukses ke1363\n",
      "Split sukses ke1364\n",
      "Split sukses ke1365\n",
      "Split sukses ke1366\n",
      "Split sukses ke1367\n",
      "Split sukses ke1368\n",
      "Split sukses ke1369\n",
      "Split sukses ke1370\n",
      "Split sukses ke1371\n",
      "Split sukses ke1372\n",
      "Split sukses ke1373\n",
      "Split sukses ke1374\n",
      "Split sukses ke1375\n",
      "Split sukses ke1376\n",
      "Split sukses ke1377\n",
      "Split sukses ke1378\n",
      "Split sukses ke1379\n",
      "Split sukses ke1380\n",
      "Split sukses ke1381\n",
      "Split sukses ke1382\n",
      "Split sukses ke1383\n",
      "Split sukses ke1384\n",
      "Split sukses ke1385\n",
      "Split sukses ke1386\n",
      "Split sukses ke1387\n",
      "Split sukses ke1388\n",
      "Split sukses ke1389\n",
      "Split sukses ke1390\n",
      "Split sukses ke1391\n",
      "Split sukses ke1392\n",
      "Split sukses ke1393\n",
      "Split sukses ke1394\n",
      "Split sukses ke1395\n",
      "Split sukses ke1396\n"
     ]
    },
    {
     "name": "stdout",
     "output_type": "stream",
     "text": [
      "Split sukses ke1397\n",
      "Split sukses ke1398\n",
      "Split sukses ke1399\n",
      "Split sukses ke1400\n",
      "Split sukses ke1401\n",
      "Split sukses ke1402\n",
      "Split sukses ke1403\n",
      "Split sukses ke1404\n",
      "Split sukses ke1405\n",
      "Split sukses ke1406\n",
      "Split sukses ke1407\n",
      "Split sukses ke1408\n",
      "Split sukses ke1409\n",
      "Split sukses ke1410\n",
      "Split sukses ke1411\n",
      "Split sukses ke1412\n",
      "Split sukses ke1413\n",
      "Split sukses ke1414\n",
      "Split sukses ke1415\n",
      "Split sukses ke1416\n",
      "Split sukses ke1417\n",
      "Split sukses ke1418\n",
      "Split sukses ke1419\n",
      "Split sukses ke1420\n",
      "Split sukses ke1421\n",
      "Split sukses ke1422\n",
      "Split sukses ke1423\n",
      "Split sukses ke1424\n",
      "Split sukses ke1425\n",
      "Split sukses ke1426\n",
      "Split sukses ke1427\n",
      "Split sukses ke1428\n",
      "Split sukses ke1429\n",
      "Split sukses ke1430\n",
      "Split sukses ke1431\n",
      "Split sukses ke1432\n",
      "Split sukses ke1433\n",
      "Split sukses ke1434\n",
      "Split sukses ke1435\n",
      "Split sukses ke1436\n",
      "Split sukses ke1437\n",
      "Split sukses ke1438\n",
      "Split sukses ke1439\n",
      "Split sukses ke1440\n",
      "Split sukses ke1441\n",
      "Split sukses ke1442\n",
      "Split sukses ke1443\n",
      "Split sukses ke1444\n",
      "Split sukses ke1445\n",
      "Split sukses ke1446\n",
      "Split sukses ke1447\n",
      "Split sukses ke1448\n",
      "Split sukses ke1449\n",
      "Split sukses ke1450\n",
      "Split sukses ke1451\n",
      "Split sukses ke1452\n",
      "Split sukses ke1453\n",
      "Split sukses ke1454\n",
      "Split sukses ke1455\n",
      "Split sukses ke1456\n",
      "Split sukses ke1457\n",
      "Split sukses ke1458\n",
      "Split sukses ke1459\n",
      "Split sukses ke1460\n",
      "Split sukses ke1461\n",
      "Split sukses ke1462\n",
      "Split sukses ke1463\n",
      "Split sukses ke1464\n",
      "Split sukses ke1465\n",
      "Split sukses ke1466\n",
      "Split sukses ke1467\n",
      "Split sukses ke1468\n",
      "Split sukses ke1469\n",
      "Split sukses ke1470\n",
      "Split sukses ke1471\n",
      "Split sukses ke1472\n",
      "Split sukses ke1473\n",
      "Split sukses ke1474\n",
      "Split sukses ke1475\n",
      "Split sukses ke1476\n",
      "Split sukses ke1477\n",
      "Split sukses ke1478\n",
      "Split sukses ke1479\n",
      "Split sukses ke1480\n",
      "Split sukses ke1481\n",
      "Split sukses ke1482\n",
      "Split sukses ke1483\n",
      "Split sukses ke1484\n",
      "Split sukses ke1485\n",
      "Split sukses ke1486\n",
      "Split sukses ke1487\n",
      "Split sukses ke1488\n",
      "Split sukses ke1489\n",
      "Split sukses ke1490\n",
      "Split sukses ke1491\n",
      "Split sukses ke1492\n",
      "Split sukses ke1493\n",
      "Split sukses ke1494\n",
      "Split sukses ke1495\n",
      "Split sukses ke1496\n",
      "Split sukses ke1497\n",
      "Split sukses ke1498\n",
      "Split sukses ke1499\n",
      "Split sukses ke1500\n",
      "Split sukses ke1501\n",
      "Split sukses ke1502\n",
      "Split sukses ke1503\n",
      "Split sukses ke1504\n",
      "Split sukses ke1505\n",
      "Split sukses ke1506\n",
      "Split sukses ke1507\n",
      "Split sukses ke1508\n",
      "Split sukses ke1509\n",
      "Split sukses ke1510\n",
      "Split sukses ke1511\n",
      "Split sukses ke1512\n",
      "Split sukses ke1513\n",
      "Split sukses ke1514\n",
      "Split sukses ke1515\n",
      "Split sukses ke1516\n",
      "Split sukses ke1517\n",
      "Split sukses ke1518\n",
      "Split sukses ke1519\n",
      "Split sukses ke1520\n",
      "Split sukses ke1521\n",
      "Split sukses ke1522\n",
      "Split sukses ke1523\n",
      "Split sukses ke1524\n",
      "Split sukses ke1525\n",
      "Split sukses ke1526\n",
      "Split sukses ke1527\n",
      "Split sukses ke1528\n",
      "Split sukses ke1529\n",
      "Split sukses ke1530\n",
      "Split sukses ke1531\n",
      "Split sukses ke1532\n",
      "Split sukses ke1533\n",
      "Split sukses ke1534\n",
      "Split sukses ke1535\n",
      "Split sukses ke1536\n",
      "Split gagal ke69\n",
      "Split sukses ke1537\n",
      "Split sukses ke1538\n",
      "Split sukses ke1539\n",
      "Split sukses ke1540\n",
      "Split sukses ke1541\n",
      "Split sukses ke1542\n",
      "Split sukses ke1543\n",
      "Split sukses ke1544\n",
      "Split sukses ke1545\n",
      "Split sukses ke1546\n",
      "Split sukses ke1547\n",
      "Split sukses ke1548\n",
      "Split sukses ke1549\n",
      "Split sukses ke1550\n",
      "Split sukses ke1551\n",
      "Split sukses ke1552\n",
      "Split sukses ke1553\n",
      "Split sukses ke1554\n",
      "Split sukses ke1555\n",
      "Split sukses ke1556\n",
      "Split sukses ke1557\n",
      "Split sukses ke1558\n",
      "Split sukses ke1559\n",
      "Split sukses ke1560\n",
      "Split sukses ke1561\n",
      "Split sukses ke1562\n",
      "Split sukses ke1563\n",
      "Split sukses ke1564\n",
      "Split sukses ke1565\n",
      "Split sukses ke1566\n",
      "Split sukses ke1567\n",
      "Split sukses ke1568\n",
      "Split sukses ke1569\n",
      "Split sukses ke1570\n",
      "Split sukses ke1571\n",
      "Split sukses ke1572\n",
      "Split sukses ke1573\n",
      "Split sukses ke1574\n",
      "Split sukses ke1575\n",
      "Split sukses ke1576\n",
      "Split gagal ke70\n",
      "Split sukses ke1577\n",
      "Split sukses ke1578\n",
      "Split sukses ke1579\n",
      "Split sukses ke1580\n",
      "Split sukses ke1581\n",
      "Split gagal ke71\n",
      "Split sukses ke1582\n",
      "Split sukses ke1583\n",
      "Split sukses ke1584\n",
      "Split sukses ke1585\n",
      "Split gagal ke72\n",
      "Split gagal ke73\n",
      "Split sukses ke1586\n",
      "Split sukses ke1587\n",
      "Split sukses ke1588\n",
      "Split sukses ke1589\n",
      "Split sukses ke1590\n",
      "Split sukses ke1591\n",
      "Split gagal ke74\n",
      "Split sukses ke1592\n",
      "Split sukses ke1593\n",
      "Split sukses ke1594\n",
      "Split sukses ke1595\n",
      "Split sukses ke1596\n",
      "Split sukses ke1597\n",
      "Split gagal ke75\n",
      "Split sukses ke1598\n",
      "Split sukses ke1599\n",
      "Split sukses ke1600\n",
      "Split sukses ke1601\n",
      "Split sukses ke1602\n",
      "Split sukses ke1603\n",
      "Split sukses ke1604\n",
      "Split sukses ke1605\n",
      "Split sukses ke1606\n",
      "Split sukses ke1607\n",
      "Split sukses ke1608\n",
      "Split gagal ke76\n",
      "Split sukses ke1609\n",
      "Split sukses ke1610\n",
      "Split sukses ke1611\n",
      "Split sukses ke1612\n",
      "Split sukses ke1613\n",
      "Split sukses ke1614\n",
      "Split sukses ke1615\n",
      "Split sukses ke1616\n",
      "Split sukses ke1617\n",
      "Split sukses ke1618\n",
      "Split sukses ke1619\n",
      "Split sukses ke1620\n",
      "Split sukses ke1621\n",
      "Split sukses ke1622\n",
      "Split sukses ke1623\n",
      "Split sukses ke1624\n",
      "Split sukses ke1625\n",
      "Split sukses ke1626\n",
      "Split sukses ke1627\n",
      "Split sukses ke1628\n",
      "Split sukses ke1629\n",
      "Split sukses ke1630\n",
      "Split sukses ke1631\n",
      "Split sukses ke1632\n",
      "Split sukses ke1633\n",
      "Split sukses ke1634\n",
      "Split sukses ke1635\n",
      "Split sukses ke1636\n",
      "Split sukses ke1637\n",
      "Split sukses ke1638\n",
      "Split gagal ke77\n",
      "Split sukses ke1639\n",
      "Split sukses ke1640\n",
      "Split sukses ke1641\n",
      "Split sukses ke1642\n",
      "Split sukses ke1643\n",
      "Split sukses ke1644\n",
      "Split sukses ke1645\n",
      "Split sukses ke1646\n",
      "Split sukses ke1647\n",
      "Split sukses ke1648\n",
      "Split sukses ke1649\n",
      "Split sukses ke1650\n",
      "Split sukses ke1651\n",
      "Split sukses ke1652\n",
      "Split sukses ke1653\n",
      "Split gagal ke78\n",
      "Split sukses ke1654\n",
      "Split sukses ke1655\n",
      "Split sukses ke1656\n",
      "Split sukses ke1657\n",
      "Split sukses ke1658\n",
      "Split sukses ke1659\n",
      "Split sukses ke1660\n",
      "Split sukses ke1661\n",
      "Split sukses ke1662\n",
      "Split sukses ke1663\n",
      "Split sukses ke1664\n",
      "Split sukses ke1665\n",
      "Split sukses ke1666\n",
      "Split sukses ke1667\n",
      "Split sukses ke1668\n",
      "Split sukses ke1669\n",
      "Split sukses ke1670\n",
      "Split sukses ke1671\n",
      "Split sukses ke1672\n",
      "Split sukses ke1673\n",
      "Split sukses ke1674\n",
      "Split sukses ke1675\n",
      "Split sukses ke1676\n",
      "Split sukses ke1677\n",
      "Split sukses ke1678\n",
      "Split sukses ke1679\n",
      "Split sukses ke1680\n",
      "Split sukses ke1681\n",
      "Split sukses ke1682\n",
      "Split sukses ke1683\n",
      "Split sukses ke1684\n",
      "Split sukses ke1685\n",
      "Split sukses ke1686\n",
      "Split sukses ke1687\n",
      "Split sukses ke1688\n",
      "Split sukses ke1689\n",
      "Split sukses ke1690\n",
      "Split sukses ke1691\n",
      "Split sukses ke1692\n",
      "Split sukses ke1693\n",
      "Split sukses ke1694\n",
      "Split sukses ke1695\n",
      "Split sukses ke1696\n",
      "Split sukses ke1697\n",
      "Split sukses ke1698\n",
      "Split sukses ke1699\n",
      "Split sukses ke1700\n",
      "Split sukses ke1701\n",
      "Split sukses ke1702\n",
      "Split sukses ke1703\n",
      "Split sukses ke1704\n",
      "Split sukses ke1705\n",
      "Split sukses ke1706\n",
      "Split sukses ke1707\n",
      "Split sukses ke1708\n",
      "Split sukses ke1709\n",
      "Split sukses ke1710\n",
      "Split sukses ke1711\n",
      "Split sukses ke1712\n",
      "Split sukses ke1713\n",
      "Split sukses ke1714\n",
      "Split sukses ke1715\n",
      "Split sukses ke1716\n",
      "Split sukses ke1717\n",
      "Split sukses ke1718\n",
      "Split sukses ke1719\n",
      "Split sukses ke1720\n",
      "Split sukses ke1721\n",
      "Split sukses ke1722\n",
      "Split sukses ke1723\n",
      "Split sukses ke1724\n",
      "Split sukses ke1725\n",
      "Split sukses ke1726\n",
      "Split sukses ke1727\n",
      "Split sukses ke1728\n",
      "Split sukses ke1729\n",
      "Split sukses ke1730\n",
      "Split sukses ke1731\n",
      "Split sukses ke1732\n",
      "Split sukses ke1733\n",
      "Split sukses ke1734\n",
      "Split sukses ke1735\n",
      "Split sukses ke1736\n",
      "Split sukses ke1737\n",
      "Split sukses ke1738\n",
      "Split sukses ke1739\n",
      "Split sukses ke1740\n",
      "Split sukses ke1741\n",
      "Split sukses ke1742\n",
      "Split sukses ke1743\n",
      "Split sukses ke1744\n",
      "Split sukses ke1745\n",
      "Split sukses ke1746\n",
      "Split sukses ke1747\n",
      "Split sukses ke1748\n",
      "Split sukses ke1749\n",
      "Split sukses ke1750\n",
      "Split sukses ke1751\n",
      "Split sukses ke1752\n",
      "Split sukses ke1753\n",
      "Split sukses ke1754\n",
      "Split sukses ke1755\n",
      "Split sukses ke1756\n",
      "Split sukses ke1757\n",
      "Split sukses ke1758\n",
      "Split sukses ke1759\n",
      "Split sukses ke1760\n",
      "Split sukses ke1761\n",
      "Split sukses ke1762\n",
      "Split sukses ke1763\n",
      "Split sukses ke1764\n",
      "Split sukses ke1765\n",
      "Split sukses ke1766\n",
      "Split sukses ke1767\n",
      "Split sukses ke1768\n",
      "Split sukses ke1769\n",
      "Split sukses ke1770\n",
      "Split sukses ke1771\n",
      "Split sukses ke1772\n",
      "Split sukses ke1773\n",
      "Split sukses ke1774\n",
      "Split sukses ke1775\n",
      "Split sukses ke1776\n",
      "Split sukses ke1777\n",
      "Split sukses ke1778\n",
      "Split sukses ke1779\n",
      "Split sukses ke1780\n",
      "Split sukses ke1781\n",
      "Split sukses ke1782\n",
      "Split sukses ke1783\n",
      "Split sukses ke1784\n",
      "Split sukses ke1785\n",
      "Split sukses ke1786\n",
      "Split gagal ke79\n",
      "Split sukses ke1787\n",
      "Split sukses ke1788\n",
      "Split sukses ke1789\n",
      "Split sukses ke1790\n",
      "Split sukses ke1791\n",
      "Split sukses ke1792\n",
      "Split sukses ke1793\n",
      "Split sukses ke1794\n",
      "Split sukses ke1795\n",
      "Split sukses ke1796\n",
      "Split sukses ke1797\n",
      "Split sukses ke1798\n",
      "Split sukses ke1799\n",
      "Split sukses ke1800\n"
     ]
    },
    {
     "name": "stdout",
     "output_type": "stream",
     "text": [
      "Split sukses ke1801\n",
      "Split sukses ke1802\n",
      "Split sukses ke1803\n",
      "Split sukses ke1804\n",
      "Split sukses ke1805\n",
      "Split sukses ke1806\n",
      "Split sukses ke1807\n",
      "Split sukses ke1808\n",
      "Split sukses ke1809\n",
      "Split sukses ke1810\n",
      "Split sukses ke1811\n",
      "Split sukses ke1812\n",
      "Split sukses ke1813\n",
      "Split sukses ke1814\n",
      "Split sukses ke1815\n",
      "Split sukses ke1816\n",
      "Split sukses ke1817\n",
      "Split sukses ke1818\n",
      "Split sukses ke1819\n",
      "Split sukses ke1820\n",
      "Split sukses ke1821\n",
      "Split sukses ke1822\n",
      "Split sukses ke1823\n",
      "Split sukses ke1824\n",
      "Split sukses ke1825\n",
      "Split sukses ke1826\n",
      "Split sukses ke1827\n",
      "Split sukses ke1828\n",
      "Split sukses ke1829\n",
      "Split sukses ke1830\n",
      "Split sukses ke1831\n",
      "Split sukses ke1832\n",
      "Split sukses ke1833\n",
      "Split sukses ke1834\n",
      "Split sukses ke1835\n",
      "Split sukses ke1836\n",
      "Split sukses ke1837\n",
      "Split sukses ke1838\n",
      "Split sukses ke1839\n",
      "Split sukses ke1840\n",
      "Split sukses ke1841\n",
      "Split sukses ke1842\n",
      "Split sukses ke1843\n",
      "Split sukses ke1844\n",
      "Split sukses ke1845\n",
      "Split sukses ke1846\n",
      "Split sukses ke1847\n",
      "Split sukses ke1848\n",
      "Split sukses ke1849\n",
      "Split sukses ke1850\n",
      "Split sukses ke1851\n",
      "Split sukses ke1852\n",
      "Split sukses ke1853\n",
      "Split sukses ke1854\n",
      "Split sukses ke1855\n",
      "Split sukses ke1856\n",
      "Split sukses ke1857\n",
      "Split sukses ke1858\n",
      "Split sukses ke1859\n",
      "Split sukses ke1860\n",
      "Split sukses ke1861\n",
      "Split sukses ke1862\n",
      "Split sukses ke1863\n",
      "Split sukses ke1864\n",
      "Split sukses ke1865\n",
      "Split sukses ke1866\n",
      "Split sukses ke1867\n",
      "Split sukses ke1868\n",
      "Split sukses ke1869\n",
      "Split sukses ke1870\n",
      "Split sukses ke1871\n",
      "Split sukses ke1872\n",
      "Split sukses ke1873\n",
      "Split sukses ke1874\n",
      "Split sukses ke1875\n",
      "Split sukses ke1876\n",
      "Split sukses ke1877\n",
      "Split sukses ke1878\n",
      "Split sukses ke1879\n",
      "Split sukses ke1880\n",
      "Split sukses ke1881\n",
      "Split sukses ke1882\n",
      "Split sukses ke1883\n",
      "Split sukses ke1884\n",
      "Split sukses ke1885\n",
      "Split sukses ke1886\n",
      "Split sukses ke1887\n",
      "Split sukses ke1888\n",
      "Split sukses ke1889\n",
      "Split sukses ke1890\n",
      "Split sukses ke1891\n",
      "Split sukses ke1892\n",
      "Split sukses ke1893\n",
      "Split sukses ke1894\n",
      "Split sukses ke1895\n",
      "Split sukses ke1896\n",
      "Split sukses ke1897\n",
      "Split sukses ke1898\n",
      "Split sukses ke1899\n",
      "Split sukses ke1900\n",
      "Split sukses ke1901\n",
      "Split sukses ke1902\n",
      "Split sukses ke1903\n",
      "Split sukses ke1904\n",
      "Split sukses ke1905\n",
      "Split sukses ke1906\n",
      "Split sukses ke1907\n",
      "Split sukses ke1908\n",
      "Split sukses ke1909\n",
      "Split sukses ke1910\n",
      "Split sukses ke1911\n",
      "Split sukses ke1912\n",
      "Split sukses ke1913\n",
      "Split sukses ke1914\n",
      "Split sukses ke1915\n",
      "Split sukses ke1916\n",
      "Split sukses ke1917\n",
      "Split sukses ke1918\n",
      "Split sukses ke1919\n",
      "Split sukses ke1920\n",
      "Split sukses ke1921\n",
      "Split sukses ke1922\n",
      "Split sukses ke1923\n",
      "Split sukses ke1924\n",
      "Split sukses ke1925\n",
      "Split sukses ke1926\n",
      "Split sukses ke1927\n",
      "Split sukses ke1928\n",
      "Split sukses ke1929\n",
      "Split sukses ke1930\n",
      "Split sukses ke1931\n",
      "Split sukses ke1932\n",
      "Split sukses ke1933\n",
      "Split sukses ke1934\n",
      "Split sukses ke1935\n",
      "Split sukses ke1936\n",
      "Split sukses ke1937\n",
      "Split sukses ke1938\n",
      "Split sukses ke1939\n",
      "Split sukses ke1940\n",
      "Split sukses ke1941\n",
      "Split sukses ke1942\n",
      "Split sukses ke1943\n",
      "Split sukses ke1944\n",
      "Split sukses ke1945\n",
      "Split sukses ke1946\n",
      "Split sukses ke1947\n",
      "Split sukses ke1948\n",
      "Split sukses ke1949\n",
      "Split sukses ke1950\n",
      "Split sukses ke1951\n",
      "Split sukses ke1952\n",
      "Split sukses ke1953\n",
      "Split sukses ke1954\n",
      "Split sukses ke1955\n",
      "Split sukses ke1956\n",
      "Split sukses ke1957\n",
      "Split sukses ke1958\n",
      "Split sukses ke1959\n",
      "Split sukses ke1960\n",
      "Split sukses ke1961\n",
      "Split sukses ke1962\n",
      "Split sukses ke1963\n",
      "Split sukses ke1964\n",
      "Split sukses ke1965\n",
      "Split sukses ke1966\n",
      "Split sukses ke1967\n",
      "Split sukses ke1968\n",
      "Split sukses ke1969\n",
      "Split sukses ke1970\n",
      "Split sukses ke1971\n",
      "Split sukses ke1972\n",
      "Split sukses ke1973\n",
      "Split sukses ke1974\n",
      "Split sukses ke1975\n",
      "Split sukses ke1976\n",
      "Split sukses ke1977\n",
      "Split sukses ke1978\n",
      "Split sukses ke1979\n",
      "Split sukses ke1980\n",
      "Split sukses ke1981\n",
      "Split sukses ke1982\n",
      "Split gagal ke80\n",
      "Split sukses ke1983\n",
      "Split sukses ke1984\n",
      "Split sukses ke1985\n",
      "Split sukses ke1986\n",
      "Split sukses ke1987\n",
      "Split gagal ke81\n",
      "Split sukses ke1988\n",
      "Split gagal ke82\n",
      "Split sukses ke1989\n",
      "Split sukses ke1990\n",
      "Split sukses ke1991\n",
      "Split sukses ke1992\n",
      "Split sukses ke1993\n",
      "Split sukses ke1994\n",
      "Split sukses ke1995\n",
      "Split sukses ke1996\n",
      "Split sukses ke1997\n",
      "Split sukses ke1998\n",
      "Split sukses ke1999\n",
      "Split sukses ke2000\n",
      "Split gagal ke83\n",
      "Split sukses ke2001\n",
      "Split sukses ke2002\n",
      "Split sukses ke2003\n",
      "Split sukses ke2004\n",
      "Split sukses ke2005\n",
      "Split sukses ke2006\n",
      "Split gagal ke84\n",
      "Split sukses ke2007\n",
      "Split sukses ke2008\n",
      "Split sukses ke2009\n",
      "Split sukses ke2010\n",
      "Split sukses ke2011\n",
      "Split sukses ke2012\n",
      "Split sukses ke2013\n",
      "Split sukses ke2014\n",
      "Split sukses ke2015\n",
      "Split sukses ke2016\n",
      "Split sukses ke2017\n",
      "Split sukses ke2018\n",
      "Split sukses ke2019\n",
      "Split sukses ke2020\n",
      "Split sukses ke2021\n",
      "Split sukses ke2022\n",
      "Split sukses ke2023\n",
      "Split sukses ke2024\n",
      "Split sukses ke2025\n",
      "Split sukses ke2026\n",
      "Split sukses ke2027\n",
      "Split sukses ke2028\n",
      "Split sukses ke2029\n",
      "Split sukses ke2030\n",
      "Split sukses ke2031\n",
      "Split sukses ke2032\n",
      "Split sukses ke2033\n",
      "Split sukses ke2034\n",
      "Split sukses ke2035\n",
      "Split sukses ke2036\n",
      "Split sukses ke2037\n",
      "Split sukses ke2038\n",
      "Split sukses ke2039\n",
      "Split sukses ke2040\n",
      "Split sukses ke2041\n",
      "Split sukses ke2042\n",
      "Split sukses ke2043\n",
      "Split sukses ke2044\n",
      "Split sukses ke2045\n",
      "Split sukses ke2046\n",
      "Split sukses ke2047\n",
      "Split sukses ke2048\n",
      "Split sukses ke2049\n",
      "Split sukses ke2050\n",
      "Split sukses ke2051\n",
      "Split sukses ke2052\n",
      "Split sukses ke2053\n",
      "Split sukses ke2054\n",
      "Split sukses ke2055\n",
      "Split sukses ke2056\n",
      "Split sukses ke2057\n",
      "Split sukses ke2058\n",
      "Split sukses ke2059\n",
      "Split sukses ke2060\n",
      "Split sukses ke2061\n",
      "Split sukses ke2062\n",
      "Split sukses ke2063\n",
      "Split sukses ke2064\n",
      "Split sukses ke2065\n",
      "Split sukses ke2066\n",
      "Split sukses ke2067\n",
      "Split sukses ke2068\n",
      "Split sukses ke2069\n",
      "Split sukses ke2070\n",
      "Split sukses ke2071\n",
      "Split sukses ke2072\n",
      "Split sukses ke2073\n",
      "Split sukses ke2074\n",
      "Split sukses ke2075\n",
      "Split sukses ke2076\n",
      "Split sukses ke2077\n",
      "Split sukses ke2078\n",
      "Split sukses ke2079\n",
      "Split gagal ke85\n",
      "Split sukses ke2080\n",
      "Split sukses ke2081\n",
      "Split sukses ke2082\n",
      "Split sukses ke2083\n",
      "Split sukses ke2084\n",
      "Split sukses ke2085\n",
      "Split sukses ke2086\n",
      "Split sukses ke2087\n",
      "Split sukses ke2088\n",
      "Split sukses ke2089\n",
      "Split sukses ke2090\n",
      "Split sukses ke2091\n",
      "Split sukses ke2092\n",
      "Split sukses ke2093\n",
      "Split sukses ke2094\n",
      "Split sukses ke2095\n",
      "Split sukses ke2096\n",
      "Split sukses ke2097\n",
      "Split sukses ke2098\n",
      "Split sukses ke2099\n",
      "Split sukses ke2100\n",
      "Split sukses ke2101\n",
      "Split sukses ke2102\n",
      "Split sukses ke2103\n",
      "Split sukses ke2104\n",
      "Split sukses ke2105\n",
      "Split sukses ke2106\n",
      "Split sukses ke2107\n",
      "Split sukses ke2108\n",
      "Split sukses ke2109\n",
      "Split sukses ke2110\n",
      "Split sukses ke2111\n",
      "Split gagal ke86\n",
      "Split sukses ke2112\n",
      "Split sukses ke2113\n",
      "Split sukses ke2114\n",
      "Split sukses ke2115\n",
      "Split sukses ke2116\n",
      "Split sukses ke2117\n",
      "Split sukses ke2118\n",
      "Split sukses ke2119\n",
      "Split sukses ke2120\n",
      "Split sukses ke2121\n",
      "Split sukses ke2122\n",
      "Split sukses ke2123\n",
      "Split sukses ke2124\n",
      "Split sukses ke2125\n",
      "Split sukses ke2126\n",
      "Split sukses ke2127\n",
      "Split sukses ke2128\n",
      "Split sukses ke2129\n",
      "Split sukses ke2130\n",
      "Split sukses ke2131\n",
      "Split sukses ke2132\n",
      "Split sukses ke2133\n",
      "Split sukses ke2134\n",
      "Split sukses ke2135\n",
      "Split sukses ke2136\n",
      "Split sukses ke2137\n",
      "Split sukses ke2138\n",
      "Split sukses ke2139\n",
      "Split sukses ke2140\n",
      "Split sukses ke2141\n",
      "Split sukses ke2142\n",
      "Split sukses ke2143\n",
      "Split gagal ke87\n",
      "Split sukses ke2144\n",
      "Split sukses ke2145\n",
      "Split sukses ke2146\n",
      "Split sukses ke2147\n",
      "Split sukses ke2148\n",
      "Split sukses ke2149\n",
      "Split sukses ke2150\n",
      "Split sukses ke2151\n",
      "Split sukses ke2152\n",
      "Split sukses ke2153\n",
      "Split sukses ke2154\n",
      "Split sukses ke2155\n",
      "Split sukses ke2156\n",
      "Split sukses ke2157\n",
      "Split sukses ke2158\n",
      "Split sukses ke2159\n",
      "Split sukses ke2160\n",
      "Split sukses ke2161\n",
      "Split sukses ke2162\n",
      "Split sukses ke2163\n",
      "Split sukses ke2164\n",
      "Split sukses ke2165\n",
      "Split sukses ke2166\n",
      "Split sukses ke2167\n",
      "Split sukses ke2168\n",
      "Split sukses ke2169\n",
      "Split sukses ke2170\n",
      "Split sukses ke2171\n",
      "Split sukses ke2172\n",
      "Split sukses ke2173\n",
      "Split sukses ke2174\n",
      "Split sukses ke2175\n",
      "Split sukses ke2176\n",
      "Split sukses ke2177\n",
      "Split sukses ke2178\n",
      "Split sukses ke2179\n",
      "Split sukses ke2180\n",
      "Split sukses ke2181\n",
      "Split gagal ke88\n",
      "Split sukses ke2182\n",
      "Split sukses ke2183\n",
      "Split sukses ke2184\n",
      "Split sukses ke2185\n",
      "Split sukses ke2186\n",
      "Split sukses ke2187\n",
      "Split sukses ke2188\n",
      "Split sukses ke2189\n",
      "Split sukses ke2190\n",
      "Split sukses ke2191\n",
      "Split sukses ke2192\n",
      "Split sukses ke2193\n",
      "Split sukses ke2194\n",
      "Split sukses ke2195\n",
      "Split sukses ke2196\n",
      "Split sukses ke2197\n",
      "Split sukses ke2198\n",
      "Split sukses ke2199\n",
      "Split sukses ke2200\n",
      "Split sukses ke2201\n",
      "Split sukses ke2202\n",
      "Split sukses ke2203\n",
      "Split sukses ke2204\n"
     ]
    },
    {
     "name": "stdout",
     "output_type": "stream",
     "text": [
      "Split sukses ke2205\n",
      "Split sukses ke2206\n",
      "Split sukses ke2207\n",
      "Split gagal ke89\n",
      "Split sukses ke2208\n",
      "Split sukses ke2209\n",
      "Split sukses ke2210\n",
      "Split sukses ke2211\n",
      "Split sukses ke2212\n",
      "Split sukses ke2213\n",
      "Split sukses ke2214\n",
      "Split sukses ke2215\n",
      "Split sukses ke2216\n",
      "Split sukses ke2217\n",
      "Split sukses ke2218\n",
      "Split sukses ke2219\n",
      "Split sukses ke2220\n",
      "Split sukses ke2221\n",
      "Split sukses ke2222\n",
      "Split gagal ke90\n",
      "Split sukses ke2223\n",
      "Split sukses ke2224\n",
      "Split sukses ke2225\n",
      "Split sukses ke2226\n",
      "Split sukses ke2227\n",
      "Split sukses ke2228\n",
      "Split sukses ke2229\n",
      "Split sukses ke2230\n",
      "Split sukses ke2231\n",
      "Split sukses ke2232\n",
      "Split sukses ke2233\n",
      "Split sukses ke2234\n",
      "Split sukses ke2235\n",
      "Split sukses ke2236\n",
      "Split sukses ke2237\n",
      "Split sukses ke2238\n",
      "Split sukses ke2239\n",
      "Split sukses ke2240\n",
      "Split sukses ke2241\n",
      "Split sukses ke2242\n",
      "Split sukses ke2243\n",
      "Split sukses ke2244\n",
      "Split sukses ke2245\n",
      "Split sukses ke2246\n",
      "Split sukses ke2247\n",
      "Split sukses ke2248\n",
      "Split sukses ke2249\n",
      "Split sukses ke2250\n",
      "Split sukses ke2251\n",
      "Split sukses ke2252\n",
      "Split sukses ke2253\n",
      "Split sukses ke2254\n",
      "Split sukses ke2255\n",
      "Split sukses ke2256\n",
      "Split sukses ke2257\n",
      "Split sukses ke2258\n",
      "Split sukses ke2259\n",
      "Split sukses ke2260\n",
      "Split sukses ke2261\n",
      "Split sukses ke2262\n",
      "Split gagal ke91\n",
      "Split gagal ke92\n",
      "Split sukses ke2263\n",
      "Split sukses ke2264\n",
      "Split sukses ke2265\n",
      "Split sukses ke2266\n",
      "Split sukses ke2267\n",
      "Split sukses ke2268\n",
      "Split sukses ke2269\n",
      "Split sukses ke2270\n",
      "Split sukses ke2271\n",
      "Split gagal ke93\n",
      "Split sukses ke2272\n",
      "Split sukses ke2273\n",
      "Split sukses ke2274\n",
      "Split gagal ke94\n",
      "Split sukses ke2275\n",
      "Split sukses ke2276\n",
      "Split sukses ke2277\n",
      "Split sukses ke2278\n",
      "Split sukses ke2279\n",
      "Split sukses ke2280\n",
      "Split sukses ke2281\n",
      "Split sukses ke2282\n",
      "Split sukses ke2283\n",
      "Split sukses ke2284\n",
      "Split sukses ke2285\n",
      "Split sukses ke2286\n",
      "Split sukses ke2287\n",
      "Split sukses ke2288\n",
      "Split gagal ke95\n",
      "Split sukses ke2289\n",
      "Split sukses ke2290\n",
      "Split gagal ke96\n",
      "Split sukses ke2291\n",
      "Split sukses ke2292\n",
      "Split sukses ke2293\n",
      "Split sukses ke2294\n",
      "Split sukses ke2295\n",
      "Split sukses ke2296\n",
      "Split sukses ke2297\n",
      "Split sukses ke2298\n",
      "Split sukses ke2299\n",
      "Split sukses ke2300\n",
      "Split sukses ke2301\n",
      "Split sukses ke2302\n",
      "Split sukses ke2303\n",
      "Split sukses ke2304\n",
      "Split sukses ke2305\n",
      "Split sukses ke2306\n",
      "Split sukses ke2307\n",
      "Split sukses ke2308\n",
      "Split sukses ke2309\n",
      "Split gagal ke97\n",
      "Split sukses ke2310\n",
      "Split sukses ke2311\n",
      "Split gagal ke98\n",
      "Split sukses ke2312\n",
      "Split sukses ke2313\n",
      "Split sukses ke2314\n",
      "Split sukses ke2315\n",
      "Split gagal ke99\n",
      "Split sukses ke2316\n",
      "Split sukses ke2317\n",
      "Split sukses ke2318\n",
      "Split sukses ke2319\n",
      "Split sukses ke2320\n",
      "Split sukses ke2321\n",
      "Split sukses ke2322\n",
      "Split sukses ke2323\n",
      "Split sukses ke2324\n",
      "Split sukses ke2325\n",
      "Split sukses ke2326\n",
      "Split sukses ke2327\n",
      "Split sukses ke2328\n",
      "Split sukses ke2329\n",
      "Split sukses ke2330\n",
      "Split sukses ke2331\n",
      "Split sukses ke2332\n",
      "Split sukses ke2333\n",
      "Split sukses ke2334\n",
      "Split sukses ke2335\n",
      "Split sukses ke2336\n",
      "Split sukses ke2337\n",
      "Split sukses ke2338\n",
      "Split sukses ke2339\n",
      "Split gagal ke100\n",
      "Split sukses ke2340\n",
      "Split sukses ke2341\n",
      "Split sukses ke2342\n",
      "Split sukses ke2343\n",
      "Split sukses ke2344\n",
      "Split sukses ke2345\n",
      "Split sukses ke2346\n",
      "Split sukses ke2347\n",
      "Split gagal ke101\n",
      "Split sukses ke2348\n",
      "Split sukses ke2349\n",
      "Split sukses ke2350\n",
      "Split sukses ke2351\n",
      "Split sukses ke2352\n",
      "Split sukses ke2353\n",
      "Split gagal ke102\n",
      "Split sukses ke2354\n",
      "Split sukses ke2355\n",
      "Split sukses ke2356\n",
      "Split sukses ke2357\n",
      "Split sukses ke2358\n",
      "Split sukses ke2359\n",
      "Split sukses ke2360\n",
      "Split sukses ke2361\n",
      "Split sukses ke2362\n",
      "Split sukses ke2363\n",
      "Split sukses ke2364\n",
      "Split sukses ke2365\n",
      "Split sukses ke2366\n",
      "Split sukses ke2367\n",
      "Split sukses ke2368\n",
      "Split sukses ke2369\n",
      "Split gagal ke103\n",
      "Split gagal ke104\n",
      "Split sukses ke2370\n",
      "Split sukses ke2371\n",
      "Split gagal ke105\n",
      "Split sukses ke2372\n",
      "Split sukses ke2373\n",
      "Split sukses ke2374\n",
      "Split sukses ke2375\n",
      "Split sukses ke2376\n",
      "Split sukses ke2377\n",
      "Split sukses ke2378\n",
      "Split sukses ke2379\n",
      "Split sukses ke2380\n",
      "Split sukses ke2381\n",
      "Split sukses ke2382\n",
      "Split sukses ke2383\n",
      "Split sukses ke2384\n",
      "Split sukses ke2385\n",
      "Split sukses ke2386\n",
      "Split sukses ke2387\n",
      "Split sukses ke2388\n",
      "Split sukses ke2389\n",
      "Split sukses ke2390\n",
      "Split sukses ke2391\n",
      "Split sukses ke2392\n",
      "Split sukses ke2393\n",
      "Split sukses ke2394\n",
      "Split gagal ke106\n",
      "Split sukses ke2395\n",
      "Split sukses ke2396\n",
      "Split sukses ke2397\n",
      "Split sukses ke2398\n",
      "Split sukses ke2399\n",
      "Split sukses ke2400\n",
      "Split sukses ke2401\n",
      "Split sukses ke2402\n",
      "Split sukses ke2403\n",
      "Split sukses ke2404\n",
      "Split sukses ke2405\n",
      "Split sukses ke2406\n",
      "Split sukses ke2407\n",
      "Split gagal ke107\n",
      "Split sukses ke2408\n",
      "Split sukses ke2409\n",
      "Split gagal ke108\n",
      "Split sukses ke2410\n",
      "Split sukses ke2411\n",
      "Split sukses ke2412\n",
      "Split sukses ke2413\n",
      "Split sukses ke2414\n",
      "Split gagal ke109\n",
      "Split sukses ke2415\n",
      "Split sukses ke2416\n",
      "Split sukses ke2417\n",
      "Split sukses ke2418\n",
      "Split sukses ke2419\n",
      "Split sukses ke2420\n",
      "Split sukses ke2421\n",
      "Split sukses ke2422\n",
      "Split sukses ke2423\n",
      "Split sukses ke2424\n",
      "Split sukses ke2425\n",
      "Split sukses ke2426\n",
      "Split sukses ke2427\n",
      "Split sukses ke2428\n",
      "Split sukses ke2429\n",
      "Split sukses ke2430\n",
      "Split sukses ke2431\n",
      "Split sukses ke2432\n",
      "Split sukses ke2433\n",
      "Split sukses ke2434\n",
      "Split sukses ke2435\n",
      "Split sukses ke2436\n",
      "Split sukses ke2437\n",
      "Split gagal ke110\n",
      "Split sukses ke2438\n",
      "Split sukses ke2439\n",
      "Split sukses ke2440\n",
      "Split sukses ke2441\n",
      "Split sukses ke2442\n",
      "Split sukses ke2443\n",
      "Split sukses ke2444\n",
      "Split sukses ke2445\n",
      "Split gagal ke111\n",
      "Split sukses ke2446\n",
      "Split sukses ke2447\n",
      "Split sukses ke2448\n",
      "Split sukses ke2449\n",
      "Split sukses ke2450\n",
      "Split sukses ke2451\n",
      "Split sukses ke2452\n",
      "Split sukses ke2453\n",
      "Split sukses ke2454\n",
      "Split sukses ke2455\n",
      "Split sukses ke2456\n",
      "Split sukses ke2457\n",
      "Split sukses ke2458\n",
      "Split sukses ke2459\n",
      "Split sukses ke2460\n",
      "Split sukses ke2461\n",
      "Split sukses ke2462\n",
      "Split sukses ke2463\n",
      "Split sukses ke2464\n",
      "Split gagal ke112\n",
      "Split sukses ke2465\n",
      "Split sukses ke2466\n",
      "Split gagal ke113\n",
      "Split sukses ke2467\n",
      "Split sukses ke2468\n",
      "Split sukses ke2469\n",
      "Split sukses ke2470\n",
      "Split sukses ke2471\n",
      "Split sukses ke2472\n",
      "Split sukses ke2473\n",
      "Split sukses ke2474\n",
      "Split sukses ke2475\n",
      "Split sukses ke2476\n",
      "Split sukses ke2477\n",
      "Split sukses ke2478\n",
      "Split sukses ke2479\n",
      "Split sukses ke2480\n",
      "Split sukses ke2481\n",
      "Split sukses ke2482\n",
      "Split gagal ke114\n",
      "Split sukses ke2483\n",
      "Split sukses ke2484\n",
      "Split sukses ke2485\n",
      "Split sukses ke2486\n",
      "Split sukses ke2487\n",
      "Split sukses ke2488\n",
      "Split sukses ke2489\n",
      "Split sukses ke2490\n",
      "Split sukses ke2491\n",
      "Split sukses ke2492\n",
      "Split sukses ke2493\n",
      "Split sukses ke2494\n",
      "Split sukses ke2495\n",
      "Split sukses ke2496\n",
      "Split sukses ke2497\n",
      "Split sukses ke2498\n",
      "Split sukses ke2499\n",
      "Split sukses ke2500\n",
      "Split gagal ke115\n",
      "Split sukses ke2501\n",
      "Split sukses ke2502\n",
      "Split sukses ke2503\n",
      "Split gagal ke116\n",
      "Split sukses ke2504\n",
      "Split sukses ke2505\n",
      "Split gagal ke117\n",
      "Split sukses ke2506\n",
      "Split sukses ke2507\n",
      "Split sukses ke2508\n",
      "Split sukses ke2509\n",
      "Split gagal ke118\n",
      "Split sukses ke2510\n",
      "Split sukses ke2511\n",
      "Split sukses ke2512\n",
      "Split sukses ke2513\n",
      "Split sukses ke2514\n",
      "Split sukses ke2515\n",
      "Split sukses ke2516\n",
      "Split sukses ke2517\n",
      "Split sukses ke2518\n",
      "Split sukses ke2519\n",
      "Split sukses ke2520\n",
      "Split sukses ke2521\n",
      "Split sukses ke2522\n",
      "Split gagal ke119\n",
      "Split sukses ke2523\n",
      "Split sukses ke2524\n",
      "Split sukses ke2525\n",
      "Split sukses ke2526\n",
      "Split sukses ke2527\n",
      "Split gagal ke120\n",
      "Split sukses ke2528\n",
      "Split sukses ke2529\n",
      "Split sukses ke2530\n",
      "Split sukses ke2531\n",
      "Split sukses ke2532\n",
      "Split sukses ke2533\n",
      "Split sukses ke2534\n",
      "Split sukses ke2535\n",
      "Split sukses ke2536\n",
      "Split sukses ke2537\n",
      "Split sukses ke2538\n",
      "Split sukses ke2539\n",
      "Split sukses ke2540\n",
      "Split sukses ke2541\n",
      "Split sukses ke2542\n",
      "Split sukses ke2543\n",
      "Split sukses ke2544\n",
      "Split sukses ke2545\n",
      "Split sukses ke2546\n",
      "Split sukses ke2547\n",
      "Split sukses ke2548\n",
      "Split sukses ke2549\n",
      "Split sukses ke2550\n",
      "Split sukses ke2551\n",
      "Split sukses ke2552\n",
      "Split sukses ke2553\n",
      "Split sukses ke2554\n",
      "Split sukses ke2555\n",
      "Split sukses ke2556\n",
      "Split sukses ke2557\n",
      "Split sukses ke2558\n",
      "Split sukses ke2559\n",
      "Split sukses ke2560\n",
      "Split sukses ke2561\n",
      "Split sukses ke2562\n",
      "Split sukses ke2563\n",
      "Split sukses ke2564\n",
      "Split sukses ke2565\n",
      "Split sukses ke2566\n",
      "Split sukses ke2567\n",
      "Split sukses ke2568\n",
      "Split sukses ke2569\n",
      "Split sukses ke2570\n",
      "Split sukses ke2571\n",
      "Split sukses ke2572\n",
      "Split sukses ke2573\n",
      "Split sukses ke2574\n",
      "Split sukses ke2575\n",
      "Split sukses ke2576\n",
      "Split sukses ke2577\n",
      "Split sukses ke2578\n",
      "Split gagal ke121\n",
      "Split sukses ke2579\n",
      "Split gagal ke122\n",
      "Split gagal ke123\n",
      "Split sukses ke2580\n",
      "Split sukses ke2581\n",
      "Split sukses ke2582\n",
      "Split sukses ke2583\n"
     ]
    },
    {
     "name": "stdout",
     "output_type": "stream",
     "text": [
      "Split sukses ke2584\n",
      "Split sukses ke2585\n",
      "Split sukses ke2586\n",
      "Split sukses ke2587\n",
      "Split sukses ke2588\n",
      "Split sukses ke2589\n",
      "Split sukses ke2590\n",
      "Split sukses ke2591\n",
      "Split gagal ke124\n",
      "Split sukses ke2592\n",
      "Split sukses ke2593\n",
      "Split sukses ke2594\n",
      "Split sukses ke2595\n",
      "Split sukses ke2596\n",
      "Split sukses ke2597\n",
      "Split sukses ke2598\n",
      "Split gagal ke125\n",
      "Split sukses ke2599\n",
      "Split sukses ke2600\n",
      "Split gagal ke126\n",
      "Split sukses ke2601\n",
      "Split sukses ke2602\n",
      "Split sukses ke2603\n",
      "Split sukses ke2604\n",
      "Split sukses ke2605\n",
      "Split sukses ke2606\n",
      "Split sukses ke2607\n",
      "Split sukses ke2608\n",
      "Split gagal ke127\n",
      "Split sukses ke2609\n",
      "Split sukses ke2610\n",
      "Split sukses ke2611\n",
      "Split gagal ke128\n",
      "Split sukses ke2612\n",
      "Split gagal ke129\n",
      "Split sukses ke2613\n",
      "Split gagal ke130\n",
      "Split sukses ke2614\n",
      "Split sukses ke2615\n",
      "Split sukses ke2616\n",
      "Split sukses ke2617\n",
      "Split sukses ke2618\n",
      "Split sukses ke2619\n",
      "Split sukses ke2620\n",
      "Split sukses ke2621\n",
      "Split sukses ke2622\n",
      "Split sukses ke2623\n",
      "Split sukses ke2624\n",
      "Split sukses ke2625\n",
      "Split sukses ke2626\n",
      "Split sukses ke2627\n",
      "Split sukses ke2628\n",
      "Split sukses ke2629\n",
      "Split sukses ke2630\n",
      "Split sukses ke2631\n",
      "Split gagal ke131\n",
      "Split gagal ke132\n",
      "Split gagal ke133\n",
      "Split sukses ke2632\n",
      "Split sukses ke2633\n",
      "Split sukses ke2634\n",
      "Split sukses ke2635\n",
      "Split sukses ke2636\n",
      "Split sukses ke2637\n",
      "Split gagal ke134\n",
      "Split sukses ke2638\n",
      "Split gagal ke135\n",
      "Split gagal ke136\n",
      "Split sukses ke2639\n",
      "Split sukses ke2640\n",
      "Split sukses ke2641\n",
      "Split sukses ke2642\n",
      "Split sukses ke2643\n",
      "Split sukses ke2644\n",
      "Split sukses ke2645\n",
      "Split sukses ke2646\n",
      "Split sukses ke2647\n",
      "Split gagal ke137\n",
      "Split sukses ke2648\n",
      "Split sukses ke2649\n",
      "Split sukses ke2650\n",
      "Split sukses ke2651\n",
      "Split sukses ke2652\n",
      "Split sukses ke2653\n",
      "Split gagal ke138\n",
      "Split sukses ke2654\n",
      "Split gagal ke139\n",
      "Split sukses ke2655\n",
      "Split sukses ke2656\n",
      "Split sukses ke2657\n",
      "Split sukses ke2658\n",
      "Split gagal ke140\n",
      "Split sukses ke2659\n",
      "Split gagal ke141\n",
      "Split gagal ke142\n",
      "Split sukses ke2660\n",
      "Split sukses ke2661\n",
      "Split sukses ke2662\n",
      "Split sukses ke2663\n",
      "Split sukses ke2664\n",
      "Split gagal ke143\n",
      "Split sukses ke2665\n",
      "Split sukses ke2666\n",
      "Split sukses ke2667\n",
      "Split sukses ke2668\n",
      "Split sukses ke2669\n",
      "Split sukses ke2670\n",
      "Split gagal ke144\n",
      "Split sukses ke2671\n",
      "Split sukses ke2672\n",
      "Split sukses ke2673\n",
      "Split sukses ke2674\n",
      "Split sukses ke2675\n",
      "Split sukses ke2676\n",
      "Split sukses ke2677\n",
      "Split sukses ke2678\n",
      "Split sukses ke2679\n",
      "Split gagal ke145\n",
      "Split sukses ke2680\n",
      "Split sukses ke2681\n",
      "Split sukses ke2682\n",
      "Split sukses ke2683\n",
      "Split sukses ke2684\n",
      "Split sukses ke2685\n",
      "Split sukses ke2686\n",
      "Split sukses ke2687\n",
      "Split sukses ke2688\n",
      "Split sukses ke2689\n",
      "Split gagal ke146\n",
      "Split gagal ke147\n",
      "Split gagal ke148\n",
      "Split sukses ke2690\n",
      "Split gagal ke149\n",
      "Split sukses ke2691\n",
      "Split sukses ke2692\n",
      "Split sukses ke2693\n",
      "Split sukses ke2694\n",
      "Split sukses ke2695\n",
      "Split sukses ke2696\n",
      "Split sukses ke2697\n",
      "Split sukses ke2698\n",
      "Split sukses ke2699\n",
      "Split sukses ke2700\n",
      "Split sukses ke2701\n",
      "Split sukses ke2702\n",
      "Split sukses ke2703\n",
      "Split sukses ke2704\n",
      "Split sukses ke2705\n",
      "Split sukses ke2706\n",
      "Split sukses ke2707\n",
      "Split sukses ke2708\n",
      "Split sukses ke2709\n",
      "Split sukses ke2710\n",
      "Split gagal ke150\n",
      "Split sukses ke2711\n",
      "Split sukses ke2712\n",
      "Split sukses ke2713\n",
      "Split sukses ke2714\n",
      "Split sukses ke2715\n",
      "Split sukses ke2716\n",
      "Split sukses ke2717\n",
      "Split sukses ke2718\n",
      "Split sukses ke2719\n",
      "Split sukses ke2720\n",
      "Split sukses ke2721\n",
      "Split sukses ke2722\n",
      "Split sukses ke2723\n",
      "Split sukses ke2724\n",
      "Split sukses ke2725\n",
      "Split sukses ke2726\n",
      "Split sukses ke2727\n",
      "Split sukses ke2728\n",
      "Split sukses ke2729\n",
      "Split sukses ke2730\n",
      "Split sukses ke2731\n",
      "Split sukses ke2732\n",
      "Split gagal ke151\n",
      "Split gagal ke152\n",
      "Split sukses ke2733\n",
      "Split sukses ke2734\n",
      "Split gagal ke153\n",
      "Split sukses ke2735\n",
      "Split sukses ke2736\n",
      "Split sukses ke2737\n",
      "Split sukses ke2738\n",
      "Split sukses ke2739\n",
      "Split sukses ke2740\n",
      "Split sukses ke2741\n",
      "Split sukses ke2742\n",
      "Split sukses ke2743\n",
      "Split gagal ke154\n",
      "Split gagal ke155\n",
      "Split sukses ke2744\n",
      "Split sukses ke2745\n",
      "Split sukses ke2746\n",
      "Split sukses ke2747\n",
      "Split sukses ke2748\n",
      "Split sukses ke2749\n",
      "Split gagal ke156\n",
      "Split sukses ke2750\n",
      "Split sukses ke2751\n",
      "Split sukses ke2752\n",
      "Split sukses ke2753\n",
      "Split sukses ke2754\n",
      "Split sukses ke2755\n",
      "Split sukses ke2756\n",
      "Split sukses ke2757\n",
      "Split sukses ke2758\n",
      "Split gagal ke157\n",
      "Split gagal ke158\n",
      "Split sukses ke2759\n",
      "Split sukses ke2760\n",
      "Split sukses ke2761\n",
      "Split sukses ke2762\n",
      "Split sukses ke2763\n",
      "Split sukses ke2764\n",
      "Split sukses ke2765\n",
      "Split sukses ke2766\n",
      "Split sukses ke2767\n",
      "Split sukses ke2768\n",
      "Split sukses ke2769\n",
      "Split sukses ke2770\n",
      "Split sukses ke2771\n",
      "Split sukses ke2772\n",
      "Split sukses ke2773\n",
      "Split sukses ke2774\n",
      "Split sukses ke2775\n",
      "Split sukses ke2776\n",
      "Split sukses ke2777\n",
      "Split gagal ke159\n",
      "Split sukses ke2778\n",
      "Split sukses ke2779\n",
      "Split sukses ke2780\n",
      "Split sukses ke2781\n",
      "Split sukses ke2782\n",
      "Split sukses ke2783\n",
      "Split sukses ke2784\n",
      "Split sukses ke2785\n",
      "Split gagal ke160\n",
      "Split sukses ke2786\n",
      "Split sukses ke2787\n",
      "Split sukses ke2788\n",
      "Split sukses ke2789\n",
      "Split sukses ke2790\n",
      "Split sukses ke2791\n",
      "Split sukses ke2792\n",
      "Split sukses ke2793\n",
      "Split sukses ke2794\n",
      "Split sukses ke2795\n",
      "Split sukses ke2796\n",
      "Split sukses ke2797\n",
      "Split sukses ke2798\n",
      "Split sukses ke2799\n",
      "Split sukses ke2800\n",
      "Split sukses ke2801\n",
      "Split gagal ke161\n",
      "Split sukses ke2802\n",
      "Split sukses ke2803\n",
      "Split sukses ke2804\n",
      "Split sukses ke2805\n",
      "Split sukses ke2806\n",
      "Split sukses ke2807\n",
      "Split sukses ke2808\n",
      "Split sukses ke2809\n",
      "Split sukses ke2810\n",
      "Split sukses ke2811\n",
      "Split sukses ke2812\n",
      "Split sukses ke2813\n",
      "Split sukses ke2814\n",
      "Split sukses ke2815\n",
      "Split sukses ke2816\n",
      "Split gagal ke162\n",
      "Split sukses ke2817\n",
      "Split sukses ke2818\n",
      "Split sukses ke2819\n",
      "Split sukses ke2820\n",
      "Split sukses ke2821\n",
      "Split sukses ke2822\n",
      "Split sukses ke2823\n",
      "Split sukses ke2824\n",
      "Split sukses ke2825\n",
      "Split sukses ke2826\n",
      "Split sukses ke2827\n",
      "Split gagal ke163\n",
      "Split sukses ke2828\n",
      "Split sukses ke2829\n",
      "Split sukses ke2830\n",
      "Split sukses ke2831\n",
      "Split sukses ke2832\n",
      "Split sukses ke2833\n",
      "Split sukses ke2834\n",
      "Split sukses ke2835\n",
      "Split sukses ke2836\n",
      "Split gagal ke164\n",
      "Split sukses ke2837\n",
      "Split gagal ke165\n",
      "Split sukses ke2838\n",
      "Split sukses ke2839\n",
      "Split sukses ke2840\n",
      "Split sukses ke2841\n",
      "Split sukses ke2842\n",
      "Split sukses ke2843\n",
      "Split sukses ke2844\n",
      "Split sukses ke2845\n",
      "Split sukses ke2846\n",
      "Split gagal ke166\n",
      "Split sukses ke2847\n",
      "Split sukses ke2848\n",
      "Split sukses ke2849\n",
      "Split sukses ke2850\n",
      "Split sukses ke2851\n",
      "Split sukses ke2852\n",
      "Split sukses ke2853\n",
      "Split sukses ke2854\n",
      "Split sukses ke2855\n",
      "Split sukses ke2856\n",
      "Split sukses ke2857\n",
      "Split sukses ke2858\n",
      "Split sukses ke2859\n",
      "Split sukses ke2860\n",
      "Split sukses ke2861\n",
      "Split sukses ke2862\n",
      "Split sukses ke2863\n",
      "Split sukses ke2864\n",
      "Split sukses ke2865\n",
      "Split sukses ke2866\n",
      "Split sukses ke2867\n",
      "Split sukses ke2868\n",
      "Split sukses ke2869\n",
      "Split sukses ke2870\n",
      "Split gagal ke167\n",
      "Split sukses ke2871\n",
      "Split sukses ke2872\n",
      "Split sukses ke2873\n",
      "Split sukses ke2874\n",
      "Split sukses ke2875\n",
      "Split sukses ke2876\n",
      "Split sukses ke2877\n",
      "Split sukses ke2878\n",
      "Split sukses ke2879\n",
      "Split gagal ke168\n",
      "Split sukses ke2880\n",
      "Split sukses ke2881\n",
      "Split sukses ke2882\n",
      "Split sukses ke2883\n",
      "Split sukses ke2884\n",
      "Split gagal ke169\n",
      "Split sukses ke2885\n",
      "Split sukses ke2886\n",
      "Split sukses ke2887\n",
      "Split sukses ke2888\n",
      "Split sukses ke2889\n",
      "Split sukses ke2890\n",
      "Split gagal ke170\n",
      "Split sukses ke2891\n",
      "Split sukses ke2892\n",
      "Split sukses ke2893\n",
      "Split sukses ke2894\n",
      "Split sukses ke2895\n",
      "Split sukses ke2896\n",
      "Split sukses ke2897\n",
      "Split sukses ke2898\n",
      "Split sukses ke2899\n",
      "Split sukses ke2900\n",
      "Split sukses ke2901\n",
      "Split sukses ke2902\n",
      "Split sukses ke2903\n",
      "Split gagal ke171\n",
      "Split sukses ke2904\n",
      "Split sukses ke2905\n",
      "Split sukses ke2906\n",
      "Split sukses ke2907\n",
      "Split sukses ke2908\n",
      "Split sukses ke2909\n",
      "Split sukses ke2910\n",
      "Split sukses ke2911\n",
      "Split sukses ke2912\n",
      "Split sukses ke2913\n",
      "Split sukses ke2914\n",
      "Split sukses ke2915\n",
      "Split sukses ke2916\n",
      "Split sukses ke2917\n",
      "Split sukses ke2918\n",
      "Split sukses ke2919\n",
      "Split sukses ke2920\n",
      "Split sukses ke2921\n",
      "Split sukses ke2922\n",
      "Split sukses ke2923\n",
      "Split sukses ke2924\n",
      "Split sukses ke2925\n",
      "Split sukses ke2926\n",
      "Split sukses ke2927\n",
      "Split sukses ke2928\n",
      "Split sukses ke2929\n",
      "Split sukses ke2930\n",
      "Split sukses ke2931\n",
      "Split gagal ke172\n",
      "Split sukses ke2932\n",
      "Split gagal ke173\n",
      "Split gagal ke174\n",
      "Split sukses ke2933\n",
      "Split sukses ke2934\n",
      "Split sukses ke2935\n",
      "Split sukses ke2936\n",
      "Split sukses ke2937\n",
      "Split sukses ke2938\n",
      "Split sukses ke2939\n",
      "Split sukses ke2940\n",
      "Split sukses ke2941\n",
      "Split gagal ke175\n",
      "Split gagal ke176\n",
      "Split sukses ke2942\n",
      "Split gagal ke177\n",
      "Split sukses ke2943\n",
      "Split sukses ke2944\n",
      "Split sukses ke2945\n",
      "Split sukses ke2946\n",
      "Split sukses ke2947\n",
      "Split gagal ke178\n",
      "Split sukses ke2948\n"
     ]
    },
    {
     "name": "stdout",
     "output_type": "stream",
     "text": [
      "Split sukses ke2949\n",
      "Split sukses ke2950\n",
      "Split sukses ke2951\n",
      "Split sukses ke2952\n",
      "Split sukses ke2953\n",
      "Split sukses ke2954\n",
      "Split sukses ke2955\n",
      "Split sukses ke2956\n",
      "Split sukses ke2957\n",
      "Split sukses ke2958\n",
      "Split sukses ke2959\n",
      "Split sukses ke2960\n",
      "Split sukses ke2961\n",
      "Split sukses ke2962\n",
      "Split sukses ke2963\n",
      "Split sukses ke2964\n",
      "Split sukses ke2965\n",
      "Split sukses ke2966\n",
      "Split gagal ke179\n",
      "Split sukses ke2967\n",
      "Split sukses ke2968\n",
      "Split sukses ke2969\n",
      "Split sukses ke2970\n",
      "Split sukses ke2971\n",
      "Split gagal ke180\n",
      "Split sukses ke2972\n",
      "Split sukses ke2973\n",
      "Split sukses ke2974\n",
      "Split sukses ke2975\n",
      "Split sukses ke2976\n",
      "Split sukses ke2977\n",
      "Split sukses ke2978\n",
      "Split sukses ke2979\n",
      "Split sukses ke2980\n",
      "Split sukses ke2981\n",
      "Split sukses ke2982\n",
      "Split gagal ke181\n",
      "Split sukses ke2983\n",
      "Split gagal ke182\n",
      "Split sukses ke2984\n",
      "Split gagal ke183\n",
      "Split sukses ke2985\n",
      "Split sukses ke2986\n",
      "Split sukses ke2987\n",
      "Split sukses ke2988\n",
      "Split sukses ke2989\n",
      "Split sukses ke2990\n",
      "Split gagal ke184\n",
      "Split sukses ke2991\n",
      "Split sukses ke2992\n",
      "Split sukses ke2993\n",
      "Split sukses ke2994\n",
      "Split sukses ke2995\n",
      "Split sukses ke2996\n",
      "Split sukses ke2997\n",
      "Split gagal ke185\n",
      "Split sukses ke2998\n",
      "Split sukses ke2999\n",
      "Split sukses ke3000\n",
      "Split sukses ke3001\n",
      "Split sukses ke3002\n",
      "Split gagal ke186\n",
      "Split sukses ke3003\n",
      "Split sukses ke3004\n",
      "Split sukses ke3005\n",
      "Split gagal ke187\n",
      "Split sukses ke3006\n",
      "Split gagal ke188\n",
      "Split sukses ke3007\n",
      "Split sukses ke3008\n",
      "Split sukses ke3009\n",
      "Split sukses ke3010\n",
      "Split sukses ke3011\n",
      "Split sukses ke3012\n",
      "Split sukses ke3013\n",
      "Split sukses ke3014\n",
      "Split sukses ke3015\n",
      "Split sukses ke3016\n",
      "Split sukses ke3017\n",
      "Split sukses ke3018\n",
      "Split sukses ke3019\n",
      "Split sukses ke3020\n",
      "Split sukses ke3021\n",
      "Split sukses ke3022\n",
      "Split sukses ke3023\n",
      "Split sukses ke3024\n",
      "Split gagal ke189\n",
      "Split sukses ke3025\n",
      "Split sukses ke3026\n",
      "Split sukses ke3027\n",
      "Split sukses ke3028\n",
      "Split gagal ke190\n",
      "Split sukses ke3029\n",
      "Split gagal ke191\n",
      "Split sukses ke3030\n",
      "Split gagal ke192\n",
      "Split sukses ke3031\n",
      "Split sukses ke3032\n",
      "Split sukses ke3033\n",
      "Split sukses ke3034\n",
      "Split sukses ke3035\n",
      "Split sukses ke3036\n",
      "Split sukses ke3037\n",
      "Split sukses ke3038\n",
      "Split gagal ke193\n",
      "Split sukses ke3039\n",
      "Split gagal ke194\n",
      "Split gagal ke195\n",
      "Split sukses ke3040\n",
      "Split gagal ke196\n",
      "Split sukses ke3041\n",
      "Split sukses ke3042\n",
      "Split sukses ke3043\n",
      "Split sukses ke3044\n",
      "Split sukses ke3045\n",
      "Split sukses ke3046\n",
      "Split sukses ke3047\n",
      "Split sukses ke3048\n",
      "Split sukses ke3049\n",
      "Split sukses ke3050\n",
      "Split sukses ke3051\n",
      "Split sukses ke3052\n",
      "Split sukses ke3053\n",
      "Split gagal ke197\n",
      "Split sukses ke3054\n",
      "Split sukses ke3055\n",
      "Split sukses ke3056\n",
      "Split sukses ke3057\n",
      "Split sukses ke3058\n",
      "Split sukses ke3059\n",
      "Split sukses ke3060\n",
      "Split sukses ke3061\n",
      "Split sukses ke3062\n",
      "Split sukses ke3063\n",
      "Split sukses ke3064\n",
      "Split sukses ke3065\n",
      "Split sukses ke3066\n",
      "Split sukses ke3067\n",
      "Split sukses ke3068\n",
      "Split sukses ke3069\n",
      "Split sukses ke3070\n",
      "Split sukses ke3071\n",
      "Split sukses ke3072\n",
      "Split gagal ke198\n",
      "Split sukses ke3073\n",
      "Split sukses ke3074\n",
      "Split gagal ke199\n",
      "Split sukses ke3075\n",
      "Split gagal ke200\n",
      "Split sukses ke3076\n",
      "Split gagal ke201\n",
      "Split gagal ke202\n",
      "Split gagal ke203\n",
      "Split sukses ke3077\n",
      "Split sukses ke3078\n",
      "Split sukses ke3079\n",
      "Split gagal ke204\n",
      "Split sukses ke3080\n",
      "Split sukses ke3081\n",
      "Split gagal ke205\n",
      "Split sukses ke3082\n",
      "Split sukses ke3083\n",
      "Split sukses ke3084\n",
      "Split sukses ke3085\n",
      "Split sukses ke3086\n",
      "Split sukses ke3087\n",
      "Split sukses ke3088\n",
      "Split sukses ke3089\n",
      "Split sukses ke3090\n",
      "Split sukses ke3091\n",
      "Split sukses ke3092\n",
      "Split sukses ke3093\n",
      "Split sukses ke3094\n",
      "Split sukses ke3095\n",
      "Split sukses ke3096\n",
      "Split sukses ke3097\n",
      "Split sukses ke3098\n",
      "Split sukses ke3099\n",
      "Split sukses ke3100\n",
      "Split gagal ke206\n",
      "Split sukses ke3101\n",
      "Split sukses ke3102\n",
      "Split sukses ke3103\n",
      "Split sukses ke3104\n",
      "Split sukses ke3105\n",
      "Split sukses ke3106\n",
      "Split sukses ke3107\n",
      "Split sukses ke3108\n",
      "Split sukses ke3109\n",
      "Split sukses ke3110\n",
      "Split sukses ke3111\n",
      "Split sukses ke3112\n",
      "Split sukses ke3113\n",
      "Split sukses ke3114\n",
      "Split sukses ke3115\n",
      "Split sukses ke3116\n",
      "Split sukses ke3117\n",
      "Split sukses ke3118\n",
      "Split sukses ke3119\n",
      "Split sukses ke3120\n",
      "Split gagal ke207\n",
      "Split sukses ke3121\n",
      "Split sukses ke3122\n",
      "Split sukses ke3123\n",
      "Split sukses ke3124\n",
      "Split sukses ke3125\n",
      "Split sukses ke3126\n",
      "Split sukses ke3127\n",
      "Split sukses ke3128\n",
      "Split sukses ke3129\n",
      "Split sukses ke3130\n",
      "Split sukses ke3131\n",
      "Split sukses ke3132\n",
      "Split sukses ke3133\n",
      "Split sukses ke3134\n",
      "Split sukses ke3135\n",
      "Split sukses ke3136\n",
      "Split sukses ke3137\n",
      "Split sukses ke3138\n",
      "Split sukses ke3139\n",
      "Split sukses ke3140\n",
      "Split gagal ke208\n",
      "Split sukses ke3141\n",
      "Split sukses ke3142\n",
      "Split sukses ke3143\n",
      "Split sukses ke3144\n",
      "Split sukses ke3145\n",
      "Split sukses ke3146\n",
      "Split sukses ke3147\n",
      "Split sukses ke3148\n",
      "Split sukses ke3149\n",
      "Split sukses ke3150\n",
      "Split sukses ke3151\n",
      "Split sukses ke3152\n",
      "Split sukses ke3153\n",
      "Split sukses ke3154\n",
      "Split sukses ke3155\n",
      "Split sukses ke3156\n",
      "Split sukses ke3157\n",
      "Split sukses ke3158\n",
      "Split sukses ke3159\n",
      "Split sukses ke3160\n",
      "Split sukses ke3161\n",
      "Split sukses ke3162\n",
      "Split sukses ke3163\n",
      "Split sukses ke3164\n",
      "Split sukses ke3165\n",
      "Split sukses ke3166\n",
      "Split sukses ke3167\n",
      "Split sukses ke3168\n",
      "Split sukses ke3169\n",
      "Split sukses ke3170\n",
      "Split sukses ke3171\n",
      "Split sukses ke3172\n",
      "Split sukses ke3173\n",
      "Split sukses ke3174\n",
      "Split sukses ke3175\n",
      "Split sukses ke3176\n",
      "Split sukses ke3177\n",
      "Split sukses ke3178\n",
      "Split sukses ke3179\n",
      "Split sukses ke3180\n",
      "Split sukses ke3181\n",
      "Split sukses ke3182\n",
      "Split sukses ke3183\n",
      "Split sukses ke3184\n",
      "Split sukses ke3185\n",
      "Split gagal ke209\n",
      "Split sukses ke3186\n",
      "Split sukses ke3187\n",
      "Split sukses ke3188\n",
      "Split sukses ke3189\n",
      "Split sukses ke3190\n",
      "Split sukses ke3191\n",
      "Split sukses ke3192\n",
      "Split sukses ke3193\n",
      "Split sukses ke3194\n",
      "Split sukses ke3195\n",
      "Split sukses ke3196\n",
      "Split sukses ke3197\n",
      "Split sukses ke3198\n",
      "Split gagal ke210\n",
      "Split sukses ke3199\n",
      "Split sukses ke3200\n",
      "Split sukses ke3201\n",
      "Split sukses ke3202\n",
      "Split sukses ke3203\n",
      "Split sukses ke3204\n",
      "Split sukses ke3205\n",
      "Split sukses ke3206\n",
      "Split sukses ke3207\n",
      "Split sukses ke3208\n",
      "Split sukses ke3209\n",
      "Split gagal ke211\n",
      "Split sukses ke3210\n",
      "Split sukses ke3211\n",
      "Split sukses ke3212\n",
      "Split sukses ke3213\n",
      "Split sukses ke3214\n",
      "Split sukses ke3215\n",
      "Split sukses ke3216\n",
      "Split sukses ke3217\n",
      "Split sukses ke3218\n",
      "Split sukses ke3219\n",
      "Split sukses ke3220\n",
      "Split sukses ke3221\n",
      "Split sukses ke3222\n",
      "Split sukses ke3223\n",
      "Split sukses ke3224\n",
      "Split sukses ke3225\n",
      "Split sukses ke3226\n",
      "Split sukses ke3227\n",
      "Split sukses ke3228\n",
      "Split sukses ke3229\n",
      "Split sukses ke3230\n",
      "Split sukses ke3231\n",
      "Split sukses ke3232\n",
      "Split sukses ke3233\n",
      "Split sukses ke3234\n",
      "Split sukses ke3235\n",
      "Split sukses ke3236\n",
      "Split sukses ke3237\n",
      "Split gagal ke212\n",
      "Split sukses ke3238\n",
      "Split sukses ke3239\n",
      "Split sukses ke3240\n",
      "Split sukses ke3241\n",
      "Split sukses ke3242\n",
      "Split sukses ke3243\n",
      "Split sukses ke3244\n",
      "Split sukses ke3245\n",
      "Split sukses ke3246\n",
      "Split sukses ke3247\n",
      "Split sukses ke3248\n",
      "Split sukses ke3249\n",
      "Split sukses ke3250\n",
      "Split sukses ke3251\n",
      "Split sukses ke3252\n",
      "Split sukses ke3253\n",
      "Split sukses ke3254\n",
      "Split sukses ke3255\n",
      "Split sukses ke3256\n",
      "Split sukses ke3257\n",
      "Split sukses ke3258\n",
      "Split sukses ke3259\n",
      "Split sukses ke3260\n",
      "Split sukses ke3261\n",
      "Split gagal ke213\n",
      "Split sukses ke3262\n",
      "Split gagal ke214\n",
      "Split sukses ke3263\n",
      "Split sukses ke3264\n",
      "Split sukses ke3265\n",
      "Split sukses ke3266\n",
      "Split sukses ke3267\n",
      "Split sukses ke3268\n",
      "Split sukses ke3269\n",
      "Split sukses ke3270\n",
      "Split sukses ke3271\n",
      "Split sukses ke3272\n",
      "Split sukses ke3273\n",
      "Split sukses ke3274\n",
      "Split sukses ke3275\n",
      "Split sukses ke3276\n",
      "Split sukses ke3277\n",
      "Split sukses ke3278\n",
      "Split sukses ke3279\n",
      "Split sukses ke3280\n",
      "Split sukses ke3281\n",
      "Split sukses ke3282\n",
      "Split sukses ke3283\n",
      "Split sukses ke3284\n",
      "Split sukses ke3285\n",
      "Split sukses ke3286\n",
      "Split sukses ke3287\n",
      "Split sukses ke3288\n",
      "Split sukses ke3289\n",
      "Split sukses ke3290\n",
      "Split sukses ke3291\n",
      "Split sukses ke3292\n",
      "Split sukses ke3293\n",
      "Split sukses ke3294\n",
      "Split sukses ke3295\n",
      "Split sukses ke3296\n",
      "Split sukses ke3297\n",
      "Split sukses ke3298\n",
      "Split sukses ke3299\n",
      "Split gagal ke215\n",
      "Split sukses ke3300\n",
      "Split sukses ke3301\n",
      "Split sukses ke3302\n",
      "Split sukses ke3303\n",
      "Split sukses ke3304\n",
      "Split sukses ke3305\n",
      "Split sukses ke3306\n",
      "Split sukses ke3307\n",
      "Split sukses ke3308\n",
      "Split sukses ke3309\n",
      "Split sukses ke3310\n",
      "Split sukses ke3311\n",
      "Split sukses ke3312\n",
      "Split sukses ke3313\n",
      "Split sukses ke3314\n",
      "Split sukses ke3315\n",
      "Split sukses ke3316\n",
      "Split sukses ke3317\n",
      "Split sukses ke3318\n",
      "Split sukses ke3319\n",
      "Split sukses ke3320\n",
      "Split sukses ke3321\n",
      "Split sukses ke3322\n",
      "Split sukses ke3323\n",
      "Split sukses ke3324\n",
      "Split sukses ke3325\n",
      "Split sukses ke3326\n"
     ]
    },
    {
     "name": "stdout",
     "output_type": "stream",
     "text": [
      "Split sukses ke3327\n",
      "Split sukses ke3328\n",
      "Split sukses ke3329\n",
      "Split sukses ke3330\n",
      "Split sukses ke3331\n",
      "Split sukses ke3332\n",
      "Split sukses ke3333\n",
      "Split sukses ke3334\n",
      "Split sukses ke3335\n",
      "Split sukses ke3336\n",
      "Split sukses ke3337\n",
      "Split sukses ke3338\n",
      "Split sukses ke3339\n",
      "Split sukses ke3340\n",
      "Split sukses ke3341\n",
      "Split sukses ke3342\n",
      "Split sukses ke3343\n",
      "Split sukses ke3344\n",
      "Split sukses ke3345\n",
      "Split sukses ke3346\n",
      "Split sukses ke3347\n",
      "Split sukses ke3348\n",
      "Split sukses ke3349\n",
      "Split sukses ke3350\n",
      "Split sukses ke3351\n",
      "Split sukses ke3352\n",
      "Split sukses ke3353\n",
      "Split sukses ke3354\n",
      "Split sukses ke3355\n",
      "Split sukses ke3356\n",
      "Split sukses ke3357\n",
      "Split sukses ke3358\n",
      "Split sukses ke3359\n",
      "Split sukses ke3360\n",
      "Split sukses ke3361\n",
      "Split sukses ke3362\n",
      "Split sukses ke3363\n",
      "Split sukses ke3364\n",
      "Split sukses ke3365\n",
      "Split sukses ke3366\n",
      "Split sukses ke3367\n",
      "Split sukses ke3368\n",
      "Split sukses ke3369\n",
      "Split gagal ke216\n",
      "Split sukses ke3370\n",
      "Split sukses ke3371\n",
      "Split sukses ke3372\n",
      "Split sukses ke3373\n",
      "Split sukses ke3374\n",
      "Split sukses ke3375\n",
      "Split sukses ke3376\n",
      "Split sukses ke3377\n",
      "Split sukses ke3378\n",
      "Split sukses ke3379\n",
      "Split sukses ke3380\n",
      "Split sukses ke3381\n",
      "Split sukses ke3382\n",
      "Split sukses ke3383\n",
      "Split sukses ke3384\n",
      "Split sukses ke3385\n",
      "Split sukses ke3386\n",
      "Split sukses ke3387\n",
      "Split sukses ke3388\n",
      "Split gagal ke217\n",
      "Split sukses ke3389\n",
      "Split sukses ke3390\n",
      "Split sukses ke3391\n",
      "Split sukses ke3392\n",
      "Split sukses ke3393\n",
      "Split sukses ke3394\n",
      "Split sukses ke3395\n",
      "Split sukses ke3396\n",
      "Split sukses ke3397\n",
      "Split sukses ke3398\n",
      "Split sukses ke3399\n",
      "Split sukses ke3400\n",
      "Split sukses ke3401\n",
      "Split sukses ke3402\n",
      "Split sukses ke3403\n",
      "Split sukses ke3404\n",
      "Split gagal ke218\n",
      "Split sukses ke3405\n",
      "Split gagal ke219\n",
      "Split sukses ke3406\n",
      "Split gagal ke220\n",
      "Split sukses ke3407\n",
      "Split sukses ke3408\n",
      "Split sukses ke3409\n",
      "Split sukses ke3410\n",
      "Split sukses ke3411\n",
      "Split sukses ke3412\n",
      "Split sukses ke3413\n",
      "Split sukses ke3414\n",
      "Split sukses ke3415\n",
      "Split sukses ke3416\n",
      "Split sukses ke3417\n",
      "Split sukses ke3418\n",
      "Split sukses ke3419\n",
      "Split sukses ke3420\n",
      "Split sukses ke3421\n",
      "Split sukses ke3422\n",
      "Split sukses ke3423\n",
      "Split sukses ke3424\n",
      "Split sukses ke3425\n",
      "Split gagal ke221\n",
      "Split sukses ke3426\n",
      "Split sukses ke3427\n",
      "Split gagal ke222\n",
      "Split sukses ke3428\n",
      "Split sukses ke3429\n",
      "Split sukses ke3430\n",
      "Split sukses ke3431\n",
      "Split sukses ke3432\n",
      "Split gagal ke223\n",
      "Split sukses ke3433\n",
      "Split sukses ke3434\n",
      "Split sukses ke3435\n",
      "Split sukses ke3436\n",
      "Split sukses ke3437\n",
      "Split sukses ke3438\n",
      "Split sukses ke3439\n",
      "Split sukses ke3440\n",
      "Split sukses ke3441\n",
      "Split gagal ke224\n",
      "Split sukses ke3442\n",
      "Split sukses ke3443\n",
      "Split sukses ke3444\n",
      "Split sukses ke3445\n",
      "Split sukses ke3446\n",
      "Split sukses ke3447\n",
      "Split gagal ke225\n",
      "Split gagal ke226\n",
      "Split gagal ke227\n",
      "Split sukses ke3448\n",
      "Split sukses ke3449\n",
      "Split sukses ke3450\n",
      "Split sukses ke3451\n",
      "Split sukses ke3452\n",
      "Split sukses ke3453\n",
      "Split sukses ke3454\n",
      "Split sukses ke3455\n",
      "Split sukses ke3456\n",
      "Split sukses ke3457\n",
      "Split gagal ke228\n",
      "Split sukses ke3458\n",
      "Split sukses ke3459\n",
      "Split sukses ke3460\n",
      "Split sukses ke3461\n",
      "Split sukses ke3462\n",
      "Split sukses ke3463\n",
      "Split sukses ke3464\n",
      "Split sukses ke3465\n",
      "Split sukses ke3466\n",
      "Split sukses ke3467\n",
      "Split sukses ke3468\n",
      "Split sukses ke3469\n",
      "Split sukses ke3470\n",
      "Split sukses ke3471\n",
      "Split sukses ke3472\n",
      "Split sukses ke3473\n",
      "Split sukses ke3474\n",
      "Split sukses ke3475\n",
      "Split sukses ke3476\n",
      "Split sukses ke3477\n",
      "Split sukses ke3478\n",
      "Split gagal ke229\n",
      "Split sukses ke3479\n",
      "Split sukses ke3480\n",
      "Split sukses ke3481\n",
      "Split sukses ke3482\n",
      "Split sukses ke3483\n",
      "Split sukses ke3484\n",
      "Split sukses ke3485\n",
      "Split sukses ke3486\n",
      "Split sukses ke3487\n",
      "Split gagal ke230\n",
      "Split gagal ke231\n",
      "Split sukses ke3488\n",
      "Split sukses ke3489\n",
      "Split sukses ke3490\n",
      "Split sukses ke3491\n",
      "Split sukses ke3492\n",
      "Split sukses ke3493\n",
      "Split sukses ke3494\n",
      "Split sukses ke3495\n",
      "Split sukses ke3496\n",
      "Split sukses ke3497\n",
      "Split sukses ke3498\n",
      "Split sukses ke3499\n",
      "Split sukses ke3500\n",
      "Split sukses ke3501\n",
      "Split sukses ke3502\n",
      "Split sukses ke3503\n",
      "Split sukses ke3504\n",
      "Split gagal ke232\n",
      "Split sukses ke3505\n",
      "Split sukses ke3506\n",
      "Split sukses ke3507\n",
      "Split sukses ke3508\n",
      "Split sukses ke3509\n",
      "Split sukses ke3510\n",
      "Split sukses ke3511\n",
      "Split sukses ke3512\n",
      "Split sukses ke3513\n",
      "Split sukses ke3514\n",
      "Split sukses ke3515\n",
      "Split gagal ke233\n",
      "Split sukses ke3516\n",
      "Split sukses ke3517\n",
      "Split sukses ke3518\n",
      "Split sukses ke3519\n",
      "Split sukses ke3520\n",
      "Split sukses ke3521\n",
      "Split sukses ke3522\n",
      "Split sukses ke3523\n",
      "Split sukses ke3524\n",
      "Split sukses ke3525\n",
      "Split sukses ke3526\n",
      "Split sukses ke3527\n",
      "Split gagal ke234\n",
      "Split sukses ke3528\n",
      "Split gagal ke235\n",
      "Split gagal ke236\n",
      "Split sukses ke3529\n",
      "Split sukses ke3530\n",
      "Split sukses ke3531\n",
      "Split sukses ke3532\n",
      "Split sukses ke3533\n",
      "Split sukses ke3534\n",
      "Split sukses ke3535\n",
      "Split sukses ke3536\n",
      "Split sukses ke3537\n",
      "Split sukses ke3538\n",
      "Split sukses ke3539\n",
      "Split sukses ke3540\n",
      "Split gagal ke237\n",
      "Split gagal ke238\n",
      "Split sukses ke3541\n",
      "Split sukses ke3542\n",
      "Split sukses ke3543\n",
      "Split sukses ke3544\n",
      "Split sukses ke3545\n",
      "Split sukses ke3546\n",
      "Split sukses ke3547\n",
      "Split sukses ke3548\n",
      "Split sukses ke3549\n",
      "Split sukses ke3550\n",
      "Split sukses ke3551\n",
      "Split sukses ke3552\n",
      "Split gagal ke239\n",
      "Split gagal ke240\n",
      "Split sukses ke3553\n",
      "Split sukses ke3554\n",
      "Split sukses ke3555\n",
      "Split gagal ke241\n",
      "Split sukses ke3556\n",
      "Split sukses ke3557\n",
      "Split sukses ke3558\n",
      "Split gagal ke242\n",
      "Split sukses ke3559\n",
      "Split gagal ke243\n",
      "Split sukses ke3560\n",
      "Split sukses ke3561\n",
      "Split sukses ke3562\n",
      "Split sukses ke3563\n",
      "Split sukses ke3564\n",
      "Split sukses ke3565\n",
      "Split sukses ke3566\n",
      "Split gagal ke244\n",
      "Split sukses ke3567\n",
      "Split sukses ke3568\n",
      "Split sukses ke3569\n",
      "Split sukses ke3570\n",
      "Split sukses ke3571\n",
      "Split gagal ke245\n",
      "Split sukses ke3572\n",
      "Split sukses ke3573\n",
      "Split sukses ke3574\n",
      "Split sukses ke3575\n",
      "Split gagal ke246\n",
      "Split sukses ke3576\n",
      "Split gagal ke247\n",
      "Split sukses ke3577\n",
      "Split sukses ke3578\n",
      "Split sukses ke3579\n",
      "Split sukses ke3580\n",
      "Split sukses ke3581\n",
      "Split gagal ke248\n",
      "Split gagal ke249\n",
      "Split sukses ke3582\n",
      "Split sukses ke3583\n",
      "Split sukses ke3584\n",
      "Split sukses ke3585\n",
      "Split sukses ke3586\n",
      "Split gagal ke250\n",
      "Split sukses ke3587\n",
      "Split gagal ke251\n",
      "Split gagal ke252\n",
      "Split sukses ke3588\n",
      "Split sukses ke3589\n",
      "Split sukses ke3590\n",
      "Split gagal ke253\n",
      "Split sukses ke3591\n",
      "Split sukses ke3592\n",
      "Split sukses ke3593\n",
      "Split sukses ke3594\n",
      "Split sukses ke3595\n",
      "Split sukses ke3596\n",
      "Split sukses ke3597\n",
      "Split sukses ke3598\n",
      "Split sukses ke3599\n",
      "Split sukses ke3600\n",
      "Split sukses ke3601\n",
      "Split sukses ke3602\n",
      "Split sukses ke3603\n",
      "Split sukses ke3604\n",
      "Split sukses ke3605\n",
      "Split sukses ke3606\n",
      "Split sukses ke3607\n",
      "Split sukses ke3608\n",
      "Split sukses ke3609\n",
      "Split sukses ke3610\n",
      "Split sukses ke3611\n",
      "Split sukses ke3612\n",
      "Split gagal ke254\n",
      "Split sukses ke3613\n",
      "Split gagal ke255\n",
      "Split sukses ke3614\n",
      "Split sukses ke3615\n",
      "Split sukses ke3616\n",
      "Split gagal ke256\n",
      "Split sukses ke3617\n",
      "Split sukses ke3618\n",
      "Split sukses ke3619\n",
      "Split gagal ke257\n",
      "Split sukses ke3620\n",
      "Split gagal ke258\n",
      "Split sukses ke3621\n",
      "Split sukses ke3622\n",
      "Split sukses ke3623\n",
      "Split sukses ke3624\n",
      "Split sukses ke3625\n",
      "Split sukses ke3626\n",
      "Split sukses ke3627\n",
      "Split sukses ke3628\n",
      "Split sukses ke3629\n",
      "Split sukses ke3630\n",
      "Split sukses ke3631\n",
      "Split gagal ke259\n",
      "Split gagal ke260\n",
      "Split sukses ke3632\n",
      "Split sukses ke3633\n",
      "Split sukses ke3634\n",
      "Split sukses ke3635\n",
      "Split sukses ke3636\n",
      "Split sukses ke3637\n",
      "Split sukses ke3638\n",
      "Split sukses ke3639\n",
      "Split sukses ke3640\n",
      "Split sukses ke3641\n",
      "Split sukses ke3642\n",
      "Split sukses ke3643\n",
      "Split sukses ke3644\n",
      "Split sukses ke3645\n",
      "Split gagal ke261\n",
      "Split sukses ke3646\n",
      "Split sukses ke3647\n",
      "Split sukses ke3648\n",
      "Split sukses ke3649\n",
      "Split sukses ke3650\n",
      "Split sukses ke3651\n",
      "Split sukses ke3652\n",
      "Split sukses ke3653\n",
      "Split sukses ke3654\n",
      "Split gagal ke262\n",
      "Split sukses ke3655\n",
      "Split sukses ke3656\n",
      "Split sukses ke3657\n",
      "Split sukses ke3658\n",
      "Split sukses ke3659\n",
      "Split sukses ke3660\n",
      "Split sukses ke3661\n",
      "Split gagal ke263\n",
      "Split gagal ke264\n",
      "Split sukses ke3662\n",
      "Split sukses ke3663\n",
      "Split sukses ke3664\n",
      "Split sukses ke3665\n",
      "Split gagal ke265\n",
      "Split sukses ke3666\n",
      "Split sukses ke3667\n",
      "Split gagal ke266\n",
      "Split sukses ke3668\n",
      "Split sukses ke3669\n",
      "Split sukses ke3670\n",
      "Split gagal ke267\n",
      "Split sukses ke3671\n",
      "Split sukses ke3672\n",
      "Split sukses ke3673\n",
      "Split gagal ke268\n",
      "Split sukses ke3674\n",
      "Split sukses ke3675\n",
      "Split sukses ke3676\n",
      "Split gagal ke269\n",
      "Split sukses ke3677\n",
      "Split sukses ke3678\n",
      "Split sukses ke3679\n",
      "Split sukses ke3680\n",
      "Split gagal ke270\n",
      "Split sukses ke3681\n",
      "Split sukses ke3682\n",
      "Split gagal ke271\n",
      "Split gagal ke272\n",
      "Split sukses ke3683\n",
      "Split sukses ke3684\n",
      "Split sukses ke3685\n",
      "Split sukses ke3686\n"
     ]
    },
    {
     "name": "stdout",
     "output_type": "stream",
     "text": [
      "Split gagal ke273\n",
      "Split sukses ke3687\n",
      "Split gagal ke274\n",
      "Split sukses ke3688\n",
      "Split sukses ke3689\n",
      "Split gagal ke275\n",
      "Split sukses ke3690\n",
      "Split sukses ke3691\n",
      "Split sukses ke3692\n",
      "Split sukses ke3693\n",
      "Split sukses ke3694\n",
      "Split gagal ke276\n",
      "Split sukses ke3695\n",
      "Split sukses ke3696\n",
      "Split sukses ke3697\n",
      "Split sukses ke3698\n",
      "Split sukses ke3699\n",
      "Split sukses ke3700\n",
      "Split sukses ke3701\n",
      "Split sukses ke3702\n",
      "Split gagal ke277\n",
      "Split sukses ke3703\n",
      "Split sukses ke3704\n",
      "Split gagal ke278\n",
      "Split sukses ke3705\n",
      "Split sukses ke3706\n",
      "Split sukses ke3707\n",
      "Split sukses ke3708\n",
      "Split sukses ke3709\n",
      "Split sukses ke3710\n",
      "Split sukses ke3711\n",
      "Split sukses ke3712\n",
      "Split sukses ke3713\n",
      "Split sukses ke3714\n",
      "Split sukses ke3715\n",
      "Split sukses ke3716\n",
      "Split sukses ke3717\n",
      "Split sukses ke3718\n",
      "Split sukses ke3719\n",
      "Split gagal ke279\n",
      "Split sukses ke3720\n",
      "Split sukses ke3721\n",
      "Split gagal ke280\n",
      "Split gagal ke281\n",
      "Split sukses ke3722\n",
      "Split sukses ke3723\n",
      "Split sukses ke3724\n",
      "Split sukses ke3725\n",
      "Split gagal ke282\n",
      "Split sukses ke3726\n",
      "Split sukses ke3727\n",
      "Split sukses ke3728\n",
      "Split gagal ke283\n",
      "Split sukses ke3729\n",
      "Split sukses ke3730\n",
      "Split sukses ke3731\n",
      "Split gagal ke284\n",
      "Split sukses ke3732\n",
      "Split sukses ke3733\n",
      "Split sukses ke3734\n",
      "Split sukses ke3735\n",
      "Split sukses ke3736\n",
      "Split sukses ke3737\n",
      "Split gagal ke285\n",
      "Split sukses ke3738\n",
      "Split gagal ke286\n",
      "Split sukses ke3739\n",
      "Split sukses ke3740\n",
      "Split sukses ke3741\n",
      "Split sukses ke3742\n",
      "Split sukses ke3743\n",
      "Split sukses ke3744\n",
      "Split sukses ke3745\n",
      "Split sukses ke3746\n",
      "Split sukses ke3747\n",
      "Split sukses ke3748\n",
      "Split sukses ke3749\n",
      "Split sukses ke3750\n",
      "Split sukses ke3751\n",
      "Split sukses ke3752\n",
      "Split sukses ke3753\n",
      "Split sukses ke3754\n",
      "Split sukses ke3755\n",
      "Split sukses ke3756\n",
      "Split sukses ke3757\n",
      "Split sukses ke3758\n",
      "Split sukses ke3759\n",
      "Split sukses ke3760\n",
      "Split sukses ke3761\n",
      "Split sukses ke3762\n",
      "Split sukses ke3763\n",
      "Split sukses ke3764\n",
      "Split gagal ke287\n",
      "Split sukses ke3765\n",
      "Split sukses ke3766\n",
      "Split sukses ke3767\n",
      "Split sukses ke3768\n",
      "Split sukses ke3769\n",
      "Split sukses ke3770\n",
      "Split sukses ke3771\n",
      "Split sukses ke3772\n",
      "Split sukses ke3773\n",
      "Split gagal ke288\n",
      "Split sukses ke3774\n",
      "Split sukses ke3775\n",
      "Split sukses ke3776\n",
      "Split sukses ke3777\n",
      "Split gagal ke289\n",
      "Split sukses ke3778\n",
      "Split sukses ke3779\n",
      "Split sukses ke3780\n",
      "Split sukses ke3781\n",
      "Split sukses ke3782\n",
      "Split gagal ke290\n",
      "Split sukses ke3783\n",
      "Split sukses ke3784\n",
      "Split sukses ke3785\n",
      "Split sukses ke3786\n",
      "Split sukses ke3787\n",
      "Split sukses ke3788\n",
      "Split sukses ke3789\n",
      "Split sukses ke3790\n",
      "Split gagal ke291\n",
      "Split sukses ke3791\n",
      "Split sukses ke3792\n",
      "Split sukses ke3793\n",
      "Split sukses ke3794\n",
      "Split sukses ke3795\n",
      "Split sukses ke3796\n",
      "Split sukses ke3797\n",
      "Split sukses ke3798\n",
      "Split gagal ke292\n",
      "Split sukses ke3799\n",
      "Split gagal ke293\n",
      "Split sukses ke3800\n",
      "Split sukses ke3801\n",
      "Split sukses ke3802\n",
      "Split sukses ke3803\n",
      "Split sukses ke3804\n",
      "Split gagal ke294\n",
      "Split sukses ke3805\n",
      "Split sukses ke3806\n",
      "Split gagal ke295\n",
      "Split sukses ke3807\n",
      "Split sukses ke3808\n",
      "Split sukses ke3809\n",
      "Split sukses ke3810\n",
      "Split sukses ke3811\n",
      "Split gagal ke296\n",
      "Split sukses ke3812\n",
      "Split sukses ke3813\n",
      "Split gagal ke297\n",
      "Split gagal ke298\n",
      "Split sukses ke3814\n",
      "Split sukses ke3815\n",
      "Split gagal ke299\n",
      "Split sukses ke3816\n",
      "Split sukses ke3817\n",
      "Split sukses ke3818\n",
      "Split gagal ke300\n",
      "Split gagal ke301\n",
      "Split sukses ke3819\n",
      "Split gagal ke302\n",
      "Split sukses ke3820\n",
      "Split sukses ke3821\n",
      "Split sukses ke3822\n",
      "Split sukses ke3823\n",
      "Split sukses ke3824\n",
      "Split gagal ke303\n",
      "Split sukses ke3825\n",
      "Split sukses ke3826\n",
      "Split sukses ke3827\n",
      "Split sukses ke3828\n",
      "Split sukses ke3829\n",
      "Split sukses ke3830\n",
      "Split sukses ke3831\n",
      "Split sukses ke3832\n",
      "Split sukses ke3833\n",
      "Split sukses ke3834\n",
      "Split sukses ke3835\n",
      "Split sukses ke3836\n",
      "Split sukses ke3837\n",
      "Split sukses ke3838\n",
      "Split sukses ke3839\n",
      "Split gagal ke304\n",
      "Split sukses ke3840\n",
      "Split sukses ke3841\n",
      "Split sukses ke3842\n",
      "Split gagal ke305\n",
      "Split sukses ke3843\n",
      "Split gagal ke306\n",
      "Split sukses ke3844\n",
      "Split sukses ke3845\n",
      "Split sukses ke3846\n",
      "Split sukses ke3847\n",
      "Split gagal ke307\n",
      "Split sukses ke3848\n",
      "Split sukses ke3849\n",
      "Split sukses ke3850\n",
      "Split sukses ke3851\n",
      "Split sukses ke3852\n",
      "Split sukses ke3853\n",
      "Split sukses ke3854\n",
      "Split sukses ke3855\n",
      "Split sukses ke3856\n",
      "Split sukses ke3857\n",
      "Split sukses ke3858\n",
      "Split sukses ke3859\n",
      "Split sukses ke3860\n",
      "Split sukses ke3861\n",
      "Split sukses ke3862\n",
      "Split sukses ke3863\n",
      "Split sukses ke3864\n",
      "Split sukses ke3865\n",
      "Split gagal ke308\n",
      "Split sukses ke3866\n",
      "Split sukses ke3867\n",
      "Split sukses ke3868\n",
      "Split sukses ke3869\n",
      "Split sukses ke3870\n",
      "Split sukses ke3871\n",
      "Split sukses ke3872\n",
      "Split sukses ke3873\n",
      "Split sukses ke3874\n",
      "Split sukses ke3875\n",
      "Split sukses ke3876\n",
      "Split gagal ke309\n",
      "Split gagal ke310\n",
      "Split sukses ke3877\n",
      "Split sukses ke3878\n",
      "Split sukses ke3879\n",
      "Split sukses ke3880\n",
      "Split sukses ke3881\n",
      "Split sukses ke3882\n",
      "Split sukses ke3883\n",
      "Split sukses ke3884\n",
      "Split sukses ke3885\n",
      "Split sukses ke3886\n",
      "Split sukses ke3887\n",
      "Split sukses ke3888\n",
      "Split gagal ke311\n",
      "Split sukses ke3889\n",
      "Split sukses ke3890\n",
      "Split sukses ke3891\n",
      "Split sukses ke3892\n",
      "Split sukses ke3893\n",
      "Split sukses ke3894\n",
      "Split sukses ke3895\n",
      "Split sukses ke3896\n",
      "Split sukses ke3897\n",
      "Split sukses ke3898\n",
      "Split sukses ke3899\n",
      "Split sukses ke3900\n",
      "Split gagal ke312\n",
      "Split sukses ke3901\n",
      "Split sukses ke3902\n",
      "Split gagal ke313\n",
      "Split sukses ke3903\n",
      "Split gagal ke314\n",
      "Split sukses ke3904\n",
      "Split sukses ke3905\n",
      "Split sukses ke3906\n",
      "Split sukses ke3907\n",
      "Split sukses ke3908\n",
      "Split sukses ke3909\n",
      "Split sukses ke3910\n",
      "Split sukses ke3911\n",
      "Split sukses ke3912\n",
      "Split sukses ke3913\n",
      "Split sukses ke3914\n",
      "Split sukses ke3915\n",
      "Split sukses ke3916\n",
      "Split gagal ke315\n",
      "Split sukses ke3917\n",
      "Split sukses ke3918\n",
      "Split sukses ke3919\n",
      "Split sukses ke3920\n",
      "Split gagal ke316\n",
      "Split sukses ke3921\n",
      "Split sukses ke3922\n",
      "Split sukses ke3923\n",
      "Split sukses ke3924\n",
      "Split sukses ke3925\n",
      "Split sukses ke3926\n",
      "Split gagal ke317\n",
      "Split sukses ke3927\n",
      "Split gagal ke318\n",
      "Split sukses ke3928\n",
      "Split sukses ke3929\n",
      "Split sukses ke3930\n",
      "Split sukses ke3931\n",
      "Split sukses ke3932\n",
      "Split sukses ke3933\n",
      "Split sukses ke3934\n",
      "Split sukses ke3935\n",
      "Split sukses ke3936\n",
      "Split gagal ke319\n",
      "Split sukses ke3937\n",
      "Split sukses ke3938\n",
      "Split sukses ke3939\n",
      "Split sukses ke3940\n",
      "Split sukses ke3941\n",
      "Split sukses ke3942\n",
      "Split sukses ke3943\n",
      "Split sukses ke3944\n",
      "Split sukses ke3945\n",
      "Split sukses ke3946\n",
      "Split sukses ke3947\n",
      "Split sukses ke3948\n",
      "Split sukses ke3949\n",
      "Split sukses ke3950\n",
      "Split sukses ke3951\n",
      "Split sukses ke3952\n",
      "Split sukses ke3953\n",
      "Split sukses ke3954\n",
      "Split sukses ke3955\n",
      "Split gagal ke320\n",
      "Split gagal ke321\n",
      "Split sukses ke3956\n",
      "Split sukses ke3957\n",
      "Split gagal ke322\n",
      "Split sukses ke3958\n",
      "Split gagal ke323\n",
      "Split sukses ke3959\n",
      "Split sukses ke3960\n",
      "Split gagal ke324\n",
      "Split gagal ke325\n",
      "Split sukses ke3961\n",
      "Split sukses ke3962\n",
      "Split sukses ke3963\n",
      "Split sukses ke3964\n",
      "Split sukses ke3965\n",
      "Split sukses ke3966\n",
      "Split sukses ke3967\n",
      "Split sukses ke3968\n",
      "Split gagal ke326\n",
      "Split sukses ke3969\n",
      "Split sukses ke3970\n",
      "Split sukses ke3971\n",
      "Split gagal ke327\n",
      "Split sukses ke3972\n",
      "Split sukses ke3973\n",
      "Split sukses ke3974\n",
      "Split sukses ke3975\n",
      "Split sukses ke3976\n",
      "Split sukses ke3977\n",
      "Split gagal ke328\n",
      "Split sukses ke3978\n",
      "Split gagal ke329\n",
      "Split gagal ke330\n",
      "Split sukses ke3979\n",
      "Split sukses ke3980\n",
      "Split sukses ke3981\n",
      "Split gagal ke331\n",
      "Split gagal ke332\n",
      "Split sukses ke3982\n",
      "Split sukses ke3983\n",
      "Split sukses ke3984\n",
      "Split sukses ke3985\n",
      "Split sukses ke3986\n",
      "Split sukses ke3987\n",
      "Split sukses ke3988\n",
      "Split sukses ke3989\n",
      "Split sukses ke3990\n",
      "Split sukses ke3991\n",
      "Split gagal ke333\n",
      "Split sukses ke3992\n",
      "Split sukses ke3993\n",
      "Split sukses ke3994\n",
      "Split sukses ke3995\n",
      "Split sukses ke3996\n",
      "Split gagal ke334\n",
      "Split gagal ke335\n",
      "Split sukses ke3997\n",
      "Split sukses ke3998\n",
      "Split sukses ke3999\n",
      "Split gagal ke336\n",
      "Split sukses ke4000\n",
      "Split sukses ke4001\n",
      "Split sukses ke4002\n",
      "Split sukses ke4003\n",
      "Split gagal ke337\n",
      "Split sukses ke4004\n",
      "Split sukses ke4005\n",
      "Split sukses ke4006\n",
      "Split sukses ke4007\n",
      "Split sukses ke4008\n",
      "Split sukses ke4009\n",
      "Split sukses ke4010\n",
      "Split sukses ke4011\n",
      "Split sukses ke4012\n",
      "Split sukses ke4013\n",
      "Split sukses ke4014\n",
      "Split sukses ke4015\n",
      "Split gagal ke338\n",
      "Split sukses ke4016\n",
      "Split sukses ke4017\n",
      "Split gagal ke339\n",
      "Split sukses ke4018\n",
      "Split sukses ke4019\n",
      "Split gagal ke340\n",
      "Split sukses ke4020\n",
      "Split sukses ke4021\n",
      "Split sukses ke4022\n",
      "Split gagal ke341\n",
      "Split sukses ke4023\n",
      "Split gagal ke342\n",
      "Split gagal ke343\n",
      "Split sukses ke4024\n",
      "Split sukses ke4025\n",
      "Split sukses ke4026\n",
      "Split sukses ke4027\n",
      "Split sukses ke4028\n",
      "Split sukses ke4029\n",
      "Split sukses ke4030\n",
      "Split gagal ke344\n",
      "Split sukses ke4031\n",
      "Split sukses ke4032\n"
     ]
    },
    {
     "name": "stdout",
     "output_type": "stream",
     "text": [
      "Split sukses ke4033\n",
      "Split sukses ke4034\n",
      "Split sukses ke4035\n",
      "Split sukses ke4036\n",
      "Split sukses ke4037\n",
      "Split gagal ke345\n",
      "Split gagal ke346\n",
      "Split gagal ke347\n",
      "Split sukses ke4038\n",
      "Split sukses ke4039\n",
      "Split sukses ke4040\n",
      "Split sukses ke4041\n",
      "Split sukses ke4042\n",
      "Split sukses ke4043\n",
      "Split sukses ke4044\n",
      "Split sukses ke4045\n",
      "Split sukses ke4046\n",
      "Split sukses ke4047\n",
      "Split sukses ke4048\n",
      "Split gagal ke348\n",
      "Split sukses ke4049\n",
      "Split sukses ke4050\n",
      "Split gagal ke349\n",
      "Split gagal ke350\n",
      "Split gagal ke351\n",
      "Split sukses ke4051\n",
      "Split sukses ke4052\n",
      "Split sukses ke4053\n",
      "Split sukses ke4054\n",
      "Split gagal ke352\n",
      "Split sukses ke4055\n",
      "Split sukses ke4056\n",
      "Split sukses ke4057\n",
      "Split gagal ke353\n",
      "Split gagal ke354\n",
      "Split gagal ke355\n",
      "Split gagal ke356\n",
      "Split sukses ke4058\n",
      "Split sukses ke4059\n",
      "Split sukses ke4060\n",
      "Split sukses ke4061\n",
      "Split sukses ke4062\n",
      "Split sukses ke4063\n",
      "Split gagal ke357\n",
      "Split sukses ke4064\n",
      "Split sukses ke4065\n",
      "Split sukses ke4066\n",
      "Split sukses ke4067\n",
      "Split sukses ke4068\n",
      "Split sukses ke4069\n",
      "Split sukses ke4070\n",
      "Split gagal ke358\n",
      "Split sukses ke4071\n",
      "Split gagal ke359\n",
      "Split gagal ke360\n",
      "Split sukses ke4072\n",
      "Split sukses ke4073\n",
      "Split sukses ke4074\n",
      "Split sukses ke4075\n",
      "Split sukses ke4076\n",
      "Split sukses ke4077\n",
      "Split gagal ke361\n",
      "Split sukses ke4078\n",
      "Split sukses ke4079\n",
      "Split sukses ke4080\n",
      "Split sukses ke4081\n",
      "Split sukses ke4082\n",
      "Split sukses ke4083\n",
      "Split sukses ke4084\n",
      "Split sukses ke4085\n",
      "Split sukses ke4086\n",
      "Split sukses ke4087\n",
      "Split sukses ke4088\n",
      "Split sukses ke4089\n",
      "Split sukses ke4090\n",
      "Split sukses ke4091\n",
      "Split sukses ke4092\n",
      "Split sukses ke4093\n",
      "Split sukses ke4094\n",
      "Split gagal ke362\n",
      "Split sukses ke4095\n",
      "Split sukses ke4096\n",
      "Split sukses ke4097\n",
      "Split sukses ke4098\n",
      "Split sukses ke4099\n",
      "Split sukses ke4100\n",
      "Split sukses ke4101\n",
      "Split sukses ke4102\n",
      "Split sukses ke4103\n",
      "Split gagal ke363\n",
      "Split gagal ke364\n",
      "Split sukses ke4104\n",
      "Split sukses ke4105\n",
      "Split sukses ke4106\n",
      "Split sukses ke4107\n",
      "Split sukses ke4108\n",
      "Split sukses ke4109\n",
      "Split gagal ke365\n",
      "Split sukses ke4110\n",
      "Split gagal ke366\n",
      "Split sukses ke4111\n",
      "Split sukses ke4112\n",
      "Split sukses ke4113\n",
      "Split sukses ke4114\n",
      "Split sukses ke4115\n",
      "Split sukses ke4116\n",
      "Split sukses ke4117\n",
      "Split gagal ke367\n",
      "Split sukses ke4118\n",
      "Split sukses ke4119\n",
      "Split gagal ke368\n",
      "Split sukses ke4120\n",
      "Split gagal ke369\n",
      "Split gagal ke370\n",
      "Split sukses ke4121\n",
      "Split gagal ke371\n",
      "Split sukses ke4122\n",
      "Split sukses ke4123\n",
      "Split sukses ke4124\n",
      "Split sukses ke4125\n",
      "Split sukses ke4126\n",
      "Split sukses ke4127\n",
      "Split sukses ke4128\n",
      "Split sukses ke4129\n",
      "Split sukses ke4130\n",
      "Split sukses ke4131\n",
      "Split sukses ke4132\n",
      "Split sukses ke4133\n",
      "Split gagal ke372\n",
      "Split sukses ke4134\n",
      "Split sukses ke4135\n",
      "Split gagal ke373\n",
      "Split gagal ke374\n",
      "Split sukses ke4136\n",
      "Split sukses ke4137\n",
      "Split gagal ke375\n",
      "Split sukses ke4138\n",
      "Split sukses ke4139\n",
      "Split sukses ke4140\n",
      "Split sukses ke4141\n",
      "Split sukses ke4142\n",
      "Split sukses ke4143\n",
      "Split sukses ke4144\n",
      "Split sukses ke4145\n",
      "Split sukses ke4146\n",
      "Split sukses ke4147\n",
      "Split sukses ke4148\n",
      "Split sukses ke4149\n",
      "Split sukses ke4150\n",
      "Split sukses ke4151\n",
      "Split sukses ke4152\n",
      "Split gagal ke376\n",
      "Split sukses ke4153\n",
      "Split sukses ke4154\n",
      "Split gagal ke377\n",
      "Split gagal ke378\n",
      "Split sukses ke4155\n",
      "Split sukses ke4156\n",
      "Split sukses ke4157\n",
      "Split sukses ke4158\n",
      "Split sukses ke4159\n",
      "Split sukses ke4160\n",
      "Split sukses ke4161\n",
      "Split gagal ke379\n",
      "Split sukses ke4162\n",
      "Split sukses ke4163\n",
      "Split sukses ke4164\n",
      "Split sukses ke4165\n",
      "Split sukses ke4166\n",
      "Split sukses ke4167\n",
      "Split sukses ke4168\n",
      "Split gagal ke380\n",
      "Split gagal ke381\n",
      "Split sukses ke4169\n",
      "Split sukses ke4170\n",
      "Split gagal ke382\n",
      "Split sukses ke4171\n",
      "Split sukses ke4172\n",
      "Split gagal ke383\n",
      "Split sukses ke4173\n",
      "Split sukses ke4174\n",
      "Split sukses ke4175\n",
      "Split sukses ke4176\n",
      "Split sukses ke4177\n",
      "Split sukses ke4178\n",
      "Split sukses ke4179\n",
      "Split sukses ke4180\n",
      "Split sukses ke4181\n",
      "Split sukses ke4182\n",
      "Split sukses ke4183\n",
      "Split gagal ke384\n",
      "Split gagal ke385\n",
      "Split sukses ke4184\n",
      "Split sukses ke4185\n",
      "Split sukses ke4186\n",
      "Split sukses ke4187\n",
      "Split sukses ke4188\n",
      "Split sukses ke4189\n",
      "Split gagal ke386\n",
      "Split sukses ke4190\n",
      "Split sukses ke4191\n",
      "Split sukses ke4192\n",
      "Split sukses ke4193\n",
      "Split sukses ke4194\n",
      "Split gagal ke387\n",
      "Split sukses ke4195\n",
      "Split sukses ke4196\n",
      "Split sukses ke4197\n",
      "Split sukses ke4198\n",
      "Split gagal ke388\n",
      "Split sukses ke4199\n",
      "Split gagal ke389\n",
      "Split sukses ke4200\n",
      "Split sukses ke4201\n",
      "Split sukses ke4202\n",
      "Split gagal ke390\n",
      "Split sukses ke4203\n",
      "Split sukses ke4204\n",
      "Split sukses ke4205\n",
      "Split sukses ke4206\n",
      "Split sukses ke4207\n",
      "Split sukses ke4208\n",
      "Split sukses ke4209\n",
      "Split sukses ke4210\n",
      "Split sukses ke4211\n",
      "Split sukses ke4212\n",
      "Split sukses ke4213\n",
      "Split sukses ke4214\n",
      "Split sukses ke4215\n",
      "Split sukses ke4216\n",
      "Split sukses ke4217\n",
      "Split sukses ke4218\n",
      "Split sukses ke4219\n",
      "Split sukses ke4220\n",
      "Split sukses ke4221\n",
      "Split sukses ke4222\n",
      "Split sukses ke4223\n",
      "Split sukses ke4224\n",
      "Split sukses ke4225\n",
      "Split sukses ke4226\n",
      "Split sukses ke4227\n",
      "Split sukses ke4228\n",
      "Split sukses ke4229\n",
      "Split sukses ke4230\n",
      "Split sukses ke4231\n",
      "Split gagal ke391\n",
      "Split sukses ke4232\n",
      "Split sukses ke4233\n",
      "Split sukses ke4234\n",
      "Split sukses ke4235\n",
      "Split sukses ke4236\n",
      "Split sukses ke4237\n",
      "Split sukses ke4238\n",
      "Split sukses ke4239\n",
      "Split sukses ke4240\n",
      "Split sukses ke4241\n",
      "Split sukses ke4242\n",
      "Split sukses ke4243\n",
      "Split sukses ke4244\n",
      "Split gagal ke392\n",
      "Split sukses ke4245\n",
      "Split sukses ke4246\n",
      "Split sukses ke4247\n",
      "Split gagal ke393\n",
      "Split sukses ke4248\n",
      "Split sukses ke4249\n",
      "Split sukses ke4250\n",
      "Split sukses ke4251\n",
      "Split sukses ke4252\n",
      "Split sukses ke4253\n",
      "Split gagal ke394\n",
      "Split sukses ke4254\n",
      "Split sukses ke4255\n",
      "Split sukses ke4256\n",
      "Split sukses ke4257\n",
      "Split sukses ke4258\n",
      "Split sukses ke4259\n",
      "Split sukses ke4260\n",
      "Split sukses ke4261\n",
      "Split sukses ke4262\n",
      "Split sukses ke4263\n",
      "Split sukses ke4264\n",
      "Split sukses ke4265\n",
      "Split sukses ke4266\n",
      "Split sukses ke4267\n",
      "Split sukses ke4268\n",
      "Split sukses ke4269\n",
      "Split sukses ke4270\n",
      "Split sukses ke4271\n",
      "Split sukses ke4272\n",
      "Split sukses ke4273\n",
      "Split sukses ke4274\n",
      "Split sukses ke4275\n",
      "Split sukses ke4276\n",
      "Split sukses ke4277\n",
      "Split sukses ke4278\n",
      "Split sukses ke4279\n",
      "Split sukses ke4280\n",
      "Split sukses ke4281\n",
      "Split sukses ke4282\n",
      "Split sukses ke4283\n",
      "Split sukses ke4284\n",
      "Split sukses ke4285\n",
      "Split sukses ke4286\n",
      "Split sukses ke4287\n",
      "Split sukses ke4288\n",
      "Split sukses ke4289\n",
      "Split sukses ke4290\n",
      "Split sukses ke4291\n",
      "Split sukses ke4292\n",
      "Split sukses ke4293\n",
      "Split sukses ke4294\n",
      "Split sukses ke4295\n",
      "Split sukses ke4296\n",
      "Split sukses ke4297\n",
      "Split sukses ke4298\n",
      "Split sukses ke4299\n",
      "Split sukses ke4300\n",
      "Split sukses ke4301\n",
      "Split sukses ke4302\n",
      "Split sukses ke4303\n",
      "Split sukses ke4304\n",
      "Split sukses ke4305\n",
      "Split sukses ke4306\n",
      "Split sukses ke4307\n",
      "Split sukses ke4308\n",
      "Split sukses ke4309\n",
      "Split sukses ke4310\n",
      "Split sukses ke4311\n",
      "Split sukses ke4312\n",
      "Split sukses ke4313\n",
      "Split sukses ke4314\n",
      "Split sukses ke4315\n",
      "Split sukses ke4316\n",
      "Split sukses ke4317\n",
      "Split sukses ke4318\n",
      "Split sukses ke4319\n",
      "Split sukses ke4320\n",
      "Split sukses ke4321\n",
      "Split sukses ke4322\n",
      "Split sukses ke4323\n",
      "Split sukses ke4324\n",
      "Split sukses ke4325\n",
      "Split sukses ke4326\n",
      "Split sukses ke4327\n",
      "Split sukses ke4328\n",
      "Split sukses ke4329\n",
      "Split sukses ke4330\n",
      "Split sukses ke4331\n",
      "Split sukses ke4332\n",
      "Split sukses ke4333\n",
      "Split sukses ke4334\n",
      "Split sukses ke4335\n",
      "Split sukses ke4336\n",
      "Split sukses ke4337\n",
      "Split sukses ke4338\n",
      "Split sukses ke4339\n",
      "Split sukses ke4340\n",
      "Split sukses ke4341\n",
      "Split sukses ke4342\n",
      "Split sukses ke4343\n",
      "Split sukses ke4344\n",
      "Split sukses ke4345\n",
      "Split sukses ke4346\n",
      "Split sukses ke4347\n",
      "Split sukses ke4348\n",
      "Split sukses ke4349\n",
      "Split sukses ke4350\n",
      "Split sukses ke4351\n",
      "Split sukses ke4352\n",
      "Split sukses ke4353\n",
      "Split sukses ke4354\n",
      "Split sukses ke4355\n",
      "Split sukses ke4356\n",
      "Split sukses ke4357\n",
      "Split sukses ke4358\n",
      "Split sukses ke4359\n",
      "Split sukses ke4360\n",
      "Split sukses ke4361\n",
      "Split sukses ke4362\n",
      "Split sukses ke4363\n",
      "Split sukses ke4364\n",
      "Split sukses ke4365\n",
      "Split sukses ke4366\n",
      "Split sukses ke4367\n",
      "Split sukses ke4368\n",
      "Split sukses ke4369\n",
      "Split sukses ke4370\n",
      "Split sukses ke4371\n",
      "Split sukses ke4372\n",
      "Split sukses ke4373\n",
      "Split sukses ke4374\n",
      "Split sukses ke4375\n",
      "Split sukses ke4376\n",
      "Split sukses ke4377\n",
      "Split sukses ke4378\n",
      "Split sukses ke4379\n",
      "Split sukses ke4380\n",
      "Split sukses ke4381\n",
      "Split sukses ke4382\n",
      "Split sukses ke4383\n",
      "Split sukses ke4384\n",
      "Split sukses ke4385\n",
      "Split sukses ke4386\n",
      "Split sukses ke4387\n",
      "Split sukses ke4388\n",
      "Split sukses ke4389\n",
      "Split sukses ke4390\n",
      "Split sukses ke4391\n",
      "Split sukses ke4392\n",
      "Split sukses ke4393\n",
      "Split sukses ke4394\n",
      "Split sukses ke4395\n",
      "Split sukses ke4396\n",
      "Split sukses ke4397\n",
      "Split sukses ke4398\n",
      "Split sukses ke4399\n",
      "Split sukses ke4400\n",
      "Split sukses ke4401\n",
      "Split sukses ke4402\n"
     ]
    },
    {
     "name": "stdout",
     "output_type": "stream",
     "text": [
      "Split sukses ke4403\n",
      "Split sukses ke4404\n",
      "Split sukses ke4405\n",
      "Split gagal ke395\n",
      "Split sukses ke4406\n",
      "Split sukses ke4407\n",
      "Split sukses ke4408\n",
      "Split sukses ke4409\n",
      "Split sukses ke4410\n",
      "Split gagal ke396\n",
      "Split sukses ke4411\n",
      "Split sukses ke4412\n",
      "Split sukses ke4413\n",
      "Split sukses ke4414\n",
      "Split sukses ke4415\n",
      "Split sukses ke4416\n",
      "Split sukses ke4417\n",
      "Split sukses ke4418\n",
      "Split sukses ke4419\n",
      "Split sukses ke4420\n",
      "Split sukses ke4421\n",
      "Split sukses ke4422\n",
      "Split sukses ke4423\n",
      "Split sukses ke4424\n",
      "Split sukses ke4425\n",
      "Split sukses ke4426\n",
      "Split sukses ke4427\n",
      "Split sukses ke4428\n",
      "Split sukses ke4429\n",
      "Split sukses ke4430\n",
      "Split sukses ke4431\n",
      "Split sukses ke4432\n",
      "Split sukses ke4433\n",
      "Split sukses ke4434\n",
      "Split sukses ke4435\n",
      "Split sukses ke4436\n",
      "Split sukses ke4437\n",
      "Split sukses ke4438\n",
      "Split gagal ke397\n",
      "Split sukses ke4439\n",
      "Split sukses ke4440\n",
      "Split sukses ke4441\n",
      "Split sukses ke4442\n",
      "Split sukses ke4443\n",
      "Split sukses ke4444\n",
      "Split sukses ke4445\n",
      "Split sukses ke4446\n",
      "Split sukses ke4447\n",
      "Split sukses ke4448\n",
      "Split sukses ke4449\n",
      "Split gagal ke398\n",
      "Split sukses ke4450\n",
      "Split sukses ke4451\n",
      "Split sukses ke4452\n",
      "Split sukses ke4453\n",
      "Split sukses ke4454\n",
      "Split gagal ke399\n",
      "Split sukses ke4455\n",
      "Split sukses ke4456\n",
      "Split sukses ke4457\n",
      "Split sukses ke4458\n",
      "Split sukses ke4459\n",
      "Split sukses ke4460\n",
      "Split sukses ke4461\n",
      "Split sukses ke4462\n",
      "Split sukses ke4463\n",
      "Split sukses ke4464\n",
      "Split sukses ke4465\n",
      "Split sukses ke4466\n",
      "Split sukses ke4467\n",
      "Split sukses ke4468\n",
      "Split gagal ke400\n",
      "Split sukses ke4469\n",
      "Split sukses ke4470\n",
      "Split gagal ke401\n",
      "Split gagal ke402\n",
      "Split sukses ke4471\n",
      "Split sukses ke4472\n",
      "Split sukses ke4473\n",
      "Split sukses ke4474\n",
      "Split sukses ke4475\n",
      "Split sukses ke4476\n",
      "Split sukses ke4477\n",
      "Split sukses ke4478\n",
      "Split sukses ke4479\n",
      "Split sukses ke4480\n",
      "Split sukses ke4481\n",
      "Split gagal ke403\n",
      "Split sukses ke4482\n",
      "Split sukses ke4483\n",
      "Split sukses ke4484\n",
      "Split sukses ke4485\n",
      "Split sukses ke4486\n",
      "Split sukses ke4487\n",
      "Split sukses ke4488\n",
      "Split sukses ke4489\n",
      "Split sukses ke4490\n",
      "Split sukses ke4491\n",
      "Split sukses ke4492\n",
      "Split sukses ke4493\n",
      "Split sukses ke4494\n",
      "Split sukses ke4495\n",
      "Split sukses ke4496\n",
      "Split sukses ke4497\n",
      "Split gagal ke404\n",
      "Split sukses ke4498\n",
      "Split sukses ke4499\n",
      "Split sukses ke4500\n",
      "Split sukses ke4501\n",
      "Split gagal ke405\n",
      "Split sukses ke4502\n",
      "Split sukses ke4503\n",
      "Split sukses ke4504\n",
      "Split sukses ke4505\n",
      "Split sukses ke4506\n",
      "Split sukses ke4507\n",
      "Split sukses ke4508\n",
      "Split sukses ke4509\n",
      "Split sukses ke4510\n",
      "Split sukses ke4511\n",
      "Split sukses ke4512\n",
      "Split sukses ke4513\n",
      "Split sukses ke4514\n",
      "Split gagal ke406\n",
      "Split sukses ke4515\n",
      "Split sukses ke4516\n",
      "Split gagal ke407\n",
      "Split gagal ke408\n",
      "Split sukses ke4517\n",
      "Split sukses ke4518\n",
      "Split sukses ke4519\n",
      "Split sukses ke4520\n",
      "Split sukses ke4521\n",
      "Split sukses ke4522\n",
      "Split sukses ke4523\n",
      "Split sukses ke4524\n",
      "Split sukses ke4525\n",
      "Split sukses ke4526\n",
      "Split sukses ke4527\n",
      "Split sukses ke4528\n",
      "Split gagal ke409\n",
      "Split sukses ke4529\n",
      "Split sukses ke4530\n",
      "Split sukses ke4531\n",
      "Split sukses ke4532\n",
      "Split sukses ke4533\n",
      "Split sukses ke4534\n",
      "Split gagal ke410\n",
      "Split sukses ke4535\n",
      "Split gagal ke411\n",
      "Split sukses ke4536\n",
      "Split sukses ke4537\n",
      "Split sukses ke4538\n",
      "Split sukses ke4539\n",
      "Split sukses ke4540\n",
      "Split sukses ke4541\n",
      "Split sukses ke4542\n",
      "Split sukses ke4543\n",
      "Split sukses ke4544\n",
      "Split sukses ke4545\n",
      "Split sukses ke4546\n",
      "Split sukses ke4547\n",
      "Split sukses ke4548\n",
      "Split sukses ke4549\n",
      "Split sukses ke4550\n",
      "Split sukses ke4551\n",
      "Split sukses ke4552\n",
      "Split sukses ke4553\n",
      "Split sukses ke4554\n",
      "Split sukses ke4555\n",
      "Split sukses ke4556\n",
      "Split gagal ke412\n",
      "Split sukses ke4557\n",
      "Split sukses ke4558\n",
      "Split sukses ke4559\n",
      "Split sukses ke4560\n",
      "Split sukses ke4561\n",
      "Split sukses ke4562\n",
      "Split sukses ke4563\n",
      "Split sukses ke4564\n",
      "Split sukses ke4565\n",
      "Split sukses ke4566\n",
      "Split sukses ke4567\n",
      "Split sukses ke4568\n",
      "Split sukses ke4569\n",
      "Split sukses ke4570\n",
      "Split sukses ke4571\n",
      "Split sukses ke4572\n",
      "Split sukses ke4573\n",
      "Split sukses ke4574\n",
      "Split gagal ke413\n",
      "Split sukses ke4575\n",
      "Split sukses ke4576\n",
      "Split sukses ke4577\n",
      "Split sukses ke4578\n",
      "Split gagal ke414\n",
      "Split sukses ke4579\n",
      "Split sukses ke4580\n",
      "Split sukses ke4581\n",
      "Split gagal ke415\n",
      "Split sukses ke4582\n",
      "Split sukses ke4583\n",
      "Split sukses ke4584\n",
      "Split sukses ke4585\n",
      "Split gagal ke416\n",
      "Split gagal ke417\n",
      "Split sukses ke4586\n",
      "Split sukses ke4587\n",
      "Split sukses ke4588\n",
      "Split sukses ke4589\n",
      "Split sukses ke4590\n",
      "Split sukses ke4591\n",
      "Split sukses ke4592\n",
      "Split sukses ke4593\n",
      "Split sukses ke4594\n",
      "Split sukses ke4595\n",
      "Split sukses ke4596\n",
      "Split sukses ke4597\n",
      "Split sukses ke4598\n",
      "Split sukses ke4599\n",
      "Split sukses ke4600\n",
      "Split sukses ke4601\n",
      "Split sukses ke4602\n",
      "Split sukses ke4603\n",
      "Split sukses ke4604\n",
      "Split sukses ke4605\n",
      "Split gagal ke418\n",
      "Split sukses ke4606\n",
      "Split sukses ke4607\n",
      "Split sukses ke4608\n",
      "Split sukses ke4609\n",
      "Split gagal ke419\n",
      "Split sukses ke4610\n",
      "Split sukses ke4611\n",
      "Split sukses ke4612\n",
      "Split sukses ke4613\n",
      "Split sukses ke4614\n",
      "Split sukses ke4615\n",
      "Split sukses ke4616\n",
      "Split sukses ke4617\n",
      "Split sukses ke4618\n",
      "Split sukses ke4619\n",
      "Split gagal ke420\n",
      "Split sukses ke4620\n",
      "Split sukses ke4621\n",
      "Split gagal ke421\n",
      "Split sukses ke4622\n",
      "Split sukses ke4623\n",
      "Split sukses ke4624\n",
      "Split sukses ke4625\n",
      "Split sukses ke4626\n",
      "Split sukses ke4627\n",
      "Split sukses ke4628\n",
      "Split sukses ke4629\n",
      "Split sukses ke4630\n",
      "Split sukses ke4631\n",
      "Split sukses ke4632\n",
      "Split sukses ke4633\n",
      "Split sukses ke4634\n",
      "Split sukses ke4635\n",
      "Split sukses ke4636\n",
      "Split sukses ke4637\n",
      "Split sukses ke4638\n",
      "Split gagal ke422\n",
      "Split sukses ke4639\n",
      "Split sukses ke4640\n",
      "Split sukses ke4641\n",
      "Split sukses ke4642\n",
      "Split sukses ke4643\n",
      "Split sukses ke4644\n",
      "Split gagal ke423\n",
      "Split sukses ke4645\n",
      "Split sukses ke4646\n",
      "Split gagal ke424\n",
      "Split sukses ke4647\n",
      "Split sukses ke4648\n",
      "Split sukses ke4649\n",
      "Split sukses ke4650\n",
      "Split sukses ke4651\n",
      "Split sukses ke4652\n",
      "Split sukses ke4653\n",
      "Split sukses ke4654\n",
      "Split sukses ke4655\n",
      "Split sukses ke4656\n",
      "Split sukses ke4657\n",
      "Split sukses ke4658\n",
      "Split gagal ke425\n",
      "Split sukses ke4659\n",
      "Split sukses ke4660\n",
      "Split sukses ke4661\n",
      "Split sukses ke4662\n",
      "Split sukses ke4663\n",
      "Split sukses ke4664\n",
      "Split sukses ke4665\n",
      "Split sukses ke4666\n",
      "Split sukses ke4667\n",
      "Split gagal ke426\n",
      "Split sukses ke4668\n",
      "Split sukses ke4669\n",
      "Split sukses ke4670\n",
      "Split sukses ke4671\n",
      "Split sukses ke4672\n",
      "Split gagal ke427\n",
      "Split gagal ke428\n",
      "Split sukses ke4673\n",
      "Split sukses ke4674\n",
      "Split sukses ke4675\n",
      "Split gagal ke429\n",
      "Split sukses ke4676\n",
      "Split sukses ke4677\n",
      "Split sukses ke4678\n",
      "Split sukses ke4679\n",
      "Split sukses ke4680\n",
      "Split sukses ke4681\n",
      "Split sukses ke4682\n",
      "Split sukses ke4683\n",
      "Split sukses ke4684\n",
      "Split sukses ke4685\n",
      "Split sukses ke4686\n",
      "Split sukses ke4687\n",
      "Split sukses ke4688\n",
      "Split sukses ke4689\n",
      "Split sukses ke4690\n",
      "Split sukses ke4691\n",
      "Split sukses ke4692\n",
      "Split sukses ke4693\n",
      "Split sukses ke4694\n",
      "Split sukses ke4695\n",
      "Split gagal ke430\n",
      "Split sukses ke4696\n",
      "Split sukses ke4697\n",
      "Split sukses ke4698\n",
      "Split sukses ke4699\n",
      "Split gagal ke431\n",
      "Split sukses ke4700\n",
      "Split sukses ke4701\n",
      "Split sukses ke4702\n",
      "Split sukses ke4703\n",
      "Split sukses ke4704\n",
      "Split sukses ke4705\n",
      "Split sukses ke4706\n",
      "Split sukses ke4707\n",
      "Split gagal ke432\n",
      "Split gagal ke433\n",
      "Split sukses ke4708\n",
      "Split gagal ke434\n",
      "Split sukses ke4709\n",
      "Split gagal ke435\n",
      "Split sukses ke4710\n",
      "Split sukses ke4711\n",
      "Split gagal ke436\n",
      "Split sukses ke4712\n",
      "Split gagal ke437\n",
      "Split sukses ke4713\n",
      "Split sukses ke4714\n",
      "Split sukses ke4715\n",
      "Split gagal ke438\n",
      "Split gagal ke439\n",
      "Split gagal ke440\n",
      "Split sukses ke4716\n",
      "Split sukses ke4717\n",
      "Split gagal ke441\n",
      "Split sukses ke4718\n",
      "Split sukses ke4719\n",
      "Split sukses ke4720\n",
      "Split sukses ke4721\n",
      "Split sukses ke4722\n",
      "Split sukses ke4723\n",
      "Split sukses ke4724\n",
      "Split sukses ke4725\n",
      "Split sukses ke4726\n",
      "Split sukses ke4727\n",
      "Split sukses ke4728\n",
      "Split sukses ke4729\n",
      "Split sukses ke4730\n",
      "Split sukses ke4731\n",
      "Split sukses ke4732\n",
      "Split sukses ke4733\n",
      "Split sukses ke4734\n",
      "Split sukses ke4735\n",
      "Split sukses ke4736\n",
      "Split sukses ke4737\n",
      "Split sukses ke4738\n",
      "Split sukses ke4739\n",
      "Split sukses ke4740\n",
      "Split sukses ke4741\n",
      "Split sukses ke4742\n",
      "Split sukses ke4743\n",
      "Split sukses ke4744\n",
      "Split sukses ke4745\n",
      "Split sukses ke4746\n",
      "Split sukses ke4747\n",
      "Split gagal ke442\n",
      "Split sukses ke4748\n",
      "Split sukses ke4749\n",
      "Split sukses ke4750\n",
      "Split sukses ke4751\n",
      "Split sukses ke4752\n",
      "Split sukses ke4753\n",
      "Split sukses ke4754\n",
      "Split sukses ke4755\n",
      "Split gagal ke443\n",
      "Split sukses ke4756\n",
      "Split sukses ke4757\n",
      "Split gagal ke444\n",
      "Split sukses ke4758\n",
      "Split sukses ke4759\n",
      "Split sukses ke4760\n",
      "Split sukses ke4761\n",
      "Split sukses ke4762\n",
      "Split sukses ke4763\n",
      "Split sukses ke4764\n",
      "Split sukses ke4765\n",
      "Split sukses ke4766\n",
      "Split sukses ke4767\n",
      "Split gagal ke445\n",
      "Split sukses ke4768\n",
      "Split sukses ke4769\n",
      "Split sukses ke4770\n",
      "Split sukses ke4771\n",
      "Split sukses ke4772\n",
      "Split sukses ke4773\n"
     ]
    },
    {
     "name": "stdout",
     "output_type": "stream",
     "text": [
      "Split sukses ke4774\n",
      "Split sukses ke4775\n",
      "Split sukses ke4776\n",
      "Split gagal ke446\n",
      "Split sukses ke4777\n",
      "Split gagal ke447\n",
      "Split sukses ke4778\n",
      "Split gagal ke448\n",
      "Split sukses ke4779\n",
      "Split sukses ke4780\n",
      "Split sukses ke4781\n",
      "Split sukses ke4782\n",
      "Split sukses ke4783\n",
      "Split gagal ke449\n",
      "Split sukses ke4784\n",
      "Split gagal ke450\n",
      "Split gagal ke451\n",
      "Split sukses ke4785\n",
      "Split sukses ke4786\n",
      "Split sukses ke4787\n",
      "Split sukses ke4788\n",
      "Split sukses ke4789\n",
      "Split sukses ke4790\n",
      "Split gagal ke452\n",
      "Split sukses ke4791\n",
      "Split sukses ke4792\n",
      "Split sukses ke4793\n",
      "Split sukses ke4794\n",
      "Split sukses ke4795\n",
      "Split gagal ke453\n",
      "Split sukses ke4796\n",
      "Split sukses ke4797\n",
      "Split gagal ke454\n",
      "Split sukses ke4798\n",
      "Split sukses ke4799\n",
      "Split sukses ke4800\n",
      "Split sukses ke4801\n",
      "Split sukses ke4802\n",
      "Split sukses ke4803\n",
      "Split gagal ke455\n",
      "Split sukses ke4804\n",
      "Split sukses ke4805\n",
      "Split sukses ke4806\n",
      "Split sukses ke4807\n",
      "Split gagal ke456\n",
      "Split sukses ke4808\n",
      "Split sukses ke4809\n",
      "Split sukses ke4810\n",
      "Split sukses ke4811\n",
      "Split sukses ke4812\n",
      "Split sukses ke4813\n",
      "Split sukses ke4814\n",
      "Split sukses ke4815\n",
      "Split sukses ke4816\n",
      "Split sukses ke4817\n",
      "Split sukses ke4818\n",
      "Split sukses ke4819\n",
      "Split sukses ke4820\n",
      "Split sukses ke4821\n",
      "Split sukses ke4822\n",
      "Split sukses ke4823\n",
      "Split sukses ke4824\n",
      "Split sukses ke4825\n",
      "Split sukses ke4826\n",
      "Split sukses ke4827\n",
      "Split sukses ke4828\n",
      "Split sukses ke4829\n",
      "Split sukses ke4830\n",
      "Split sukses ke4831\n",
      "Split sukses ke4832\n",
      "Split sukses ke4833\n",
      "Split sukses ke4834\n",
      "Split sukses ke4835\n",
      "Split sukses ke4836\n",
      "Split sukses ke4837\n",
      "Split sukses ke4838\n",
      "Split sukses ke4839\n",
      "Split sukses ke4840\n",
      "Split sukses ke4841\n",
      "Split sukses ke4842\n",
      "Split sukses ke4843\n",
      "Split sukses ke4844\n",
      "Split sukses ke4845\n",
      "Split sukses ke4846\n",
      "Split sukses ke4847\n",
      "Split sukses ke4848\n",
      "Split sukses ke4849\n",
      "Split sukses ke4850\n",
      "Split sukses ke4851\n",
      "Split sukses ke4852\n",
      "Split sukses ke4853\n",
      "Split sukses ke4854\n",
      "Split sukses ke4855\n",
      "Split sukses ke4856\n",
      "Split sukses ke4857\n",
      "Split sukses ke4858\n",
      "Split sukses ke4859\n",
      "Split sukses ke4860\n",
      "Split sukses ke4861\n",
      "Split sukses ke4862\n",
      "Split sukses ke4863\n",
      "Split sukses ke4864\n",
      "Split sukses ke4865\n",
      "Split sukses ke4866\n",
      "Split sukses ke4867\n",
      "Split sukses ke4868\n",
      "Split sukses ke4869\n",
      "Split sukses ke4870\n",
      "Split sukses ke4871\n",
      "Split sukses ke4872\n",
      "Split sukses ke4873\n",
      "Split sukses ke4874\n",
      "Split sukses ke4875\n",
      "Split sukses ke4876\n",
      "Split sukses ke4877\n",
      "Split sukses ke4878\n",
      "Split sukses ke4879\n",
      "Split sukses ke4880\n",
      "Split sukses ke4881\n",
      "Split sukses ke4882\n",
      "Split sukses ke4883\n",
      "Split sukses ke4884\n",
      "Split sukses ke4885\n",
      "Split sukses ke4886\n",
      "Split sukses ke4887\n",
      "Split sukses ke4888\n",
      "Split sukses ke4889\n",
      "Split sukses ke4890\n",
      "Split sukses ke4891\n",
      "Split sukses ke4892\n",
      "Split sukses ke4893\n",
      "Split sukses ke4894\n",
      "Split sukses ke4895\n",
      "Split sukses ke4896\n",
      "Split sukses ke4897\n",
      "Split sukses ke4898\n",
      "Split sukses ke4899\n",
      "Split sukses ke4900\n",
      "Split sukses ke4901\n",
      "Split sukses ke4902\n",
      "Split sukses ke4903\n",
      "Split sukses ke4904\n",
      "Split sukses ke4905\n",
      "Split sukses ke4906\n",
      "Split sukses ke4907\n",
      "Split sukses ke4908\n",
      "Split sukses ke4909\n",
      "Split sukses ke4910\n",
      "Split sukses ke4911\n",
      "Split sukses ke4912\n",
      "Split sukses ke4913\n",
      "Split sukses ke4914\n",
      "Split sukses ke4915\n",
      "Split gagal ke457\n",
      "Split sukses ke4916\n",
      "Split sukses ke4917\n",
      "Split sukses ke4918\n",
      "Split sukses ke4919\n",
      "Split sukses ke4920\n",
      "Split sukses ke4921\n",
      "Split sukses ke4922\n",
      "Split sukses ke4923\n",
      "Split sukses ke4924\n",
      "Split sukses ke4925\n",
      "Split sukses ke4926\n",
      "Split gagal ke458\n",
      "Split sukses ke4927\n",
      "Split sukses ke4928\n",
      "Split sukses ke4929\n",
      "Split sukses ke4930\n",
      "Split sukses ke4931\n",
      "Split sukses ke4932\n",
      "Split sukses ke4933\n",
      "Split gagal ke459\n",
      "Split sukses ke4934\n",
      "Split sukses ke4935\n",
      "Split sukses ke4936\n",
      "Split sukses ke4937\n",
      "Split sukses ke4938\n",
      "Split sukses ke4939\n",
      "Split gagal ke460\n",
      "Split sukses ke4940\n",
      "Split gagal ke461\n",
      "Split gagal ke462\n",
      "Split sukses ke4941\n",
      "Split gagal ke463\n",
      "Split gagal ke464\n",
      "Split sukses ke4942\n",
      "Split sukses ke4943\n",
      "Split sukses ke4944\n",
      "Split sukses ke4945\n",
      "Split sukses ke4946\n",
      "Split sukses ke4947\n",
      "Split sukses ke4948\n",
      "Split sukses ke4949\n",
      "Split sukses ke4950\n",
      "Split sukses ke4951\n",
      "Split gagal ke465\n",
      "Split gagal ke466\n",
      "Split sukses ke4952\n",
      "Split sukses ke4953\n",
      "Split sukses ke4954\n",
      "Split sukses ke4955\n",
      "Split gagal ke467\n",
      "Split sukses ke4956\n",
      "Split gagal ke468\n",
      "Split sukses ke4957\n",
      "Split sukses ke4958\n",
      "Split sukses ke4959\n",
      "Split sukses ke4960\n",
      "Split sukses ke4961\n",
      "Split sukses ke4962\n",
      "Split sukses ke4963\n",
      "Split sukses ke4964\n",
      "Split gagal ke469\n",
      "Split sukses ke4965\n",
      "Split sukses ke4966\n",
      "Split gagal ke470\n",
      "Split sukses ke4967\n",
      "Split sukses ke4968\n",
      "Split sukses ke4969\n",
      "Split sukses ke4970\n",
      "Split gagal ke471\n",
      "Split gagal ke472\n",
      "Split gagal ke473\n",
      "Split sukses ke4971\n",
      "Split gagal ke474\n",
      "Split gagal ke475\n",
      "Split sukses ke4972\n",
      "Split sukses ke4973\n",
      "Split gagal ke476\n",
      "Split gagal ke477\n",
      "Split sukses ke4974\n",
      "Split gagal ke478\n",
      "Split sukses ke4975\n",
      "Split sukses ke4976\n",
      "Split sukses ke4977\n",
      "Split sukses ke4978\n",
      "Split sukses ke4979\n",
      "Split gagal ke479\n",
      "Split sukses ke4980\n",
      "Split sukses ke4981\n",
      "Split gagal ke480\n",
      "Split sukses ke4982\n",
      "Split gagal ke481\n",
      "Split sukses ke4983\n",
      "Split sukses ke4984\n",
      "Split sukses ke4985\n",
      "Split sukses ke4986\n",
      "Split gagal ke482\n",
      "Split sukses ke4987\n",
      "Split sukses ke4988\n",
      "Split sukses ke4989\n",
      "Split sukses ke4990\n",
      "Split sukses ke4991\n",
      "Split sukses ke4992\n",
      "Split gagal ke483\n",
      "Split sukses ke4993\n",
      "Split sukses ke4994\n",
      "Split sukses ke4995\n",
      "Split sukses ke4996\n",
      "Split sukses ke4997\n",
      "Split gagal ke484\n",
      "Split gagal ke485\n",
      "Split sukses ke4998\n",
      "Split sukses ke4999\n",
      "Split gagal ke486\n",
      "Split gagal ke487\n",
      "Split gagal ke488\n",
      "Split sukses ke5000\n",
      "Split sukses ke5001\n",
      "Split sukses ke5002\n",
      "Split gagal ke489\n",
      "Split sukses ke5003\n",
      "Split sukses ke5004\n",
      "Split sukses ke5005\n",
      "Split sukses ke5006\n",
      "Split sukses ke5007\n",
      "Split sukses ke5008\n",
      "Split sukses ke5009\n",
      "Split sukses ke5010\n",
      "Split sukses ke5011\n",
      "Split sukses ke5012\n",
      "Split sukses ke5013\n",
      "Split sukses ke5014\n",
      "Split sukses ke5015\n",
      "Split sukses ke5016\n",
      "Split sukses ke5017\n",
      "Split gagal ke490\n",
      "Split sukses ke5018\n",
      "Split sukses ke5019\n",
      "Split sukses ke5020\n",
      "Split gagal ke491\n",
      "Split gagal ke492\n",
      "Split sukses ke5021\n",
      "Split gagal ke493\n",
      "Split sukses ke5022\n",
      "Split sukses ke5023\n",
      "Split gagal ke494\n",
      "Split sukses ke5024\n",
      "Split sukses ke5025\n",
      "Split gagal ke495\n",
      "Split sukses ke5026\n",
      "Split gagal ke496\n",
      "Split sukses ke5027\n",
      "Split sukses ke5028\n",
      "Split sukses ke5029\n",
      "Split sukses ke5030\n",
      "Split sukses ke5031\n",
      "Split sukses ke5032\n",
      "Split sukses ke5033\n",
      "Split sukses ke5034\n",
      "Split sukses ke5035\n",
      "Split sukses ke5036\n",
      "Split sukses ke5037\n",
      "Split sukses ke5038\n",
      "Split sukses ke5039\n",
      "Split sukses ke5040\n",
      "Split sukses ke5041\n",
      "Split sukses ke5042\n",
      "Split sukses ke5043\n",
      "Split gagal ke497\n",
      "Split sukses ke5044\n",
      "Split sukses ke5045\n",
      "Split sukses ke5046\n",
      "Split sukses ke5047\n",
      "Split sukses ke5048\n",
      "Split sukses ke5049\n",
      "Split sukses ke5050\n",
      "Split gagal ke498\n",
      "Split sukses ke5051\n",
      "Split sukses ke5052\n",
      "Split sukses ke5053\n",
      "Split gagal ke499\n",
      "Split sukses ke5054\n",
      "Split sukses ke5055\n",
      "Split sukses ke5056\n",
      "Split sukses ke5057\n",
      "Split gagal ke500\n",
      "Split sukses ke5058\n",
      "Split gagal ke501\n",
      "Split sukses ke5059\n",
      "Split sukses ke5060\n",
      "Split sukses ke5061\n",
      "Split sukses ke5062\n",
      "Split sukses ke5063\n",
      "Split sukses ke5064\n",
      "Split sukses ke5065\n",
      "Split sukses ke5066\n",
      "Split sukses ke5067\n",
      "Split sukses ke5068\n",
      "Split sukses ke5069\n",
      "Split sukses ke5070\n",
      "Split sukses ke5071\n",
      "Split sukses ke5072\n",
      "Split gagal ke502\n",
      "Split gagal ke503\n",
      "Split gagal ke504\n",
      "Split gagal ke505\n",
      "Split sukses ke5073\n",
      "Split sukses ke5074\n",
      "Split sukses ke5075\n",
      "Split sukses ke5076\n",
      "Split gagal ke506\n",
      "Split sukses ke5077\n",
      "Split sukses ke5078\n",
      "Split gagal ke507\n",
      "Split sukses ke5079\n",
      "Split sukses ke5080\n",
      "Split sukses ke5081\n",
      "Split sukses ke5082\n",
      "Split sukses ke5083\n",
      "Split sukses ke5084\n",
      "Split gagal ke508\n",
      "Split sukses ke5085\n",
      "Split sukses ke5086\n",
      "Split sukses ke5087\n",
      "Split sukses ke5088\n",
      "Split sukses ke5089\n",
      "Split sukses ke5090\n",
      "Split sukses ke5091\n",
      "Split sukses ke5092\n",
      "Split sukses ke5093\n",
      "Split sukses ke5094\n",
      "Split gagal ke509\n",
      "Split sukses ke5095\n",
      "Split sukses ke5096\n",
      "Split sukses ke5097\n",
      "Split sukses ke5098\n",
      "Split sukses ke5099\n",
      "Split sukses ke5100\n",
      "Split sukses ke5101\n",
      "Split sukses ke5102\n",
      "Split sukses ke5103\n",
      "Split sukses ke5104\n",
      "Split gagal ke510\n",
      "Split sukses ke5105\n",
      "Split gagal ke511\n",
      "Split sukses ke5106\n",
      "Split sukses ke5107\n",
      "Split sukses ke5108\n",
      "Split gagal ke512\n",
      "Split sukses ke5109\n",
      "Split sukses ke5110\n",
      "Split sukses ke5111\n",
      "Split sukses ke5112\n",
      "Split sukses ke5113\n",
      "Split sukses ke5114\n",
      "Split sukses ke5115\n",
      "Split gagal ke513\n",
      "Split sukses ke5116\n",
      "Split sukses ke5117\n",
      "Split sukses ke5118\n",
      "Split sukses ke5119\n",
      "Split sukses ke5120\n",
      "Split sukses ke5121\n",
      "Split sukses ke5122\n"
     ]
    },
    {
     "name": "stdout",
     "output_type": "stream",
     "text": [
      "Split sukses ke5123\n",
      "Split gagal ke514\n",
      "Split sukses ke5124\n",
      "Split sukses ke5125\n",
      "Split gagal ke515\n",
      "Split sukses ke5126\n",
      "Split sukses ke5127\n",
      "Split sukses ke5128\n",
      "Split sukses ke5129\n",
      "Split gagal ke516\n",
      "Split sukses ke5130\n",
      "Split gagal ke517\n",
      "Split sukses ke5131\n",
      "Split sukses ke5132\n",
      "Split sukses ke5133\n",
      "Split sukses ke5134\n",
      "Split sukses ke5135\n",
      "Split sukses ke5136\n",
      "Split sukses ke5137\n",
      "Split gagal ke518\n",
      "Split sukses ke5138\n",
      "Split sukses ke5139\n",
      "Split sukses ke5140\n",
      "Split sukses ke5141\n",
      "Split sukses ke5142\n",
      "Split sukses ke5143\n",
      "Split gagal ke519\n",
      "Split sukses ke5144\n",
      "Split sukses ke5145\n",
      "Split sukses ke5146\n",
      "Split sukses ke5147\n",
      "Split sukses ke5148\n",
      "Split sukses ke5149\n",
      "Split sukses ke5150\n",
      "Split sukses ke5151\n",
      "Split sukses ke5152\n",
      "Split gagal ke520\n",
      "Split sukses ke5153\n",
      "Split sukses ke5154\n",
      "Split sukses ke5155\n",
      "Split sukses ke5156\n",
      "Split sukses ke5157\n",
      "Split sukses ke5158\n",
      "Split sukses ke5159\n",
      "Split sukses ke5160\n",
      "Split sukses ke5161\n",
      "Split sukses ke5162\n",
      "Split sukses ke5163\n",
      "Split sukses ke5164\n",
      "Split gagal ke521\n",
      "Split sukses ke5165\n",
      "Split sukses ke5166\n",
      "Split sukses ke5167\n",
      "Split sukses ke5168\n",
      "Split sukses ke5169\n",
      "Split sukses ke5170\n",
      "Split sukses ke5171\n",
      "Split sukses ke5172\n",
      "Split sukses ke5173\n",
      "Split sukses ke5174\n",
      "Split sukses ke5175\n",
      "Split sukses ke5176\n",
      "Split sukses ke5177\n",
      "Split sukses ke5178\n",
      "Split sukses ke5179\n",
      "Split sukses ke5180\n",
      "Split sukses ke5181\n",
      "Split sukses ke5182\n",
      "Split sukses ke5183\n",
      "Split gagal ke522\n",
      "Split sukses ke5184\n",
      "Split sukses ke5185\n",
      "Split sukses ke5186\n",
      "Split gagal ke523\n",
      "Split gagal ke524\n",
      "Split sukses ke5187\n",
      "Split sukses ke5188\n",
      "Split gagal ke525\n",
      "Split gagal ke526\n",
      "Split gagal ke527\n",
      "Split sukses ke5189\n",
      "Split sukses ke5190\n",
      "Split sukses ke5191\n",
      "Split sukses ke5192\n",
      "Split sukses ke5193\n",
      "Split sukses ke5194\n",
      "Split sukses ke5195\n",
      "Split sukses ke5196\n",
      "Split sukses ke5197\n",
      "Split sukses ke5198\n",
      "Split sukses ke5199\n",
      "Split sukses ke5200\n",
      "Split sukses ke5201\n",
      "Split sukses ke5202\n",
      "Split sukses ke5203\n",
      "Split sukses ke5204\n",
      "Split gagal ke528\n",
      "Split sukses ke5205\n",
      "Split sukses ke5206\n",
      "Split sukses ke5207\n",
      "Split sukses ke5208\n",
      "Split sukses ke5209\n",
      "Split gagal ke529\n",
      "Split gagal ke530\n",
      "Split sukses ke5210\n",
      "Split sukses ke5211\n",
      "Split sukses ke5212\n",
      "Split sukses ke5213\n",
      "Split sukses ke5214\n",
      "Split sukses ke5215\n",
      "Split sukses ke5216\n",
      "Split sukses ke5217\n",
      "Split sukses ke5218\n",
      "Split sukses ke5219\n",
      "Split sukses ke5220\n",
      "Split sukses ke5221\n",
      "Split gagal ke531\n",
      "Split sukses ke5222\n",
      "Split sukses ke5223\n",
      "Split sukses ke5224\n",
      "Split sukses ke5225\n",
      "Split sukses ke5226\n",
      "Split sukses ke5227\n",
      "Split sukses ke5228\n",
      "Split sukses ke5229\n",
      "Split sukses ke5230\n",
      "Split sukses ke5231\n",
      "Split sukses ke5232\n",
      "Split sukses ke5233\n",
      "Split sukses ke5234\n",
      "Split sukses ke5235\n",
      "Split sukses ke5236\n",
      "Split gagal ke532\n",
      "Split sukses ke5237\n",
      "Split sukses ke5238\n",
      "Split sukses ke5239\n",
      "Split sukses ke5240\n",
      "Split sukses ke5241\n",
      "Split sukses ke5242\n",
      "Split sukses ke5243\n",
      "Split gagal ke533\n",
      "Split sukses ke5244\n",
      "Split sukses ke5245\n",
      "Split sukses ke5246\n",
      "Split sukses ke5247\n",
      "Split sukses ke5248\n",
      "Split sukses ke5249\n",
      "Split sukses ke5250\n",
      "Split sukses ke5251\n",
      "Split gagal ke534\n",
      "Split sukses ke5252\n",
      "Split sukses ke5253\n",
      "Split sukses ke5254\n",
      "Split sukses ke5255\n",
      "Split sukses ke5256\n",
      "Split sukses ke5257\n",
      "Split sukses ke5258\n",
      "Split sukses ke5259\n",
      "Split gagal ke535\n",
      "Split sukses ke5260\n",
      "Split sukses ke5261\n",
      "Split sukses ke5262\n",
      "Split sukses ke5263\n",
      "Split sukses ke5264\n",
      "Split sukses ke5265\n",
      "Split sukses ke5266\n",
      "Split sukses ke5267\n",
      "Split sukses ke5268\n",
      "Split sukses ke5269\n",
      "Split sukses ke5270\n",
      "Split sukses ke5271\n",
      "Split sukses ke5272\n",
      "Split sukses ke5273\n",
      "Split sukses ke5274\n",
      "Split sukses ke5275\n",
      "Split gagal ke536\n",
      "Split sukses ke5276\n",
      "Split sukses ke5277\n",
      "Split sukses ke5278\n",
      "Split sukses ke5279\n",
      "Split sukses ke5280\n",
      "Split sukses ke5281\n",
      "Split sukses ke5282\n",
      "Split sukses ke5283\n",
      "Split sukses ke5284\n",
      "Split sukses ke5285\n",
      "Split sukses ke5286\n",
      "Split sukses ke5287\n",
      "Split sukses ke5288\n",
      "Split sukses ke5289\n",
      "Split sukses ke5290\n",
      "Split sukses ke5291\n",
      "Split sukses ke5292\n",
      "Split sukses ke5293\n",
      "Split sukses ke5294\n",
      "Split sukses ke5295\n",
      "Split sukses ke5296\n",
      "Split sukses ke5297\n",
      "Split sukses ke5298\n",
      "Split gagal ke537\n",
      "Split sukses ke5299\n",
      "Split sukses ke5300\n",
      "Split sukses ke5301\n",
      "Split sukses ke5302\n",
      "Split sukses ke5303\n",
      "Split sukses ke5304\n",
      "Split sukses ke5305\n",
      "Split sukses ke5306\n",
      "Split sukses ke5307\n",
      "Split gagal ke538\n",
      "Split sukses ke5308\n",
      "Split sukses ke5309\n",
      "Split sukses ke5310\n",
      "Split gagal ke539\n",
      "Split gagal ke540\n",
      "Split sukses ke5311\n",
      "Split sukses ke5312\n",
      "Split sukses ke5313\n",
      "Split sukses ke5314\n",
      "Split sukses ke5315\n",
      "Split sukses ke5316\n",
      "Split sukses ke5317\n",
      "Split sukses ke5318\n",
      "Split sukses ke5319\n",
      "Split sukses ke5320\n",
      "Split sukses ke5321\n",
      "Split sukses ke5322\n",
      "Split sukses ke5323\n",
      "Split sukses ke5324\n",
      "Split sukses ke5325\n",
      "Split gagal ke541\n",
      "Split sukses ke5326\n",
      "Split gagal ke542\n",
      "Split sukses ke5327\n",
      "Split sukses ke5328\n",
      "Split sukses ke5329\n",
      "Split sukses ke5330\n",
      "Split sukses ke5331\n",
      "Split sukses ke5332\n",
      "Split sukses ke5333\n",
      "Split sukses ke5334\n",
      "Split sukses ke5335\n",
      "Split sukses ke5336\n",
      "Split sukses ke5337\n",
      "Split sukses ke5338\n",
      "Split sukses ke5339\n",
      "Split sukses ke5340\n",
      "Split sukses ke5341\n",
      "Split sukses ke5342\n",
      "Split sukses ke5343\n",
      "Split sukses ke5344\n",
      "Split sukses ke5345\n",
      "Split sukses ke5346\n",
      "Split sukses ke5347\n",
      "Split sukses ke5348\n",
      "Split sukses ke5349\n",
      "Split sukses ke5350\n",
      "Split sukses ke5351\n",
      "Split sukses ke5352\n",
      "Split sukses ke5353\n",
      "Split sukses ke5354\n",
      "Split sukses ke5355\n",
      "Split sukses ke5356\n",
      "Split sukses ke5357\n",
      "Split sukses ke5358\n",
      "Split sukses ke5359\n",
      "Split sukses ke5360\n",
      "Split sukses ke5361\n",
      "Split sukses ke5362\n",
      "Split gagal ke543\n",
      "Split sukses ke5363\n",
      "Split sukses ke5364\n",
      "Split sukses ke5365\n",
      "Split sukses ke5366\n",
      "Split gagal ke544\n",
      "Split sukses ke5367\n",
      "Split sukses ke5368\n",
      "Split gagal ke545\n",
      "Split sukses ke5369\n",
      "Split sukses ke5370\n",
      "Split sukses ke5371\n",
      "Split sukses ke5372\n",
      "Split sukses ke5373\n",
      "Split gagal ke546\n",
      "Split gagal ke547\n",
      "Split sukses ke5374\n",
      "Split sukses ke5375\n",
      "Split sukses ke5376\n",
      "Split gagal ke548\n",
      "Split sukses ke5377\n",
      "Split sukses ke5378\n",
      "Split sukses ke5379\n",
      "Split sukses ke5380\n",
      "Split sukses ke5381\n",
      "Split sukses ke5382\n",
      "Split sukses ke5383\n",
      "Split gagal ke549\n",
      "Split gagal ke550\n",
      "Split sukses ke5384\n",
      "Split sukses ke5385\n",
      "Split sukses ke5386\n",
      "Split gagal ke551\n",
      "Split sukses ke5387\n",
      "Split gagal ke552\n",
      "Split sukses ke5388\n",
      "Split gagal ke553\n",
      "Split gagal ke554\n",
      "Split gagal ke555\n",
      "Split sukses ke5389\n",
      "Split sukses ke5390\n",
      "Split sukses ke5391\n",
      "Split sukses ke5392\n",
      "Split sukses ke5393\n",
      "Split sukses ke5394\n",
      "Split sukses ke5395\n",
      "Split gagal ke556\n",
      "Split sukses ke5396\n",
      "Split sukses ke5397\n",
      "Split sukses ke5398\n",
      "Split sukses ke5399\n",
      "Split gagal ke557\n",
      "Split sukses ke5400\n",
      "Split sukses ke5401\n",
      "Split sukses ke5402\n",
      "Split gagal ke558\n",
      "Split gagal ke559\n",
      "Split sukses ke5403\n",
      "Split sukses ke5404\n",
      "Split sukses ke5405\n",
      "Split sukses ke5406\n",
      "Split sukses ke5407\n",
      "Split gagal ke560\n",
      "Split sukses ke5408\n",
      "Split gagal ke561\n",
      "Split sukses ke5409\n",
      "Split sukses ke5410\n",
      "Split sukses ke5411\n",
      "Split sukses ke5412\n",
      "Split gagal ke562\n",
      "Split sukses ke5413\n",
      "Split sukses ke5414\n",
      "Split sukses ke5415\n",
      "Split sukses ke5416\n",
      "Split sukses ke5417\n",
      "Split sukses ke5418\n",
      "Split sukses ke5419\n",
      "Split sukses ke5420\n",
      "Split sukses ke5421\n",
      "Split gagal ke563\n",
      "Split sukses ke5422\n",
      "Split sukses ke5423\n",
      "Split sukses ke5424\n",
      "Split sukses ke5425\n",
      "Split gagal ke564\n",
      "Split sukses ke5426\n",
      "Split sukses ke5427\n",
      "Split gagal ke565\n",
      "Split gagal ke566\n",
      "Split sukses ke5428\n",
      "Split sukses ke5429\n",
      "Split sukses ke5430\n",
      "Split sukses ke5431\n",
      "Split sukses ke5432\n",
      "Split sukses ke5433\n",
      "Split gagal ke567\n",
      "Split sukses ke5434\n",
      "Split sukses ke5435\n",
      "Split sukses ke5436\n",
      "Split sukses ke5437\n",
      "Split sukses ke5438\n",
      "Split sukses ke5439\n",
      "Split sukses ke5440\n",
      "Split sukses ke5441\n",
      "Split sukses ke5442\n",
      "Split sukses ke5443\n",
      "Split sukses ke5444\n",
      "Split sukses ke5445\n",
      "Split sukses ke5446\n",
      "Split sukses ke5447\n",
      "Split gagal ke568\n",
      "Split sukses ke5448\n",
      "Split sukses ke5449\n",
      "Split sukses ke5450\n",
      "Split sukses ke5451\n",
      "Split sukses ke5452\n",
      "Split sukses ke5453\n",
      "Split gagal ke569\n",
      "Split sukses ke5454\n",
      "Split sukses ke5455\n",
      "Split sukses ke5456\n",
      "Split sukses ke5457\n",
      "Split sukses ke5458\n",
      "Split sukses ke5459\n",
      "Split sukses ke5460\n",
      "Split sukses ke5461\n",
      "Split sukses ke5462\n",
      "Split sukses ke5463\n",
      "Split gagal ke570\n",
      "Split sukses ke5464\n",
      "Split sukses ke5465\n",
      "Split sukses ke5466\n",
      "Split sukses ke5467\n",
      "Split sukses ke5468\n",
      "Split gagal ke571\n",
      "Split sukses ke5469\n",
      "Split gagal ke572\n",
      "Split gagal ke573\n",
      "Split sukses ke5470\n",
      "Split sukses ke5471\n",
      "Split sukses ke5472\n",
      "Split sukses ke5473\n",
      "Split sukses ke5474\n",
      "Split sukses ke5475\n",
      "Split gagal ke574\n",
      "Split sukses ke5476\n",
      "Split sukses ke5477\n",
      "Split sukses ke5478\n",
      "Split sukses ke5479\n",
      "Split gagal ke575\n",
      "Split sukses ke5480\n",
      "Split gagal ke576\n",
      "Split gagal ke577\n",
      "Split sukses ke5481\n",
      "Split gagal ke578\n",
      "Split sukses ke5482\n"
     ]
    },
    {
     "name": "stdout",
     "output_type": "stream",
     "text": [
      "Split gagal ke579\n",
      "Split gagal ke580\n",
      "Split sukses ke5483\n",
      "Split sukses ke5484\n",
      "Split sukses ke5485\n",
      "Split sukses ke5486\n",
      "Split sukses ke5487\n",
      "Split sukses ke5488\n",
      "Split sukses ke5489\n",
      "Split sukses ke5490\n",
      "Split sukses ke5491\n",
      "Split sukses ke5492\n",
      "Split gagal ke581\n",
      "Split sukses ke5493\n",
      "Split gagal ke582\n",
      "Split sukses ke5494\n",
      "Split sukses ke5495\n",
      "Split gagal ke583\n",
      "Split sukses ke5496\n",
      "Split gagal ke584\n",
      "Split sukses ke5497\n",
      "Split sukses ke5498\n",
      "Split sukses ke5499\n",
      "Split sukses ke5500\n",
      "Split gagal ke585\n",
      "Split sukses ke5501\n",
      "Split sukses ke5502\n",
      "Split sukses ke5503\n",
      "Split sukses ke5504\n",
      "Split sukses ke5505\n",
      "Split gagal ke586\n",
      "Split sukses ke5506\n",
      "Split sukses ke5507\n",
      "Split sukses ke5508\n",
      "Split sukses ke5509\n",
      "Split sukses ke5510\n",
      "Split sukses ke5511\n",
      "Split sukses ke5512\n",
      "Split sukses ke5513\n",
      "Split sukses ke5514\n",
      "Split sukses ke5515\n",
      "Split sukses ke5516\n",
      "Split sukses ke5517\n",
      "Split sukses ke5518\n",
      "Split sukses ke5519\n",
      "Split gagal ke587\n",
      "Split sukses ke5520\n",
      "Split sukses ke5521\n",
      "Split sukses ke5522\n",
      "Split sukses ke5523\n",
      "Split sukses ke5524\n",
      "Split sukses ke5525\n",
      "Split sukses ke5526\n",
      "Split sukses ke5527\n",
      "Split sukses ke5528\n",
      "Split sukses ke5529\n",
      "Split sukses ke5530\n",
      "Split sukses ke5531\n",
      "Split sukses ke5532\n",
      "Split sukses ke5533\n",
      "Split sukses ke5534\n",
      "Split sukses ke5535\n",
      "Split sukses ke5536\n",
      "Split sukses ke5537\n",
      "Split sukses ke5538\n",
      "Split sukses ke5539\n",
      "Split sukses ke5540\n",
      "Split sukses ke5541\n",
      "Split sukses ke5542\n",
      "Split sukses ke5543\n",
      "Split sukses ke5544\n",
      "Split gagal ke588\n",
      "Split sukses ke5545\n",
      "Split sukses ke5546\n",
      "Split sukses ke5547\n",
      "Split sukses ke5548\n",
      "Split gagal ke589\n",
      "Split gagal ke590\n",
      "Split gagal ke591\n",
      "Split sukses ke5549\n",
      "Split gagal ke592\n",
      "Split gagal ke593\n",
      "Split sukses ke5550\n",
      "Split sukses ke5551\n",
      "Split sukses ke5552\n",
      "Split sukses ke5553\n",
      "Split sukses ke5554\n",
      "Split sukses ke5555\n",
      "Split sukses ke5556\n",
      "Split sukses ke5557\n",
      "Split sukses ke5558\n",
      "Split sukses ke5559\n",
      "Split gagal ke594\n",
      "Split sukses ke5560\n",
      "Split sukses ke5561\n",
      "Split sukses ke5562\n",
      "Split sukses ke5563\n",
      "Split gagal ke595\n",
      "Split sukses ke5564\n",
      "Split sukses ke5565\n",
      "Split sukses ke5566\n",
      "Split sukses ke5567\n",
      "Split sukses ke5568\n",
      "Split sukses ke5569\n",
      "Split sukses ke5570\n",
      "Split sukses ke5571\n",
      "Split sukses ke5572\n",
      "Split sukses ke5573\n",
      "Split sukses ke5574\n",
      "Split sukses ke5575\n",
      "Split sukses ke5576\n",
      "Split gagal ke596\n",
      "Split sukses ke5577\n",
      "Split sukses ke5578\n",
      "Split sukses ke5579\n",
      "Split sukses ke5580\n",
      "Split sukses ke5581\n",
      "Split gagal ke597\n",
      "Split sukses ke5582\n",
      "Split sukses ke5583\n",
      "Split sukses ke5584\n",
      "Split gagal ke598\n",
      "Split sukses ke5585\n",
      "Split gagal ke599\n",
      "Split gagal ke600\n",
      "Split sukses ke5586\n",
      "Split sukses ke5587\n",
      "Split gagal ke601\n",
      "Split gagal ke602\n",
      "Split sukses ke5588\n",
      "Split sukses ke5589\n",
      "Split sukses ke5590\n",
      "Split sukses ke5591\n",
      "Split sukses ke5592\n",
      "Split sukses ke5593\n",
      "Split sukses ke5594\n",
      "Split sukses ke5595\n",
      "Split sukses ke5596\n",
      "Split sukses ke5597\n",
      "Split sukses ke5598\n",
      "Split sukses ke5599\n",
      "Split sukses ke5600\n",
      "Split sukses ke5601\n",
      "Split sukses ke5602\n",
      "Split sukses ke5603\n",
      "Split sukses ke5604\n",
      "Split sukses ke5605\n",
      "Split gagal ke603\n",
      "Split sukses ke5606\n",
      "Split sukses ke5607\n",
      "Split sukses ke5608\n",
      "Split sukses ke5609\n",
      "Split sukses ke5610\n",
      "Split sukses ke5611\n",
      "Split sukses ke5612\n",
      "Split sukses ke5613\n",
      "Split sukses ke5614\n",
      "Split sukses ke5615\n",
      "Split sukses ke5616\n",
      "Split sukses ke5617\n",
      "Split sukses ke5618\n",
      "Split sukses ke5619\n",
      "Split sukses ke5620\n",
      "Split sukses ke5621\n",
      "Split gagal ke604\n",
      "Split sukses ke5622\n",
      "Split sukses ke5623\n",
      "Split sukses ke5624\n",
      "Split sukses ke5625\n",
      "Split sukses ke5626\n",
      "Split sukses ke5627\n",
      "Split sukses ke5628\n",
      "Split sukses ke5629\n",
      "Split gagal ke605\n",
      "Split sukses ke5630\n",
      "Split sukses ke5631\n",
      "Split sukses ke5632\n",
      "Split sukses ke5633\n",
      "Split sukses ke5634\n",
      "Split gagal ke606\n",
      "Split sukses ke5635\n",
      "Split sukses ke5636\n",
      "Split sukses ke5637\n",
      "Split sukses ke5638\n",
      "Split sukses ke5639\n",
      "Split gagal ke607\n",
      "Split sukses ke5640\n",
      "Split sukses ke5641\n",
      "Split gagal ke608\n",
      "Split sukses ke5642\n",
      "Split sukses ke5643\n",
      "Split sukses ke5644\n",
      "Split sukses ke5645\n",
      "Split gagal ke609\n",
      "Split sukses ke5646\n",
      "Split sukses ke5647\n",
      "Split sukses ke5648\n",
      "Split sukses ke5649\n",
      "Split sukses ke5650\n",
      "Split sukses ke5651\n",
      "Split gagal ke610\n",
      "Split gagal ke611\n",
      "Split gagal ke612\n",
      "Split sukses ke5652\n",
      "Split sukses ke5653\n",
      "Split sukses ke5654\n",
      "Split sukses ke5655\n",
      "Split sukses ke5656\n",
      "Split sukses ke5657\n",
      "Split sukses ke5658\n",
      "Split sukses ke5659\n",
      "Split sukses ke5660\n",
      "Split gagal ke613\n",
      "Split sukses ke5661\n",
      "Split sukses ke5662\n",
      "Split sukses ke5663\n",
      "Split sukses ke5664\n",
      "Split sukses ke5665\n",
      "Split sukses ke5666\n",
      "Split sukses ke5667\n",
      "Split sukses ke5668\n",
      "Split sukses ke5669\n",
      "Split sukses ke5670\n",
      "Split sukses ke5671\n",
      "Split sukses ke5672\n",
      "Split sukses ke5673\n",
      "Split sukses ke5674\n",
      "Split gagal ke614\n",
      "Split sukses ke5675\n",
      "Split sukses ke5676\n",
      "Split sukses ke5677\n",
      "Split sukses ke5678\n",
      "Split gagal ke615\n",
      "Split sukses ke5679\n",
      "Split sukses ke5680\n",
      "Split sukses ke5681\n",
      "Split sukses ke5682\n",
      "Split sukses ke5683\n",
      "Split sukses ke5684\n",
      "Split sukses ke5685\n",
      "Split sukses ke5686\n",
      "Split sukses ke5687\n",
      "Split sukses ke5688\n",
      "Split sukses ke5689\n",
      "Split gagal ke616\n",
      "Split sukses ke5690\n",
      "Split sukses ke5691\n",
      "Split sukses ke5692\n",
      "Split sukses ke5693\n",
      "Split gagal ke617\n",
      "Split sukses ke5694\n",
      "Split sukses ke5695\n",
      "Split sukses ke5696\n",
      "Split sukses ke5697\n",
      "Split gagal ke618\n",
      "Split sukses ke5698\n",
      "Split sukses ke5699\n",
      "Split sukses ke5700\n",
      "Split sukses ke5701\n",
      "Split sukses ke5702\n",
      "Split sukses ke5703\n",
      "Split sukses ke5704\n",
      "Split sukses ke5705\n",
      "Split sukses ke5706\n",
      "Split sukses ke5707\n",
      "Split sukses ke5708\n",
      "Split sukses ke5709\n",
      "Split sukses ke5710\n",
      "Split sukses ke5711\n",
      "Split sukses ke5712\n",
      "Split sukses ke5713\n",
      "Split sukses ke5714\n",
      "Split sukses ke5715\n",
      "Split sukses ke5716\n",
      "Split sukses ke5717\n",
      "Split sukses ke5718\n",
      "Split sukses ke5719\n",
      "Split sukses ke5720\n",
      "Split sukses ke5721\n",
      "Split sukses ke5722\n",
      "Split sukses ke5723\n",
      "Split sukses ke5724\n",
      "Split sukses ke5725\n",
      "Split sukses ke5726\n",
      "Split sukses ke5727\n",
      "Split sukses ke5728\n",
      "Split gagal ke619\n",
      "Split sukses ke5729\n",
      "Split gagal ke620\n",
      "Split sukses ke5730\n",
      "Split sukses ke5731\n",
      "Split sukses ke5732\n",
      "Split gagal ke621\n",
      "Split sukses ke5733\n",
      "Split gagal ke622\n",
      "Split sukses ke5734\n",
      "Split sukses ke5735\n",
      "Split gagal ke623\n",
      "Split sukses ke5736\n",
      "Split sukses ke5737\n",
      "Split sukses ke5738\n",
      "Split sukses ke5739\n",
      "Split sukses ke5740\n",
      "Split sukses ke5741\n",
      "Split sukses ke5742\n",
      "Split sukses ke5743\n",
      "Split sukses ke5744\n",
      "Split sukses ke5745\n",
      "Split sukses ke5746\n",
      "Split sukses ke5747\n",
      "Split sukses ke5748\n",
      "Split sukses ke5749\n",
      "Split sukses ke5750\n",
      "Split sukses ke5751\n",
      "Split sukses ke5752\n",
      "Split gagal ke624\n",
      "Split sukses ke5753\n",
      "Split sukses ke5754\n",
      "Split sukses ke5755\n",
      "Split sukses ke5756\n",
      "Split sukses ke5757\n",
      "Split gagal ke625\n",
      "Split sukses ke5758\n",
      "Split gagal ke626\n",
      "Split sukses ke5759\n",
      "Split sukses ke5760\n",
      "Split gagal ke627\n",
      "Split sukses ke5761\n",
      "Split sukses ke5762\n",
      "Split sukses ke5763\n",
      "Split sukses ke5764\n",
      "Split sukses ke5765\n",
      "Split sukses ke5766\n",
      "Split sukses ke5767\n",
      "Split sukses ke5768\n",
      "Split gagal ke628\n",
      "Split sukses ke5769\n",
      "Split sukses ke5770\n",
      "Split sukses ke5771\n",
      "Split sukses ke5772\n",
      "Split sukses ke5773\n",
      "Split sukses ke5774\n",
      "Split sukses ke5775\n",
      "Split sukses ke5776\n",
      "Split sukses ke5777\n",
      "Split sukses ke5778\n",
      "Split sukses ke5779\n",
      "Split sukses ke5780\n",
      "Split sukses ke5781\n",
      "Split sukses ke5782\n",
      "Split gagal ke629\n",
      "Split sukses ke5783\n",
      "Split sukses ke5784\n",
      "Split sukses ke5785\n",
      "Split gagal ke630\n",
      "Split sukses ke5786\n",
      "Split sukses ke5787\n",
      "Split sukses ke5788\n",
      "Split sukses ke5789\n",
      "Split sukses ke5790\n",
      "Split sukses ke5791\n",
      "Split sukses ke5792\n",
      "Split sukses ke5793\n",
      "Split sukses ke5794\n",
      "Split sukses ke5795\n",
      "Split sukses ke5796\n",
      "Split sukses ke5797\n",
      "Split sukses ke5798\n",
      "Split gagal ke631\n",
      "Split sukses ke5799\n",
      "Split sukses ke5800\n",
      "Split sukses ke5801\n",
      "Split sukses ke5802\n",
      "Split sukses ke5803\n",
      "Split gagal ke632\n",
      "Split sukses ke5804\n",
      "Split sukses ke5805\n",
      "Split sukses ke5806\n",
      "Split gagal ke633\n",
      "Split sukses ke5807\n",
      "Split sukses ke5808\n",
      "Split sukses ke5809\n",
      "Split sukses ke5810\n",
      "Split gagal ke634\n",
      "Split gagal ke635\n",
      "Split sukses ke5811\n",
      "Split gagal ke636\n",
      "Split sukses ke5812\n",
      "Split sukses ke5813\n",
      "Split sukses ke5814\n",
      "Split sukses ke5815\n",
      "Split sukses ke5816\n",
      "Split sukses ke5817\n",
      "Split sukses ke5818\n",
      "Split sukses ke5819\n",
      "Split sukses ke5820\n",
      "Split sukses ke5821\n",
      "Split gagal ke637\n",
      "Split sukses ke5822\n",
      "Split gagal ke638\n",
      "Split gagal ke639\n",
      "Split sukses ke5823\n",
      "Split sukses ke5824\n",
      "Split sukses ke5825\n",
      "Split sukses ke5826\n",
      "Split sukses ke5827\n",
      "Split sukses ke5828\n",
      "Split sukses ke5829\n",
      "Split sukses ke5830\n",
      "Split gagal ke640\n",
      "Split sukses ke5831\n",
      "Split sukses ke5832\n",
      "Split sukses ke5833\n",
      "Split gagal ke641\n",
      "Split sukses ke5834\n",
      "Split sukses ke5835\n",
      "Split sukses ke5836\n",
      "Split gagal ke642\n",
      "Split sukses ke5837\n"
     ]
    },
    {
     "name": "stdout",
     "output_type": "stream",
     "text": [
      "Split sukses ke5838\n",
      "Split gagal ke643\n",
      "Split sukses ke5839\n",
      "Split sukses ke5840\n",
      "Split sukses ke5841\n",
      "Split gagal ke644\n",
      "Split gagal ke645\n",
      "Split sukses ke5842\n",
      "Split sukses ke5843\n",
      "Split gagal ke646\n",
      "Split sukses ke5844\n",
      "Split sukses ke5845\n",
      "Split gagal ke647\n",
      "Split sukses ke5846\n",
      "Split sukses ke5847\n",
      "Split sukses ke5848\n",
      "Split gagal ke648\n",
      "Split sukses ke5849\n",
      "Split sukses ke5850\n",
      "Split sukses ke5851\n",
      "Split sukses ke5852\n",
      "Split sukses ke5853\n",
      "Split sukses ke5854\n",
      "Split sukses ke5855\n",
      "Split sukses ke5856\n",
      "Split sukses ke5857\n",
      "Split sukses ke5858\n",
      "Split sukses ke5859\n",
      "Split sukses ke5860\n",
      "Split sukses ke5861\n",
      "Split gagal ke649\n",
      "Split sukses ke5862\n",
      "Split sukses ke5863\n",
      "Split gagal ke650\n",
      "Split sukses ke5864\n",
      "Split sukses ke5865\n",
      "Split sukses ke5866\n",
      "Split sukses ke5867\n",
      "Split sukses ke5868\n",
      "Split gagal ke651\n",
      "Split sukses ke5869\n",
      "Split gagal ke652\n",
      "Split sukses ke5870\n",
      "Split sukses ke5871\n",
      "Split sukses ke5872\n",
      "Split sukses ke5873\n",
      "Split sukses ke5874\n",
      "Split sukses ke5875\n",
      "Split sukses ke5876\n",
      "Split sukses ke5877\n",
      "Split gagal ke653\n",
      "Split gagal ke654\n",
      "Split sukses ke5878\n",
      "Split sukses ke5879\n",
      "Split gagal ke655\n",
      "Split sukses ke5880\n",
      "Split sukses ke5881\n",
      "Split sukses ke5882\n",
      "Split sukses ke5883\n",
      "Split sukses ke5884\n",
      "Split sukses ke5885\n",
      "Split gagal ke656\n",
      "Split gagal ke657\n",
      "Split sukses ke5886\n",
      "Split sukses ke5887\n",
      "Split sukses ke5888\n",
      "Split sukses ke5889\n",
      "Split gagal ke658\n",
      "Split sukses ke5890\n",
      "Split sukses ke5891\n",
      "Split sukses ke5892\n",
      "Split sukses ke5893\n",
      "Split sukses ke5894\n",
      "Split sukses ke5895\n",
      "Split sukses ke5896\n",
      "Split sukses ke5897\n",
      "Split sukses ke5898\n",
      "Split sukses ke5899\n",
      "Split sukses ke5900\n",
      "Split sukses ke5901\n",
      "Split sukses ke5902\n",
      "Split gagal ke659\n",
      "Split sukses ke5903\n",
      "Split gagal ke660\n",
      "Split sukses ke5904\n",
      "Split sukses ke5905\n",
      "Split gagal ke661\n",
      "Split sukses ke5906\n",
      "Split sukses ke5907\n",
      "Split sukses ke5908\n",
      "Split sukses ke5909\n",
      "Split sukses ke5910\n",
      "Split sukses ke5911\n",
      "Split sukses ke5912\n",
      "Split sukses ke5913\n",
      "Split sukses ke5914\n",
      "Split sukses ke5915\n",
      "Split sukses ke5916\n",
      "Split gagal ke662\n",
      "Split sukses ke5917\n",
      "Split gagal ke663\n",
      "Split sukses ke5918\n",
      "Split gagal ke664\n",
      "Split gagal ke665\n",
      "Split sukses ke5919\n",
      "Split sukses ke5920\n",
      "Split sukses ke5921\n",
      "Split sukses ke5922\n",
      "Split sukses ke5923\n",
      "Split sukses ke5924\n",
      "Split sukses ke5925\n",
      "Split gagal ke666\n",
      "Split sukses ke5926\n",
      "Split sukses ke5927\n",
      "Split sukses ke5928\n",
      "Split sukses ke5929\n",
      "Split gagal ke667\n",
      "Split sukses ke5930\n",
      "Split sukses ke5931\n",
      "Split sukses ke5932\n",
      "Split sukses ke5933\n",
      "Split gagal ke668\n",
      "Split gagal ke669\n",
      "Split sukses ke5934\n",
      "Split sukses ke5935\n",
      "Split sukses ke5936\n",
      "Split sukses ke5937\n",
      "Split gagal ke670\n",
      "Split sukses ke5938\n",
      "Split sukses ke5939\n",
      "Split sukses ke5940\n",
      "Split sukses ke5941\n",
      "Split sukses ke5942\n",
      "Split gagal ke671\n",
      "Split sukses ke5943\n",
      "Split gagal ke672\n",
      "Split sukses ke5944\n",
      "Split sukses ke5945\n",
      "Split gagal ke673\n",
      "Split gagal ke674\n",
      "Split sukses ke5946\n",
      "Split gagal ke675\n",
      "Split sukses ke5947\n",
      "Split gagal ke676\n",
      "Split sukses ke5948\n",
      "Split sukses ke5949\n",
      "Split sukses ke5950\n",
      "Split sukses ke5951\n",
      "Split sukses ke5952\n",
      "Split sukses ke5953\n",
      "Split sukses ke5954\n",
      "Split gagal ke677\n",
      "Split sukses ke5955\n",
      "Split sukses ke5956\n",
      "Split sukses ke5957\n",
      "Split sukses ke5958\n",
      "Split sukses ke5959\n",
      "Split sukses ke5960\n",
      "Split gagal ke678\n",
      "Split sukses ke5961\n",
      "Split sukses ke5962\n",
      "Split sukses ke5963\n",
      "Split sukses ke5964\n",
      "Split sukses ke5965\n",
      "Split sukses ke5966\n",
      "Split sukses ke5967\n",
      "Split sukses ke5968\n",
      "Split gagal ke679\n",
      "Split sukses ke5969\n",
      "Split sukses ke5970\n",
      "Split sukses ke5971\n",
      "Split sukses ke5972\n",
      "Split sukses ke5973\n",
      "Split sukses ke5974\n",
      "Split sukses ke5975\n",
      "Split sukses ke5976\n",
      "Split sukses ke5977\n",
      "Split sukses ke5978\n",
      "Split sukses ke5979\n",
      "Split sukses ke5980\n",
      "Split sukses ke5981\n",
      "Split sukses ke5982\n",
      "Split sukses ke5983\n",
      "Split sukses ke5984\n",
      "Split sukses ke5985\n",
      "Split sukses ke5986\n",
      "Split sukses ke5987\n",
      "Split sukses ke5988\n",
      "Split gagal ke680\n",
      "Split sukses ke5989\n",
      "Split sukses ke5990\n",
      "Split gagal ke681\n",
      "Split sukses ke5991\n",
      "Split sukses ke5992\n",
      "Split sukses ke5993\n",
      "Split sukses ke5994\n",
      "Split sukses ke5995\n",
      "Split sukses ke5996\n",
      "Split sukses ke5997\n",
      "Split sukses ke5998\n",
      "Split sukses ke5999\n",
      "Split sukses ke6000\n",
      "Split sukses ke6001\n",
      "Split sukses ke6002\n",
      "Split sukses ke6003\n",
      "Split sukses ke6004\n",
      "Split sukses ke6005\n",
      "Split sukses ke6006\n",
      "Split sukses ke6007\n",
      "Split gagal ke682\n",
      "Split gagal ke683\n",
      "Split sukses ke6008\n",
      "Split sukses ke6009\n",
      "Split sukses ke6010\n",
      "Split sukses ke6011\n",
      "Split sukses ke6012\n",
      "Split sukses ke6013\n",
      "Split sukses ke6014\n",
      "Split sukses ke6015\n",
      "Split sukses ke6016\n",
      "Split gagal ke684\n",
      "Split gagal ke685\n",
      "Split gagal ke686\n",
      "Split sukses ke6017\n",
      "Split sukses ke6018\n",
      "Split sukses ke6019\n",
      "Split sukses ke6020\n",
      "Split sukses ke6021\n",
      "Split sukses ke6022\n",
      "Split sukses ke6023\n",
      "Split sukses ke6024\n",
      "Split sukses ke6025\n",
      "Split sukses ke6026\n",
      "Split gagal ke687\n",
      "Split sukses ke6027\n",
      "Split gagal ke688\n",
      "Split sukses ke6028\n",
      "Split sukses ke6029\n",
      "Split gagal ke689\n",
      "Split sukses ke6030\n",
      "Split gagal ke690\n",
      "Split sukses ke6031\n",
      "Split sukses ke6032\n",
      "Split sukses ke6033\n",
      "Split sukses ke6034\n",
      "Split sukses ke6035\n",
      "Split sukses ke6036\n",
      "Split sukses ke6037\n",
      "Split sukses ke6038\n",
      "Split sukses ke6039\n",
      "Split sukses ke6040\n",
      "Split sukses ke6041\n",
      "Split gagal ke691\n",
      "Split gagal ke692\n",
      "Split sukses ke6042\n",
      "Split sukses ke6043\n",
      "Split gagal ke693\n",
      "Split sukses ke6044\n",
      "Split sukses ke6045\n",
      "Split sukses ke6046\n",
      "Split sukses ke6047\n",
      "Split sukses ke6048\n",
      "Split gagal ke694\n",
      "Split sukses ke6049\n",
      "Split sukses ke6050\n",
      "Split sukses ke6051\n",
      "Split sukses ke6052\n",
      "Split sukses ke6053\n",
      "Split gagal ke695\n",
      "Split sukses ke6054\n",
      "Split sukses ke6055\n",
      "Split sukses ke6056\n",
      "Split sukses ke6057\n",
      "Split gagal ke696\n",
      "Split gagal ke697\n",
      "Split sukses ke6058\n",
      "Split sukses ke6059\n",
      "Split sukses ke6060\n",
      "Split sukses ke6061\n",
      "Split sukses ke6062\n",
      "Split gagal ke698\n",
      "Split gagal ke699\n",
      "Split gagal ke700\n",
      "Split gagal ke701\n",
      "Split sukses ke6063\n",
      "Split sukses ke6064\n",
      "Split sukses ke6065\n",
      "Split gagal ke702\n",
      "Split sukses ke6066\n",
      "Split sukses ke6067\n",
      "Split sukses ke6068\n",
      "Split sukses ke6069\n",
      "Split sukses ke6070\n",
      "Split sukses ke6071\n",
      "Split sukses ke6072\n",
      "Split sukses ke6073\n",
      "Split sukses ke6074\n",
      "Split gagal ke703\n",
      "Split sukses ke6075\n",
      "Split sukses ke6076\n",
      "Split sukses ke6077\n",
      "Split gagal ke704\n",
      "Split sukses ke6078\n",
      "Split gagal ke705\n",
      "Split gagal ke706\n",
      "Split gagal ke707\n",
      "Split sukses ke6079\n",
      "Split sukses ke6080\n",
      "Split sukses ke6081\n",
      "Split sukses ke6082\n",
      "Split sukses ke6083\n",
      "Split sukses ke6084\n",
      "Split gagal ke708\n",
      "Split gagal ke709\n",
      "Split sukses ke6085\n",
      "Split sukses ke6086\n",
      "Split gagal ke710\n",
      "Split sukses ke6087\n",
      "Split gagal ke711\n",
      "Split gagal ke712\n",
      "Split sukses ke6088\n",
      "Split sukses ke6089\n",
      "Split sukses ke6090\n",
      "Split sukses ke6091\n",
      "Split gagal ke713\n",
      "Split sukses ke6092\n",
      "Split sukses ke6093\n",
      "Split gagal ke714\n",
      "Split sukses ke6094\n",
      "Split sukses ke6095\n",
      "Split sukses ke6096\n",
      "Split sukses ke6097\n",
      "Split gagal ke715\n",
      "Split sukses ke6098\n",
      "Split sukses ke6099\n",
      "Split sukses ke6100\n",
      "Split sukses ke6101\n",
      "Split gagal ke716\n",
      "Split sukses ke6102\n",
      "Split sukses ke6103\n",
      "Split sukses ke6104\n",
      "Split gagal ke717\n",
      "Split sukses ke6105\n",
      "Split sukses ke6106\n",
      "Split sukses ke6107\n",
      "Split sukses ke6108\n",
      "Split sukses ke6109\n",
      "Split gagal ke718\n",
      "Split sukses ke6110\n",
      "Split sukses ke6111\n",
      "Split sukses ke6112\n",
      "Split sukses ke6113\n",
      "Split sukses ke6114\n",
      "Split gagal ke719\n",
      "Split sukses ke6115\n",
      "Split sukses ke6116\n",
      "Split gagal ke720\n",
      "Split sukses ke6117\n",
      "Split sukses ke6118\n",
      "Split gagal ke721\n",
      "Split sukses ke6119\n",
      "Split gagal ke722\n",
      "Split sukses ke6120\n",
      "Split sukses ke6121\n",
      "Split gagal ke723\n",
      "Split sukses ke6122\n",
      "Split sukses ke6123\n",
      "Split sukses ke6124\n",
      "Split sukses ke6125\n",
      "Split sukses ke6126\n",
      "Split sukses ke6127\n",
      "Split gagal ke724\n",
      "Split gagal ke725\n",
      "Split sukses ke6128\n",
      "Split sukses ke6129\n",
      "Split sukses ke6130\n",
      "Split sukses ke6131\n",
      "Split sukses ke6132\n",
      "Split sukses ke6133\n",
      "Split sukses ke6134\n",
      "Split sukses ke6135\n",
      "Split gagal ke726\n",
      "Split sukses ke6136\n",
      "Split sukses ke6137\n",
      "Split gagal ke727\n",
      "Split sukses ke6138\n",
      "Split gagal ke728\n",
      "Split sukses ke6139\n",
      "Split sukses ke6140\n",
      "Split sukses ke6141\n",
      "Split gagal ke729\n",
      "Split sukses ke6142\n",
      "Split sukses ke6143\n",
      "Split sukses ke6144\n",
      "Split sukses ke6145\n",
      "Split sukses ke6146\n",
      "Split sukses ke6147\n",
      "Split gagal ke730\n",
      "Split sukses ke6148\n",
      "Split sukses ke6149\n",
      "Split gagal ke731\n",
      "Split sukses ke6150\n",
      "Split gagal ke732\n",
      "Split gagal ke733\n",
      "Split gagal ke734\n",
      "Split gagal ke735\n",
      "Split sukses ke6151\n",
      "Split sukses ke6152\n",
      "Split sukses ke6153\n",
      "Split gagal ke736\n",
      "Split sukses ke6154\n",
      "Split sukses ke6155\n",
      "Split gagal ke737\n",
      "Split gagal ke738\n",
      "Split sukses ke6156\n",
      "Split sukses ke6157\n",
      "Split gagal ke739\n",
      "Split sukses ke6158\n",
      "Split sukses ke6159\n",
      "Split sukses ke6160\n",
      "Split sukses ke6161\n"
     ]
    },
    {
     "name": "stdout",
     "output_type": "stream",
     "text": [
      "Split sukses ke6162\n",
      "Split sukses ke6163\n",
      "Split sukses ke6164\n",
      "Split sukses ke6165\n",
      "Split sukses ke6166\n",
      "Split gagal ke740\n",
      "Split sukses ke6167\n",
      "Split sukses ke6168\n",
      "Split sukses ke6169\n",
      "Split gagal ke741\n",
      "Split sukses ke6170\n",
      "Split sukses ke6171\n",
      "Split gagal ke742\n",
      "Split sukses ke6172\n",
      "Split sukses ke6173\n",
      "Split sukses ke6174\n",
      "Split gagal ke743\n",
      "Split sukses ke6175\n",
      "Split sukses ke6176\n",
      "Split sukses ke6177\n",
      "Split gagal ke744\n",
      "Split sukses ke6178\n",
      "Split gagal ke745\n",
      "Split gagal ke746\n",
      "Split gagal ke747\n",
      "Split sukses ke6179\n",
      "Split sukses ke6180\n",
      "Split sukses ke6181\n",
      "Split sukses ke6182\n",
      "Split sukses ke6183\n",
      "Split gagal ke748\n",
      "Split sukses ke6184\n",
      "Split sukses ke6185\n",
      "Split gagal ke749\n",
      "Split sukses ke6186\n",
      "Split gagal ke750\n",
      "Split sukses ke6187\n",
      "Split sukses ke6188\n",
      "Split sukses ke6189\n",
      "Split sukses ke6190\n",
      "Split sukses ke6191\n",
      "Split gagal ke751\n",
      "Split sukses ke6192\n",
      "Split gagal ke752\n",
      "Split sukses ke6193\n",
      "Split sukses ke6194\n",
      "Split gagal ke753\n",
      "Split sukses ke6195\n",
      "Split sukses ke6196\n",
      "Split sukses ke6197\n",
      "Split sukses ke6198\n",
      "Split sukses ke6199\n",
      "Split sukses ke6200\n",
      "Split sukses ke6201\n",
      "Split sukses ke6202\n",
      "Split sukses ke6203\n",
      "Split sukses ke6204\n",
      "Split sukses ke6205\n",
      "Split sukses ke6206\n",
      "Split gagal ke754\n",
      "Split sukses ke6207\n",
      "Split sukses ke6208\n",
      "Split sukses ke6209\n",
      "Split sukses ke6210\n",
      "Split gagal ke755\n",
      "Split sukses ke6211\n",
      "Split sukses ke6212\n",
      "Split sukses ke6213\n",
      "Split sukses ke6214\n",
      "Split sukses ke6215\n",
      "Split sukses ke6216\n",
      "Split gagal ke756\n",
      "Split sukses ke6217\n",
      "Split gagal ke757\n",
      "Split sukses ke6218\n",
      "Split sukses ke6219\n",
      "Split sukses ke6220\n",
      "Split sukses ke6221\n",
      "Split sukses ke6222\n",
      "Split sukses ke6223\n",
      "Split sukses ke6224\n",
      "Split sukses ke6225\n",
      "Split sukses ke6226\n",
      "Split sukses ke6227\n",
      "Split sukses ke6228\n",
      "Split sukses ke6229\n",
      "Split gagal ke758\n",
      "Split sukses ke6230\n",
      "Split sukses ke6231\n",
      "Split sukses ke6232\n",
      "Split gagal ke759\n",
      "Split sukses ke6233\n",
      "Split sukses ke6234\n",
      "Split gagal ke760\n",
      "Split sukses ke6235\n",
      "Split sukses ke6236\n",
      "Split gagal ke761\n",
      "Split sukses ke6237\n",
      "Split gagal ke762\n",
      "Split sukses ke6238\n",
      "Split gagal ke763\n",
      "Split sukses ke6239\n",
      "Split sukses ke6240\n",
      "Split gagal ke764\n",
      "Split sukses ke6241\n",
      "Split gagal ke765\n",
      "Split sukses ke6242\n",
      "Split sukses ke6243\n",
      "Split sukses ke6244\n",
      "Split gagal ke766\n",
      "Split sukses ke6245\n",
      "Split sukses ke6246\n",
      "Split sukses ke6247\n",
      "Split gagal ke767\n",
      "Split sukses ke6248\n",
      "Split sukses ke6249\n",
      "Split sukses ke6250\n",
      "Split sukses ke6251\n",
      "Split sukses ke6252\n",
      "Split gagal ke768\n",
      "Split sukses ke6253\n",
      "Split sukses ke6254\n",
      "Split sukses ke6255\n",
      "Split gagal ke769\n",
      "Split sukses ke6256\n",
      "Split gagal ke770\n",
      "Split sukses ke6257\n",
      "Split sukses ke6258\n",
      "Split sukses ke6259\n",
      "Split sukses ke6260\n",
      "Split sukses ke6261\n",
      "Split sukses ke6262\n",
      "Split sukses ke6263\n",
      "Split gagal ke771\n",
      "Split sukses ke6264\n",
      "Split sukses ke6265\n",
      "Split sukses ke6266\n",
      "Split sukses ke6267\n",
      "Split gagal ke772\n",
      "Split gagal ke773\n",
      "Split sukses ke6268\n",
      "Split sukses ke6269\n",
      "Split gagal ke774\n",
      "Split sukses ke6270\n",
      "Split sukses ke6271\n",
      "Split sukses ke6272\n",
      "Split sukses ke6273\n",
      "Split sukses ke6274\n",
      "Split sukses ke6275\n",
      "Split sukses ke6276\n",
      "Split sukses ke6277\n",
      "Split sukses ke6278\n",
      "Split sukses ke6279\n",
      "Split gagal ke775\n",
      "Split sukses ke6280\n",
      "Split sukses ke6281\n",
      "Split gagal ke776\n",
      "Split sukses ke6282\n",
      "Split sukses ke6283\n",
      "Split sukses ke6284\n",
      "Split sukses ke6285\n",
      "Split sukses ke6286\n",
      "Split sukses ke6287\n",
      "Split gagal ke777\n",
      "Split sukses ke6288\n",
      "Split sukses ke6289\n",
      "Split sukses ke6290\n",
      "Split sukses ke6291\n",
      "Split gagal ke778\n",
      "Split gagal ke779\n",
      "Split sukses ke6292\n",
      "Split sukses ke6293\n",
      "Split gagal ke780\n",
      "Split sukses ke6294\n",
      "Split gagal ke781\n",
      "Split sukses ke6295\n",
      "Split sukses ke6296\n",
      "Split gagal ke782\n",
      "Split sukses ke6297\n",
      "Split sukses ke6298\n",
      "Split gagal ke783\n",
      "Split gagal ke784\n",
      "Split gagal ke785\n",
      "Split sukses ke6299\n",
      "Split gagal ke786\n",
      "Split sukses ke6300\n",
      "Split sukses ke6301\n",
      "Split sukses ke6302\n",
      "Split gagal ke787\n",
      "Split sukses ke6303\n",
      "Split gagal ke788\n",
      "Split sukses ke6304\n",
      "Split sukses ke6305\n",
      "Split sukses ke6306\n",
      "Split sukses ke6307\n",
      "Split sukses ke6308\n",
      "Split sukses ke6309\n",
      "Split gagal ke789\n",
      "Split sukses ke6310\n",
      "Split sukses ke6311\n",
      "Split sukses ke6312\n",
      "Split sukses ke6313\n",
      "Split sukses ke6314\n",
      "Split gagal ke790\n",
      "Split gagal ke791\n",
      "Split sukses ke6315\n",
      "Split sukses ke6316\n",
      "Split gagal ke792\n",
      "Split sukses ke6317\n",
      "Split sukses ke6318\n",
      "Split sukses ke6319\n",
      "Split sukses ke6320\n",
      "Split sukses ke6321\n",
      "Split sukses ke6322\n",
      "Split sukses ke6323\n",
      "Split sukses ke6324\n",
      "Split sukses ke6325\n",
      "Split sukses ke6326\n",
      "Split sukses ke6327\n",
      "Split gagal ke793\n",
      "Split gagal ke794\n",
      "Split sukses ke6328\n",
      "Split sukses ke6329\n",
      "Split sukses ke6330\n",
      "Split sukses ke6331\n",
      "Split sukses ke6332\n",
      "Split sukses ke6333\n",
      "Split sukses ke6334\n",
      "Split sukses ke6335\n",
      "Split sukses ke6336\n",
      "Split gagal ke795\n",
      "Split sukses ke6337\n",
      "Split sukses ke6338\n",
      "Split sukses ke6339\n",
      "Split sukses ke6340\n",
      "Split sukses ke6341\n",
      "Split sukses ke6342\n",
      "Split sukses ke6343\n",
      "Split sukses ke6344\n",
      "Split sukses ke6345\n",
      "Split sukses ke6346\n",
      "Split sukses ke6347\n",
      "Split sukses ke6348\n",
      "Split sukses ke6349\n",
      "Split sukses ke6350\n",
      "Split sukses ke6351\n",
      "Split sukses ke6352\n",
      "Split gagal ke796\n",
      "Split gagal ke797\n",
      "Split sukses ke6353\n",
      "Split sukses ke6354\n",
      "Split sukses ke6355\n",
      "Split sukses ke6356\n",
      "Split sukses ke6357\n",
      "Split sukses ke6358\n",
      "Split sukses ke6359\n",
      "Split sukses ke6360\n",
      "Split sukses ke6361\n",
      "Split sukses ke6362\n",
      "Split sukses ke6363\n",
      "Split gagal ke798\n",
      "Split sukses ke6364\n",
      "Split sukses ke6365\n",
      "Split sukses ke6366\n",
      "Split sukses ke6367\n",
      "Split sukses ke6368\n",
      "Split gagal ke799\n",
      "Split sukses ke6369\n",
      "Split gagal ke800\n",
      "Split sukses ke6370\n",
      "Split sukses ke6371\n",
      "Split sukses ke6372\n",
      "Split sukses ke6373\n",
      "Split sukses ke6374\n",
      "Split gagal ke801\n",
      "Split sukses ke6375\n",
      "Split sukses ke6376\n",
      "Split gagal ke802\n",
      "Split sukses ke6377\n",
      "Split sukses ke6378\n",
      "Split gagal ke803\n",
      "Split sukses ke6379\n",
      "Split sukses ke6380\n",
      "Split sukses ke6381\n",
      "Split sukses ke6382\n",
      "Split sukses ke6383\n",
      "Split sukses ke6384\n",
      "Split sukses ke6385\n",
      "Split gagal ke804\n",
      "Split sukses ke6386\n",
      "Split gagal ke805\n",
      "Split sukses ke6387\n",
      "Split sukses ke6388\n",
      "Split sukses ke6389\n",
      "Split gagal ke806\n",
      "Split sukses ke6390\n",
      "Split sukses ke6391\n",
      "Split sukses ke6392\n",
      "Split sukses ke6393\n",
      "Split sukses ke6394\n",
      "Split sukses ke6395\n",
      "Split sukses ke6396\n",
      "Split sukses ke6397\n",
      "Split sukses ke6398\n",
      "Split sukses ke6399\n",
      "Split gagal ke807\n",
      "Split sukses ke6400\n",
      "Split sukses ke6401\n",
      "Split sukses ke6402\n",
      "Split sukses ke6403\n",
      "Split sukses ke6404\n",
      "Split sukses ke6405\n",
      "Split gagal ke808\n",
      "Split gagal ke809\n",
      "Split sukses ke6406\n",
      "Split sukses ke6407\n",
      "Split sukses ke6408\n",
      "Split gagal ke810\n",
      "Split sukses ke6409\n",
      "Split sukses ke6410\n",
      "Split gagal ke811\n",
      "Split sukses ke6411\n",
      "Split sukses ke6412\n",
      "Split sukses ke6413\n",
      "Split sukses ke6414\n",
      "Split sukses ke6415\n",
      "Split sukses ke6416\n",
      "Split sukses ke6417\n",
      "Split sukses ke6418\n",
      "Split sukses ke6419\n",
      "Split sukses ke6420\n",
      "Split sukses ke6421\n",
      "Split sukses ke6422\n",
      "Split sukses ke6423\n",
      "Split sukses ke6424\n",
      "Split sukses ke6425\n",
      "Split sukses ke6426\n",
      "Split sukses ke6427\n",
      "Split gagal ke812\n",
      "Split sukses ke6428\n",
      "Split sukses ke6429\n",
      "Split gagal ke813\n",
      "Split sukses ke6430\n",
      "Split sukses ke6431\n",
      "Split sukses ke6432\n",
      "Split sukses ke6433\n",
      "Split sukses ke6434\n",
      "Split gagal ke814\n",
      "Split sukses ke6435\n",
      "Split sukses ke6436\n",
      "Split sukses ke6437\n",
      "Split sukses ke6438\n",
      "Split sukses ke6439\n",
      "Split gagal ke815\n",
      "Split sukses ke6440\n",
      "Split sukses ke6441\n",
      "Split sukses ke6442\n",
      "Split sukses ke6443\n",
      "Split sukses ke6444\n",
      "Split gagal ke816\n",
      "Split sukses ke6445\n",
      "Split gagal ke817\n",
      "Split gagal ke818\n",
      "Split sukses ke6446\n",
      "Split sukses ke6447\n",
      "Split sukses ke6448\n",
      "Split sukses ke6449\n",
      "Split sukses ke6450\n",
      "Split sukses ke6451\n",
      "Split sukses ke6452\n",
      "Split sukses ke6453\n",
      "Split sukses ke6454\n",
      "Split sukses ke6455\n",
      "Split gagal ke819\n",
      "Split gagal ke820\n",
      "Split gagal ke821\n",
      "Split sukses ke6456\n",
      "Split sukses ke6457\n",
      "Split sukses ke6458\n",
      "Split sukses ke6459\n",
      "Split gagal ke822\n",
      "Split sukses ke6460\n",
      "Split gagal ke823\n",
      "Split sukses ke6461\n",
      "Split sukses ke6462\n",
      "Split sukses ke6463\n",
      "Split sukses ke6464\n",
      "Split sukses ke6465\n",
      "Split gagal ke824\n",
      "Split gagal ke825\n",
      "Split sukses ke6466\n",
      "Split sukses ke6467\n",
      "Split sukses ke6468\n",
      "Split sukses ke6469\n",
      "Split gagal ke826\n",
      "Split sukses ke6470\n",
      "Split sukses ke6471\n",
      "Split gagal ke827\n",
      "Split sukses ke6472\n",
      "Split gagal ke828\n",
      "Split sukses ke6473\n",
      "Split sukses ke6474\n",
      "Split sukses ke6475\n",
      "Split sukses ke6476\n",
      "Split sukses ke6477\n",
      "Split gagal ke829\n",
      "Split gagal ke830\n",
      "Split gagal ke831\n",
      "Split sukses ke6478\n",
      "Split sukses ke6479\n",
      "Split sukses ke6480\n",
      "Split sukses ke6481\n",
      "Split sukses ke6482\n",
      "Split sukses ke6483\n",
      "Split sukses ke6484\n",
      "Split gagal ke832\n",
      "Split sukses ke6485\n",
      "Split gagal ke833\n",
      "Split sukses ke6486\n",
      "Split sukses ke6487\n",
      "Split sukses ke6488\n",
      "Split sukses ke6489\n",
      "Split sukses ke6490\n",
      "Split sukses ke6491\n"
     ]
    },
    {
     "name": "stdout",
     "output_type": "stream",
     "text": [
      "Split sukses ke6492\n",
      "Split gagal ke834\n",
      "Split sukses ke6493\n",
      "Split sukses ke6494\n",
      "Split sukses ke6495\n",
      "Split sukses ke6496\n",
      "Split sukses ke6497\n",
      "Split gagal ke835\n",
      "Split sukses ke6498\n",
      "Split sukses ke6499\n",
      "Split sukses ke6500\n",
      "Split sukses ke6501\n",
      "Split sukses ke6502\n",
      "Split gagal ke836\n",
      "Split sukses ke6503\n",
      "Split gagal ke837\n",
      "Split sukses ke6504\n",
      "Split sukses ke6505\n",
      "Split sukses ke6506\n",
      "Split sukses ke6507\n",
      "Split sukses ke6508\n",
      "Split sukses ke6509\n",
      "Split sukses ke6510\n",
      "Split sukses ke6511\n",
      "Split gagal ke838\n",
      "Split sukses ke6512\n",
      "Split sukses ke6513\n",
      "Split sukses ke6514\n",
      "Split sukses ke6515\n",
      "Split sukses ke6516\n",
      "Split sukses ke6517\n",
      "Split sukses ke6518\n",
      "Split gagal ke839\n",
      "Split sukses ke6519\n",
      "Split sukses ke6520\n",
      "Split sukses ke6521\n",
      "Split sukses ke6522\n",
      "Split gagal ke840\n",
      "Split sukses ke6523\n",
      "Split gagal ke841\n",
      "Split sukses ke6524\n",
      "Split sukses ke6525\n",
      "Split sukses ke6526\n",
      "Split sukses ke6527\n",
      "Split sukses ke6528\n",
      "Split sukses ke6529\n",
      "Split sukses ke6530\n",
      "Split sukses ke6531\n",
      "Split sukses ke6532\n",
      "Split sukses ke6533\n",
      "Split sukses ke6534\n",
      "Split sukses ke6535\n",
      "Split sukses ke6536\n",
      "Split sukses ke6537\n",
      "Split gagal ke842\n",
      "Split sukses ke6538\n",
      "Split sukses ke6539\n",
      "Split sukses ke6540\n",
      "Split gagal ke843\n",
      "Split sukses ke6541\n",
      "Split sukses ke6542\n",
      "Split gagal ke844\n",
      "Split sukses ke6543\n",
      "Split sukses ke6544\n",
      "Split sukses ke6545\n",
      "Split sukses ke6546\n",
      "Split sukses ke6547\n",
      "Split sukses ke6548\n",
      "Split sukses ke6549\n",
      "Split sukses ke6550\n",
      "Split sukses ke6551\n",
      "Split gagal ke845\n",
      "Split sukses ke6552\n",
      "Split sukses ke6553\n",
      "Split sukses ke6554\n",
      "Split gagal ke846\n",
      "Split sukses ke6555\n",
      "Split sukses ke6556\n",
      "Split sukses ke6557\n",
      "Split sukses ke6558\n",
      "Split sukses ke6559\n",
      "Split sukses ke6560\n",
      "Split gagal ke847\n",
      "Split sukses ke6561\n",
      "Split sukses ke6562\n",
      "Split sukses ke6563\n",
      "Split sukses ke6564\n",
      "Split sukses ke6565\n",
      "Split sukses ke6566\n",
      "Split sukses ke6567\n",
      "Split sukses ke6568\n",
      "Split sukses ke6569\n",
      "Split sukses ke6570\n",
      "Split sukses ke6571\n",
      "Split sukses ke6572\n",
      "Split gagal ke848\n",
      "Split sukses ke6573\n",
      "Split sukses ke6574\n",
      "Split sukses ke6575\n",
      "Split gagal ke849\n",
      "Split sukses ke6576\n",
      "Split sukses ke6577\n",
      "Split sukses ke6578\n",
      "Split sukses ke6579\n",
      "Split gagal ke850\n",
      "Split gagal ke851\n",
      "Split sukses ke6580\n",
      "Split gagal ke852\n",
      "Split gagal ke853\n",
      "Split sukses ke6581\n",
      "Split sukses ke6582\n",
      "Split sukses ke6583\n",
      "Split sukses ke6584\n",
      "Split sukses ke6585\n",
      "Split sukses ke6586\n",
      "Split sukses ke6587\n",
      "Split gagal ke854\n",
      "Split sukses ke6588\n",
      "Split sukses ke6589\n",
      "Split gagal ke855\n",
      "Split sukses ke6590\n",
      "Split sukses ke6591\n",
      "Split sukses ke6592\n",
      "Split sukses ke6593\n",
      "Split sukses ke6594\n",
      "Split sukses ke6595\n",
      "Split sukses ke6596\n",
      "Split sukses ke6597\n",
      "Split sukses ke6598\n",
      "Split sukses ke6599\n",
      "Split sukses ke6600\n",
      "Split gagal ke856\n",
      "Split gagal ke857\n",
      "Split sukses ke6601\n",
      "Split sukses ke6602\n",
      "Split gagal ke858\n",
      "Split sukses ke6603\n",
      "Split sukses ke6604\n",
      "Split sukses ke6605\n",
      "Split gagal ke859\n",
      "Split sukses ke6606\n",
      "Split sukses ke6607\n",
      "Split sukses ke6608\n",
      "Split sukses ke6609\n",
      "Split sukses ke6610\n",
      "Split sukses ke6611\n",
      "Split sukses ke6612\n",
      "Split sukses ke6613\n",
      "Split sukses ke6614\n",
      "Split sukses ke6615\n",
      "Split sukses ke6616\n",
      "Split sukses ke6617\n",
      "Split sukses ke6618\n",
      "Split sukses ke6619\n",
      "Split gagal ke860\n",
      "Split gagal ke861\n",
      "Split sukses ke6620\n",
      "Split sukses ke6621\n",
      "Split gagal ke862\n",
      "Split sukses ke6622\n",
      "Split sukses ke6623\n",
      "Split sukses ke6624\n",
      "Split gagal ke863\n",
      "Split sukses ke6625\n",
      "Split sukses ke6626\n",
      "Split sukses ke6627\n",
      "Split sukses ke6628\n",
      "Split sukses ke6629\n",
      "Split gagal ke864\n",
      "Split sukses ke6630\n",
      "Split sukses ke6631\n",
      "Split sukses ke6632\n",
      "Split sukses ke6633\n",
      "Split sukses ke6634\n",
      "Split sukses ke6635\n",
      "Split sukses ke6636\n",
      "Split gagal ke865\n",
      "Split gagal ke866\n",
      "Split sukses ke6637\n",
      "Split sukses ke6638\n",
      "Split sukses ke6639\n",
      "Split sukses ke6640\n",
      "Split gagal ke867\n",
      "Split sukses ke6641\n",
      "Split sukses ke6642\n",
      "Split sukses ke6643\n",
      "Split sukses ke6644\n",
      "Split sukses ke6645\n",
      "Split sukses ke6646\n",
      "Split gagal ke868\n",
      "Split sukses ke6647\n",
      "Split sukses ke6648\n",
      "Split gagal ke869\n",
      "Split sukses ke6649\n",
      "Split sukses ke6650\n",
      "Split gagal ke870\n",
      "Split gagal ke871\n",
      "Split sukses ke6651\n",
      "Split sukses ke6652\n",
      "Split gagal ke872\n",
      "Split gagal ke873\n",
      "Split sukses ke6653\n",
      "Split sukses ke6654\n",
      "Split gagal ke874\n",
      "Split gagal ke875\n",
      "Split sukses ke6655\n",
      "Split sukses ke6656\n",
      "Split sukses ke6657\n",
      "Split sukses ke6658\n",
      "Split sukses ke6659\n",
      "Split sukses ke6660\n",
      "Split sukses ke6661\n",
      "Split sukses ke6662\n",
      "Split sukses ke6663\n",
      "Split sukses ke6664\n",
      "Split gagal ke876\n",
      "Split sukses ke6665\n",
      "Split sukses ke6666\n",
      "Split sukses ke6667\n",
      "Split gagal ke877\n",
      "Split sukses ke6668\n",
      "Split sukses ke6669\n",
      "Split sukses ke6670\n",
      "Split sukses ke6671\n",
      "Split sukses ke6672\n",
      "Split sukses ke6673\n",
      "Split gagal ke878\n",
      "Split sukses ke6674\n",
      "Split sukses ke6675\n",
      "Split sukses ke6676\n",
      "Split sukses ke6677\n",
      "Split sukses ke6678\n",
      "Split sukses ke6679\n",
      "Split gagal ke879\n",
      "Split sukses ke6680\n",
      "Split sukses ke6681\n",
      "Split sukses ke6682\n",
      "Split sukses ke6683\n",
      "Split sukses ke6684\n",
      "Split gagal ke880\n",
      "Split sukses ke6685\n",
      "Split sukses ke6686\n",
      "Split gagal ke881\n",
      "Split sukses ke6687\n",
      "Split gagal ke882\n",
      "Split gagal ke883\n",
      "Split sukses ke6688\n",
      "Split gagal ke884\n",
      "Split sukses ke6689\n",
      "Split sukses ke6690\n",
      "Split sukses ke6691\n",
      "Split sukses ke6692\n",
      "Split sukses ke6693\n",
      "Split sukses ke6694\n",
      "Split gagal ke885\n",
      "Split gagal ke886\n",
      "Split sukses ke6695\n",
      "Split sukses ke6696\n",
      "Split sukses ke6697\n",
      "Split gagal ke887\n",
      "Split sukses ke6698\n",
      "Split sukses ke6699\n",
      "Split sukses ke6700\n",
      "Split gagal ke888\n",
      "Split sukses ke6701\n",
      "Split sukses ke6702\n",
      "Split sukses ke6703\n",
      "Split gagal ke889\n",
      "Split sukses ke6704\n",
      "Split sukses ke6705\n",
      "Split sukses ke6706\n",
      "Split sukses ke6707\n",
      "Split gagal ke890\n",
      "Split sukses ke6708\n",
      "Split sukses ke6709\n",
      "Split sukses ke6710\n",
      "Split sukses ke6711\n",
      "Split sukses ke6712\n",
      "Split gagal ke891\n",
      "Split gagal ke892\n",
      "Split sukses ke6713\n",
      "Split sukses ke6714\n",
      "Split sukses ke6715\n",
      "Split sukses ke6716\n",
      "Split sukses ke6717\n",
      "Split sukses ke6718\n",
      "Split sukses ke6719\n",
      "Split gagal ke893\n",
      "Split sukses ke6720\n",
      "Split sukses ke6721\n",
      "Split sukses ke6722\n",
      "Split gagal ke894\n",
      "Split sukses ke6723\n",
      "Split gagal ke895\n",
      "Split sukses ke6724\n",
      "Split gagal ke896\n",
      "Split sukses ke6725\n",
      "Split sukses ke6726\n",
      "Split sukses ke6727\n",
      "Split sukses ke6728\n",
      "Split sukses ke6729\n",
      "Split sukses ke6730\n",
      "Split sukses ke6731\n",
      "Split sukses ke6732\n",
      "Split sukses ke6733\n",
      "Split sukses ke6734\n",
      "Split sukses ke6735\n",
      "Split sukses ke6736\n",
      "Split sukses ke6737\n",
      "Split sukses ke6738\n",
      "Split sukses ke6739\n",
      "Split sukses ke6740\n",
      "Split sukses ke6741\n",
      "Split sukses ke6742\n",
      "Split sukses ke6743\n",
      "Split sukses ke6744\n",
      "Split gagal ke897\n",
      "Split sukses ke6745\n",
      "Split gagal ke898\n",
      "Split sukses ke6746\n",
      "Split sukses ke6747\n",
      "Split sukses ke6748\n",
      "Split gagal ke899\n",
      "Split sukses ke6749\n",
      "Split gagal ke900\n",
      "Split gagal ke901\n",
      "Split sukses ke6750\n",
      "Split gagal ke902\n",
      "Split gagal ke903\n",
      "Split gagal ke904\n",
      "Split sukses ke6751\n",
      "Split sukses ke6752\n",
      "Split sukses ke6753\n",
      "Split sukses ke6754\n",
      "Split sukses ke6755\n",
      "Split sukses ke6756\n",
      "Split sukses ke6757\n",
      "Split sukses ke6758\n",
      "Split sukses ke6759\n",
      "Split gagal ke905\n",
      "Split sukses ke6760\n",
      "Split gagal ke906\n",
      "Split sukses ke6761\n",
      "Split sukses ke6762\n",
      "Split sukses ke6763\n",
      "Split sukses ke6764\n",
      "Split sukses ke6765\n",
      "Split sukses ke6766\n",
      "Split sukses ke6767\n",
      "Split sukses ke6768\n",
      "Split gagal ke907\n",
      "Split sukses ke6769\n",
      "Split gagal ke908\n",
      "Split gagal ke909\n",
      "Split sukses ke6770\n",
      "Split gagal ke910\n",
      "Split sukses ke6771\n",
      "Split gagal ke911\n",
      "Split gagal ke912\n",
      "Split sukses ke6772\n",
      "Split sukses ke6773\n",
      "Split sukses ke6774\n",
      "Split sukses ke6775\n",
      "Split gagal ke913\n",
      "Split sukses ke6776\n",
      "Split sukses ke6777\n",
      "Split gagal ke914\n",
      "Split gagal ke915\n",
      "Split gagal ke916\n",
      "Split sukses ke6778\n",
      "Split sukses ke6779\n",
      "Split gagal ke917\n",
      "Split gagal ke918\n",
      "Split sukses ke6780\n",
      "Split sukses ke6781\n",
      "Split sukses ke6782\n",
      "Split sukses ke6783\n",
      "Split sukses ke6784\n",
      "Split sukses ke6785\n",
      "Split gagal ke919\n",
      "Split sukses ke6786\n",
      "Split sukses ke6787\n",
      "Split sukses ke6788\n",
      "Split sukses ke6789\n",
      "Split gagal ke920\n",
      "Split sukses ke6790\n",
      "Split sukses ke6791\n",
      "Split gagal ke921\n",
      "Split sukses ke6792\n",
      "Split sukses ke6793\n",
      "Split sukses ke6794\n",
      "Split sukses ke6795\n",
      "Split sukses ke6796\n",
      "Split sukses ke6797\n",
      "Split sukses ke6798\n",
      "Split gagal ke922\n",
      "Split sukses ke6799\n",
      "Split sukses ke6800\n",
      "Split sukses ke6801\n",
      "Split gagal ke923\n",
      "Split sukses ke6802\n",
      "Split sukses ke6803\n",
      "Split gagal ke924\n",
      "Split sukses ke6804\n",
      "Split sukses ke6805\n",
      "Split gagal ke925\n",
      "Split sukses ke6806\n",
      "Split gagal ke926\n",
      "Split sukses ke6807\n",
      "Split sukses ke6808\n",
      "Split sukses ke6809\n",
      "Split sukses ke6810\n",
      "Split gagal ke927\n",
      "Split sukses ke6811\n",
      "Split sukses ke6812\n",
      "Split sukses ke6813\n",
      "Split sukses ke6814\n",
      "Split sukses ke6815\n",
      "Split sukses ke6816\n",
      "Split sukses ke6817\n",
      "Split sukses ke6818\n",
      "Split sukses ke6819\n"
     ]
    },
    {
     "name": "stdout",
     "output_type": "stream",
     "text": [
      "Split sukses ke6820\n",
      "Split sukses ke6821\n",
      "Split gagal ke928\n",
      "Split sukses ke6822\n",
      "Split sukses ke6823\n",
      "Split sukses ke6824\n",
      "Split sukses ke6825\n",
      "Split sukses ke6826\n",
      "Split sukses ke6827\n",
      "Split sukses ke6828\n",
      "Split sukses ke6829\n",
      "Split sukses ke6830\n",
      "Split sukses ke6831\n",
      "Split sukses ke6832\n",
      "Split sukses ke6833\n",
      "Split sukses ke6834\n",
      "Split gagal ke929\n",
      "Split sukses ke6835\n",
      "Split sukses ke6836\n",
      "Split sukses ke6837\n",
      "Split sukses ke6838\n",
      "Split sukses ke6839\n",
      "Split sukses ke6840\n",
      "Split sukses ke6841\n",
      "Split gagal ke930\n",
      "Split sukses ke6842\n",
      "Split sukses ke6843\n",
      "Split sukses ke6844\n",
      "Split sukses ke6845\n",
      "Split sukses ke6846\n",
      "Split sukses ke6847\n",
      "Split sukses ke6848\n",
      "Split sukses ke6849\n",
      "Split sukses ke6850\n",
      "Split sukses ke6851\n",
      "Split sukses ke6852\n",
      "Split sukses ke6853\n",
      "Split sukses ke6854\n",
      "Split sukses ke6855\n",
      "Split gagal ke931\n",
      "Split sukses ke6856\n",
      "Split sukses ke6857\n",
      "Split sukses ke6858\n",
      "Split sukses ke6859\n",
      "Split sukses ke6860\n",
      "Split sukses ke6861\n",
      "Split sukses ke6862\n",
      "Split sukses ke6863\n",
      "Split sukses ke6864\n",
      "Split sukses ke6865\n",
      "Split sukses ke6866\n",
      "Split sukses ke6867\n",
      "Split sukses ke6868\n",
      "Split sukses ke6869\n",
      "Split sukses ke6870\n",
      "Split gagal ke932\n",
      "Split gagal ke933\n",
      "Split sukses ke6871\n",
      "Split sukses ke6872\n",
      "Split sukses ke6873\n",
      "Split sukses ke6874\n",
      "Split sukses ke6875\n",
      "Split sukses ke6876\n",
      "Split sukses ke6877\n",
      "Split sukses ke6878\n",
      "Split sukses ke6879\n",
      "Split sukses ke6880\n",
      "Split sukses ke6881\n",
      "Split gagal ke934\n",
      "Split sukses ke6882\n",
      "Split sukses ke6883\n",
      "Split sukses ke6884\n",
      "Split sukses ke6885\n",
      "Split sukses ke6886\n",
      "Split sukses ke6887\n",
      "Split sukses ke6888\n",
      "Split sukses ke6889\n",
      "Split sukses ke6890\n",
      "Split gagal ke935\n",
      "Split sukses ke6891\n",
      "Split sukses ke6892\n",
      "Split sukses ke6893\n",
      "Split sukses ke6894\n",
      "Split sukses ke6895\n",
      "Split sukses ke6896\n",
      "Split sukses ke6897\n",
      "Split sukses ke6898\n",
      "Split sukses ke6899\n",
      "Split sukses ke6900\n",
      "Split sukses ke6901\n",
      "Split sukses ke6902\n",
      "Split sukses ke6903\n",
      "Split sukses ke6904\n",
      "Split sukses ke6905\n",
      "Split sukses ke6906\n",
      "Split sukses ke6907\n"
     ]
    }
   ],
   "source": [
    "### Warning\n",
    "### Warning\n",
    "### Warning\n",
    "### Running for split audio and change to spectogram\n",
    "rootdir = 'E:\\\\Capstone_Project\\\\Folder_Datasheet'\n",
    "folder_depresi='E:\\\\Capstone_Project\\\\Depressionvsnormal\\\\Depression'\n",
    "folder_normal = \"E:\\\\Capstone_Project\\\\Depressionvsnormal\\\\normal\\\\\"\n",
    "loopingke = split_voice.splitvoice(rootdir,folder_depresi,folder_normal)\n",
    "\n",
    "\n",
    "folder_asal_depresi = \"E:\\\\Capstone_Project\\\\Depressionvsnormal\\\\Depression\"\n",
    "folder_dituju_depresi = \"E:\\\\Capstone_Project\\\\Depressionvsnormal_spectogram\\\\Depression\"\n",
    "spectogram_only.spectogram_only(folder_asal_depresi ,folder_dituju_depresi,\"Depression\")\n",
    "\n",
    "folder_asal_normal = \"E:\\\\Capstone_Project\\\\Depressionvsnormal\\\\Normal\"\n",
    "folder_dituju_normal = \"E:\\\\Capstone_Project\\\\Depressionvsnormal_spectogram\\\\Normal\"\n",
    "spectogram_only.spectogram_only(folder_asal_normal ,folder_dituju_normal,\"Normal\")\n"
   ]
  },
  {
   "cell_type": "code",
   "execution_count": 3,
   "metadata": {
    "colab": {
     "base_uri": "https://localhost:8080/"
    },
    "id": "g4jHhME6lAn9",
    "outputId": "8bba86dc-501d-41bd-b3ee-dea92d0e1d5c"
   },
   "outputs": [],
   "source": [
    "induk = \"E:\\\\Capstone_Project\\\\runningan\"\n",
    "os.chdir(f'{induk}')"
   ]
  },
  {
   "cell_type": "code",
   "execution_count": 4,
   "metadata": {
    "id": "WLL-eQFDZbbs"
   },
   "outputs": [
    {
     "ename": "FileExistsError",
     "evalue": "[WinError 183] Cannot create a file when that file already exists: 'E:\\\\Capstone_Project\\\\runningan\\\\speech_spectogram\\\\Depression'",
     "output_type": "error",
     "traceback": [
      "\u001b[1;31m---------------------------------------------------------------------------\u001b[0m",
      "\u001b[1;31mFileExistsError\u001b[0m                           Traceback (most recent call last)",
      "\u001b[1;32m~\\AppData\\Local\\Temp/ipykernel_2492/1398823370.py\u001b[0m in \u001b[0;36m<module>\u001b[1;34m\u001b[0m\n\u001b[0;32m     11\u001b[0m \u001b[1;31m# fetch all files\u001b[0m\u001b[1;33m\u001b[0m\u001b[1;33m\u001b[0m\u001b[1;33m\u001b[0m\u001b[0m\n\u001b[0;32m     12\u001b[0m \u001b[1;33m\u001b[0m\u001b[0m\n\u001b[1;32m---> 13\u001b[1;33m \u001b[0mshutil\u001b[0m\u001b[1;33m.\u001b[0m\u001b[0mcopytree\u001b[0m\u001b[1;33m(\u001b[0m\u001b[0msource_folder_depression\u001b[0m\u001b[1;33m,\u001b[0m \u001b[0mdestination_folder_depression\u001b[0m\u001b[1;33m)\u001b[0m\u001b[1;33m\u001b[0m\u001b[1;33m\u001b[0m\u001b[0m\n\u001b[0m\u001b[0;32m     14\u001b[0m \u001b[0mshutil\u001b[0m\u001b[1;33m.\u001b[0m\u001b[0mcopytree\u001b[0m\u001b[1;33m(\u001b[0m\u001b[0msource_folder_normal\u001b[0m\u001b[1;33m,\u001b[0m \u001b[0mdestination_folder_normal\u001b[0m\u001b[1;33m)\u001b[0m\u001b[1;33m\u001b[0m\u001b[1;33m\u001b[0m\u001b[0m\n\u001b[0;32m     15\u001b[0m \u001b[1;33m\u001b[0m\u001b[0m\n",
      "\u001b[1;32m~\\anaconda3\\lib\\shutil.py\u001b[0m in \u001b[0;36mcopytree\u001b[1;34m(src, dst, symlinks, ignore, copy_function, ignore_dangling_symlinks, dirs_exist_ok)\u001b[0m\n\u001b[0;32m    555\u001b[0m     \u001b[1;32mwith\u001b[0m \u001b[0mos\u001b[0m\u001b[1;33m.\u001b[0m\u001b[0mscandir\u001b[0m\u001b[1;33m(\u001b[0m\u001b[0msrc\u001b[0m\u001b[1;33m)\u001b[0m \u001b[1;32mas\u001b[0m \u001b[0mitr\u001b[0m\u001b[1;33m:\u001b[0m\u001b[1;33m\u001b[0m\u001b[1;33m\u001b[0m\u001b[0m\n\u001b[0;32m    556\u001b[0m         \u001b[0mentries\u001b[0m \u001b[1;33m=\u001b[0m \u001b[0mlist\u001b[0m\u001b[1;33m(\u001b[0m\u001b[0mitr\u001b[0m\u001b[1;33m)\u001b[0m\u001b[1;33m\u001b[0m\u001b[1;33m\u001b[0m\u001b[0m\n\u001b[1;32m--> 557\u001b[1;33m     return _copytree(entries=entries, src=src, dst=dst, symlinks=symlinks,\n\u001b[0m\u001b[0;32m    558\u001b[0m                      \u001b[0mignore\u001b[0m\u001b[1;33m=\u001b[0m\u001b[0mignore\u001b[0m\u001b[1;33m,\u001b[0m \u001b[0mcopy_function\u001b[0m\u001b[1;33m=\u001b[0m\u001b[0mcopy_function\u001b[0m\u001b[1;33m,\u001b[0m\u001b[1;33m\u001b[0m\u001b[1;33m\u001b[0m\u001b[0m\n\u001b[0;32m    559\u001b[0m                      \u001b[0mignore_dangling_symlinks\u001b[0m\u001b[1;33m=\u001b[0m\u001b[0mignore_dangling_symlinks\u001b[0m\u001b[1;33m,\u001b[0m\u001b[1;33m\u001b[0m\u001b[1;33m\u001b[0m\u001b[0m\n",
      "\u001b[1;32m~\\anaconda3\\lib\\shutil.py\u001b[0m in \u001b[0;36m_copytree\u001b[1;34m(entries, src, dst, symlinks, ignore, copy_function, ignore_dangling_symlinks, dirs_exist_ok)\u001b[0m\n\u001b[0;32m    456\u001b[0m         \u001b[0mignored_names\u001b[0m \u001b[1;33m=\u001b[0m \u001b[0mset\u001b[0m\u001b[1;33m(\u001b[0m\u001b[1;33m)\u001b[0m\u001b[1;33m\u001b[0m\u001b[1;33m\u001b[0m\u001b[0m\n\u001b[0;32m    457\u001b[0m \u001b[1;33m\u001b[0m\u001b[0m\n\u001b[1;32m--> 458\u001b[1;33m     \u001b[0mos\u001b[0m\u001b[1;33m.\u001b[0m\u001b[0mmakedirs\u001b[0m\u001b[1;33m(\u001b[0m\u001b[0mdst\u001b[0m\u001b[1;33m,\u001b[0m \u001b[0mexist_ok\u001b[0m\u001b[1;33m=\u001b[0m\u001b[0mdirs_exist_ok\u001b[0m\u001b[1;33m)\u001b[0m\u001b[1;33m\u001b[0m\u001b[1;33m\u001b[0m\u001b[0m\n\u001b[0m\u001b[0;32m    459\u001b[0m     \u001b[0merrors\u001b[0m \u001b[1;33m=\u001b[0m \u001b[1;33m[\u001b[0m\u001b[1;33m]\u001b[0m\u001b[1;33m\u001b[0m\u001b[1;33m\u001b[0m\u001b[0m\n\u001b[0;32m    460\u001b[0m     \u001b[0muse_srcentry\u001b[0m \u001b[1;33m=\u001b[0m \u001b[0mcopy_function\u001b[0m \u001b[1;32mis\u001b[0m \u001b[0mcopy2\u001b[0m \u001b[1;32mor\u001b[0m \u001b[0mcopy_function\u001b[0m \u001b[1;32mis\u001b[0m \u001b[0mcopy\u001b[0m\u001b[1;33m\u001b[0m\u001b[1;33m\u001b[0m\u001b[0m\n",
      "\u001b[1;32m~\\anaconda3\\lib\\os.py\u001b[0m in \u001b[0;36mmakedirs\u001b[1;34m(name, mode, exist_ok)\u001b[0m\n\u001b[0;32m    221\u001b[0m             \u001b[1;32mreturn\u001b[0m\u001b[1;33m\u001b[0m\u001b[1;33m\u001b[0m\u001b[0m\n\u001b[0;32m    222\u001b[0m     \u001b[1;32mtry\u001b[0m\u001b[1;33m:\u001b[0m\u001b[1;33m\u001b[0m\u001b[1;33m\u001b[0m\u001b[0m\n\u001b[1;32m--> 223\u001b[1;33m         \u001b[0mmkdir\u001b[0m\u001b[1;33m(\u001b[0m\u001b[0mname\u001b[0m\u001b[1;33m,\u001b[0m \u001b[0mmode\u001b[0m\u001b[1;33m)\u001b[0m\u001b[1;33m\u001b[0m\u001b[1;33m\u001b[0m\u001b[0m\n\u001b[0m\u001b[0;32m    224\u001b[0m     \u001b[1;32mexcept\u001b[0m \u001b[0mOSError\u001b[0m\u001b[1;33m:\u001b[0m\u001b[1;33m\u001b[0m\u001b[1;33m\u001b[0m\u001b[0m\n\u001b[0;32m    225\u001b[0m         \u001b[1;31m# Cannot rely on checking for EEXIST, since the operating system\u001b[0m\u001b[1;33m\u001b[0m\u001b[1;33m\u001b[0m\u001b[1;33m\u001b[0m\u001b[0m\n",
      "\u001b[1;31mFileExistsError\u001b[0m: [WinError 183] Cannot create a file when that file already exists: 'E:\\\\Capstone_Project\\\\runningan\\\\speech_spectogram\\\\Depression'"
     ]
    }
   ],
   "source": [
    "source_path = f'{induk}\\\\speech_spectogram'\n",
    "\n",
    "source_path_depression = os.path.join(source_path, 'Depression')\n",
    "source_path_normal = os.path.join(source_path, 'Normal')\n",
    "\n",
    "source_folder_depression = f\"E:\\\\Capstone_Project\\\\Depressionvsnormal_spectogram\\\\Depression\"\n",
    "destination_folder_depression = source_path_depression\n",
    "source_folder_normal = f\"E:\\\\Capstone_Project\\\\Depressionvsnormal_spectogram\\\\Normal\"\n",
    "destination_folder_normal = source_path_normal\n",
    "\n",
    "# fetch all files\n",
    "\n",
    "shutil.copytree(source_folder_depression, destination_folder_depression)\n",
    "shutil.copytree(source_folder_normal, destination_folder_normal)\n",
    "\n",
    "\n",
    "# os.listdir returns a list containing all files under the given path\n",
    "print(f\"There are {len(os.listdir( destination_folder_depression))} images of Depression.\")\n",
    "print(f\"There are {len(os.listdir(destination_folder_normal))} images of Normal.\")"
   ]
  },
  {
   "cell_type": "code",
   "execution_count": 5,
   "metadata": {
    "id": "Ay2gtIFyZs18"
   },
   "outputs": [],
   "source": [
    "# Define root directory\n",
    "root_dir = f'{induk}\\\\depressionvsnormal\\\\'\n",
    "\n",
    "# Empty directory to prevent FileExistsError is the function is run several times\n",
    "if os.path.exists(root_dir):\n",
    "  shutil.rmtree(root_dir)\n",
    "\n",
    "# GRADED FUNCTION: create_train_test_dirs\n",
    "def create_train_test_dirs(root_path):\n",
    "  ### START CODE HERE\n",
    "\n",
    "  # HINT:\n",
    "  # Use os.makedirs to create your directories with intermediate subdirectories\n",
    "  # Don't hardcode the paths. Use os.path.join to append the new directories to the root_path parameter\n",
    "  os.makedirs(os.path.join(root_path, \"training/\"))\n",
    "  os.makedirs(os.path.join(root_path, \"testing/\"))\n",
    "  os.makedirs(os.path.join(root_path, \"training/Depression/\"))\n",
    "  os.makedirs(os.path.join(root_path, \"testing/Depression/\"))\n",
    "  os.makedirs(os.path.join(root_path, \"training/Normal/\"))\n",
    "  os.makedirs(os.path.join(root_path, \"testing/Normal/\"))\n",
    "  pass\n",
    "  \n",
    "  ### END CODE HERE\n",
    "\n",
    "  \n",
    "try:\n",
    "  create_train_test_dirs(root_path=root_dir)\n",
    "except FileExistsError:\n",
    "  print(\"You should not be seeing this since the upper directory is removed beforehand\")"
   ]
  },
  {
   "cell_type": "code",
   "execution_count": 6,
   "metadata": {
    "id": "gi0tnZpEaI2V"
   },
   "outputs": [
    {
     "name": "stdout",
     "output_type": "stream",
     "text": [
      "E:\\Capstone_Project\\runningan\\depressionvsnormal\\testing\n",
      "E:\\Capstone_Project\\runningan\\depressionvsnormal\\training\n",
      "E:\\Capstone_Project\\runningan\\depressionvsnormal\\testing\\Depression\n",
      "E:\\Capstone_Project\\runningan\\depressionvsnormal\\testing\\Normal\n",
      "E:\\Capstone_Project\\runningan\\depressionvsnormal\\training\\Depression\n",
      "E:\\Capstone_Project\\runningan\\depressionvsnormal\\training\\Normal\n"
     ]
    }
   ],
   "source": [
    "# Test your create_train_test_dirs function\n",
    "\n",
    "for rootdir, dirs, files in os.walk(root_dir):\n",
    "    for subdir in dirs:\n",
    "        print(os.path.join(rootdir, subdir))"
   ]
  },
  {
   "cell_type": "code",
   "execution_count": 7,
   "metadata": {
    "id": "OgarIlFdaTM2"
   },
   "outputs": [],
   "source": [
    "# GRADED FUNCTION: split_data\n",
    "from shutil import copyfile\n",
    "def split_data(SOURCE, TRAINING, TESTING, SPLIT_SIZE):\n",
    "\n",
    "  ### START CODE HERE\n",
    "  file_dipakai = []\n",
    "  for file in os.listdir(SOURCE):\n",
    "    full_file_address= SOURCE + file\n",
    "    if os.path.getsize(full_file_address)>0:\n",
    "      file_dipakai.append(file)\n",
    "    else:\n",
    "      print(f\"{file} is zero length, so ignoring.\")\n",
    "  \n",
    "  jumlah_training = int(int(len(file_dipakai))*SPLIT_SIZE)\n",
    "  jumlah_testing = int(int(len(file_dipakai)-jumlah_training))\n",
    "  file_dipakai_sudah_random = random.sample(file_dipakai, len(file_dipakai))\n",
    "  files_training = file_dipakai_sudah_random[0:jumlah_training]\n",
    "  files_testing = file_dipakai_sudah_random[-jumlah_testing:]\n",
    "\n",
    "  for file_training in files_training:\n",
    "    try:\n",
    "      file = SOURCE + file_training\n",
    "      tempat_copy= TRAINING + file_training\n",
    "      copyfile(file, tempat_copy)\n",
    "    except:\n",
    "      pass\n",
    "  for file_testing in files_testing:\n",
    "    try:\n",
    "      file = SOURCE + file_testing\n",
    "      tempat_copy= TESTING + file_testing\n",
    "      copyfile(file, tempat_copy)\n",
    "    except:\n",
    "      pass"
   ]
  },
  {
   "cell_type": "code",
   "execution_count": 8,
   "metadata": {},
   "outputs": [],
   "source": [
    "TRAINING_DIR = \"E:\\\\Capstone_Project\\\\runningan\\\\depressionvsnormal\\\\training\\\\\"\n",
    "TESTING_DIR = \"E:\\\\Capstone_Project\\\\runningan\\\\depressionvsnormal\\\\testing\\\\\"\n",
    "\n",
    "# Define paths\n",
    "DEPRESSION_SOURCE_DIR = \"E:\\\\Capstone_Project\\\\runningan\\\\speech_spectogram\\\\Depression\\\\\"\n",
    "TRAINING_DEPRESSIONS_DIR = os.path.join(TRAINING_DIR, \"Depression\\\\\")\n",
    "TESTING_DEPRESSIONS_DIR = os.path.join(TESTING_DIR, \"Depression\\\\\")\n",
    "\n",
    "NORMAL_SOURCE_DIR = \"E:\\\\Capstone_Project\\\\runningan\\\\speech_spectogram\\\\Normal\\\\\"\n",
    "TRAINING_NORMAL_DIR = os.path.join(TRAINING_DIR, \"Normal\\\\\")\n",
    "TESTING_NORMAL_DIR = os.path.join(TESTING_DIR, \"Normal\\\\\")"
   ]
  },
  {
   "cell_type": "code",
   "execution_count": 9,
   "metadata": {
    "id": "nNF7U1KEadXk"
   },
   "outputs": [
    {
     "name": "stdout",
     "output_type": "stream",
     "text": [
      "There are 3292 images of depression for training\n",
      "There are 366 images of depression for testing\n",
      "There are 4706 images of normal for training\n",
      "There are 523 images of normal for testing\n"
     ]
    }
   ],
   "source": [
    "if len(os.listdir(TRAINING_DEPRESSIONS_DIR)) > 0:\n",
    "  for file in os.scandir(TRAINING_DEPRESSIONS_DIR):\n",
    "    os.remove(file.path)\n",
    "if len(os.listdir(TESTING_DEPRESSIONS_DIR)) > 0:\n",
    "  for file in os.scandir(TESTING_DEPRESSIONS_DIR):\n",
    "    os.remove(file.path)\n",
    "if len(os.listdir(TRAINING_NORMAL_DIR)) > 0:\n",
    "  for file in os.scandir(TRAINING_NORMAL_DIR):\n",
    "    os.remove(file.path)\n",
    "if len(os.listdir(TESTING_NORMAL_DIR)) > 0:\n",
    "  for file in os.scandir(TESTING_NORMAL_DIR):\n",
    "    os.remove(file.path)\n",
    "\n",
    "# Define proportion of images used for training\n",
    "split_size = .9\n",
    "\n",
    "# Run the function\n",
    "# NOTE: Messages about zero length images should be printed out\n",
    "split_data(DEPRESSION_SOURCE_DIR, TRAINING_DEPRESSIONS_DIR, TESTING_DEPRESSIONS_DIR, split_size)\n",
    "split_data(NORMAL_SOURCE_DIR, TRAINING_NORMAL_DIR, TESTING_NORMAL_DIR, split_size)\n",
    "\n",
    "# Check that the number of images matches the expected output\n",
    "print(f\"There are {len(os.listdir(TRAINING_DEPRESSIONS_DIR))} images of depression for training\")\n",
    "print(f\"There are {len(os.listdir(TESTING_DEPRESSIONS_DIR))} images of depression for testing\")\n",
    "print(f\"There are {len(os.listdir(TRAINING_NORMAL_DIR))} images of normal for training\")\n",
    "print(f\"There are {len(os.listdir(TESTING_NORMAL_DIR))} images of normal for testing\")"
   ]
  },
  {
   "cell_type": "code",
   "execution_count": 10,
   "metadata": {
    "id": "aPs-LLHLasJ_"
   },
   "outputs": [],
   "source": [
    "def train_val_generators(TRAINING_DIR, VALIDATION_DIR):\n",
    "\n",
    "  # Instantiate the ImageDataGenerator class (don't forget to set the rescale argument)\n",
    "  train_datagen = ImageDataGenerator(rescale=1.0/255.)\n",
    "\n",
    "  # Pass in the appropiate arguments to the flow_from_directory method\n",
    "  train_generator = train_datagen.flow_from_directory(directory=TRAINING_DIR,\n",
    "                                                      batch_size=10,\n",
    "                                                      class_mode='binary',\n",
    "                                                      color_mode = 'rgb',\n",
    "                                                      shuffle=True,\n",
    "                                                      seed=42,\n",
    "                                                      target_size=(512, 512))\n",
    "\n",
    "                                                           \n",
    "     \n",
    "\n",
    "  # Instantiate the ImageDataGenerator class (don't forget to set the rescale argument)\n",
    "  validation_datagen = ImageDataGenerator(rescale=1.0/255.)\n",
    "\n",
    "  # Pass in the appropiate arguments to the flow_from_directory method\n",
    "  validation_generator = validation_datagen.flow_from_directory(directory=VALIDATION_DIR,\n",
    "                                                      batch_size=10,\n",
    "                                                      class_mode='binary',\n",
    "                                                      color_mode = 'rgb',\n",
    "                                                      shuffle=True,\n",
    "                                                      seed=42,\n",
    "                                                      target_size=(512, 512))\n",
    "  \n",
    "  ### END CODE HERE\n",
    "  return train_generator, validation_generator\n"
   ]
  },
  {
   "cell_type": "code",
   "execution_count": 11,
   "metadata": {
    "id": "jCHwI5E-eTwZ"
   },
   "outputs": [
    {
     "name": "stdout",
     "output_type": "stream",
     "text": [
      "Found 7998 images belonging to 2 classes.\n",
      "Found 889 images belonging to 2 classes.\n"
     ]
    }
   ],
   "source": [
    "train_generator, validation_generator = train_val_generators(TRAINING_DIR, TESTING_DIR)"
   ]
  },
  {
   "cell_type": "code",
   "execution_count": 12,
   "metadata": {},
   "outputs": [
    {
     "name": "stdout",
     "output_type": "stream",
     "text": [
      "Commands: ['Depression' 'Normal']\n",
      "Number of total examples: 889\n",
      "Number of examples per label: 366\n",
      "Example file tensor: tf.Tensor(b'E:\\\\Capstone_Project\\\\runningan\\\\depressionvsnormal\\\\testing\\\\Normal\\\\Normal3273.jpg', shape=(), dtype=string)\n"
     ]
    }
   ],
   "source": [
    "import pathlib\n",
    "import numpy as np\n",
    "\n",
    "data_dir = pathlib.Path(TESTING_DIR)\n",
    "commands = np.array(tf.io.gfile.listdir(str(data_dir)))\n",
    "num_labels = len(commands)\n",
    "print('Commands:', commands)\n",
    "\n",
    "filenames = tf.io.gfile.glob(str(data_dir) + '/*/*')\n",
    "filenames = tf.random.shuffle(filenames)\n",
    "num_samples = len(filenames)\n",
    "print('Number of total examples:', num_samples)\n",
    "print('Number of examples per label:',\n",
    "      len(tf.io.gfile.listdir(str(data_dir / commands[0]))))\n",
    "print('Example file tensor:', filenames[0])"
   ]
  },
  {
   "cell_type": "code",
   "execution_count": 20,
   "metadata": {
    "id": "Fplq9dY0efjX"
   },
   "outputs": [],
   "source": [
    "def create_model():\n",
    "  model = tf.keras.models.Sequential([ \n",
    "  tf.keras.layers.experimental.preprocessing.Rescaling(1./255, input_shape=(512,512,3)),\n",
    "  tf.keras.layers.Conv2D(4, 2, strides=(1, 1),padding='same', activation='relu'),\n",
    "  tf.keras.layers.MaxPooling2D(pool_size=(2, 2),strides=(2, 2),),\n",
    "  tf.keras.layers.Conv2D(8, 3, strides=(1, 1),padding='same', activation='relu'),\n",
    "  tf.keras.layers.MaxPooling2D(pool_size=(2, 2),strides=(2, 2),),\n",
    "  tf.keras.layers.Conv2D(16, 4, strides=(1, 1),padding='same', activation='relu'),\n",
    "  tf.keras.layers.MaxPooling2D(pool_size=(2, 2),strides=(2, 2),),\n",
    "  tf.keras.layers.Flatten(),\n",
    "  tf.keras.layers.Dense(128, activation='relu'),\n",
    "  tf.keras.layers.Dense(num_labels, activation='sigmoid'),\n",
    "  ])\n",
    "  \n",
    "  opt = tf.keras.optimizers.Adam(learning_rate=0.0001)\n",
    "  model.compile(\n",
    "    optimizer=opt,\n",
    "    loss=tf.keras.losses.SparseCategoricalCrossentropy(from_logits=True),\n",
    "    metrics=['accuracy'],)\n",
    "    \n",
    "  return model\n",
    "  \n"
   ]
  },
  {
   "cell_type": "code",
   "execution_count": 21,
   "metadata": {
    "id": "NH1suHCZtlTg",
    "scrolled": false
   },
   "outputs": [
    {
     "name": "stdout",
     "output_type": "stream",
     "text": [
      "Model: \"sequential_1\"\n",
      "_________________________________________________________________\n",
      " Layer (type)                Output Shape              Param #   \n",
      "=================================================================\n",
      " rescaling_1 (Rescaling)     (None, 512, 512, 3)       0         \n",
      "                                                                 \n",
      " conv2d_3 (Conv2D)           (None, 512, 512, 4)       52        \n",
      "                                                                 \n",
      " max_pooling2d_3 (MaxPooling  (None, 256, 256, 4)      0         \n",
      " 2D)                                                             \n",
      "                                                                 \n",
      " conv2d_4 (Conv2D)           (None, 256, 256, 8)       296       \n",
      "                                                                 \n",
      " max_pooling2d_4 (MaxPooling  (None, 128, 128, 8)      0         \n",
      " 2D)                                                             \n",
      "                                                                 \n",
      " conv2d_5 (Conv2D)           (None, 128, 128, 16)      2064      \n",
      "                                                                 \n",
      " max_pooling2d_5 (MaxPooling  (None, 64, 64, 16)       0         \n",
      " 2D)                                                             \n",
      "                                                                 \n",
      " flatten_1 (Flatten)         (None, 65536)             0         \n",
      "                                                                 \n",
      " dense_2 (Dense)             (None, 128)               8388736   \n",
      "                                                                 \n",
      " dense_3 (Dense)             (None, 2)                 258       \n",
      "                                                                 \n",
      "=================================================================\n",
      "Total params: 8,391,406\n",
      "Trainable params: 8,391,406\n",
      "Non-trainable params: 0\n",
      "_________________________________________________________________\n",
      "Epoch 1/10\n"
     ]
    },
    {
     "name": "stderr",
     "output_type": "stream",
     "text": [
      "C:\\Users\\fiansyah\\anaconda3\\lib\\site-packages\\tensorflow\\python\\util\\dispatch.py:1082: UserWarning: \"`sparse_categorical_crossentropy` received `from_logits=True`, but the `output` argument was produced by a sigmoid or softmax activation and thus does not represent logits. Was this intended?\"\n",
      "  return dispatch_target(*args, **kwargs)\n"
     ]
    },
    {
     "name": "stdout",
     "output_type": "stream",
     "text": [
      "800/800 [==============================] - 651s 813ms/step - loss: 0.6787 - accuracy: 0.5866 - val_loss: 0.6734 - val_accuracy: 0.5883\n",
      "Epoch 2/10\n",
      "800/800 [==============================] - 763s 954ms/step - loss: 0.5813 - accuracy: 0.6898 - val_loss: 0.4245 - val_accuracy: 0.8661\n",
      "Epoch 3/10\n",
      "800/800 [==============================] - 707s 883ms/step - loss: 0.3641 - accuracy: 0.8641 - val_loss: 0.3209 - val_accuracy: 0.8661\n",
      "Epoch 4/10\n",
      "800/800 [==============================] - 730s 913ms/step - loss: 0.3117 - accuracy: 0.8817 - val_loss: 0.2756 - val_accuracy: 0.9066\n",
      "Epoch 5/10\n",
      "800/800 [==============================] - 713s 890ms/step - loss: 0.2776 - accuracy: 0.8983 - val_loss: 0.2469 - val_accuracy: 0.9100\n",
      "Epoch 6/10\n",
      "800/800 [==============================] - 711s 889ms/step - loss: 0.2560 - accuracy: 0.9081 - val_loss: 0.2276 - val_accuracy: 0.9168\n",
      "Epoch 7/10\n",
      "800/800 [==============================] - 678s 847ms/step - loss: 0.2384 - accuracy: 0.9136 - val_loss: 0.2156 - val_accuracy: 0.9224\n",
      "Epoch 8/10\n",
      "800/800 [==============================] - 623s 779ms/step - loss: 0.2307 - accuracy: 0.9160 - val_loss: 0.2178 - val_accuracy: 0.9291\n",
      "Epoch 9/10\n",
      "800/800 [==============================] - 664s 830ms/step - loss: 0.2222 - accuracy: 0.9199 - val_loss: 0.2193 - val_accuracy: 0.9280\n",
      "Epoch 10/10\n",
      "800/800 [==============================] - 690s 862ms/step - loss: 0.2174 - accuracy: 0.9231 - val_loss: 0.2148 - val_accuracy: 0.9280\n"
     ]
    }
   ],
   "source": [
    "model = create_model()\n",
    "model.summary()\n",
    "\n",
    "# Train the model\n",
    "# Note that this may take some time.\n",
    "EPOCHS = 10\n",
    "history = model.fit(\n",
    "    train_generator,\n",
    "    validation_data=validation_generator,\n",
    "    epochs=EPOCHS,\n",
    "    verbose=1,\n",
    ")"
   ]
  },
  {
   "cell_type": "code",
   "execution_count": 22,
   "metadata": {
    "id": "GGtMAUxyer1s"
   },
   "outputs": [
    {
     "data": {
      "image/png": "[encoded data removed]",
      "text/plain": [
       "<Figure size 432x288 with 1 Axes>"
      ]
     },
     "metadata": {
      "needs_background": "light"
     },
     "output_type": "display_data"
    },
    {
     "name": "stdout",
     "output_type": "stream",
     "text": [
      "\n"
     ]
    },
    {
     "data": {
      "image/png": "[encoded data removed]",
      "text/plain": [
       "<Figure size 432x288 with 1 Axes>"
      ]
     },
     "metadata": {
      "needs_background": "light"
     },
     "output_type": "display_data"
    }
   ],
   "source": [
    "#-----------------------------------------------------------\n",
    "# Retrieve a list of list results on training and test data\n",
    "# sets for each training epoch\n",
    "#-----------------------------------------------------------\n",
    "acc=history.history['accuracy']\n",
    "val_acc=history.history['val_accuracy']\n",
    "loss=history.history['loss']\n",
    "val_loss=history.history['val_loss']\n",
    "\n",
    "epochs=range(len(acc)) # Get number of epochs\n",
    "\n",
    "#------------------------------------------------\n",
    "# Plot training and validation accuracy per epoch\n",
    "#------------------------------------------------\n",
    "plt.plot(epochs, acc, 'r', \"Training Accuracy\")\n",
    "plt.plot(epochs, val_acc, 'b', \"Validation Accuracy\")\n",
    "plt.title('Training and validation accuracy')\n",
    "plt.show()\n",
    "print(\"\")\n",
    "\n",
    "#------------------------------------------------\n",
    "# Plot training and validation loss per epoch\n",
    "#------------------------------------------------\n",
    "plt.plot(epochs, loss, 'r', \"Training Loss\")\n",
    "plt.plot(epochs, val_loss, 'b', \"Validation Loss\")\n",
    "plt.show()"
   ]
  },
  {
   "cell_type": "code",
   "execution_count": 23,
   "metadata": {},
   "outputs": [],
   "source": [
    "saved_model_path = \"E:\\\\Capstone_Project\\\\modelh5\\\\predictive_model.h5\"\n",
    "model.save(saved_model_path)"
   ]
  },
  {
   "cell_type": "code",
   "execution_count": 24,
   "metadata": {},
   "outputs": [],
   "source": [
    "##### Batas penggunaan model yang sudah jadi #############"
   ]
  },
  {
   "cell_type": "code",
   "execution_count": 25,
   "metadata": {},
   "outputs": [],
   "source": [
    "def get_spectrogram_and_label_id(audio_file, label):\n",
    "    spectrogram = audio_file\n",
    "    spectrogram = tf.expand_dims(spectrogram, -1)\n",
    "    label_id = tf.argmax(label == commands)\n",
    "    return spectrogram, label_id\n",
    "\n",
    "def get_label(file_path):\n",
    "    parts = tf.strings.split(file_path, os.path.sep)\n",
    "    return parts[-2]\n",
    "\n",
    "def get_waveform_and_label(file_path):\n",
    "    label = get_label(file_path)\n",
    "    audio_binary = tf.io.read_file(file_path)\n",
    "    waveform = file_path\n",
    "    return waveform, label\n",
    "\n",
    "def preprocess_dataset(files):\n",
    "    files_ds = tf.data.Dataset.from_tensor_slices(files)\n",
    "    output_ds = files_ds.map(get_waveform_and_label, num_parallel_calls=AUTOTUNE)\n",
    "    output_ds = output_ds.map(\n",
    "        get_spectrogram_and_label_id, num_parallel_calls=AUTOTUNE)\n",
    "    return output_ds\n",
    "\n",
    "def transformator(file_gambar_spectogram):\n",
    "    IMG_PATH = file_gambar_spectogram\n",
    "    image = cv2.imread(IMG_PATH)\n",
    "    image = cv2.resize(image, (512, 512))\n",
    "    image = image.astype(\"float\") / 255.0\n",
    "    image = img_to_array(image)\n",
    "    image = np.expand_dims(image, axis=0)\n",
    "    return image\n",
    "\n",
    "def identifikasi_gambar(gambar):\n",
    "    y_pred = np.argmax(model.predict(transformator(gambar)), axis=1)\n",
    "    if str(y_pred[0]) == \"0\":\n",
    "       label_nama = \"Depresi\"\n",
    "    elif str(y_pred[0]) == \"1\":\n",
    "       label_nama = \"Normal\"\n",
    "    return label_nama\n",
    "\n",
    "def transform_audio_to_spectogram_to_testing(audio_file):\n",
    "    y, sr = librosa.load(audio_file)\n",
    "    librosa.feature.melspectrogram(y=y, sr=sr)\n",
    "    S = librosa.feature.melspectrogram(y=y, sr=sr, n_mels=128,\n",
    "                                               fmax=8000)\n",
    "    fig, ax = plt.subplots()\n",
    "    S_dB = librosa.power_to_db(S, ref=np.max)\n",
    "    img = librosa.display.specshow(S_dB)\n",
    "            # ax.set(title='Log Mel-frequency spectrogram')\n",
    "    folder_dituju = \"E:\\Capstone_Project\\\\runningan\\jalur_lewat_testing\"\n",
    "    savefigure = os.path.join(folder_dituju, 'jalur_lewat.jpg')\n",
    "    plt.savefig(savefigure)\n",
    "    status = identifikasi_gambar(savefigure)\n",
    "    return status\n",
    "\n",
    "AUTOTUNE = tf.data.AUTOTUNE\n",
    "test_files = filenames\n",
    "test_ds = preprocess_dataset(test_files)\n",
    "\n",
    "test_audio = []\n",
    "test_labels = []\n",
    "for audio, label in test_ds.as_numpy_iterator():\n",
    "    test_audio.append(str(audio[0].decode(\"utf-8\")))\n",
    "    test_labels.append(label)\n",
    "\n",
    "# Normal [1] , Depresi [0]"
   ]
  },
  {
   "cell_type": "code",
   "execution_count": 26,
   "metadata": {},
   "outputs": [],
   "source": [
    "model = models.load_model(saved_model_path)"
   ]
  },
  {
   "cell_type": "code",
   "execution_count": 27,
   "metadata": {},
   "outputs": [
    {
     "name": "stdout",
     "output_type": "stream",
     "text": [
      "1/1 [==============================] - 0s 196ms/step\n",
      "1/1 [==============================] - 0s 65ms/step\n",
      "1/1 [==============================] - 0s 72ms/step\n",
      "1/1 [==============================] - 0s 64ms/step\n",
      "1/1 [==============================] - 0s 67ms/step\n",
      "1/1 [==============================] - 0s 78ms/step\n",
      "1/1 [==============================] - 0s 61ms/step\n",
      "1/1 [==============================] - 0s 82ms/step\n",
      "1/1 [==============================] - 0s 72ms/step\n",
      "1/1 [==============================] - 0s 89ms/step\n",
      "1/1 [==============================] - 0s 70ms/step\n",
      "1/1 [==============================] - 0s 72ms/step\n",
      "1/1 [==============================] - 0s 69ms/step\n",
      "1/1 [==============================] - 0s 70ms/step\n",
      "1/1 [==============================] - 0s 87ms/step\n",
      "1/1 [==============================] - 0s 73ms/step\n",
      "1/1 [==============================] - 0s 66ms/step\n",
      "1/1 [==============================] - 0s 67ms/step\n",
      "1/1 [==============================] - 0s 72ms/step\n",
      "1/1 [==============================] - 0s 76ms/step\n",
      "1/1 [==============================] - 0s 70ms/step\n",
      "1/1 [==============================] - 0s 79ms/step\n",
      "1/1 [==============================] - 0s 65ms/step\n",
      "1/1 [==============================] - 0s 89ms/step\n",
      "1/1 [==============================] - 0s 69ms/step\n",
      "1/1 [==============================] - 0s 84ms/step\n",
      "1/1 [==============================] - 0s 103ms/step\n",
      "1/1 [==============================] - 0s 91ms/step\n",
      "1/1 [==============================] - 0s 85ms/step\n",
      "1/1 [==============================] - 0s 85ms/step\n",
      "1/1 [==============================] - 0s 107ms/step\n",
      "1/1 [==============================] - 0s 94ms/step\n",
      "1/1 [==============================] - 0s 70ms/step\n",
      "1/1 [==============================] - 0s 65ms/step\n",
      "1/1 [==============================] - 0s 59ms/step\n",
      "1/1 [==============================] - 0s 62ms/step\n",
      "1/1 [==============================] - 0s 82ms/step\n",
      "1/1 [==============================] - 0s 70ms/step\n",
      "1/1 [==============================] - 0s 84ms/step\n",
      "1/1 [==============================] - 0s 68ms/step\n",
      "1/1 [==============================] - 0s 82ms/step\n",
      "1/1 [==============================] - 0s 66ms/step\n",
      "1/1 [==============================] - 0s 70ms/step\n",
      "1/1 [==============================] - 0s 70ms/step\n",
      "1/1 [==============================] - 0s 67ms/step\n",
      "1/1 [==============================] - 0s 81ms/step\n",
      "1/1 [==============================] - 0s 60ms/step\n",
      "1/1 [==============================] - 0s 70ms/step\n",
      "1/1 [==============================] - 0s 83ms/step\n",
      "1/1 [==============================] - 0s 81ms/step\n",
      "1/1 [==============================] - 0s 82ms/step\n",
      "1/1 [==============================] - 0s 63ms/step\n",
      "1/1 [==============================] - 0s 65ms/step\n",
      "1/1 [==============================] - 0s 70ms/step\n",
      "1/1 [==============================] - 0s 65ms/step\n",
      "1/1 [==============================] - 0s 66ms/step\n",
      "1/1 [==============================] - 0s 68ms/step\n",
      "1/1 [==============================] - 0s 124ms/step\n",
      "1/1 [==============================] - 0s 70ms/step\n",
      "1/1 [==============================] - 0s 65ms/step\n",
      "1/1 [==============================] - 0s 71ms/step\n",
      "1/1 [==============================] - 0s 65ms/step\n",
      "1/1 [==============================] - 0s 72ms/step\n",
      "1/1 [==============================] - 0s 62ms/step\n",
      "1/1 [==============================] - 0s 100ms/step\n",
      "1/1 [==============================] - 0s 64ms/step\n",
      "1/1 [==============================] - 0s 88ms/step\n",
      "1/1 [==============================] - 0s 64ms/step\n",
      "1/1 [==============================] - 0s 94ms/step\n",
      "1/1 [==============================] - 0s 72ms/step\n",
      "1/1 [==============================] - 0s 60ms/step\n",
      "1/1 [==============================] - 0s 88ms/step\n",
      "1/1 [==============================] - 0s 62ms/step\n",
      "1/1 [==============================] - 0s 71ms/step\n",
      "1/1 [==============================] - 0s 74ms/step\n",
      "1/1 [==============================] - 0s 69ms/step\n",
      "1/1 [==============================] - 0s 71ms/step\n",
      "1/1 [==============================] - 0s 62ms/step\n",
      "1/1 [==============================] - 0s 78ms/step\n",
      "1/1 [==============================] - 0s 71ms/step\n",
      "1/1 [==============================] - 0s 70ms/step\n",
      "1/1 [==============================] - 0s 62ms/step\n",
      "1/1 [==============================] - 0s 73ms/step\n",
      "1/1 [==============================] - 0s 82ms/step\n",
      "1/1 [==============================] - 0s 79ms/step\n",
      "1/1 [==============================] - 0s 86ms/step\n",
      "1/1 [==============================] - 0s 77ms/step\n",
      "1/1 [==============================] - 0s 80ms/step\n",
      "1/1 [==============================] - 0s 79ms/step\n",
      "1/1 [==============================] - 0s 76ms/step\n",
      "1/1 [==============================] - 0s 84ms/step\n",
      "1/1 [==============================] - 0s 75ms/step\n",
      "1/1 [==============================] - 0s 66ms/step\n",
      "1/1 [==============================] - 0s 64ms/step\n",
      "1/1 [==============================] - 0s 70ms/step\n",
      "1/1 [==============================] - 0s 81ms/step\n",
      "1/1 [==============================] - 0s 67ms/step\n",
      "1/1 [==============================] - 0s 83ms/step\n",
      "1/1 [==============================] - 0s 70ms/step\n",
      "1/1 [==============================] - 0s 73ms/step\n",
      "1/1 [==============================] - 0s 64ms/step\n",
      "1/1 [==============================] - 0s 62ms/step\n",
      "1/1 [==============================] - 0s 72ms/step\n",
      "1/1 [==============================] - 0s 65ms/step\n",
      "1/1 [==============================] - 0s 67ms/step\n",
      "1/1 [==============================] - 0s 67ms/step\n",
      "1/1 [==============================] - 0s 165ms/step\n",
      "1/1 [==============================] - 0s 88ms/step\n",
      "1/1 [==============================] - 0s 64ms/step\n",
      "1/1 [==============================] - 0s 72ms/step\n",
      "1/1 [==============================] - 0s 71ms/step\n",
      "1/1 [==============================] - 0s 65ms/step\n",
      "1/1 [==============================] - 0s 74ms/step\n",
      "1/1 [==============================] - 0s 63ms/step\n",
      "1/1 [==============================] - 0s 71ms/step\n",
      "1/1 [==============================] - 0s 58ms/step\n",
      "1/1 [==============================] - 0s 71ms/step\n",
      "1/1 [==============================] - 0s 66ms/step\n",
      "1/1 [==============================] - 0s 69ms/step\n",
      "1/1 [==============================] - 0s 67ms/step\n",
      "1/1 [==============================] - 0s 91ms/step\n",
      "1/1 [==============================] - 0s 62ms/step\n",
      "1/1 [==============================] - 0s 69ms/step\n",
      "1/1 [==============================] - 0s 62ms/step\n",
      "1/1 [==============================] - 0s 69ms/step\n",
      "1/1 [==============================] - 0s 66ms/step\n",
      "1/1 [==============================] - 0s 65ms/step\n",
      "1/1 [==============================] - 0s 75ms/step\n",
      "1/1 [==============================] - 0s 69ms/step\n",
      "1/1 [==============================] - 0s 74ms/step\n",
      "1/1 [==============================] - 0s 61ms/step\n",
      "1/1 [==============================] - 0s 78ms/step\n",
      "1/1 [==============================] - 0s 63ms/step\n",
      "1/1 [==============================] - 0s 86ms/step\n",
      "1/1 [==============================] - 0s 71ms/step\n",
      "1/1 [==============================] - 0s 68ms/step\n",
      "1/1 [==============================] - 0s 62ms/step\n",
      "1/1 [==============================] - 0s 71ms/step\n",
      "1/1 [==============================] - 0s 65ms/step\n",
      "1/1 [==============================] - 0s 59ms/step\n",
      "1/1 [==============================] - 0s 66ms/step\n",
      "1/1 [==============================] - 0s 65ms/step\n",
      "1/1 [==============================] - 0s 73ms/step\n",
      "1/1 [==============================] - 0s 68ms/step\n",
      "1/1 [==============================] - 0s 74ms/step\n",
      "1/1 [==============================] - 0s 72ms/step\n",
      "1/1 [==============================] - 0s 70ms/step\n",
      "1/1 [==============================] - 0s 69ms/step\n",
      "1/1 [==============================] - 0s 78ms/step\n",
      "1/1 [==============================] - 0s 75ms/step\n",
      "1/1 [==============================] - 0s 74ms/step\n",
      "1/1 [==============================] - 0s 66ms/step\n",
      "1/1 [==============================] - 0s 69ms/step\n",
      "1/1 [==============================] - 0s 72ms/step\n",
      "1/1 [==============================] - 0s 78ms/step\n",
      "1/1 [==============================] - 0s 90ms/step\n",
      "1/1 [==============================] - 0s 100ms/step\n"
     ]
    },
    {
     "name": "stdout",
     "output_type": "stream",
     "text": [
      "1/1 [==============================] - 0s 76ms/step\n",
      "1/1 [==============================] - 0s 67ms/step\n",
      "1/1 [==============================] - 0s 79ms/step\n",
      "1/1 [==============================] - 0s 70ms/step\n",
      "1/1 [==============================] - 0s 71ms/step\n",
      "1/1 [==============================] - 0s 79ms/step\n",
      "1/1 [==============================] - 0s 64ms/step\n",
      "1/1 [==============================] - 0s 69ms/step\n",
      "1/1 [==============================] - 0s 67ms/step\n",
      "1/1 [==============================] - 0s 73ms/step\n",
      "1/1 [==============================] - 0s 66ms/step\n",
      "1/1 [==============================] - 0s 72ms/step\n",
      "1/1 [==============================] - 0s 76ms/step\n",
      "1/1 [==============================] - 0s 72ms/step\n",
      "1/1 [==============================] - 0s 72ms/step\n",
      "1/1 [==============================] - 0s 83ms/step\n",
      "1/1 [==============================] - 0s 67ms/step\n",
      "1/1 [==============================] - 0s 68ms/step\n",
      "1/1 [==============================] - 0s 61ms/step\n",
      "1/1 [==============================] - 0s 67ms/step\n",
      "1/1 [==============================] - 0s 67ms/step\n",
      "1/1 [==============================] - 0s 71ms/step\n",
      "1/1 [==============================] - 0s 63ms/step\n",
      "1/1 [==============================] - 0s 69ms/step\n",
      "1/1 [==============================] - 0s 78ms/step\n",
      "1/1 [==============================] - 0s 70ms/step\n",
      "1/1 [==============================] - 0s 77ms/step\n",
      "1/1 [==============================] - 0s 70ms/step\n",
      "1/1 [==============================] - 0s 81ms/step\n",
      "1/1 [==============================] - 0s 67ms/step\n",
      "1/1 [==============================] - 0s 73ms/step\n",
      "1/1 [==============================] - 0s 65ms/step\n",
      "1/1 [==============================] - 0s 64ms/step\n",
      "1/1 [==============================] - 0s 65ms/step\n",
      "1/1 [==============================] - 0s 67ms/step\n",
      "1/1 [==============================] - 0s 59ms/step\n",
      "1/1 [==============================] - 0s 72ms/step\n",
      "1/1 [==============================] - 0s 71ms/step\n",
      "1/1 [==============================] - 0s 67ms/step\n",
      "1/1 [==============================] - 0s 77ms/step\n",
      "1/1 [==============================] - 0s 66ms/step\n",
      "1/1 [==============================] - 0s 69ms/step\n",
      "1/1 [==============================] - 0s 73ms/step\n",
      "1/1 [==============================] - 0s 85ms/step\n",
      "1/1 [==============================] - 0s 66ms/step\n",
      "1/1 [==============================] - 0s 79ms/step\n",
      "1/1 [==============================] - 0s 69ms/step\n",
      "1/1 [==============================] - 0s 71ms/step\n",
      "1/1 [==============================] - 0s 63ms/step\n",
      "1/1 [==============================] - 0s 97ms/step\n",
      "1/1 [==============================] - 0s 88ms/step\n",
      "1/1 [==============================] - 0s 57ms/step\n",
      "1/1 [==============================] - 0s 72ms/step\n",
      "1/1 [==============================] - 0s 78ms/step\n",
      "1/1 [==============================] - 0s 86ms/step\n",
      "1/1 [==============================] - 0s 68ms/step\n",
      "1/1 [==============================] - 0s 90ms/step\n",
      "1/1 [==============================] - 0s 83ms/step\n",
      "1/1 [==============================] - 0s 68ms/step\n",
      "1/1 [==============================] - 0s 83ms/step\n",
      "1/1 [==============================] - 0s 66ms/step\n",
      "1/1 [==============================] - 0s 105ms/step\n",
      "1/1 [==============================] - 0s 116ms/step\n",
      "1/1 [==============================] - 0s 74ms/step\n",
      "1/1 [==============================] - 0s 73ms/step\n",
      "1/1 [==============================] - 0s 80ms/step\n",
      "1/1 [==============================] - 0s 83ms/step\n",
      "1/1 [==============================] - 0s 76ms/step\n",
      "1/1 [==============================] - 0s 87ms/step\n",
      "1/1 [==============================] - 0s 76ms/step\n",
      "1/1 [==============================] - 0s 74ms/step\n",
      "1/1 [==============================] - 0s 83ms/step\n",
      "1/1 [==============================] - 0s 84ms/step\n",
      "1/1 [==============================] - 0s 85ms/step\n",
      "1/1 [==============================] - 0s 76ms/step\n",
      "1/1 [==============================] - 0s 76ms/step\n",
      "1/1 [==============================] - 0s 74ms/step\n",
      "1/1 [==============================] - 0s 73ms/step\n",
      "1/1 [==============================] - 0s 69ms/step\n",
      "1/1 [==============================] - 0s 73ms/step\n",
      "1/1 [==============================] - 0s 67ms/step\n",
      "1/1 [==============================] - 0s 69ms/step\n",
      "1/1 [==============================] - 0s 63ms/step\n",
      "1/1 [==============================] - 0s 74ms/step\n",
      "1/1 [==============================] - 0s 69ms/step\n",
      "1/1 [==============================] - 0s 71ms/step\n",
      "1/1 [==============================] - 0s 65ms/step\n",
      "1/1 [==============================] - 0s 77ms/step\n",
      "1/1 [==============================] - 0s 67ms/step\n",
      "1/1 [==============================] - 0s 87ms/step\n",
      "1/1 [==============================] - 0s 65ms/step\n",
      "1/1 [==============================] - 0s 78ms/step\n",
      "1/1 [==============================] - 0s 73ms/step\n",
      "1/1 [==============================] - 0s 57ms/step\n",
      "1/1 [==============================] - 0s 79ms/step\n",
      "1/1 [==============================] - 0s 91ms/step\n",
      "1/1 [==============================] - 0s 81ms/step\n",
      "1/1 [==============================] - 0s 97ms/step\n",
      "1/1 [==============================] - 0s 79ms/step\n",
      "1/1 [==============================] - 0s 81ms/step\n",
      "1/1 [==============================] - 0s 79ms/step\n",
      "1/1 [==============================] - 0s 74ms/step\n",
      "1/1 [==============================] - 0s 74ms/step\n",
      "1/1 [==============================] - 0s 76ms/step\n",
      "1/1 [==============================] - 0s 71ms/step\n",
      "1/1 [==============================] - 0s 73ms/step\n",
      "1/1 [==============================] - 0s 70ms/step\n",
      "1/1 [==============================] - 0s 76ms/step\n",
      "1/1 [==============================] - 0s 74ms/step\n",
      "1/1 [==============================] - 0s 70ms/step\n",
      "1/1 [==============================] - 0s 84ms/step\n",
      "1/1 [==============================] - 0s 70ms/step\n",
      "1/1 [==============================] - 0s 76ms/step\n",
      "1/1 [==============================] - 0s 77ms/step\n",
      "1/1 [==============================] - 0s 74ms/step\n",
      "1/1 [==============================] - 0s 85ms/step\n",
      "1/1 [==============================] - 0s 80ms/step\n",
      "1/1 [==============================] - 0s 83ms/step\n",
      "1/1 [==============================] - 0s 88ms/step\n",
      "1/1 [==============================] - 0s 65ms/step\n",
      "1/1 [==============================] - 0s 68ms/step\n",
      "1/1 [==============================] - 0s 64ms/step\n",
      "1/1 [==============================] - 0s 65ms/step\n",
      "1/1 [==============================] - 0s 92ms/step\n",
      "1/1 [==============================] - 0s 89ms/step\n",
      "1/1 [==============================] - 0s 83ms/step\n",
      "1/1 [==============================] - 0s 86ms/step\n",
      "1/1 [==============================] - 0s 75ms/step\n",
      "1/1 [==============================] - 0s 78ms/step\n",
      "1/1 [==============================] - 0s 71ms/step\n",
      "1/1 [==============================] - 0s 63ms/step\n",
      "1/1 [==============================] - 0s 65ms/step\n",
      "1/1 [==============================] - 0s 58ms/step\n",
      "1/1 [==============================] - 0s 73ms/step\n",
      "1/1 [==============================] - 0s 72ms/step\n",
      "1/1 [==============================] - 0s 80ms/step\n",
      "1/1 [==============================] - 0s 88ms/step\n",
      "1/1 [==============================] - 0s 75ms/step\n",
      "1/1 [==============================] - 0s 77ms/step\n",
      "1/1 [==============================] - 0s 73ms/step\n",
      "1/1 [==============================] - 0s 74ms/step\n",
      "1/1 [==============================] - 0s 83ms/step\n",
      "1/1 [==============================] - 0s 78ms/step\n",
      "1/1 [==============================] - 0s 80ms/step\n",
      "1/1 [==============================] - 0s 81ms/step\n",
      "1/1 [==============================] - 0s 72ms/step\n",
      "1/1 [==============================] - 0s 75ms/step\n",
      "1/1 [==============================] - 0s 84ms/step\n",
      "1/1 [==============================] - 0s 83ms/step\n",
      "1/1 [==============================] - 0s 77ms/step\n",
      "1/1 [==============================] - 0s 67ms/step\n",
      "1/1 [==============================] - 0s 64ms/step\n",
      "1/1 [==============================] - 0s 73ms/step\n",
      "1/1 [==============================] - 0s 67ms/step\n",
      "1/1 [==============================] - 0s 84ms/step\n",
      "1/1 [==============================] - 0s 64ms/step\n",
      "1/1 [==============================] - 0s 75ms/step\n"
     ]
    },
    {
     "name": "stdout",
     "output_type": "stream",
     "text": [
      "1/1 [==============================] - 0s 61ms/step\n",
      "1/1 [==============================] - 0s 63ms/step\n",
      "1/1 [==============================] - 0s 66ms/step\n",
      "1/1 [==============================] - 0s 60ms/step\n",
      "1/1 [==============================] - 0s 72ms/step\n",
      "1/1 [==============================] - 0s 58ms/step\n",
      "1/1 [==============================] - 0s 71ms/step\n",
      "1/1 [==============================] - 0s 66ms/step\n",
      "1/1 [==============================] - 0s 80ms/step\n",
      "1/1 [==============================] - 0s 64ms/step\n",
      "1/1 [==============================] - 0s 66ms/step\n",
      "1/1 [==============================] - 0s 62ms/step\n",
      "1/1 [==============================] - 0s 79ms/step\n",
      "1/1 [==============================] - 0s 67ms/step\n",
      "1/1 [==============================] - 0s 74ms/step\n",
      "1/1 [==============================] - 0s 71ms/step\n",
      "1/1 [==============================] - 0s 72ms/step\n",
      "1/1 [==============================] - 0s 64ms/step\n",
      "1/1 [==============================] - 0s 70ms/step\n",
      "1/1 [==============================] - 0s 67ms/step\n",
      "1/1 [==============================] - 0s 86ms/step\n",
      "1/1 [==============================] - 0s 74ms/step\n",
      "1/1 [==============================] - 0s 65ms/step\n",
      "1/1 [==============================] - 0s 66ms/step\n",
      "1/1 [==============================] - 0s 68ms/step\n",
      "1/1 [==============================] - 0s 61ms/step\n",
      "1/1 [==============================] - 0s 71ms/step\n",
      "1/1 [==============================] - 0s 81ms/step\n",
      "1/1 [==============================] - 0s 92ms/step\n",
      "1/1 [==============================] - 0s 73ms/step\n",
      "1/1 [==============================] - 0s 63ms/step\n",
      "1/1 [==============================] - 0s 67ms/step\n",
      "1/1 [==============================] - 0s 68ms/step\n",
      "1/1 [==============================] - 0s 68ms/step\n",
      "1/1 [==============================] - 0s 71ms/step\n",
      "1/1 [==============================] - 0s 64ms/step\n",
      "1/1 [==============================] - 0s 75ms/step\n",
      "1/1 [==============================] - 0s 71ms/step\n",
      "1/1 [==============================] - 0s 73ms/step\n",
      "1/1 [==============================] - 0s 61ms/step\n",
      "1/1 [==============================] - 0s 76ms/step\n",
      "1/1 [==============================] - 0s 69ms/step\n",
      "1/1 [==============================] - 0s 88ms/step\n",
      "1/1 [==============================] - 0s 69ms/step\n",
      "1/1 [==============================] - 0s 65ms/step\n",
      "1/1 [==============================] - 0s 59ms/step\n",
      "1/1 [==============================] - 0s 64ms/step\n",
      "1/1 [==============================] - 0s 66ms/step\n",
      "1/1 [==============================] - 0s 66ms/step\n",
      "1/1 [==============================] - 0s 70ms/step\n",
      "1/1 [==============================] - 0s 74ms/step\n",
      "1/1 [==============================] - 0s 234ms/step\n",
      "1/1 [==============================] - 0s 77ms/step\n",
      "1/1 [==============================] - 0s 85ms/step\n",
      "1/1 [==============================] - 0s 75ms/step\n",
      "1/1 [==============================] - 0s 75ms/step\n",
      "1/1 [==============================] - 0s 65ms/step\n",
      "1/1 [==============================] - 0s 67ms/step\n",
      "1/1 [==============================] - 0s 59ms/step\n",
      "1/1 [==============================] - 0s 69ms/step\n",
      "1/1 [==============================] - 0s 72ms/step\n",
      "1/1 [==============================] - 0s 64ms/step\n",
      "1/1 [==============================] - 0s 72ms/step\n",
      "1/1 [==============================] - 0s 68ms/step\n",
      "1/1 [==============================] - 0s 70ms/step\n",
      "1/1 [==============================] - 0s 62ms/step\n",
      "1/1 [==============================] - 0s 78ms/step\n",
      "1/1 [==============================] - 0s 67ms/step\n",
      "1/1 [==============================] - 0s 75ms/step\n",
      "1/1 [==============================] - 0s 59ms/step\n",
      "1/1 [==============================] - 0s 76ms/step\n",
      "1/1 [==============================] - 0s 70ms/step\n",
      "1/1 [==============================] - 0s 65ms/step\n",
      "1/1 [==============================] - 0s 72ms/step\n",
      "1/1 [==============================] - 0s 62ms/step\n",
      "1/1 [==============================] - 0s 75ms/step\n",
      "1/1 [==============================] - 0s 70ms/step\n",
      "1/1 [==============================] - 0s 71ms/step\n",
      "1/1 [==============================] - 0s 66ms/step\n",
      "1/1 [==============================] - 0s 97ms/step\n",
      "1/1 [==============================] - 0s 65ms/step\n",
      "1/1 [==============================] - 0s 63ms/step\n",
      "1/1 [==============================] - 0s 68ms/step\n",
      "1/1 [==============================] - 0s 67ms/step\n",
      "1/1 [==============================] - 0s 80ms/step\n",
      "1/1 [==============================] - 0s 72ms/step\n",
      "1/1 [==============================] - 0s 72ms/step\n",
      "1/1 [==============================] - 0s 63ms/step\n",
      "1/1 [==============================] - 0s 80ms/step\n",
      "1/1 [==============================] - 0s 78ms/step\n",
      "1/1 [==============================] - 0s 78ms/step\n",
      "1/1 [==============================] - 0s 70ms/step\n",
      "1/1 [==============================] - 0s 79ms/step\n",
      "1/1 [==============================] - 0s 70ms/step\n",
      "1/1 [==============================] - 0s 65ms/step\n",
      "1/1 [==============================] - 0s 69ms/step\n",
      "1/1 [==============================] - 0s 60ms/step\n",
      "1/1 [==============================] - 0s 89ms/step\n",
      "1/1 [==============================] - 0s 64ms/step\n",
      "1/1 [==============================] - 0s 82ms/step\n",
      "1/1 [==============================] - 0s 70ms/step\n",
      "1/1 [==============================] - 0s 58ms/step\n",
      "1/1 [==============================] - 0s 65ms/step\n",
      "1/1 [==============================] - 0s 74ms/step\n",
      "1/1 [==============================] - 0s 75ms/step\n",
      "1/1 [==============================] - 0s 59ms/step\n",
      "1/1 [==============================] - 0s 75ms/step\n",
      "1/1 [==============================] - 0s 73ms/step\n",
      "1/1 [==============================] - 0s 72ms/step\n",
      "1/1 [==============================] - 0s 68ms/step\n",
      "1/1 [==============================] - 0s 70ms/step\n",
      "1/1 [==============================] - 0s 66ms/step\n",
      "1/1 [==============================] - 0s 79ms/step\n",
      "1/1 [==============================] - 0s 70ms/step\n",
      "1/1 [==============================] - 0s 73ms/step\n",
      "1/1 [==============================] - 0s 67ms/step\n",
      "1/1 [==============================] - 0s 65ms/step\n",
      "1/1 [==============================] - 0s 68ms/step\n",
      "1/1 [==============================] - 0s 63ms/step\n",
      "1/1 [==============================] - 0s 54ms/step\n",
      "1/1 [==============================] - 0s 63ms/step\n",
      "1/1 [==============================] - 0s 67ms/step\n",
      "1/1 [==============================] - 0s 64ms/step\n",
      "1/1 [==============================] - 0s 69ms/step\n",
      "1/1 [==============================] - 0s 84ms/step\n",
      "1/1 [==============================] - 0s 94ms/step\n",
      "1/1 [==============================] - 0s 78ms/step\n",
      "1/1 [==============================] - 0s 63ms/step\n",
      "1/1 [==============================] - 0s 67ms/step\n",
      "1/1 [==============================] - 0s 81ms/step\n",
      "1/1 [==============================] - 0s 110ms/step\n",
      "1/1 [==============================] - 0s 90ms/step\n",
      "1/1 [==============================] - 0s 70ms/step\n",
      "1/1 [==============================] - 0s 72ms/step\n",
      "1/1 [==============================] - 0s 73ms/step\n",
      "1/1 [==============================] - 0s 73ms/step\n",
      "1/1 [==============================] - 0s 86ms/step\n",
      "1/1 [==============================] - 0s 84ms/step\n",
      "1/1 [==============================] - 0s 86ms/step\n",
      "1/1 [==============================] - 0s 70ms/step\n",
      "1/1 [==============================] - 0s 67ms/step\n",
      "1/1 [==============================] - 0s 59ms/step\n",
      "1/1 [==============================] - 0s 65ms/step\n",
      "1/1 [==============================] - 0s 79ms/step\n",
      "1/1 [==============================] - 0s 61ms/step\n",
      "1/1 [==============================] - 0s 78ms/step\n",
      "1/1 [==============================] - 0s 66ms/step\n",
      "1/1 [==============================] - 0s 75ms/step\n",
      "1/1 [==============================] - 0s 79ms/step\n",
      "1/1 [==============================] - 0s 68ms/step\n",
      "1/1 [==============================] - 0s 77ms/step\n",
      "1/1 [==============================] - 0s 64ms/step\n",
      "1/1 [==============================] - 0s 89ms/step\n",
      "1/1 [==============================] - 0s 66ms/step\n",
      "1/1 [==============================] - 0s 65ms/step\n",
      "1/1 [==============================] - 0s 75ms/step\n",
      "1/1 [==============================] - 0s 68ms/step\n"
     ]
    },
    {
     "name": "stdout",
     "output_type": "stream",
     "text": [
      "1/1 [==============================] - 0s 79ms/step\n",
      "1/1 [==============================] - 0s 66ms/step\n",
      "1/1 [==============================] - 0s 87ms/step\n",
      "1/1 [==============================] - 0s 66ms/step\n",
      "1/1 [==============================] - 0s 67ms/step\n",
      "1/1 [==============================] - 0s 61ms/step\n",
      "1/1 [==============================] - 0s 65ms/step\n",
      "1/1 [==============================] - 0s 63ms/step\n",
      "1/1 [==============================] - 0s 99ms/step\n",
      "1/1 [==============================] - 0s 74ms/step\n",
      "1/1 [==============================] - 0s 70ms/step\n",
      "1/1 [==============================] - 0s 73ms/step\n",
      "1/1 [==============================] - 0s 82ms/step\n",
      "1/1 [==============================] - 0s 63ms/step\n",
      "1/1 [==============================] - 0s 101ms/step\n",
      "1/1 [==============================] - 0s 67ms/step\n",
      "1/1 [==============================] - 0s 59ms/step\n",
      "1/1 [==============================] - 0s 57ms/step\n",
      "1/1 [==============================] - 0s 64ms/step\n",
      "1/1 [==============================] - 0s 85ms/step\n",
      "1/1 [==============================] - 0s 69ms/step\n",
      "1/1 [==============================] - 0s 102ms/step\n",
      "1/1 [==============================] - 0s 67ms/step\n",
      "1/1 [==============================] - 0s 68ms/step\n",
      "1/1 [==============================] - 0s 72ms/step\n",
      "1/1 [==============================] - 0s 91ms/step\n",
      "1/1 [==============================] - 0s 65ms/step\n",
      "1/1 [==============================] - 0s 71ms/step\n",
      "1/1 [==============================] - 0s 67ms/step\n",
      "1/1 [==============================] - 0s 82ms/step\n",
      "1/1 [==============================] - 0s 67ms/step\n",
      "1/1 [==============================] - 0s 123ms/step\n",
      "1/1 [==============================] - 0s 67ms/step\n",
      "1/1 [==============================] - 0s 68ms/step\n",
      "1/1 [==============================] - 0s 75ms/step\n",
      "1/1 [==============================] - 0s 60ms/step\n",
      "1/1 [==============================] - 0s 110ms/step\n",
      "1/1 [==============================] - 0s 67ms/step\n",
      "1/1 [==============================] - 0s 70ms/step\n",
      "1/1 [==============================] - 0s 72ms/step\n",
      "1/1 [==============================] - 0s 69ms/step\n",
      "1/1 [==============================] - 0s 81ms/step\n",
      "1/1 [==============================] - 0s 88ms/step\n",
      "1/1 [==============================] - 0s 83ms/step\n",
      "1/1 [==============================] - 0s 80ms/step\n",
      "1/1 [==============================] - 0s 97ms/step\n",
      "1/1 [==============================] - 0s 80ms/step\n",
      "1/1 [==============================] - 0s 69ms/step\n",
      "1/1 [==============================] - 0s 81ms/step\n",
      "1/1 [==============================] - 0s 64ms/step\n",
      "1/1 [==============================] - 0s 64ms/step\n",
      "1/1 [==============================] - 0s 65ms/step\n",
      "1/1 [==============================] - 0s 70ms/step\n",
      "1/1 [==============================] - 0s 87ms/step\n",
      "1/1 [==============================] - 0s 69ms/step\n",
      "1/1 [==============================] - 0s 112ms/step\n",
      "1/1 [==============================] - 0s 79ms/step\n",
      "1/1 [==============================] - 0s 75ms/step\n",
      "1/1 [==============================] - 0s 79ms/step\n",
      "1/1 [==============================] - 0s 65ms/step\n",
      "1/1 [==============================] - 0s 90ms/step\n",
      "1/1 [==============================] - 0s 60ms/step\n",
      "1/1 [==============================] - 0s 73ms/step\n",
      "1/1 [==============================] - 0s 68ms/step\n",
      "1/1 [==============================] - 0s 76ms/step\n",
      "1/1 [==============================] - 0s 87ms/step\n",
      "1/1 [==============================] - 0s 64ms/step\n",
      "1/1 [==============================] - 0s 69ms/step\n",
      "1/1 [==============================] - 0s 71ms/step\n",
      "1/1 [==============================] - 0s 64ms/step\n",
      "1/1 [==============================] - 0s 86ms/step\n",
      "1/1 [==============================] - 0s 65ms/step\n",
      "1/1 [==============================] - 0s 87ms/step\n",
      "1/1 [==============================] - 0s 61ms/step\n",
      "1/1 [==============================] - 0s 68ms/step\n",
      "1/1 [==============================] - 0s 74ms/step\n",
      "1/1 [==============================] - 0s 66ms/step\n",
      "1/1 [==============================] - 0s 107ms/step\n",
      "1/1 [==============================] - 0s 68ms/step\n",
      "1/1 [==============================] - 0s 71ms/step\n",
      "1/1 [==============================] - 0s 73ms/step\n",
      "1/1 [==============================] - 0s 63ms/step\n",
      "1/1 [==============================] - 0s 89ms/step\n",
      "1/1 [==============================] - 0s 64ms/step\n",
      "1/1 [==============================] - 0s 67ms/step\n",
      "1/1 [==============================] - 0s 73ms/step\n",
      "1/1 [==============================] - 0s 60ms/step\n",
      "1/1 [==============================] - 0s 69ms/step\n",
      "1/1 [==============================] - 0s 57ms/step\n",
      "1/1 [==============================] - 0s 67ms/step\n",
      "1/1 [==============================] - 0s 79ms/step\n",
      "1/1 [==============================] - 0s 73ms/step\n",
      "1/1 [==============================] - 0s 67ms/step\n",
      "1/1 [==============================] - 0s 56ms/step\n",
      "1/1 [==============================] - 0s 58ms/step\n",
      "1/1 [==============================] - 0s 58ms/step\n",
      "1/1 [==============================] - 0s 59ms/step\n",
      "1/1 [==============================] - 0s 57ms/step\n",
      "1/1 [==============================] - 0s 54ms/step\n",
      "1/1 [==============================] - 0s 70ms/step\n",
      "1/1 [==============================] - 0s 59ms/step\n",
      "1/1 [==============================] - 0s 59ms/step\n",
      "1/1 [==============================] - 0s 56ms/step\n",
      "1/1 [==============================] - 0s 62ms/step\n",
      "1/1 [==============================] - 0s 64ms/step\n",
      "1/1 [==============================] - 0s 56ms/step\n",
      "1/1 [==============================] - 0s 61ms/step\n",
      "1/1 [==============================] - 0s 64ms/step\n",
      "1/1 [==============================] - 0s 57ms/step\n",
      "1/1 [==============================] - 0s 55ms/step\n",
      "1/1 [==============================] - 0s 54ms/step\n",
      "1/1 [==============================] - 0s 60ms/step\n",
      "1/1 [==============================] - 0s 55ms/step\n",
      "1/1 [==============================] - 0s 60ms/step\n",
      "1/1 [==============================] - 0s 58ms/step\n",
      "1/1 [==============================] - 0s 62ms/step\n",
      "1/1 [==============================] - 0s 85ms/step\n",
      "1/1 [==============================] - 0s 56ms/step\n",
      "1/1 [==============================] - 0s 76ms/step\n",
      "1/1 [==============================] - 0s 60ms/step\n",
      "1/1 [==============================] - 0s 69ms/step\n",
      "1/1 [==============================] - 0s 57ms/step\n",
      "1/1 [==============================] - 0s 65ms/step\n",
      "1/1 [==============================] - 0s 55ms/step\n",
      "1/1 [==============================] - 0s 57ms/step\n",
      "1/1 [==============================] - 0s 67ms/step\n",
      "1/1 [==============================] - 0s 65ms/step\n",
      "1/1 [==============================] - 0s 56ms/step\n",
      "1/1 [==============================] - 0s 65ms/step\n",
      "1/1 [==============================] - 0s 54ms/step\n",
      "1/1 [==============================] - 0s 53ms/step\n",
      "1/1 [==============================] - 0s 56ms/step\n",
      "1/1 [==============================] - 0s 65ms/step\n",
      "1/1 [==============================] - 0s 58ms/step\n",
      "1/1 [==============================] - 0s 56ms/step\n",
      "1/1 [==============================] - 0s 58ms/step\n",
      "1/1 [==============================] - 0s 57ms/step\n",
      "1/1 [==============================] - 0s 58ms/step\n",
      "1/1 [==============================] - 0s 57ms/step\n",
      "1/1 [==============================] - 0s 58ms/step\n",
      "1/1 [==============================] - 0s 98ms/step\n",
      "1/1 [==============================] - 0s 79ms/step\n",
      "1/1 [==============================] - 0s 77ms/step\n",
      "1/1 [==============================] - 0s 54ms/step\n",
      "1/1 [==============================] - 0s 63ms/step\n",
      "1/1 [==============================] - 0s 54ms/step\n",
      "1/1 [==============================] - 0s 95ms/step\n",
      "1/1 [==============================] - 0s 53ms/step\n",
      "1/1 [==============================] - 0s 81ms/step\n",
      "1/1 [==============================] - 0s 59ms/step\n",
      "1/1 [==============================] - 0s 91ms/step\n",
      "1/1 [==============================] - 0s 58ms/step\n",
      "1/1 [==============================] - 0s 89ms/step\n",
      "1/1 [==============================] - 0s 59ms/step\n",
      "1/1 [==============================] - 0s 81ms/step\n",
      "1/1 [==============================] - 0s 53ms/step\n",
      "1/1 [==============================] - 0s 83ms/step\n"
     ]
    },
    {
     "name": "stdout",
     "output_type": "stream",
     "text": [
      "1/1 [==============================] - 0s 55ms/step\n",
      "1/1 [==============================] - 0s 68ms/step\n",
      "1/1 [==============================] - 0s 59ms/step\n",
      "1/1 [==============================] - 0s 75ms/step\n",
      "1/1 [==============================] - 0s 57ms/step\n",
      "1/1 [==============================] - 0s 64ms/step\n",
      "1/1 [==============================] - 0s 57ms/step\n",
      "1/1 [==============================] - 0s 84ms/step\n",
      "1/1 [==============================] - 0s 54ms/step\n",
      "1/1 [==============================] - 0s 113ms/step\n",
      "1/1 [==============================] - 0s 63ms/step\n",
      "1/1 [==============================] - 0s 59ms/step\n",
      "1/1 [==============================] - 0s 57ms/step\n",
      "1/1 [==============================] - 0s 53ms/step\n",
      "1/1 [==============================] - 0s 58ms/step\n",
      "1/1 [==============================] - 0s 59ms/step\n",
      "1/1 [==============================] - 0s 55ms/step\n",
      "1/1 [==============================] - 0s 89ms/step\n",
      "1/1 [==============================] - 0s 53ms/step\n",
      "1/1 [==============================] - 0s 92ms/step\n",
      "1/1 [==============================] - 0s 72ms/step\n",
      "1/1 [==============================] - 0s 55ms/step\n",
      "1/1 [==============================] - 0s 53ms/step\n",
      "1/1 [==============================] - 0s 97ms/step\n",
      "1/1 [==============================] - 0s 58ms/step\n",
      "1/1 [==============================] - 0s 59ms/step\n",
      "1/1 [==============================] - 0s 58ms/step\n",
      "1/1 [==============================] - 0s 80ms/step\n",
      "1/1 [==============================] - 0s 53ms/step\n",
      "1/1 [==============================] - 0s 79ms/step\n",
      "1/1 [==============================] - 0s 59ms/step\n",
      "1/1 [==============================] - 0s 65ms/step\n",
      "1/1 [==============================] - 0s 59ms/step\n",
      "1/1 [==============================] - 0s 59ms/step\n",
      "1/1 [==============================] - 0s 59ms/step\n",
      "1/1 [==============================] - 0s 53ms/step\n",
      "1/1 [==============================] - 0s 58ms/step\n",
      "1/1 [==============================] - 0s 59ms/step\n",
      "1/1 [==============================] - 0s 56ms/step\n",
      "1/1 [==============================] - 0s 59ms/step\n",
      "1/1 [==============================] - 0s 59ms/step\n",
      "1/1 [==============================] - 0s 55ms/step\n",
      "1/1 [==============================] - 0s 57ms/step\n",
      "1/1 [==============================] - 0s 57ms/step\n",
      "1/1 [==============================] - 0s 114ms/step\n",
      "1/1 [==============================] - 0s 57ms/step\n",
      "1/1 [==============================] - 0s 54ms/step\n",
      "1/1 [==============================] - 0s 52ms/step\n",
      "1/1 [==============================] - 0s 102ms/step\n",
      "1/1 [==============================] - 0s 58ms/step\n",
      "1/1 [==============================] - 0s 73ms/step\n",
      "1/1 [==============================] - 0s 54ms/step\n",
      "1/1 [==============================] - 0s 96ms/step\n",
      "1/1 [==============================] - 0s 58ms/step\n",
      "1/1 [==============================] - 0s 58ms/step\n",
      "1/1 [==============================] - 0s 57ms/step\n",
      "1/1 [==============================] - 0s 97ms/step\n",
      "1/1 [==============================] - 0s 59ms/step\n",
      "1/1 [==============================] - 0s 87ms/step\n",
      "1/1 [==============================] - 0s 59ms/step\n",
      "1/1 [==============================] - 0s 86ms/step\n",
      "1/1 [==============================] - 0s 53ms/step\n",
      "1/1 [==============================] - 0s 76ms/step\n",
      "1/1 [==============================] - 0s 57ms/step\n",
      "1/1 [==============================] - 0s 68ms/step\n",
      "1/1 [==============================] - 0s 59ms/step\n",
      "1/1 [==============================] - 0s 70ms/step\n",
      "1/1 [==============================] - 0s 59ms/step\n",
      "1/1 [==============================] - 0s 55ms/step\n",
      "1/1 [==============================] - 0s 75ms/step\n",
      "1/1 [==============================] - 0s 60ms/step\n",
      "1/1 [==============================] - 0s 58ms/step\n",
      "1/1 [==============================] - 0s 55ms/step\n",
      "1/1 [==============================] - 0s 57ms/step\n",
      "1/1 [==============================] - 0s 57ms/step\n",
      "1/1 [==============================] - 0s 58ms/step\n",
      "1/1 [==============================] - 0s 58ms/step\n",
      "1/1 [==============================] - 0s 74ms/step\n",
      "1/1 [==============================] - 0s 66ms/step\n",
      "1/1 [==============================] - 0s 61ms/step\n",
      "1/1 [==============================] - 0s 55ms/step\n",
      "1/1 [==============================] - 0s 66ms/step\n",
      "1/1 [==============================] - 0s 53ms/step\n",
      "1/1 [==============================] - 0s 54ms/step\n",
      "1/1 [==============================] - 0s 59ms/step\n",
      "1/1 [==============================] - 0s 64ms/step\n",
      "1/1 [==============================] - 0s 59ms/step\n",
      "1/1 [==============================] - 0s 61ms/step\n",
      "1/1 [==============================] - 0s 57ms/step\n",
      "1/1 [==============================] - 0s 64ms/step\n",
      "1/1 [==============================] - 0s 58ms/step\n",
      "1/1 [==============================] - 0s 56ms/step\n",
      "1/1 [==============================] - 0s 52ms/step\n",
      "1/1 [==============================] - 0s 60ms/step\n",
      "1/1 [==============================] - 0s 59ms/step\n",
      "1/1 [==============================] - 0s 58ms/step\n",
      "1/1 [==============================] - 0s 53ms/step\n",
      "1/1 [==============================] - 0s 60ms/step\n",
      "1/1 [==============================] - 0s 56ms/step\n",
      "1/1 [==============================] - 0s 125ms/step\n",
      "1/1 [==============================] - 0s 63ms/step\n",
      "1/1 [==============================] - 0s 54ms/step\n",
      "1/1 [==============================] - 0s 59ms/step\n",
      "1/1 [==============================] - 0s 53ms/step\n",
      "1/1 [==============================] - 0s 53ms/step\n",
      "1/1 [==============================] - 0s 55ms/step\n",
      "1/1 [==============================] - 0s 59ms/step\n",
      "1/1 [==============================] - 0s 55ms/step\n",
      "1/1 [==============================] - 0s 63ms/step\n",
      "1/1 [==============================] - 0s 56ms/step\n",
      "1/1 [==============================] - 0s 58ms/step\n",
      "1/1 [==============================] - 0s 61ms/step\n",
      "1/1 [==============================] - 0s 62ms/step\n",
      "1/1 [==============================] - 0s 54ms/step\n",
      "1/1 [==============================] - 0s 57ms/step\n",
      "1/1 [==============================] - 0s 54ms/step\n",
      "1/1 [==============================] - 0s 56ms/step\n",
      "1/1 [==============================] - 0s 53ms/step\n",
      "1/1 [==============================] - 0s 53ms/step\n",
      "1/1 [==============================] - 0s 53ms/step\n",
      "1/1 [==============================] - 0s 92ms/step\n",
      "1/1 [==============================] - 0s 56ms/step\n",
      "1/1 [==============================] - 0s 54ms/step\n",
      "1/1 [==============================] - 0s 59ms/step\n",
      "1/1 [==============================] - 0s 91ms/step\n",
      "1/1 [==============================] - 0s 55ms/step\n",
      "1/1 [==============================] - 0s 59ms/step\n",
      "1/1 [==============================] - 0s 61ms/step\n",
      "1/1 [==============================] - 0s 91ms/step\n",
      "1/1 [==============================] - 0s 53ms/step\n",
      "1/1 [==============================] - 0s 74ms/step\n",
      "1/1 [==============================] - 0s 57ms/step\n",
      "1/1 [==============================] - 0s 102ms/step\n",
      "1/1 [==============================] - 0s 57ms/step\n",
      "1/1 [==============================] - 0s 54ms/step\n",
      "1/1 [==============================] - 0s 57ms/step\n",
      "1/1 [==============================] - 0s 90ms/step\n",
      "1/1 [==============================] - 0s 56ms/step\n",
      "1/1 [==============================] - 0s 79ms/step\n",
      "1/1 [==============================] - 0s 56ms/step\n",
      "1/1 [==============================] - 0s 76ms/step\n",
      "1/1 [==============================] - 0s 55ms/step\n",
      "1/1 [==============================] - 0s 75ms/step\n",
      "1/1 [==============================] - 0s 60ms/step\n",
      "1/1 [==============================] - 0s 69ms/step\n",
      "1/1 [==============================] - 0s 55ms/step\n",
      "1/1 [==============================] - 0s 63ms/step\n",
      "1/1 [==============================] - 0s 58ms/step\n",
      "1/1 [==============================] - 0s 57ms/step\n",
      "1/1 [==============================] - 0s 58ms/step\n",
      "1/1 [==============================] - 0s 55ms/step\n",
      "1/1 [==============================] - 0s 60ms/step\n",
      "1/1 [==============================] - 0s 57ms/step\n",
      "1/1 [==============================] - 0s 56ms/step\n",
      "1/1 [==============================] - 0s 54ms/step\n",
      "1/1 [==============================] - 0s 61ms/step\n",
      "1/1 [==============================] - 0s 52ms/step\n"
     ]
    },
    {
     "name": "stdout",
     "output_type": "stream",
     "text": [
      "1/1 [==============================] - 0s 58ms/step\n",
      "1/1 [==============================] - 0s 54ms/step\n",
      "1/1 [==============================] - 0s 66ms/step\n",
      "1/1 [==============================] - 0s 55ms/step\n",
      "1/1 [==============================] - 0s 60ms/step\n",
      "1/1 [==============================] - 0s 57ms/step\n",
      "1/1 [==============================] - 0s 56ms/step\n",
      "1/1 [==============================] - 0s 54ms/step\n",
      "1/1 [==============================] - 0s 57ms/step\n",
      "1/1 [==============================] - 0s 57ms/step\n",
      "1/1 [==============================] - 0s 59ms/step\n",
      "1/1 [==============================] - 0s 57ms/step\n",
      "1/1 [==============================] - 0s 69ms/step\n",
      "1/1 [==============================] - 0s 58ms/step\n",
      "1/1 [==============================] - 0s 58ms/step\n",
      "keakuratan 93.125 %\n"
     ]
    }
   ],
   "source": [
    "benar = 0\n",
    "salah = 0\n",
    "for i in range(800):\n",
    "    y_pred = np.argmax(model.predict(transformator(test_audio[i])), axis=1)\n",
    "    y_true = test_labels[i]\n",
    "    if str(y_pred[0]) == str(y_true):\n",
    "       benar+=1\n",
    "    else:\n",
    "       salah+=1\n",
    "keakuratan = benar/(benar+salah) *100\n",
    "print(\"keakuratan {} %\".format(keakuratan))\n",
    "#memprediksi testing 79.125% benar untuk keseluruhan training"
   ]
  },
  {
   "cell_type": "code",
   "execution_count": 28,
   "metadata": {},
   "outputs": [
    {
     "name": "stdout",
     "output_type": "stream",
     "text": [
      "\n",
      "1/1 [==============================] - 0s 112ms/step\n",
      "\n",
      "\n",
      "\n",
      "\n",
      "\n",
      "\n",
      "\n",
      "\n",
      "\n",
      "\n",
      "\n",
      "\n",
      "\n",
      "\n",
      "1/1 [==============================] - 0s 82ms/step\n",
      "1/1 [==============================] - 0s 61ms/step\n",
      "\n",
      "1/1 [==============================] - 0s 102ms/step\n",
      "\n",
      "\n",
      "\n",
      "\n",
      "\n",
      "\n",
      "\n",
      "\n",
      "\n",
      "\n",
      "\n",
      "\n",
      "\n",
      "1/1 [==============================] - 0s 67ms/step\n",
      "\n",
      "\n",
      "\n",
      "\n",
      "\n",
      "\n",
      "\n",
      "\n",
      "\n",
      "\n",
      "\n",
      "\n",
      "\n",
      "\n",
      "\n",
      "\n",
      "1/1 [==============================] - 0s 60ms/step\n",
      "\n",
      "\n",
      "\n",
      "1/1 [==============================] - 0s 47ms/step\n",
      "\n",
      "\n",
      "\n",
      "\n",
      "\n",
      "\n",
      "\n",
      "\n",
      "\n",
      "\n",
      "\n",
      "\n",
      "\n",
      "\n",
      "\n",
      "\n",
      "\n",
      "\n",
      "\n",
      "\n",
      "\n",
      "\n",
      "\n",
      "\n",
      "\n",
      "1/1 [==============================] - 0s 65ms/step\n",
      "\n",
      "\n",
      "\n",
      "1/1 [==============================] - 0s 74ms/step\n",
      "\n",
      "\n",
      "\n",
      "\n",
      "\n",
      "\n",
      "\n",
      "\n",
      "\n",
      "1/1 [==============================] - 0s 64ms/step\n",
      "\n",
      "\n",
      "\n",
      "\n",
      "1/1 [==============================] - 0s 108ms/step\n",
      "\n",
      "\n",
      "\n",
      "1/1 [==============================] - 0s 74ms/step\n",
      "\n",
      "\n",
      "\n",
      "1/1 [==============================] - 0s 57ms/step\n",
      "\n",
      "\n",
      "\n",
      "\n",
      "\n",
      "\n",
      "\n",
      "\n",
      "\n",
      "1/1 [==============================] - 0s 61ms/step\n",
      "\n",
      "\n",
      "\n",
      "\n",
      "\n",
      "1/1 [==============================] - 0s 58ms/step\n",
      "1/1 [==============================] - 0s 68ms/step\n",
      "\n",
      "\n",
      "\n",
      "1/1 [==============================] - 0s 61ms/step\n",
      "\n",
      "\n",
      "\n",
      "1/1 [==============================] - 0s 50ms/step\n",
      "\n",
      "\n",
      "\n",
      "\n",
      "\n",
      "\n",
      "\n",
      "1/1 [==============================] - 0s 53ms/step\n",
      "\n",
      "\n",
      "\n",
      "\n",
      "\n",
      "\n",
      "\n",
      "\n",
      "\n",
      "\n",
      "\n",
      "1/1 [==============================] - 0s 49ms/step\n",
      "1/1 [==============================] - 0s 49ms/step\n",
      "\n",
      "\n",
      "\n",
      "\n",
      "\n",
      "\n",
      "1/1 [==============================] - 0s 49ms/step\n",
      "\n",
      "\n",
      "\n",
      "\n",
      "\n",
      "\n",
      "\n",
      "\n",
      "\n",
      "\n",
      "\n",
      "\n",
      "\n",
      "\n",
      "\n",
      "1/1 [==============================] - 0s 49ms/step\n",
      "\n",
      "\n",
      "\n",
      "\n",
      "\n",
      "\n",
      "\n",
      "1/1 [==============================] - 0s 49ms/step\n",
      "\n",
      "\n",
      "\n",
      "\n",
      "\n",
      "\n",
      "\n",
      "\n",
      "1/1 [==============================] - 0s 49ms/step\n",
      "\n",
      "\n",
      "\n",
      "\n",
      "\n",
      "\n",
      "\n",
      "1/1 [==============================] - 0s 57ms/step\n",
      "\n",
      "\n",
      "\n",
      "\n",
      "\n",
      "1/1 [==============================] - 0s 50ms/step\n",
      "\n",
      "\n",
      "\n",
      "\n",
      "1/1 [==============================] - 0s 57ms/step\n",
      "1/1 [==============================] - 0s 56ms/step\n",
      "\n",
      "1/1 [==============================] - 0s 52ms/step\n",
      "\n",
      "\n",
      "\n",
      "1/1 [==============================] - 0s 50ms/step\n",
      "\n",
      "\n",
      "\n",
      "\n",
      "\n",
      "\n",
      "1/1 [==============================] - 0s 52ms/step\n",
      "\n",
      "\n",
      "\n",
      "\n",
      "\n",
      "\n",
      "\n",
      "\n",
      "\n",
      "\n",
      "1/1 [==============================] - 0s 48ms/step\n",
      "\n",
      "\n",
      "\n",
      "\n",
      "\n",
      "\n",
      "\n",
      "\n",
      "\n",
      "\n",
      "\n",
      "\n",
      "\n",
      "\n",
      "\n",
      "\n",
      "\n",
      "\n",
      "1/1 [==============================] - 0s 48ms/step\n",
      "\n",
      "\n",
      "\n",
      "\n",
      "\n",
      "\n",
      "\n",
      "\n",
      "\n",
      "\n",
      "\n",
      "1/1 [==============================] - 0s 52ms/step\n",
      "\n",
      "\n",
      "\n",
      "\n",
      "\n",
      "\n",
      "1/1 [==============================] - 0s 51ms/step\n",
      "1/1 [==============================] - 0s 51ms/step\n",
      "\n",
      "\n",
      "\n",
      "1/1 [==============================] - 0s 57ms/step\n",
      "\n",
      "\n",
      "\n",
      "\n",
      "\n",
      "\n",
      "\n",
      "\n",
      "\n",
      "\n",
      "\n",
      "\n",
      "\n",
      "\n",
      "\n",
      "\n",
      "\n",
      "\n",
      "\n",
      "\n",
      "\n",
      "\n",
      "1/1 [==============================] - 0s 72ms/step\n",
      "\n",
      "\n",
      "\n",
      "\n",
      "\n",
      "\n",
      "\n",
      "\n",
      "\n",
      "\n",
      "\n",
      "\n",
      "\n",
      "\n",
      "\n",
      "\n",
      "\n",
      "\n",
      "\n",
      "\n",
      "\n",
      "\n",
      "\n",
      "\n",
      "\n",
      "\n",
      "\n",
      "\n",
      "\n",
      "\n",
      "\n",
      "\n",
      "\n",
      "\n",
      "\n",
      "\n",
      "\n",
      "\n",
      "\n",
      "\n",
      "\n",
      "\n",
      "\n",
      "\n",
      "\n",
      "\n",
      "\n",
      "\n",
      "\n",
      "\n",
      "\n",
      "\n",
      "\n",
      "\n",
      "\n",
      "1/1 [==============================] - 0s 55ms/step\n",
      "\n",
      "\n",
      "\n",
      "\n",
      "\n",
      "\n",
      "\n",
      "\n",
      "\n",
      "\n",
      "\n",
      "\n",
      "\n",
      "\n",
      "\n",
      "\n",
      "\n",
      "\n",
      "\n",
      "1/1 [==============================] - 0s 53ms/step\n",
      "\n",
      "\n",
      "\n",
      "\n",
      "\n",
      "1/1 [==============================] - 0s 53ms/step\n",
      "\n",
      "\n",
      "\n",
      "\n",
      "\n",
      "\n",
      "\n",
      "\n",
      "\n",
      "\n",
      "\n",
      "\n",
      "\n",
      "\n",
      "\n",
      "\n",
      "1/1 [==============================] - 0s 67ms/step\n",
      "\n",
      "\n",
      "\n",
      "\n",
      "\n",
      "\n",
      "\n",
      "\n",
      "\n",
      "\n",
      "\n",
      "1/1 [==============================] - 0s 61ms/step\n",
      "1/1 [==============================] - 0s 109ms/step\n",
      "1/1 [==============================] - 0s 65ms/step\n",
      "\n",
      "\n",
      "1/1 [==============================] - 0s 60ms/step\n",
      "\n",
      "\n",
      "\n",
      "\n",
      "\n",
      "\n",
      "\n",
      "\n",
      "1/1 [==============================] - 0s 70ms/step\n",
      "\n",
      "\n",
      "1/1 [==============================] - 0s 87ms/step\n",
      "\n",
      "\n",
      "\n",
      "\n",
      "\n",
      "\n",
      "\n",
      "\n",
      "\n",
      "\n",
      "\n",
      "\n",
      "\n",
      "\n",
      "\n",
      "\n",
      "\n",
      "\n",
      "\n",
      "\n",
      "\n",
      "\n",
      "\n",
      "\n",
      "\n",
      "\n",
      "\n",
      "\n",
      "\n",
      "1/1 [==============================] - 0s 105ms/step\n",
      "\n",
      "\n",
      "\n",
      "\n",
      "\n",
      "\n",
      "\n",
      "\n",
      "\n",
      "\n",
      "\n",
      "1/1 [==============================] - 0s 57ms/step\n",
      "\n",
      "\n",
      "\n",
      "\n",
      "\n",
      "\n",
      "\n",
      "\n",
      "\n",
      "\n",
      "1/1 [==============================] - 0s 66ms/step\n",
      "\n",
      "\n",
      "\n",
      "\n",
      "\n",
      "\n",
      "\n",
      "1/1 [==============================] - 0s 62ms/step\n",
      "\n",
      "1/1 [==============================] - 0s 62ms/step\n",
      "\n",
      "\n",
      "\n",
      "\n",
      "\n",
      "\n",
      "\n",
      "\n",
      "\n",
      "\n",
      "\n",
      "\n",
      "\n",
      "\n",
      "\n",
      "\n",
      "\n",
      "\n",
      "\n",
      "\n",
      "\n",
      "\n",
      "\n",
      "\n",
      "\n",
      "1/1 [==============================] - 0s 58ms/step\n",
      "\n",
      "\n",
      "\n",
      "1/1 [==============================] - 0s 61ms/step\n",
      "\n",
      "\n",
      "\n",
      "\n",
      "\n",
      "\n",
      "\n",
      "\n",
      "1/1 [==============================] - 0s 60ms/step\n",
      "\n",
      "\n",
      "1/1 [==============================] - 0s 106ms/step\n",
      "\n",
      "\n",
      "\n",
      "\n",
      "\n",
      "\n",
      "\n",
      "\n",
      "\n",
      "\n",
      "1/1 [==============================] - 0s 50ms/step\n",
      "\n",
      "1/1 [==============================] - 0s 49ms/step\n",
      "\n",
      "\n",
      "1/1 [==============================] - 0s 57ms/step\n",
      "\n",
      "\n",
      "1/1 [==============================] - 0s 58ms/step\n",
      "1/1 [==============================] - 0s 50ms/step\n",
      "\n",
      "\n",
      "\n",
      "\n",
      "\n",
      "\n",
      "\n",
      "\n",
      "\n",
      "1/1 [==============================] - 0s 78ms/step\n",
      "\n",
      "\n",
      "1/1 [==============================] - 0s 50ms/step\n",
      "\n",
      "\n",
      "\n",
      "\n",
      "\n",
      "\n",
      "\n",
      "\n",
      "\n",
      "\n",
      "\n",
      "\n",
      "\n",
      "\n",
      "\n",
      "\n",
      "\n",
      "\n",
      "\n",
      "\n",
      "\n",
      "\n",
      "\n",
      "\n",
      "\n",
      "\n",
      "\n",
      "\n",
      "1/1 [==============================] - 0s 58ms/step\n",
      "\n",
      "\n",
      "\n",
      "\n",
      "\n",
      "1/1 [==============================] - 0s 49ms/step\n",
      "\n",
      "\n",
      "1/1 [==============================] - 0s 50ms/step\n",
      "\n",
      "\n",
      "\n",
      "\n",
      "\n",
      "\n",
      "1/1 [==============================] - 0s 54ms/step\n",
      "\n",
      "\n",
      "\n",
      "\n",
      "\n",
      "\n",
      "\n",
      "\n",
      "1/1 [==============================] - 0s 50ms/step\n",
      "\n",
      "\n",
      "\n",
      "\n",
      "1/1 [==============================] - 0s 56ms/step\n",
      "\n",
      "\n",
      "\n",
      "\n",
      "\n",
      "\n",
      "1/1 [==============================] - 0s 58ms/step\n",
      "\n",
      "\n",
      "\n",
      "\n",
      "\n",
      "\n",
      "1/1 [==============================] - 0s 56ms/step\n",
      "\n",
      "\n",
      "\n",
      "\n",
      "\n",
      "\n",
      "\n",
      "\n",
      "1/1 [==============================] - 0s 51ms/step\n",
      "\n",
      "\n",
      "1/1 [==============================] - 0s 66ms/step\n",
      "\n",
      "1/1 [==============================] - 0s 51ms/step\n",
      "\n",
      "\n",
      "\n",
      "\n",
      "\n",
      "\n",
      "\n",
      "1/1 [==============================] - 0s 53ms/step\n",
      "\n",
      "\n",
      "\n",
      "\n",
      "\n",
      "\n",
      "\n",
      "\n",
      "\n",
      "1/1 [==============================] - 0s 52ms/step\n",
      "\n",
      "1/1 [==============================] - 0s 50ms/step\n",
      "\n",
      "\n",
      "\n",
      "\n",
      "\n",
      "\n",
      "\n",
      "1/1 [==============================] - 0s 58ms/step\n",
      "\n",
      "\n",
      "\n",
      "\n",
      "1/1 [==============================] - 0s 50ms/step\n",
      "\n",
      "\n",
      "\n",
      "\n",
      "1/1 [==============================] - 0s 52ms/step\n",
      "\n",
      "\n",
      "\n",
      "\n",
      "\n",
      "\n",
      "\n",
      "\n",
      "\n",
      "\n",
      "\n",
      "\n",
      "\n",
      "\n",
      "\n",
      "\n",
      "\n",
      "\n",
      "\n",
      "\n",
      "\n",
      "\n",
      "\n",
      "\n",
      "\n",
      "\n",
      "1/1 [==============================] - 0s 56ms/step\n",
      "\n",
      "\n",
      "\n",
      "1/1 [==============================] - 0s 56ms/step\n",
      "1/1 [==============================] - 0s 53ms/step\n",
      "1/1 [==============================] - 0s 55ms/step\n",
      "\n",
      "\n",
      "1/1 [==============================] - 0s 62ms/step\n",
      "\n",
      "1/1 [==============================] - 0s 68ms/step\n",
      "\n",
      "\n",
      "1/1 [==============================] - 0s 79ms/step\n",
      "\n",
      "\n",
      "1/1 [==============================] - 0s 55ms/step\n",
      "\n",
      "\n",
      "\n",
      "\n",
      "\n",
      "\n",
      "\n",
      "\n",
      "\n",
      "\n",
      "\n",
      "\n",
      "\n",
      "1/1 [==============================] - 0s 73ms/step\n",
      "\n",
      "\n",
      "\n",
      "\n",
      "\n",
      "\n",
      "\n",
      "\n",
      "\n",
      "\n",
      "\n",
      "1/1 [==============================] - 0s 82ms/step\n",
      "\n",
      "\n",
      "1/1 [==============================] - 0s 63ms/step\n",
      "1/1 [==============================] - 0s 58ms/step\n",
      "1/1 [==============================] - 0s 67ms/step\n",
      "\n",
      "1/1 [==============================] - 0s 61ms/step\n",
      "\n",
      "\n",
      "\n",
      "\n",
      "\n",
      "\n",
      "\n",
      "\n",
      "\n",
      "\n",
      "\n",
      "\n",
      "\n",
      "\n",
      "\n",
      "\n",
      "\n",
      "\n",
      "\n",
      "1/1 [==============================] - 0s 67ms/step\n",
      "\n",
      "\n",
      "\n",
      "\n",
      "\n",
      "\n",
      "\n",
      "\n",
      "\n",
      "\n",
      "\n",
      "\n",
      "\n",
      "\n",
      "1/1 [==============================] - 0s 60ms/step\n",
      "\n",
      "\n",
      "\n",
      "1/1 [==============================] - 0s 62ms/step\n",
      "\n",
      "\n",
      "\n",
      "\n",
      "\n",
      "1/1 [==============================] - 0s 63ms/step\n",
      "\n",
      "\n",
      "\n",
      "\n",
      "\n",
      "\n",
      "\n",
      "\n",
      "\n",
      "\n",
      "\n",
      "\n",
      "\n",
      "\n",
      "\n",
      "\n",
      "\n",
      "1/1 [==============================] - 0s 72ms/step\n",
      "1/1 [==============================] - 0s 82ms/step\n",
      "\n",
      "\n",
      "\n",
      "\n",
      "\n",
      "\n",
      "1/1 [==============================] - 0s 58ms/step\n",
      "\n",
      "1/1 [==============================] - 0s 93ms/step\n",
      "\n",
      "\n",
      "\n",
      "\n",
      "\n",
      "\n",
      "\n",
      "\n",
      "\n",
      "\n",
      "\n",
      "\n",
      "\n",
      "\n",
      "\n",
      "\n",
      "1/1 [==============================] - 0s 57ms/step\n",
      "\n",
      "\n",
      "\n",
      "\n",
      "\n",
      "\n",
      "\n",
      "1/1 [==============================] - 0s 54ms/step\n",
      "\n",
      "\n",
      "\n",
      "\n",
      "\n",
      "\n",
      "1/1 [==============================] - 0s 75ms/step\n",
      "\n",
      "\n",
      "\n",
      "\n",
      "\n",
      "\n",
      "1/1 [==============================] - 0s 49ms/step\n",
      "\n",
      "\n",
      "\n",
      "\n",
      "\n",
      "\n",
      "\n",
      "\n",
      "1/1 [==============================] - 0s 50ms/step\n",
      "\n",
      "\n",
      "\n",
      "\n",
      "\n",
      "1/1 [==============================] - 0s 63ms/step\n",
      "\n",
      "\n",
      "\n",
      "\n",
      "\n",
      "\n",
      "\n",
      "\n",
      "\n",
      "\n",
      "\n",
      "1/1 [==============================] - 0s 63ms/step\n",
      "\n",
      "\n",
      "\n",
      "\n",
      "\n",
      "\n",
      "\n",
      "\n",
      "\n",
      "\n",
      "\n",
      "\n",
      "1/1 [==============================] - 0s 72ms/step\n",
      "\n",
      "\n",
      "\n",
      "\n",
      "\n",
      "\n",
      "\n",
      "\n",
      "\n",
      "\n",
      "1/1 [==============================] - 0s 58ms/step\n",
      "1/1 [==============================] - 0s 53ms/step\n",
      "\n",
      "\n",
      "\n",
      "\n",
      "\n",
      "\n",
      "\n",
      "\n",
      "\n",
      "\n",
      "\n",
      "\n",
      "\n",
      "\n",
      "\n",
      "\n",
      "\n",
      "\n",
      "\n",
      "\n",
      "\n",
      "\n",
      "\n",
      "\n",
      "\n",
      "\n",
      "\n",
      "\n",
      "\n",
      "1/1 [==============================] - 0s 61ms/step\n",
      "\n",
      "1/1 [==============================] - 0s 106ms/step\n",
      "\n",
      "\n",
      "\n",
      "1/1 [==============================] - 0s 75ms/step\n",
      "1/1 [==============================] - 0s 58ms/step\n",
      "\n",
      "\n",
      "1/1 [==============================] - 0s 136ms/step\n",
      "\n",
      "\n",
      "\n",
      "\n",
      "\n",
      "\n",
      "\n",
      "\n",
      "\n",
      "\n",
      "\n",
      "\n",
      "\n",
      "\n",
      "\n",
      "\n",
      "\n",
      "\n",
      "\n",
      "1/1 [==============================] - 0s 87ms/step\n",
      "\n",
      "\n",
      "\n",
      "\n",
      "\n",
      "\n",
      "\n",
      "\n",
      "\n",
      "\n",
      "\n",
      "\n",
      "\n",
      "\n",
      "\n",
      "1/1 [==============================] - 0s 57ms/step\n",
      "1/1 [==============================] - 0s 93ms/step\n",
      "\n",
      "\n",
      "\n",
      "\n",
      "\n",
      "\n",
      "1/1 [==============================] - 0s 98ms/step\n",
      "\n",
      "\n",
      "\n",
      "\n",
      "\n",
      "\n",
      "\n",
      "\n",
      "\n",
      "\n",
      "\n",
      "\n",
      "\n",
      "\n",
      "\n",
      "\n",
      "\n",
      "\n",
      "\n",
      "\n",
      "1/1 [==============================] - 0s 79ms/step\n",
      "\n",
      "\n",
      "\n",
      "\n",
      "\n",
      "1/1 [==============================] - 0s 63ms/step\n",
      "\n",
      "\n",
      "\n",
      "\n",
      "\n",
      "\n",
      "\n",
      "\n",
      "\n",
      "\n",
      "\n",
      "1/1 [==============================] - 0s 76ms/step\n",
      "\n",
      "\n",
      "\n",
      "\n",
      "\n",
      "\n",
      "\n",
      "\n",
      "\n",
      "\n",
      "\n",
      "\n",
      "\n",
      "\n",
      "\n",
      "\n",
      "\n",
      "\n",
      "\n",
      "\n",
      "\n",
      "\n",
      "\n",
      "\n",
      "\n",
      "\n",
      "\n",
      "\n",
      "\n",
      "\n",
      "\n",
      "\n",
      "\n",
      "\n",
      "\n",
      "\n",
      "\n",
      "\n",
      "\n",
      "1/1 [==============================] - 0s 71ms/step\n",
      "\n",
      "\n",
      "\n",
      "\n",
      "\n",
      "\n",
      "\n",
      "\n",
      "\n",
      "\n",
      "\n",
      "\n",
      "\n",
      "\n",
      "\n",
      "\n",
      "\n",
      "\n",
      "\n",
      "\n",
      "\n",
      "\n",
      "\n",
      "\n",
      "\n",
      "\n",
      "\n",
      "\n",
      "\n",
      "\n",
      "1/1 [==============================] - 0s 59ms/step\n",
      "\n",
      "1/1 [==============================] - 0s 64ms/step\n",
      "1/1 [==============================] - 0s 57ms/step\n",
      "\n",
      "\n",
      "\n",
      "\n",
      "\n",
      "\n",
      "\n",
      "\n",
      "\n",
      "\n",
      "\n",
      "\n",
      "\n",
      "\n",
      "\n",
      "\n",
      "\n",
      "\n",
      "\n",
      "\n",
      "\n",
      "\n",
      "\n",
      "\n",
      "\n",
      "\n",
      "\n",
      "\n",
      "\n",
      "\n",
      "\n",
      "\n",
      "\n",
      "\n",
      "\n",
      "\n",
      "\n",
      "\n",
      "\n",
      "\n",
      "\n",
      "\n",
      "\n",
      "\n",
      "\n",
      "\n",
      "\n",
      "1/1 [==============================] - 0s 50ms/step\n",
      "\n",
      "\n",
      "\n",
      "\n",
      "\n",
      "\n",
      "\n",
      "\n",
      "\n",
      "1/1 [==============================] - 0s 56ms/step\n",
      "\n",
      "\n",
      "\n",
      "\n",
      "\n",
      "\n",
      "\n",
      "1/1 [==============================] - 0s 51ms/step\n",
      "\n",
      "\n",
      "\n",
      "\n",
      "\n",
      "1/1 [==============================] - 0s 59ms/step\n",
      "\n",
      "\n",
      "\n",
      "\n",
      "\n",
      "\n",
      "\n",
      "\n",
      "\n",
      "1/1 [==============================] - 0s 52ms/step\n",
      "\n",
      "\n",
      "\n",
      "\n",
      "\n",
      "\n",
      "\n",
      "\n",
      "1/1 [==============================] - 0s 76ms/step\n",
      "\n",
      "\n",
      "\n",
      "\n",
      "\n",
      "\n",
      "\n",
      "\n",
      "\n",
      "\n",
      "\n",
      "\n",
      "\n"
     ]
    },
    {
     "name": "stdout",
     "output_type": "stream",
     "text": [
      "1/1 [==============================] - 0s 50ms/step\n",
      "\n",
      "\n",
      "\n",
      "\n",
      "\n",
      "\n",
      "\n",
      "\n",
      "\n",
      "\n",
      "\n",
      "1/1 [==============================] - 0s 51ms/step\n",
      "\n",
      "\n",
      "\n",
      "\n",
      "\n",
      "\n",
      "\n",
      "1/1 [==============================] - 0s 51ms/step\n",
      "\n",
      "\n",
      "\n",
      "\n",
      "\n",
      "\n",
      "\n",
      "\n",
      "\n",
      "\n",
      "\n",
      "1/1 [==============================] - 0s 64ms/step\n",
      "1/1 [==============================] - 0s 52ms/step\n",
      "\n",
      "\n",
      "\n",
      "1/1 [==============================] - 0s 70ms/step\n",
      "\n",
      "\n",
      "\n",
      "\n",
      "\n",
      "\n",
      "\n",
      "\n",
      "\n",
      "\n",
      "\n",
      "\n",
      "\n",
      "\n",
      "\n",
      "1/1 [==============================] - 0s 62ms/step\n",
      "\n",
      "\n",
      "\n",
      "\n",
      "\n",
      "\n",
      "\n",
      "\n",
      "\n",
      "\n",
      "\n",
      "\n",
      "\n",
      "\n",
      "\n",
      "\n",
      "\n",
      "\n",
      "\n",
      "\n",
      "\n",
      "\n",
      "\n",
      "\n",
      "\n",
      "\n",
      "1/1 [==============================] - 0s 89ms/step\n",
      "\n",
      "\n",
      "\n",
      "\n",
      "\n",
      "\n",
      "\n",
      "\n",
      "\n",
      "\n",
      "\n",
      "\n",
      "\n",
      "\n",
      "\n",
      "\n",
      "\n",
      "\n",
      "1/1 [==============================] - 0s 65ms/step\n",
      "\n",
      "\n",
      "\n",
      "\n",
      "\n",
      "\n",
      "\n",
      "\n",
      "\n",
      "\n",
      "\n",
      "\n",
      "\n",
      "\n",
      "\n",
      "\n",
      "\n",
      "\n",
      "\n",
      "\n",
      "\n",
      "\n",
      "\n",
      "\n",
      "\n",
      "\n",
      "\n",
      "\n",
      "\n",
      "\n",
      "\n",
      "\n",
      "\n",
      "\n",
      "\n",
      "\n",
      "\n",
      "\n",
      "\n",
      "\n",
      "\n",
      "\n",
      "\n",
      "\n",
      "\n",
      "\n",
      "\n",
      "\n",
      "\n",
      "\n",
      "\n",
      "1/1 [==============================] - 0s 64ms/step\n",
      "\n",
      "\n",
      "\n",
      "\n",
      "1/1 [==============================] - 0s 61ms/step\n",
      "\n",
      "\n",
      "\n",
      "\n",
      "\n",
      "\n",
      "\n",
      "\n",
      "\n",
      "\n",
      "\n",
      "1/1 [==============================] - 0s 59ms/step\n",
      "\n",
      "\n",
      "\n",
      "\n",
      "\n",
      "\n",
      "\n",
      "\n",
      "\n",
      "\n",
      "1/1 [==============================] - 0s 74ms/step\n",
      "\n",
      "\n",
      "\n",
      "\n",
      "\n",
      "\n",
      "1/1 [==============================] - 0s 57ms/step\n",
      "\n",
      "\n",
      "\n",
      "\n",
      "\n",
      "\n",
      "\n",
      "\n",
      "\n",
      "\n",
      "\n",
      "\n",
      "\n",
      "\n",
      "\n",
      "\n",
      "\n",
      "\n",
      "\n",
      "1/1 [==============================] - 0s 56ms/step\n",
      "\n",
      "\n",
      "\n",
      "\n",
      "\n",
      "1/1 [==============================] - 0s 51ms/step\n",
      "\n",
      "\n",
      "\n",
      "\n",
      "\n",
      "\n",
      "1/1 [==============================] - 0s 53ms/step\n",
      "\n",
      "\n",
      "\n",
      "\n",
      "\n",
      "\n",
      "\n",
      "\n",
      "\n",
      "\n",
      "\n",
      "\n",
      "1/1 [==============================] - 0s 55ms/step\n",
      "\n",
      "\n",
      "\n",
      "1/1 [==============================] - 0s 65ms/step\n",
      "\n",
      "\n",
      "\n",
      "\n",
      "\n",
      "\n",
      "\n",
      "1/1 [==============================] - 0s 48ms/step\n",
      "\n",
      "\n",
      "\n",
      "\n",
      "\n",
      "\n",
      "\n",
      "\n",
      "\n",
      "\n",
      "\n",
      "\n",
      "\n",
      "\n",
      "\n",
      "\n",
      "\n",
      "\n",
      "1/1 [==============================] - 0s 55ms/step\n",
      "\n",
      "\n",
      "\n",
      "\n",
      "\n",
      "\n",
      "\n",
      "\n",
      "\n",
      "1/1 [==============================] - 0s 64ms/step\n",
      "\n",
      "\n",
      "\n",
      "\n",
      "\n",
      "\n",
      "1/1 [==============================] - 0s 73ms/step\n",
      "1/1 [==============================] - 0s 55ms/step\n",
      "\n",
      "1/1 [==============================] - 0s 52ms/step\n",
      "1/1 [==============================] - 0s 74ms/step\n",
      "\n",
      "\n",
      "\n",
      "\n",
      "\n",
      "\n",
      "1/1 [==============================] - 0s 56ms/step\n",
      "\n",
      "1/1 [==============================] - 0s 52ms/step\n",
      "\n",
      "\n",
      "\n",
      "\n",
      "\n",
      "1/1 [==============================] - 0s 66ms/step\n",
      "\n",
      "\n",
      "\n",
      "\n",
      "\n",
      "\n",
      "\n",
      "\n",
      "\n",
      "1/1 [==============================] - 0s 68ms/step\n",
      "\n",
      "\n",
      "\n",
      "\n",
      "\n",
      "\n",
      "\n",
      "\n",
      "\n",
      "\n",
      "\n",
      "\n",
      "\n",
      "\n",
      "\n",
      "\n",
      "\n",
      "\n",
      "\n",
      "\n",
      "\n",
      "\n",
      "\n",
      "\n",
      "\n",
      "\n",
      "\n",
      "\n",
      "\n",
      "1/1 [==============================] - 0s 62ms/step\n",
      "\n",
      "\n",
      "\n",
      "\n",
      "\n",
      "\n",
      "\n",
      "\n",
      "\n",
      "\n",
      "\n",
      "\n",
      "\n",
      "\n",
      "\n",
      "\n",
      "\n",
      "\n",
      "\n",
      "\n",
      "\n",
      "\n",
      "\n",
      "\n",
      "\n",
      "1/1 [==============================] - 0s 58ms/step\n",
      "\n",
      "\n",
      "\n",
      "\n",
      "1/1 [==============================] - 0s 58ms/step\n",
      "\n",
      "\n",
      "\n",
      "1/1 [==============================] - 0s 66ms/step\n",
      "\n",
      "\n",
      "\n",
      "1/1 [==============================] - 0s 75ms/step\n",
      "\n",
      "\n",
      "\n",
      "\n",
      "\n",
      "\n",
      "\n",
      "\n",
      "\n",
      "\n",
      "\n",
      "\n",
      "\n",
      "\n",
      "\n",
      "\n",
      "\n",
      "\n",
      "\n",
      "1/1 [==============================] - 0s 60ms/step\n",
      "\n",
      "\n",
      "\n",
      "\n",
      "1/1 [==============================] - 0s 62ms/step\n",
      "\n",
      "\n",
      "\n",
      "\n",
      "\n",
      "1/1 [==============================] - 0s 64ms/step\n",
      "\n",
      "1/1 [==============================] - 0s 77ms/step\n",
      "\n",
      "\n",
      "1/1 [==============================] - 0s 62ms/step\n",
      "\n",
      "\n",
      "\n",
      "\n",
      "\n",
      "1/1 [==============================] - 0s 63ms/step\n",
      "\n",
      "\n",
      "1/1 [==============================] - 0s 62ms/step\n",
      "\n",
      "\n",
      "\n",
      "\n",
      "\n",
      "\n",
      "\n",
      "\n",
      "1/1 [==============================] - 0s 68ms/step\n",
      "\n",
      "\n",
      "\n",
      "\n",
      "\n",
      "\n",
      "\n",
      "\n",
      "\n",
      "\n",
      "\n",
      "\n",
      "\n",
      "\n",
      "\n",
      "\n",
      "\n",
      "\n",
      "\n",
      "\n",
      "\n",
      "\n",
      "\n",
      "\n",
      "\n",
      "1/1 [==============================] - 0s 63ms/step\n",
      "1/1 [==============================] - 0s 66ms/step\n",
      "\n",
      "\n",
      "\n",
      "\n",
      "\n",
      "1/1 [==============================] - 0s 60ms/step\n",
      "\n",
      "\n",
      "\n",
      "\n",
      "\n",
      "\n",
      "\n",
      "\n",
      "\n",
      "\n",
      "\n",
      "\n",
      "\n",
      "\n",
      "\n",
      "\n",
      "\n",
      "\n",
      "\n",
      "\n",
      "\n",
      "\n",
      "\n",
      "1/1 [==============================] - 0s 52ms/step\n",
      "1/1 [==============================] - 0s 53ms/step\n",
      "\n",
      "\n",
      "\n",
      "\n",
      "\n",
      "\n",
      "\n",
      "\n",
      "\n",
      "1/1 [==============================] - 0s 67ms/step\n",
      "\n",
      "\n",
      "\n",
      "\n",
      "\n",
      "\n",
      "\n",
      "\n",
      "\n",
      "1/1 [==============================] - 0s 48ms/step\n",
      "\n",
      "\n",
      "\n",
      "\n",
      "1/1 [==============================] - 0s 53ms/step\n",
      "\n",
      "\n",
      "\n",
      "\n",
      "\n",
      "\n",
      "\n",
      "\n",
      "\n",
      "\n",
      "\n",
      "\n",
      "\n",
      "\n",
      "\n",
      "\n",
      "\n",
      "\n",
      "\n",
      "\n",
      "\n",
      "\n",
      "\n",
      "\n",
      "\n",
      "\n",
      "\n",
      "\n",
      "\n",
      "\n",
      "\n",
      "\n",
      "\n",
      "\n",
      "\n",
      "\n",
      "\n",
      "\n",
      "\n",
      "\n",
      "1/1 [==============================] - 0s 55ms/step\n",
      "\n",
      "\n",
      "\n",
      "\n",
      "\n",
      "\n",
      "\n",
      "1/1 [==============================] - 0s 64ms/step\n",
      "\n",
      "\n",
      "\n",
      "\n",
      "1/1 [==============================] - 0s 51ms/step\n",
      "\n",
      "\n",
      "\n",
      "\n",
      "\n",
      "\n",
      "\n",
      "\n",
      "\n",
      "\n",
      "\n",
      "1/1 [==============================] - 0s 50ms/step\n",
      "\n",
      "\n",
      "\n",
      "\n",
      "\n",
      "\n",
      "\n",
      "\n",
      "\n",
      "\n",
      "\n",
      "\n",
      "\n",
      "\n",
      "\n",
      "\n",
      "\n",
      "\n",
      "1/1 [==============================] - 0s 61ms/step\n",
      "\n",
      "\n",
      "\n",
      "\n",
      "\n",
      "\n",
      "1/1 [==============================] - 0s 49ms/step\n",
      "\n",
      "\n",
      "\n",
      "1/1 [==============================] - 0s 57ms/step\n",
      "\n",
      "\n",
      "\n",
      "\n",
      "\n",
      "\n",
      "\n",
      "\n",
      "\n",
      "1/1 [==============================] - 0s 57ms/step\n",
      "\n",
      "\n",
      "\n",
      "1/1 [==============================] - 0s 48ms/step\n",
      "1/1 [==============================] - 0s 56ms/step\n",
      "\n",
      "\n",
      "\n",
      "\n",
      "\n",
      "\n",
      "\n",
      "\n",
      "\n",
      "\n",
      "\n",
      "\n",
      "\n",
      "\n",
      "\n",
      "\n",
      "1/1 [==============================] - 0s 51ms/step\n",
      "\n",
      "\n",
      "\n",
      "\n",
      "\n",
      "\n",
      "\n",
      "\n",
      "\n",
      "\n",
      "\n",
      "\n",
      "\n",
      "1/1 [==============================] - 0s 100ms/step\n",
      "\n",
      "1/1 [==============================] - 0s 50ms/step\n",
      "\n",
      "\n",
      "\n",
      "\n",
      "\n",
      "\n",
      "\n",
      "\n",
      "\n",
      "\n",
      "\n",
      "\n",
      "\n",
      "\n",
      "\n",
      "\n",
      "\n",
      "\n",
      "\n",
      "\n",
      "1/1 [==============================] - 0s 93ms/step\n",
      "\n",
      "\n",
      "\n",
      "\n",
      "\n",
      "\n",
      "1/1 [==============================] - 0s 71ms/step\n",
      "\n",
      "\n",
      "\n",
      "\n",
      "\n",
      "\n",
      "\n",
      "\n",
      "1/1 [==============================] - 0s 62ms/step\n",
      "\n",
      "1/1 [==============================] - 0s 79ms/step\n",
      "\n",
      "\n",
      "\n",
      "\n",
      "\n",
      "\n",
      "\n",
      "\n",
      "\n",
      "\n",
      "\n",
      "\n",
      "\n",
      "\n",
      "\n",
      "\n",
      "\n",
      "\n",
      "\n",
      "\n",
      "\n",
      "\n",
      "\n",
      "\n",
      "\n",
      "\n",
      "\n",
      "\n",
      "\n",
      "1/1 [==============================] - 0s 63ms/step\n",
      "\n",
      "\n",
      "\n",
      "\n",
      "\n",
      "\n",
      "\n",
      "\n",
      "\n",
      "\n",
      "\n",
      "\n",
      "\n",
      "\n",
      "\n",
      "\n",
      "\n",
      "\n",
      "\n",
      "\n",
      "\n",
      "\n",
      "\n",
      "\n",
      "\n",
      "\n",
      "\n",
      "\n",
      "\n",
      "1/1 [==============================] - 0s 80ms/step\n",
      "\n",
      "\n",
      "\n",
      "\n",
      "\n",
      "\n",
      "\n",
      "\n",
      "\n",
      "\n",
      "\n",
      "\n",
      "\n",
      "\n",
      "\n",
      "\n",
      "\n",
      "\n",
      "\n",
      "\n",
      "\n",
      "\n",
      "\n",
      "\n",
      "1/1 [==============================] - 0s 88ms/step\n",
      "\n",
      "\n",
      "\n",
      "\n",
      "1/1 [==============================] - 0s 59ms/step\n",
      "\n",
      "\n",
      "1/1 [==============================] - 0s 63ms/step\n",
      "\n",
      "\n",
      "1/1 [==============================] - 0s 107ms/step\n",
      "\n",
      "\n",
      "\n",
      "\n",
      "\n",
      "\n",
      "\n",
      "\n",
      "\n",
      "\n",
      "\n",
      "\n",
      "1/1 [==============================] - 0s 72ms/step\n",
      "1/1 [==============================] - 0s 115ms/step\n",
      "\n",
      "\n",
      "\n",
      "\n",
      "\n",
      "1/1 [==============================] - 0s 61ms/step\n",
      "\n",
      "\n",
      "\n",
      "\n",
      "\n",
      "\n",
      "\n",
      "\n",
      "\n",
      "1/1 [==============================] - 0s 51ms/step\n",
      "\n",
      "\n",
      "1/1 [==============================] - 0s 51ms/step\n",
      "\n",
      "\n",
      "1/1 [==============================] - 0s 49ms/step\n",
      "\n",
      "\n",
      "\n",
      "\n",
      "\n",
      "\n",
      "1/1 [==============================] - 0s 50ms/step\n",
      "\n",
      "\n",
      "\n",
      "\n",
      "\n",
      "\n",
      "\n",
      "\n",
      "\n",
      "\n",
      "\n",
      "1/1 [==============================] - 0s 49ms/step\n",
      "\n",
      "\n",
      "\n",
      "\n",
      "1/1 [==============================] - 0s 50ms/step\n",
      "\n",
      "\n",
      "\n",
      "\n",
      "\n",
      "\n",
      "\n",
      "\n",
      "1/1 [==============================] - 0s 52ms/step\n",
      "\n",
      "\n",
      "\n",
      "\n",
      "\n",
      "\n",
      "\n",
      "\n",
      "\n",
      "\n",
      "\n",
      "\n",
      "\n",
      "1/1 [==============================] - 0s 56ms/step\n",
      "\n",
      "1/1 [==============================] - 0s 53ms/step\n",
      "\n",
      "\n",
      "\n",
      "\n",
      "\n",
      "\n",
      "\n",
      "\n",
      "\n",
      "\n",
      "\n",
      "\n",
      "\n",
      "\n",
      "\n",
      "\n",
      "\n",
      "\n",
      "\n",
      "\n",
      "\n",
      "\n",
      "1/1 [==============================] - 0s 63ms/step\n",
      "\n",
      "\n",
      "\n",
      "\n",
      "1/1 [==============================] - 0s 63ms/step\n",
      "\n",
      "\n",
      "\n",
      "1/1 [==============================] - 0s 69ms/step\n",
      "\n",
      "1/1 [==============================] - 0s 62ms/step\n",
      "\n",
      "\n",
      "\n",
      "\n",
      "1/1 [==============================] - 0s 66ms/step\n",
      "\n",
      "\n",
      "\n",
      "\n",
      "\n",
      "\n",
      "\n",
      "\n",
      "\n",
      "\n",
      "\n",
      "1/1 [==============================] - 0s 70ms/step\n",
      "\n",
      "\n",
      "\n",
      "\n",
      "\n",
      "\n",
      "\n",
      "\n",
      "\n",
      "\n",
      "\n",
      "\n",
      "\n",
      "\n",
      "\n",
      "\n",
      "\n",
      "\n",
      "\n",
      "\n",
      "\n",
      "\n",
      "1/1 [==============================] - 0s 91ms/step\n",
      "1/1 [==============================] - 0s 73ms/step\n",
      "\n",
      "\n",
      "1/1 [==============================] - 0s 66ms/step\n",
      "\n",
      "\n",
      "\n",
      "\n",
      "\n",
      "\n",
      "\n",
      "\n",
      "\n",
      "\n",
      "\n",
      "\n",
      "\n",
      "\n",
      "\n",
      "\n",
      "\n",
      "\n",
      "\n",
      "\n",
      "\n",
      "\n",
      "\n",
      "\n",
      "\n",
      "1/1 [==============================] - 0s 62ms/step\n",
      "\n",
      "1/1 [==============================] - 0s 71ms/step\n",
      "\n",
      "\n",
      "\n",
      "\n",
      "\n",
      "\n",
      "\n",
      "\n",
      "\n",
      "\n",
      "\n",
      "\n",
      "\n",
      "\n",
      "\n",
      "\n",
      "\n",
      "\n",
      "\n",
      "\n",
      "\n",
      "\n",
      "\n",
      "\n",
      "\n",
      "\n",
      "\n",
      "\n",
      "\n",
      "\n",
      "\n",
      "\n",
      "\n",
      "\n",
      "\n",
      "\n",
      "\n",
      "\n",
      "\n",
      "\n",
      "\n",
      "\n",
      "\n",
      "\n",
      "\n",
      "\n",
      "\n",
      "\n",
      "\n",
      "\n",
      "\n",
      "\n",
      "\n",
      "\n",
      "\n",
      "\n",
      "\n",
      "\n",
      "\n",
      "\n",
      "\n",
      "\n",
      "\n",
      "\n",
      "1/1 [==============================] - 0s 89ms/step\n",
      "\n",
      "\n",
      "\n",
      "\n",
      "\n",
      "\n",
      "\n",
      "\n",
      "\n",
      "\n",
      "\n",
      "\n",
      "\n",
      "\n",
      "1/1 [==============================] - 0s 59ms/step\n",
      "\n",
      "\n",
      "\n",
      "\n",
      "1/1 [==============================] - 0s 62ms/step\n",
      "\n",
      "\n",
      "\n",
      "\n",
      "\n",
      "\n",
      "\n",
      "\n",
      "1/1 [==============================] - 0s 51ms/step\n",
      "\n",
      "\n",
      "\n",
      "\n",
      "\n",
      "\n",
      "\n",
      "\n",
      "\n",
      "\n",
      "\n",
      "\n",
      "\n",
      "\n",
      "\n",
      "\n",
      "\n",
      "\n",
      "\n",
      "\n",
      "\n",
      "\n",
      "\n",
      "\n",
      "\n",
      "\n",
      "\n",
      "\n",
      "\n",
      "\n",
      "\n",
      "\n",
      "\n",
      "\n",
      "\n",
      "\n",
      "\n",
      "\n",
      "\n",
      "\n",
      "\n",
      "\n",
      "\n",
      "\n",
      "\n",
      "1/1 [==============================] - 0s 48ms/step\n",
      "1/1 [==============================] - 0s 62ms/step\n",
      "\n",
      "1/1 [==============================] - 0s 50ms/step\n",
      "\n",
      "\n",
      "\n",
      "\n",
      "\n",
      "\n",
      "\n",
      "\n",
      "\n",
      "\n",
      "\n",
      "\n",
      "\n",
      "\n",
      "\n",
      "\n",
      "\n",
      "\n",
      "\n",
      "\n",
      "\n",
      "\n",
      "\n",
      "\n",
      "\n",
      "\n",
      "\n",
      "1/1 [==============================] - 0s 82ms/step\n",
      "\n",
      "\n",
      "\n",
      "\n",
      "\n",
      "\n",
      "\n",
      "\n",
      "\n",
      "\n",
      "\n",
      "\n",
      "\n",
      "\n",
      "1/1 [==============================] - 0s 55ms/step\n",
      "\n",
      "\n",
      "1/1 [==============================] - 0s 50ms/step\n",
      "\n",
      "\n",
      "1/1 [==============================] - 0s 61ms/step\n",
      "\n",
      "\n",
      "\n",
      "1/1 [==============================] - 0s 54ms/step\n",
      "\n",
      "\n",
      "\n",
      "\n",
      "\n",
      "\n",
      "\n",
      "\n",
      "\n",
      "\n",
      "\n",
      "\n",
      "\n",
      "\n",
      "\n",
      "1/1 [==============================] - 0s 80ms/step\n",
      "\n",
      "\n",
      "\n",
      "\n",
      "\n",
      "\n",
      "\n",
      "\n",
      "\n",
      "\n",
      "\n",
      "\n",
      "\n",
      "\n",
      "\n",
      "\n",
      "\n",
      "1/1 [==============================] - 0s 53ms/step\n",
      "\n",
      "\n",
      "\n",
      "\n",
      "\n",
      "\n",
      "\n",
      "\n",
      "\n",
      "\n",
      "\n",
      "\n",
      "\n",
      "\n",
      "\n",
      "\n",
      "\n",
      "\n",
      "\n",
      "\n",
      "1/1 [==============================] - 0s 57ms/step\n",
      "\n",
      "\n",
      "\n",
      "\n",
      "\n",
      "\n",
      "1/1 [==============================] - 0s 53ms/step\n",
      "\n",
      "\n",
      "\n",
      "\n",
      "\n",
      "\n",
      "\n",
      "\n",
      "\n",
      "\n",
      "\n",
      "1/1 [==============================] - 0s 59ms/step\n",
      "\n",
      "\n",
      "\n",
      "\n",
      "\n",
      "\n",
      "\n",
      "1/1 [==============================] - 0s 61ms/step\n",
      "\n",
      "1/1 [==============================] - 0s 62ms/step\n",
      "\n",
      "\n",
      "\n",
      "\n",
      "\n",
      "\n",
      "\n",
      "\n",
      "\n",
      "\n",
      "\n",
      "\n",
      "\n",
      "\n",
      "\n",
      "\n",
      "\n",
      "1/1 [==============================] - 0s 60ms/step\n",
      "\n",
      "\n",
      "\n",
      "\n",
      "\n",
      "\n",
      "\n",
      "\n",
      "\n",
      "\n",
      "\n",
      "\n",
      "\n",
      "\n",
      "\n",
      "\n",
      "\n",
      "\n",
      "\n",
      "\n",
      "\n",
      "\n",
      "1/1 [==============================] - 0s 60ms/step\n",
      "\n",
      "\n",
      "\n",
      "\n",
      "\n",
      "\n",
      "\n",
      "\n",
      "\n",
      "\n",
      "\n",
      "\n",
      "\n",
      "\n",
      "\n",
      "\n",
      "\n",
      "\n",
      "\n",
      "\n",
      "\n",
      "\n",
      "\n",
      "\n",
      "\n",
      "\n",
      "\n",
      "\n",
      "1/1 [==============================] - 0s 69ms/step\n",
      "\n",
      "\n",
      "\n",
      "\n",
      "\n",
      "\n",
      "\n",
      "\n",
      "\n",
      "\n",
      "\n",
      "1/1 [==============================] - 0s 94ms/step\n",
      "\n",
      "\n",
      "\n",
      "\n",
      "\n",
      "\n",
      "\n",
      "\n",
      "\n",
      "1/1 [==============================] - 0s 66ms/step\n",
      "\n",
      "1/1 [==============================] - 0s 78ms/step\n",
      "\n",
      "\n",
      "\n",
      "\n",
      "\n",
      "1/1 [==============================] - 0s 59ms/step\n",
      "1/1 [==============================] - 0s 62ms/step\n",
      "\n",
      "\n",
      "\n",
      "\n",
      "\n",
      "\n",
      "\n",
      "1/1 [==============================] - 0s 62ms/step\n",
      "\n",
      "1/1 [==============================] - 0s 76ms/step\n",
      "\n",
      "\n",
      "\n",
      "\n",
      "\n",
      "\n",
      "\n",
      "\n",
      "1/1 [==============================] - 0s 70ms/step\n",
      "\n",
      "\n",
      "\n",
      "\n",
      "\n",
      "\n",
      "\n",
      "\n",
      "\n",
      "\n",
      "\n",
      "\n",
      "\n",
      "\n",
      "\n",
      "\n",
      "\n",
      "\n",
      "\n",
      "\n",
      "1/1 [==============================] - 0s 57ms/step\n",
      "\n",
      "1/1 [==============================] - 0s 54ms/step\n",
      "\n",
      "\n",
      "\n",
      "\n",
      "\n",
      "\n",
      "1/1 [==============================] - 0s 51ms/step\n",
      "\n",
      "\n",
      "\n",
      "\n",
      "\n",
      "\n",
      "\n",
      "\n",
      "1/1 [==============================] - 0s 52ms/step\n",
      "\n",
      "\n",
      "\n",
      "\n",
      "\n",
      "\n",
      "\n",
      "\n",
      "\n",
      "\n",
      "\n",
      "\n",
      "\n",
      "\n",
      "\n",
      "\n",
      "\n",
      "\n",
      "\n",
      "\n",
      "\n",
      "\n",
      "\n",
      "\n",
      "\n",
      "\n",
      "\n",
      "\n",
      "1/1 [==============================] - 0s 55ms/step\n",
      "\n",
      "\n",
      "\n",
      "\n",
      "\n",
      "\n",
      "\n",
      "\n"
     ]
    },
    {
     "name": "stdout",
     "output_type": "stream",
     "text": [
      "1/1 [==============================] - 0s 52ms/step\n",
      "\n",
      "\n",
      "\n",
      "\n",
      "\n",
      "\n",
      "\n",
      "\n",
      "\n",
      "\n",
      "\n",
      "\n",
      "1/1 [==============================] - 0s 48ms/step\n",
      "\n",
      "\n",
      "\n",
      "\n",
      "\n",
      "\n",
      "1/1 [==============================] - 0s 75ms/step\n",
      "1/1 [==============================] - 0s 52ms/step\n",
      "1/1 [==============================] - 0s 63ms/step\n",
      "\n",
      "1/1 [==============================] - 0s 50ms/step\n",
      "\n",
      "\n",
      "\n",
      "\n",
      "\n",
      "\n",
      "\n",
      "\n",
      "\n",
      "\n",
      "\n",
      "\n",
      "\n",
      "\n",
      "\n",
      "\n",
      "\n",
      "\n",
      "\n",
      "\n",
      "\n",
      "\n",
      "\n",
      "\n",
      "\n",
      "\n",
      "\n",
      "\n",
      "\n",
      "\n",
      "\n",
      "\n",
      "\n",
      "\n",
      "\n",
      "\n",
      "\n",
      "\n",
      "\n",
      "\n",
      "\n",
      "\n",
      "1/1 [==============================] - 0s 78ms/step\n",
      "\n",
      "\n",
      "\n",
      "\n",
      "\n",
      "\n",
      "\n",
      "\n",
      "\n",
      "\n",
      "\n",
      "\n",
      "\n",
      "\n",
      "1/1 [==============================] - 0s 63ms/step\n",
      "\n",
      "\n",
      "\n",
      "\n",
      "\n",
      "\n",
      "\n",
      "\n",
      "\n",
      "\n",
      "\n",
      "\n",
      "\n",
      "\n",
      "\n",
      "\n",
      "\n",
      "\n",
      "\n",
      "\n",
      "\n",
      "\n",
      "\n",
      "\n",
      "1/1 [==============================] - 0s 58ms/step\n",
      "\n",
      "\n",
      "\n",
      "\n",
      "\n",
      "\n",
      "\n",
      "\n",
      "\n",
      "\n",
      "\n",
      "\n",
      "\n",
      "\n",
      "\n",
      "\n",
      "\n",
      "\n",
      "\n",
      "\n",
      "\n",
      "\n",
      "\n",
      "\n",
      "1/1 [==============================] - 0s 62ms/step\n",
      "\n",
      "\n",
      "\n",
      "\n",
      "\n",
      "\n",
      "1/1 [==============================] - 0s 61ms/step\n",
      "\n",
      "\n",
      "\n",
      "1/1 [==============================] - 0s 60ms/step\n",
      "\n",
      "\n",
      "\n",
      "\n",
      "\n",
      "\n",
      "\n",
      "\n",
      "1/1 [==============================] - 0s 63ms/step\n",
      "\n",
      "\n",
      "\n",
      "\n",
      "\n",
      "\n",
      "\n",
      "\n",
      "\n",
      "\n",
      "\n",
      "\n",
      "\n",
      "1/1 [==============================] - 0s 75ms/step\n",
      "\n",
      "\n",
      "\n",
      "\n",
      "\n",
      "\n",
      "1/1 [==============================] - 0s 64ms/step\n",
      "\n",
      "1/1 [==============================] - 0s 64ms/step\n",
      "\n",
      "\n",
      "\n",
      "\n",
      "\n",
      "\n",
      "\n",
      "\n",
      "\n",
      "\n",
      "\n",
      "\n",
      "1/1 [==============================] - 0s 97ms/step\n",
      "1/1 [==============================] - 0s 61ms/step\n",
      "\n",
      "\n",
      "\n",
      "\n",
      "\n",
      "\n",
      "\n",
      "\n",
      "\n",
      "\n",
      "\n",
      "\n",
      "1/1 [==============================] - 0s 78ms/step\n",
      "\n",
      "\n",
      "\n",
      "1/1 [==============================] - 0s 59ms/step\n",
      "\n",
      "\n",
      "\n",
      "\n",
      "\n",
      "\n",
      "1/1 [==============================] - 0s 64ms/step\n",
      "\n",
      "1/1 [==============================] - 0s 57ms/step\n",
      "\n",
      "\n",
      "\n",
      "\n",
      "\n",
      "\n",
      "\n",
      "\n",
      "\n",
      "\n",
      "\n",
      "\n",
      "\n",
      "\n",
      "\n",
      "\n",
      "\n",
      "\n",
      "\n",
      "\n",
      "\n",
      "\n",
      "\n",
      "\n",
      "\n",
      "\n",
      "1/1 [==============================] - 0s 57ms/step\n",
      "\n",
      "\n",
      "\n",
      "\n",
      "\n",
      "\n",
      "\n",
      "\n",
      "\n",
      "\n",
      "\n",
      "\n",
      "\n",
      "\n",
      "\n",
      "\n",
      "\n",
      "\n",
      "\n",
      "\n",
      "\n",
      "\n",
      "\n",
      "\n",
      "1/1 [==============================] - 0s 54ms/step\n",
      "\n",
      "\n",
      "\n",
      "\n",
      "\n",
      "1/1 [==============================] - 0s 51ms/step\n",
      "1/1 [==============================] - 0s 49ms/step\n",
      "\n",
      "\n",
      "\n",
      "\n",
      "\n",
      "\n",
      "\n",
      "\n",
      "1/1 [==============================] - 0s 51ms/step\n",
      "\n",
      "1/1 [==============================] - 0s 54ms/step\n",
      "\n",
      "\n",
      "\n",
      "\n",
      "1/1 [==============================] - 0s 51ms/step\n",
      "\n",
      "\n",
      "\n",
      "\n",
      "\n",
      "\n",
      "\n",
      "\n",
      "\n",
      "\n",
      "283\n",
      "14\n",
      "95.28619528619528\n"
     ]
    }
   ],
   "source": [
    "Benar = 0\n",
    "Salah = 0\n",
    "\n",
    "for i in range(3000):\n",
    "    try:\n",
    "        gambar = \"E:\\\\Capstone_Project\\\\runningan\\\\depressionvsnormal\\\\testing\\Depression\\\\Depression{}.jpg\".format(i)\n",
    "        resp = identifikasi_gambar(gambar)\n",
    "        if resp == \"Depresi\":\n",
    "            Benar+=1\n",
    "        else:\n",
    "            Salah+=1\n",
    "    except:\n",
    "        print(\"\")\n",
    "        \n",
    "totalpersen = Benar / (Benar+Salah)*100\n",
    "print(Benar)\n",
    "print(Salah)\n",
    "print(totalpersen)\n",
    "#memprediksi testing 63% benar untuk cek depresi untuk  keseluruhan testin"
   ]
  },
  {
   "cell_type": "code",
   "execution_count": 29,
   "metadata": {},
   "outputs": [
    {
     "name": "stdout",
     "output_type": "stream",
     "text": [
      "\n",
      "1/1 [==============================] - 0s 55ms/step\n",
      "\n",
      "\n",
      "\n",
      "\n",
      "\n",
      "\n",
      "\n",
      "\n",
      "\n",
      "\n",
      "\n",
      "\n",
      "\n",
      "\n",
      "\n",
      "\n",
      "\n",
      "\n",
      "\n",
      "\n",
      "\n",
      "\n",
      "\n",
      "\n",
      "\n",
      "1/1 [==============================] - 0s 51ms/step\n",
      "\n",
      "\n",
      "\n",
      "\n",
      "\n",
      "\n",
      "\n",
      "\n",
      "\n",
      "\n",
      "\n",
      "\n",
      "\n",
      "\n",
      "\n",
      "\n",
      "1/1 [==============================] - 0s 48ms/step\n",
      "\n",
      "\n",
      "\n",
      "\n",
      "\n",
      "\n",
      "1/1 [==============================] - 0s 48ms/step\n",
      "\n",
      "\n",
      "\n",
      "\n",
      "\n",
      "\n",
      "\n",
      "\n",
      "\n",
      "\n",
      "\n",
      "\n",
      "\n",
      "\n",
      "\n",
      "\n",
      "\n",
      "\n",
      "\n",
      "\n",
      "\n",
      "\n",
      "\n",
      "\n",
      "\n",
      "\n",
      "\n",
      "\n",
      "1/1 [==============================] - 0s 51ms/step\n",
      "1/1 [==============================] - 0s 49ms/step\n",
      "\n",
      "\n",
      "\n",
      "\n",
      "\n",
      "1/1 [==============================] - 0s 54ms/step\n",
      "\n",
      "\n",
      "\n",
      "\n",
      "\n",
      "\n",
      "\n",
      "\n",
      "\n",
      "\n",
      "\n",
      "\n",
      "\n",
      "\n",
      "\n",
      "\n",
      "\n",
      "\n",
      "\n",
      "\n",
      "\n",
      "\n",
      "\n",
      "\n",
      "1/1 [==============================] - 0s 57ms/step\n",
      "\n",
      "\n",
      "\n",
      "\n",
      "\n",
      "\n",
      "\n",
      "\n",
      "\n",
      "\n",
      "\n",
      "1/1 [==============================] - 0s 53ms/step\n",
      "1/1 [==============================] - 0s 57ms/step\n",
      "\n",
      "\n",
      "\n",
      "1/1 [==============================] - 0s 61ms/step\n",
      "\n",
      "\n",
      "\n",
      "\n",
      "\n",
      "\n",
      "1/1 [==============================] - 0s 63ms/step\n",
      "\n",
      "\n",
      "1/1 [==============================] - 0s 74ms/step\n",
      "\n",
      "\n",
      "\n",
      "\n",
      "1/1 [==============================] - 0s 59ms/step\n",
      "1/1 [==============================] - 0s 65ms/step\n",
      "\n",
      "\n",
      "\n",
      "\n",
      "1/1 [==============================] - 0s 120ms/step\n",
      "\n",
      "\n",
      "\n",
      "\n",
      "\n",
      "\n",
      "\n",
      "\n",
      "\n",
      "\n",
      "\n",
      "\n",
      "\n",
      "\n",
      "1/1 [==============================] - 0s 81ms/step\n",
      "\n",
      "\n",
      "\n",
      "\n",
      "\n",
      "\n",
      "\n",
      "\n",
      "\n",
      "\n",
      "\n",
      "\n",
      "\n",
      "\n",
      "\n",
      "\n",
      "\n",
      "\n",
      "1/1 [==============================] - 0s 112ms/step\n",
      "\n",
      "\n",
      "\n",
      "\n",
      "\n",
      "\n",
      "\n",
      "\n",
      "\n",
      "\n",
      "1/1 [==============================] - 0s 58ms/step\n",
      "\n",
      "1/1 [==============================] - 0s 71ms/step\n",
      "\n",
      "\n",
      "\n",
      "\n",
      "\n",
      "\n",
      "\n",
      "1/1 [==============================] - 0s 59ms/step\n",
      "\n",
      "\n",
      "\n",
      "\n",
      "\n",
      "\n",
      "\n",
      "\n",
      "\n",
      "\n",
      "\n",
      "\n",
      "\n",
      "\n",
      "\n",
      "1/1 [==============================] - 0s 61ms/step\n",
      "\n",
      "\n",
      "\n",
      "\n",
      "\n",
      "1/1 [==============================] - 0s 84ms/step\n",
      "\n",
      "\n",
      "\n",
      "\n",
      "\n",
      "\n",
      "\n",
      "\n",
      "\n",
      "\n",
      "\n",
      "\n",
      "\n",
      "\n",
      "\n",
      "\n",
      "\n",
      "1/1 [==============================] - 0s 58ms/step\n",
      "\n",
      "\n",
      "1/1 [==============================] - 0s 63ms/step\n",
      "\n",
      "\n",
      "\n",
      "\n",
      "1/1 [==============================] - 0s 71ms/step\n",
      "\n",
      "\n",
      "\n",
      "\n",
      "\n",
      "\n",
      "\n",
      "\n",
      "\n",
      "\n",
      "\n",
      "\n",
      "\n",
      "\n",
      "\n",
      "\n",
      "\n",
      "\n",
      "\n",
      "\n",
      "\n",
      "\n",
      "\n",
      "\n",
      "\n",
      "\n",
      "1/1 [==============================] - 0s 51ms/step\n",
      "\n",
      "1/1 [==============================] - 0s 49ms/step\n",
      "\n",
      "\n",
      "\n",
      "\n",
      "\n",
      "\n",
      "\n",
      "\n",
      "1/1 [==============================] - 0s 60ms/step\n",
      "\n",
      "\n",
      "\n",
      "\n",
      "\n",
      "\n",
      "\n",
      "\n",
      "\n",
      "\n",
      "\n",
      "\n",
      "\n",
      "\n",
      "\n",
      "1/1 [==============================] - 0s 71ms/step\n",
      "\n",
      "\n",
      "\n",
      "\n",
      "\n",
      "1/1 [==============================] - 0s 55ms/step\n",
      "\n",
      "\n",
      "\n",
      "\n",
      "\n",
      "\n",
      "\n",
      "1/1 [==============================] - 0s 53ms/step\n",
      "\n",
      "\n",
      "\n",
      "\n",
      "\n",
      "\n",
      "\n",
      "\n",
      "\n",
      "\n",
      "\n",
      "\n",
      "\n",
      "1/1 [==============================] - 0s 54ms/step\n",
      "\n",
      "\n",
      "\n",
      "\n",
      "\n",
      "\n",
      "\n",
      "\n",
      "\n",
      "\n",
      "\n",
      "\n",
      "\n",
      "\n",
      "\n",
      "\n",
      "\n",
      "\n",
      "\n",
      "\n",
      "\n",
      "\n",
      "\n",
      "\n",
      "\n",
      "\n",
      "1/1 [==============================] - 0s 60ms/step\n",
      "\n",
      "\n",
      "\n",
      "\n",
      "\n",
      "\n",
      "\n",
      "\n",
      "\n",
      "\n",
      "\n",
      "\n",
      "1/1 [==============================] - 0s 51ms/step\n",
      "\n",
      "\n",
      "1/1 [==============================] - 0s 49ms/step\n",
      "\n",
      "\n",
      "\n",
      "1/1 [==============================] - 0s 51ms/step\n",
      "\n",
      "\n",
      "\n",
      "\n",
      "1/1 [==============================] - 0s 60ms/step\n",
      "\n",
      "\n",
      "\n",
      "\n",
      "\n",
      "\n",
      "\n",
      "\n",
      "\n",
      "1/1 [==============================] - 0s 55ms/step\n",
      "\n",
      "1/1 [==============================] - 0s 56ms/step\n",
      "1/1 [==============================] - 0s 53ms/step\n",
      "\n",
      "\n",
      "\n",
      "\n",
      "\n",
      "\n",
      "\n",
      "\n",
      "\n",
      "1/1 [==============================] - 0s 50ms/step\n",
      "\n",
      "1/1 [==============================] - 0s 67ms/step\n",
      "\n",
      "\n",
      "\n",
      "\n",
      "\n",
      "\n",
      "\n",
      "\n",
      "\n",
      "\n",
      "\n",
      "\n",
      "\n",
      "\n",
      "1/1 [==============================] - 0s 55ms/step\n",
      "\n",
      "\n",
      "\n",
      "\n",
      "\n",
      "\n",
      "\n",
      "\n",
      "\n",
      "\n",
      "\n",
      "\n",
      "\n",
      "\n",
      "\n",
      "\n",
      "\n",
      "\n",
      "\n",
      "\n",
      "\n",
      "\n",
      "\n",
      "\n",
      "\n",
      "\n",
      "\n",
      "\n",
      "\n",
      "\n",
      "\n",
      "\n",
      "\n",
      "\n",
      "\n",
      "\n",
      "\n",
      "\n",
      "\n",
      "\n",
      "\n",
      "\n",
      "\n",
      "\n",
      "\n",
      "\n",
      "\n",
      "\n",
      "\n",
      "\n",
      "\n",
      "\n",
      "\n",
      "\n",
      "\n",
      "\n",
      "\n",
      "\n",
      "\n",
      "\n",
      "\n",
      "\n",
      "\n",
      "1/1 [==============================] - 0s 68ms/step\n",
      "\n",
      "\n",
      "\n",
      "\n",
      "\n",
      "\n",
      "\n",
      "\n",
      "\n",
      "\n",
      "\n",
      "\n",
      "\n",
      "\n",
      "\n",
      "\n",
      "\n",
      "\n",
      "\n",
      "1/1 [==============================] - 0s 62ms/step\n",
      "\n",
      "\n",
      "\n",
      "\n",
      "1/1 [==============================] - 0s 61ms/step\n",
      "\n",
      "\n",
      "\n",
      "\n",
      "\n",
      "\n",
      "\n",
      "1/1 [==============================] - 0s 75ms/step\n",
      "\n",
      "\n",
      "\n",
      "1/1 [==============================] - 0s 59ms/step\n",
      "1/1 [==============================] - 0s 65ms/step\n",
      "\n",
      "\n",
      "\n",
      "\n",
      "\n",
      "\n",
      "\n",
      "1/1 [==============================] - 0s 80ms/step\n",
      "\n",
      "\n",
      "\n",
      "\n",
      "1/1 [==============================] - 0s 76ms/step\n",
      "\n",
      "\n",
      "\n",
      "\n",
      "\n",
      "\n",
      "\n",
      "\n",
      "\n",
      "\n",
      "\n",
      "1/1 [==============================] - 0s 84ms/step\n",
      "\n",
      "\n",
      "\n",
      "\n",
      "\n",
      "\n",
      "\n",
      "\n",
      "\n",
      "\n",
      "\n",
      "\n",
      "\n",
      "\n",
      "\n",
      "\n",
      "\n",
      "\n",
      "\n",
      "\n",
      "\n",
      "\n",
      "\n",
      "\n",
      "\n",
      "\n",
      "\n",
      "\n",
      "\n",
      "\n",
      "\n",
      "\n",
      "\n",
      "\n",
      "\n",
      "\n",
      "1/1 [==============================] - 0s 59ms/step\n",
      "\n",
      "\n",
      "\n",
      "\n",
      "\n",
      "\n",
      "\n",
      "\n",
      "\n",
      "\n",
      "\n",
      "1/1 [==============================] - 0s 51ms/step\n",
      "\n",
      "1/1 [==============================] - 0s 61ms/step\n",
      "1/1 [==============================] - 0s 52ms/step\n",
      "\n",
      "\n",
      "\n",
      "\n",
      "\n",
      "\n",
      "\n",
      "\n",
      "\n",
      "\n",
      "\n",
      "\n",
      "\n",
      "\n",
      "\n",
      "\n",
      "\n",
      "\n",
      "\n",
      "\n",
      "\n",
      "\n",
      "\n",
      "\n",
      "1/1 [==============================] - 0s 59ms/step\n",
      "\n",
      "\n",
      "\n",
      "\n",
      "\n",
      "\n",
      "\n",
      "\n",
      "\n",
      "\n",
      "\n",
      "\n",
      "\n",
      "\n",
      "\n",
      "\n",
      "\n",
      "\n",
      "\n",
      "1/1 [==============================] - 0s 51ms/step\n",
      "\n",
      "\n",
      "\n",
      "\n",
      "\n",
      "\n",
      "\n",
      "\n",
      "\n",
      "\n",
      "\n",
      "\n",
      "\n",
      "\n",
      "\n",
      "\n",
      "\n",
      "1/1 [==============================] - 0s 54ms/step\n",
      "\n",
      "\n",
      "\n",
      "\n",
      "\n",
      "\n",
      "\n",
      "\n",
      "\n",
      "\n",
      "\n",
      "\n",
      "\n",
      "\n",
      "\n",
      "\n",
      "\n",
      "\n",
      "\n",
      "1/1 [==============================] - 0s 62ms/step\n",
      "\n",
      "\n",
      "\n",
      "\n",
      "\n",
      "\n",
      "\n",
      "\n",
      "\n",
      "1/1 [==============================] - 0s 49ms/step\n",
      "\n",
      "\n",
      "\n",
      "\n",
      "\n",
      "\n",
      "\n",
      "1/1 [==============================] - 0s 48ms/step\n",
      "\n",
      "\n",
      "\n",
      "\n",
      "\n",
      "\n",
      "\n",
      "\n",
      "\n",
      "\n",
      "\n",
      "\n",
      "\n",
      "\n",
      "\n",
      "\n",
      "\n",
      "\n",
      "\n",
      "\n",
      "\n",
      "\n",
      "\n",
      "\n",
      "\n",
      "\n",
      "\n",
      "\n",
      "\n",
      "\n",
      "\n",
      "\n",
      "1/1 [==============================] - 0s 49ms/step\n",
      "\n",
      "\n",
      "1/1 [==============================] - 0s 67ms/step\n",
      "\n",
      "\n",
      "\n",
      "\n",
      "\n",
      "\n",
      "\n",
      "\n",
      "\n",
      "1/1 [==============================] - 0s 62ms/step\n",
      "\n",
      "\n",
      "\n",
      "\n",
      "\n",
      "\n",
      "\n",
      "1/1 [==============================] - 0s 49ms/step\n",
      "\n",
      "\n",
      "\n",
      "\n",
      "\n",
      "\n",
      "\n",
      "\n",
      "\n",
      "\n",
      "\n",
      "\n",
      "\n",
      "\n",
      "\n",
      "1/1 [==============================] - 0s 72ms/step\n",
      "\n",
      "\n",
      "\n",
      "\n",
      "\n",
      "\n",
      "\n",
      "1/1 [==============================] - 0s 62ms/step\n",
      "\n",
      "\n",
      "\n",
      "1/1 [==============================] - 0s 83ms/step\n",
      "\n",
      "\n",
      "\n",
      "\n",
      "\n",
      "1/1 [==============================] - 0s 65ms/step\n",
      "\n",
      "\n",
      "\n",
      "\n",
      "\n",
      "\n",
      "\n",
      "\n",
      "\n",
      "1/1 [==============================] - 0s 62ms/step\n",
      "\n",
      "\n",
      "1/1 [==============================] - 0s 61ms/step\n",
      "\n",
      "\n",
      "1/1 [==============================] - 0s 74ms/step\n",
      "\n",
      "\n",
      "\n",
      "\n",
      "\n",
      "\n",
      "\n",
      "\n",
      "1/1 [==============================] - 0s 79ms/step\n",
      "\n",
      "\n",
      "\n",
      "1/1 [==============================] - 0s 63ms/step\n",
      "\n",
      "\n",
      "\n",
      "\n",
      "\n",
      "\n",
      "\n",
      "\n",
      "\n",
      "\n",
      "1/1 [==============================] - 0s 74ms/step\n",
      "\n",
      "\n",
      "\n",
      "1/1 [==============================] - 0s 57ms/step\n",
      "\n",
      "\n",
      "\n",
      "\n",
      "\n",
      "\n",
      "\n",
      "\n",
      "\n",
      "\n",
      "\n",
      "\n",
      "\n",
      "1/1 [==============================] - 0s 79ms/step\n",
      "\n",
      "\n",
      "\n",
      "\n",
      "\n",
      "\n",
      "\n",
      "\n",
      "\n",
      "\n",
      "\n",
      "1/1 [==============================] - 0s 66ms/step\n",
      "\n",
      "\n",
      "\n",
      "\n",
      "\n",
      "\n",
      "\n",
      "\n",
      "1/1 [==============================] - 0s 64ms/step\n",
      "\n",
      "1/1 [==============================] - 0s 62ms/step\n",
      "1/1 [==============================] - 0s 66ms/step\n",
      "\n",
      "\n",
      "\n",
      "\n",
      "1/1 [==============================] - 0s 82ms/step\n",
      "\n",
      "\n",
      "\n",
      "\n",
      "\n",
      "\n",
      "\n",
      "\n",
      "\n",
      "\n",
      "\n",
      "\n",
      "\n",
      "\n",
      "\n",
      "1/1 [==============================] - 0s 58ms/step\n",
      "\n",
      "\n",
      "\n",
      "\n",
      "\n",
      "\n",
      "\n",
      "\n",
      "\n",
      "\n",
      "\n",
      "1/1 [==============================] - 0s 57ms/step\n",
      "\n",
      "\n",
      "\n",
      "\n",
      "\n",
      "\n",
      "\n",
      "\n",
      "\n",
      "1/1 [==============================] - 0s 62ms/step\n",
      "\n",
      "\n",
      "\n",
      "\n",
      "1/1 [==============================] - 0s 60ms/step\n",
      "1/1 [==============================] - 0s 85ms/step\n",
      "\n",
      "\n",
      "\n",
      "\n",
      "\n",
      "\n",
      "\n",
      "\n",
      "\n",
      "\n",
      "\n",
      "\n",
      "\n",
      "\n",
      "\n",
      "\n",
      "\n",
      "\n",
      "\n",
      "\n",
      "1/1 [==============================] - 0s 62ms/step\n",
      "\n",
      "\n",
      "\n",
      "\n",
      "\n",
      "\n",
      "\n",
      "\n",
      "\n",
      "\n",
      "\n",
      "\n",
      "\n",
      "1/1 [==============================] - 0s 61ms/step\n",
      "\n",
      "\n",
      "\n",
      "\n",
      "1/1 [==============================] - 0s 57ms/step\n",
      "\n",
      "\n",
      "\n",
      "\n",
      "\n",
      "1/1 [==============================] - 0s 50ms/step\n",
      "\n",
      "\n",
      "\n",
      "\n",
      "\n",
      "\n",
      "\n",
      "\n",
      "1/1 [==============================] - 0s 61ms/step\n",
      "\n",
      "\n",
      "\n",
      "1/1 [==============================] - 0s 49ms/step\n",
      "\n",
      "\n",
      "\n",
      "\n",
      "\n",
      "\n",
      "\n",
      "\n",
      "\n",
      "\n",
      "1/1 [==============================] - 0s 73ms/step\n",
      "\n",
      "\n",
      "1/1 [==============================] - 0s 72ms/step\n",
      "\n",
      "\n",
      "\n",
      "\n",
      "\n",
      "\n",
      "\n",
      "1/1 [==============================] - 0s 50ms/step\n",
      "\n",
      "\n",
      "\n",
      "\n",
      "1/1 [==============================] - 0s 51ms/step\n",
      "\n",
      "\n",
      "\n",
      "\n",
      "1/1 [==============================] - 0s 70ms/step\n",
      "\n",
      "\n",
      "\n",
      "\n",
      "\n",
      "\n",
      "\n",
      "\n",
      "\n",
      "\n",
      "\n",
      "\n",
      "\n",
      "\n",
      "\n",
      "\n",
      "\n",
      "1/1 [==============================] - 0s 68ms/step\n",
      "\n",
      "\n",
      "\n",
      "\n",
      "\n",
      "\n",
      "\n",
      "\n",
      "\n",
      "\n",
      "\n",
      "\n",
      "\n",
      "\n",
      "\n",
      "1/1 [==============================] - 0s 52ms/step\n",
      "\n",
      "\n",
      "\n",
      "\n",
      "\n",
      "\n",
      "\n",
      "\n",
      "\n",
      "\n",
      "\n",
      "\n",
      "\n",
      "\n",
      "\n",
      "1/1 [==============================] - 0s 48ms/step\n",
      "\n",
      "\n",
      "\n",
      "\n",
      "\n",
      "\n",
      "\n",
      "1/1 [==============================] - 0s 55ms/step\n",
      "1/1 [==============================] - 0s 62ms/step\n",
      "\n",
      "\n",
      "\n",
      "\n",
      "\n",
      "\n",
      "1/1 [==============================] - 0s 53ms/step\n",
      "1/1 [==============================] - 0s 72ms/step\n",
      "\n",
      "\n",
      "\n",
      "\n",
      "\n",
      "1/1 [==============================] - 0s 49ms/step\n",
      "\n",
      "\n",
      "\n",
      "\n",
      "\n",
      "\n",
      "\n",
      "\n",
      "\n",
      "\n",
      "\n",
      "\n",
      "\n",
      "\n",
      "\n",
      "\n",
      "\n",
      "\n",
      "\n",
      "\n",
      "\n",
      "\n",
      "\n",
      "\n",
      "\n",
      "\n",
      "\n",
      "\n",
      "\n",
      "\n",
      "\n",
      "\n",
      "\n",
      "\n",
      "\n",
      "\n",
      "\n",
      "\n",
      "\n",
      "\n",
      "\n",
      "\n",
      "\n",
      "\n",
      "\n",
      "\n",
      "\n",
      "\n",
      "\n",
      "\n",
      "1/1 [==============================] - 0s 55ms/step\n",
      "\n",
      "\n",
      "\n",
      "\n",
      "\n",
      "\n",
      "\n",
      "\n",
      "\n",
      "\n",
      "\n",
      "\n",
      "\n",
      "1/1 [==============================] - 0s 91ms/step\n",
      "\n",
      "\n",
      "1/1 [==============================] - 0s 72ms/step\n",
      "\n",
      "\n",
      "\n",
      "\n",
      "\n",
      "\n",
      "1/1 [==============================] - 0s 59ms/step\n",
      "\n",
      "\n",
      "\n",
      "\n",
      "\n",
      "\n",
      "\n",
      "\n",
      "1/1 [==============================] - 0s 62ms/step\n",
      "1/1 [==============================] - 0s 64ms/step\n",
      "1/1 [==============================] - 0s 57ms/step\n",
      "\n",
      "\n",
      "\n",
      "\n",
      "\n",
      "1/1 [==============================] - 0s 67ms/step\n",
      "\n",
      "\n",
      "\n",
      "\n",
      "\n",
      "\n",
      "1/1 [==============================] - 0s 69ms/step\n",
      "\n",
      "\n",
      "\n",
      "\n",
      "\n",
      "\n",
      "\n",
      "\n",
      "\n",
      "\n",
      "\n",
      "\n",
      "\n",
      "1/1 [==============================] - 0s 63ms/step\n",
      "\n",
      "\n",
      "\n",
      "\n",
      "\n",
      "\n",
      "\n",
      "\n",
      "1/1 [==============================] - 0s 69ms/step\n",
      "\n",
      "\n",
      "\n",
      "\n",
      "1/1 [==============================] - 0s 59ms/step\n",
      "\n",
      "\n",
      "\n",
      "\n",
      "\n",
      "\n",
      "\n",
      "\n",
      "\n",
      "1/1 [==============================] - 0s 57ms/step\n",
      "\n",
      "\n",
      "\n",
      "\n",
      "\n",
      "\n",
      "\n",
      "\n",
      "\n",
      "\n",
      "\n",
      "\n",
      "\n",
      "\n",
      "\n",
      "\n",
      "\n",
      "\n",
      "\n",
      "\n",
      "\n",
      "\n",
      "\n",
      "\n",
      "\n",
      "\n",
      "\n",
      "\n",
      "\n",
      "\n",
      "\n",
      "\n",
      "\n",
      "\n",
      "\n",
      "\n",
      "\n",
      "\n",
      "\n",
      "\n",
      "\n",
      "\n",
      "\n",
      "1/1 [==============================] - 0s 56ms/step\n",
      "\n",
      "\n",
      "\n",
      "\n",
      "\n",
      "\n",
      "\n",
      "\n",
      "\n",
      "\n",
      "\n",
      "\n",
      "\n",
      "\n",
      "\n",
      "\n",
      "\n",
      "\n",
      "\n",
      "\n",
      "\n",
      "\n",
      "\n",
      "\n",
      "\n",
      "\n",
      "1/1 [==============================] - 0s 52ms/step\n",
      "\n",
      "\n",
      "\n",
      "\n",
      "\n",
      "\n",
      "\n",
      "\n",
      "\n",
      "1/1 [==============================] - 0s 51ms/step\n",
      "\n",
      "\n",
      "\n",
      "\n",
      "\n",
      "\n",
      "\n",
      "\n",
      "\n",
      "\n",
      "\n",
      "\n",
      "\n",
      "\n",
      "\n",
      "\n",
      "\n",
      "\n",
      "\n",
      "\n",
      "\n",
      "\n",
      "\n",
      "\n",
      "\n",
      "\n",
      "1/1 [==============================] - 0s 52ms/step\n",
      "\n",
      "1/1 [==============================] - 0s 49ms/step\n",
      "\n",
      "1/1 [==============================] - 0s 51ms/step\n",
      "\n",
      "\n",
      "\n",
      "\n",
      "\n",
      "1/1 [==============================] - 0s 71ms/step\n",
      "\n",
      "\n",
      "\n",
      "\n",
      "\n",
      "1/1 [==============================] - 0s 51ms/step\n",
      "\n",
      "\n",
      "\n",
      "\n",
      "\n",
      "\n",
      "\n",
      "\n",
      "\n",
      "\n",
      "1/1 [==============================] - 0s 50ms/step\n",
      "\n",
      "\n",
      "1/1 [==============================] - 0s 50ms/step\n",
      "\n",
      "\n",
      "\n",
      "\n",
      "\n",
      "\n",
      "\n",
      "\n",
      "\n",
      "\n",
      "\n",
      "\n",
      "\n",
      "\n",
      "\n",
      "\n",
      "\n",
      "\n",
      "\n",
      "\n",
      "\n",
      "\n",
      "\n",
      "\n",
      "\n",
      "\n",
      "\n",
      "\n",
      "\n",
      "\n",
      "\n",
      "\n",
      "\n",
      "1/1 [==============================] - 0s 50ms/step\n",
      "\n",
      "\n",
      "\n",
      "1/1 [==============================] - 0s 48ms/step\n",
      "\n",
      "\n",
      "\n",
      "\n"
     ]
    },
    {
     "name": "stdout",
     "output_type": "stream",
     "text": [
      "\n",
      "\n",
      "\n",
      "\n",
      "\n",
      "\n",
      "\n",
      "\n",
      "\n",
      "\n",
      "\n",
      "\n",
      "\n",
      "\n",
      "\n",
      "\n",
      "1/1 [==============================] - 0s 50ms/step\n",
      "\n",
      "\n",
      "\n",
      "\n",
      "\n",
      "\n",
      "1/1 [==============================] - 0s 61ms/step\n",
      "\n",
      "\n",
      "\n",
      "\n",
      "1/1 [==============================] - 0s 51ms/step\n",
      "\n",
      "\n",
      "\n",
      "\n",
      "1/1 [==============================] - 0s 55ms/step\n",
      "\n",
      "\n",
      "\n",
      "\n",
      "\n",
      "\n",
      "\n",
      "\n",
      "\n",
      "\n",
      "\n",
      "\n",
      "\n",
      "\n",
      "\n",
      "\n",
      "\n",
      "\n",
      "\n",
      "\n",
      "\n",
      "\n",
      "\n",
      "\n",
      "\n",
      "\n",
      "\n",
      "\n",
      "\n",
      "\n",
      "\n",
      "\n",
      "\n",
      "\n",
      "\n",
      "\n",
      "\n",
      "1/1 [==============================] - 0s 50ms/step\n",
      "\n",
      "1/1 [==============================] - 0s 57ms/step\n",
      "\n",
      "\n",
      "1/1 [==============================] - 0s 53ms/step\n",
      "\n",
      "\n",
      "\n",
      "\n",
      "1/1 [==============================] - 0s 66ms/step\n",
      "\n",
      "\n",
      "\n",
      "\n",
      "\n",
      "\n",
      "\n",
      "\n",
      "\n",
      "\n",
      "\n",
      "\n",
      "\n",
      "\n",
      "\n",
      "\n",
      "\n",
      "\n",
      "\n",
      "\n",
      "\n",
      "\n",
      "\n",
      "\n",
      "\n",
      "\n",
      "\n",
      "\n",
      "\n",
      "\n",
      "\n",
      "\n",
      "\n",
      "\n",
      "\n",
      "\n",
      "\n",
      "1/1 [==============================] - 0s 81ms/step\n",
      "\n",
      "\n",
      "\n",
      "\n",
      "1/1 [==============================] - 0s 58ms/step\n",
      "\n",
      "\n",
      "\n",
      "\n",
      "\n",
      "\n",
      "\n",
      "\n",
      "\n",
      "\n",
      "1/1 [==============================] - 0s 78ms/step\n",
      "\n",
      "\n",
      "\n",
      "1/1 [==============================] - 0s 60ms/step\n",
      "\n",
      "\n",
      "\n",
      "\n",
      "\n",
      "\n",
      "\n",
      "\n",
      "\n",
      "\n",
      "\n",
      "\n",
      "\n",
      "\n",
      "\n",
      "\n",
      "\n",
      "1/1 [==============================] - 0s 64ms/step\n",
      "\n",
      "\n",
      "\n",
      "\n",
      "\n",
      "1/1 [==============================] - 0s 76ms/step\n",
      "\n",
      "\n",
      "\n",
      "\n",
      "\n",
      "1/1 [==============================] - 0s 59ms/step\n",
      "\n",
      "\n",
      "\n",
      "\n",
      "\n",
      "\n",
      "\n",
      "\n",
      "\n",
      "\n",
      "1/1 [==============================] - 0s 68ms/step\n",
      "\n",
      "1/1 [==============================] - 0s 99ms/step\n",
      "1/1 [==============================] - 0s 63ms/step\n",
      "\n",
      "\n",
      "\n",
      "\n",
      "\n",
      "\n",
      "\n",
      "\n",
      "\n",
      "\n",
      "1/1 [==============================] - 0s 61ms/step\n",
      "\n",
      "\n",
      "1/1 [==============================] - 0s 61ms/step\n",
      "1/1 [==============================] - 0s 67ms/step\n",
      "\n",
      "\n",
      "\n",
      "\n",
      "\n",
      "\n",
      "\n",
      "\n",
      "\n",
      "\n",
      "\n",
      "\n",
      "\n",
      "\n",
      "\n",
      "\n",
      "\n",
      "\n",
      "\n",
      "\n",
      "1/1 [==============================] - 0s 62ms/step\n",
      "\n",
      "\n",
      "\n",
      "\n",
      "\n",
      "\n",
      "1/1 [==============================] - 0s 56ms/step\n",
      "\n",
      "\n",
      "\n",
      "\n",
      "\n",
      "\n",
      "\n",
      "\n",
      "\n",
      "\n",
      "\n",
      "\n",
      "\n",
      "\n",
      "\n",
      "\n",
      "\n",
      "\n",
      "\n",
      "\n",
      "\n",
      "\n",
      "1/1 [==============================] - 0s 52ms/step\n",
      "\n",
      "\n",
      "\n",
      "\n",
      "\n",
      "\n",
      "\n",
      "\n",
      "\n",
      "1/1 [==============================] - 0s 55ms/step\n",
      "\n",
      "\n",
      "\n",
      "1/1 [==============================] - 0s 55ms/step\n",
      "\n",
      "\n",
      "\n",
      "\n",
      "\n",
      "\n",
      "\n",
      "\n",
      "\n",
      "\n",
      "\n",
      "\n",
      "\n",
      "\n",
      "\n",
      "\n",
      "\n",
      "\n",
      "\n",
      "\n",
      "\n",
      "1/1 [==============================] - 0s 55ms/step\n",
      "\n",
      "\n",
      "\n",
      "\n",
      "\n",
      "\n",
      "\n",
      "\n",
      "\n",
      "\n",
      "\n",
      "\n",
      "\n",
      "\n",
      "\n",
      "\n",
      "1/1 [==============================] - 0s 55ms/step\n",
      "\n",
      "\n",
      "\n",
      "\n",
      "\n",
      "\n",
      "\n",
      "\n",
      "\n",
      "\n",
      "\n",
      "\n",
      "\n",
      "\n",
      "\n",
      "\n",
      "\n",
      "\n",
      "1/1 [==============================] - 0s 64ms/step\n",
      "\n",
      "\n",
      "1/1 [==============================] - 0s 48ms/step\n",
      "\n",
      "\n",
      "\n",
      "\n",
      "\n",
      "\n",
      "\n",
      "\n",
      "\n",
      "\n",
      "\n",
      "\n",
      "\n",
      "\n",
      "\n",
      "\n",
      "\n",
      "\n",
      "\n",
      "\n",
      "\n",
      "1/1 [==============================] - 0s 50ms/step\n",
      "\n",
      "\n",
      "\n",
      "\n",
      "1/1 [==============================] - 0s 51ms/step\n",
      "\n",
      "\n",
      "\n",
      "\n",
      "\n",
      "\n",
      "\n",
      "\n",
      "\n",
      "\n",
      "\n",
      "1/1 [==============================] - 0s 70ms/step\n",
      "1/1 [==============================] - 0s 95ms/step\n",
      "\n",
      "\n",
      "\n",
      "\n",
      "\n",
      "\n",
      "\n",
      "\n",
      "\n",
      "\n",
      "\n",
      "\n",
      "\n",
      "\n",
      "\n",
      "\n",
      "\n",
      "\n",
      "\n",
      "1/1 [==============================] - 0s 106ms/step\n",
      "\n",
      "\n",
      "\n",
      "\n",
      "\n",
      "\n",
      "\n",
      "\n",
      "\n",
      "\n",
      "\n",
      "\n",
      "\n",
      "\n",
      "1/1 [==============================] - 0s 57ms/step\n",
      "\n",
      "\n",
      "\n",
      "\n",
      "\n",
      "\n",
      "1/1 [==============================] - 0s 61ms/step\n",
      "\n",
      "\n",
      "\n",
      "\n",
      "\n",
      "\n",
      "\n",
      "\n",
      "1/1 [==============================] - 0s 59ms/step\n",
      "\n",
      "\n",
      "\n",
      "1/1 [==============================] - 0s 67ms/step\n",
      "\n",
      "\n",
      "\n",
      "\n",
      "\n",
      "1/1 [==============================] - 0s 59ms/step\n",
      "1/1 [==============================] - 0s 65ms/step\n",
      "\n",
      "\n",
      "\n",
      "\n",
      "1/1 [==============================] - 0s 60ms/step\n",
      "\n",
      "1/1 [==============================] - 0s 66ms/step\n",
      "\n",
      "\n",
      "\n",
      "\n",
      "\n",
      "1/1 [==============================] - 0s 65ms/step\n",
      "\n",
      "\n",
      "\n",
      "\n",
      "1/1 [==============================] - 0s 68ms/step\n",
      "\n",
      "\n",
      "\n",
      "\n",
      "\n",
      "1/1 [==============================] - 0s 58ms/step\n",
      "\n",
      "\n",
      "1/1 [==============================] - 0s 65ms/step\n",
      "\n",
      "1/1 [==============================] - 0s 62ms/step\n",
      "\n",
      "\n",
      "\n",
      "\n",
      "\n",
      "\n",
      "\n",
      "\n",
      "\n",
      "\n",
      "\n",
      "\n",
      "\n",
      "\n",
      "\n",
      "\n",
      "\n",
      "\n",
      "\n",
      "\n",
      "\n",
      "1/1 [==============================] - 0s 49ms/step\n",
      "1/1 [==============================] - 0s 60ms/step\n",
      "\n",
      "\n",
      "\n",
      "\n",
      "\n",
      "\n",
      "\n",
      "\n",
      "\n",
      "\n",
      "\n",
      "\n",
      "\n",
      "1/1 [==============================] - 0s 64ms/step\n",
      "\n",
      "\n",
      "\n",
      "\n",
      "\n",
      "\n",
      "\n",
      "\n",
      "\n",
      "\n",
      "\n",
      "\n",
      "\n",
      "1/1 [==============================] - 0s 60ms/step\n",
      "\n",
      "\n",
      "\n",
      "\n",
      "\n",
      "\n",
      "\n",
      "\n",
      "\n",
      "1/1 [==============================] - 0s 48ms/step\n",
      "1/1 [==============================] - 0s 55ms/step\n",
      "\n",
      "\n",
      "\n",
      "1/1 [==============================] - 0s 55ms/step\n",
      "\n",
      "\n",
      "1/1 [==============================] - 0s 50ms/step\n",
      "\n",
      "\n",
      "\n",
      "\n",
      "\n",
      "\n",
      "1/1 [==============================] - 0s 62ms/step\n",
      "\n",
      "\n",
      "1/1 [==============================] - 0s 56ms/step\n",
      "\n",
      "\n",
      "\n",
      "1/1 [==============================] - 0s 56ms/step\n",
      "\n",
      "\n",
      "\n",
      "1/1 [==============================] - 0s 49ms/step\n",
      "\n",
      "\n",
      "\n",
      "\n",
      "\n",
      "\n",
      "\n",
      "1/1 [==============================] - 0s 52ms/step\n",
      "\n",
      "\n",
      "\n",
      "\n",
      "\n",
      "\n",
      "\n",
      "\n",
      "\n",
      "\n",
      "\n",
      "\n",
      "\n",
      "\n",
      "\n",
      "\n",
      "1/1 [==============================] - 0s 52ms/step\n",
      "\n",
      "\n",
      "\n",
      "\n",
      "\n",
      "\n",
      "\n",
      "\n",
      "\n",
      "\n",
      "\n",
      "\n",
      "\n",
      "\n",
      "\n",
      "\n",
      "\n",
      "1/1 [==============================] - 0s 59ms/step\n",
      "\n",
      "\n",
      "\n",
      "\n",
      "\n",
      "\n",
      "\n",
      "\n",
      "\n",
      "\n",
      "\n",
      "\n",
      "\n",
      "\n",
      "\n",
      "\n",
      "\n",
      "1/1 [==============================] - 0s 48ms/step\n",
      "\n",
      "\n",
      "\n",
      "\n",
      "\n",
      "\n",
      "\n",
      "\n",
      "\n",
      "\n",
      "\n",
      "\n",
      "\n",
      "\n",
      "\n",
      "\n",
      "\n",
      "\n",
      "\n",
      "\n",
      "\n",
      "\n",
      "\n",
      "\n",
      "1/1 [==============================] - 0s 50ms/step\n",
      "\n",
      "\n",
      "\n",
      "\n",
      "\n",
      "1/1 [==============================] - 0s 53ms/step\n",
      "\n",
      "\n",
      "\n",
      "\n",
      "\n",
      "\n",
      "\n",
      "\n",
      "\n",
      "\n",
      "\n",
      "\n",
      "\n",
      "\n",
      "1/1 [==============================] - 0s 50ms/step\n",
      "\n",
      "\n",
      "\n",
      "\n",
      "\n",
      "\n",
      "1/1 [==============================] - 0s 52ms/step\n",
      "1/1 [==============================] - 0s 49ms/step\n",
      "\n",
      "\n",
      "\n",
      "1/1 [==============================] - 0s 56ms/step\n",
      "\n",
      "\n",
      "\n",
      "\n",
      "\n",
      "\n",
      "1/1 [==============================] - 0s 60ms/step\n",
      "\n",
      "1/1 [==============================] - 0s 51ms/step\n",
      "\n",
      "\n",
      "\n",
      "\n",
      "\n",
      "\n",
      "\n",
      "\n",
      "\n",
      "1/1 [==============================] - 0s 51ms/step\n",
      "\n",
      "\n",
      "\n",
      "\n",
      "\n",
      "1/1 [==============================] - 0s 68ms/step\n",
      "\n",
      "\n",
      "\n",
      "\n",
      "\n",
      "\n",
      "\n",
      "\n",
      "1/1 [==============================] - 0s 77ms/step\n",
      "\n",
      "1/1 [==============================] - 0s 64ms/step\n",
      "\n",
      "1/1 [==============================] - 0s 89ms/step\n",
      "\n",
      "\n",
      "\n",
      "\n",
      "\n",
      "\n",
      "\n",
      "\n",
      "\n",
      "1/1 [==============================] - 0s 61ms/step\n",
      "\n",
      "\n",
      "\n",
      "\n",
      "\n",
      "\n",
      "\n",
      "\n",
      "\n",
      "\n",
      "1/1 [==============================] - 0s 62ms/step\n",
      "\n",
      "\n",
      "\n",
      "\n",
      "\n",
      "\n",
      "\n",
      "1/1 [==============================] - 0s 61ms/step\n",
      "\n",
      "\n",
      "\n",
      "\n",
      "\n",
      "\n",
      "\n",
      "\n",
      "\n",
      "\n",
      "\n",
      "1/1 [==============================] - 0s 57ms/step\n",
      "\n",
      "\n",
      "\n",
      "\n",
      "1/1 [==============================] - 0s 67ms/step\n",
      "\n",
      "\n",
      "\n",
      "\n",
      "\n",
      "\n",
      "\n",
      "1/1 [==============================] - 0s 59ms/step\n",
      "\n",
      "\n",
      "\n",
      "\n",
      "1/1 [==============================] - 0s 86ms/step\n",
      "\n",
      "\n",
      "\n",
      "1/1 [==============================] - 0s 58ms/step\n",
      "\n",
      "\n",
      "\n",
      "\n",
      "\n",
      "\n",
      "\n",
      "\n",
      "\n",
      "\n",
      "\n",
      "\n",
      "\n",
      "\n",
      "1/1 [==============================] - 0s 87ms/step\n",
      "\n",
      "\n",
      "\n",
      "\n",
      "\n",
      "\n",
      "\n",
      "\n",
      "\n",
      "\n",
      "\n",
      "\n",
      "\n",
      "\n",
      "\n",
      "\n",
      "\n",
      "\n",
      "\n",
      "\n",
      "\n",
      "\n",
      "1/1 [==============================] - 0s 71ms/step\n",
      "\n",
      "\n",
      "\n",
      "\n",
      "\n",
      "\n",
      "\n",
      "\n",
      "\n",
      "\n",
      "\n",
      "\n",
      "\n",
      "\n",
      "\n",
      "\n",
      "\n",
      "\n",
      "\n",
      "\n",
      "\n",
      "\n",
      "\n",
      "\n",
      "\n",
      "1/1 [==============================] - 0s 72ms/step\n",
      "\n",
      "\n",
      "\n",
      "1/1 [==============================] - 0s 60ms/step\n",
      "\n",
      "\n",
      "\n",
      "\n",
      "\n",
      "\n",
      "\n",
      "\n",
      "\n",
      "\n",
      "\n",
      "\n",
      "1/1 [==============================] - 0s 77ms/step\n",
      "1/1 [==============================] - 0s 59ms/step\n",
      "\n",
      "\n",
      "\n",
      "\n",
      "\n",
      "\n",
      "\n",
      "\n",
      "1/1 [==============================] - 0s 61ms/step\n",
      "1/1 [==============================] - 0s 73ms/step\n",
      "\n",
      "\n",
      "\n",
      "\n",
      "\n",
      "\n",
      "\n",
      "\n",
      "\n",
      "1/1 [==============================] - 0s 57ms/step\n",
      "\n",
      "\n",
      "1/1 [==============================] - 0s 51ms/step\n",
      "\n",
      "\n",
      "\n",
      "\n",
      "\n",
      "\n",
      "\n",
      "\n",
      "\n",
      "\n",
      "\n",
      "1/1 [==============================] - 0s 55ms/step\n",
      "\n",
      "\n",
      "\n",
      "\n",
      "\n",
      "\n",
      "\n",
      "\n",
      "\n",
      "\n",
      "\n",
      "1/1 [==============================] - 0s 49ms/step\n",
      "\n",
      "\n",
      "\n",
      "\n",
      "1/1 [==============================] - 0s 71ms/step\n",
      "\n",
      "\n",
      "\n",
      "\n",
      "\n",
      "\n",
      "\n",
      "\n",
      "\n",
      "\n",
      "\n",
      "1/1 [==============================] - 0s 61ms/step\n",
      "\n",
      "\n",
      "\n",
      "\n",
      "\n",
      "\n",
      "\n",
      "1/1 [==============================] - 0s 48ms/step\n",
      "\n",
      "\n",
      "\n",
      "\n",
      "\n",
      "\n",
      "\n",
      "\n",
      "\n",
      "1/1 [==============================] - 0s 50ms/step\n",
      "\n",
      "\n",
      "\n",
      "\n",
      "1/1 [==============================] - 0s 57ms/step\n",
      "\n",
      "\n",
      "\n",
      "\n",
      "\n",
      "\n",
      "\n",
      "\n",
      "\n",
      "\n",
      "\n",
      "\n",
      "\n",
      "\n",
      "\n",
      "\n",
      "\n",
      "1/1 [==============================] - 0s 50ms/step\n",
      "\n",
      "\n",
      "\n",
      "\n",
      "\n",
      "\n",
      "\n",
      "1/1 [==============================] - 0s 47ms/step\n",
      "\n",
      "\n",
      "\n",
      "\n",
      "\n",
      "\n",
      "\n",
      "1/1 [==============================] - 0s 59ms/step\n",
      "\n",
      "\n",
      "\n",
      "\n",
      "\n",
      "\n",
      "\n",
      "\n",
      "\n",
      "\n",
      "\n",
      "\n",
      "\n",
      "\n",
      "1/1 [==============================] - 0s 64ms/step\n",
      "\n",
      "\n",
      "\n",
      "\n",
      "\n",
      "1/1 [==============================] - 0s 53ms/step\n",
      "\n",
      "\n",
      "\n",
      "\n",
      "\n",
      "\n",
      "\n",
      "\n",
      "\n",
      "\n",
      "1/1 [==============================] - 0s 51ms/step\n",
      "\n",
      "\n",
      "\n",
      "\n",
      "\n",
      "\n",
      "\n",
      "\n",
      "\n",
      "\n",
      "\n",
      "\n",
      "\n",
      "\n",
      "\n",
      "\n",
      "\n",
      "\n",
      "\n",
      "\n",
      "1/1 [==============================] - 0s 68ms/step\n",
      "\n",
      "\n",
      "\n",
      "1/1 [==============================] - 0s 51ms/step\n",
      "\n",
      "\n",
      "\n",
      "1/1 [==============================] - 0s 49ms/step\n",
      "\n",
      "\n",
      "\n",
      "\n",
      "\n",
      "1/1 [==============================] - 0s 55ms/step\n",
      "\n",
      "\n",
      "\n",
      "\n",
      "\n",
      "\n",
      "\n",
      "\n",
      "\n",
      "\n",
      "\n",
      "\n",
      "\n",
      "1/1 [==============================] - 0s 69ms/step\n",
      "\n",
      "\n",
      "\n",
      "\n",
      "\n",
      "\n",
      "\n",
      "\n",
      "\n",
      "1/1 [==============================] - 0s 59ms/step\n",
      "\n",
      "\n",
      "\n",
      "\n",
      "\n",
      "\n",
      "\n",
      "\n",
      "\n",
      "\n",
      "\n",
      "\n",
      "\n",
      "\n",
      "\n",
      "\n",
      "\n",
      "\n",
      "\n",
      "\n",
      "\n",
      "\n",
      "\n",
      "\n",
      "\n",
      "\n",
      "\n",
      "\n",
      "1/1 [==============================] - 0s 52ms/step\n",
      "\n",
      "\n",
      "\n",
      "\n",
      "\n",
      "\n",
      "\n",
      "\n",
      "\n",
      "1/1 [==============================] - 0s 51ms/step\n",
      "\n",
      "\n",
      "\n",
      "\n",
      "\n",
      "1/1 [==============================] - 0s 49ms/step\n",
      "\n",
      "\n",
      "\n",
      "\n",
      "\n",
      "\n",
      "\n",
      "1/1 [==============================] - 0s 59ms/step\n",
      "\n",
      "1/1 [==============================] - 0s 57ms/step\n",
      "\n",
      "\n",
      "\n",
      "\n",
      "\n",
      "\n",
      "\n",
      "\n",
      "\n",
      "\n",
      "\n",
      "\n",
      "\n",
      "1/1 [==============================] - 0s 49ms/step\n",
      "\n",
      "\n",
      "\n",
      "\n",
      "\n",
      "\n",
      "\n",
      "\n",
      "\n",
      "\n",
      "\n",
      "\n",
      "\n",
      "\n",
      "\n",
      "\n",
      "\n",
      "\n",
      "\n",
      "\n",
      "\n",
      "\n",
      "\n",
      "\n",
      "\n",
      "\n",
      "\n",
      "\n",
      "\n",
      "\n",
      "\n",
      "\n",
      "\n",
      "\n",
      "\n",
      "1/1 [==============================] - 0s 52ms/step\n",
      "\n",
      "\n",
      "\n",
      "\n",
      "\n",
      "\n",
      "\n",
      "\n",
      "\n",
      "\n",
      "\n",
      "\n",
      "\n",
      "\n",
      "1/1 [==============================] - 0s 65ms/step\n",
      "\n",
      "\n",
      "1/1 [==============================] - 0s 56ms/step\n",
      "1/1 [==============================] - 0s 54ms/step\n",
      "\n",
      "\n",
      "1/1 [==============================] - 0s 59ms/step\n",
      "\n",
      "\n",
      "\n",
      "\n",
      "\n",
      "\n",
      "\n",
      "\n",
      "\n",
      "\n",
      "\n",
      "\n",
      "\n",
      "\n",
      "\n",
      "\n",
      "1/1 [==============================] - 0s 75ms/step\n",
      "\n",
      "\n",
      "\n",
      "\n",
      "\n",
      "\n",
      "\n",
      "\n",
      "\n",
      "\n",
      "\n",
      "\n",
      "1/1 [==============================] - 0s 59ms/step\n",
      "\n",
      "\n",
      "\n",
      "\n",
      "\n",
      "\n",
      "\n",
      "1/1 [==============================] - 0s 81ms/step\n",
      "\n",
      "\n",
      "\n",
      "\n",
      "\n",
      "\n",
      "\n",
      "1/1 [==============================] - 0s 66ms/step\n",
      "\n",
      "\n",
      "\n",
      "\n",
      "\n",
      "1/1 [==============================] - 0s 68ms/step\n",
      "\n",
      "\n",
      "\n",
      "\n",
      "\n",
      "\n",
      "\n",
      "\n",
      "\n",
      "\n",
      "\n",
      "\n",
      "\n",
      "\n",
      "\n",
      "1/1 [==============================] - 0s 58ms/step\n",
      "\n",
      "\n",
      "\n",
      "1/1 [==============================] - 0s 76ms/step\n",
      "\n",
      "\n",
      "\n",
      "\n",
      "\n",
      "\n",
      "\n",
      "\n",
      "\n",
      "1/1 [==============================] - 0s 72ms/step\n",
      "\n",
      "\n",
      "\n",
      "\n",
      "\n",
      "\n",
      "\n",
      "\n",
      "\n",
      "1/1 [==============================] - 0s 69ms/step\n",
      "\n",
      "1/1 [==============================] - 0s 59ms/step\n",
      "\n",
      "\n",
      "\n",
      "\n",
      "\n"
     ]
    },
    {
     "name": "stdout",
     "output_type": "stream",
     "text": [
      "1/1 [==============================] - 0s 58ms/step\n",
      "\n",
      "\n",
      "\n",
      "\n",
      "\n",
      "\n",
      "\n",
      "\n",
      "\n",
      "\n",
      "\n",
      "\n",
      "\n",
      "\n",
      "\n",
      "\n",
      "\n",
      "\n",
      "\n",
      "1/1 [==============================] - 0s 81ms/step\n",
      "\n",
      "\n",
      "\n",
      "\n",
      "\n",
      "\n",
      "\n",
      "\n",
      "\n",
      "\n",
      "\n",
      "\n",
      "\n",
      "\n",
      "\n",
      "\n",
      "\n",
      "\n",
      "\n",
      "\n",
      "\n",
      "\n",
      "\n",
      "\n",
      "\n",
      "\n",
      "\n",
      "\n",
      "\n",
      "\n",
      "\n",
      "1/1 [==============================] - 0s 57ms/step\n",
      "\n",
      "\n",
      "\n",
      "\n",
      "\n",
      "\n",
      "\n",
      "\n",
      "\n",
      "\n",
      "\n",
      "\n",
      "\n",
      "1/1 [==============================] - 0s 54ms/step\n",
      "\n",
      "\n",
      "\n",
      "1/1 [==============================] - 0s 50ms/step\n",
      "\n",
      "\n",
      "1/1 [==============================] - 0s 48ms/step\n",
      "\n",
      "\n",
      "\n",
      "\n",
      "\n",
      "\n",
      "\n",
      "\n",
      "\n",
      "\n",
      "\n",
      "\n",
      "\n",
      "\n",
      "\n",
      "\n",
      "\n",
      "\n",
      "\n",
      "\n",
      "1/1 [==============================] - 0s 55ms/step\n",
      "1/1 [==============================] - 0s 57ms/step\n",
      "\n",
      "\n",
      "\n",
      "\n",
      "1/1 [==============================] - 0s 61ms/step\n",
      "\n",
      "\n",
      "\n",
      "\n",
      "\n",
      "\n",
      "\n",
      "1/1 [==============================] - 0s 49ms/step\n",
      "\n",
      "\n",
      "\n",
      "\n",
      "\n",
      "\n",
      "\n",
      "\n",
      "\n",
      "\n",
      "\n",
      "1/1 [==============================] - 0s 56ms/step\n",
      "1/1 [==============================] - 0s 58ms/step\n",
      "\n",
      "\n",
      "\n",
      "1/1 [==============================] - 0s 50ms/step\n",
      "\n",
      "\n",
      "\n",
      "\n",
      "\n",
      "1/1 [==============================] - 0s 57ms/step\n",
      "\n",
      "\n",
      "1/1 [==============================] - 0s 62ms/step\n",
      "\n",
      "\n",
      "\n",
      "1/1 [==============================] - 0s 53ms/step\n",
      "\n",
      "\n",
      "\n",
      "\n",
      "\n",
      "\n",
      "\n",
      "\n",
      "\n",
      "\n",
      "\n",
      "\n",
      "\n",
      "\n",
      "\n",
      "\n",
      "\n",
      "\n",
      "\n",
      "\n",
      "\n",
      "\n",
      "\n",
      "\n",
      "\n",
      "\n",
      "1/1 [==============================] - 0s 60ms/step\n",
      "\n",
      "\n",
      "\n",
      "\n",
      "\n",
      "\n",
      "\n",
      "\n",
      "\n",
      "\n",
      "\n",
      "1/1 [==============================] - 0s 60ms/step\n",
      "\n",
      "\n",
      "\n",
      "\n",
      "\n",
      "\n",
      "1/1 [==============================] - 0s 66ms/step\n",
      "\n",
      "\n",
      "\n",
      "\n",
      "\n",
      "\n",
      "\n",
      "\n",
      "\n",
      "\n",
      "\n",
      "\n",
      "\n",
      "\n",
      "\n",
      "\n",
      "\n",
      "\n",
      "\n",
      "\n",
      "1/1 [==============================] - 0s 72ms/step\n",
      "\n",
      "\n",
      "\n",
      "\n",
      "\n",
      "\n",
      "\n",
      "\n",
      "\n",
      "\n",
      "\n",
      "1/1 [==============================] - 0s 77ms/step\n",
      "\n",
      "\n",
      "\n",
      "\n",
      "\n",
      "\n",
      "1/1 [==============================] - 0s 69ms/step\n",
      "\n",
      "\n",
      "\n",
      "\n",
      "\n",
      "1/1 [==============================] - 0s 61ms/step\n",
      "\n",
      "\n",
      "\n",
      "\n",
      "\n",
      "\n",
      "\n",
      "\n",
      "\n",
      "\n",
      "\n",
      "\n",
      "\n",
      "\n",
      "\n",
      "\n",
      "\n",
      "\n",
      "\n",
      "\n",
      "\n",
      "\n",
      "\n",
      "\n",
      "\n",
      "1/1 [==============================] - 0s 60ms/step\n",
      "\n",
      "1/1 [==============================] - 0s 72ms/step\n",
      "\n",
      "\n",
      "\n",
      "1/1 [==============================] - 0s 85ms/step\n",
      "1/1 [==============================] - 0s 63ms/step\n",
      "\n",
      "\n",
      "\n",
      "\n",
      "\n",
      "\n",
      "\n",
      "\n",
      "\n",
      "\n",
      "\n",
      "\n",
      "\n",
      "\n",
      "\n",
      "\n",
      "1/1 [==============================] - 0s 74ms/step\n",
      "\n",
      "\n",
      "\n",
      "\n",
      "\n",
      "\n",
      "\n",
      "\n",
      "\n",
      "1/1 [==============================] - 0s 62ms/step\n",
      "\n",
      "1/1 [==============================] - 0s 56ms/step\n",
      "\n",
      "\n",
      "\n",
      "\n",
      "1/1 [==============================] - 0s 62ms/step\n",
      "\n",
      "\n",
      "\n",
      "\n",
      "\n",
      "\n",
      "\n",
      "\n",
      "\n",
      "\n",
      "\n",
      "\n",
      "1/1 [==============================] - 0s 64ms/step\n",
      "\n",
      "\n",
      "\n",
      "1/1 [==============================] - 0s 65ms/step\n",
      "\n",
      "1/1 [==============================] - 0s 55ms/step\n",
      "\n",
      "\n",
      "\n",
      "\n",
      "\n",
      "\n",
      "\n",
      "\n",
      "\n",
      "\n",
      "\n",
      "\n",
      "\n",
      "\n",
      "\n",
      "\n",
      "\n",
      "\n",
      "\n",
      "\n",
      "\n",
      "\n",
      "\n",
      "\n",
      "\n",
      "\n",
      "\n",
      "\n",
      "\n",
      "\n",
      "\n",
      "\n",
      "\n",
      "\n",
      "\n",
      "\n",
      "\n",
      "\n",
      "\n",
      "\n",
      "\n",
      "\n",
      "\n",
      "\n",
      "\n",
      "\n",
      "\n",
      "\n",
      "\n",
      "\n",
      "\n",
      "\n",
      "\n",
      "\n",
      "\n",
      "\n",
      "1/1 [==============================] - 0s 49ms/step\n",
      "\n",
      "\n",
      "\n",
      "\n",
      "\n",
      "\n",
      "\n",
      "\n",
      "\n",
      "\n",
      "\n",
      "\n",
      "\n",
      "\n",
      "\n",
      "\n",
      "\n",
      "\n",
      "\n",
      "\n",
      "\n",
      "1/1 [==============================] - 0s 69ms/step\n",
      "\n",
      "\n",
      "\n",
      "\n",
      "\n",
      "1/1 [==============================] - 0s 50ms/step\n",
      "\n",
      "\n",
      "\n",
      "\n",
      "1/1 [==============================] - 0s 53ms/step\n",
      "\n",
      "\n",
      "\n",
      "\n",
      "\n",
      "\n",
      "\n",
      "\n",
      "\n",
      "\n",
      "\n",
      "\n",
      "\n",
      "\n",
      "1/1 [==============================] - 0s 49ms/step\n",
      "\n",
      "\n",
      "\n",
      "\n",
      "\n",
      "\n",
      "\n",
      "\n",
      "\n",
      "\n",
      "\n",
      "\n",
      "\n",
      "\n",
      "\n",
      "\n",
      "\n",
      "1/1 [==============================] - 0s 49ms/step\n",
      "\n",
      "\n",
      "\n",
      "\n",
      "\n",
      "\n",
      "1/1 [==============================] - 0s 48ms/step\n",
      "\n",
      "\n",
      "\n",
      "\n",
      "\n",
      "\n",
      "\n",
      "\n",
      "\n",
      "\n",
      "\n",
      "\n",
      "\n",
      "\n",
      "\n",
      "\n",
      "\n",
      "\n",
      "\n",
      "\n",
      "1/1 [==============================] - 0s 57ms/step\n",
      "\n",
      "\n",
      "\n",
      "\n",
      "\n",
      "1/1 [==============================] - 0s 49ms/step\n",
      "\n",
      "\n",
      "\n",
      "\n",
      "\n",
      "\n",
      "1/1 [==============================] - 0s 55ms/step\n",
      "\n",
      "\n",
      "\n",
      "\n",
      "\n",
      "\n",
      "\n",
      "\n",
      "\n",
      "\n",
      "\n",
      "\n",
      "1/1 [==============================] - 0s 50ms/step\n",
      "\n",
      "\n",
      "\n",
      "\n",
      "\n",
      "\n",
      "\n",
      "1/1 [==============================] - 0s 69ms/step\n",
      "\n",
      "\n",
      "\n",
      "\n",
      "\n",
      "\n",
      "\n",
      "\n",
      "\n",
      "\n",
      "1/1 [==============================] - 0s 60ms/step\n",
      "\n",
      "\n",
      "\n",
      "1/1 [==============================] - 0s 50ms/step\n",
      "\n",
      "1/1 [==============================] - 0s 62ms/step\n",
      "\n",
      "\n",
      "1/1 [==============================] - 0s 69ms/step\n",
      "\n",
      "\n",
      "\n",
      "\n",
      "\n",
      "1/1 [==============================] - 0s 64ms/step\n",
      "\n",
      "\n",
      "\n",
      "\n",
      "\n",
      "\n",
      "\n",
      "1/1 [==============================] - 0s 67ms/step\n",
      "1/1 [==============================] - 0s 70ms/step\n",
      "\n",
      "1/1 [==============================] - 0s 61ms/step\n",
      "\n",
      "\n",
      "1/1 [==============================] - 0s 65ms/step\n",
      "\n",
      "\n",
      "\n",
      "1/1 [==============================] - 0s 68ms/step\n",
      "\n",
      "\n",
      "\n",
      "\n",
      "\n",
      "\n",
      "\n",
      "\n",
      "\n",
      "\n",
      "\n",
      "1/1 [==============================] - 0s 83ms/step\n",
      "\n",
      "\n",
      "\n",
      "\n",
      "\n",
      "1/1 [==============================] - 0s 60ms/step\n",
      "\n",
      "\n",
      "\n",
      "\n",
      "\n",
      "1/1 [==============================] - 0s 84ms/step\n",
      "1/1 [==============================] - 0s 65ms/step\n",
      "\n",
      "\n",
      "\n",
      "1/1 [==============================] - 0s 72ms/step\n",
      "\n",
      "\n",
      "\n",
      "\n",
      "\n",
      "\n",
      "\n",
      "1/1 [==============================] - 0s 85ms/step\n",
      "\n",
      "\n",
      "\n",
      "\n",
      "1/1 [==============================] - 0s 64ms/step\n",
      "\n",
      "\n",
      "\n",
      "\n",
      "\n",
      "\n",
      "\n",
      "1/1 [==============================] - 0s 67ms/step\n",
      "\n",
      "\n",
      "\n",
      "\n",
      "\n",
      "\n",
      "1/1 [==============================] - 0s 61ms/step\n",
      "\n",
      "\n",
      "\n",
      "\n",
      "\n",
      "\n",
      "\n",
      "\n",
      "\n",
      "\n",
      "\n",
      "\n",
      "\n",
      "\n",
      "\n",
      "\n",
      "\n",
      "\n",
      "\n",
      "\n",
      "1/1 [==============================] - 0s 58ms/step\n",
      "\n",
      "\n",
      "\n",
      "\n",
      "\n",
      "\n",
      "\n",
      "\n",
      "\n",
      "\n",
      "\n",
      "\n",
      "\n",
      "\n",
      "\n",
      "\n",
      "1/1 [==============================] - 0s 50ms/step\n",
      "\n",
      "\n",
      "\n",
      "\n",
      "1/1 [==============================] - 0s 52ms/step\n",
      "\n",
      "\n",
      "\n",
      "\n",
      "\n",
      "\n",
      "\n",
      "\n",
      "\n",
      "\n",
      "\n",
      "1/1 [==============================] - 0s 52ms/step\n",
      "\n",
      "\n",
      "\n",
      "\n",
      "\n",
      "\n",
      "\n",
      "\n",
      "\n",
      "\n",
      "\n",
      "\n",
      "\n",
      "\n",
      "\n",
      "\n",
      "\n",
      "\n",
      "1/1 [==============================] - 0s 54ms/step\n",
      "\n",
      "\n",
      "\n",
      "\n",
      "\n",
      "\n",
      "\n",
      "\n",
      "\n",
      "\n",
      "1/1 [==============================] - 0s 53ms/step\n",
      "\n",
      "1/1 [==============================] - 0s 61ms/step\n",
      "\n",
      "\n",
      "\n",
      "\n",
      "\n",
      "\n",
      "1/1 [==============================] - 0s 50ms/step\n",
      "1/1 [==============================] - 0s 58ms/step\n",
      "\n",
      "\n",
      "\n",
      "\n",
      "\n",
      "\n",
      "\n",
      "1/1 [==============================] - 0s 60ms/step\n",
      "\n",
      "\n",
      "\n",
      "\n",
      "\n",
      "\n",
      "\n",
      "\n",
      "\n",
      "\n",
      "\n",
      "\n",
      "\n",
      "\n",
      "\n",
      "\n",
      "\n",
      "\n",
      "\n",
      "\n",
      "\n",
      "\n",
      "1/1 [==============================] - 0s 53ms/step\n",
      "\n",
      "\n",
      "\n",
      "\n",
      "\n",
      "\n",
      "\n",
      "\n",
      "\n",
      "\n",
      "\n",
      "\n",
      "\n",
      "\n",
      "\n",
      "\n",
      "\n",
      "\n",
      "\n",
      "\n",
      "\n",
      "\n",
      "1/1 [==============================] - 0s 56ms/step\n",
      "\n",
      "\n",
      "\n",
      "\n",
      "\n",
      "\n",
      "\n",
      "\n",
      "\n",
      "\n",
      "\n",
      "\n",
      "1/1 [==============================] - 0s 57ms/step\n",
      "\n",
      "\n",
      "\n",
      "1/1 [==============================] - 0s 50ms/step\n",
      "1/1 [==============================] - 0s 56ms/step\n",
      "\n",
      "\n",
      "\n",
      "\n",
      "\n",
      "\n",
      "\n",
      "\n",
      "\n",
      "\n",
      "\n",
      "\n",
      "\n",
      "\n",
      "\n",
      "\n",
      "1/1 [==============================] - 0s 50ms/step\n",
      "\n",
      "1/1 [==============================] - 0s 67ms/step\n",
      "\n",
      "\n",
      "\n",
      "\n",
      "\n",
      "\n",
      "\n",
      "\n",
      "\n",
      "\n",
      "\n",
      "\n",
      "\n",
      "\n",
      "\n",
      "\n",
      "\n",
      "\n",
      "\n",
      "\n",
      "\n",
      "\n",
      "\n",
      "\n",
      "\n",
      "\n",
      "\n",
      "\n",
      "\n",
      "\n",
      "\n",
      "\n",
      "1/1 [==============================] - 0s 79ms/step\n",
      "\n",
      "\n",
      "\n",
      "\n",
      "\n",
      "\n",
      "1/1 [==============================] - 0s 58ms/step\n",
      "\n",
      "\n",
      "\n",
      "\n",
      "\n",
      "\n",
      "\n",
      "\n",
      "\n",
      "\n",
      "\n",
      "\n",
      "\n",
      "\n",
      "\n",
      "\n",
      "\n",
      "\n",
      "\n",
      "\n",
      "\n",
      "\n",
      "\n",
      "\n",
      "\n",
      "\n",
      "\n",
      "\n",
      "\n",
      "\n",
      "\n",
      "\n",
      "\n",
      "\n",
      "1/1 [==============================] - 0s 68ms/step\n",
      "\n",
      "\n",
      "\n",
      "\n",
      "\n",
      "\n",
      "\n",
      "\n",
      "\n",
      "\n",
      "1/1 [==============================] - 0s 61ms/step\n",
      "\n",
      "\n",
      "\n",
      "\n",
      "1/1 [==============================] - 0s 50ms/step\n",
      "\n",
      "\n",
      "\n",
      "\n",
      "\n",
      "\n",
      "\n",
      "1/1 [==============================] - 0s 48ms/step\n",
      "\n",
      "\n",
      "1/1 [==============================] - 0s 60ms/step\n",
      "\n",
      "\n",
      "\n",
      "\n",
      "1/1 [==============================] - 0s 53ms/step\n",
      "\n",
      "\n",
      "\n",
      "1/1 [==============================] - 0s 56ms/step\n",
      "\n",
      "\n",
      "\n",
      "\n",
      "\n",
      "\n",
      "\n",
      "\n",
      "\n",
      "\n",
      "\n",
      "\n",
      "\n",
      "\n",
      "\n",
      "\n",
      "\n",
      "\n",
      "\n",
      "\n",
      "\n",
      "\n",
      "\n",
      "\n",
      "\n",
      "\n",
      "1/1 [==============================] - 0s 93ms/step\n",
      "1/1 [==============================] - 0s 61ms/step\n",
      "\n",
      "1/1 [==============================] - 0s 66ms/step\n",
      "\n",
      "1/1 [==============================] - 0s 72ms/step\n",
      "1/1 [==============================] - 0s 64ms/step\n",
      "\n",
      "\n",
      "\n",
      "\n",
      "\n",
      "\n",
      "\n",
      "\n",
      "\n",
      "\n",
      "\n",
      "\n",
      "\n",
      "\n",
      "\n",
      "\n",
      "\n",
      "\n",
      "\n",
      "\n",
      "\n",
      "\n",
      "\n",
      "\n",
      "\n",
      "\n",
      "\n",
      "\n",
      "\n",
      "\n",
      "\n",
      "\n",
      "\n",
      "\n",
      "\n",
      "\n",
      "\n",
      "\n",
      "\n",
      "\n",
      "\n",
      "\n",
      "\n",
      "\n",
      "\n",
      "\n",
      "\n",
      "\n",
      "\n",
      "\n",
      "\n",
      "\n",
      "\n",
      "\n",
      "\n",
      "\n",
      "\n",
      "\n",
      "\n",
      "\n",
      "\n",
      "\n",
      "\n",
      "\n",
      "\n",
      "1/1 [==============================] - 0s 62ms/step\n",
      "\n",
      "\n",
      "1/1 [==============================] - 0s 83ms/step\n",
      "\n",
      "\n",
      "\n",
      "\n",
      "\n",
      "\n",
      "\n",
      "\n",
      "\n",
      "\n",
      "\n",
      "\n",
      "\n",
      "\n",
      "\n",
      "\n",
      "\n",
      "\n",
      "1/1 [==============================] - 0s 57ms/step\n",
      "\n",
      "\n",
      "\n",
      "1/1 [==============================] - 0s 66ms/step\n",
      "1/1 [==============================] - 0s 71ms/step\n",
      "\n",
      "\n",
      "\n",
      "\n",
      "\n",
      "\n",
      "\n",
      "\n",
      "\n",
      "\n",
      "\n",
      "1/1 [==============================] - 0s 81ms/step\n",
      "\n",
      "\n",
      "\n",
      "\n",
      "\n",
      "\n",
      "\n",
      "\n",
      "\n",
      "\n",
      "\n",
      "\n",
      "\n",
      "1/1 [==============================] - 0s 61ms/step\n",
      "\n",
      "\n",
      "\n",
      "\n",
      "1/1 [==============================] - 0s 96ms/step\n",
      "\n",
      "\n",
      "1/1 [==============================] - 0s 58ms/step\n",
      "\n",
      "\n",
      "1/1 [==============================] - 0s 64ms/step\n",
      "\n",
      "1/1 [==============================] - 0s 100ms/step\n",
      "\n",
      "\n",
      "\n",
      "\n",
      "\n",
      "\n",
      "\n",
      "\n",
      "\n",
      "\n",
      "\n",
      "\n",
      "\n",
      "\n",
      "\n",
      "\n",
      "\n",
      "\n",
      "\n",
      "\n",
      "1/1 [==============================] - 0s 72ms/step\n",
      "\n",
      "\n",
      "\n",
      "\n",
      "\n",
      "\n",
      "\n",
      "\n",
      "\n",
      "\n",
      "\n",
      "\n",
      "\n",
      "\n",
      "\n",
      "\n",
      "1/1 [==============================] - 0s 60ms/step\n",
      "\n",
      "\n",
      "\n",
      "\n",
      "\n",
      "\n",
      "\n",
      "\n",
      "\n",
      "\n",
      "\n",
      "\n",
      "\n",
      "\n",
      "\n",
      "\n",
      "1/1 [==============================] - 0s 52ms/step\n",
      "\n",
      "\n",
      "\n",
      "\n",
      "\n",
      "\n",
      "1/1 [==============================] - 0s 63ms/step\n",
      "\n",
      "\n",
      "\n",
      "\n",
      "\n",
      "\n",
      "\n",
      "1/1 [==============================] - 0s 63ms/step\n",
      "\n",
      "\n",
      "\n",
      "\n",
      "\n",
      "\n",
      "\n",
      "\n",
      "\n",
      "\n",
      "\n",
      "\n",
      "\n",
      "\n",
      "\n",
      "\n",
      "\n",
      "\n",
      "\n",
      "\n",
      "\n",
      "\n",
      "\n",
      "\n",
      "\n",
      "\n",
      "\n",
      "\n",
      "\n",
      "\n",
      "\n",
      "\n",
      "\n",
      "\n",
      "\n",
      "\n",
      "\n",
      "\n",
      "\n",
      "\n",
      "\n",
      "\n",
      "\n",
      "\n",
      "\n",
      "\n",
      "\n",
      "1/1 [==============================] - 0s 49ms/step\n",
      "\n",
      "\n",
      "\n",
      "\n",
      "1/1 [==============================] - 0s 56ms/step\n",
      "\n",
      "1/1 [==============================] - 0s 56ms/step\n",
      "\n",
      "1/1 [==============================] - 0s 61ms/step\n",
      "\n",
      "1/1 [==============================] - 0s 51ms/step\n",
      "\n",
      "\n",
      "1/1 [==============================] - 0s 67ms/step\n",
      "\n",
      "\n",
      "\n",
      "\n",
      "1/1 [==============================] - 0s 51ms/step\n",
      "1/1 [==============================] - 0s 69ms/step\n",
      "\n",
      "\n",
      "\n",
      "\n",
      "\n",
      "\n",
      "\n",
      "\n",
      "\n",
      "\n",
      "\n",
      "\n",
      "\n",
      "\n",
      "\n",
      "\n",
      "\n",
      "\n",
      "\n",
      "\n",
      "\n",
      "\n",
      "\n",
      "\n",
      "1/1 [==============================] - 0s 49ms/step\n",
      "\n",
      "\n",
      "\n",
      "1/1 [==============================] - 0s 54ms/step\n",
      "\n",
      "\n",
      "\n",
      "\n",
      "\n",
      "1/1 [==============================] - 0s 75ms/step\n",
      "\n",
      "\n",
      "\n",
      "\n",
      "\n",
      "1/1 [==============================] - 0s 64ms/step\n",
      "\n",
      "\n",
      "\n",
      "\n",
      "\n",
      "\n",
      "\n",
      "\n",
      "\n",
      "\n",
      "\n",
      "\n",
      "1/1 [==============================] - 0s 71ms/step\n",
      "\n",
      "\n",
      "\n",
      "\n",
      "\n",
      "\n",
      "\n",
      "\n",
      "\n",
      "\n",
      "\n",
      "\n",
      "\n",
      "\n",
      "\n",
      "\n",
      "\n",
      "1/1 [==============================] - 0s 63ms/step\n",
      "\n",
      "\n",
      "\n",
      "\n",
      "\n",
      "\n",
      "1/1 [==============================] - 0s 62ms/step\n",
      "1/1 [==============================] - 0s 82ms/step\n",
      "\n",
      "\n",
      "\n",
      "\n",
      "\n",
      "\n",
      "\n",
      "\n",
      "\n",
      "\n",
      "\n",
      "\n",
      "\n",
      "\n",
      "\n",
      "\n",
      "\n",
      "\n",
      "\n",
      "\n",
      "\n",
      "\n",
      "\n",
      "\n",
      "\n",
      "\n",
      "\n",
      "\n",
      "\n",
      "\n",
      "1/1 [==============================] - 0s 62ms/step\n",
      "\n",
      "\n",
      "\n",
      "\n",
      "\n",
      "\n",
      "\n",
      "\n",
      "\n",
      "\n",
      "\n",
      "\n",
      "1/1 [==============================] - 0s 59ms/step\n",
      "\n",
      "\n",
      "\n",
      "\n",
      "\n",
      "\n",
      "\n",
      "\n",
      "\n",
      "\n",
      "1/1 [==============================] - 0s 70ms/step\n",
      "\n",
      "\n",
      "\n",
      "\n",
      "\n",
      "\n",
      "1/1 [==============================] - 0s 60ms/step\n",
      "\n",
      "\n",
      "\n",
      "\n",
      "\n",
      "\n",
      "\n",
      "\n",
      "\n",
      "1/1 [==============================] - 0s 68ms/step\n",
      "\n",
      "\n",
      "\n",
      "\n",
      "\n",
      "\n",
      "\n",
      "\n",
      "\n"
     ]
    },
    {
     "name": "stdout",
     "output_type": "stream",
     "text": [
      "1/1 [==============================] - 0s 61ms/step\n",
      "\n",
      "\n",
      "\n",
      "\n",
      "\n",
      "\n",
      "\n",
      "1/1 [==============================] - 0s 65ms/step\n",
      "\n",
      "\n",
      "\n",
      "\n",
      "\n",
      "1/1 [==============================] - 0s 52ms/step\n",
      "\n",
      "1/1 [==============================] - 0s 48ms/step\n",
      "\n",
      "1/1 [==============================] - 0s 63ms/step\n",
      "\n",
      "\n",
      "\n",
      "\n",
      "\n",
      "\n",
      "1/1 [==============================] - 0s 50ms/step\n",
      "\n",
      "\n",
      "1/1 [==============================] - 0s 54ms/step\n",
      "\n",
      "\n",
      "\n",
      "\n",
      "\n",
      "1/1 [==============================] - 0s 61ms/step\n",
      "\n",
      "\n",
      "\n",
      "\n",
      "\n",
      "1/1 [==============================] - 0s 50ms/step\n",
      "1/1 [==============================] - 0s 67ms/step\n",
      "\n",
      "\n",
      "\n",
      "\n",
      "\n",
      "\n",
      "1/1 [==============================] - 0s 50ms/step\n",
      "\n",
      "\n",
      "1/1 [==============================] - 0s 52ms/step\n",
      "\n",
      "\n",
      "1/1 [==============================] - 0s 49ms/step\n",
      "\n",
      "1/1 [==============================] - 0s 49ms/step\n",
      "\n",
      "\n",
      "\n",
      "\n",
      "\n",
      "\n",
      "\n",
      "\n",
      "\n",
      "1/1 [==============================] - 0s 53ms/step\n",
      "\n",
      "\n",
      "1/1 [==============================] - 0s 50ms/step\n",
      "\n",
      "\n",
      "\n",
      "\n",
      "\n",
      "\n",
      "1/1 [==============================] - 0s 53ms/step\n",
      "\n",
      "\n",
      "\n",
      "\n",
      "\n",
      "\n",
      "1/1 [==============================] - 0s 53ms/step\n",
      "\n",
      "\n",
      "\n",
      "\n",
      "\n",
      "\n",
      "\n",
      "\n",
      "\n",
      "\n",
      "\n",
      "\n",
      "\n",
      "\n",
      "\n",
      "1/1 [==============================] - 0s 50ms/step\n",
      "\n",
      "\n",
      "\n",
      "1/1 [==============================] - 0s 60ms/step\n",
      "\n",
      "\n",
      "\n",
      "\n",
      "\n",
      "\n",
      "\n",
      "\n",
      "1/1 [==============================] - 0s 50ms/step\n",
      "\n",
      "\n",
      "\n",
      "\n",
      "\n",
      "\n",
      "\n",
      "\n",
      "\n",
      "\n",
      "\n",
      "\n",
      "\n",
      "\n",
      "\n",
      "\n",
      "\n",
      "\n",
      "\n",
      "\n",
      "\n",
      "\n",
      "\n",
      "\n",
      "\n",
      "\n",
      "\n",
      "\n",
      "\n",
      "\n",
      "1/1 [==============================] - 0s 79ms/step\n",
      "\n",
      "\n",
      "1/1 [==============================] - 0s 59ms/step\n",
      "\n",
      "\n",
      "\n",
      "\n",
      "1/1 [==============================] - 0s 71ms/step\n",
      "\n",
      "\n",
      "\n",
      "\n",
      "\n",
      "\n",
      "\n",
      "\n",
      "\n",
      "1/1 [==============================] - 0s 59ms/step\n",
      "\n",
      "\n",
      "\n",
      "\n",
      "\n",
      "1/1 [==============================] - 0s 56ms/step\n",
      "\n",
      "\n",
      "\n",
      "\n",
      "\n",
      "\n",
      "1/1 [==============================] - 0s 61ms/step\n",
      "\n",
      "\n",
      "\n",
      "\n",
      "\n",
      "1/1 [==============================] - 0s 65ms/step\n",
      "\n",
      "\n",
      "\n",
      "\n",
      "\n",
      "\n",
      "\n",
      "1/1 [==============================] - 0s 83ms/step\n",
      "\n",
      "1/1 [==============================] - 0s 64ms/step\n",
      "\n",
      "\n",
      "\n",
      "\n",
      "\n",
      "\n",
      "\n",
      "\n",
      "\n",
      "\n",
      "\n",
      "\n",
      "\n",
      "\n",
      "\n",
      "\n",
      "\n",
      "\n",
      "\n",
      "\n",
      "\n",
      "\n",
      "1/1 [==============================] - 0s 60ms/step\n",
      "\n",
      "\n",
      "\n",
      "\n",
      "\n",
      "\n",
      "1/1 [==============================] - 0s 66ms/step\n",
      "\n",
      "\n",
      "\n",
      "\n",
      "\n",
      "\n",
      "\n",
      "1/1 [==============================] - 0s 65ms/step\n",
      "\n",
      "\n",
      "\n",
      "\n",
      "\n",
      "\n",
      "\n",
      "1/1 [==============================] - 0s 60ms/step\n",
      "\n",
      "\n",
      "1/1 [==============================] - 0s 81ms/step\n",
      "\n",
      "\n",
      "\n",
      "\n",
      "\n",
      "\n",
      "\n",
      "\n",
      "\n",
      "\n",
      "\n",
      "\n",
      "1/1 [==============================] - 0s 60ms/step\n",
      "\n",
      "\n",
      "1/1 [==============================] - 0s 70ms/step\n",
      "\n",
      "\n",
      "\n",
      "\n",
      "\n",
      "\n",
      "\n",
      "\n",
      "1/1 [==============================] - 0s 61ms/step\n",
      "\n",
      "\n",
      "\n",
      "\n",
      "\n",
      "\n",
      "1/1 [==============================] - 0s 60ms/step\n",
      "\n",
      "\n",
      "\n",
      "\n",
      "\n",
      "\n",
      "\n",
      "\n",
      "\n",
      "\n",
      "\n",
      "\n",
      "\n",
      "\n",
      "\n",
      "\n",
      "\n",
      "\n",
      "\n",
      "\n",
      "\n",
      "\n",
      "\n",
      "\n",
      "\n",
      "\n",
      "\n",
      "\n",
      "\n",
      "\n",
      "\n",
      "\n",
      "\n",
      "\n",
      "\n",
      "\n",
      "\n",
      "\n",
      "\n",
      "\n",
      "\n",
      "\n",
      "\n",
      "\n",
      "\n",
      "\n",
      "\n",
      "\n",
      "1/1 [==============================] - 0s 56ms/step\n",
      "\n",
      "\n",
      "\n",
      "\n",
      "\n",
      "\n",
      "1/1 [==============================] - 0s 50ms/step\n",
      "\n",
      "\n",
      "\n",
      "1/1 [==============================] - 0s 52ms/step\n",
      "1/1 [==============================] - 0s 58ms/step\n",
      "\n",
      "\n",
      "1/1 [==============================] - 0s 51ms/step\n",
      "\n",
      "\n",
      "\n",
      "1/1 [==============================] - 0s 52ms/step\n",
      "\n",
      "\n",
      "\n",
      "\n",
      "\n",
      "\n",
      "\n",
      "\n",
      "\n",
      "\n",
      "\n",
      "\n",
      "\n",
      "\n",
      "\n",
      "\n",
      "\n",
      "\n",
      "\n",
      "1/1 [==============================] - 0s 49ms/step\n",
      "\n",
      "\n",
      "\n",
      "\n",
      "\n",
      "\n",
      "\n",
      "\n",
      "\n",
      "1/1 [==============================] - 0s 51ms/step\n",
      "\n",
      "\n",
      "\n",
      "\n",
      "\n",
      "\n",
      "1/1 [==============================] - 0s 56ms/step\n",
      "\n",
      "1/1 [==============================] - 0s 50ms/step\n",
      "\n",
      "\n",
      "\n",
      "\n",
      "\n",
      "\n",
      "\n",
      "1/1 [==============================] - 0s 56ms/step\n",
      "1/1 [==============================] - 0s 55ms/step\n",
      "\n",
      "\n",
      "\n",
      "\n",
      "\n",
      "\n",
      "\n",
      "\n",
      "\n",
      "\n",
      "\n",
      "\n",
      "\n",
      "1/1 [==============================] - 0s 63ms/step\n",
      "\n",
      "\n",
      "\n",
      "\n",
      "\n",
      "\n",
      "\n",
      "\n",
      "\n",
      "\n",
      "\n",
      "\n",
      "\n",
      "\n",
      "\n",
      "1/1 [==============================] - 0s 70ms/step\n",
      "\n",
      "\n",
      "\n",
      "\n",
      "\n",
      "\n",
      "\n",
      "\n",
      "1/1 [==============================] - 0s 64ms/step\n",
      "\n",
      "\n",
      "\n",
      "1/1 [==============================] - 0s 50ms/step\n",
      "\n",
      "1/1 [==============================] - 0s 63ms/step\n",
      "\n",
      "\n",
      "\n",
      "\n",
      "\n",
      "\n",
      "\n",
      "\n",
      "\n",
      "\n",
      "\n",
      "1/1 [==============================] - 0s 57ms/step\n",
      "\n",
      "\n",
      "\n",
      "1/1 [==============================] - 0s 49ms/step\n",
      "\n",
      "\n",
      "\n",
      "1/1 [==============================] - 0s 60ms/step\n",
      "\n",
      "\n",
      "\n",
      "\n",
      "\n",
      "\n",
      "\n",
      "\n",
      "\n",
      "\n",
      "\n",
      "\n",
      "\n",
      "1/1 [==============================] - 0s 83ms/step\n",
      "\n",
      "\n",
      "\n",
      "1/1 [==============================] - 0s 89ms/step\n",
      "\n",
      "\n",
      "\n",
      "\n",
      "\n",
      "\n",
      "\n",
      "\n",
      "\n",
      "\n",
      "\n",
      "\n",
      "\n",
      "\n",
      "\n",
      "\n",
      "\n",
      "\n",
      "\n",
      "\n",
      "\n",
      "\n",
      "\n",
      "\n",
      "1/1 [==============================] - 0s 58ms/step\n",
      "\n",
      "\n",
      "\n",
      "\n",
      "\n",
      "1/1 [==============================] - 0s 58ms/step\n",
      "\n",
      "\n",
      "\n",
      "\n",
      "\n",
      "\n",
      "\n",
      "\n",
      "\n",
      "1/1 [==============================] - 0s 62ms/step\n",
      "\n",
      "\n",
      "\n",
      "\n",
      "\n",
      "\n",
      "\n",
      "\n",
      "1/1 [==============================] - 0s 60ms/step\n",
      "\n",
      "1/1 [==============================] - 0s 60ms/step\n",
      "\n",
      "\n",
      "\n",
      "\n",
      "\n",
      "\n",
      "\n",
      "\n",
      "\n",
      "\n",
      "\n",
      "\n",
      "1/1 [==============================] - 0s 76ms/step\n",
      "\n",
      "\n",
      "\n",
      "\n",
      "\n",
      "1/1 [==============================] - 0s 65ms/step\n",
      "\n",
      "\n",
      "\n",
      "\n",
      "\n",
      "\n",
      "\n",
      "1/1 [==============================] - 0s 57ms/step\n",
      "\n",
      "1/1 [==============================] - 0s 65ms/step\n",
      "1/1 [==============================] - 0s 66ms/step\n",
      "\n",
      "\n",
      "\n",
      "\n",
      "1/1 [==============================] - 0s 62ms/step\n",
      "\n",
      "\n",
      "1/1 [==============================] - 0s 61ms/step\n",
      "\n",
      "\n",
      "\n",
      "\n",
      "\n",
      "\n",
      "\n",
      "\n",
      "\n",
      "\n",
      "\n",
      "\n",
      "\n",
      "\n",
      "\n",
      "\n",
      "\n",
      "\n",
      "\n",
      "\n",
      "\n",
      "\n",
      "\n",
      "\n",
      "\n",
      "\n",
      "\n",
      "\n",
      "\n",
      "\n",
      "\n",
      "\n",
      "\n",
      "\n",
      "\n",
      "\n",
      "\n",
      "\n",
      "\n",
      "\n",
      "\n",
      "\n",
      "\n",
      "\n",
      "\n",
      "\n",
      "\n",
      "\n",
      "\n",
      "1/1 [==============================] - 0s 60ms/step\n",
      "\n",
      "\n",
      "\n",
      "\n",
      "\n",
      "\n",
      "\n",
      "\n",
      "\n",
      "\n",
      "\n",
      "1/1 [==============================] - 0s 62ms/step\n",
      "\n",
      "\n",
      "\n",
      "\n",
      "\n",
      "\n",
      "\n",
      "\n",
      "\n",
      "\n",
      "\n",
      "\n",
      "\n",
      "\n",
      "\n",
      "\n",
      "\n",
      "1/1 [==============================] - 0s 50ms/step\n",
      "\n",
      "\n",
      "\n",
      "\n",
      "\n",
      "\n",
      "\n",
      "\n",
      "\n",
      "\n",
      "\n",
      "\n",
      "\n",
      "\n",
      "\n",
      "\n",
      "1/1 [==============================] - 0s 57ms/step\n",
      "\n",
      "\n",
      "\n",
      "\n",
      "\n",
      "\n",
      "\n",
      "\n",
      "\n",
      "\n",
      "\n",
      "\n",
      "\n",
      "\n",
      "1/1 [==============================] - 0s 55ms/step\n",
      "\n",
      "\n",
      "\n",
      "\n",
      "\n",
      "\n",
      "\n",
      "\n",
      "\n",
      "\n",
      "1/1 [==============================] - 0s 49ms/step\n",
      "\n",
      "\n",
      "\n",
      "\n",
      "\n",
      "\n",
      "\n",
      "\n",
      "\n",
      "\n",
      "\n",
      "\n",
      "\n",
      "\n",
      "\n",
      "1/1 [==============================] - 0s 49ms/step\n",
      "\n",
      "\n",
      "\n",
      "\n",
      "\n",
      "\n",
      "\n",
      "\n",
      "1/1 [==============================] - 0s 54ms/step\n",
      "\n",
      "\n",
      "\n",
      "\n",
      "\n",
      "\n",
      "\n",
      "\n",
      "\n",
      "1/1 [==============================] - 0s 58ms/step\n",
      "\n",
      "\n",
      "1/1 [==============================] - 0s 54ms/step\n",
      "\n",
      "\n",
      "\n",
      "\n",
      "\n",
      "\n",
      "\n",
      "\n",
      "\n",
      "\n",
      "1/1 [==============================] - 0s 49ms/step\n",
      "\n",
      "\n",
      "\n",
      "\n",
      "\n",
      "\n",
      "\n",
      "\n",
      "\n",
      "\n",
      "\n",
      "\n",
      "\n",
      "\n",
      "\n",
      "\n",
      "\n",
      "\n",
      "\n",
      "\n",
      "\n",
      "\n",
      "\n",
      "\n",
      "\n",
      "\n",
      "\n",
      "\n",
      "\n",
      "\n",
      "1/1 [==============================] - 0s 52ms/step\n",
      "\n",
      "\n",
      "\n",
      "\n",
      "\n",
      "\n",
      "\n",
      "\n",
      "\n",
      "\n",
      "\n",
      "\n",
      "\n",
      "\n",
      "\n",
      "\n",
      "\n",
      "\n",
      "\n",
      "\n",
      "\n",
      "\n",
      "\n",
      "\n",
      "\n",
      "\n",
      "\n",
      "\n",
      "1/1 [==============================] - 0s 56ms/step\n",
      "\n",
      "1/1 [==============================] - 0s 63ms/step\n",
      "\n",
      "\n",
      "\n",
      "\n",
      "\n",
      "\n",
      "\n",
      "\n",
      "\n",
      "\n",
      "\n",
      "\n",
      "1/1 [==============================] - 0s 62ms/step\n",
      "\n",
      "\n",
      "\n",
      "\n",
      "1/1 [==============================] - 0s 54ms/step\n",
      "\n",
      "\n",
      "\n",
      "\n",
      "\n",
      "\n",
      "\n",
      "\n",
      "\n",
      "\n",
      "\n",
      "\n",
      "\n",
      "\n",
      "\n",
      "\n",
      "\n",
      "\n",
      "\n",
      "\n",
      "\n",
      "\n",
      "\n",
      "\n",
      "\n",
      "\n",
      "\n",
      "\n",
      "1/1 [==============================] - 0s 49ms/step\n",
      "\n",
      "\n",
      "\n",
      "\n",
      "\n",
      "\n",
      "\n",
      "\n",
      "\n",
      "\n",
      "1/1 [==============================] - 0s 51ms/step\n",
      "\n",
      "\n",
      "\n",
      "\n",
      "\n",
      "\n",
      "\n",
      "\n",
      "\n",
      "\n",
      "\n",
      "\n",
      "\n",
      "1/1 [==============================] - 0s 53ms/step\n",
      "\n",
      "\n",
      "\n",
      "1/1 [==============================] - 0s 59ms/step\n",
      "\n",
      "\n",
      "\n",
      "\n",
      "\n",
      "\n",
      "\n",
      "\n",
      "\n",
      "\n",
      "\n",
      "\n",
      "\n",
      "\n",
      "\n",
      "\n",
      "\n",
      "\n",
      "1/1 [==============================] - 0s 54ms/step\n",
      "\n",
      "\n",
      "\n",
      "\n",
      "\n",
      "\n",
      "\n",
      "\n",
      "\n",
      "\n",
      "\n",
      "\n",
      "\n",
      "\n",
      "\n",
      "1/1 [==============================] - 0s 52ms/step\n",
      "\n",
      "1/1 [==============================] - 0s 60ms/step\n",
      "1/1 [==============================] - 0s 56ms/step\n",
      "\n",
      "\n",
      "\n",
      "\n",
      "\n",
      "\n",
      "\n",
      "\n",
      "\n",
      "\n",
      "\n",
      "1/1 [==============================] - 0s 58ms/step\n",
      "\n",
      "\n",
      "\n",
      "\n",
      "\n",
      "\n",
      "\n",
      "\n",
      "\n",
      "1/1 [==============================] - 0s 64ms/step\n",
      "\n",
      "\n",
      "1/1 [==============================] - 0s 61ms/step\n",
      "\n",
      "\n",
      "1/1 [==============================] - 0s 73ms/step\n",
      "1/1 [==============================] - 0s 76ms/step\n",
      "\n",
      "\n",
      "\n",
      "\n",
      "\n",
      "\n",
      "\n",
      "460\n",
      "43\n",
      "91.45129224652088\n"
     ]
    }
   ],
   "source": [
    "Benar = 0\n",
    "Salah = 0\n",
    "for i in range(5000):\n",
    "    try:\n",
    "        gambar = \"E:\\\\Capstone_Project\\\\runningan\\\\depressionvsnormal\\\\testing\\\\Normal\\\\Normal{}.jpg\".format(i)\n",
    "        resp = identifikasi_gambar(gambar)\n",
    "        if resp == \"Normal\":\n",
    "            Benar+=1\n",
    "        else:\n",
    "            Salah+=1\n",
    "    except:\n",
    "        print(\"\")\n",
    "        \n",
    "totalpersen = Benar / (Benar+Salah)*100\n",
    "print(Benar)\n",
    "print(Salah)\n",
    "print(totalpersen)\n",
    "#memprediksi testing 89% benar untuk cek normal untuk keseluruhan testing"
   ]
  },
  {
   "cell_type": "code",
   "execution_count": 35,
   "metadata": {},
   "outputs": [
    {
     "name": "stdout",
     "output_type": "stream",
     "text": [
      "1/1 [==============================] - 0s 62ms/step\n",
      "Depresi\n"
     ]
    },
    {
     "data": {
      "image/png": "[encoded data removed]",
      "text/plain": [
       "<Figure size 432x288 with 1 Axes>"
      ]
     },
     "metadata": {},
     "output_type": "display_data"
    }
   ],
   "source": [
    "audio_file = \"E:\\Capstone_Project\\Depressionvsnormal\\Depression\\Depression4.wav\"\n",
    "hasil = transform_audio_to_spectogram_to_testing(audio_file)\n",
    "\n",
    "print(hasil)"
   ]
  },
  {
   "cell_type": "code",
   "execution_count": 36,
   "metadata": {},
   "outputs": [
    {
     "name": "stdout",
     "output_type": "stream",
     "text": [
      "Requirement already satisfied: jsons in c:\\users\\fiansyah\\anaconda3\\lib\\site-packages (1.6.2)\n",
      "Requirement already satisfied: typish>=1.9.2 in c:\\users\\fiansyah\\anaconda3\\lib\\site-packages (from jsons) (1.9.3)\n"
     ]
    },
    {
     "name": "stderr",
     "output_type": "stream",
     "text": [
      "WARNING: You are using pip version 22.0.4; however, version 22.1.1 is available.\n",
      "You should consider upgrading via the 'C:\\Users\\fiansyah\\anaconda3\\python.exe -m pip install --upgrade pip' command.\n"
     ]
    }
   ],
   "source": [
    "!pip install jsons\n",
    "import jsons\n",
    "from flask import Flask, jsonify, request"
   ]
  },
  {
   "cell_type": "code",
   "execution_count": null,
   "metadata": {},
   "outputs": [
    {
     "name": "stdout",
     "output_type": "stream",
     "text": [
      "1/1 [==============================] - 0s 47ms/step\n"
     ]
    },
    {
     "name": "stderr",
     "output_type": "stream",
     "text": [
      "127.0.0.1 - - [2022-06-03 04:59:34] \"POST /predict HTTP/1.1\" 200 159 0.156254\n"
     ]
    },
    {
     "name": "stdout",
     "output_type": "stream",
     "text": [
      "1/1 [==============================] - 0s 53ms/step\n"
     ]
    },
    {
     "name": "stderr",
     "output_type": "stream",
     "text": [
      "127.0.0.1 - - [2022-06-03 04:59:34] \"POST /predict HTTP/1.1\" 200 159 0.206482\n"
     ]
    },
    {
     "name": "stdout",
     "output_type": "stream",
     "text": [
      "1/1 [==============================] - 0s 78ms/step\n",
      "1/1 [==============================] - 0s 53ms/step\n"
     ]
    },
    {
     "name": "stderr",
     "output_type": "stream",
     "text": [
      "127.0.0.1 - - [2022-06-03 04:59:35] \"POST /predict HTTP/1.1\" 200 159 0.288929\n",
      "127.0.0.1 - - [2022-06-03 04:59:35] \"POST /predict HTTP/1.1\" 200 159 0.166457\n"
     ]
    },
    {
     "name": "stdout",
     "output_type": "stream",
     "text": [
      "1/1 [==============================] - 0s 57ms/step\n"
     ]
    },
    {
     "name": "stderr",
     "output_type": "stream",
     "text": [
      "127.0.0.1 - - [2022-06-03 04:59:35] \"POST /predict HTTP/1.1\" 200 160 0.207407\n"
     ]
    },
    {
     "name": "stdout",
     "output_type": "stream",
     "text": [
      "1/1 [==============================] - 0s 49ms/step\n"
     ]
    },
    {
     "name": "stderr",
     "output_type": "stream",
     "text": [
      "127.0.0.1 - - [2022-06-03 04:59:35] \"POST /predict HTTP/1.1\" 200 159 0.259311\n"
     ]
    },
    {
     "name": "stdout",
     "output_type": "stream",
     "text": [
      "1/1 [==============================] - 0s 60ms/step\n"
     ]
    },
    {
     "name": "stderr",
     "output_type": "stream",
     "text": [
      "127.0.0.1 - - [2022-06-03 04:59:36] \"POST /predict HTTP/1.1\" 200 159 0.189005\n"
     ]
    },
    {
     "name": "stdout",
     "output_type": "stream",
     "text": [
      "1/1 [==============================] - 0s 57ms/step\n"
     ]
    },
    {
     "name": "stderr",
     "output_type": "stream",
     "text": [
      "127.0.0.1 - - [2022-06-03 04:59:36] \"POST /predict HTTP/1.1\" 200 159 0.166683\n"
     ]
    },
    {
     "name": "stdout",
     "output_type": "stream",
     "text": [
      "1/1 [==============================] - 0s 60ms/step\n"
     ]
    },
    {
     "name": "stderr",
     "output_type": "stream",
     "text": [
      "127.0.0.1 - - [2022-06-03 04:59:36] \"POST /predict HTTP/1.1\" 200 159 0.197002\n"
     ]
    },
    {
     "name": "stdout",
     "output_type": "stream",
     "text": [
      "1/1 [==============================] - 0s 67ms/step\n"
     ]
    },
    {
     "name": "stderr",
     "output_type": "stream",
     "text": [
      "127.0.0.1 - - [2022-06-03 04:59:36] \"POST /predict HTTP/1.1\" 200 159 0.199491\n"
     ]
    },
    {
     "name": "stdout",
     "output_type": "stream",
     "text": [
      "1/1 [==============================] - 0s 88ms/step\n"
     ]
    },
    {
     "name": "stderr",
     "output_type": "stream",
     "text": [
      "127.0.0.1 - - [2022-06-03 04:59:37] \"POST /predict HTTP/1.1\" 200 159 0.216887\n"
     ]
    },
    {
     "name": "stdout",
     "output_type": "stream",
     "text": [
      "1/1 [==============================] - 0s 68ms/step\n"
     ]
    },
    {
     "name": "stderr",
     "output_type": "stream",
     "text": [
      "127.0.0.1 - - [2022-06-03 04:59:37] \"POST /predict HTTP/1.1\" 200 159 0.212615\n"
     ]
    },
    {
     "name": "stdout",
     "output_type": "stream",
     "text": [
      "1/1 [==============================] - 0s 60ms/step\n"
     ]
    },
    {
     "name": "stderr",
     "output_type": "stream",
     "text": [
      "127.0.0.1 - - [2022-06-03 04:59:37] \"POST /predict HTTP/1.1\" 200 159 0.185232\n"
     ]
    },
    {
     "name": "stdout",
     "output_type": "stream",
     "text": [
      "1/1 [==============================] - 0s 62ms/step\n"
     ]
    },
    {
     "name": "stderr",
     "output_type": "stream",
     "text": [
      "127.0.0.1 - - [2022-06-03 04:59:37] \"POST /predict HTTP/1.1\" 200 159 0.296900\n"
     ]
    },
    {
     "name": "stdout",
     "output_type": "stream",
     "text": [
      "1/1 [==============================] - 0s 40ms/step\n"
     ]
    },
    {
     "name": "stderr",
     "output_type": "stream",
     "text": [
      "127.0.0.1 - - [2022-06-03 04:59:38] \"POST /predict HTTP/1.1\" 200 159 0.245397\n"
     ]
    },
    {
     "name": "stdout",
     "output_type": "stream",
     "text": [
      "1/1 [==============================] - 0s 63ms/step\n"
     ]
    },
    {
     "name": "stderr",
     "output_type": "stream",
     "text": [
      "127.0.0.1 - - [2022-06-03 04:59:38] \"POST /predict HTTP/1.1\" 200 159 0.390279\n"
     ]
    },
    {
     "name": "stdout",
     "output_type": "stream",
     "text": [
      "1/1 [==============================] - 0s 78ms/step\n"
     ]
    },
    {
     "name": "stderr",
     "output_type": "stream",
     "text": [
      "127.0.0.1 - - [2022-06-03 04:59:39] \"POST /predict HTTP/1.1\" 200 159 0.352037\n"
     ]
    },
    {
     "name": "stdout",
     "output_type": "stream",
     "text": [
      "1/1 [==============================] - 0s 84ms/step\n"
     ]
    },
    {
     "name": "stderr",
     "output_type": "stream",
     "text": [
      "127.0.0.1 - - [2022-06-03 04:59:39] \"POST /predict HTTP/1.1\" 200 159 0.245081\n"
     ]
    },
    {
     "name": "stdout",
     "output_type": "stream",
     "text": [
      "1/1 [==============================] - 0s 62ms/step\n"
     ]
    },
    {
     "name": "stderr",
     "output_type": "stream",
     "text": [
      "127.0.0.1 - - [2022-06-03 04:59:39] \"POST /predict HTTP/1.1\" 200 159 0.357382\n"
     ]
    },
    {
     "name": "stdout",
     "output_type": "stream",
     "text": [
      "1/1 [==============================] - 0s 75ms/step\n"
     ]
    },
    {
     "name": "stderr",
     "output_type": "stream",
     "text": [
      "127.0.0.1 - - [2022-06-03 04:59:40] \"POST /predict HTTP/1.1\" 200 160 0.292708\n",
      "C:\\Users\\fiansyah\\AppData\\Local\\Temp/ipykernel_2492/812359392.py:46: RuntimeWarning: More than 20 figures have been opened. Figures created through the pyplot interface (`matplotlib.pyplot.figure`) are retained until explicitly closed and may consume too much memory. (To control this warning, see the rcParam `figure.max_open_warning`).\n",
      "  fig, ax = plt.subplots()\n"
     ]
    },
    {
     "name": "stdout",
     "output_type": "stream",
     "text": [
      "1/1 [==============================] - 0s 77ms/step\n"
     ]
    },
    {
     "name": "stderr",
     "output_type": "stream",
     "text": [
      "127.0.0.1 - - [2022-06-03 04:59:40] \"POST /predict HTTP/1.1\" 200 159 0.298567\n"
     ]
    },
    {
     "name": "stdout",
     "output_type": "stream",
     "text": [
      "1/1 [==============================] - 0s 45ms/step\n"
     ]
    },
    {
     "name": "stderr",
     "output_type": "stream",
     "text": [
      "127.0.0.1 - - [2022-06-03 04:59:40] \"POST /predict HTTP/1.1\" 200 159 0.244809\n"
     ]
    },
    {
     "name": "stdout",
     "output_type": "stream",
     "text": [
      "1/1 [==============================] - 0s 63ms/step\n"
     ]
    },
    {
     "name": "stderr",
     "output_type": "stream",
     "text": [
      "127.0.0.1 - - [2022-06-03 04:59:40] \"POST /predict HTTP/1.1\" 200 159 0.229585\n"
     ]
    },
    {
     "name": "stdout",
     "output_type": "stream",
     "text": [
      "1/1 [==============================] - 0s 60ms/step\n"
     ]
    },
    {
     "name": "stderr",
     "output_type": "stream",
     "text": [
      "127.0.0.1 - - [2022-06-03 04:59:41] \"POST /predict HTTP/1.1\" 200 159 0.211000\n"
     ]
    },
    {
     "name": "stdout",
     "output_type": "stream",
     "text": [
      "1/1 [==============================] - 0s 47ms/step\n"
     ]
    },
    {
     "name": "stderr",
     "output_type": "stream",
     "text": [
      "127.0.0.1 - - [2022-06-03 04:59:41] \"POST /predict HTTP/1.1\" 200 159 0.262793\n"
     ]
    },
    {
     "name": "stdout",
     "output_type": "stream",
     "text": [
      "1/1 [==============================] - 0s 56ms/step\n"
     ]
    },
    {
     "name": "stderr",
     "output_type": "stream",
     "text": [
      "127.0.0.1 - - [2022-06-03 04:59:41] \"POST /predict HTTP/1.1\" 200 159 0.241649\n"
     ]
    },
    {
     "name": "stdout",
     "output_type": "stream",
     "text": [
      "1/1 [==============================] - 0s 59ms/step\n"
     ]
    },
    {
     "name": "stderr",
     "output_type": "stream",
     "text": [
      "127.0.0.1 - - [2022-06-03 04:59:42] \"POST /predict HTTP/1.1\" 200 159 0.192998\n"
     ]
    },
    {
     "name": "stdout",
     "output_type": "stream",
     "text": [
      "1/1 [==============================] - 0s 78ms/step\n"
     ]
    },
    {
     "name": "stderr",
     "output_type": "stream",
     "text": [
      "127.0.0.1 - - [2022-06-03 04:59:42] \"POST /predict HTTP/1.1\" 200 159 0.200694\n"
     ]
    },
    {
     "name": "stdout",
     "output_type": "stream",
     "text": [
      "1/1 [==============================] - 0s 70ms/step\n",
      "1/1 [==============================] - ETA: 0s"
     ]
    },
    {
     "name": "stderr",
     "output_type": "stream",
     "text": [
      "127.0.0.1 - - [2022-06-03 04:59:42] \"POST /predict HTTP/1.1\" 200 159 0.214510\n"
     ]
    },
    {
     "name": "stdout",
     "output_type": "stream",
     "text": [
      "\b\b\b\b\b\b\b\b\b\b\b\b\b\b\b\b\b\b\b\b\b\b\b\b\b\b\b\b\b\b\b\b\b\b\b\b\b\b\b\b\b\b\b\b\b\b\r",
      "1/1 [==============================] - 0s 47ms/step\n"
     ]
    },
    {
     "name": "stderr",
     "output_type": "stream",
     "text": [
      "127.0.0.1 - - [2022-06-03 04:59:42] \"POST /predict HTTP/1.1\" 200 159 0.187506\n"
     ]
    },
    {
     "name": "stdout",
     "output_type": "stream",
     "text": [
      "1/1 [==============================] - 0s 58ms/step\n",
      "1/1 [==============================] - ETA: 0s"
     ]
    },
    {
     "name": "stderr",
     "output_type": "stream",
     "text": [
      "127.0.0.1 - - [2022-06-03 04:59:43] \"POST /predict HTTP/1.1\" 200 159 0.239581\n"
     ]
    },
    {
     "name": "stdout",
     "output_type": "stream",
     "text": [
      "\b\b\b\b\b\b\b\b\b\b\b\b\b\b\b\b\b\b\b\b\b\b\b\b\b\b\b\b\b\b\b\b\b\b\b\b\b\b\b\b\b\b\b\b\b\b\r",
      "1/1 [==============================] - 0s 62ms/step\n"
     ]
    },
    {
     "name": "stderr",
     "output_type": "stream",
     "text": [
      "127.0.0.1 - - [2022-06-03 04:59:43] \"POST /predict HTTP/1.1\" 200 159 0.171242\n"
     ]
    },
    {
     "name": "stdout",
     "output_type": "stream",
     "text": [
      "1/1 [==============================] - 0s 57ms/step\n"
     ]
    },
    {
     "name": "stderr",
     "output_type": "stream",
     "text": [
      "127.0.0.1 - - [2022-06-03 04:59:43] \"POST /predict HTTP/1.1\" 200 159 0.225780\n"
     ]
    },
    {
     "name": "stdout",
     "output_type": "stream",
     "text": [
      "1/1 [==============================] - 0s 63ms/step\n"
     ]
    },
    {
     "name": "stderr",
     "output_type": "stream",
     "text": [
      "127.0.0.1 - - [2022-06-03 04:59:43] \"POST /predict HTTP/1.1\" 200 160 0.286266\n"
     ]
    },
    {
     "name": "stdout",
     "output_type": "stream",
     "text": [
      "1/1 [==============================] - 0s 54ms/step\n"
     ]
    },
    {
     "name": "stderr",
     "output_type": "stream",
     "text": [
      "127.0.0.1 - - [2022-06-03 04:59:44] \"POST /predict HTTP/1.1\" 200 159 0.163276\n"
     ]
    },
    {
     "name": "stdout",
     "output_type": "stream",
     "text": [
      "1/1 [==============================] - 0s 58ms/step\n"
     ]
    },
    {
     "name": "stderr",
     "output_type": "stream",
     "text": [
      "127.0.0.1 - - [2022-06-03 04:59:44] \"POST /predict HTTP/1.1\" 200 159 0.204009\n"
     ]
    },
    {
     "name": "stdout",
     "output_type": "stream",
     "text": [
      "1/1 [==============================] - 0s 54ms/step\n"
     ]
    },
    {
     "name": "stderr",
     "output_type": "stream",
     "text": [
      "127.0.0.1 - - [2022-06-03 04:59:44] \"POST /predict HTTP/1.1\" 200 159 0.374833\n"
     ]
    },
    {
     "name": "stdout",
     "output_type": "stream",
     "text": [
      "1/1 [==============================] - 0s 53ms/step\n"
     ]
    },
    {
     "name": "stderr",
     "output_type": "stream",
     "text": [
      "127.0.0.1 - - [2022-06-03 04:59:44] \"POST /predict HTTP/1.1\" 200 160 0.208024\n"
     ]
    },
    {
     "name": "stdout",
     "output_type": "stream",
     "text": [
      "1/1 [==============================] - 0s 61ms/step\n"
     ]
    },
    {
     "name": "stderr",
     "output_type": "stream",
     "text": [
      "127.0.0.1 - - [2022-06-03 04:59:45] \"POST /predict HTTP/1.1\" 200 159 0.192385\n"
     ]
    },
    {
     "name": "stdout",
     "output_type": "stream",
     "text": [
      "1/1 [==============================] - 0s 112ms/step\n"
     ]
    },
    {
     "name": "stderr",
     "output_type": "stream",
     "text": [
      "127.0.0.1 - - [2022-06-03 04:59:45] \"POST /predict HTTP/1.1\" 200 159 0.267225\n"
     ]
    },
    {
     "name": "stdout",
     "output_type": "stream",
     "text": [
      "1/1 [==============================] - 0s 77ms/step\n"
     ]
    },
    {
     "name": "stderr",
     "output_type": "stream",
     "text": [
      "127.0.0.1 - - [2022-06-03 04:59:45] \"POST /predict HTTP/1.1\" 200 159 0.372148\n"
     ]
    },
    {
     "name": "stdout",
     "output_type": "stream",
     "text": [
      "1/1 [==============================] - 0s 72ms/step\n"
     ]
    },
    {
     "name": "stderr",
     "output_type": "stream",
     "text": [
      "127.0.0.1 - - [2022-06-03 04:59:46] \"POST /predict HTTP/1.1\" 200 159 0.263447\n"
     ]
    },
    {
     "name": "stdout",
     "output_type": "stream",
     "text": [
      "1/1 [==============================] - 0s 83ms/step\n"
     ]
    },
    {
     "name": "stderr",
     "output_type": "stream",
     "text": [
      "127.0.0.1 - - [2022-06-03 04:59:46] \"POST /predict HTTP/1.1\" 200 159 0.293170\n"
     ]
    },
    {
     "name": "stdout",
     "output_type": "stream",
     "text": [
      "1/1 [==============================] - 0s 72ms/step\n"
     ]
    },
    {
     "name": "stderr",
     "output_type": "stream",
     "text": [
      "127.0.0.1 - - [2022-06-03 04:59:47] \"POST /predict HTTP/1.1\" 200 159 0.500983\n"
     ]
    },
    {
     "name": "stdout",
     "output_type": "stream",
     "text": [
      "1/1 [==============================] - 0s 84ms/step\n"
     ]
    },
    {
     "name": "stderr",
     "output_type": "stream",
     "text": [
      "127.0.0.1 - - [2022-06-03 04:59:47] \"POST /predict HTTP/1.1\" 200 159 0.351099\n"
     ]
    },
    {
     "name": "stdout",
     "output_type": "stream",
     "text": [
      "1/1 [==============================] - 0s 79ms/step\n"
     ]
    },
    {
     "name": "stderr",
     "output_type": "stream",
     "text": [
      "127.0.0.1 - - [2022-06-03 04:59:47] \"POST /predict HTTP/1.1\" 200 159 0.403557\n"
     ]
    },
    {
     "name": "stdout",
     "output_type": "stream",
     "text": [
      "1/1 [==============================] - 0s 62ms/step\n"
     ]
    },
    {
     "name": "stderr",
     "output_type": "stream",
     "text": [
      "127.0.0.1 - - [2022-06-03 04:59:48] \"POST /predict HTTP/1.1\" 200 159 0.250028\n"
     ]
    },
    {
     "name": "stdout",
     "output_type": "stream",
     "text": [
      "1/1 [==============================] - 0s 78ms/step\n"
     ]
    },
    {
     "name": "stderr",
     "output_type": "stream",
     "text": [
      "127.0.0.1 - - [2022-06-03 04:59:48] \"POST /predict HTTP/1.1\" 200 159 0.314543\n"
     ]
    },
    {
     "name": "stdout",
     "output_type": "stream",
     "text": [
      "1/1 [==============================] - 0s 78ms/step\n"
     ]
    },
    {
     "name": "stderr",
     "output_type": "stream",
     "text": [
      "127.0.0.1 - - [2022-06-03 04:59:48] \"POST /predict HTTP/1.1\" 200 159 0.309916\n"
     ]
    },
    {
     "name": "stdout",
     "output_type": "stream",
     "text": [
      "1/1 [==============================] - 0s 81ms/step\n"
     ]
    },
    {
     "name": "stderr",
     "output_type": "stream",
     "text": [
      "127.0.0.1 - - [2022-06-03 04:59:49] \"POST /predict HTTP/1.1\" 200 159 0.294820\n"
     ]
    },
    {
     "name": "stdout",
     "output_type": "stream",
     "text": [
      "1/1 [==============================] - 0s 54ms/step\n"
     ]
    },
    {
     "name": "stderr",
     "output_type": "stream",
     "text": [
      "127.0.0.1 - - [2022-06-03 04:59:49] \"POST /predict HTTP/1.1\" 200 159 0.234887\n"
     ]
    },
    {
     "name": "stdout",
     "output_type": "stream",
     "text": [
      "1/1 [==============================] - 0s 62ms/step\n"
     ]
    },
    {
     "name": "stderr",
     "output_type": "stream",
     "text": [
      "127.0.0.1 - - [2022-06-03 04:59:49] \"POST /predict HTTP/1.1\" 200 159 0.285645\n"
     ]
    },
    {
     "name": "stdout",
     "output_type": "stream",
     "text": [
      "1/1 [==============================] - 0s 59ms/step\n"
     ]
    },
    {
     "name": "stderr",
     "output_type": "stream",
     "text": [
      "127.0.0.1 - - [2022-06-03 04:59:50] \"POST /predict HTTP/1.1\" 200 159 0.338993\n"
     ]
    },
    {
     "name": "stdout",
     "output_type": "stream",
     "text": [
      "1/1 [==============================] - 0s 41ms/step\n"
     ]
    },
    {
     "name": "stderr",
     "output_type": "stream",
     "text": [
      "127.0.0.1 - - [2022-06-03 04:59:50] \"POST /predict HTTP/1.1\" 200 159 0.459786\n"
     ]
    },
    {
     "name": "stdout",
     "output_type": "stream",
     "text": [
      "1/1 [==============================] - 0s 65ms/step\n"
     ]
    },
    {
     "name": "stderr",
     "output_type": "stream",
     "text": [
      "127.0.0.1 - - [2022-06-03 04:59:51] \"POST /predict HTTP/1.1\" 200 159 0.204335\n"
     ]
    },
    {
     "name": "stdout",
     "output_type": "stream",
     "text": [
      "1/1 [==============================] - 0s 69ms/step\n"
     ]
    },
    {
     "name": "stderr",
     "output_type": "stream",
     "text": [
      "127.0.0.1 - - [2022-06-03 04:59:51] \"POST /predict HTTP/1.1\" 200 159 0.214560\n"
     ]
    },
    {
     "name": "stdout",
     "output_type": "stream",
     "text": [
      "1/1 [==============================] - 0s 68ms/step\n"
     ]
    },
    {
     "name": "stderr",
     "output_type": "stream",
     "text": [
      "127.0.0.1 - - [2022-06-03 04:59:51] \"POST /predict HTTP/1.1\" 200 159 0.226433\n"
     ]
    },
    {
     "name": "stdout",
     "output_type": "stream",
     "text": [
      "1/1 [==============================] - 0s 71ms/step\n",
      "1/1 [==============================] - ETA: 0s"
     ]
    },
    {
     "name": "stderr",
     "output_type": "stream",
     "text": [
      "127.0.0.1 - - [2022-06-03 04:59:51] \"POST /predict HTTP/1.1\" 200 159 0.215304\n"
     ]
    },
    {
     "name": "stdout",
     "output_type": "stream",
     "text": [
      "\b\b\b\b\b\b\b\b\b\b\b\b\b\b\b\b\b\b\b\b\b\b\b\b\b\b\b\b\b\b\b\b\b\b\b\b\b\b\b\b\b\b\b\b\b\b\r",
      "1/1 [==============================] - 0s 47ms/step\n"
     ]
    },
    {
     "name": "stderr",
     "output_type": "stream",
     "text": [
      "127.0.0.1 - - [2022-06-03 04:59:51] \"POST /predict HTTP/1.1\" 200 159 0.161055\n"
     ]
    },
    {
     "name": "stdout",
     "output_type": "stream",
     "text": [
      "1/1 [==============================] - 0s 59ms/step\n"
     ]
    },
    {
     "name": "stderr",
     "output_type": "stream",
     "text": [
      "127.0.0.1 - - [2022-06-03 04:59:52] \"POST /predict HTTP/1.1\" 200 159 0.187341\n"
     ]
    },
    {
     "name": "stdout",
     "output_type": "stream",
     "text": [
      "1/1 [==============================] - 0s 61ms/step\n"
     ]
    },
    {
     "name": "stderr",
     "output_type": "stream",
     "text": [
      "127.0.0.1 - - [2022-06-03 04:59:52] \"POST /predict HTTP/1.1\" 200 159 0.240700\n"
     ]
    },
    {
     "name": "stdout",
     "output_type": "stream",
     "text": [
      "1/1 [==============================] - 0s 63ms/step\n",
      "1/1 [==============================] - ETA: 0s"
     ]
    },
    {
     "name": "stderr",
     "output_type": "stream",
     "text": [
      "127.0.0.1 - - [2022-06-03 04:59:52] \"POST /predict HTTP/1.1\" 200 159 0.205948\n"
     ]
    },
    {
     "name": "stdout",
     "output_type": "stream",
     "text": [
      "\b\b\b\b\b\b\b\b\b\b\b\b\b\b\b\b\b\b\b\b\b\b\b\b\b\b\b\b\b\b\b\b\b\b\b\b\b\b\b\b\b\b\b\b\b\b\r",
      "1/1 [==============================] - 0s 45ms/step\n"
     ]
    },
    {
     "name": "stderr",
     "output_type": "stream",
     "text": [
      "127.0.0.1 - - [2022-06-03 04:59:52] \"POST /predict HTTP/1.1\" 200 159 0.195729\n"
     ]
    },
    {
     "name": "stdout",
     "output_type": "stream",
     "text": [
      "1/1 [==============================] - 0s 69ms/step\n"
     ]
    },
    {
     "name": "stderr",
     "output_type": "stream",
     "text": [
      "127.0.0.1 - - [2022-06-03 04:59:53] \"POST /predict HTTP/1.1\" 200 159 0.235892\n"
     ]
    },
    {
     "name": "stdout",
     "output_type": "stream",
     "text": [
      "1/1 [==============================] - 0s 56ms/step\n",
      "1/1 [==============================] - 0s 47ms/step\n"
     ]
    },
    {
     "name": "stderr",
     "output_type": "stream",
     "text": [
      "127.0.0.1 - - [2022-06-03 04:59:53] \"POST /predict HTTP/1.1\" 200 159 0.194790\n",
      "127.0.0.1 - - [2022-06-03 04:59:53] \"POST /predict HTTP/1.1\" 200 160 0.169300\n"
     ]
    },
    {
     "name": "stdout",
     "output_type": "stream",
     "text": [
      "1/1 [==============================] - 0s 62ms/step\n"
     ]
    },
    {
     "name": "stderr",
     "output_type": "stream",
     "text": [
      "127.0.0.1 - - [2022-06-03 04:59:53] \"POST /predict HTTP/1.1\" 200 159 0.165298\n"
     ]
    },
    {
     "name": "stdout",
     "output_type": "stream",
     "text": [
      "1/1 [==============================] - 0s 57ms/step\n"
     ]
    },
    {
     "name": "stderr",
     "output_type": "stream",
     "text": [
      "127.0.0.1 - - [2022-06-03 04:59:54] \"POST /predict HTTP/1.1\" 200 159 0.173353\n"
     ]
    },
    {
     "name": "stdout",
     "output_type": "stream",
     "text": [
      "1/1 [==============================] - 0s 67ms/step\n"
     ]
    },
    {
     "name": "stderr",
     "output_type": "stream",
     "text": [
      "127.0.0.1 - - [2022-06-03 04:59:54] \"POST /predict HTTP/1.1\" 200 160 0.178642\n"
     ]
    },
    {
     "name": "stdout",
     "output_type": "stream",
     "text": [
      "1/1 [==============================] - 0s 56ms/step\n"
     ]
    },
    {
     "name": "stderr",
     "output_type": "stream",
     "text": [
      "127.0.0.1 - - [2022-06-03 04:59:54] \"POST /predict HTTP/1.1\" 200 159 0.256765\n"
     ]
    },
    {
     "name": "stdout",
     "output_type": "stream",
     "text": [
      "1/1 [==============================] - 0s 69ms/step\n"
     ]
    },
    {
     "name": "stderr",
     "output_type": "stream",
     "text": [
      "127.0.0.1 - - [2022-06-03 04:59:54] \"POST /predict HTTP/1.1\" 200 159 0.265547\n"
     ]
    },
    {
     "name": "stdout",
     "output_type": "stream",
     "text": [
      "1/1 [==============================] - 0s 62ms/step\n"
     ]
    },
    {
     "name": "stderr",
     "output_type": "stream",
     "text": [
      "127.0.0.1 - - [2022-06-03 04:59:55] \"POST /predict HTTP/1.1\" 200 159 0.189424\n"
     ]
    },
    {
     "name": "stdout",
     "output_type": "stream",
     "text": [
      "1/1 [==============================] - 0s 67ms/step\n"
     ]
    },
    {
     "name": "stderr",
     "output_type": "stream",
     "text": [
      "127.0.0.1 - - [2022-06-03 04:59:55] \"POST /predict HTTP/1.1\" 200 159 0.221475\n"
     ]
    },
    {
     "name": "stdout",
     "output_type": "stream",
     "text": [
      "1/1 [==============================] - 0s 72ms/step\n"
     ]
    },
    {
     "name": "stderr",
     "output_type": "stream",
     "text": [
      "127.0.0.1 - - [2022-06-03 04:59:55] \"POST /predict HTTP/1.1\" 200 159 0.265526\n"
     ]
    },
    {
     "name": "stdout",
     "output_type": "stream",
     "text": [
      "1/1 [==============================] - 0s 67ms/step\n"
     ]
    },
    {
     "name": "stderr",
     "output_type": "stream",
     "text": [
      "127.0.0.1 - - [2022-06-03 04:59:56] \"POST /predict HTTP/1.1\" 200 159 0.268918\n"
     ]
    },
    {
     "name": "stdout",
     "output_type": "stream",
     "text": [
      "1/1 [==============================] - 0s 66ms/step\n"
     ]
    },
    {
     "name": "stderr",
     "output_type": "stream",
     "text": [
      "127.0.0.1 - - [2022-06-03 04:59:56] \"POST /predict HTTP/1.1\" 200 159 0.266612\n"
     ]
    },
    {
     "name": "stdout",
     "output_type": "stream",
     "text": [
      "1/1 [==============================] - 0s 78ms/step\n"
     ]
    },
    {
     "name": "stderr",
     "output_type": "stream",
     "text": [
      "127.0.0.1 - - [2022-06-03 04:59:56] \"POST /predict HTTP/1.1\" 200 159 0.282513\n"
     ]
    },
    {
     "name": "stdout",
     "output_type": "stream",
     "text": [
      "1/1 [==============================] - 0s 78ms/step\n"
     ]
    },
    {
     "name": "stderr",
     "output_type": "stream",
     "text": [
      "127.0.0.1 - - [2022-06-03 04:59:57] \"POST /predict HTTP/1.1\" 200 159 0.320836\n"
     ]
    },
    {
     "name": "stdout",
     "output_type": "stream",
     "text": [
      "1/1 [==============================] - 0s 83ms/step\n"
     ]
    },
    {
     "name": "stderr",
     "output_type": "stream",
     "text": [
      "127.0.0.1 - - [2022-06-03 04:59:57] \"POST /predict HTTP/1.1\" 200 159 0.252342\n"
     ]
    },
    {
     "name": "stdout",
     "output_type": "stream",
     "text": [
      "1/1 [==============================] - 0s 78ms/step\n"
     ]
    },
    {
     "name": "stderr",
     "output_type": "stream",
     "text": [
      "127.0.0.1 - - [2022-06-03 04:59:57] \"POST /predict HTTP/1.1\" 200 159 0.288604\n"
     ]
    },
    {
     "name": "stdout",
     "output_type": "stream",
     "text": [
      "1/1 [==============================] - 0s 77ms/step\n"
     ]
    },
    {
     "name": "stderr",
     "output_type": "stream",
     "text": [
      "127.0.0.1 - - [2022-06-03 04:59:57] \"POST /predict HTTP/1.1\" 200 160 0.248680\n"
     ]
    },
    {
     "name": "stdout",
     "output_type": "stream",
     "text": [
      "1/1 [==============================] - 0s 83ms/step\n"
     ]
    },
    {
     "name": "stderr",
     "output_type": "stream",
     "text": [
      "127.0.0.1 - - [2022-06-03 04:59:58] \"POST /predict HTTP/1.1\" 200 159 0.348002\n"
     ]
    },
    {
     "name": "stdout",
     "output_type": "stream",
     "text": [
      "1/1 [==============================] - 0s 75ms/step\n"
     ]
    },
    {
     "name": "stderr",
     "output_type": "stream",
     "text": [
      "127.0.0.1 - - [2022-06-03 04:59:58] \"POST /predict HTTP/1.1\" 200 159 0.243987\n"
     ]
    },
    {
     "name": "stdout",
     "output_type": "stream",
     "text": [
      "1/1 [==============================] - 0s 83ms/step\n"
     ]
    },
    {
     "name": "stderr",
     "output_type": "stream",
     "text": [
      "127.0.0.1 - - [2022-06-03 04:59:58] \"POST /predict HTTP/1.1\" 200 159 0.249423\n"
     ]
    },
    {
     "name": "stdout",
     "output_type": "stream",
     "text": [
      "1/1 [==============================] - 0s 87ms/step\n"
     ]
    },
    {
     "name": "stderr",
     "output_type": "stream",
     "text": [
      "127.0.0.1 - - [2022-06-03 04:59:59] \"POST /predict HTTP/1.1\" 200 159 0.216902\n"
     ]
    },
    {
     "name": "stdout",
     "output_type": "stream",
     "text": [
      "1/1 [==============================] - 0s 62ms/step\n"
     ]
    },
    {
     "name": "stderr",
     "output_type": "stream",
     "text": [
      "127.0.0.1 - - [2022-06-03 04:59:59] \"POST /predict HTTP/1.1\" 200 159 0.261630\n"
     ]
    },
    {
     "name": "stdout",
     "output_type": "stream",
     "text": [
      "1/1 [==============================] - 0s 58ms/step\n"
     ]
    },
    {
     "name": "stderr",
     "output_type": "stream",
     "text": [
      "127.0.0.1 - - [2022-06-03 04:59:59] \"POST /predict HTTP/1.1\" 200 159 0.178000\n"
     ]
    },
    {
     "name": "stdout",
     "output_type": "stream",
     "text": [
      "1/1 [==============================] - 0s 73ms/step\n"
     ]
    },
    {
     "name": "stderr",
     "output_type": "stream",
     "text": [
      "127.0.0.1 - - [2022-06-03 04:59:59] \"POST /predict HTTP/1.1\" 200 159 0.202002\n"
     ]
    },
    {
     "name": "stdout",
     "output_type": "stream",
     "text": [
      "1/1 [==============================] - 0s 64ms/step\n"
     ]
    },
    {
     "name": "stderr",
     "output_type": "stream",
     "text": [
      "127.0.0.1 - - [2022-06-03 05:00:00] \"POST /predict HTTP/1.1\" 200 159 0.198915\n"
     ]
    },
    {
     "name": "stdout",
     "output_type": "stream",
     "text": [
      "1/1 [==============================] - 0s 64ms/step\n"
     ]
    },
    {
     "name": "stderr",
     "output_type": "stream",
     "text": [
      "127.0.0.1 - - [2022-06-03 05:00:00] \"POST /predict HTTP/1.1\" 200 159 0.189538\n"
     ]
    },
    {
     "name": "stdout",
     "output_type": "stream",
     "text": [
      "1/1 [==============================] - 0s 62ms/step\n"
     ]
    },
    {
     "name": "stderr",
     "output_type": "stream",
     "text": [
      "127.0.0.1 - - [2022-06-03 05:00:00] \"POST /predict HTTP/1.1\" 200 159 0.182553\n"
     ]
    },
    {
     "name": "stdout",
     "output_type": "stream",
     "text": [
      "1/1 [==============================] - 0s 71ms/step\n"
     ]
    },
    {
     "name": "stderr",
     "output_type": "stream",
     "text": [
      "127.0.0.1 - - [2022-06-03 05:00:00] \"POST /predict HTTP/1.1\" 200 159 0.250467\n"
     ]
    },
    {
     "name": "stdout",
     "output_type": "stream",
     "text": [
      "1/1 [==============================] - 0s 56ms/step\n",
      "1/1 [==============================] - 0s 47ms/step\n"
     ]
    },
    {
     "name": "stderr",
     "output_type": "stream",
     "text": [
      "127.0.0.1 - - [2022-06-03 05:00:01] \"POST /predict HTTP/1.1\" 200 159 0.180505\n",
      "127.0.0.1 - - [2022-06-03 05:00:01] \"POST /predict HTTP/1.1\" 200 159 0.171185\n"
     ]
    },
    {
     "name": "stdout",
     "output_type": "stream",
     "text": [
      "1/1 [==============================] - 0s 62ms/step\n"
     ]
    },
    {
     "name": "stderr",
     "output_type": "stream",
     "text": [
      "127.0.0.1 - - [2022-06-03 05:00:01] \"POST /predict HTTP/1.1\" 200 159 0.184485\n"
     ]
    },
    {
     "name": "stdout",
     "output_type": "stream",
     "text": [
      "1/1 [==============================] - 0s 62ms/step\n"
     ]
    },
    {
     "name": "stderr",
     "output_type": "stream",
     "text": [
      "127.0.0.1 - - [2022-06-03 05:00:01] \"POST /predict HTTP/1.1\" 200 159 0.272786\n"
     ]
    },
    {
     "name": "stdout",
     "output_type": "stream",
     "text": [
      "1/1 [==============================] - 0s 56ms/step\n"
     ]
    },
    {
     "name": "stderr",
     "output_type": "stream",
     "text": [
      "127.0.0.1 - - [2022-06-03 05:00:02] \"POST /predict HTTP/1.1\" 200 159 0.255323\n"
     ]
    },
    {
     "name": "stdout",
     "output_type": "stream",
     "text": [
      "1/1 [==============================] - 0s 62ms/step\n"
     ]
    },
    {
     "name": "stderr",
     "output_type": "stream",
     "text": [
      "127.0.0.1 - - [2022-06-03 05:00:02] \"POST /predict HTTP/1.1\" 200 159 0.475103\n"
     ]
    },
    {
     "name": "stdout",
     "output_type": "stream",
     "text": [
      "1/1 [==============================] - 0s 59ms/step\n"
     ]
    },
    {
     "name": "stderr",
     "output_type": "stream",
     "text": [
      "127.0.0.1 - - [2022-06-03 05:00:03] \"POST /predict HTTP/1.1\" 200 159 0.254507\n"
     ]
    },
    {
     "name": "stdout",
     "output_type": "stream",
     "text": [
      "1/1 [==============================] - 0s 50ms/step\n"
     ]
    },
    {
     "name": "stderr",
     "output_type": "stream",
     "text": [
      "127.0.0.1 - - [2022-06-03 05:00:03] \"POST /predict HTTP/1.1\" 200 159 0.447750\n"
     ]
    },
    {
     "name": "stdout",
     "output_type": "stream",
     "text": [
      "1/1 [==============================] - 0s 76ms/step\n"
     ]
    },
    {
     "name": "stderr",
     "output_type": "stream",
     "text": [
      "127.0.0.1 - - [2022-06-03 05:00:04] \"POST /predict HTTP/1.1\" 200 159 0.523746\n"
     ]
    },
    {
     "name": "stdout",
     "output_type": "stream",
     "text": [
      "1/1 [==============================] - 0s 67ms/step\n"
     ]
    },
    {
     "name": "stderr",
     "output_type": "stream",
     "text": [
      "127.0.0.1 - - [2022-06-03 05:00:04] \"POST /predict HTTP/1.1\" 200 159 0.309517\n"
     ]
    },
    {
     "name": "stdout",
     "output_type": "stream",
     "text": [
      "1/1 [==============================] - 0s 87ms/step\n"
     ]
    },
    {
     "name": "stderr",
     "output_type": "stream",
     "text": [
      "127.0.0.1 - - [2022-06-03 05:00:04] \"POST /predict HTTP/1.1\" 200 160 0.248010\n"
     ]
    },
    {
     "name": "stdout",
     "output_type": "stream",
     "text": [
      "1/1 [==============================] - 0s 68ms/step\n"
     ]
    },
    {
     "name": "stderr",
     "output_type": "stream",
     "text": [
      "127.0.0.1 - - [2022-06-03 05:00:05] \"POST /predict HTTP/1.1\" 200 159 0.406011\n"
     ]
    },
    {
     "name": "stdout",
     "output_type": "stream",
     "text": [
      "1/1 [==============================] - 0s 73ms/step\n"
     ]
    },
    {
     "name": "stderr",
     "output_type": "stream",
     "text": [
      "127.0.0.1 - - [2022-06-03 05:00:05] \"POST /predict HTTP/1.1\" 200 160 0.341950\n"
     ]
    },
    {
     "name": "stdout",
     "output_type": "stream",
     "text": [
      "1/1 [==============================] - 0s 79ms/step\n"
     ]
    },
    {
     "name": "stderr",
     "output_type": "stream",
     "text": [
      "127.0.0.1 - - [2022-06-03 05:00:06] \"POST /predict HTTP/1.1\" 200 159 0.422347\n"
     ]
    },
    {
     "name": "stdout",
     "output_type": "stream",
     "text": [
      "1/1 [==============================] - 0s 71ms/step\n"
     ]
    },
    {
     "name": "stderr",
     "output_type": "stream",
     "text": [
      "127.0.0.1 - - [2022-06-03 05:00:06] \"POST /predict HTTP/1.1\" 200 159 0.404029\n"
     ]
    },
    {
     "name": "stdout",
     "output_type": "stream",
     "text": [
      "1/1 [==============================] - 0s 78ms/step\n"
     ]
    },
    {
     "name": "stderr",
     "output_type": "stream",
     "text": [
      "127.0.0.1 - - [2022-06-03 05:00:07] \"POST /predict HTTP/1.1\" 200 159 0.512758\n"
     ]
    },
    {
     "name": "stdout",
     "output_type": "stream",
     "text": [
      "1/1 [==============================] - 0s 64ms/step\n"
     ]
    },
    {
     "name": "stderr",
     "output_type": "stream",
     "text": [
      "127.0.0.1 - - [2022-06-03 05:00:07] \"POST /predict HTTP/1.1\" 200 159 0.211004\n"
     ]
    },
    {
     "name": "stdout",
     "output_type": "stream",
     "text": [
      "1/1 [==============================] - 0s 56ms/step\n"
     ]
    },
    {
     "name": "stderr",
     "output_type": "stream",
     "text": [
      "127.0.0.1 - - [2022-06-03 05:00:08] \"POST /predict HTTP/1.1\" 200 159 0.621199\n"
     ]
    },
    {
     "name": "stdout",
     "output_type": "stream",
     "text": [
      "1/1 [==============================] - 0s 82ms/step\n"
     ]
    },
    {
     "name": "stderr",
     "output_type": "stream",
     "text": [
      "127.0.0.1 - - [2022-06-03 05:00:08] \"POST /predict HTTP/1.1\" 200 159 0.180264\n"
     ]
    },
    {
     "name": "stdout",
     "output_type": "stream",
     "text": [
      "1/1 [==============================] - 0s 58ms/step\n"
     ]
    },
    {
     "name": "stderr",
     "output_type": "stream",
     "text": [
      "127.0.0.1 - - [2022-06-03 05:00:08] \"POST /predict HTTP/1.1\" 200 159 0.312004\n"
     ]
    },
    {
     "name": "stdout",
     "output_type": "stream",
     "text": [
      "1/1 [==============================] - 0s 77ms/step\n"
     ]
    },
    {
     "name": "stderr",
     "output_type": "stream",
     "text": [
      "127.0.0.1 - - [2022-06-03 05:00:08] \"POST /predict HTTP/1.1\" 200 160 0.261000\n"
     ]
    },
    {
     "name": "stdout",
     "output_type": "stream",
     "text": [
      "1/1 [==============================] - 0s 75ms/step\n"
     ]
    },
    {
     "name": "stderr",
     "output_type": "stream",
     "text": [
      "127.0.0.1 - - [2022-06-03 05:00:09] \"POST /predict HTTP/1.1\" 200 159 0.202228\n"
     ]
    },
    {
     "name": "stdout",
     "output_type": "stream",
     "text": [
      "1/1 [==============================] - 0s 57ms/step\n"
     ]
    },
    {
     "name": "stderr",
     "output_type": "stream",
     "text": [
      "127.0.0.1 - - [2022-06-03 05:00:09] \"POST /predict HTTP/1.1\" 200 159 0.449713\n"
     ]
    },
    {
     "name": "stdout",
     "output_type": "stream",
     "text": [
      "1/1 [==============================] - 0s 60ms/step\n"
     ]
    },
    {
     "name": "stderr",
     "output_type": "stream",
     "text": [
      "127.0.0.1 - - [2022-06-03 05:00:09] \"POST /predict HTTP/1.1\" 200 159 0.192342\n"
     ]
    },
    {
     "name": "stdout",
     "output_type": "stream",
     "text": [
      "1/1 [==============================] - 0s 62ms/step\n"
     ]
    },
    {
     "name": "stderr",
     "output_type": "stream",
     "text": [
      "127.0.0.1 - - [2022-06-03 05:00:10] \"POST /predict HTTP/1.1\" 200 159 0.231567\n"
     ]
    },
    {
     "name": "stdout",
     "output_type": "stream",
     "text": [
      "1/1 [==============================] - 0s 67ms/step\n"
     ]
    },
    {
     "name": "stderr",
     "output_type": "stream",
     "text": [
      "127.0.0.1 - - [2022-06-03 05:00:10] \"POST /predict HTTP/1.1\" 200 159 0.225551\n"
     ]
    },
    {
     "name": "stdout",
     "output_type": "stream",
     "text": [
      "1/1 [==============================] - 0s 68ms/step\n"
     ]
    },
    {
     "name": "stderr",
     "output_type": "stream",
     "text": [
      "127.0.0.1 - - [2022-06-03 05:00:10] \"POST /predict HTTP/1.1\" 200 159 0.284002\n"
     ]
    },
    {
     "name": "stdout",
     "output_type": "stream",
     "text": [
      "1/1 [==============================] - 0s 58ms/step\n"
     ]
    },
    {
     "name": "stderr",
     "output_type": "stream",
     "text": [
      "127.0.0.1 - - [2022-06-03 05:00:10] \"POST /predict HTTP/1.1\" 200 160 0.173626\n"
     ]
    },
    {
     "name": "stdout",
     "output_type": "stream",
     "text": [
      "1/1 [==============================] - 0s 62ms/step\n"
     ]
    },
    {
     "name": "stderr",
     "output_type": "stream",
     "text": [
      "127.0.0.1 - - [2022-06-03 05:00:11] \"POST /predict HTTP/1.1\" 200 159 0.423690\n"
     ]
    },
    {
     "name": "stdout",
     "output_type": "stream",
     "text": [
      "1/1 [==============================] - 0s 75ms/step\n"
     ]
    },
    {
     "name": "stderr",
     "output_type": "stream",
     "text": [
      "127.0.0.1 - - [2022-06-03 05:00:11] \"POST /predict HTTP/1.1\" 200 159 0.334229\n"
     ]
    },
    {
     "name": "stdout",
     "output_type": "stream",
     "text": [
      "1/1 [==============================] - 0s 62ms/step\n"
     ]
    },
    {
     "name": "stderr",
     "output_type": "stream",
     "text": [
      "127.0.0.1 - - [2022-06-03 05:00:12] \"POST /predict HTTP/1.1\" 200 159 0.880188\n"
     ]
    },
    {
     "name": "stdout",
     "output_type": "stream",
     "text": [
      "1/1 [==============================] - 0s 90ms/step\n"
     ]
    },
    {
     "name": "stderr",
     "output_type": "stream",
     "text": [
      "127.0.0.1 - - [2022-06-03 05:00:13] \"POST /predict HTTP/1.1\" 200 159 0.878927\n"
     ]
    },
    {
     "name": "stdout",
     "output_type": "stream",
     "text": [
      "1/1 [==============================] - 0s 83ms/step\n"
     ]
    },
    {
     "name": "stderr",
     "output_type": "stream",
     "text": [
      "127.0.0.1 - - [2022-06-03 05:00:14] \"POST /predict HTTP/1.1\" 200 159 0.506912\n"
     ]
    },
    {
     "name": "stdout",
     "output_type": "stream",
     "text": [
      "1/1 [==============================] - 0s 68ms/step\n"
     ]
    },
    {
     "name": "stderr",
     "output_type": "stream",
     "text": [
      "127.0.0.1 - - [2022-06-03 05:00:14] \"POST /predict HTTP/1.1\" 200 159 0.641840\n"
     ]
    },
    {
     "name": "stdout",
     "output_type": "stream",
     "text": [
      "1/1 [==============================] - 0s 83ms/step\n"
     ]
    },
    {
     "name": "stderr",
     "output_type": "stream",
     "text": [
      "127.0.0.1 - - [2022-06-03 05:00:15] \"POST /predict HTTP/1.1\" 200 160 0.228658\n"
     ]
    },
    {
     "name": "stdout",
     "output_type": "stream",
     "text": [
      "1/1 [==============================] - 0s 80ms/step\n"
     ]
    },
    {
     "name": "stderr",
     "output_type": "stream",
     "text": [
      "127.0.0.1 - - [2022-06-03 05:00:15] \"POST /predict HTTP/1.1\" 200 159 0.226189\n"
     ]
    },
    {
     "name": "stdout",
     "output_type": "stream",
     "text": [
      "1/1 [==============================] - 0s 62ms/step\n"
     ]
    },
    {
     "name": "stderr",
     "output_type": "stream",
     "text": [
      "127.0.0.1 - - [2022-06-03 05:00:15] \"POST /predict HTTP/1.1\" 200 159 0.380119\n"
     ]
    },
    {
     "name": "stdout",
     "output_type": "stream",
     "text": [
      "1/1 [==============================] - 0s 63ms/step\n"
     ]
    },
    {
     "name": "stderr",
     "output_type": "stream",
     "text": [
      "127.0.0.1 - - [2022-06-03 05:00:16] \"POST /predict HTTP/1.1\" 200 159 0.437074\n"
     ]
    },
    {
     "name": "stdout",
     "output_type": "stream",
     "text": [
      "1/1 [==============================] - 0s 75ms/step\n"
     ]
    },
    {
     "name": "stderr",
     "output_type": "stream",
     "text": [
      "127.0.0.1 - - [2022-06-03 05:00:16] \"POST /predict HTTP/1.1\" 200 160 0.272074\n"
     ]
    },
    {
     "name": "stdout",
     "output_type": "stream",
     "text": [
      "1/1 [==============================] - 0s 63ms/step\n"
     ]
    },
    {
     "name": "stderr",
     "output_type": "stream",
     "text": [
      "127.0.0.1 - - [2022-06-03 05:00:17] \"POST /predict HTTP/1.1\" 200 160 0.489195\n"
     ]
    },
    {
     "name": "stdout",
     "output_type": "stream",
     "text": [
      "1/1 [==============================] - 0s 66ms/step\n"
     ]
    },
    {
     "name": "stderr",
     "output_type": "stream",
     "text": [
      "127.0.0.1 - - [2022-06-03 05:00:17] \"POST /predict HTTP/1.1\" 200 159 0.195164\n"
     ]
    },
    {
     "name": "stdout",
     "output_type": "stream",
     "text": [
      "1/1 [==============================] - 0s 47ms/step\n"
     ]
    },
    {
     "name": "stderr",
     "output_type": "stream",
     "text": [
      "127.0.0.1 - - [2022-06-03 05:00:17] \"POST /predict HTTP/1.1\" 200 159 0.392225\n"
     ]
    },
    {
     "name": "stdout",
     "output_type": "stream",
     "text": [
      "1/1 [==============================] - 0s 62ms/step\n"
     ]
    },
    {
     "name": "stderr",
     "output_type": "stream",
     "text": [
      "127.0.0.1 - - [2022-06-03 05:00:18] \"POST /predict HTTP/1.1\" 200 160 0.418397\n"
     ]
    },
    {
     "name": "stdout",
     "output_type": "stream",
     "text": [
      "1/1 [==============================] - 0s 42ms/step\n"
     ]
    },
    {
     "name": "stderr",
     "output_type": "stream",
     "text": [
      "127.0.0.1 - - [2022-06-03 05:00:18] \"POST /predict HTTP/1.1\" 200 159 0.364886\n"
     ]
    },
    {
     "name": "stdout",
     "output_type": "stream",
     "text": [
      "1/1 [==============================] - 0s 58ms/step\n"
     ]
    },
    {
     "name": "stderr",
     "output_type": "stream",
     "text": [
      "127.0.0.1 - - [2022-06-03 05:00:19] \"POST /predict HTTP/1.1\" 200 160 0.342238\n"
     ]
    },
    {
     "name": "stdout",
     "output_type": "stream",
     "text": [
      "1/1 [==============================] - 0s 55ms/step\n"
     ]
    },
    {
     "name": "stderr",
     "output_type": "stream",
     "text": [
      "127.0.0.1 - - [2022-06-03 05:00:20] \"POST /predict HTTP/1.1\" 200 160 0.641993\n"
     ]
    },
    {
     "name": "stdout",
     "output_type": "stream",
     "text": [
      "1/1 [==============================] - 0s 64ms/step\n"
     ]
    },
    {
     "name": "stderr",
     "output_type": "stream",
     "text": [
      "127.0.0.1 - - [2022-06-03 05:00:20] \"POST /predict HTTP/1.1\" 200 160 0.383002\n"
     ]
    },
    {
     "name": "stdout",
     "output_type": "stream",
     "text": [
      "1/1 [==============================] - 0s 61ms/step\n"
     ]
    },
    {
     "name": "stderr",
     "output_type": "stream",
     "text": [
      "127.0.0.1 - - [2022-06-03 05:00:20] \"POST /predict HTTP/1.1\" 200 159 0.294154\n"
     ]
    },
    {
     "name": "stdout",
     "output_type": "stream",
     "text": [
      "1/1 [==============================] - 0s 58ms/step\n"
     ]
    },
    {
     "name": "stderr",
     "output_type": "stream",
     "text": [
      "127.0.0.1 - - [2022-06-03 05:00:21] \"POST /predict HTTP/1.1\" 200 159 0.319025\n"
     ]
    },
    {
     "name": "stdout",
     "output_type": "stream",
     "text": [
      "1/1 [==============================] - 0s 68ms/step\n"
     ]
    },
    {
     "name": "stderr",
     "output_type": "stream",
     "text": [
      "127.0.0.1 - - [2022-06-03 05:00:21] \"POST /predict HTTP/1.1\" 200 160 0.195601\n"
     ]
    },
    {
     "name": "stdout",
     "output_type": "stream",
     "text": [
      "1/1 [==============================] - 0s 63ms/step\n"
     ]
    },
    {
     "name": "stderr",
     "output_type": "stream",
     "text": [
      "127.0.0.1 - - [2022-06-03 05:00:21] \"POST /predict HTTP/1.1\" 200 159 0.293381\n"
     ]
    },
    {
     "name": "stdout",
     "output_type": "stream",
     "text": [
      "1/1 [==============================] - 0s 63ms/step\n"
     ]
    },
    {
     "name": "stderr",
     "output_type": "stream",
     "text": [
      "127.0.0.1 - - [2022-06-03 05:00:22] \"POST /predict HTTP/1.1\" 200 159 0.484866\n"
     ]
    },
    {
     "name": "stdout",
     "output_type": "stream",
     "text": [
      "1/1 [==============================] - 0s 62ms/step\n"
     ]
    },
    {
     "name": "stderr",
     "output_type": "stream",
     "text": [
      "127.0.0.1 - - [2022-06-03 05:00:22] \"POST /predict HTTP/1.1\" 200 159 0.291433\n"
     ]
    },
    {
     "name": "stdout",
     "output_type": "stream",
     "text": [
      "1/1 [==============================] - 0s 47ms/step\n"
     ]
    },
    {
     "name": "stderr",
     "output_type": "stream",
     "text": [
      "127.0.0.1 - - [2022-06-03 05:00:22] \"POST /predict HTTP/1.1\" 200 160 0.284299\n"
     ]
    },
    {
     "name": "stdout",
     "output_type": "stream",
     "text": [
      "1/1 [==============================] - 0s 71ms/step\n",
      "1/1 [==============================] - ETA: 0s"
     ]
    },
    {
     "name": "stderr",
     "output_type": "stream",
     "text": [
      "127.0.0.1 - - [2022-06-03 05:00:23] \"POST /predict HTTP/1.1\" 200 159 0.165085\n"
     ]
    },
    {
     "name": "stdout",
     "output_type": "stream",
     "text": [
      "\b\b\b\b\b\b\b\b\b\b\b\b\b\b\b\b\b\b\b\b\b\b\b\b\b\b\b\b\b\b\b\b\b\b\b\b\b\b\b\b\b\b\b\b\b\b\r",
      "1/1 [==============================] - 0s 47ms/step\n"
     ]
    },
    {
     "name": "stderr",
     "output_type": "stream",
     "text": [
      "127.0.0.1 - - [2022-06-03 05:00:23] \"POST /predict HTTP/1.1\" 200 160 0.168319\n"
     ]
    },
    {
     "name": "stdout",
     "output_type": "stream",
     "text": [
      "1/1 [==============================] - 0s 47ms/step\n"
     ]
    },
    {
     "name": "stderr",
     "output_type": "stream",
     "text": [
      "127.0.0.1 - - [2022-06-03 05:00:23] \"POST /predict HTTP/1.1\" 200 160 0.171884\n"
     ]
    },
    {
     "name": "stdout",
     "output_type": "stream",
     "text": [
      "1/1 [==============================] - 0s 62ms/step\n"
     ]
    },
    {
     "name": "stderr",
     "output_type": "stream",
     "text": [
      "127.0.0.1 - - [2022-06-03 05:00:23] \"POST /predict HTTP/1.1\" 200 159 0.187509\n"
     ]
    },
    {
     "name": "stdout",
     "output_type": "stream",
     "text": [
      "1/1 [==============================] - 0s 47ms/step\n"
     ]
    },
    {
     "name": "stderr",
     "output_type": "stream",
     "text": [
      "127.0.0.1 - - [2022-06-03 05:00:23] \"POST /predict HTTP/1.1\" 200 160 0.187503\n"
     ]
    },
    {
     "name": "stdout",
     "output_type": "stream",
     "text": [
      "1/1 [==============================] - 0s 62ms/step\n"
     ]
    },
    {
     "name": "stderr",
     "output_type": "stream",
     "text": [
      "127.0.0.1 - - [2022-06-03 05:00:24] \"POST /predict HTTP/1.1\" 200 159 0.453129\n"
     ]
    },
    {
     "name": "stdout",
     "output_type": "stream",
     "text": [
      "1/1 [==============================] - 0s 47ms/step\n"
     ]
    },
    {
     "name": "stderr",
     "output_type": "stream",
     "text": [
      "127.0.0.1 - - [2022-06-03 05:00:24] \"POST /predict HTTP/1.1\" 200 160 0.309242\n"
     ]
    },
    {
     "name": "stdout",
     "output_type": "stream",
     "text": [
      "1/1 [==============================] - 0s 47ms/step\n"
     ]
    },
    {
     "name": "stderr",
     "output_type": "stream",
     "text": [
      "127.0.0.1 - - [2022-06-03 05:00:25] \"POST /predict HTTP/1.1\" 200 160 0.468750\n"
     ]
    },
    {
     "name": "stdout",
     "output_type": "stream",
     "text": [
      "1/1 [==============================] - 0s 54ms/step\n",
      "1/1 [==============================] - ETA: 0s"
     ]
    },
    {
     "name": "stderr",
     "output_type": "stream",
     "text": [
      "127.0.0.1 - - [2022-06-03 05:00:25] \"POST /predict HTTP/1.1\" 200 160 0.359066\n"
     ]
    },
    {
     "name": "stdout",
     "output_type": "stream",
     "text": [
      "\b\b\b\b\b\b\b\b\b\b\b\b\b\b\b\b\b\b\b\b\b\b\b\b\b\b\b\b\b\b\b\b\b\b\b\b\b\b\b\b\b\b\b\b\b\b\r",
      "1/1 [==============================] - 0s 47ms/step\n"
     ]
    },
    {
     "name": "stderr",
     "output_type": "stream",
     "text": [
      "127.0.0.1 - - [2022-06-03 05:00:25] \"POST /predict HTTP/1.1\" 200 160 0.155545\n"
     ]
    },
    {
     "name": "stdout",
     "output_type": "stream",
     "text": [
      "1/1 [==============================] - 0s 89ms/step\n",
      "1/1 [==============================] - ETA: 0s"
     ]
    },
    {
     "name": "stderr",
     "output_type": "stream",
     "text": [
      "127.0.0.1 - - [2022-06-03 05:00:26] \"POST /predict HTTP/1.1\" 200 159 0.204313\n"
     ]
    },
    {
     "name": "stdout",
     "output_type": "stream",
     "text": [
      "\b\b\b\b\b\b\b\b\b\b\b\b\b\b\b\b\b\b\b\b\b\b\b\b\b\b\b\b\b\b\b\b\b\b\b\b\b\b\b\b\b\b\b\b\b\b\r",
      "1/1 [==============================] - 0s 62ms/step\n"
     ]
    },
    {
     "name": "stderr",
     "output_type": "stream",
     "text": [
      "127.0.0.1 - - [2022-06-03 05:00:26] \"POST /predict HTTP/1.1\" 200 159 0.196963\n"
     ]
    },
    {
     "name": "stdout",
     "output_type": "stream",
     "text": [
      "1/1 [==============================] - 0s 61ms/step\n"
     ]
    },
    {
     "name": "stderr",
     "output_type": "stream",
     "text": [
      "127.0.0.1 - - [2022-06-03 05:00:26] \"POST /predict HTTP/1.1\" 200 159 0.199512\n"
     ]
    },
    {
     "name": "stdout",
     "output_type": "stream",
     "text": [
      "1/1 [==============================] - 0s 63ms/step\n"
     ]
    },
    {
     "name": "stderr",
     "output_type": "stream",
     "text": [
      "127.0.0.1 - - [2022-06-03 05:00:26] \"POST /predict HTTP/1.1\" 200 159 0.256005\n"
     ]
    },
    {
     "name": "stdout",
     "output_type": "stream",
     "text": [
      "1/1 [==============================] - 0s 57ms/step\n"
     ]
    },
    {
     "name": "stderr",
     "output_type": "stream",
     "text": [
      "127.0.0.1 - - [2022-06-03 05:00:27] \"POST /predict HTTP/1.1\" 200 159 0.738004\n"
     ]
    },
    {
     "name": "stdout",
     "output_type": "stream",
     "text": [
      "1/1 [==============================] - 0s 63ms/step\n"
     ]
    },
    {
     "name": "stderr",
     "output_type": "stream",
     "text": [
      "127.0.0.1 - - [2022-06-03 05:00:28] \"POST /predict HTTP/1.1\" 200 159 0.289939\n"
     ]
    },
    {
     "name": "stdout",
     "output_type": "stream",
     "text": [
      "1/1 [==============================] - 0s 47ms/step\n"
     ]
    },
    {
     "name": "stderr",
     "output_type": "stream",
     "text": [
      "127.0.0.1 - - [2022-06-03 05:00:28] \"POST /predict HTTP/1.1\" 200 159 0.237627\n"
     ]
    },
    {
     "name": "stdout",
     "output_type": "stream",
     "text": [
      "1/1 [==============================] - 0s 63ms/step\n"
     ]
    },
    {
     "name": "stderr",
     "output_type": "stream",
     "text": [
      "127.0.0.1 - - [2022-06-03 05:00:28] \"POST /predict HTTP/1.1\" 200 159 0.564822\n"
     ]
    },
    {
     "name": "stdout",
     "output_type": "stream",
     "text": [
      "1/1 [==============================] - 0s 63ms/step\n"
     ]
    },
    {
     "name": "stderr",
     "output_type": "stream",
     "text": [
      "127.0.0.1 - - [2022-06-03 05:00:29] \"POST /predict HTTP/1.1\" 200 159 0.614845\n"
     ]
    },
    {
     "name": "stdout",
     "output_type": "stream",
     "text": [
      "1/1 [==============================] - 0s 47ms/step\n"
     ]
    },
    {
     "name": "stderr",
     "output_type": "stream",
     "text": [
      "127.0.0.1 - - [2022-06-03 05:00:29] \"POST /predict HTTP/1.1\" 200 159 0.281255\n"
     ]
    },
    {
     "name": "stdout",
     "output_type": "stream",
     "text": [
      "1/1 [==============================] - 0s 47ms/step\n"
     ]
    },
    {
     "name": "stderr",
     "output_type": "stream",
     "text": [
      "127.0.0.1 - - [2022-06-03 05:00:30] \"POST /predict HTTP/1.1\" 200 159 0.610514\n"
     ]
    },
    {
     "name": "stdout",
     "output_type": "stream",
     "text": [
      "1/1 [==============================] - 0s 47ms/step\n"
     ]
    },
    {
     "name": "stderr",
     "output_type": "stream",
     "text": [
      "127.0.0.1 - - [2022-06-03 05:00:31] \"POST /predict HTTP/1.1\" 200 159 0.500003\n"
     ]
    },
    {
     "name": "stdout",
     "output_type": "stream",
     "text": [
      "1/1 [==============================] - 0s 62ms/step\n"
     ]
    },
    {
     "name": "stderr",
     "output_type": "stream",
     "text": [
      "127.0.0.1 - - [2022-06-03 05:00:31] \"POST /predict HTTP/1.1\" 200 159 0.375006\n"
     ]
    },
    {
     "name": "stdout",
     "output_type": "stream",
     "text": [
      "1/1 [==============================] - 0s 47ms/step\n"
     ]
    },
    {
     "name": "stderr",
     "output_type": "stream",
     "text": [
      "127.0.0.1 - - [2022-06-03 05:00:31] \"POST /predict HTTP/1.1\" 200 160 0.203127\n"
     ]
    },
    {
     "name": "stdout",
     "output_type": "stream",
     "text": [
      "1/1 [==============================] - 0s 63ms/step\n"
     ]
    },
    {
     "name": "stderr",
     "output_type": "stream",
     "text": [
      "127.0.0.1 - - [2022-06-03 05:00:32] \"POST /predict HTTP/1.1\" 200 160 0.390636\n"
     ]
    },
    {
     "name": "stdout",
     "output_type": "stream",
     "text": [
      "1/1 [==============================] - 0s 47ms/step\n"
     ]
    },
    {
     "name": "stderr",
     "output_type": "stream",
     "text": [
      "127.0.0.1 - - [2022-06-03 05:00:32] \"POST /predict HTTP/1.1\" 200 160 0.171874\n"
     ]
    },
    {
     "name": "stdout",
     "output_type": "stream",
     "text": [
      "1/1 [==============================] - 0s 71ms/step\n"
     ]
    },
    {
     "name": "stderr",
     "output_type": "stream",
     "text": [
      "127.0.0.1 - - [2022-06-03 05:00:32] \"POST /predict HTTP/1.1\" 200 159 0.221934\n"
     ]
    },
    {
     "name": "stdout",
     "output_type": "stream",
     "text": [
      "1/1 [==============================] - 0s 64ms/step\n"
     ]
    },
    {
     "name": "stderr",
     "output_type": "stream",
     "text": [
      "127.0.0.1 - - [2022-06-03 05:00:33] \"POST /predict HTTP/1.1\" 200 159 0.267005\n"
     ]
    },
    {
     "name": "stdout",
     "output_type": "stream",
     "text": [
      "1/1 [==============================] - 0s 78ms/step\n"
     ]
    },
    {
     "name": "stderr",
     "output_type": "stream",
     "text": [
      "127.0.0.1 - - [2022-06-03 05:00:33] \"POST /predict HTTP/1.1\" 200 159 0.327116\n"
     ]
    },
    {
     "name": "stdout",
     "output_type": "stream",
     "text": [
      "1/1 [==============================] - 0s 75ms/step\n"
     ]
    },
    {
     "name": "stderr",
     "output_type": "stream",
     "text": [
      "127.0.0.1 - - [2022-06-03 05:00:33] \"POST /predict HTTP/1.1\" 200 159 0.384622\n"
     ]
    },
    {
     "name": "stdout",
     "output_type": "stream",
     "text": [
      "1/1 [==============================] - 0s 63ms/step\n"
     ]
    },
    {
     "name": "stderr",
     "output_type": "stream",
     "text": [
      "127.0.0.1 - - [2022-06-03 05:00:34] \"POST /predict HTTP/1.1\" 200 160 0.340351\n"
     ]
    },
    {
     "name": "stdout",
     "output_type": "stream",
     "text": [
      "1/1 [==============================] - 0s 47ms/step\n"
     ]
    },
    {
     "name": "stderr",
     "output_type": "stream",
     "text": [
      "127.0.0.1 - - [2022-06-03 05:00:34] \"POST /predict HTTP/1.1\" 200 160 0.469028\n"
     ]
    },
    {
     "name": "stdout",
     "output_type": "stream",
     "text": [
      "1/1 [==============================] - 0s 72ms/step\n"
     ]
    },
    {
     "name": "stderr",
     "output_type": "stream",
     "text": [
      "127.0.0.1 - - [2022-06-03 05:00:35] \"POST /predict HTTP/1.1\" 200 160 0.275685\n"
     ]
    },
    {
     "name": "stdout",
     "output_type": "stream",
     "text": [
      "1/1 [==============================] - 0s 126ms/step\n"
     ]
    },
    {
     "name": "stderr",
     "output_type": "stream",
     "text": [
      "127.0.0.1 - - [2022-06-03 05:00:35] \"POST /predict HTTP/1.1\" 200 159 0.631352\n"
     ]
    },
    {
     "name": "stdout",
     "output_type": "stream",
     "text": [
      "1/1 [==============================] - 0s 72ms/step\n"
     ]
    },
    {
     "name": "stderr",
     "output_type": "stream",
     "text": [
      "127.0.0.1 - - [2022-06-03 05:00:36] \"POST /predict HTTP/1.1\" 200 159 0.456289\n"
     ]
    },
    {
     "name": "stdout",
     "output_type": "stream",
     "text": [
      "1/1 [==============================] - 0s 62ms/step\n"
     ]
    },
    {
     "name": "stderr",
     "output_type": "stream",
     "text": [
      "127.0.0.1 - - [2022-06-03 05:00:36] \"POST /predict HTTP/1.1\" 200 159 0.372076\n"
     ]
    },
    {
     "name": "stdout",
     "output_type": "stream",
     "text": [
      "1/1 [==============================] - 0s 78ms/step\n"
     ]
    },
    {
     "name": "stderr",
     "output_type": "stream",
     "text": [
      "127.0.0.1 - - [2022-06-03 05:00:37] \"POST /predict HTTP/1.1\" 200 160 0.261446\n"
     ]
    },
    {
     "name": "stdout",
     "output_type": "stream",
     "text": [
      "1/1 [==============================] - 0s 62ms/step\n",
      "1/1 [==============================] - ETA: 0s"
     ]
    },
    {
     "name": "stderr",
     "output_type": "stream",
     "text": [
      "127.0.0.1 - - [2022-06-03 05:00:37] \"POST /predict HTTP/1.1\" 200 159 0.436225\n"
     ]
    },
    {
     "name": "stdout",
     "output_type": "stream",
     "text": [
      "\b\b\b\b\b\b\b\b\b\b\b\b\b\b\b\b\b\b\b\b\b\b\b\b\b\b\b\b\b\b\b\b\b\b\b\b\b\b\b\b\b\b\b\b\b\b\r",
      "1/1 [==============================] - 0s 70ms/step\n"
     ]
    },
    {
     "name": "stderr",
     "output_type": "stream",
     "text": [
      "127.0.0.1 - - [2022-06-03 05:00:37] \"POST /predict HTTP/1.1\" 200 159 0.161284\n"
     ]
    },
    {
     "name": "stdout",
     "output_type": "stream",
     "text": [
      "1/1 [==============================] - 0s 63ms/step\n"
     ]
    },
    {
     "name": "stderr",
     "output_type": "stream",
     "text": [
      "127.0.0.1 - - [2022-06-03 05:00:38] \"POST /predict HTTP/1.1\" 200 159 0.320647\n"
     ]
    },
    {
     "name": "stdout",
     "output_type": "stream",
     "text": [
      "1/1 [==============================] - 0s 77ms/step\n"
     ]
    },
    {
     "name": "stderr",
     "output_type": "stream",
     "text": [
      "127.0.0.1 - - [2022-06-03 05:00:38] \"POST /predict HTTP/1.1\" 200 159 0.194071\n"
     ]
    },
    {
     "name": "stdout",
     "output_type": "stream",
     "text": [
      "1/1 [==============================] - 0s 80ms/step\n"
     ]
    },
    {
     "name": "stderr",
     "output_type": "stream",
     "text": [
      "127.0.0.1 - - [2022-06-03 05:00:38] \"POST /predict HTTP/1.1\" 200 159 0.235837\n"
     ]
    },
    {
     "name": "stdout",
     "output_type": "stream",
     "text": [
      "1/1 [==============================] - 0s 71ms/step\n"
     ]
    },
    {
     "name": "stderr",
     "output_type": "stream",
     "text": [
      "127.0.0.1 - - [2022-06-03 05:00:38] \"POST /predict HTTP/1.1\" 200 160 0.214586\n"
     ]
    },
    {
     "name": "stdout",
     "output_type": "stream",
     "text": [
      "1/1 [==============================] - 0s 57ms/step\n"
     ]
    },
    {
     "name": "stderr",
     "output_type": "stream",
     "text": [
      "127.0.0.1 - - [2022-06-03 05:00:38] \"POST /predict HTTP/1.1\" 200 160 0.170096\n",
      "127.0.0.1 - - [2022-06-03 05:00:38] \"POST /predict HTTP/1.1\" 200 153 0.002995\n",
      "127.0.0.1 - - [2022-06-03 05:00:39] \"POST /predict HTTP/1.1\" 200 153 0.002997\n",
      "127.0.0.1 - - [2022-06-03 05:00:39] \"POST /predict HTTP/1.1\" 200 153 0.002998\n",
      "127.0.0.1 - - [2022-06-03 05:00:39] \"POST /predict HTTP/1.1\" 200 153 0.000000\n"
     ]
    },
    {
     "name": "stdout",
     "output_type": "stream",
     "text": [
      "1/1 [==============================] - 0s 47ms/step\n"
     ]
    },
    {
     "name": "stderr",
     "output_type": "stream",
     "text": [
      "127.0.0.1 - - [2022-06-03 05:00:39] \"POST /predict HTTP/1.1\" 200 160 0.307865\n"
     ]
    },
    {
     "name": "stdout",
     "output_type": "stream",
     "text": [
      "1/1 [==============================] - 0s 39ms/step\n"
     ]
    },
    {
     "name": "stderr",
     "output_type": "stream",
     "text": [
      "127.0.0.1 - - [2022-06-03 05:00:39] \"POST /predict HTTP/1.1\" 200 160 0.235882\n"
     ]
    },
    {
     "name": "stdout",
     "output_type": "stream",
     "text": [
      "1/1 [==============================] - 0s 70ms/step\n"
     ]
    },
    {
     "name": "stderr",
     "output_type": "stream",
     "text": [
      "127.0.0.1 - - [2022-06-03 05:00:39] \"POST /predict HTTP/1.1\" 200 160 0.200340\n"
     ]
    },
    {
     "name": "stdout",
     "output_type": "stream",
     "text": [
      "1/1 [==============================] - 0s 47ms/step\n"
     ]
    },
    {
     "name": "stderr",
     "output_type": "stream",
     "text": [
      "127.0.0.1 - - [2022-06-03 05:00:40] \"POST /predict HTTP/1.1\" 200 160 0.233952\n"
     ]
    },
    {
     "name": "stdout",
     "output_type": "stream",
     "text": [
      "1/1 [==============================] - 0s 40ms/step\n",
      "1/1 [==============================] - ETA: 0s"
     ]
    },
    {
     "name": "stderr",
     "output_type": "stream",
     "text": [
      "127.0.0.1 - - [2022-06-03 05:00:40] \"POST /predict HTTP/1.1\" 200 160 0.265579\n"
     ]
    },
    {
     "name": "stdout",
     "output_type": "stream",
     "text": [
      "\b\b\b\b\b\b\b\b\b\b\b\b\b\b\b\b\b\b\b\b\b\b\b\b\b\b\b\b\b\b\b\b\b\b\b\b\b\b\b\b\b\b\b\b\b\b\r",
      "1/1 [==============================] - 0s 63ms/step\n"
     ]
    },
    {
     "name": "stderr",
     "output_type": "stream",
     "text": [
      "127.0.0.1 - - [2022-06-03 05:00:40] \"POST /predict HTTP/1.1\" 200 160 0.172815\n",
      "127.0.0.1 - - [2022-06-03 05:00:40] \"POST /predict HTTP/1.1\" 200 153 0.002999\n"
     ]
    },
    {
     "name": "stdout",
     "output_type": "stream",
     "text": [
      "1/1 [==============================] - 0s 63ms/step\n"
     ]
    },
    {
     "name": "stderr",
     "output_type": "stream",
     "text": [
      "127.0.0.1 - - [2022-06-03 05:00:41] \"POST /predict HTTP/1.1\" 200 160 0.297330\n"
     ]
    },
    {
     "name": "stdout",
     "output_type": "stream",
     "text": [
      "1/1 [==============================] - 0s 63ms/step\n"
     ]
    },
    {
     "name": "stderr",
     "output_type": "stream",
     "text": [
      "127.0.0.1 - - [2022-06-03 05:00:41] \"POST /predict HTTP/1.1\" 200 160 0.195346\n"
     ]
    },
    {
     "name": "stdout",
     "output_type": "stream",
     "text": [
      "1/1 [==============================] - 0s 94ms/step\n"
     ]
    },
    {
     "name": "stderr",
     "output_type": "stream",
     "text": [
      "127.0.0.1 - - [2022-06-03 05:00:41] \"POST /predict HTTP/1.1\" 200 160 0.562522\n",
      "127.0.0.1 - - [2022-06-03 05:00:41] \"POST /predict HTTP/1.1\" 200 153 0.015636\n",
      "127.0.0.1 - - [2022-06-03 05:00:41] \"POST /predict HTTP/1.1\" 200 153 0.015618\n",
      "127.0.0.1 - - [2022-06-03 05:00:41] \"POST /predict HTTP/1.1\" 200 153 0.000000\n"
     ]
    },
    {
     "name": "stdout",
     "output_type": "stream",
     "text": [
      "1/1 [==============================] - 0s 81ms/step\n"
     ]
    },
    {
     "name": "stderr",
     "output_type": "stream",
     "text": [
      "127.0.0.1 - - [2022-06-03 05:00:42] \"POST /predict HTTP/1.1\" 200 160 0.316797\n"
     ]
    },
    {
     "name": "stdout",
     "output_type": "stream",
     "text": [
      "1/1 [==============================] - 0s 69ms/step\n"
     ]
    },
    {
     "name": "stderr",
     "output_type": "stream",
     "text": [
      "127.0.0.1 - - [2022-06-03 05:00:42] \"POST /predict HTTP/1.1\" 200 159 0.238868\n"
     ]
    },
    {
     "name": "stdout",
     "output_type": "stream",
     "text": [
      "1/1 [==============================] - 0s 90ms/step\n"
     ]
    },
    {
     "name": "stderr",
     "output_type": "stream",
     "text": [
      "127.0.0.1 - - [2022-06-03 05:00:42] \"POST /predict HTTP/1.1\" 200 160 0.268593\n"
     ]
    },
    {
     "name": "stdout",
     "output_type": "stream",
     "text": [
      "1/1 [==============================] - 0s 65ms/step\n"
     ]
    },
    {
     "name": "stderr",
     "output_type": "stream",
     "text": [
      "127.0.0.1 - - [2022-06-03 05:00:43] \"POST /predict HTTP/1.1\" 200 160 0.267032\n"
     ]
    },
    {
     "name": "stdout",
     "output_type": "stream",
     "text": [
      "1/1 [==============================] - 0s 74ms/step\n"
     ]
    },
    {
     "name": "stderr",
     "output_type": "stream",
     "text": [
      "127.0.0.1 - - [2022-06-03 05:00:43] \"POST /predict HTTP/1.1\" 200 160 0.212543\n"
     ]
    },
    {
     "name": "stdout",
     "output_type": "stream",
     "text": [
      "1/1 [==============================] - 0s 62ms/step\n"
     ]
    },
    {
     "name": "stderr",
     "output_type": "stream",
     "text": [
      "127.0.0.1 - - [2022-06-03 05:00:43] \"POST /predict HTTP/1.1\" 200 160 0.372667\n"
     ]
    },
    {
     "name": "stdout",
     "output_type": "stream",
     "text": [
      "1/1 [==============================] - 0s 73ms/step\n"
     ]
    },
    {
     "name": "stderr",
     "output_type": "stream",
     "text": [
      "127.0.0.1 - - [2022-06-03 05:00:44] \"POST /predict HTTP/1.1\" 200 160 0.180628\n"
     ]
    },
    {
     "name": "stdout",
     "output_type": "stream",
     "text": [
      "1/1 [==============================] - 0s 62ms/step\n"
     ]
    },
    {
     "name": "stderr",
     "output_type": "stream",
     "text": [
      "127.0.0.1 - - [2022-06-03 05:00:44] \"POST /predict HTTP/1.1\" 200 160 0.686199\n",
      "127.0.0.1 - - [2022-06-03 05:00:44] \"POST /predict HTTP/1.1\" 200 153 0.003999\n",
      "127.0.0.1 - - [2022-06-03 05:00:44] \"POST /predict HTTP/1.1\" 200 153 0.003991\n"
     ]
    },
    {
     "name": "stdout",
     "output_type": "stream",
     "text": [
      "1/1 [==============================] - 0s 63ms/step\n"
     ]
    },
    {
     "name": "stderr",
     "output_type": "stream",
     "text": [
      "127.0.0.1 - - [2022-06-03 05:00:45] \"POST /predict HTTP/1.1\" 200 160 0.292302\n"
     ]
    },
    {
     "name": "stdout",
     "output_type": "stream",
     "text": [
      "1/1 [==============================] - 0s 91ms/step\n"
     ]
    },
    {
     "name": "stderr",
     "output_type": "stream",
     "text": [
      "127.0.0.1 - - [2022-06-03 05:00:45] \"POST /predict HTTP/1.1\" 200 160 0.223810\n"
     ]
    },
    {
     "name": "stdout",
     "output_type": "stream",
     "text": [
      "1/1 [==============================] - 0s 68ms/step\n"
     ]
    },
    {
     "name": "stderr",
     "output_type": "stream",
     "text": [
      "127.0.0.1 - - [2022-06-03 05:00:45] \"POST /predict HTTP/1.1\" 200 159 0.257806\n",
      "127.0.0.1 - - [2022-06-03 05:00:45] \"POST /predict HTTP/1.1\" 200 153 0.005416\n"
     ]
    },
    {
     "name": "stdout",
     "output_type": "stream",
     "text": [
      "1/1 [==============================] - 0s 73ms/step\n"
     ]
    },
    {
     "name": "stderr",
     "output_type": "stream",
     "text": [
      "127.0.0.1 - - [2022-06-03 05:00:46] \"POST /predict HTTP/1.1\" 200 160 0.223871\n"
     ]
    },
    {
     "name": "stdout",
     "output_type": "stream",
     "text": [
      "1/1 [==============================] - 0s 62ms/step\n"
     ]
    },
    {
     "name": "stderr",
     "output_type": "stream",
     "text": [
      "127.0.0.1 - - [2022-06-03 05:00:46] \"POST /predict HTTP/1.1\" 200 160 0.374139\n"
     ]
    },
    {
     "name": "stdout",
     "output_type": "stream",
     "text": [
      "1/1 [==============================] - 0s 78ms/step\n"
     ]
    },
    {
     "name": "stderr",
     "output_type": "stream",
     "text": [
      "127.0.0.1 - - [2022-06-03 05:00:46] \"POST /predict HTTP/1.1\" 200 160 0.327872\n"
     ]
    },
    {
     "name": "stdout",
     "output_type": "stream",
     "text": [
      "1/1 [==============================] - 0s 109ms/step\n"
     ]
    },
    {
     "name": "stderr",
     "output_type": "stream",
     "text": [
      "127.0.0.1 - - [2022-06-03 05:00:47] \"POST /predict HTTP/1.1\" 200 160 0.388195\n",
      "127.0.0.1 - - [2022-06-03 05:00:47] \"POST /predict HTTP/1.1\" 200 153 0.004998\n",
      "127.0.0.1 - - [2022-06-03 05:00:47] \"POST /predict HTTP/1.1\" 200 153 0.004007\n"
     ]
    },
    {
     "name": "stdout",
     "output_type": "stream",
     "text": [
      "1/1 [==============================] - 0s 65ms/step\n"
     ]
    },
    {
     "name": "stderr",
     "output_type": "stream",
     "text": [
      "127.0.0.1 - - [2022-06-03 05:00:47] \"POST /predict HTTP/1.1\" 200 160 0.224995\n",
      "127.0.0.1 - - [2022-06-03 05:00:47] \"POST /predict HTTP/1.1\" 200 153 0.003988\n"
     ]
    },
    {
     "name": "stdout",
     "output_type": "stream",
     "text": [
      "1/1 [==============================] - 0s 78ms/step\n"
     ]
    },
    {
     "name": "stderr",
     "output_type": "stream",
     "text": [
      "127.0.0.1 - - [2022-06-03 05:00:48] \"POST /predict HTTP/1.1\" 200 160 0.306417\n",
      "127.0.0.1 - - [2022-06-03 05:00:48] \"POST /predict HTTP/1.1\" 200 153 0.005008\n",
      "127.0.0.1 - - [2022-06-03 05:00:48] \"POST /predict HTTP/1.1\" 200 153 0.004996\n",
      "127.0.0.1 - - [2022-06-03 05:00:48] \"POST /predict HTTP/1.1\" 200 153 0.003001\n",
      "127.0.0.1 - - [2022-06-03 05:00:48] \"POST /predict HTTP/1.1\" 200 153 0.002998\n",
      "127.0.0.1 - - [2022-06-03 05:00:48] \"POST /predict HTTP/1.1\" 200 153 0.004000\n",
      "127.0.0.1 - - [2022-06-03 05:00:48] \"POST /predict HTTP/1.1\" 200 153 0.000000\n"
     ]
    },
    {
     "name": "stdout",
     "output_type": "stream",
     "text": [
      "1/1 [==============================] - 0s 78ms/step\n"
     ]
    },
    {
     "name": "stderr",
     "output_type": "stream",
     "text": [
      "127.0.0.1 - - [2022-06-03 05:00:48] \"POST /predict HTTP/1.1\" 200 160 0.284558\n"
     ]
    },
    {
     "name": "stdout",
     "output_type": "stream",
     "text": [
      "1/1 [==============================] - 0s 78ms/step\n"
     ]
    },
    {
     "name": "stderr",
     "output_type": "stream",
     "text": [
      "127.0.0.1 - - [2022-06-03 05:00:48] \"POST /predict HTTP/1.1\" 200 160 0.303553\n"
     ]
    },
    {
     "name": "stdout",
     "output_type": "stream",
     "text": [
      "1/1 [==============================] - 0s 75ms/step\n"
     ]
    },
    {
     "name": "stderr",
     "output_type": "stream",
     "text": [
      "127.0.0.1 - - [2022-06-03 05:00:49] \"POST /predict HTTP/1.1\" 200 160 0.226320\n"
     ]
    },
    {
     "name": "stdout",
     "output_type": "stream",
     "text": [
      "1/1 [==============================] - 0s 67ms/step\n"
     ]
    },
    {
     "name": "stderr",
     "output_type": "stream",
     "text": [
      "127.0.0.1 - - [2022-06-03 05:00:49] \"POST /predict HTTP/1.1\" 200 160 0.238035\n"
     ]
    },
    {
     "name": "stdout",
     "output_type": "stream",
     "text": [
      "1/1 [==============================] - 0s 71ms/step\n"
     ]
    },
    {
     "name": "stderr",
     "output_type": "stream",
     "text": [
      "127.0.0.1 - - [2022-06-03 05:00:49] \"POST /predict HTTP/1.1\" 200 160 0.234284\n"
     ]
    },
    {
     "name": "stdout",
     "output_type": "stream",
     "text": [
      "1/1 [==============================] - 0s 91ms/step\n"
     ]
    },
    {
     "name": "stderr",
     "output_type": "stream",
     "text": [
      "127.0.0.1 - - [2022-06-03 05:00:49] \"POST /predict HTTP/1.1\" 200 160 0.245998\n"
     ]
    },
    {
     "name": "stdout",
     "output_type": "stream",
     "text": [
      "1/1 [==============================] - 0s 61ms/step\n"
     ]
    },
    {
     "name": "stderr",
     "output_type": "stream",
     "text": [
      "127.0.0.1 - - [2022-06-03 05:00:50] \"POST /predict HTTP/1.1\" 200 160 0.239573\n"
     ]
    },
    {
     "name": "stdout",
     "output_type": "stream",
     "text": [
      "1/1 [==============================] - 0s 71ms/step\n"
     ]
    },
    {
     "name": "stderr",
     "output_type": "stream",
     "text": [
      "127.0.0.1 - - [2022-06-03 05:00:50] \"POST /predict HTTP/1.1\" 200 159 0.218531\n",
      "127.0.0.1 - - [2022-06-03 05:00:50] \"POST /predict HTTP/1.1\" 200 153 0.003994\n",
      "127.0.0.1 - - [2022-06-03 05:00:50] \"POST /predict HTTP/1.1\" 200 153 0.001999\n",
      "127.0.0.1 - - [2022-06-03 05:00:50] \"POST /predict HTTP/1.1\" 200 153 0.002999\n",
      "127.0.0.1 - - [2022-06-03 05:00:50] \"POST /predict HTTP/1.1\" 200 153 0.000000\n"
     ]
    },
    {
     "name": "stdout",
     "output_type": "stream",
     "text": [
      "1/1 [==============================] - 0s 63ms/step\n"
     ]
    },
    {
     "name": "stderr",
     "output_type": "stream",
     "text": [
      "127.0.0.1 - - [2022-06-03 05:00:50] \"POST /predict HTTP/1.1\" 200 160 0.302666\n"
     ]
    },
    {
     "name": "stdout",
     "output_type": "stream",
     "text": [
      "1/1 [==============================] - 0s 62ms/step\n"
     ]
    },
    {
     "name": "stderr",
     "output_type": "stream",
     "text": [
      "127.0.0.1 - - [2022-06-03 05:00:51] \"POST /predict HTTP/1.1\" 200 160 0.314058\n"
     ]
    },
    {
     "name": "stdout",
     "output_type": "stream",
     "text": [
      "1/1 [==============================] - 0s 75ms/step\n"
     ]
    },
    {
     "name": "stderr",
     "output_type": "stream",
     "text": [
      "127.0.0.1 - - [2022-06-03 05:00:51] \"POST /predict HTTP/1.1\" 200 160 0.212778\n"
     ]
    },
    {
     "name": "stdout",
     "output_type": "stream",
     "text": [
      "1/1 [==============================] - 0s 88ms/step\n"
     ]
    },
    {
     "name": "stderr",
     "output_type": "stream",
     "text": [
      "127.0.0.1 - - [2022-06-03 05:00:51] \"POST /predict HTTP/1.1\" 200 160 0.238604\n"
     ]
    },
    {
     "name": "stdout",
     "output_type": "stream",
     "text": [
      "1/1 [==============================] - 0s 51ms/step\n"
     ]
    },
    {
     "name": "stderr",
     "output_type": "stream",
     "text": [
      "127.0.0.1 - - [2022-06-03 05:00:52] \"POST /predict HTTP/1.1\" 200 160 0.236895\n"
     ]
    },
    {
     "name": "stdout",
     "output_type": "stream",
     "text": [
      "1/1 [==============================] - 0s 75ms/step\n"
     ]
    },
    {
     "name": "stderr",
     "output_type": "stream",
     "text": [
      "127.0.0.1 - - [2022-06-03 05:00:52] \"POST /predict HTTP/1.1\" 200 160 0.199182\n",
      "127.0.0.1 - - [2022-06-03 05:00:52] \"POST /predict HTTP/1.1\" 200 153 0.005011\n",
      "127.0.0.1 - - [2022-06-03 05:00:52] \"POST /predict HTTP/1.1\" 200 153 0.003998\n",
      "127.0.0.1 - - [2022-06-03 05:00:52] \"POST /predict HTTP/1.1\" 200 153 0.003996\n",
      "127.0.0.1 - - [2022-06-03 05:00:52] \"POST /predict HTTP/1.1\" 200 153 0.002998\n",
      "127.0.0.1 - - [2022-06-03 05:00:52] \"POST /predict HTTP/1.1\" 200 153 0.002998\n",
      "127.0.0.1 - - [2022-06-03 05:00:52] \"POST /predict HTTP/1.1\" 200 153 0.000000\n",
      "127.0.0.1 - - [2022-06-03 05:00:52] \"POST /predict HTTP/1.1\" 200 153 0.015633\n",
      "127.0.0.1 - - [2022-06-03 05:00:52] \"POST /predict HTTP/1.1\" 200 153 0.000000\n",
      "127.0.0.1 - - [2022-06-03 05:00:52] \"POST /predict HTTP/1.1\" 200 153 0.000000\n",
      "127.0.0.1 - - [2022-06-03 05:00:52] \"POST /predict HTTP/1.1\" 200 153 0.015621\n",
      "127.0.0.1 - - [2022-06-03 05:00:52] \"POST /predict HTTP/1.1\" 200 153 0.000000\n",
      "127.0.0.1 - - [2022-06-03 05:00:52] \"POST /predict HTTP/1.1\" 200 153 0.000000\n",
      "127.0.0.1 - - [2022-06-03 05:00:52] \"POST /predict HTTP/1.1\" 200 153 0.000000\n",
      "127.0.0.1 - - [2022-06-03 05:00:52] \"POST /predict HTTP/1.1\" 200 153 0.002987\n",
      "127.0.0.1 - - [2022-06-03 05:00:52] \"POST /predict HTTP/1.1\" 200 153 0.002997\n",
      "127.0.0.1 - - [2022-06-03 05:00:52] \"POST /predict HTTP/1.1\" 200 153 0.002997\n",
      "127.0.0.1 - - [2022-06-03 05:00:52] \"POST /predict HTTP/1.1\" 200 153 0.002999\n",
      "127.0.0.1 - - [2022-06-03 05:00:52] \"POST /predict HTTP/1.1\" 200 153 0.000000\n",
      "127.0.0.1 - - [2022-06-03 05:00:52] \"POST /predict HTTP/1.1\" 200 153 0.000000\n",
      "127.0.0.1 - - [2022-06-03 05:00:52] \"POST /predict HTTP/1.1\" 200 153 0.000000\n",
      "127.0.0.1 - - [2022-06-03 05:00:52] \"POST /predict HTTP/1.1\" 200 153 0.000000\n",
      "127.0.0.1 - - [2022-06-03 05:00:52] \"POST /predict HTTP/1.1\" 200 153 0.002994\n",
      "127.0.0.1 - - [2022-06-03 05:00:52] \"POST /predict HTTP/1.1\" 200 153 0.002994\n",
      "127.0.0.1 - - [2022-06-03 05:00:52] \"POST /predict HTTP/1.1\" 200 153 0.005009\n",
      "127.0.0.1 - - [2022-06-03 05:00:52] \"POST /predict HTTP/1.1\" 200 153 0.001995\n",
      "127.0.0.1 - - [2022-06-03 05:00:52] \"POST /predict HTTP/1.1\" 200 153 0.001998\n"
     ]
    },
    {
     "name": "stdout",
     "output_type": "stream",
     "text": [
      "1/1 [==============================] - 0s 64ms/step\n"
     ]
    },
    {
     "name": "stderr",
     "output_type": "stream",
     "text": [
      "127.0.0.1 - - [2022-06-03 05:00:52] \"POST /predict HTTP/1.1\" 200 159 0.226946\n"
     ]
    },
    {
     "name": "stdout",
     "output_type": "stream",
     "text": [
      "1/1 [==============================] - 0s 59ms/step\n"
     ]
    },
    {
     "name": "stderr",
     "output_type": "stream",
     "text": [
      "127.0.0.1 - - [2022-06-03 05:00:53] \"POST /predict HTTP/1.1\" 200 159 0.245471\n"
     ]
    },
    {
     "name": "stdout",
     "output_type": "stream",
     "text": [
      "1/1 [==============================] - 0s 77ms/step\n"
     ]
    },
    {
     "name": "stderr",
     "output_type": "stream",
     "text": [
      "127.0.0.1 - - [2022-06-03 05:00:53] \"POST /predict HTTP/1.1\" 200 159 0.207147\n"
     ]
    },
    {
     "name": "stdout",
     "output_type": "stream",
     "text": [
      "1/1 [==============================] - 0s 62ms/step\n"
     ]
    },
    {
     "name": "stderr",
     "output_type": "stream",
     "text": [
      "127.0.0.1 - - [2022-06-03 05:00:53] \"POST /predict HTTP/1.1\" 200 159 0.322654\n"
     ]
    },
    {
     "name": "stdout",
     "output_type": "stream",
     "text": [
      "1/1 [==============================] - 0s 50ms/step\n"
     ]
    },
    {
     "name": "stderr",
     "output_type": "stream",
     "text": [
      "127.0.0.1 - - [2022-06-03 05:00:54] \"POST /predict HTTP/1.1\" 200 159 0.242143\n"
     ]
    },
    {
     "name": "stdout",
     "output_type": "stream",
     "text": [
      "1/1 [==============================] - 0s 62ms/step\n"
     ]
    },
    {
     "name": "stderr",
     "output_type": "stream",
     "text": [
      "127.0.0.1 - - [2022-06-03 05:00:54] \"POST /predict HTTP/1.1\" 200 159 0.360207\n"
     ]
    },
    {
     "name": "stdout",
     "output_type": "stream",
     "text": [
      "1/1 [==============================] - 0s 47ms/step\n"
     ]
    },
    {
     "name": "stderr",
     "output_type": "stream",
     "text": [
      "127.0.0.1 - - [2022-06-03 05:00:55] \"POST /predict HTTP/1.1\" 200 159 0.611159\n"
     ]
    },
    {
     "name": "stdout",
     "output_type": "stream",
     "text": [
      "1/1 [==============================] - 0s 62ms/step\n"
     ]
    },
    {
     "name": "stderr",
     "output_type": "stream",
     "text": [
      "127.0.0.1 - - [2022-06-03 05:00:55] \"POST /predict HTTP/1.1\" 200 159 0.391049\n"
     ]
    },
    {
     "name": "stdout",
     "output_type": "stream",
     "text": [
      "1/1 [==============================] - 0s 63ms/step\n"
     ]
    },
    {
     "name": "stderr",
     "output_type": "stream",
     "text": [
      "127.0.0.1 - - [2022-06-03 05:00:56] \"POST /predict HTTP/1.1\" 200 159 0.293200\n"
     ]
    },
    {
     "name": "stdout",
     "output_type": "stream",
     "text": [
      "1/1 [==============================] - 0s 62ms/step\n"
     ]
    },
    {
     "name": "stderr",
     "output_type": "stream",
     "text": [
      "127.0.0.1 - - [2022-06-03 05:00:57] \"POST /predict HTTP/1.1\" 200 159 1.098622\n"
     ]
    },
    {
     "name": "stdout",
     "output_type": "stream",
     "text": [
      "1/1 [==============================] - 0s 82ms/step\n"
     ]
    },
    {
     "name": "stderr",
     "output_type": "stream",
     "text": [
      "127.0.0.1 - - [2022-06-03 05:00:57] \"POST /predict HTTP/1.1\" 200 159 0.216190\n"
     ]
    },
    {
     "name": "stdout",
     "output_type": "stream",
     "text": [
      "1/1 [==============================] - 0s 63ms/step\n"
     ]
    },
    {
     "name": "stderr",
     "output_type": "stream",
     "text": [
      "127.0.0.1 - - [2022-06-03 05:00:58] \"POST /predict HTTP/1.1\" 200 159 0.793756\n"
     ]
    },
    {
     "name": "stdout",
     "output_type": "stream",
     "text": [
      "1/1 [==============================] - 0s 59ms/step\n"
     ]
    },
    {
     "name": "stderr",
     "output_type": "stream",
     "text": [
      "127.0.0.1 - - [2022-06-03 05:00:58] \"POST /predict HTTP/1.1\" 200 159 0.240390\n"
     ]
    },
    {
     "name": "stdout",
     "output_type": "stream",
     "text": [
      "1/1 [==============================] - 0s 69ms/step\n"
     ]
    },
    {
     "name": "stderr",
     "output_type": "stream",
     "text": [
      "127.0.0.1 - - [2022-06-03 05:00:58] \"POST /predict HTTP/1.1\" 200 159 0.220988\n"
     ]
    },
    {
     "name": "stdout",
     "output_type": "stream",
     "text": [
      "1/1 [==============================] - 0s 78ms/step\n"
     ]
    },
    {
     "name": "stderr",
     "output_type": "stream",
     "text": [
      "127.0.0.1 - - [2022-06-03 05:00:59] \"POST /predict HTTP/1.1\" 200 159 0.479637\n"
     ]
    },
    {
     "name": "stdout",
     "output_type": "stream",
     "text": [
      "1/1 [==============================] - 0s 78ms/step\n"
     ]
    },
    {
     "name": "stderr",
     "output_type": "stream",
     "text": [
      "127.0.0.1 - - [2022-06-03 05:01:00] \"POST /predict HTTP/1.1\" 200 159 0.714217\n"
     ]
    },
    {
     "name": "stdout",
     "output_type": "stream",
     "text": [
      "1/1 [==============================] - 0s 63ms/step\n"
     ]
    },
    {
     "name": "stderr",
     "output_type": "stream",
     "text": [
      "127.0.0.1 - - [2022-06-03 05:01:01] \"POST /predict HTTP/1.1\" 200 159 1.255380\n"
     ]
    },
    {
     "name": "stdout",
     "output_type": "stream",
     "text": [
      "1/1 [==============================] - 0s 55ms/step\n"
     ]
    },
    {
     "name": "stderr",
     "output_type": "stream",
     "text": [
      "127.0.0.1 - - [2022-06-03 05:01:01] \"POST /predict HTTP/1.1\" 200 159 0.231813\n"
     ]
    },
    {
     "name": "stdout",
     "output_type": "stream",
     "text": [
      "1/1 [==============================] - 0s 47ms/step\n"
     ]
    },
    {
     "name": "stderr",
     "output_type": "stream",
     "text": [
      "127.0.0.1 - - [2022-06-03 05:01:02] \"POST /predict HTTP/1.1\" 200 159 0.365340\n"
     ]
    },
    {
     "name": "stdout",
     "output_type": "stream",
     "text": [
      "1/1 [==============================] - 0s 78ms/step\n"
     ]
    },
    {
     "name": "stderr",
     "output_type": "stream",
     "text": [
      "127.0.0.1 - - [2022-06-03 05:01:03] \"POST /predict HTTP/1.1\" 200 159 0.812189\n"
     ]
    },
    {
     "name": "stdout",
     "output_type": "stream",
     "text": [
      "1/1 [==============================] - 0s 78ms/step\n"
     ]
    },
    {
     "name": "stderr",
     "output_type": "stream",
     "text": [
      "127.0.0.1 - - [2022-06-03 05:01:03] \"POST /predict HTTP/1.1\" 200 159 0.488261\n"
     ]
    },
    {
     "name": "stdout",
     "output_type": "stream",
     "text": [
      "1/1 [==============================] - 0s 82ms/step\n"
     ]
    },
    {
     "name": "stderr",
     "output_type": "stream",
     "text": [
      "127.0.0.1 - - [2022-06-03 05:01:03] \"POST /predict HTTP/1.1\" 200 159 0.239198\n"
     ]
    },
    {
     "name": "stdout",
     "output_type": "stream",
     "text": [
      "1/1 [==============================] - 0s 94ms/step\n"
     ]
    },
    {
     "name": "stderr",
     "output_type": "stream",
     "text": [
      "127.0.0.1 - - [2022-06-03 05:01:04] \"POST /predict HTTP/1.1\" 200 159 0.287581\n"
     ]
    },
    {
     "name": "stdout",
     "output_type": "stream",
     "text": [
      "1/1 [==============================] - 0s 62ms/step\n"
     ]
    },
    {
     "name": "stderr",
     "output_type": "stream",
     "text": [
      "127.0.0.1 - - [2022-06-03 05:01:05] \"POST /predict HTTP/1.1\" 200 159 0.828000\n"
     ]
    },
    {
     "name": "stdout",
     "output_type": "stream",
     "text": [
      "1/1 [==============================] - 0s 94ms/step\n"
     ]
    },
    {
     "name": "stderr",
     "output_type": "stream",
     "text": [
      "127.0.0.1 - - [2022-06-03 05:01:05] \"POST /predict HTTP/1.1\" 200 159 0.290699\n"
     ]
    },
    {
     "name": "stdout",
     "output_type": "stream",
     "text": [
      "1/1 [==============================] - 0s 62ms/step\n"
     ]
    },
    {
     "name": "stderr",
     "output_type": "stream",
     "text": [
      "127.0.0.1 - - [2022-06-03 05:01:06] \"POST /predict HTTP/1.1\" 200 159 1.329655\n"
     ]
    },
    {
     "name": "stdout",
     "output_type": "stream",
     "text": [
      "1/1 [==============================] - 0s 94ms/step\n"
     ]
    },
    {
     "name": "stderr",
     "output_type": "stream",
     "text": [
      "127.0.0.1 - - [2022-06-03 05:01:07] \"POST /predict HTTP/1.1\" 200 159 0.602158\n"
     ]
    },
    {
     "name": "stdout",
     "output_type": "stream",
     "text": [
      "1/1 [==============================] - 0s 84ms/step\n"
     ]
    },
    {
     "name": "stderr",
     "output_type": "stream",
     "text": [
      "127.0.0.1 - - [2022-06-03 05:01:07] \"POST /predict HTTP/1.1\" 200 160 0.341450\n"
     ]
    },
    {
     "name": "stdout",
     "output_type": "stream",
     "text": [
      "1/1 [==============================] - 0s 62ms/step\n"
     ]
    },
    {
     "name": "stderr",
     "output_type": "stream",
     "text": [
      "127.0.0.1 - - [2022-06-03 05:01:08] \"POST /predict HTTP/1.1\" 200 159 0.674216\n"
     ]
    },
    {
     "name": "stdout",
     "output_type": "stream",
     "text": [
      "1/1 [==============================] - 0s 67ms/step\n"
     ]
    },
    {
     "name": "stderr",
     "output_type": "stream",
     "text": [
      "127.0.0.1 - - [2022-06-03 05:01:08] \"POST /predict HTTP/1.1\" 200 160 0.264281\n"
     ]
    },
    {
     "name": "stdout",
     "output_type": "stream",
     "text": [
      "1/1 [==============================] - 0s 94ms/step\n"
     ]
    },
    {
     "name": "stderr",
     "output_type": "stream",
     "text": [
      "127.0.0.1 - - [2022-06-03 05:01:09] \"POST /predict HTTP/1.1\" 200 159 0.310261\n"
     ]
    },
    {
     "name": "stdout",
     "output_type": "stream",
     "text": [
      "1/1 [==============================] - 0s 63ms/step\n"
     ]
    },
    {
     "name": "stderr",
     "output_type": "stream",
     "text": [
      "127.0.0.1 - - [2022-06-03 05:01:09] \"POST /predict HTTP/1.1\" 200 159 0.456590\n"
     ]
    },
    {
     "name": "stdout",
     "output_type": "stream",
     "text": [
      "1/1 [==============================] - 0s 105ms/step\n"
     ]
    },
    {
     "name": "stderr",
     "output_type": "stream",
     "text": [
      "127.0.0.1 - - [2022-06-03 05:01:10] \"POST /predict HTTP/1.1\" 200 159 1.057062\n"
     ]
    },
    {
     "name": "stdout",
     "output_type": "stream",
     "text": [
      "1/1 [==============================] - 0s 78ms/step\n"
     ]
    },
    {
     "name": "stderr",
     "output_type": "stream",
     "text": [
      "127.0.0.1 - - [2022-06-03 05:01:11] \"POST /predict HTTP/1.1\" 200 159 0.342447\n"
     ]
    },
    {
     "name": "stdout",
     "output_type": "stream",
     "text": [
      "1/1 [==============================] - 0s 81ms/step\n"
     ]
    },
    {
     "name": "stderr",
     "output_type": "stream",
     "text": [
      "127.0.0.1 - - [2022-06-03 05:01:11] \"POST /predict HTTP/1.1\" 200 159 0.629055\n"
     ]
    },
    {
     "name": "stdout",
     "output_type": "stream",
     "text": [
      "1/1 [==============================] - 0s 62ms/step\n"
     ]
    },
    {
     "name": "stderr",
     "output_type": "stream",
     "text": [
      "127.0.0.1 - - [2022-06-03 05:01:12] \"POST /predict HTTP/1.1\" 200 159 0.785799\n"
     ]
    },
    {
     "name": "stdout",
     "output_type": "stream",
     "text": [
      "1/1 [==============================] - 0s 78ms/step\n"
     ]
    },
    {
     "name": "stderr",
     "output_type": "stream",
     "text": [
      "127.0.0.1 - - [2022-06-03 05:01:13] \"POST /predict HTTP/1.1\" 200 159 0.530252\n"
     ]
    },
    {
     "name": "stdout",
     "output_type": "stream",
     "text": [
      "1/1 [==============================] - 0s 94ms/step\n"
     ]
    },
    {
     "name": "stderr",
     "output_type": "stream",
     "text": [
      "127.0.0.1 - - [2022-06-03 05:01:13] \"POST /predict HTTP/1.1\" 200 159 0.328484\n"
     ]
    },
    {
     "name": "stdout",
     "output_type": "stream",
     "text": [
      "1/1 [==============================] - 0s 62ms/step\n"
     ]
    },
    {
     "name": "stderr",
     "output_type": "stream",
     "text": [
      "127.0.0.1 - - [2022-06-03 05:01:15] \"POST /predict HTTP/1.1\" 200 159 1.793707\n"
     ]
    },
    {
     "name": "stdout",
     "output_type": "stream",
     "text": [
      "1/1 [==============================] - 0s 78ms/step\n"
     ]
    },
    {
     "name": "stderr",
     "output_type": "stream",
     "text": [
      "127.0.0.1 - - [2022-06-03 05:01:16] \"POST /predict HTTP/1.1\" 200 159 0.483295\n"
     ]
    },
    {
     "name": "stdout",
     "output_type": "stream",
     "text": [
      "1/1 [==============================] - 0s 50ms/step\n"
     ]
    },
    {
     "name": "stderr",
     "output_type": "stream",
     "text": [
      "127.0.0.1 - - [2022-06-03 05:01:16] \"POST /predict HTTP/1.1\" 200 159 0.243050\n"
     ]
    },
    {
     "name": "stdout",
     "output_type": "stream",
     "text": [
      "1/1 [==============================] - 0s 63ms/step\n"
     ]
    },
    {
     "name": "stderr",
     "output_type": "stream",
     "text": [
      "127.0.0.1 - - [2022-06-03 05:01:16] \"POST /predict HTTP/1.1\" 200 160 0.191025\n"
     ]
    },
    {
     "name": "stdout",
     "output_type": "stream",
     "text": [
      "1/1 [==============================] - 0s 47ms/step\n"
     ]
    },
    {
     "name": "stderr",
     "output_type": "stream",
     "text": [
      "127.0.0.1 - - [2022-06-03 05:01:16] \"POST /predict HTTP/1.1\" 200 159 0.292710\n"
     ]
    },
    {
     "name": "stdout",
     "output_type": "stream",
     "text": [
      "1/1 [==============================] - 0s 62ms/step\n"
     ]
    },
    {
     "name": "stderr",
     "output_type": "stream",
     "text": [
      "127.0.0.1 - - [2022-06-03 05:01:17] \"POST /predict HTTP/1.1\" 200 159 0.356042\n"
     ]
    },
    {
     "name": "stdout",
     "output_type": "stream",
     "text": [
      "1/1 [==============================] - 0s 67ms/step\n"
     ]
    },
    {
     "name": "stderr",
     "output_type": "stream",
     "text": [
      "127.0.0.1 - - [2022-06-03 05:01:17] \"POST /predict HTTP/1.1\" 200 159 0.217566\n"
     ]
    },
    {
     "name": "stdout",
     "output_type": "stream",
     "text": [
      "1/1 [==============================] - 0s 47ms/step\n"
     ]
    },
    {
     "name": "stderr",
     "output_type": "stream",
     "text": [
      "127.0.0.1 - - [2022-06-03 05:01:18] \"POST /predict HTTP/1.1\" 200 159 0.468174\n"
     ]
    },
    {
     "name": "stdout",
     "output_type": "stream",
     "text": [
      "1/1 [==============================] - 0s 63ms/step\n"
     ]
    },
    {
     "name": "stderr",
     "output_type": "stream",
     "text": [
      "127.0.0.1 - - [2022-06-03 05:01:18] \"POST /predict HTTP/1.1\" 200 159 0.498580\n"
     ]
    },
    {
     "name": "stdout",
     "output_type": "stream",
     "text": [
      "1/1 [==============================] - 0s 63ms/step\n"
     ]
    },
    {
     "name": "stderr",
     "output_type": "stream",
     "text": [
      "127.0.0.1 - - [2022-06-03 05:01:19] \"POST /predict HTTP/1.1\" 200 159 0.585631\n"
     ]
    },
    {
     "name": "stdout",
     "output_type": "stream",
     "text": [
      "1/1 [==============================] - 0s 62ms/step\n"
     ]
    },
    {
     "name": "stderr",
     "output_type": "stream",
     "text": [
      "127.0.0.1 - - [2022-06-03 05:01:20] \"POST /predict HTTP/1.1\" 200 159 0.860521\n"
     ]
    },
    {
     "name": "stdout",
     "output_type": "stream",
     "text": [
      "1/1 [==============================] - 0s 71ms/step\n"
     ]
    },
    {
     "name": "stderr",
     "output_type": "stream",
     "text": [
      "127.0.0.1 - - [2022-06-03 05:01:20] \"POST /predict HTTP/1.1\" 200 159 0.287060\n"
     ]
    },
    {
     "name": "stdout",
     "output_type": "stream",
     "text": [
      "1/1 [==============================] - 0s 62ms/step\n"
     ]
    },
    {
     "name": "stderr",
     "output_type": "stream",
     "text": [
      "127.0.0.1 - - [2022-06-03 05:01:21] \"POST /predict HTTP/1.1\" 200 159 0.989253\n"
     ]
    },
    {
     "name": "stdout",
     "output_type": "stream",
     "text": [
      "1/1 [==============================] - 0s 90ms/step\n"
     ]
    },
    {
     "name": "stderr",
     "output_type": "stream",
     "text": [
      "127.0.0.1 - - [2022-06-03 05:01:21] \"POST /predict HTTP/1.1\" 200 159 0.229208\n"
     ]
    },
    {
     "name": "stdout",
     "output_type": "stream",
     "text": [
      "1/1 [==============================] - 0s 109ms/step\n"
     ]
    },
    {
     "name": "stderr",
     "output_type": "stream",
     "text": [
      "127.0.0.1 - - [2022-06-03 05:01:22] \"POST /predict HTTP/1.1\" 200 159 0.317821\n"
     ]
    },
    {
     "name": "stdout",
     "output_type": "stream",
     "text": [
      "1/1 [==============================] - 0s 67ms/step\n"
     ]
    },
    {
     "name": "stderr",
     "output_type": "stream",
     "text": [
      "127.0.0.1 - - [2022-06-03 05:01:22] \"POST /predict HTTP/1.1\" 200 159 0.298189\n"
     ]
    },
    {
     "name": "stdout",
     "output_type": "stream",
     "text": [
      "1/1 [==============================] - 0s 90ms/step\n"
     ]
    },
    {
     "name": "stderr",
     "output_type": "stream",
     "text": [
      "127.0.0.1 - - [2022-06-03 05:01:22] \"POST /predict HTTP/1.1\" 200 159 0.234406\n"
     ]
    },
    {
     "name": "stdout",
     "output_type": "stream",
     "text": [
      "1/1 [==============================] - 0s 47ms/step\n"
     ]
    },
    {
     "name": "stderr",
     "output_type": "stream",
     "text": [
      "127.0.0.1 - - [2022-06-03 05:01:23] \"POST /predict HTTP/1.1\" 200 159 0.366333\n"
     ]
    },
    {
     "name": "stdout",
     "output_type": "stream",
     "text": [
      "1/1 [==============================] - 0s 63ms/step\n"
     ]
    },
    {
     "name": "stderr",
     "output_type": "stream",
     "text": [
      "127.0.0.1 - - [2022-06-03 05:01:23] \"POST /predict HTTP/1.1\" 200 159 0.391439\n"
     ]
    },
    {
     "name": "stdout",
     "output_type": "stream",
     "text": [
      "1/1 [==============================] - 0s 63ms/step\n"
     ]
    },
    {
     "name": "stderr",
     "output_type": "stream",
     "text": [
      "127.0.0.1 - - [2022-06-03 05:01:24] \"POST /predict HTTP/1.1\" 200 159 0.357689\n"
     ]
    },
    {
     "name": "stdout",
     "output_type": "stream",
     "text": [
      "1/1 [==============================] - 0s 47ms/step\n"
     ]
    },
    {
     "name": "stderr",
     "output_type": "stream",
     "text": [
      "127.0.0.1 - - [2022-06-03 05:01:24] \"POST /predict HTTP/1.1\" 200 159 0.308703\n"
     ]
    },
    {
     "name": "stdout",
     "output_type": "stream",
     "text": [
      "1/1 [==============================] - 0s 63ms/step\n"
     ]
    },
    {
     "name": "stderr",
     "output_type": "stream",
     "text": [
      "127.0.0.1 - - [2022-06-03 05:01:25] \"POST /predict HTTP/1.1\" 200 160 0.429674\n"
     ]
    },
    {
     "name": "stdout",
     "output_type": "stream",
     "text": [
      "1/1 [==============================] - 0s 63ms/step\n"
     ]
    },
    {
     "name": "stderr",
     "output_type": "stream",
     "text": [
      "127.0.0.1 - - [2022-06-03 05:01:25] \"POST /predict HTTP/1.1\" 200 159 0.303130\n"
     ]
    },
    {
     "name": "stdout",
     "output_type": "stream",
     "text": [
      "1/1 [==============================] - 0s 70ms/step\n"
     ]
    },
    {
     "name": "stderr",
     "output_type": "stream",
     "text": [
      "127.0.0.1 - - [2022-06-03 05:01:25] \"POST /predict HTTP/1.1\" 200 159 0.235230\n"
     ]
    },
    {
     "name": "stdout",
     "output_type": "stream",
     "text": [
      "1/1 [==============================] - 0s 91ms/step\n"
     ]
    },
    {
     "name": "stderr",
     "output_type": "stream",
     "text": [
      "127.0.0.1 - - [2022-06-03 05:01:25] \"POST /predict HTTP/1.1\" 200 159 0.228674\n"
     ]
    },
    {
     "name": "stdout",
     "output_type": "stream",
     "text": [
      "1/1 [==============================] - 0s 71ms/step\n"
     ]
    },
    {
     "name": "stderr",
     "output_type": "stream",
     "text": [
      "127.0.0.1 - - [2022-06-03 05:01:26] \"POST /predict HTTP/1.1\" 200 159 0.211211\n"
     ]
    },
    {
     "name": "stdout",
     "output_type": "stream",
     "text": [
      "1/1 [==============================] - 0s 59ms/step\n"
     ]
    },
    {
     "name": "stderr",
     "output_type": "stream",
     "text": [
      "127.0.0.1 - - [2022-06-03 05:01:26] \"POST /predict HTTP/1.1\" 200 159 0.401603\n"
     ]
    },
    {
     "name": "stdout",
     "output_type": "stream",
     "text": [
      "1/1 [==============================] - 0s 66ms/step\n"
     ]
    },
    {
     "name": "stderr",
     "output_type": "stream",
     "text": [
      "127.0.0.1 - - [2022-06-03 05:01:26] \"POST /predict HTTP/1.1\" 200 160 0.214887\n"
     ]
    },
    {
     "name": "stdout",
     "output_type": "stream",
     "text": [
      "1/1 [==============================] - 0s 73ms/step\n"
     ]
    },
    {
     "name": "stderr",
     "output_type": "stream",
     "text": [
      "127.0.0.1 - - [2022-06-03 05:01:27] \"POST /predict HTTP/1.1\" 200 160 0.210165\n"
     ]
    },
    {
     "name": "stdout",
     "output_type": "stream",
     "text": [
      "1/1 [==============================] - 0s 47ms/step\n"
     ]
    },
    {
     "name": "stderr",
     "output_type": "stream",
     "text": [
      "127.0.0.1 - - [2022-06-03 05:01:27] \"POST /predict HTTP/1.1\" 200 159 0.700797\n"
     ]
    },
    {
     "name": "stdout",
     "output_type": "stream",
     "text": [
      "1/1 [==============================] - 0s 61ms/step\n"
     ]
    },
    {
     "name": "stderr",
     "output_type": "stream",
     "text": [
      "127.0.0.1 - - [2022-06-03 05:01:28] \"POST /predict HTTP/1.1\" 200 159 0.674329\n"
     ]
    },
    {
     "name": "stdout",
     "output_type": "stream",
     "text": [
      "1/1 [==============================] - 0s 63ms/step\n"
     ]
    },
    {
     "name": "stderr",
     "output_type": "stream",
     "text": [
      "127.0.0.1 - - [2022-06-03 05:01:29] \"POST /predict HTTP/1.1\" 200 159 0.731358\n"
     ]
    },
    {
     "name": "stdout",
     "output_type": "stream",
     "text": [
      "1/1 [==============================] - 0s 72ms/step\n"
     ]
    },
    {
     "name": "stderr",
     "output_type": "stream",
     "text": [
      "127.0.0.1 - - [2022-06-03 05:01:29] \"POST /predict HTTP/1.1\" 200 159 0.218666\n"
     ]
    },
    {
     "name": "stdout",
     "output_type": "stream",
     "text": [
      "1/1 [==============================] - 0s 78ms/step\n"
     ]
    },
    {
     "name": "stderr",
     "output_type": "stream",
     "text": [
      "127.0.0.1 - - [2022-06-03 05:01:29] \"POST /predict HTTP/1.1\" 200 159 0.232497\n"
     ]
    },
    {
     "name": "stdout",
     "output_type": "stream",
     "text": [
      "1/1 [==============================] - 0s 71ms/step\n"
     ]
    },
    {
     "name": "stderr",
     "output_type": "stream",
     "text": [
      "127.0.0.1 - - [2022-06-03 05:01:30] \"POST /predict HTTP/1.1\" 200 159 0.206887\n"
     ]
    },
    {
     "name": "stdout",
     "output_type": "stream",
     "text": [
      "1/1 [==============================] - 0s 55ms/step\n"
     ]
    },
    {
     "name": "stderr",
     "output_type": "stream",
     "text": [
      "127.0.0.1 - - [2022-06-03 05:01:30] \"POST /predict HTTP/1.1\" 200 159 0.278922\n"
     ]
    },
    {
     "name": "stdout",
     "output_type": "stream",
     "text": [
      "1/1 [==============================] - 0s 62ms/step\n"
     ]
    },
    {
     "name": "stderr",
     "output_type": "stream",
     "text": [
      "127.0.0.1 - - [2022-06-03 05:01:30] \"POST /predict HTTP/1.1\" 200 159 0.507875\n"
     ]
    },
    {
     "name": "stdout",
     "output_type": "stream",
     "text": [
      "1/1 [==============================] - 0s 47ms/step\n"
     ]
    },
    {
     "name": "stderr",
     "output_type": "stream",
     "text": [
      "127.0.0.1 - - [2022-06-03 05:01:31] \"POST /predict HTTP/1.1\" 200 159 0.830690\n"
     ]
    },
    {
     "name": "stdout",
     "output_type": "stream",
     "text": [
      "1/1 [==============================] - 0s 78ms/step\n"
     ]
    },
    {
     "name": "stderr",
     "output_type": "stream",
     "text": [
      "127.0.0.1 - - [2022-06-03 05:01:32] \"POST /predict HTTP/1.1\" 200 159 0.549623\n"
     ]
    },
    {
     "name": "stdout",
     "output_type": "stream",
     "text": [
      "1/1 [==============================] - 0s 54ms/step\n"
     ]
    },
    {
     "name": "stderr",
     "output_type": "stream",
     "text": [
      "127.0.0.1 - - [2022-06-03 05:01:32] \"POST /predict HTTP/1.1\" 200 159 0.323821\n"
     ]
    },
    {
     "name": "stdout",
     "output_type": "stream",
     "text": [
      "1/1 [==============================] - 0s 94ms/step\n"
     ]
    },
    {
     "name": "stderr",
     "output_type": "stream",
     "text": [
      "127.0.0.1 - - [2022-06-03 05:01:33] \"POST /predict HTTP/1.1\" 200 159 0.269469\n"
     ]
    },
    {
     "name": "stdout",
     "output_type": "stream",
     "text": [
      "1/1 [==============================] - 0s 62ms/step\n"
     ]
    },
    {
     "name": "stderr",
     "output_type": "stream",
     "text": [
      "127.0.0.1 - - [2022-06-03 05:01:34] \"POST /predict HTTP/1.1\" 200 159 0.991975\n"
     ]
    },
    {
     "name": "stdout",
     "output_type": "stream",
     "text": [
      "1/1 [==============================] - 0s 57ms/step\n"
     ]
    },
    {
     "name": "stderr",
     "output_type": "stream",
     "text": [
      "127.0.0.1 - - [2022-06-03 05:01:34] \"POST /predict HTTP/1.1\" 200 159 0.267619\n"
     ]
    },
    {
     "name": "stdout",
     "output_type": "stream",
     "text": [
      "1/1 [==============================] - 0s 60ms/step\n"
     ]
    },
    {
     "name": "stderr",
     "output_type": "stream",
     "text": [
      "127.0.0.1 - - [2022-06-03 05:01:34] \"POST /predict HTTP/1.1\" 200 159 0.251613\n"
     ]
    },
    {
     "name": "stdout",
     "output_type": "stream",
     "text": [
      "1/1 [==============================] - 0s 62ms/step\n"
     ]
    },
    {
     "name": "stderr",
     "output_type": "stream",
     "text": [
      "127.0.0.1 - - [2022-06-03 05:01:35] \"POST /predict HTTP/1.1\" 200 159 0.311839\n"
     ]
    },
    {
     "name": "stdout",
     "output_type": "stream",
     "text": [
      "1/1 [==============================] - 0s 71ms/step\n"
     ]
    },
    {
     "name": "stderr",
     "output_type": "stream",
     "text": [
      "127.0.0.1 - - [2022-06-03 05:01:35] \"POST /predict HTTP/1.1\" 200 159 0.196205\n"
     ]
    },
    {
     "name": "stdout",
     "output_type": "stream",
     "text": [
      "1/1 [==============================] - 0s 83ms/step\n"
     ]
    },
    {
     "name": "stderr",
     "output_type": "stream",
     "text": [
      "127.0.0.1 - - [2022-06-03 05:01:35] \"POST /predict HTTP/1.1\" 200 159 0.235119\n"
     ]
    },
    {
     "name": "stdout",
     "output_type": "stream",
     "text": [
      "1/1 [==============================] - 0s 74ms/step\n"
     ]
    },
    {
     "name": "stderr",
     "output_type": "stream",
     "text": [
      "127.0.0.1 - - [2022-06-03 05:01:35] \"POST /predict HTTP/1.1\" 200 159 0.184956\n"
     ]
    },
    {
     "name": "stdout",
     "output_type": "stream",
     "text": [
      "1/1 [==============================] - 0s 62ms/step\n"
     ]
    },
    {
     "name": "stderr",
     "output_type": "stream",
     "text": [
      "127.0.0.1 - - [2022-06-03 05:01:36] \"POST /predict HTTP/1.1\" 200 159 0.611942\n"
     ]
    },
    {
     "name": "stdout",
     "output_type": "stream",
     "text": [
      "1/1 [==============================] - 0s 47ms/step\n"
     ]
    },
    {
     "name": "stderr",
     "output_type": "stream",
     "text": [
      "127.0.0.1 - - [2022-06-03 05:01:36] \"POST /predict HTTP/1.1\" 200 159 0.242075\n"
     ]
    },
    {
     "name": "stdout",
     "output_type": "stream",
     "text": [
      "1/1 [==============================] - 0s 57ms/step\n"
     ]
    },
    {
     "name": "stderr",
     "output_type": "stream",
     "text": [
      "127.0.0.1 - - [2022-06-03 05:01:37] \"POST /predict HTTP/1.1\" 200 159 0.223555\n"
     ]
    },
    {
     "name": "stdout",
     "output_type": "stream",
     "text": [
      "1/1 [==============================] - 0s 42ms/step\n"
     ]
    },
    {
     "name": "stderr",
     "output_type": "stream",
     "text": [
      "127.0.0.1 - - [2022-06-03 05:01:37] \"POST /predict HTTP/1.1\" 200 159 0.289108\n"
     ]
    },
    {
     "name": "stdout",
     "output_type": "stream",
     "text": [
      "1/1 [==============================] - 0s 69ms/step\n"
     ]
    },
    {
     "name": "stderr",
     "output_type": "stream",
     "text": [
      "127.0.0.1 - - [2022-06-03 05:01:37] \"POST /predict HTTP/1.1\" 200 159 0.187970\n"
     ]
    },
    {
     "name": "stdout",
     "output_type": "stream",
     "text": [
      "1/1 [==============================] - 0s 52ms/step\n"
     ]
    },
    {
     "name": "stderr",
     "output_type": "stream",
     "text": [
      "127.0.0.1 - - [2022-06-03 05:01:37] \"POST /predict HTTP/1.1\" 200 159 0.237722\n"
     ]
    },
    {
     "name": "stdout",
     "output_type": "stream",
     "text": [
      "1/1 [==============================] - 0s 91ms/step\n"
     ]
    },
    {
     "name": "stderr",
     "output_type": "stream",
     "text": [
      "127.0.0.1 - - [2022-06-03 05:01:38] \"POST /predict HTTP/1.1\" 200 159 0.436365\n"
     ]
    },
    {
     "name": "stdout",
     "output_type": "stream",
     "text": [
      "1/1 [==============================] - 0s 60ms/step\n"
     ]
    },
    {
     "name": "stderr",
     "output_type": "stream",
     "text": [
      "127.0.0.1 - - [2022-06-03 05:01:38] \"POST /predict HTTP/1.1\" 200 160 0.261217\n"
     ]
    },
    {
     "name": "stdout",
     "output_type": "stream",
     "text": [
      "1/1 [==============================] - 0s 56ms/step\n"
     ]
    },
    {
     "name": "stderr",
     "output_type": "stream",
     "text": [
      "127.0.0.1 - - [2022-06-03 05:01:39] \"POST /predict HTTP/1.1\" 200 159 0.285833\n"
     ]
    },
    {
     "name": "stdout",
     "output_type": "stream",
     "text": [
      "1/1 [==============================] - 0s 81ms/step\n"
     ]
    },
    {
     "name": "stderr",
     "output_type": "stream",
     "text": [
      "127.0.0.1 - - [2022-06-03 05:01:39] \"POST /predict HTTP/1.1\" 200 159 0.261874\n"
     ]
    },
    {
     "name": "stdout",
     "output_type": "stream",
     "text": [
      "1/1 [==============================] - 0s 71ms/step\n"
     ]
    },
    {
     "name": "stderr",
     "output_type": "stream",
     "text": [
      "127.0.0.1 - - [2022-06-03 05:01:39] \"POST /predict HTTP/1.1\" 200 160 0.203206\n"
     ]
    },
    {
     "name": "stdout",
     "output_type": "stream",
     "text": [
      "1/1 [==============================] - 0s 137ms/step\n"
     ]
    },
    {
     "name": "stderr",
     "output_type": "stream",
     "text": [
      "127.0.0.1 - - [2022-06-03 05:01:40] \"POST /predict HTTP/1.1\" 200 159 0.480402\n"
     ]
    },
    {
     "name": "stdout",
     "output_type": "stream",
     "text": [
      "1/1 [==============================] - 0s 62ms/step\n"
     ]
    },
    {
     "name": "stderr",
     "output_type": "stream",
     "text": [
      "127.0.0.1 - - [2022-06-03 05:01:40] \"POST /predict HTTP/1.1\" 200 159 0.468745\n"
     ]
    },
    {
     "name": "stdout",
     "output_type": "stream",
     "text": [
      "1/1 [==============================] - 0s 89ms/step\n"
     ]
    },
    {
     "name": "stderr",
     "output_type": "stream",
     "text": [
      "127.0.0.1 - - [2022-06-03 05:01:41] \"POST /predict HTTP/1.1\" 200 159 0.395126\n"
     ]
    },
    {
     "name": "stdout",
     "output_type": "stream",
     "text": [
      "1/1 [==============================] - 0s 87ms/step\n"
     ]
    },
    {
     "name": "stderr",
     "output_type": "stream",
     "text": [
      "127.0.0.1 - - [2022-06-03 05:01:41] \"POST /predict HTTP/1.1\" 200 159 0.311002\n"
     ]
    },
    {
     "name": "stdout",
     "output_type": "stream",
     "text": [
      "1/1 [==============================] - 0s 82ms/step\n"
     ]
    },
    {
     "name": "stderr",
     "output_type": "stream",
     "text": [
      "127.0.0.1 - - [2022-06-03 05:01:41] \"POST /predict HTTP/1.1\" 200 159 0.360088\n"
     ]
    },
    {
     "name": "stdout",
     "output_type": "stream",
     "text": [
      "1/1 [==============================] - 0s 82ms/step\n"
     ]
    },
    {
     "name": "stderr",
     "output_type": "stream",
     "text": [
      "127.0.0.1 - - [2022-06-03 05:01:42] \"POST /predict HTTP/1.1\" 200 159 0.301656\n",
      "127.0.0.1 - - [2022-06-03 05:01:42] \"POST /predict HTTP/1.1\" 200 153 0.003002\n",
      "127.0.0.1 - - [2022-06-03 05:01:42] \"POST /predict HTTP/1.1\" 200 153 0.003998\n",
      "127.0.0.1 - - [2022-06-03 05:01:42] \"POST /predict HTTP/1.1\" 200 153 0.002996\n",
      "127.0.0.1 - - [2022-06-03 05:01:42] \"POST /predict HTTP/1.1\" 200 153 0.002997\n",
      "127.0.0.1 - - [2022-06-03 05:01:42] \"POST /predict HTTP/1.1\" 200 153 0.003004\n",
      "127.0.0.1 - - [2022-06-03 05:01:42] \"POST /predict HTTP/1.1\" 200 153 0.002998\n",
      "127.0.0.1 - - [2022-06-03 05:01:42] \"POST /predict HTTP/1.1\" 200 153 0.005002\n",
      "127.0.0.1 - - [2022-06-03 05:01:42] \"POST /predict HTTP/1.1\" 200 153 0.003001\n",
      "127.0.0.1 - - [2022-06-03 05:01:42] \"POST /predict HTTP/1.1\" 200 153 0.002998\n",
      "127.0.0.1 - - [2022-06-03 05:01:42] \"POST /predict HTTP/1.1\" 200 153 0.002003\n",
      "127.0.0.1 - - [2022-06-03 05:01:42] \"POST /predict HTTP/1.1\" 200 153 0.002999\n",
      "127.0.0.1 - - [2022-06-03 05:01:42] \"POST /predict HTTP/1.1\" 200 153 0.003002\n",
      "127.0.0.1 - - [2022-06-03 05:01:42] \"POST /predict HTTP/1.1\" 200 153 0.002997\n",
      "127.0.0.1 - - [2022-06-03 05:01:42] \"POST /predict HTTP/1.1\" 200 153 0.003006\n",
      "127.0.0.1 - - [2022-06-03 05:01:42] \"POST /predict HTTP/1.1\" 200 153 0.002992\n",
      "127.0.0.1 - - [2022-06-03 05:01:42] \"POST /predict HTTP/1.1\" 200 153 0.003000\n",
      "127.0.0.1 - - [2022-06-03 05:01:42] \"POST /predict HTTP/1.1\" 200 153 0.004000\n",
      "127.0.0.1 - - [2022-06-03 05:01:42] \"POST /predict HTTP/1.1\" 200 153 0.003999\n",
      "127.0.0.1 - - [2022-06-03 05:01:42] \"POST /predict HTTP/1.1\" 200 153 0.003997\n",
      "127.0.0.1 - - [2022-06-03 05:01:42] \"POST /predict HTTP/1.1\" 200 153 0.003999\n",
      "127.0.0.1 - - [2022-06-03 05:01:42] \"POST /predict HTTP/1.1\" 200 153 0.003002\n",
      "127.0.0.1 - - [2022-06-03 05:01:42] \"POST /predict HTTP/1.1\" 200 153 0.003998\n",
      "127.0.0.1 - - [2022-06-03 05:01:42] \"POST /predict HTTP/1.1\" 200 153 0.003002\n",
      "127.0.0.1 - - [2022-06-03 05:01:42] \"POST /predict HTTP/1.1\" 200 153 0.002998\n",
      "127.0.0.1 - - [2022-06-03 05:01:42] \"POST /predict HTTP/1.1\" 200 153 0.004002\n",
      "127.0.0.1 - - [2022-06-03 05:01:42] \"POST /predict HTTP/1.1\" 200 153 0.003002\n",
      "127.0.0.1 - - [2022-06-03 05:01:42] \"POST /predict HTTP/1.1\" 200 153 0.002999\n",
      "127.0.0.1 - - [2022-06-03 05:01:42] \"POST /predict HTTP/1.1\" 200 153 0.000000\n",
      "127.0.0.1 - - [2022-06-03 05:01:42] \"POST /predict HTTP/1.1\" 200 153 0.000000\n",
      "127.0.0.1 - - [2022-06-03 05:01:42] \"POST /predict HTTP/1.1\" 200 153 0.000000\n",
      "127.0.0.1 - - [2022-06-03 05:01:42] \"POST /predict HTTP/1.1\" 200 153 0.003999\n",
      "127.0.0.1 - - [2022-06-03 05:01:42] \"POST /predict HTTP/1.1\" 200 153 0.000000\n",
      "127.0.0.1 - - [2022-06-03 05:01:42] \"POST /predict HTTP/1.1\" 200 153 0.000000\n",
      "127.0.0.1 - - [2022-06-03 05:01:42] \"POST /predict HTTP/1.1\" 200 153 0.001998\n",
      "127.0.0.1 - - [2022-06-03 05:01:42] \"POST /predict HTTP/1.1\" 200 153 0.003088\n",
      "127.0.0.1 - - [2022-06-03 05:01:42] \"POST /predict HTTP/1.1\" 200 153 0.000000\n",
      "127.0.0.1 - - [2022-06-03 05:01:42] \"POST /predict HTTP/1.1\" 200 153 0.000000\n",
      "127.0.0.1 - - [2022-06-03 05:01:42] \"POST /predict HTTP/1.1\" 200 153 0.000000\n",
      "127.0.0.1 - - [2022-06-03 05:01:42] \"POST /predict HTTP/1.1\" 200 153 0.000000\n",
      "127.0.0.1 - - [2022-06-03 05:01:42] \"POST /predict HTTP/1.1\" 200 153 0.000000\n",
      "127.0.0.1 - - [2022-06-03 05:01:42] \"POST /predict HTTP/1.1\" 200 153 0.000000\n",
      "127.0.0.1 - - [2022-06-03 05:01:42] \"POST /predict HTTP/1.1\" 200 153 0.000000\n",
      "127.0.0.1 - - [2022-06-03 05:01:42] \"POST /predict HTTP/1.1\" 200 153 0.000000\n",
      "127.0.0.1 - - [2022-06-03 05:01:42] \"POST /predict HTTP/1.1\" 200 153 0.000000\n",
      "127.0.0.1 - - [2022-06-03 05:01:42] \"POST /predict HTTP/1.1\" 200 153 0.015627\n",
      "127.0.0.1 - - [2022-06-03 05:01:42] \"POST /predict HTTP/1.1\" 200 153 0.000000\n",
      "127.0.0.1 - - [2022-06-03 05:01:42] \"POST /predict HTTP/1.1\" 200 153 0.000000\n",
      "127.0.0.1 - - [2022-06-03 05:01:42] \"POST /predict HTTP/1.1\" 200 153 0.011162\n",
      "127.0.0.1 - - [2022-06-03 05:01:42] \"POST /predict HTTP/1.1\" 200 153 0.002995\n",
      "127.0.0.1 - - [2022-06-03 05:01:43] \"POST /predict HTTP/1.1\" 200 153 0.003004\n",
      "127.0.0.1 - - [2022-06-03 05:01:43] \"POST /predict HTTP/1.1\" 200 153 0.002999\n",
      "127.0.0.1 - - [2022-06-03 05:01:43] \"POST /predict HTTP/1.1\" 200 153 0.001998\n",
      "127.0.0.1 - - [2022-06-03 05:01:43] \"POST /predict HTTP/1.1\" 200 153 0.003001\n",
      "127.0.0.1 - - [2022-06-03 05:01:43] \"POST /predict HTTP/1.1\" 200 153 0.002990\n",
      "127.0.0.1 - - [2022-06-03 05:01:43] \"POST /predict HTTP/1.1\" 200 153 0.002003\n",
      "127.0.0.1 - - [2022-06-03 05:01:43] \"POST /predict HTTP/1.1\" 200 153 0.003000\n",
      "127.0.0.1 - - [2022-06-03 05:01:43] \"POST /predict HTTP/1.1\" 200 153 0.003001\n",
      "127.0.0.1 - - [2022-06-03 05:01:43] \"POST /predict HTTP/1.1\" 200 153 0.002996\n",
      "127.0.0.1 - - [2022-06-03 05:01:43] \"POST /predict HTTP/1.1\" 200 153 0.002999\n",
      "127.0.0.1 - - [2022-06-03 05:01:43] \"POST /predict HTTP/1.1\" 200 153 0.001994\n",
      "127.0.0.1 - - [2022-06-03 05:01:43] \"POST /predict HTTP/1.1\" 200 153 0.001998\n",
      "127.0.0.1 - - [2022-06-03 05:01:43] \"POST /predict HTTP/1.1\" 200 153 0.003000\n",
      "127.0.0.1 - - [2022-06-03 05:01:43] \"POST /predict HTTP/1.1\" 200 153 0.003003\n",
      "127.0.0.1 - - [2022-06-03 05:01:43] \"POST /predict HTTP/1.1\" 200 153 0.006992\n",
      "127.0.0.1 - - [2022-06-03 05:01:43] \"POST /predict HTTP/1.1\" 200 153 0.004998\n",
      "127.0.0.1 - - [2022-06-03 05:01:43] \"POST /predict HTTP/1.1\" 200 153 0.003001\n",
      "127.0.0.1 - - [2022-06-03 05:01:43] \"POST /predict HTTP/1.1\" 200 153 0.003000\n",
      "127.0.0.1 - - [2022-06-03 05:01:43] \"POST /predict HTTP/1.1\" 200 153 0.003994\n",
      "127.0.0.1 - - [2022-06-03 05:01:43] \"POST /predict HTTP/1.1\" 200 153 0.002995\n",
      "127.0.0.1 - - [2022-06-03 05:01:43] \"POST /predict HTTP/1.1\" 200 153 0.003001\n",
      "127.0.0.1 - - [2022-06-03 05:01:43] \"POST /predict HTTP/1.1\" 200 153 0.002999\n",
      "127.0.0.1 - - [2022-06-03 05:01:43] \"POST /predict HTTP/1.1\" 200 153 0.001997\n",
      "127.0.0.1 - - [2022-06-03 05:01:43] \"POST /predict HTTP/1.1\" 200 153 0.001999\n",
      "127.0.0.1 - - [2022-06-03 05:01:43] \"POST /predict HTTP/1.1\" 200 153 0.002996\n",
      "127.0.0.1 - - [2022-06-03 05:01:43] \"POST /predict HTTP/1.1\" 200 153 0.002999\n",
      "127.0.0.1 - - [2022-06-03 05:01:43] \"POST /predict HTTP/1.1\" 200 153 0.002998\n",
      "127.0.0.1 - - [2022-06-03 05:01:43] \"POST /predict HTTP/1.1\" 200 153 0.003000\n",
      "127.0.0.1 - - [2022-06-03 05:01:43] \"POST /predict HTTP/1.1\" 200 153 0.003998\n"
     ]
    },
    {
     "name": "stdout",
     "output_type": "stream",
     "text": [
      "1/1 [==============================] - 0s 63ms/step\n"
     ]
    },
    {
     "name": "stderr",
     "output_type": "stream",
     "text": [
      "127.0.0.1 - - [2022-06-03 05:01:43] \"POST /predict HTTP/1.1\" 200 159 0.189812\n"
     ]
    },
    {
     "name": "stdout",
     "output_type": "stream",
     "text": [
      "1/1 [==============================] - 0s 62ms/step\n"
     ]
    },
    {
     "name": "stderr",
     "output_type": "stream",
     "text": [
      "127.0.0.1 - - [2022-06-03 05:01:43] \"POST /predict HTTP/1.1\" 200 160 0.214812\n"
     ]
    },
    {
     "name": "stdout",
     "output_type": "stream",
     "text": [
      "1/1 [==============================] - 0s 47ms/step\n"
     ]
    },
    {
     "name": "stderr",
     "output_type": "stream",
     "text": [
      "127.0.0.1 - - [2022-06-03 05:01:44] \"POST /predict HTTP/1.1\" 200 160 0.203127\n"
     ]
    },
    {
     "name": "stdout",
     "output_type": "stream",
     "text": [
      "1/1 [==============================] - 0s 78ms/step\n"
     ]
    },
    {
     "name": "stderr",
     "output_type": "stream",
     "text": [
      "127.0.0.1 - - [2022-06-03 05:01:44] \"POST /predict HTTP/1.1\" 200 160 0.312500\n"
     ]
    },
    {
     "name": "stdout",
     "output_type": "stream",
     "text": [
      "1/1 [==============================] - 0s 78ms/step\n"
     ]
    },
    {
     "name": "stderr",
     "output_type": "stream",
     "text": [
      "127.0.0.1 - - [2022-06-03 05:01:44] \"POST /predict HTTP/1.1\" 200 160 0.265634\n"
     ]
    },
    {
     "name": "stdout",
     "output_type": "stream",
     "text": [
      "1/1 [==============================] - 0s 62ms/step\n"
     ]
    },
    {
     "name": "stderr",
     "output_type": "stream",
     "text": [
      "127.0.0.1 - - [2022-06-03 05:01:45] \"POST /predict HTTP/1.1\" 200 160 0.296879\n"
     ]
    },
    {
     "name": "stdout",
     "output_type": "stream",
     "text": [
      "1/1 [==============================] - 0s 62ms/step\n"
     ]
    },
    {
     "name": "stderr",
     "output_type": "stream",
     "text": [
      "127.0.0.1 - - [2022-06-03 05:01:45] \"POST /predict HTTP/1.1\" 200 160 0.343752\n"
     ]
    },
    {
     "name": "stdout",
     "output_type": "stream",
     "text": [
      "1/1 [==============================] - 0s 92ms/step\n"
     ]
    },
    {
     "name": "stderr",
     "output_type": "stream",
     "text": [
      "127.0.0.1 - - [2022-06-03 05:01:45] \"POST /predict HTTP/1.1\" 200 159 0.289646\n"
     ]
    },
    {
     "name": "stdout",
     "output_type": "stream",
     "text": [
      "1/1 [==============================] - 0s 86ms/step\n"
     ]
    },
    {
     "name": "stderr",
     "output_type": "stream",
     "text": [
      "127.0.0.1 - - [2022-06-03 05:01:46] \"POST /predict HTTP/1.1\" 200 159 0.402838\n"
     ]
    },
    {
     "name": "stdout",
     "output_type": "stream",
     "text": [
      "1/1 [==============================] - 0s 87ms/step\n"
     ]
    },
    {
     "name": "stderr",
     "output_type": "stream",
     "text": [
      "127.0.0.1 - - [2022-06-03 05:01:46] \"POST /predict HTTP/1.1\" 200 159 0.450177\n"
     ]
    },
    {
     "name": "stdout",
     "output_type": "stream",
     "text": [
      "1/1 [==============================] - 0s 75ms/step\n"
     ]
    },
    {
     "name": "stderr",
     "output_type": "stream",
     "text": [
      "127.0.0.1 - - [2022-06-03 05:01:47] \"POST /predict HTTP/1.1\" 200 159 0.379430\n"
     ]
    },
    {
     "name": "stdout",
     "output_type": "stream",
     "text": [
      "1/1 [==============================] - 0s 78ms/step\n"
     ]
    },
    {
     "name": "stderr",
     "output_type": "stream",
     "text": [
      "127.0.0.1 - - [2022-06-03 05:01:47] \"POST /predict HTTP/1.1\" 200 159 0.391658\n"
     ]
    },
    {
     "name": "stdout",
     "output_type": "stream",
     "text": [
      "1/1 [==============================] - 0s 76ms/step\n"
     ]
    },
    {
     "name": "stderr",
     "output_type": "stream",
     "text": [
      "127.0.0.1 - - [2022-06-03 05:01:48] \"POST /predict HTTP/1.1\" 200 159 0.302528\n"
     ]
    },
    {
     "name": "stdout",
     "output_type": "stream",
     "text": [
      "1/1 [==============================] - 0s 125ms/step\n"
     ]
    },
    {
     "name": "stderr",
     "output_type": "stream",
     "text": [
      "127.0.0.1 - - [2022-06-03 05:01:48] \"POST /predict HTTP/1.1\" 200 160 0.486379\n"
     ]
    },
    {
     "name": "stdout",
     "output_type": "stream",
     "text": [
      "1/1 [==============================] - 0s 97ms/step\n"
     ]
    },
    {
     "name": "stderr",
     "output_type": "stream",
     "text": [
      "127.0.0.1 - - [2022-06-03 05:01:48] \"POST /predict HTTP/1.1\" 200 160 0.273085\n"
     ]
    },
    {
     "name": "stdout",
     "output_type": "stream",
     "text": [
      "1/1 [==============================] - 0s 71ms/step\n"
     ]
    },
    {
     "name": "stderr",
     "output_type": "stream",
     "text": [
      "127.0.0.1 - - [2022-06-03 05:01:49] \"POST /predict HTTP/1.1\" 200 159 0.257016\n"
     ]
    },
    {
     "name": "stdout",
     "output_type": "stream",
     "text": [
      "1/1 [==============================] - 0s 80ms/step\n"
     ]
    },
    {
     "name": "stderr",
     "output_type": "stream",
     "text": [
      "127.0.0.1 - - [2022-06-03 05:01:49] \"POST /predict HTTP/1.1\" 200 159 0.256897\n"
     ]
    },
    {
     "name": "stdout",
     "output_type": "stream",
     "text": [
      "1/1 [==============================] - 0s 88ms/step\n"
     ]
    },
    {
     "name": "stderr",
     "output_type": "stream",
     "text": [
      "127.0.0.1 - - [2022-06-03 05:01:49] \"POST /predict HTTP/1.1\" 200 159 0.250140\n"
     ]
    },
    {
     "name": "stdout",
     "output_type": "stream",
     "text": [
      "1/1 [==============================] - 0s 397ms/step\n"
     ]
    },
    {
     "name": "stderr",
     "output_type": "stream",
     "text": [
      "127.0.0.1 - - [2022-06-03 05:01:51] \"POST /predict HTTP/1.1\" 200 160 1.175331\n"
     ]
    },
    {
     "name": "stdout",
     "output_type": "stream",
     "text": [
      "1/1 [==============================] - 0s 168ms/step\n"
     ]
    },
    {
     "name": "stderr",
     "output_type": "stream",
     "text": [
      "127.0.0.1 - - [2022-06-03 05:01:51] \"POST /predict HTTP/1.1\" 200 159 0.621009\n"
     ]
    },
    {
     "name": "stdout",
     "output_type": "stream",
     "text": [
      "1/1 [==============================] - 0s 88ms/step\n"
     ]
    },
    {
     "name": "stderr",
     "output_type": "stream",
     "text": [
      "127.0.0.1 - - [2022-06-03 05:01:52] \"POST /predict HTTP/1.1\" 200 160 1.060005\n"
     ]
    },
    {
     "name": "stdout",
     "output_type": "stream",
     "text": [
      "1/1 [==============================] - 0s 80ms/step\n"
     ]
    },
    {
     "name": "stderr",
     "output_type": "stream",
     "text": [
      "127.0.0.1 - - [2022-06-03 05:01:53] \"POST /predict HTTP/1.1\" 200 160 0.401001\n"
     ]
    },
    {
     "name": "stdout",
     "output_type": "stream",
     "text": [
      "1/1 [==============================] - 0s 152ms/step\n"
     ]
    },
    {
     "name": "stderr",
     "output_type": "stream",
     "text": [
      "127.0.0.1 - - [2022-06-03 05:01:54] \"POST /predict HTTP/1.1\" 200 159 1.469597\n"
     ]
    },
    {
     "name": "stdout",
     "output_type": "stream",
     "text": [
      "1/1 [==============================] - 0s 117ms/step\n"
     ]
    },
    {
     "name": "stderr",
     "output_type": "stream",
     "text": [
      "127.0.0.1 - - [2022-06-03 05:01:55] \"POST /predict HTTP/1.1\" 200 160 0.681712\n"
     ]
    },
    {
     "name": "stdout",
     "output_type": "stream",
     "text": [
      "1/1 [==============================] - 0s 79ms/step\n"
     ]
    },
    {
     "name": "stderr",
     "output_type": "stream",
     "text": [
      "127.0.0.1 - - [2022-06-03 05:01:56] \"POST /predict HTTP/1.1\" 200 159 0.418128\n"
     ]
    },
    {
     "name": "stdout",
     "output_type": "stream",
     "text": [
      "1/1 [==============================] - 0s 110ms/step\n"
     ]
    },
    {
     "name": "stderr",
     "output_type": "stream",
     "text": [
      "127.0.0.1 - - [2022-06-03 05:01:56] \"POST /predict HTTP/1.1\" 200 160 0.542528\n"
     ]
    },
    {
     "name": "stdout",
     "output_type": "stream",
     "text": [
      "1/1 [==============================] - 0s 130ms/step\n"
     ]
    },
    {
     "name": "stderr",
     "output_type": "stream",
     "text": [
      "127.0.0.1 - - [2022-06-03 05:01:57] \"POST /predict HTTP/1.1\" 200 160 0.783741\n"
     ]
    },
    {
     "name": "stdout",
     "output_type": "stream",
     "text": [
      "1/1 [==============================] - 0s 155ms/step\n"
     ]
    },
    {
     "name": "stderr",
     "output_type": "stream",
     "text": [
      "127.0.0.1 - - [2022-06-03 05:01:57] \"POST /predict HTTP/1.1\" 200 159 0.554871\n"
     ]
    },
    {
     "name": "stdout",
     "output_type": "stream",
     "text": [
      "1/1 [==============================] - 0s 85ms/step\n"
     ]
    },
    {
     "name": "stderr",
     "output_type": "stream",
     "text": [
      "127.0.0.1 - - [2022-06-03 05:01:58] \"POST /predict HTTP/1.1\" 200 159 0.848810\n"
     ]
    },
    {
     "name": "stdout",
     "output_type": "stream",
     "text": [
      "1/1 [==============================] - 0s 80ms/step\n"
     ]
    },
    {
     "name": "stderr",
     "output_type": "stream",
     "text": [
      "127.0.0.1 - - [2022-06-03 05:01:59] \"POST /predict HTTP/1.1\" 200 160 0.488993\n"
     ]
    },
    {
     "name": "stdout",
     "output_type": "stream",
     "text": [
      "1/1 [==============================] - 0s 88ms/step\n"
     ]
    },
    {
     "name": "stderr",
     "output_type": "stream",
     "text": [
      "127.0.0.1 - - [2022-06-03 05:02:00] \"POST /predict HTTP/1.1\" 200 160 0.760004\n"
     ]
    },
    {
     "name": "stdout",
     "output_type": "stream",
     "text": [
      "1/1 [==============================] - 0s 105ms/step\n"
     ]
    },
    {
     "name": "stderr",
     "output_type": "stream",
     "text": [
      "127.0.0.1 - - [2022-06-03 05:02:00] \"POST /predict HTTP/1.1\" 200 160 0.374002\n"
     ]
    },
    {
     "name": "stdout",
     "output_type": "stream",
     "text": [
      "1/1 [==============================] - 0s 76ms/step\n"
     ]
    },
    {
     "name": "stderr",
     "output_type": "stream",
     "text": [
      "127.0.0.1 - - [2022-06-03 05:02:01] \"POST /predict HTTP/1.1\" 200 160 0.580001\n"
     ]
    },
    {
     "name": "stdout",
     "output_type": "stream",
     "text": [
      "1/1 [==============================] - 0s 127ms/step\n"
     ]
    },
    {
     "name": "stderr",
     "output_type": "stream",
     "text": [
      "127.0.0.1 - - [2022-06-03 05:02:02] \"POST /predict HTTP/1.1\" 200 159 0.950035\n"
     ]
    },
    {
     "name": "stdout",
     "output_type": "stream",
     "text": [
      "1/1 [==============================] - 0s 153ms/step\n"
     ]
    },
    {
     "name": "stderr",
     "output_type": "stream",
     "text": [
      "127.0.0.1 - - [2022-06-03 05:02:02] \"POST /predict HTTP/1.1\" 200 159 0.607771\n"
     ]
    },
    {
     "name": "stdout",
     "output_type": "stream",
     "text": [
      "1/1 [==============================] - 0s 124ms/step\n"
     ]
    },
    {
     "name": "stderr",
     "output_type": "stream",
     "text": [
      "127.0.0.1 - - [2022-06-03 05:02:03] \"POST /predict HTTP/1.1\" 200 159 0.566994\n"
     ]
    },
    {
     "name": "stdout",
     "output_type": "stream",
     "text": [
      "1/1 [==============================] - 0s 98ms/step\n"
     ]
    },
    {
     "name": "stderr",
     "output_type": "stream",
     "text": [
      "127.0.0.1 - - [2022-06-03 05:02:03] \"POST /predict HTTP/1.1\" 200 159 0.414002\n"
     ]
    },
    {
     "name": "stdout",
     "output_type": "stream",
     "text": [
      "1/1 [==============================] - 0s 114ms/step\n"
     ]
    },
    {
     "name": "stderr",
     "output_type": "stream",
     "text": [
      "127.0.0.1 - - [2022-06-03 05:02:04] \"POST /predict HTTP/1.1\" 200 159 0.485996\n"
     ]
    },
    {
     "name": "stdout",
     "output_type": "stream",
     "text": [
      "1/1 [==============================] - 0s 103ms/step\n"
     ]
    },
    {
     "name": "stderr",
     "output_type": "stream",
     "text": [
      "127.0.0.1 - - [2022-06-03 05:02:05] \"POST /predict HTTP/1.1\" 200 160 0.891000\n"
     ]
    },
    {
     "name": "stdout",
     "output_type": "stream",
     "text": [
      "1/1 [==============================] - 0s 69ms/step\n"
     ]
    },
    {
     "name": "stderr",
     "output_type": "stream",
     "text": [
      "127.0.0.1 - - [2022-06-03 05:02:06] \"POST /predict HTTP/1.1\" 200 160 0.530004\n"
     ]
    },
    {
     "name": "stdout",
     "output_type": "stream",
     "text": [
      "1/1 [==============================] - 0s 78ms/step\n"
     ]
    },
    {
     "name": "stderr",
     "output_type": "stream",
     "text": [
      "127.0.0.1 - - [2022-06-03 05:02:06] \"POST /predict HTTP/1.1\" 200 159 0.526997\n"
     ]
    },
    {
     "name": "stdout",
     "output_type": "stream",
     "text": [
      "1/1 [==============================] - 0s 83ms/step\n"
     ]
    },
    {
     "name": "stderr",
     "output_type": "stream",
     "text": [
      "127.0.0.1 - - [2022-06-03 05:02:07] \"POST /predict HTTP/1.1\" 200 160 0.332002\n"
     ]
    },
    {
     "name": "stdout",
     "output_type": "stream",
     "text": [
      "1/1 [==============================] - 0s 82ms/step\n"
     ]
    },
    {
     "name": "stderr",
     "output_type": "stream",
     "text": [
      "127.0.0.1 - - [2022-06-03 05:02:07] \"POST /predict HTTP/1.1\" 200 159 0.360009\n"
     ]
    },
    {
     "name": "stdout",
     "output_type": "stream",
     "text": [
      "1/1 [==============================] - 0s 106ms/step\n"
     ]
    },
    {
     "name": "stderr",
     "output_type": "stream",
     "text": [
      "127.0.0.1 - - [2022-06-03 05:02:08] \"POST /predict HTTP/1.1\" 200 160 0.707004\n"
     ]
    },
    {
     "name": "stdout",
     "output_type": "stream",
     "text": [
      "1/1 [==============================] - 0s 74ms/step\n"
     ]
    },
    {
     "name": "stderr",
     "output_type": "stream",
     "text": [
      "127.0.0.1 - - [2022-06-03 05:02:08] \"POST /predict HTTP/1.1\" 200 160 0.342011\n"
     ]
    },
    {
     "name": "stdout",
     "output_type": "stream",
     "text": [
      "1/1 [==============================] - 0s 81ms/step\n"
     ]
    },
    {
     "name": "stderr",
     "output_type": "stream",
     "text": [
      "127.0.0.1 - - [2022-06-03 05:02:08] \"POST /predict HTTP/1.1\" 200 159 0.326012\n"
     ]
    },
    {
     "name": "stdout",
     "output_type": "stream",
     "text": [
      "1/1 [==============================] - 0s 63ms/step\n"
     ]
    },
    {
     "name": "stderr",
     "output_type": "stream",
     "text": [
      "127.0.0.1 - - [2022-06-03 05:02:09] \"POST /predict HTTP/1.1\" 200 159 0.408998\n"
     ]
    },
    {
     "name": "stdout",
     "output_type": "stream",
     "text": [
      "1/1 [==============================] - 0s 60ms/step\n"
     ]
    },
    {
     "name": "stderr",
     "output_type": "stream",
     "text": [
      "127.0.0.1 - - [2022-06-03 05:02:09] \"POST /predict HTTP/1.1\" 200 160 0.522006\n"
     ]
    },
    {
     "name": "stdout",
     "output_type": "stream",
     "text": [
      "1/1 [==============================] - 0s 74ms/step\n"
     ]
    },
    {
     "name": "stderr",
     "output_type": "stream",
     "text": [
      "127.0.0.1 - - [2022-06-03 05:02:10] \"POST /predict HTTP/1.1\" 200 159 0.519998\n"
     ]
    },
    {
     "name": "stdout",
     "output_type": "stream",
     "text": [
      "1/1 [==============================] - 0s 69ms/step\n"
     ]
    },
    {
     "name": "stderr",
     "output_type": "stream",
     "text": [
      "127.0.0.1 - - [2022-06-03 05:02:10] \"POST /predict HTTP/1.1\" 200 160 0.220003\n"
     ]
    },
    {
     "name": "stdout",
     "output_type": "stream",
     "text": [
      "1/1 [==============================] - 0s 65ms/step\n"
     ]
    },
    {
     "name": "stderr",
     "output_type": "stream",
     "text": [
      "127.0.0.1 - - [2022-06-03 05:02:11] \"POST /predict HTTP/1.1\" 200 159 0.626008\n"
     ]
    },
    {
     "name": "stdout",
     "output_type": "stream",
     "text": [
      "1/1 [==============================] - 0s 95ms/step\n"
     ]
    },
    {
     "name": "stderr",
     "output_type": "stream",
     "text": [
      "127.0.0.1 - - [2022-06-03 05:02:11] \"POST /predict HTTP/1.1\" 200 160 0.510017\n"
     ]
    },
    {
     "name": "stdout",
     "output_type": "stream",
     "text": [
      "1/1 [==============================] - 0s 142ms/step\n"
     ]
    },
    {
     "name": "stderr",
     "output_type": "stream",
     "text": [
      "127.0.0.1 - - [2022-06-03 05:02:12] \"POST /predict HTTP/1.1\" 200 159 0.438003\n"
     ]
    },
    {
     "name": "stdout",
     "output_type": "stream",
     "text": [
      "1/1 [==============================] - 0s 99ms/step\n"
     ]
    },
    {
     "name": "stderr",
     "output_type": "stream",
     "text": [
      "127.0.0.1 - - [2022-06-03 05:02:13] \"POST /predict HTTP/1.1\" 200 160 0.709004\n"
     ]
    },
    {
     "name": "stdout",
     "output_type": "stream",
     "text": [
      "1/1 [==============================] - 0s 102ms/step\n"
     ]
    },
    {
     "name": "stderr",
     "output_type": "stream",
     "text": [
      "127.0.0.1 - - [2022-06-03 05:02:13] \"POST /predict HTTP/1.1\" 200 159 0.440003\n"
     ]
    },
    {
     "name": "stdout",
     "output_type": "stream",
     "text": [
      "1/1 [==============================] - 0s 70ms/step\n"
     ]
    },
    {
     "name": "stderr",
     "output_type": "stream",
     "text": [
      "127.0.0.1 - - [2022-06-03 05:02:14] \"POST /predict HTTP/1.1\" 200 159 0.567000\n"
     ]
    },
    {
     "name": "stdout",
     "output_type": "stream",
     "text": [
      "1/1 [==============================] - 0s 88ms/step\n"
     ]
    },
    {
     "name": "stderr",
     "output_type": "stream",
     "text": [
      "127.0.0.1 - - [2022-06-03 05:02:14] \"POST /predict HTTP/1.1\" 200 160 0.400003\n"
     ]
    },
    {
     "name": "stdout",
     "output_type": "stream",
     "text": [
      "1/1 [==============================] - 0s 93ms/step\n"
     ]
    },
    {
     "name": "stderr",
     "output_type": "stream",
     "text": [
      "127.0.0.1 - - [2022-06-03 05:02:15] \"POST /predict HTTP/1.1\" 200 159 0.786001\n"
     ]
    },
    {
     "name": "stdout",
     "output_type": "stream",
     "text": [
      "1/1 [==============================] - 0s 75ms/step\n"
     ]
    },
    {
     "name": "stderr",
     "output_type": "stream",
     "text": [
      "127.0.0.1 - - [2022-06-03 05:02:15] \"POST /predict HTTP/1.1\" 200 160 0.364997\n"
     ]
    },
    {
     "name": "stdout",
     "output_type": "stream",
     "text": [
      "1/1 [==============================] - 0s 63ms/step\n"
     ]
    },
    {
     "name": "stderr",
     "output_type": "stream",
     "text": [
      "127.0.0.1 - - [2022-06-03 05:02:16] \"POST /predict HTTP/1.1\" 200 160 0.208020\n"
     ]
    },
    {
     "name": "stdout",
     "output_type": "stream",
     "text": [
      "1/1 [==============================] - 0s 64ms/step\n"
     ]
    },
    {
     "name": "stderr",
     "output_type": "stream",
     "text": [
      "127.0.0.1 - - [2022-06-03 05:02:16] \"POST /predict HTTP/1.1\" 200 159 0.275004\n"
     ]
    },
    {
     "name": "stdout",
     "output_type": "stream",
     "text": [
      "1/1 [==============================] - 0s 63ms/step\n"
     ]
    },
    {
     "name": "stderr",
     "output_type": "stream",
     "text": [
      "127.0.0.1 - - [2022-06-03 05:02:16] \"POST /predict HTTP/1.1\" 200 159 0.317000\n"
     ]
    },
    {
     "name": "stdout",
     "output_type": "stream",
     "text": [
      "1/1 [==============================] - 0s 57ms/step\n"
     ]
    },
    {
     "name": "stderr",
     "output_type": "stream",
     "text": [
      "127.0.0.1 - - [2022-06-03 05:02:17] \"POST /predict HTTP/1.1\" 200 159 0.432997\n"
     ]
    },
    {
     "name": "stdout",
     "output_type": "stream",
     "text": [
      "1/1 [==============================] - 0s 65ms/step\n"
     ]
    },
    {
     "name": "stderr",
     "output_type": "stream",
     "text": [
      "127.0.0.1 - - [2022-06-03 05:02:17] \"POST /predict HTTP/1.1\" 200 159 0.250005\n"
     ]
    },
    {
     "name": "stdout",
     "output_type": "stream",
     "text": [
      "1/1 [==============================] - 0s 62ms/step\n"
     ]
    },
    {
     "name": "stderr",
     "output_type": "stream",
     "text": [
      "127.0.0.1 - - [2022-06-03 05:02:17] \"POST /predict HTTP/1.1\" 200 159 0.209004\n"
     ]
    },
    {
     "name": "stdout",
     "output_type": "stream",
     "text": [
      "1/1 [==============================] - 0s 75ms/step\n"
     ]
    },
    {
     "name": "stderr",
     "output_type": "stream",
     "text": [
      "127.0.0.1 - - [2022-06-03 05:02:18] \"POST /predict HTTP/1.1\" 200 160 0.246004\n"
     ]
    },
    {
     "name": "stdout",
     "output_type": "stream",
     "text": [
      "1/1 [==============================] - 0s 63ms/step\n"
     ]
    },
    {
     "name": "stderr",
     "output_type": "stream",
     "text": [
      "127.0.0.1 - - [2022-06-03 05:02:18] \"POST /predict HTTP/1.1\" 200 160 0.329008\n"
     ]
    },
    {
     "name": "stdout",
     "output_type": "stream",
     "text": [
      "1/1 [==============================] - 0s 62ms/step\n"
     ]
    },
    {
     "name": "stderr",
     "output_type": "stream",
     "text": [
      "127.0.0.1 - - [2022-06-03 05:02:18] \"POST /predict HTTP/1.1\" 200 159 0.398000\n"
     ]
    },
    {
     "name": "stdout",
     "output_type": "stream",
     "text": [
      "1/1 [==============================] - 0s 64ms/step\n"
     ]
    },
    {
     "name": "stderr",
     "output_type": "stream",
     "text": [
      "127.0.0.1 - - [2022-06-03 05:02:19] \"POST /predict HTTP/1.1\" 200 160 0.219604\n"
     ]
    },
    {
     "name": "stdout",
     "output_type": "stream",
     "text": [
      "1/1 [==============================] - 0s 90ms/step\n"
     ]
    },
    {
     "name": "stderr",
     "output_type": "stream",
     "text": [
      "127.0.0.1 - - [2022-06-03 05:02:19] \"POST /predict HTTP/1.1\" 200 159 0.265004\n"
     ]
    },
    {
     "name": "stdout",
     "output_type": "stream",
     "text": [
      "1/1 [==============================] - 0s 100ms/step\n"
     ]
    },
    {
     "name": "stderr",
     "output_type": "stream",
     "text": [
      "127.0.0.1 - - [2022-06-03 05:02:19] \"POST /predict HTTP/1.1\" 200 159 0.311013\n"
     ]
    },
    {
     "name": "stdout",
     "output_type": "stream",
     "text": [
      "1/1 [==============================] - 0s 84ms/step\n"
     ]
    },
    {
     "name": "stderr",
     "output_type": "stream",
     "text": [
      "127.0.0.1 - - [2022-06-03 05:02:20] \"POST /predict HTTP/1.1\" 200 159 0.283006\n"
     ]
    },
    {
     "name": "stdout",
     "output_type": "stream",
     "text": [
      "1/1 [==============================] - 0s 84ms/step\n"
     ]
    },
    {
     "name": "stderr",
     "output_type": "stream",
     "text": [
      "127.0.0.1 - - [2022-06-03 05:02:20] \"POST /predict HTTP/1.1\" 200 159 0.574006\n"
     ]
    },
    {
     "name": "stdout",
     "output_type": "stream",
     "text": [
      "1/1 [==============================] - 0s 88ms/step\n"
     ]
    },
    {
     "name": "stderr",
     "output_type": "stream",
     "text": [
      "127.0.0.1 - - [2022-06-03 05:02:21] \"POST /predict HTTP/1.1\" 200 160 0.387004\n"
     ]
    },
    {
     "name": "stdout",
     "output_type": "stream",
     "text": [
      "1/1 [==============================] - 0s 58ms/step\n"
     ]
    },
    {
     "name": "stderr",
     "output_type": "stream",
     "text": [
      "127.0.0.1 - - [2022-06-03 05:02:21] \"POST /predict HTTP/1.1\" 200 160 0.477001\n"
     ]
    },
    {
     "name": "stdout",
     "output_type": "stream",
     "text": [
      "1/1 [==============================] - 0s 57ms/step\n"
     ]
    },
    {
     "name": "stderr",
     "output_type": "stream",
     "text": [
      "127.0.0.1 - - [2022-06-03 05:02:22] \"POST /predict HTTP/1.1\" 200 160 0.428004\n"
     ]
    },
    {
     "name": "stdout",
     "output_type": "stream",
     "text": [
      "1/1 [==============================] - 0s 60ms/step\n"
     ]
    },
    {
     "name": "stderr",
     "output_type": "stream",
     "text": [
      "127.0.0.1 - - [2022-06-03 05:02:22] \"POST /predict HTTP/1.1\" 200 159 0.212000\n"
     ]
    },
    {
     "name": "stdout",
     "output_type": "stream",
     "text": [
      "1/1 [==============================] - 0s 60ms/step\n"
     ]
    },
    {
     "name": "stderr",
     "output_type": "stream",
     "text": [
      "127.0.0.1 - - [2022-06-03 05:02:22] \"POST /predict HTTP/1.1\" 200 159 0.239002\n"
     ]
    },
    {
     "name": "stdout",
     "output_type": "stream",
     "text": [
      "1/1 [==============================] - 0s 61ms/step\n"
     ]
    },
    {
     "name": "stderr",
     "output_type": "stream",
     "text": [
      "127.0.0.1 - - [2022-06-03 05:02:22] \"POST /predict HTTP/1.1\" 200 159 0.202003\n"
     ]
    },
    {
     "name": "stdout",
     "output_type": "stream",
     "text": [
      "1/1 [==============================] - 0s 73ms/step\n"
     ]
    },
    {
     "name": "stderr",
     "output_type": "stream",
     "text": [
      "127.0.0.1 - - [2022-06-03 05:02:23] \"POST /predict HTTP/1.1\" 200 159 0.732004\n"
     ]
    },
    {
     "name": "stdout",
     "output_type": "stream",
     "text": [
      "1/1 [==============================] - 0s 75ms/step\n"
     ]
    },
    {
     "name": "stderr",
     "output_type": "stream",
     "text": [
      "127.0.0.1 - - [2022-06-03 05:02:24] \"POST /predict HTTP/1.1\" 200 160 0.894004\n"
     ]
    },
    {
     "name": "stdout",
     "output_type": "stream",
     "text": [
      "1/1 [==============================] - 0s 82ms/step\n"
     ]
    },
    {
     "name": "stderr",
     "output_type": "stream",
     "text": [
      "127.0.0.1 - - [2022-06-03 05:02:25] \"POST /predict HTTP/1.1\" 200 159 0.388011\n"
     ]
    },
    {
     "name": "stdout",
     "output_type": "stream",
     "text": [
      "1/1 [==============================] - 0s 80ms/step\n"
     ]
    },
    {
     "name": "stderr",
     "output_type": "stream",
     "text": [
      "127.0.0.1 - - [2022-06-03 05:02:25] \"POST /predict HTTP/1.1\" 200 159 0.443998\n"
     ]
    },
    {
     "name": "stdout",
     "output_type": "stream",
     "text": [
      "1/1 [==============================] - 0s 77ms/step\n"
     ]
    },
    {
     "name": "stderr",
     "output_type": "stream",
     "text": [
      "127.0.0.1 - - [2022-06-03 05:02:26] \"POST /predict HTTP/1.1\" 200 159 0.433009\n"
     ]
    },
    {
     "name": "stdout",
     "output_type": "stream",
     "text": [
      "1/1 [==============================] - 0s 75ms/step\n"
     ]
    },
    {
     "name": "stderr",
     "output_type": "stream",
     "text": [
      "127.0.0.1 - - [2022-06-03 05:02:26] \"POST /predict HTTP/1.1\" 200 159 0.366004\n"
     ]
    },
    {
     "name": "stdout",
     "output_type": "stream",
     "text": [
      "1/1 [==============================] - 0s 81ms/step\n"
     ]
    },
    {
     "name": "stderr",
     "output_type": "stream",
     "text": [
      "127.0.0.1 - - [2022-06-03 05:02:26] \"POST /predict HTTP/1.1\" 200 159 0.398014\n"
     ]
    },
    {
     "name": "stdout",
     "output_type": "stream",
     "text": [
      "1/1 [==============================] - 0s 76ms/step\n"
     ]
    },
    {
     "name": "stderr",
     "output_type": "stream",
     "text": [
      "127.0.0.1 - - [2022-06-03 05:02:27] \"POST /predict HTTP/1.1\" 200 160 0.261005\n"
     ]
    },
    {
     "name": "stdout",
     "output_type": "stream",
     "text": [
      "1/1 [==============================] - 0s 66ms/step\n"
     ]
    },
    {
     "name": "stderr",
     "output_type": "stream",
     "text": [
      "127.0.0.1 - - [2022-06-03 05:02:28] \"POST /predict HTTP/1.1\" 200 159 0.932009\n"
     ]
    },
    {
     "name": "stdout",
     "output_type": "stream",
     "text": [
      "1/1 [==============================] - 0s 118ms/step\n"
     ]
    },
    {
     "name": "stderr",
     "output_type": "stream",
     "text": [
      "127.0.0.1 - - [2022-06-03 05:02:28] \"POST /predict HTTP/1.1\" 200 160 0.352007\n"
     ]
    },
    {
     "name": "stdout",
     "output_type": "stream",
     "text": [
      "1/1 [==============================] - 0s 88ms/step\n"
     ]
    },
    {
     "name": "stderr",
     "output_type": "stream",
     "text": [
      "127.0.0.1 - - [2022-06-03 05:02:28] \"POST /predict HTTP/1.1\" 200 159 0.308012\n"
     ]
    },
    {
     "name": "stdout",
     "output_type": "stream",
     "text": [
      "1/1 [==============================] - 0s 84ms/step\n"
     ]
    },
    {
     "name": "stderr",
     "output_type": "stream",
     "text": [
      "127.0.0.1 - - [2022-06-03 05:02:29] \"POST /predict HTTP/1.1\" 200 159 0.268001\n"
     ]
    },
    {
     "name": "stdout",
     "output_type": "stream",
     "text": [
      "1/1 [==============================] - 0s 83ms/step\n"
     ]
    },
    {
     "name": "stderr",
     "output_type": "stream",
     "text": [
      "127.0.0.1 - - [2022-06-03 05:02:29] \"POST /predict HTTP/1.1\" 200 159 0.336004\n"
     ]
    },
    {
     "name": "stdout",
     "output_type": "stream",
     "text": [
      "1/1 [==============================] - 0s 79ms/step\n"
     ]
    },
    {
     "name": "stderr",
     "output_type": "stream",
     "text": [
      "127.0.0.1 - - [2022-06-03 05:02:30] \"POST /predict HTTP/1.1\" 200 159 0.478999\n"
     ]
    },
    {
     "name": "stdout",
     "output_type": "stream",
     "text": [
      "1/1 [==============================] - 0s 61ms/step\n"
     ]
    },
    {
     "name": "stderr",
     "output_type": "stream",
     "text": [
      "127.0.0.1 - - [2022-06-03 05:02:30] \"POST /predict HTTP/1.1\" 200 159 0.502001\n"
     ]
    },
    {
     "name": "stdout",
     "output_type": "stream",
     "text": [
      "1/1 [==============================] - 0s 64ms/step\n"
     ]
    },
    {
     "name": "stderr",
     "output_type": "stream",
     "text": [
      "127.0.0.1 - - [2022-06-03 05:02:30] \"POST /predict HTTP/1.1\" 200 159 0.198997\n"
     ]
    },
    {
     "name": "stdout",
     "output_type": "stream",
     "text": [
      "1/1 [==============================] - 0s 62ms/step\n"
     ]
    },
    {
     "name": "stderr",
     "output_type": "stream",
     "text": [
      "127.0.0.1 - - [2022-06-03 05:02:31] \"POST /predict HTTP/1.1\" 200 160 0.413002\n"
     ]
    },
    {
     "name": "stdout",
     "output_type": "stream",
     "text": [
      "1/1 [==============================] - 0s 58ms/step\n"
     ]
    },
    {
     "name": "stderr",
     "output_type": "stream",
     "text": [
      "127.0.0.1 - - [2022-06-03 05:02:31] \"POST /predict HTTP/1.1\" 200 160 0.274998\n"
     ]
    },
    {
     "name": "stdout",
     "output_type": "stream",
     "text": [
      "1/1 [==============================] - 0s 61ms/step\n"
     ]
    },
    {
     "name": "stderr",
     "output_type": "stream",
     "text": [
      "127.0.0.1 - - [2022-06-03 05:02:31] \"POST /predict HTTP/1.1\" 200 159 0.343993\n"
     ]
    },
    {
     "name": "stdout",
     "output_type": "stream",
     "text": [
      "1/1 [==============================] - 0s 67ms/step\n"
     ]
    },
    {
     "name": "stderr",
     "output_type": "stream",
     "text": [
      "127.0.0.1 - - [2022-06-03 05:02:32] \"POST /predict HTTP/1.1\" 200 160 0.402002\n"
     ]
    },
    {
     "name": "stdout",
     "output_type": "stream",
     "text": [
      "1/1 [==============================] - 0s 64ms/step\n"
     ]
    },
    {
     "name": "stderr",
     "output_type": "stream",
     "text": [
      "127.0.0.1 - - [2022-06-03 05:02:33] \"POST /predict HTTP/1.1\" 200 159 0.827006\n"
     ]
    },
    {
     "name": "stdout",
     "output_type": "stream",
     "text": [
      "1/1 [==============================] - 0s 70ms/step\n"
     ]
    },
    {
     "name": "stderr",
     "output_type": "stream",
     "text": [
      "127.0.0.1 - - [2022-06-03 05:02:33] \"POST /predict HTTP/1.1\" 200 159 0.237009\n"
     ]
    },
    {
     "name": "stdout",
     "output_type": "stream",
     "text": [
      "1/1 [==============================] - 0s 67ms/step\n"
     ]
    },
    {
     "name": "stderr",
     "output_type": "stream",
     "text": [
      "127.0.0.1 - - [2022-06-03 05:02:33] \"POST /predict HTTP/1.1\" 200 159 0.283001\n"
     ]
    },
    {
     "name": "stdout",
     "output_type": "stream",
     "text": [
      "1/1 [==============================] - 0s 53ms/step\n"
     ]
    },
    {
     "name": "stderr",
     "output_type": "stream",
     "text": [
      "127.0.0.1 - - [2022-06-03 05:02:34] \"POST /predict HTTP/1.1\" 200 159 0.953000\n"
     ]
    },
    {
     "name": "stdout",
     "output_type": "stream",
     "text": [
      "1/1 [==============================] - 0s 62ms/step\n"
     ]
    },
    {
     "name": "stderr",
     "output_type": "stream",
     "text": [
      "127.0.0.1 - - [2022-06-03 05:02:35] \"POST /predict HTTP/1.1\" 200 159 0.446003\n"
     ]
    },
    {
     "name": "stdout",
     "output_type": "stream",
     "text": [
      "1/1 [==============================] - 0s 62ms/step\n"
     ]
    },
    {
     "name": "stderr",
     "output_type": "stream",
     "text": [
      "127.0.0.1 - - [2022-06-03 05:02:35] \"POST /predict HTTP/1.1\" 200 159 0.314996\n"
     ]
    },
    {
     "name": "stdout",
     "output_type": "stream",
     "text": [
      "1/1 [==============================] - 0s 69ms/step\n"
     ]
    },
    {
     "name": "stderr",
     "output_type": "stream",
     "text": [
      "127.0.0.1 - - [2022-06-03 05:02:36] \"POST /predict HTTP/1.1\" 200 159 0.347996\n"
     ]
    },
    {
     "name": "stdout",
     "output_type": "stream",
     "text": [
      "1/1 [==============================] - 0s 67ms/step\n"
     ]
    },
    {
     "name": "stderr",
     "output_type": "stream",
     "text": [
      "127.0.0.1 - - [2022-06-03 05:02:36] \"POST /predict HTTP/1.1\" 200 160 0.298001\n"
     ]
    },
    {
     "name": "stdout",
     "output_type": "stream",
     "text": [
      "1/1 [==============================] - 0s 66ms/step\n"
     ]
    },
    {
     "name": "stderr",
     "output_type": "stream",
     "text": [
      "127.0.0.1 - - [2022-06-03 05:02:36] \"POST /predict HTTP/1.1\" 200 160 0.242002\n"
     ]
    },
    {
     "name": "stdout",
     "output_type": "stream",
     "text": [
      "1/1 [==============================] - 0s 67ms/step\n"
     ]
    },
    {
     "name": "stderr",
     "output_type": "stream",
     "text": [
      "127.0.0.1 - - [2022-06-03 05:02:37] \"POST /predict HTTP/1.1\" 200 159 0.822999\n"
     ]
    },
    {
     "name": "stdout",
     "output_type": "stream",
     "text": [
      "1/1 [==============================] - 0s 125ms/step\n"
     ]
    },
    {
     "name": "stderr",
     "output_type": "stream",
     "text": [
      "127.0.0.1 - - [2022-06-03 05:02:38] \"POST /predict HTTP/1.1\" 200 160 0.403005\n"
     ]
    },
    {
     "name": "stdout",
     "output_type": "stream",
     "text": [
      "1/1 [==============================] - 0s 112ms/step\n"
     ]
    },
    {
     "name": "stderr",
     "output_type": "stream",
     "text": [
      "127.0.0.1 - - [2022-06-03 05:02:38] \"POST /predict HTTP/1.1\" 200 160 0.494002\n"
     ]
    },
    {
     "name": "stdout",
     "output_type": "stream",
     "text": [
      "1/1 [==============================] - 0s 64ms/step\n"
     ]
    },
    {
     "name": "stderr",
     "output_type": "stream",
     "text": [
      "127.0.0.1 - - [2022-06-03 05:02:39] \"POST /predict HTTP/1.1\" 200 159 0.382006\n"
     ]
    },
    {
     "name": "stdout",
     "output_type": "stream",
     "text": [
      "1/1 [==============================] - 0s 102ms/step\n"
     ]
    },
    {
     "name": "stderr",
     "output_type": "stream",
     "text": [
      "127.0.0.1 - - [2022-06-03 05:02:39] \"POST /predict HTTP/1.1\" 200 159 0.365657\n"
     ]
    },
    {
     "name": "stdout",
     "output_type": "stream",
     "text": [
      "1/1 [==============================] - 0s 150ms/step\n"
     ]
    },
    {
     "name": "stderr",
     "output_type": "stream",
     "text": [
      "127.0.0.1 - - [2022-06-03 05:02:40] \"POST /predict HTTP/1.1\" 200 160 0.607002\n"
     ]
    },
    {
     "name": "stdout",
     "output_type": "stream",
     "text": [
      "1/1 [==============================] - 0s 124ms/step\n"
     ]
    },
    {
     "name": "stderr",
     "output_type": "stream",
     "text": [
      "127.0.0.1 - - [2022-06-03 05:02:40] \"POST /predict HTTP/1.1\" 200 160 0.737010\n"
     ]
    },
    {
     "name": "stdout",
     "output_type": "stream",
     "text": [
      "1/1 [==============================] - 0s 91ms/step\n"
     ]
    },
    {
     "name": "stderr",
     "output_type": "stream",
     "text": [
      "127.0.0.1 - - [2022-06-03 05:02:41] \"POST /predict HTTP/1.1\" 200 159 0.440995\n"
     ]
    },
    {
     "name": "stdout",
     "output_type": "stream",
     "text": [
      "1/1 [==============================] - 0s 89ms/step\n"
     ]
    },
    {
     "name": "stderr",
     "output_type": "stream",
     "text": [
      "127.0.0.1 - - [2022-06-03 05:02:41] \"POST /predict HTTP/1.1\" 200 159 0.341998\n"
     ]
    },
    {
     "name": "stdout",
     "output_type": "stream",
     "text": [
      "1/1 [==============================] - 0s 90ms/step\n"
     ]
    },
    {
     "name": "stderr",
     "output_type": "stream",
     "text": [
      "127.0.0.1 - - [2022-06-03 05:02:42] \"POST /predict HTTP/1.1\" 200 159 0.497978\n"
     ]
    },
    {
     "name": "stdout",
     "output_type": "stream",
     "text": [
      "1/1 [==============================] - 0s 97ms/step\n"
     ]
    },
    {
     "name": "stderr",
     "output_type": "stream",
     "text": [
      "127.0.0.1 - - [2022-06-03 05:02:42] \"POST /predict HTTP/1.1\" 200 159 0.423000\n"
     ]
    },
    {
     "name": "stdout",
     "output_type": "stream",
     "text": [
      "1/1 [==============================] - 0s 120ms/step\n"
     ]
    },
    {
     "name": "stderr",
     "output_type": "stream",
     "text": [
      "127.0.0.1 - - [2022-06-03 05:02:43] \"POST /predict HTTP/1.1\" 200 159 0.498007\n"
     ]
    },
    {
     "name": "stdout",
     "output_type": "stream",
     "text": [
      "1/1 [==============================] - 0s 108ms/step\n"
     ]
    },
    {
     "name": "stderr",
     "output_type": "stream",
     "text": [
      "127.0.0.1 - - [2022-06-03 05:02:44] \"POST /predict HTTP/1.1\" 200 160 0.739004\n"
     ]
    },
    {
     "name": "stdout",
     "output_type": "stream",
     "text": [
      "1/1 [==============================] - 0s 143ms/step\n"
     ]
    },
    {
     "name": "stderr",
     "output_type": "stream",
     "text": [
      "127.0.0.1 - - [2022-06-03 05:02:44] \"POST /predict HTTP/1.1\" 200 160 0.576010\n"
     ]
    },
    {
     "name": "stdout",
     "output_type": "stream",
     "text": [
      "1/1 [==============================] - 0s 139ms/step\n"
     ]
    },
    {
     "name": "stderr",
     "output_type": "stream",
     "text": [
      "127.0.0.1 - - [2022-06-03 05:02:45] \"POST /predict HTTP/1.1\" 200 160 0.659998\n"
     ]
    },
    {
     "name": "stdout",
     "output_type": "stream",
     "text": [
      "1/1 [==============================] - 0s 108ms/step\n"
     ]
    },
    {
     "name": "stderr",
     "output_type": "stream",
     "text": [
      "127.0.0.1 - - [2022-06-03 05:02:46] \"POST /predict HTTP/1.1\" 200 159 0.448000\n"
     ]
    },
    {
     "name": "stdout",
     "output_type": "stream",
     "text": [
      "1/1 [==============================] - 0s 65ms/step\n"
     ]
    },
    {
     "name": "stderr",
     "output_type": "stream",
     "text": [
      "127.0.0.1 - - [2022-06-03 05:02:46] \"POST /predict HTTP/1.1\" 200 160 0.232003\n"
     ]
    },
    {
     "name": "stdout",
     "output_type": "stream",
     "text": [
      "1/1 [==============================] - 0s 60ms/step\n"
     ]
    },
    {
     "name": "stderr",
     "output_type": "stream",
     "text": [
      "127.0.0.1 - - [2022-06-03 05:02:46] \"POST /predict HTTP/1.1\" 200 160 0.255004\n"
     ]
    },
    {
     "name": "stdout",
     "output_type": "stream",
     "text": [
      "1/1 [==============================] - 0s 62ms/step\n"
     ]
    },
    {
     "name": "stderr",
     "output_type": "stream",
     "text": [
      "127.0.0.1 - - [2022-06-03 05:02:46] \"POST /predict HTTP/1.1\" 200 160 0.300003\n"
     ]
    },
    {
     "name": "stdout",
     "output_type": "stream",
     "text": [
      "1/1 [==============================] - 0s 91ms/step\n"
     ]
    },
    {
     "name": "stderr",
     "output_type": "stream",
     "text": [
      "127.0.0.1 - - [2022-06-03 05:02:47] \"POST /predict HTTP/1.1\" 200 160 0.400001\n"
     ]
    },
    {
     "name": "stdout",
     "output_type": "stream",
     "text": [
      "1/1 [==============================] - 0s 124ms/step\n"
     ]
    },
    {
     "name": "stderr",
     "output_type": "stream",
     "text": [
      "127.0.0.1 - - [2022-06-03 05:02:47] \"POST /predict HTTP/1.1\" 200 160 0.548007\n"
     ]
    },
    {
     "name": "stdout",
     "output_type": "stream",
     "text": [
      "1/1 [==============================] - 0s 100ms/step\n"
     ]
    },
    {
     "name": "stderr",
     "output_type": "stream",
     "text": [
      "127.0.0.1 - - [2022-06-03 05:02:48] \"POST /predict HTTP/1.1\" 200 159 0.493001\n"
     ]
    },
    {
     "name": "stdout",
     "output_type": "stream",
     "text": [
      "1/1 [==============================] - 0s 82ms/step\n"
     ]
    },
    {
     "name": "stderr",
     "output_type": "stream",
     "text": [
      "127.0.0.1 - - [2022-06-03 05:02:49] \"POST /predict HTTP/1.1\" 200 159 0.535003\n"
     ]
    },
    {
     "name": "stdout",
     "output_type": "stream",
     "text": [
      "1/1 [==============================] - 0s 83ms/step\n"
     ]
    },
    {
     "name": "stderr",
     "output_type": "stream",
     "text": [
      "127.0.0.1 - - [2022-06-03 05:02:49] \"POST /predict HTTP/1.1\" 200 159 0.364007\n"
     ]
    },
    {
     "name": "stdout",
     "output_type": "stream",
     "text": [
      "1/1 [==============================] - 0s 90ms/step\n"
     ]
    },
    {
     "name": "stderr",
     "output_type": "stream",
     "text": [
      "127.0.0.1 - - [2022-06-03 05:02:50] \"POST /predict HTTP/1.1\" 200 159 0.482002\n"
     ]
    },
    {
     "name": "stdout",
     "output_type": "stream",
     "text": [
      "1/1 [==============================] - 0s 85ms/step\n"
     ]
    },
    {
     "name": "stderr",
     "output_type": "stream",
     "text": [
      "127.0.0.1 - - [2022-06-03 05:02:51] \"POST /predict HTTP/1.1\" 200 159 1.004002\n"
     ]
    },
    {
     "name": "stdout",
     "output_type": "stream",
     "text": [
      "1/1 [==============================] - 0s 83ms/step\n"
     ]
    },
    {
     "name": "stderr",
     "output_type": "stream",
     "text": [
      "127.0.0.1 - - [2022-06-03 05:02:51] \"POST /predict HTTP/1.1\" 200 159 0.582009\n"
     ]
    },
    {
     "name": "stdout",
     "output_type": "stream",
     "text": [
      "1/1 [==============================] - 0s 90ms/step\n"
     ]
    },
    {
     "name": "stderr",
     "output_type": "stream",
     "text": [
      "127.0.0.1 - - [2022-06-03 05:02:52] \"POST /predict HTTP/1.1\" 200 159 0.455016\n"
     ]
    },
    {
     "name": "stdout",
     "output_type": "stream",
     "text": [
      "1/1 [==============================] - 0s 102ms/step\n"
     ]
    },
    {
     "name": "stderr",
     "output_type": "stream",
     "text": [
      "127.0.0.1 - - [2022-06-03 05:02:52] \"POST /predict HTTP/1.1\" 200 160 0.502000\n"
     ]
    },
    {
     "name": "stdout",
     "output_type": "stream",
     "text": [
      "1/1 [==============================] - 0s 84ms/step\n"
     ]
    },
    {
     "name": "stderr",
     "output_type": "stream",
     "text": [
      "127.0.0.1 - - [2022-06-03 05:02:53] \"POST /predict HTTP/1.1\" 200 159 0.248005\n"
     ]
    },
    {
     "name": "stdout",
     "output_type": "stream",
     "text": [
      "1/1 [==============================] - 0s 91ms/step\n"
     ]
    },
    {
     "name": "stderr",
     "output_type": "stream",
     "text": [
      "127.0.0.1 - - [2022-06-03 05:02:53] \"POST /predict HTTP/1.1\" 200 159 0.419001\n"
     ]
    },
    {
     "name": "stdout",
     "output_type": "stream",
     "text": [
      "1/1 [==============================] - 0s 57ms/step\n"
     ]
    },
    {
     "name": "stderr",
     "output_type": "stream",
     "text": [
      "127.0.0.1 - - [2022-06-03 05:02:54] \"POST /predict HTTP/1.1\" 200 160 0.906998\n"
     ]
    },
    {
     "name": "stdout",
     "output_type": "stream",
     "text": [
      "1/1 [==============================] - 0s 80ms/step\n"
     ]
    },
    {
     "name": "stderr",
     "output_type": "stream",
     "text": [
      "127.0.0.1 - - [2022-06-03 05:02:54] \"POST /predict HTTP/1.1\" 200 159 0.366001\n"
     ]
    },
    {
     "name": "stdout",
     "output_type": "stream",
     "text": [
      "1/1 [==============================] - 0s 76ms/step\n"
     ]
    },
    {
     "name": "stderr",
     "output_type": "stream",
     "text": [
      "127.0.0.1 - - [2022-06-03 05:02:55] \"POST /predict HTTP/1.1\" 200 159 0.303015\n"
     ]
    },
    {
     "name": "stdout",
     "output_type": "stream",
     "text": [
      "1/1 [==============================] - 0s 87ms/step\n"
     ]
    },
    {
     "name": "stderr",
     "output_type": "stream",
     "text": [
      "127.0.0.1 - - [2022-06-03 05:02:55] \"POST /predict HTTP/1.1\" 200 160 0.383005\n"
     ]
    },
    {
     "name": "stdout",
     "output_type": "stream",
     "text": [
      "1/1 [==============================] - 0s 127ms/step\n"
     ]
    },
    {
     "name": "stderr",
     "output_type": "stream",
     "text": [
      "127.0.0.1 - - [2022-06-03 05:02:56] \"POST /predict HTTP/1.1\" 200 160 0.907007\n"
     ]
    },
    {
     "name": "stdout",
     "output_type": "stream",
     "text": [
      "1/1 [==============================] - 0s 121ms/step\n"
     ]
    },
    {
     "name": "stderr",
     "output_type": "stream",
     "text": [
      "127.0.0.1 - - [2022-06-03 05:02:57] \"POST /predict HTTP/1.1\" 200 160 0.487000\n"
     ]
    },
    {
     "name": "stdout",
     "output_type": "stream",
     "text": [
      "1/1 [==============================] - 0s 91ms/step\n"
     ]
    },
    {
     "name": "stderr",
     "output_type": "stream",
     "text": [
      "127.0.0.1 - - [2022-06-03 05:02:57] \"POST /predict HTTP/1.1\" 200 159 0.633014\n"
     ]
    },
    {
     "name": "stdout",
     "output_type": "stream",
     "text": [
      "1/1 [==============================] - 0s 111ms/step\n"
     ]
    },
    {
     "name": "stderr",
     "output_type": "stream",
     "text": [
      "127.0.0.1 - - [2022-06-03 05:02:58] \"POST /predict HTTP/1.1\" 200 159 0.389009\n"
     ]
    },
    {
     "name": "stdout",
     "output_type": "stream",
     "text": [
      "1/1 [==============================] - 0s 101ms/step\n"
     ]
    },
    {
     "name": "stderr",
     "output_type": "stream",
     "text": [
      "127.0.0.1 - - [2022-06-03 05:02:59] \"POST /predict HTTP/1.1\" 200 159 0.763997\n"
     ]
    },
    {
     "name": "stdout",
     "output_type": "stream",
     "text": [
      "1/1 [==============================] - 0s 118ms/step\n"
     ]
    },
    {
     "name": "stderr",
     "output_type": "stream",
     "text": [
      "127.0.0.1 - - [2022-06-03 05:02:59] \"POST /predict HTTP/1.1\" 200 160 0.422000\n"
     ]
    },
    {
     "name": "stdout",
     "output_type": "stream",
     "text": [
      "1/1 [==============================] - 0s 104ms/step\n"
     ]
    },
    {
     "name": "stderr",
     "output_type": "stream",
     "text": [
      "127.0.0.1 - - [2022-06-03 05:02:59] \"POST /predict HTTP/1.1\" 200 160 0.396007\n"
     ]
    },
    {
     "name": "stdout",
     "output_type": "stream",
     "text": [
      "1/1 [==============================] - 0s 95ms/step\n"
     ]
    },
    {
     "name": "stderr",
     "output_type": "stream",
     "text": [
      "127.0.0.1 - - [2022-06-03 05:03:01] \"POST /predict HTTP/1.1\" 200 159 0.986001\n"
     ]
    },
    {
     "name": "stdout",
     "output_type": "stream",
     "text": [
      "1/1 [==============================] - 0s 110ms/step\n"
     ]
    },
    {
     "name": "stderr",
     "output_type": "stream",
     "text": [
      "127.0.0.1 - - [2022-06-03 05:03:01] \"POST /predict HTTP/1.1\" 200 159 0.598000\n"
     ]
    },
    {
     "name": "stdout",
     "output_type": "stream",
     "text": [
      "1/1 [==============================] - 0s 82ms/step\n"
     ]
    },
    {
     "name": "stderr",
     "output_type": "stream",
     "text": [
      "127.0.0.1 - - [2022-06-03 05:03:02] \"POST /predict HTTP/1.1\" 200 160 0.323003\n"
     ]
    },
    {
     "name": "stdout",
     "output_type": "stream",
     "text": [
      "1/1 [==============================] - 0s 78ms/step\n"
     ]
    },
    {
     "name": "stderr",
     "output_type": "stream",
     "text": [
      "127.0.0.1 - - [2022-06-03 05:03:02] \"POST /predict HTTP/1.1\" 200 159 0.419016\n"
     ]
    },
    {
     "name": "stdout",
     "output_type": "stream",
     "text": [
      "1/1 [==============================] - 0s 67ms/step\n"
     ]
    },
    {
     "name": "stderr",
     "output_type": "stream",
     "text": [
      "127.0.0.1 - - [2022-06-03 05:03:02] \"POST /predict HTTP/1.1\" 200 159 0.362001\n"
     ]
    },
    {
     "name": "stdout",
     "output_type": "stream",
     "text": [
      "1/1 [==============================] - 0s 81ms/step\n"
     ]
    },
    {
     "name": "stderr",
     "output_type": "stream",
     "text": [
      "127.0.0.1 - - [2022-06-03 05:03:04] \"POST /predict HTTP/1.1\" 200 159 1.069003\n"
     ]
    },
    {
     "name": "stdout",
     "output_type": "stream",
     "text": [
      "1/1 [==============================] - 0s 82ms/step\n"
     ]
    },
    {
     "name": "stderr",
     "output_type": "stream",
     "text": [
      "127.0.0.1 - - [2022-06-03 05:03:04] \"POST /predict HTTP/1.1\" 200 159 0.288997\n"
     ]
    },
    {
     "name": "stdout",
     "output_type": "stream",
     "text": [
      "1/1 [==============================] - 0s 83ms/step\n"
     ]
    },
    {
     "name": "stderr",
     "output_type": "stream",
     "text": [
      "127.0.0.1 - - [2022-06-03 05:03:04] \"POST /predict HTTP/1.1\" 200 160 0.498002\n"
     ]
    },
    {
     "name": "stdout",
     "output_type": "stream",
     "text": [
      "1/1 [==============================] - 0s 68ms/step\n"
     ]
    },
    {
     "name": "stderr",
     "output_type": "stream",
     "text": [
      "127.0.0.1 - - [2022-06-03 05:03:05] \"POST /predict HTTP/1.1\" 200 160 0.352002\n"
     ]
    },
    {
     "name": "stdout",
     "output_type": "stream",
     "text": [
      "1/1 [==============================] - 0s 64ms/step\n"
     ]
    },
    {
     "name": "stderr",
     "output_type": "stream",
     "text": [
      "127.0.0.1 - - [2022-06-03 05:03:05] \"POST /predict HTTP/1.1\" 200 160 0.254007\n"
     ]
    },
    {
     "name": "stdout",
     "output_type": "stream",
     "text": [
      "1/1 [==============================] - 0s 60ms/step\n"
     ]
    },
    {
     "name": "stderr",
     "output_type": "stream",
     "text": [
      "127.0.0.1 - - [2022-06-03 05:03:06] \"POST /predict HTTP/1.1\" 200 159 0.560001\n"
     ]
    },
    {
     "name": "stdout",
     "output_type": "stream",
     "text": [
      "1/1 [==============================] - 0s 66ms/step\n"
     ]
    },
    {
     "name": "stderr",
     "output_type": "stream",
     "text": [
      "127.0.0.1 - - [2022-06-03 05:03:06] \"POST /predict HTTP/1.1\" 200 160 0.221006\n"
     ]
    },
    {
     "name": "stdout",
     "output_type": "stream",
     "text": [
      "1/1 [==============================] - 0s 77ms/step\n"
     ]
    },
    {
     "name": "stderr",
     "output_type": "stream",
     "text": [
      "127.0.0.1 - - [2022-06-03 05:03:06] \"POST /predict HTTP/1.1\" 200 159 0.421000\n"
     ]
    },
    {
     "name": "stdout",
     "output_type": "stream",
     "text": [
      "1/1 [==============================] - 0s 62ms/step\n"
     ]
    },
    {
     "name": "stderr",
     "output_type": "stream",
     "text": [
      "127.0.0.1 - - [2022-06-03 05:03:07] \"POST /predict HTTP/1.1\" 200 160 0.339998\n"
     ]
    },
    {
     "name": "stdout",
     "output_type": "stream",
     "text": [
      "1/1 [==============================] - 0s 73ms/step\n"
     ]
    },
    {
     "name": "stderr",
     "output_type": "stream",
     "text": [
      "127.0.0.1 - - [2022-06-03 05:03:07] \"POST /predict HTTP/1.1\" 200 160 0.561001\n"
     ]
    },
    {
     "name": "stdout",
     "output_type": "stream",
     "text": [
      "1/1 [==============================] - 0s 66ms/step\n",
      "1/1 [==============================] - ETA: 0s"
     ]
    },
    {
     "name": "stderr",
     "output_type": "stream",
     "text": [
      "127.0.0.1 - - [2022-06-03 05:03:08] \"POST /predict HTTP/1.1\" 200 159 0.471999\n"
     ]
    },
    {
     "name": "stdout",
     "output_type": "stream",
     "text": [
      "\b\b\b\b\b\b\b\b\b\b\b\b\b\b\b\b\b\b\b\b\b\b\b\b\b\b\b\b\b\b\b\b\b\b\b\b\b\b\b\b\b\b\b\b\b\b\r",
      "1/1 [==============================] - 0s 57ms/step\n"
     ]
    },
    {
     "name": "stderr",
     "output_type": "stream",
     "text": [
      "127.0.0.1 - - [2022-06-03 05:03:08] \"POST /predict HTTP/1.1\" 200 159 0.189014\n"
     ]
    },
    {
     "name": "stdout",
     "output_type": "stream",
     "text": [
      "1/1 [==============================] - 0s 59ms/step\n"
     ]
    },
    {
     "name": "stderr",
     "output_type": "stream",
     "text": [
      "127.0.0.1 - - [2022-06-03 05:03:08] \"POST /predict HTTP/1.1\" 200 159 0.225006\n"
     ]
    },
    {
     "name": "stdout",
     "output_type": "stream",
     "text": [
      "1/1 [==============================] - 0s 80ms/step\n"
     ]
    },
    {
     "name": "stderr",
     "output_type": "stream",
     "text": [
      "127.0.0.1 - - [2022-06-03 05:03:09] \"POST /predict HTTP/1.1\" 200 160 0.221003\n"
     ]
    },
    {
     "name": "stdout",
     "output_type": "stream",
     "text": [
      "1/1 [==============================] - 0s 95ms/step\n"
     ]
    },
    {
     "name": "stderr",
     "output_type": "stream",
     "text": [
      "127.0.0.1 - - [2022-06-03 05:03:09] \"POST /predict HTTP/1.1\" 200 160 0.283014\n"
     ]
    },
    {
     "name": "stdout",
     "output_type": "stream",
     "text": [
      "1/1 [==============================] - 0s 88ms/step\n"
     ]
    },
    {
     "name": "stderr",
     "output_type": "stream",
     "text": [
      "127.0.0.1 - - [2022-06-03 05:03:10] \"POST /predict HTTP/1.1\" 200 159 0.633008\n"
     ]
    },
    {
     "name": "stdout",
     "output_type": "stream",
     "text": [
      "1/1 [==============================] - 0s 119ms/step\n"
     ]
    },
    {
     "name": "stderr",
     "output_type": "stream",
     "text": [
      "127.0.0.1 - - [2022-06-03 05:03:10] \"POST /predict HTTP/1.1\" 200 159 0.504002\n"
     ]
    },
    {
     "name": "stdout",
     "output_type": "stream",
     "text": [
      "1/1 [==============================] - 0s 92ms/step\n"
     ]
    },
    {
     "name": "stderr",
     "output_type": "stream",
     "text": [
      "127.0.0.1 - - [2022-06-03 05:03:11] \"POST /predict HTTP/1.1\" 200 159 0.461000\n"
     ]
    },
    {
     "name": "stdout",
     "output_type": "stream",
     "text": [
      "1/1 [==============================] - 0s 74ms/step\n"
     ]
    },
    {
     "name": "stderr",
     "output_type": "stream",
     "text": [
      "127.0.0.1 - - [2022-06-03 05:03:11] \"POST /predict HTTP/1.1\" 200 160 0.294002\n"
     ]
    },
    {
     "name": "stdout",
     "output_type": "stream",
     "text": [
      "1/1 [==============================] - 0s 92ms/step\n"
     ]
    },
    {
     "name": "stderr",
     "output_type": "stream",
     "text": [
      "127.0.0.1 - - [2022-06-03 05:03:11] \"POST /predict HTTP/1.1\" 200 160 0.249995\n"
     ]
    },
    {
     "name": "stdout",
     "output_type": "stream",
     "text": [
      "1/1 [==============================] - 0s 157ms/step\n"
     ]
    },
    {
     "name": "stderr",
     "output_type": "stream",
     "text": [
      "127.0.0.1 - - [2022-06-03 05:03:12] \"POST /predict HTTP/1.1\" 200 159 1.196007\n"
     ]
    },
    {
     "name": "stdout",
     "output_type": "stream",
     "text": [
      "1/1 [==============================] - 0s 77ms/step\n"
     ]
    },
    {
     "name": "stderr",
     "output_type": "stream",
     "text": [
      "127.0.0.1 - - [2022-06-03 05:03:13] \"POST /predict HTTP/1.1\" 200 159 0.648996\n"
     ]
    },
    {
     "name": "stdout",
     "output_type": "stream",
     "text": [
      "1/1 [==============================] - 0s 97ms/step\n"
     ]
    },
    {
     "name": "stderr",
     "output_type": "stream",
     "text": [
      "127.0.0.1 - - [2022-06-03 05:03:14] \"POST /predict HTTP/1.1\" 200 160 0.602007\n"
     ]
    },
    {
     "name": "stdout",
     "output_type": "stream",
     "text": [
      "1/1 [==============================] - 0s 125ms/step\n"
     ]
    },
    {
     "name": "stderr",
     "output_type": "stream",
     "text": [
      "127.0.0.1 - - [2022-06-03 05:03:14] \"POST /predict HTTP/1.1\" 200 159 0.515005\n"
     ]
    },
    {
     "name": "stdout",
     "output_type": "stream",
     "text": [
      "1/1 [==============================] - 0s 122ms/step\n"
     ]
    },
    {
     "name": "stderr",
     "output_type": "stream",
     "text": [
      "127.0.0.1 - - [2022-06-03 05:03:15] \"POST /predict HTTP/1.1\" 200 159 0.500003\n"
     ]
    },
    {
     "name": "stdout",
     "output_type": "stream",
     "text": [
      "1/1 [==============================] - 0s 92ms/step\n"
     ]
    },
    {
     "name": "stderr",
     "output_type": "stream",
     "text": [
      "127.0.0.1 - - [2022-06-03 05:03:15] \"POST /predict HTTP/1.1\" 200 160 0.415000\n"
     ]
    },
    {
     "name": "stdout",
     "output_type": "stream",
     "text": [
      "1/1 [==============================] - 0s 58ms/step\n"
     ]
    },
    {
     "name": "stderr",
     "output_type": "stream",
     "text": [
      "127.0.0.1 - - [2022-06-03 05:03:16] \"POST /predict HTTP/1.1\" 200 159 0.646997\n"
     ]
    },
    {
     "name": "stdout",
     "output_type": "stream",
     "text": [
      "1/1 [==============================] - 0s 60ms/step\n"
     ]
    },
    {
     "name": "stderr",
     "output_type": "stream",
     "text": [
      "127.0.0.1 - - [2022-06-03 05:03:17] \"POST /predict HTTP/1.1\" 200 159 0.488996\n"
     ]
    },
    {
     "name": "stdout",
     "output_type": "stream",
     "text": [
      "1/1 [==============================] - 0s 74ms/step\n"
     ]
    },
    {
     "name": "stderr",
     "output_type": "stream",
     "text": [
      "127.0.0.1 - - [2022-06-03 05:03:17] \"POST /predict HTTP/1.1\" 200 160 0.453009\n"
     ]
    },
    {
     "name": "stdout",
     "output_type": "stream",
     "text": [
      "1/1 [==============================] - 0s 75ms/step\n"
     ]
    },
    {
     "name": "stderr",
     "output_type": "stream",
     "text": [
      "127.0.0.1 - - [2022-06-03 05:03:18] \"POST /predict HTTP/1.1\" 200 159 0.338003\n"
     ]
    },
    {
     "name": "stdout",
     "output_type": "stream",
     "text": [
      "1/1 [==============================] - 0s 89ms/step\n"
     ]
    },
    {
     "name": "stderr",
     "output_type": "stream",
     "text": [
      "127.0.0.1 - - [2022-06-03 05:03:18] \"POST /predict HTTP/1.1\" 200 159 0.460000\n"
     ]
    },
    {
     "name": "stdout",
     "output_type": "stream",
     "text": [
      "1/1 [==============================] - 0s 102ms/step\n"
     ]
    },
    {
     "name": "stderr",
     "output_type": "stream",
     "text": [
      "127.0.0.1 - - [2022-06-03 05:03:19] \"POST /predict HTTP/1.1\" 200 160 0.779008\n"
     ]
    },
    {
     "name": "stdout",
     "output_type": "stream",
     "text": [
      "1/1 [==============================] - 0s 212ms/step\n"
     ]
    },
    {
     "name": "stderr",
     "output_type": "stream",
     "text": [
      "127.0.0.1 - - [2022-06-03 05:03:20] \"POST /predict HTTP/1.1\" 200 160 0.901386\n"
     ]
    },
    {
     "name": "stdout",
     "output_type": "stream",
     "text": [
      "1/1 [==============================] - 0s 111ms/step\n"
     ]
    },
    {
     "name": "stderr",
     "output_type": "stream",
     "text": [
      "127.0.0.1 - - [2022-06-03 05:03:20] \"POST /predict HTTP/1.1\" 200 160 0.542804\n"
     ]
    },
    {
     "name": "stdout",
     "output_type": "stream",
     "text": [
      "1/1 [==============================] - 0s 104ms/step\n"
     ]
    },
    {
     "name": "stderr",
     "output_type": "stream",
     "text": [
      "127.0.0.1 - - [2022-06-03 05:03:21] \"POST /predict HTTP/1.1\" 200 159 0.532986\n"
     ]
    },
    {
     "name": "stdout",
     "output_type": "stream",
     "text": [
      "1/1 [==============================] - 0s 98ms/step\n"
     ]
    },
    {
     "name": "stderr",
     "output_type": "stream",
     "text": [
      "127.0.0.1 - - [2022-06-03 05:03:22] \"POST /predict HTTP/1.1\" 200 160 0.755123\n"
     ]
    },
    {
     "name": "stdout",
     "output_type": "stream",
     "text": [
      "1/1 [==============================] - 0s 94ms/step\n"
     ]
    },
    {
     "name": "stderr",
     "output_type": "stream",
     "text": [
      "127.0.0.1 - - [2022-06-03 05:03:22] \"POST /predict HTTP/1.1\" 200 160 0.387032\n"
     ]
    },
    {
     "name": "stdout",
     "output_type": "stream",
     "text": [
      "1/1 [==============================] - 0s 106ms/step\n"
     ]
    },
    {
     "name": "stderr",
     "output_type": "stream",
     "text": [
      "127.0.0.1 - - [2022-06-03 05:03:23] \"POST /predict HTTP/1.1\" 200 160 0.489116\n"
     ]
    },
    {
     "name": "stdout",
     "output_type": "stream",
     "text": [
      "1/1 [==============================] - 0s 83ms/step\n"
     ]
    },
    {
     "name": "stderr",
     "output_type": "stream",
     "text": [
      "127.0.0.1 - - [2022-06-03 05:03:24] \"POST /predict HTTP/1.1\" 200 159 0.885896\n"
     ]
    },
    {
     "name": "stdout",
     "output_type": "stream",
     "text": [
      "1/1 [==============================] - 0s 85ms/step\n"
     ]
    },
    {
     "name": "stderr",
     "output_type": "stream",
     "text": [
      "127.0.0.1 - - [2022-06-03 05:03:24] \"POST /predict HTTP/1.1\" 200 160 0.320002\n"
     ]
    },
    {
     "name": "stdout",
     "output_type": "stream",
     "text": [
      "1/1 [==============================] - 0s 73ms/step\n"
     ]
    },
    {
     "name": "stderr",
     "output_type": "stream",
     "text": [
      "127.0.0.1 - - [2022-06-03 05:03:25] \"POST /predict HTTP/1.1\" 200 159 0.762139\n"
     ]
    },
    {
     "name": "stdout",
     "output_type": "stream",
     "text": [
      "1/1 [==============================] - 0s 63ms/step\n"
     ]
    },
    {
     "name": "stderr",
     "output_type": "stream",
     "text": [
      "127.0.0.1 - - [2022-06-03 05:03:25] \"POST /predict HTTP/1.1\" 200 159 0.221687\n"
     ]
    },
    {
     "name": "stdout",
     "output_type": "stream",
     "text": [
      "1/1 [==============================] - 0s 80ms/step\n",
      "1/1 [==============================] - 0s 45ms/step\n"
     ]
    },
    {
     "name": "stderr",
     "output_type": "stream",
     "text": [
      "127.0.0.1 - - [2022-06-03 05:03:25] \"POST /predict HTTP/1.1\" 200 160 0.312384\n",
      "127.0.0.1 - - [2022-06-03 05:03:26] \"POST /predict HTTP/1.1\" 200 159 0.150466\n"
     ]
    },
    {
     "name": "stdout",
     "output_type": "stream",
     "text": [
      "1/1 [==============================] - 0s 60ms/step\n"
     ]
    },
    {
     "name": "stderr",
     "output_type": "stream",
     "text": [
      "127.0.0.1 - - [2022-06-03 05:03:26] \"POST /predict HTTP/1.1\" 200 159 0.201925\n"
     ]
    },
    {
     "name": "stdout",
     "output_type": "stream",
     "text": [
      "1/1 [==============================] - 0s 60ms/step\n"
     ]
    },
    {
     "name": "stderr",
     "output_type": "stream",
     "text": [
      "127.0.0.1 - - [2022-06-03 05:03:26] \"POST /predict HTTP/1.1\" 200 159 0.225997\n"
     ]
    },
    {
     "name": "stdout",
     "output_type": "stream",
     "text": [
      "1/1 [==============================] - 0s 61ms/step\n"
     ]
    },
    {
     "name": "stderr",
     "output_type": "stream",
     "text": [
      "127.0.0.1 - - [2022-06-03 05:03:26] \"POST /predict HTTP/1.1\" 200 159 0.195680\n"
     ]
    },
    {
     "name": "stdout",
     "output_type": "stream",
     "text": [
      "1/1 [==============================] - 0s 57ms/step\n"
     ]
    },
    {
     "name": "stderr",
     "output_type": "stream",
     "text": [
      "127.0.0.1 - - [2022-06-03 05:03:27] \"POST /predict HTTP/1.1\" 200 159 0.275925\n"
     ]
    },
    {
     "name": "stdout",
     "output_type": "stream",
     "text": [
      "1/1 [==============================] - 0s 79ms/step\n"
     ]
    },
    {
     "name": "stderr",
     "output_type": "stream",
     "text": [
      "127.0.0.1 - - [2022-06-03 05:03:27] \"POST /predict HTTP/1.1\" 200 159 0.260185\n"
     ]
    },
    {
     "name": "stdout",
     "output_type": "stream",
     "text": [
      "1/1 [==============================] - 0s 93ms/step\n"
     ]
    },
    {
     "name": "stderr",
     "output_type": "stream",
     "text": [
      "127.0.0.1 - - [2022-06-03 05:03:27] \"POST /predict HTTP/1.1\" 200 159 0.356287\n"
     ]
    },
    {
     "name": "stdout",
     "output_type": "stream",
     "text": [
      "1/1 [==============================] - 0s 94ms/step\n"
     ]
    },
    {
     "name": "stderr",
     "output_type": "stream",
     "text": [
      "127.0.0.1 - - [2022-06-03 05:03:28] \"POST /predict HTTP/1.1\" 200 159 0.513261\n"
     ]
    },
    {
     "name": "stdout",
     "output_type": "stream",
     "text": [
      "1/1 [==============================] - 0s 80ms/step\n"
     ]
    },
    {
     "name": "stderr",
     "output_type": "stream",
     "text": [
      "127.0.0.1 - - [2022-06-03 05:03:28] \"POST /predict HTTP/1.1\" 200 160 0.486873\n"
     ]
    },
    {
     "name": "stdout",
     "output_type": "stream",
     "text": [
      "1/1 [==============================] - 0s 95ms/step\n"
     ]
    },
    {
     "name": "stderr",
     "output_type": "stream",
     "text": [
      "127.0.0.1 - - [2022-06-03 05:03:29] \"POST /predict HTTP/1.1\" 200 159 0.551591\n"
     ]
    },
    {
     "name": "stdout",
     "output_type": "stream",
     "text": [
      "1/1 [==============================] - 0s 78ms/step\n"
     ]
    },
    {
     "name": "stderr",
     "output_type": "stream",
     "text": [
      "127.0.0.1 - - [2022-06-03 05:03:30] \"POST /predict HTTP/1.1\" 200 159 0.553131\n"
     ]
    },
    {
     "name": "stdout",
     "output_type": "stream",
     "text": [
      "1/1 [==============================] - 0s 78ms/step\n"
     ]
    },
    {
     "name": "stderr",
     "output_type": "stream",
     "text": [
      "127.0.0.1 - - [2022-06-03 05:03:30] \"POST /predict HTTP/1.1\" 200 160 0.220295\n"
     ]
    },
    {
     "name": "stdout",
     "output_type": "stream",
     "text": [
      "1/1 [==============================] - 0s 82ms/step\n"
     ]
    },
    {
     "name": "stderr",
     "output_type": "stream",
     "text": [
      "127.0.0.1 - - [2022-06-03 05:03:30] \"POST /predict HTTP/1.1\" 200 160 0.416491\n"
     ]
    },
    {
     "name": "stdout",
     "output_type": "stream",
     "text": [
      "1/1 [==============================] - 0s 96ms/step\n"
     ]
    },
    {
     "name": "stderr",
     "output_type": "stream",
     "text": [
      "127.0.0.1 - - [2022-06-03 05:03:31] \"POST /predict HTTP/1.1\" 200 160 0.299583\n"
     ]
    },
    {
     "name": "stdout",
     "output_type": "stream",
     "text": [
      "1/1 [==============================] - 0s 78ms/step\n"
     ]
    },
    {
     "name": "stderr",
     "output_type": "stream",
     "text": [
      "127.0.0.1 - - [2022-06-03 05:03:32] \"POST /predict HTTP/1.1\" 200 159 0.979368\n"
     ]
    },
    {
     "name": "stdout",
     "output_type": "stream",
     "text": [
      "1/1 [==============================] - 0s 80ms/step\n"
     ]
    },
    {
     "name": "stderr",
     "output_type": "stream",
     "text": [
      "127.0.0.1 - - [2022-06-03 05:03:32] \"POST /predict HTTP/1.1\" 200 159 0.369946\n"
     ]
    },
    {
     "name": "stdout",
     "output_type": "stream",
     "text": [
      "1/1 [==============================] - 0s 57ms/step\n"
     ]
    },
    {
     "name": "stderr",
     "output_type": "stream",
     "text": [
      "127.0.0.1 - - [2022-06-03 05:03:33] \"POST /predict HTTP/1.1\" 200 159 0.381767\n"
     ]
    },
    {
     "name": "stdout",
     "output_type": "stream",
     "text": [
      "1/1 [==============================] - 0s 60ms/step\n"
     ]
    },
    {
     "name": "stderr",
     "output_type": "stream",
     "text": [
      "127.0.0.1 - - [2022-06-03 05:03:33] \"POST /predict HTTP/1.1\" 200 159 0.408074\n"
     ]
    },
    {
     "name": "stdout",
     "output_type": "stream",
     "text": [
      "1/1 [==============================] - 0s 82ms/step\n"
     ]
    },
    {
     "name": "stderr",
     "output_type": "stream",
     "text": [
      "127.0.0.1 - - [2022-06-03 05:03:33] \"POST /predict HTTP/1.1\" 200 159 0.356690\n"
     ]
    },
    {
     "name": "stdout",
     "output_type": "stream",
     "text": [
      "1/1 [==============================] - 0s 71ms/step\n"
     ]
    },
    {
     "name": "stderr",
     "output_type": "stream",
     "text": [
      "127.0.0.1 - - [2022-06-03 05:03:34] \"POST /predict HTTP/1.1\" 200 160 0.343039\n"
     ]
    },
    {
     "name": "stdout",
     "output_type": "stream",
     "text": [
      "1/1 [==============================] - 0s 56ms/step\n"
     ]
    },
    {
     "name": "stderr",
     "output_type": "stream",
     "text": [
      "127.0.0.1 - - [2022-06-03 05:03:34] \"POST /predict HTTP/1.1\" 200 159 0.405000\n"
     ]
    },
    {
     "name": "stdout",
     "output_type": "stream",
     "text": [
      "1/1 [==============================] - 0s 67ms/step\n"
     ]
    },
    {
     "name": "stderr",
     "output_type": "stream",
     "text": [
      "127.0.0.1 - - [2022-06-03 05:03:34] \"POST /predict HTTP/1.1\" 200 160 0.199017\n"
     ]
    },
    {
     "name": "stdout",
     "output_type": "stream",
     "text": [
      "1/1 [==============================] - 0s 64ms/step\n"
     ]
    },
    {
     "name": "stderr",
     "output_type": "stream",
     "text": [
      "127.0.0.1 - - [2022-06-03 05:03:35] \"POST /predict HTTP/1.1\" 200 159 0.480966\n"
     ]
    },
    {
     "name": "stdout",
     "output_type": "stream",
     "text": [
      "1/1 [==============================] - 0s 72ms/step\n"
     ]
    },
    {
     "name": "stderr",
     "output_type": "stream",
     "text": [
      "127.0.0.1 - - [2022-06-03 05:03:35] \"POST /predict HTTP/1.1\" 200 159 0.473999\n"
     ]
    },
    {
     "name": "stdout",
     "output_type": "stream",
     "text": [
      "1/1 [==============================] - 0s 71ms/step\n"
     ]
    },
    {
     "name": "stderr",
     "output_type": "stream",
     "text": [
      "127.0.0.1 - - [2022-06-03 05:03:36] \"POST /predict HTTP/1.1\" 200 160 0.445986\n"
     ]
    },
    {
     "name": "stdout",
     "output_type": "stream",
     "text": [
      "1/1 [==============================] - 0s 68ms/step\n"
     ]
    },
    {
     "name": "stderr",
     "output_type": "stream",
     "text": [
      "127.0.0.1 - - [2022-06-03 05:03:36] \"POST /predict HTTP/1.1\" 200 160 0.317875\n"
     ]
    },
    {
     "name": "stdout",
     "output_type": "stream",
     "text": [
      "1/1 [==============================] - 0s 47ms/step\n"
     ]
    },
    {
     "name": "stderr",
     "output_type": "stream",
     "text": [
      "127.0.0.1 - - [2022-06-03 05:03:37] \"POST /predict HTTP/1.1\" 200 160 0.203714\n"
     ]
    },
    {
     "name": "stdout",
     "output_type": "stream",
     "text": [
      "1/1 [==============================] - 0s 88ms/step\n"
     ]
    },
    {
     "name": "stderr",
     "output_type": "stream",
     "text": [
      "127.0.0.1 - - [2022-06-03 05:03:37] \"POST /predict HTTP/1.1\" 200 160 0.454991\n"
     ]
    },
    {
     "name": "stdout",
     "output_type": "stream",
     "text": [
      "1/1 [==============================] - 0s 72ms/step\n"
     ]
    },
    {
     "name": "stderr",
     "output_type": "stream",
     "text": [
      "127.0.0.1 - - [2022-06-03 05:03:37] \"POST /predict HTTP/1.1\" 200 160 0.298465\n"
     ]
    },
    {
     "name": "stdout",
     "output_type": "stream",
     "text": [
      "1/1 [==============================] - 0s 92ms/step\n"
     ]
    },
    {
     "name": "stderr",
     "output_type": "stream",
     "text": [
      "127.0.0.1 - - [2022-06-03 05:03:38] \"POST /predict HTTP/1.1\" 200 160 0.242548\n"
     ]
    },
    {
     "name": "stdout",
     "output_type": "stream",
     "text": [
      "1/1 [==============================] - 0s 84ms/step\n"
     ]
    },
    {
     "name": "stderr",
     "output_type": "stream",
     "text": [
      "127.0.0.1 - - [2022-06-03 05:03:38] \"POST /predict HTTP/1.1\" 200 159 0.738045\n",
      "127.0.0.1 - - [2022-06-03 05:03:38] \"POST /predict HTTP/1.1\" 200 153 0.000000\n"
     ]
    },
    {
     "name": "stdout",
     "output_type": "stream",
     "text": [
      "1/1 [==============================] - 0s 69ms/step\n"
     ]
    },
    {
     "name": "stderr",
     "output_type": "stream",
     "text": [
      "127.0.0.1 - - [2022-06-03 05:03:39] \"POST /predict HTTP/1.1\" 200 159 0.585564\n"
     ]
    },
    {
     "name": "stdout",
     "output_type": "stream",
     "text": [
      "1/1 [==============================] - 0s 75ms/step\n"
     ]
    },
    {
     "name": "stderr",
     "output_type": "stream",
     "text": [
      "127.0.0.1 - - [2022-06-03 05:03:40] \"POST /predict HTTP/1.1\" 200 159 0.495310\n"
     ]
    },
    {
     "name": "stdout",
     "output_type": "stream",
     "text": [
      "1/1 [==============================] - 0s 94ms/step\n"
     ]
    },
    {
     "name": "stderr",
     "output_type": "stream",
     "text": [
      "127.0.0.1 - - [2022-06-03 05:03:40] \"POST /predict HTTP/1.1\" 200 159 0.670308\n",
      "C:\\Users\\fiansyah\\anaconda3\\lib\\site-packages\\librosa\\util\\decorators.py:88: UserWarning: n_fft=2048 is too small for input signal of length=1213\n",
      "  return f(*args, **kwargs)\n"
     ]
    },
    {
     "name": "stdout",
     "output_type": "stream",
     "text": [
      "1/1 [==============================] - 0s 88ms/step\n"
     ]
    },
    {
     "name": "stderr",
     "output_type": "stream",
     "text": [
      "127.0.0.1 - - [2022-06-03 05:03:41] \"POST /predict HTTP/1.1\" 200 159 0.280002\n"
     ]
    },
    {
     "name": "stdout",
     "output_type": "stream",
     "text": [
      "1/1 [==============================] - 0s 106ms/step\n"
     ]
    },
    {
     "name": "stderr",
     "output_type": "stream",
     "text": [
      "127.0.0.1 - - [2022-06-03 05:03:41] \"POST /predict HTTP/1.1\" 200 159 0.428001\n"
     ]
    },
    {
     "name": "stdout",
     "output_type": "stream",
     "text": [
      "1/1 [==============================] - 0s 94ms/step\n"
     ]
    },
    {
     "name": "stderr",
     "output_type": "stream",
     "text": [
      "127.0.0.1 - - [2022-06-03 05:03:41] \"POST /predict HTTP/1.1\" 200 160 0.358273\n"
     ]
    },
    {
     "name": "stdout",
     "output_type": "stream",
     "text": [
      "1/1 [==============================] - 0s 86ms/step\n"
     ]
    },
    {
     "name": "stderr",
     "output_type": "stream",
     "text": [
      "127.0.0.1 - - [2022-06-03 05:03:42] \"POST /predict HTTP/1.1\" 200 160 0.303035\n"
     ]
    },
    {
     "name": "stdout",
     "output_type": "stream",
     "text": [
      "1/1 [==============================] - 0s 115ms/step\n"
     ]
    },
    {
     "name": "stderr",
     "output_type": "stream",
     "text": [
      "127.0.0.1 - - [2022-06-03 05:03:42] \"POST /predict HTTP/1.1\" 200 159 0.600003\n"
     ]
    },
    {
     "name": "stdout",
     "output_type": "stream",
     "text": [
      "1/1 [==============================] - 0s 71ms/step\n"
     ]
    },
    {
     "name": "stderr",
     "output_type": "stream",
     "text": [
      "127.0.0.1 - - [2022-06-03 05:03:43] \"POST /predict HTTP/1.1\" 200 159 0.314003\n"
     ]
    },
    {
     "name": "stdout",
     "output_type": "stream",
     "text": [
      "1/1 [==============================] - 0s 64ms/step\n"
     ]
    },
    {
     "name": "stderr",
     "output_type": "stream",
     "text": [
      "127.0.0.1 - - [2022-06-03 05:03:43] \"POST /predict HTTP/1.1\" 200 159 0.475033\n"
     ]
    },
    {
     "name": "stdout",
     "output_type": "stream",
     "text": [
      "1/1 [==============================] - 0s 70ms/step\n"
     ]
    },
    {
     "name": "stderr",
     "output_type": "stream",
     "text": [
      "127.0.0.1 - - [2022-06-03 05:03:44] \"POST /predict HTTP/1.1\" 200 159 0.478266\n"
     ]
    },
    {
     "name": "stdout",
     "output_type": "stream",
     "text": [
      "1/1 [==============================] - 0s 61ms/step\n"
     ]
    },
    {
     "name": "stderr",
     "output_type": "stream",
     "text": [
      "127.0.0.1 - - [2022-06-03 05:03:44] \"POST /predict HTTP/1.1\" 200 159 0.205005\n"
     ]
    },
    {
     "name": "stdout",
     "output_type": "stream",
     "text": [
      "1/1 [==============================] - 0s 57ms/step\n"
     ]
    },
    {
     "name": "stderr",
     "output_type": "stream",
     "text": [
      "127.0.0.1 - - [2022-06-03 05:03:44] \"POST /predict HTTP/1.1\" 200 160 0.335996\n"
     ]
    },
    {
     "name": "stdout",
     "output_type": "stream",
     "text": [
      "1/1 [==============================] - 0s 60ms/step\n"
     ]
    },
    {
     "name": "stderr",
     "output_type": "stream",
     "text": [
      "127.0.0.1 - - [2022-06-03 05:03:45] \"POST /predict HTTP/1.1\" 200 159 0.223002\n",
      "127.0.0.1 - - [2022-06-03 05:03:45] \"POST /predict HTTP/1.1\" 200 153 0.003001\n"
     ]
    },
    {
     "name": "stdout",
     "output_type": "stream",
     "text": [
      "1/1 [==============================] - 0s 71ms/step\n"
     ]
    },
    {
     "name": "stderr",
     "output_type": "stream",
     "text": [
      "127.0.0.1 - - [2022-06-03 05:03:45] \"POST /predict HTTP/1.1\" 200 159 0.510011\n"
     ]
    },
    {
     "name": "stdout",
     "output_type": "stream",
     "text": [
      "1/1 [==============================] - 0s 57ms/step\n"
     ]
    },
    {
     "name": "stderr",
     "output_type": "stream",
     "text": [
      "127.0.0.1 - - [2022-06-03 05:03:46] \"POST /predict HTTP/1.1\" 200 159 0.375000\n"
     ]
    },
    {
     "name": "stdout",
     "output_type": "stream",
     "text": [
      "1/1 [==============================] - 0s 56ms/step\n"
     ]
    },
    {
     "name": "stderr",
     "output_type": "stream",
     "text": [
      "127.0.0.1 - - [2022-06-03 05:03:46] \"POST /predict HTTP/1.1\" 200 160 0.272011\n"
     ]
    },
    {
     "name": "stdout",
     "output_type": "stream",
     "text": [
      "1/1 [==============================] - 0s 58ms/step\n"
     ]
    },
    {
     "name": "stderr",
     "output_type": "stream",
     "text": [
      "127.0.0.1 - - [2022-06-03 05:03:46] \"POST /predict HTTP/1.1\" 200 159 0.394000\n"
     ]
    },
    {
     "name": "stdout",
     "output_type": "stream",
     "text": [
      "1/1 [==============================] - 0s 63ms/step\n",
      "1/1 [==============================] - ETA: 0s"
     ]
    },
    {
     "name": "stderr",
     "output_type": "stream",
     "text": [
      "127.0.0.1 - - [2022-06-03 05:03:47] \"POST /predict HTTP/1.1\" 200 159 0.206001\n",
      "C:\\Users\\fiansyah\\anaconda3\\lib\\site-packages\\librosa\\util\\decorators.py:88: UserWarning: n_fft=2048 is too small for input signal of length=993\n",
      "  return f(*args, **kwargs)\n"
     ]
    },
    {
     "name": "stdout",
     "output_type": "stream",
     "text": [
      "\b\b\b\b\b\b\b\b\b\b\b\b\b\b\b\b\b\b\b\b\b\b\b\b\b\b\b\b\b\b\b\b\b\b\b\b\b\b\b\b\b\b\b\b\b\b\r",
      "1/1 [==============================] - 0s 64ms/step\n"
     ]
    },
    {
     "name": "stderr",
     "output_type": "stream",
     "text": [
      "127.0.0.1 - - [2022-06-03 05:03:47] \"POST /predict HTTP/1.1\" 200 160 0.177999\n"
     ]
    },
    {
     "name": "stdout",
     "output_type": "stream",
     "text": [
      "1/1 [==============================] - 0s 57ms/step\n"
     ]
    },
    {
     "name": "stderr",
     "output_type": "stream",
     "text": [
      "127.0.0.1 - - [2022-06-03 05:03:47] \"POST /predict HTTP/1.1\" 200 159 0.286002\n"
     ]
    },
    {
     "name": "stdout",
     "output_type": "stream",
     "text": [
      "1/1 [==============================] - 0s 56ms/step\n"
     ]
    },
    {
     "name": "stderr",
     "output_type": "stream",
     "text": [
      "127.0.0.1 - - [2022-06-03 05:03:47] \"POST /predict HTTP/1.1\" 200 160 0.203000\n"
     ]
    },
    {
     "name": "stdout",
     "output_type": "stream",
     "text": [
      "1/1 [==============================] - 0s 59ms/step\n"
     ]
    },
    {
     "name": "stderr",
     "output_type": "stream",
     "text": [
      "127.0.0.1 - - [2022-06-03 05:03:48] \"POST /predict HTTP/1.1\" 200 160 0.172210\n"
     ]
    },
    {
     "name": "stdout",
     "output_type": "stream",
     "text": [
      "1/1 [==============================] - 0s 59ms/step\n"
     ]
    },
    {
     "name": "stderr",
     "output_type": "stream",
     "text": [
      "127.0.0.1 - - [2022-06-03 05:03:48] \"POST /predict HTTP/1.1\" 200 160 0.248004\n"
     ]
    },
    {
     "name": "stdout",
     "output_type": "stream",
     "text": [
      "1/1 [==============================] - 0s 61ms/step\n"
     ]
    },
    {
     "name": "stderr",
     "output_type": "stream",
     "text": [
      "127.0.0.1 - - [2022-06-03 05:03:48] \"POST /predict HTTP/1.1\" 200 160 0.399634\n"
     ]
    },
    {
     "name": "stdout",
     "output_type": "stream",
     "text": [
      "1/1 [==============================] - 0s 63ms/step\n"
     ]
    },
    {
     "name": "stderr",
     "output_type": "stream",
     "text": [
      "127.0.0.1 - - [2022-06-03 05:03:49] \"POST /predict HTTP/1.1\" 200 159 0.328941\n"
     ]
    },
    {
     "name": "stdout",
     "output_type": "stream",
     "text": [
      "1/1 [==============================] - 0s 61ms/step\n"
     ]
    },
    {
     "name": "stderr",
     "output_type": "stream",
     "text": [
      "127.0.0.1 - - [2022-06-03 05:03:49] \"POST /predict HTTP/1.1\" 200 159 0.513592\n"
     ]
    },
    {
     "name": "stdout",
     "output_type": "stream",
     "text": [
      "1/1 [==============================] - 0s 57ms/step\n"
     ]
    },
    {
     "name": "stderr",
     "output_type": "stream",
     "text": [
      "127.0.0.1 - - [2022-06-03 05:03:50] \"POST /predict HTTP/1.1\" 200 160 0.280009\n"
     ]
    },
    {
     "name": "stdout",
     "output_type": "stream",
     "text": [
      "1/1 [==============================] - 0s 56ms/step\n"
     ]
    },
    {
     "name": "stderr",
     "output_type": "stream",
     "text": [
      "127.0.0.1 - - [2022-06-03 05:03:50] \"POST /predict HTTP/1.1\" 200 159 0.196992\n"
     ]
    },
    {
     "name": "stdout",
     "output_type": "stream",
     "text": [
      "1/1 [==============================] - 0s 53ms/step\n"
     ]
    },
    {
     "name": "stderr",
     "output_type": "stream",
     "text": [
      "127.0.0.1 - - [2022-06-03 05:03:51] \"POST /predict HTTP/1.1\" 200 159 1.019936\n"
     ]
    },
    {
     "name": "stdout",
     "output_type": "stream",
     "text": [
      "1/1 [==============================] - 0s 57ms/step\n"
     ]
    },
    {
     "name": "stderr",
     "output_type": "stream",
     "text": [
      "127.0.0.1 - - [2022-06-03 05:03:51] \"POST /predict HTTP/1.1\" 200 160 0.225125\n"
     ]
    },
    {
     "name": "stdout",
     "output_type": "stream",
     "text": [
      "1/1 [==============================] - 0s 57ms/step\n"
     ]
    },
    {
     "name": "stderr",
     "output_type": "stream",
     "text": [
      "127.0.0.1 - - [2022-06-03 05:03:52] \"POST /predict HTTP/1.1\" 200 159 0.379097\n"
     ]
    },
    {
     "name": "stdout",
     "output_type": "stream",
     "text": [
      "1/1 [==============================] - 0s 79ms/step\n"
     ]
    },
    {
     "name": "stderr",
     "output_type": "stream",
     "text": [
      "127.0.0.1 - - [2022-06-03 05:03:52] \"POST /predict HTTP/1.1\" 200 160 0.199574\n"
     ]
    },
    {
     "name": "stdout",
     "output_type": "stream",
     "text": [
      "1/1 [==============================] - 0s 57ms/step\n"
     ]
    },
    {
     "name": "stderr",
     "output_type": "stream",
     "text": [
      "127.0.0.1 - - [2022-06-03 05:03:52] \"POST /predict HTTP/1.1\" 200 160 0.258005\n"
     ]
    },
    {
     "name": "stdout",
     "output_type": "stream",
     "text": [
      "1/1 [==============================] - 0s 61ms/step\n"
     ]
    },
    {
     "name": "stderr",
     "output_type": "stream",
     "text": [
      "127.0.0.1 - - [2022-06-03 05:03:52] \"POST /predict HTTP/1.1\" 200 160 0.185001\n"
     ]
    },
    {
     "name": "stdout",
     "output_type": "stream",
     "text": [
      "1/1 [==============================] - 0s 62ms/step\n"
     ]
    },
    {
     "name": "stderr",
     "output_type": "stream",
     "text": [
      "127.0.0.1 - - [2022-06-03 05:03:53] \"POST /predict HTTP/1.1\" 200 159 0.178999\n"
     ]
    },
    {
     "name": "stdout",
     "output_type": "stream",
     "text": [
      "1/1 [==============================] - 0s 63ms/step\n"
     ]
    },
    {
     "name": "stderr",
     "output_type": "stream",
     "text": [
      "127.0.0.1 - - [2022-06-03 05:03:53] \"POST /predict HTTP/1.1\" 200 159 0.270999\n",
      "127.0.0.1 - - [2022-06-03 05:03:53] \"POST /predict HTTP/1.1\" 200 153 0.003000\n"
     ]
    },
    {
     "name": "stdout",
     "output_type": "stream",
     "text": [
      "1/1 [==============================] - 0s 54ms/step\n"
     ]
    },
    {
     "name": "stderr",
     "output_type": "stream",
     "text": [
      "127.0.0.1 - - [2022-06-03 05:03:53] \"POST /predict HTTP/1.1\" 200 159 0.342533\n"
     ]
    },
    {
     "name": "stdout",
     "output_type": "stream",
     "text": [
      "1/1 [==============================] - 0s 65ms/step\n"
     ]
    },
    {
     "name": "stderr",
     "output_type": "stream",
     "text": [
      "127.0.0.1 - - [2022-06-03 05:03:54] \"POST /predict HTTP/1.1\" 200 159 0.229932\n"
     ]
    },
    {
     "name": "stdout",
     "output_type": "stream",
     "text": [
      "1/1 [==============================] - 0s 60ms/step\n"
     ]
    },
    {
     "name": "stderr",
     "output_type": "stream",
     "text": [
      "127.0.0.1 - - [2022-06-03 05:03:54] \"POST /predict HTTP/1.1\" 200 160 0.245000\n"
     ]
    },
    {
     "name": "stdout",
     "output_type": "stream",
     "text": [
      "1/1 [==============================] - 0s 62ms/step\n"
     ]
    },
    {
     "name": "stderr",
     "output_type": "stream",
     "text": [
      "127.0.0.1 - - [2022-06-03 05:03:54] \"POST /predict HTTP/1.1\" 200 159 0.213000\n"
     ]
    },
    {
     "name": "stdout",
     "output_type": "stream",
     "text": [
      "1/1 [==============================] - 0s 59ms/step\n"
     ]
    },
    {
     "name": "stderr",
     "output_type": "stream",
     "text": [
      "127.0.0.1 - - [2022-06-03 05:03:54] \"POST /predict HTTP/1.1\" 200 159 0.272001\n"
     ]
    },
    {
     "name": "stdout",
     "output_type": "stream",
     "text": [
      "1/1 [==============================] - 0s 87ms/step\n"
     ]
    },
    {
     "name": "stderr",
     "output_type": "stream",
     "text": [
      "127.0.0.1 - - [2022-06-03 05:03:55] \"POST /predict HTTP/1.1\" 200 159 0.376010\n"
     ]
    },
    {
     "name": "stdout",
     "output_type": "stream",
     "text": [
      "1/1 [==============================] - 0s 81ms/step\n"
     ]
    },
    {
     "name": "stderr",
     "output_type": "stream",
     "text": [
      "127.0.0.1 - - [2022-06-03 05:03:55] \"POST /predict HTTP/1.1\" 200 159 0.508998\n"
     ]
    },
    {
     "name": "stdout",
     "output_type": "stream",
     "text": [
      "1/1 [==============================] - 0s 71ms/step\n"
     ]
    },
    {
     "name": "stderr",
     "output_type": "stream",
     "text": [
      "127.0.0.1 - - [2022-06-03 05:03:56] \"POST /predict HTTP/1.1\" 200 160 0.299144\n"
     ]
    },
    {
     "name": "stdout",
     "output_type": "stream",
     "text": [
      "1/1 [==============================] - 0s 76ms/step\n"
     ]
    },
    {
     "name": "stderr",
     "output_type": "stream",
     "text": [
      "127.0.0.1 - - [2022-06-03 05:03:56] \"POST /predict HTTP/1.1\" 200 159 0.251006\n"
     ]
    },
    {
     "name": "stdout",
     "output_type": "stream",
     "text": [
      "1/1 [==============================] - 0s 70ms/step\n"
     ]
    },
    {
     "name": "stderr",
     "output_type": "stream",
     "text": [
      "127.0.0.1 - - [2022-06-03 05:03:56] \"POST /predict HTTP/1.1\" 200 160 0.285002\n"
     ]
    },
    {
     "name": "stdout",
     "output_type": "stream",
     "text": [
      "1/1 [==============================] - 0s 50ms/step\n"
     ]
    },
    {
     "name": "stderr",
     "output_type": "stream",
     "text": [
      "127.0.0.1 - - [2022-06-03 05:03:57] \"POST /predict HTTP/1.1\" 200 159 0.371382\n"
     ]
    },
    {
     "name": "stdout",
     "output_type": "stream",
     "text": [
      "1/1 [==============================] - 0s 56ms/step\n"
     ]
    },
    {
     "name": "stderr",
     "output_type": "stream",
     "text": [
      "127.0.0.1 - - [2022-06-03 05:03:57] \"POST /predict HTTP/1.1\" 200 159 0.329986\n"
     ]
    },
    {
     "name": "stdout",
     "output_type": "stream",
     "text": [
      "1/1 [==============================] - 0s 60ms/step\n"
     ]
    },
    {
     "name": "stderr",
     "output_type": "stream",
     "text": [
      "127.0.0.1 - - [2022-06-03 05:03:57] \"POST /predict HTTP/1.1\" 200 160 0.173008\n"
     ]
    },
    {
     "name": "stdout",
     "output_type": "stream",
     "text": [
      "1/1 [==============================] - 0s 59ms/step\n"
     ]
    },
    {
     "name": "stderr",
     "output_type": "stream",
     "text": [
      "127.0.0.1 - - [2022-06-03 05:03:58] \"POST /predict HTTP/1.1\" 200 160 0.298995\n",
      "127.0.0.1 - - [2022-06-03 05:03:58] \"POST /predict HTTP/1.1\" 200 153 0.002998\n"
     ]
    },
    {
     "name": "stdout",
     "output_type": "stream",
     "text": [
      "1/1 [==============================] - 0s 56ms/step\n"
     ]
    },
    {
     "name": "stderr",
     "output_type": "stream",
     "text": [
      "127.0.0.1 - - [2022-06-03 05:03:58] \"POST /predict HTTP/1.1\" 200 159 0.177997\n",
      "127.0.0.1 - - [2022-06-03 05:03:58] \"POST /predict HTTP/1.1\" 200 153 0.002994\n"
     ]
    },
    {
     "name": "stdout",
     "output_type": "stream",
     "text": [
      "1/1 [==============================] - 0s 53ms/step\n"
     ]
    },
    {
     "name": "stderr",
     "output_type": "stream",
     "text": [
      "127.0.0.1 - - [2022-06-03 05:03:58] \"POST /predict HTTP/1.1\" 200 160 0.168011\n"
     ]
    },
    {
     "name": "stdout",
     "output_type": "stream",
     "text": [
      "1/1 [==============================] - 0s 58ms/step\n"
     ]
    },
    {
     "name": "stderr",
     "output_type": "stream",
     "text": [
      "127.0.0.1 - - [2022-06-03 05:03:58] \"POST /predict HTTP/1.1\" 200 159 0.208997\n"
     ]
    },
    {
     "name": "stdout",
     "output_type": "stream",
     "text": [
      "1/1 [==============================] - 0s 78ms/step\n"
     ]
    },
    {
     "name": "stderr",
     "output_type": "stream",
     "text": [
      "127.0.0.1 - - [2022-06-03 05:03:59] \"POST /predict HTTP/1.1\" 200 159 0.216004\n"
     ]
    },
    {
     "name": "stdout",
     "output_type": "stream",
     "text": [
      "1/1 [==============================] - 0s 63ms/step\n"
     ]
    },
    {
     "name": "stderr",
     "output_type": "stream",
     "text": [
      "127.0.0.1 - - [2022-06-03 05:03:59] \"POST /predict HTTP/1.1\" 200 159 0.205000\n"
     ]
    },
    {
     "name": "stdout",
     "output_type": "stream",
     "text": [
      "1/1 [==============================] - 0s 65ms/step\n"
     ]
    },
    {
     "name": "stderr",
     "output_type": "stream",
     "text": [
      "127.0.0.1 - - [2022-06-03 05:03:59] \"POST /predict HTTP/1.1\" 200 159 0.260216\n"
     ]
    },
    {
     "name": "stdout",
     "output_type": "stream",
     "text": [
      "1/1 [==============================] - 0s 63ms/step\n"
     ]
    },
    {
     "name": "stderr",
     "output_type": "stream",
     "text": [
      "127.0.0.1 - - [2022-06-03 05:03:59] \"POST /predict HTTP/1.1\" 200 159 0.236243\n"
     ]
    },
    {
     "name": "stdout",
     "output_type": "stream",
     "text": [
      "1/1 [==============================] - 0s 56ms/step\n"
     ]
    },
    {
     "name": "stderr",
     "output_type": "stream",
     "text": [
      "127.0.0.1 - - [2022-06-03 05:04:00] \"POST /predict HTTP/1.1\" 200 159 0.226004\n"
     ]
    },
    {
     "name": "stdout",
     "output_type": "stream",
     "text": [
      "1/1 [==============================] - 0s 60ms/step\n"
     ]
    },
    {
     "name": "stderr",
     "output_type": "stream",
     "text": [
      "127.0.0.1 - - [2022-06-03 05:04:00] \"POST /predict HTTP/1.1\" 200 159 0.279002\n"
     ]
    },
    {
     "name": "stdout",
     "output_type": "stream",
     "text": [
      "1/1 [==============================] - 0s 60ms/step\n"
     ]
    },
    {
     "name": "stderr",
     "output_type": "stream",
     "text": [
      "127.0.0.1 - - [2022-06-03 05:04:00] \"POST /predict HTTP/1.1\" 200 159 0.206999\n"
     ]
    },
    {
     "name": "stdout",
     "output_type": "stream",
     "text": [
      "1/1 [==============================] - 0s 61ms/step\n"
     ]
    },
    {
     "name": "stderr",
     "output_type": "stream",
     "text": [
      "127.0.0.1 - - [2022-06-03 05:04:01] \"POST /predict HTTP/1.1\" 200 159 0.233008\n"
     ]
    },
    {
     "name": "stdout",
     "output_type": "stream",
     "text": [
      "1/1 [==============================] - 0s 63ms/step\n"
     ]
    },
    {
     "name": "stderr",
     "output_type": "stream",
     "text": [
      "127.0.0.1 - - [2022-06-03 05:04:01] \"POST /predict HTTP/1.1\" 200 159 0.198003\n"
     ]
    },
    {
     "name": "stdout",
     "output_type": "stream",
     "text": [
      "1/1 [==============================] - 0s 59ms/step\n"
     ]
    },
    {
     "name": "stderr",
     "output_type": "stream",
     "text": [
      "127.0.0.1 - - [2022-06-03 05:04:01] \"POST /predict HTTP/1.1\" 200 159 0.301000\n"
     ]
    },
    {
     "name": "stdout",
     "output_type": "stream",
     "text": [
      "1/1 [==============================] - 0s 63ms/step\n"
     ]
    },
    {
     "name": "stderr",
     "output_type": "stream",
     "text": [
      "127.0.0.1 - - [2022-06-03 05:04:01] \"POST /predict HTTP/1.1\" 200 159 0.254997\n"
     ]
    },
    {
     "name": "stdout",
     "output_type": "stream",
     "text": [
      "1/1 [==============================] - 0s 90ms/step\n"
     ]
    },
    {
     "name": "stderr",
     "output_type": "stream",
     "text": [
      "127.0.0.1 - - [2022-06-03 05:04:02] \"POST /predict HTTP/1.1\" 200 160 0.238693\n"
     ]
    },
    {
     "name": "stdout",
     "output_type": "stream",
     "text": [
      "1/1 [==============================] - 0s 66ms/step\n"
     ]
    },
    {
     "name": "stderr",
     "output_type": "stream",
     "text": [
      "127.0.0.1 - - [2022-06-03 05:04:02] \"POST /predict HTTP/1.1\" 200 159 0.362004\n"
     ]
    },
    {
     "name": "stdout",
     "output_type": "stream",
     "text": [
      "1/1 [==============================] - 0s 74ms/step\n"
     ]
    },
    {
     "name": "stderr",
     "output_type": "stream",
     "text": [
      "127.0.0.1 - - [2022-06-03 05:04:03] \"POST /predict HTTP/1.1\" 200 159 0.691005\n"
     ]
    },
    {
     "name": "stdout",
     "output_type": "stream",
     "text": [
      "1/1 [==============================] - 0s 76ms/step\n"
     ]
    },
    {
     "name": "stderr",
     "output_type": "stream",
     "text": [
      "127.0.0.1 - - [2022-06-03 05:04:03] \"POST /predict HTTP/1.1\" 200 159 0.408003\n"
     ]
    },
    {
     "name": "stdout",
     "output_type": "stream",
     "text": [
      "1/1 [==============================] - 0s 101ms/step\n"
     ]
    },
    {
     "name": "stderr",
     "output_type": "stream",
     "text": [
      "127.0.0.1 - - [2022-06-03 05:04:04] \"POST /predict HTTP/1.1\" 200 159 0.318991\n"
     ]
    },
    {
     "name": "stdout",
     "output_type": "stream",
     "text": [
      "1/1 [==============================] - 0s 148ms/step\n"
     ]
    },
    {
     "name": "stderr",
     "output_type": "stream",
     "text": [
      "127.0.0.1 - - [2022-06-03 05:04:04] \"POST /predict HTTP/1.1\" 200 159 0.568001\n"
     ]
    },
    {
     "name": "stdout",
     "output_type": "stream",
     "text": [
      "1/1 [==============================] - 0s 72ms/step\n"
     ]
    },
    {
     "name": "stderr",
     "output_type": "stream",
     "text": [
      "127.0.0.1 - - [2022-06-03 05:04:05] \"POST /predict HTTP/1.1\" 200 159 0.690010\n"
     ]
    },
    {
     "name": "stdout",
     "output_type": "stream",
     "text": [
      "1/1 [==============================] - 0s 72ms/step\n"
     ]
    },
    {
     "name": "stderr",
     "output_type": "stream",
     "text": [
      "127.0.0.1 - - [2022-06-03 05:04:05] \"POST /predict HTTP/1.1\" 200 159 0.390001\n"
     ]
    },
    {
     "name": "stdout",
     "output_type": "stream",
     "text": [
      "1/1 [==============================] - 0s 154ms/step\n"
     ]
    },
    {
     "name": "stderr",
     "output_type": "stream",
     "text": [
      "127.0.0.1 - - [2022-06-03 05:04:06] \"POST /predict HTTP/1.1\" 200 159 0.407013\n"
     ]
    },
    {
     "name": "stdout",
     "output_type": "stream",
     "text": [
      "1/1 [==============================] - 0s 148ms/step\n"
     ]
    },
    {
     "name": "stderr",
     "output_type": "stream",
     "text": [
      "127.0.0.1 - - [2022-06-03 05:04:07] \"POST /predict HTTP/1.1\" 200 159 1.256004\n"
     ]
    },
    {
     "name": "stdout",
     "output_type": "stream",
     "text": [
      "1/1 [==============================] - 0s 141ms/step\n"
     ]
    },
    {
     "name": "stderr",
     "output_type": "stream",
     "text": [
      "127.0.0.1 - - [2022-06-03 05:04:08] \"POST /predict HTTP/1.1\" 200 159 1.043996\n"
     ]
    },
    {
     "name": "stdout",
     "output_type": "stream",
     "text": [
      "1/1 [==============================] - 0s 106ms/step\n"
     ]
    },
    {
     "name": "stderr",
     "output_type": "stream",
     "text": [
      "127.0.0.1 - - [2022-06-03 05:04:09] \"POST /predict HTTP/1.1\" 200 159 0.580003\n"
     ]
    },
    {
     "name": "stdout",
     "output_type": "stream",
     "text": [
      "1/1 [==============================] - 0s 126ms/step\n"
     ]
    },
    {
     "name": "stderr",
     "output_type": "stream",
     "text": [
      "127.0.0.1 - - [2022-06-03 05:04:10] \"POST /predict HTTP/1.1\" 200 159 0.555007\n"
     ]
    },
    {
     "name": "stdout",
     "output_type": "stream",
     "text": [
      "1/1 [==============================] - 0s 108ms/step\n"
     ]
    },
    {
     "name": "stderr",
     "output_type": "stream",
     "text": [
      "127.0.0.1 - - [2022-06-03 05:04:10] \"POST /predict HTTP/1.1\" 200 159 0.478003\n"
     ]
    },
    {
     "name": "stdout",
     "output_type": "stream",
     "text": [
      "1/1 [==============================] - 0s 89ms/step\n"
     ]
    },
    {
     "name": "stderr",
     "output_type": "stream",
     "text": [
      "127.0.0.1 - - [2022-06-03 05:04:11] \"POST /predict HTTP/1.1\" 200 159 0.440001\n"
     ]
    },
    {
     "name": "stdout",
     "output_type": "stream",
     "text": [
      "1/1 [==============================] - 0s 104ms/step\n"
     ]
    },
    {
     "name": "stderr",
     "output_type": "stream",
     "text": [
      "127.0.0.1 - - [2022-06-03 05:04:11] \"POST /predict HTTP/1.1\" 200 159 0.483005\n"
     ]
    },
    {
     "name": "stdout",
     "output_type": "stream",
     "text": [
      "1/1 [==============================] - 0s 124ms/step\n"
     ]
    },
    {
     "name": "stderr",
     "output_type": "stream",
     "text": [
      "127.0.0.1 - - [2022-06-03 05:04:12] \"POST /predict HTTP/1.1\" 200 159 0.515007\n"
     ]
    },
    {
     "name": "stdout",
     "output_type": "stream",
     "text": [
      "1/1 [==============================] - 0s 89ms/step\n"
     ]
    },
    {
     "name": "stderr",
     "output_type": "stream",
     "text": [
      "127.0.0.1 - - [2022-06-03 05:04:12] \"POST /predict HTTP/1.1\" 200 159 0.406002\n"
     ]
    },
    {
     "name": "stdout",
     "output_type": "stream",
     "text": [
      "1/1 [==============================] - 0s 94ms/step\n"
     ]
    },
    {
     "name": "stderr",
     "output_type": "stream",
     "text": [
      "127.0.0.1 - - [2022-06-03 05:04:13] \"POST /predict HTTP/1.1\" 200 159 0.433009\n"
     ]
    },
    {
     "name": "stdout",
     "output_type": "stream",
     "text": [
      "1/1 [==============================] - 0s 95ms/step\n"
     ]
    },
    {
     "name": "stderr",
     "output_type": "stream",
     "text": [
      "127.0.0.1 - - [2022-06-03 05:04:13] \"POST /predict HTTP/1.1\" 200 159 0.403996\n"
     ]
    },
    {
     "name": "stdout",
     "output_type": "stream",
     "text": [
      "1/1 [==============================] - 0s 135ms/step\n"
     ]
    },
    {
     "name": "stderr",
     "output_type": "stream",
     "text": [
      "127.0.0.1 - - [2022-06-03 05:04:14] \"POST /predict HTTP/1.1\" 200 159 0.564004\n"
     ]
    },
    {
     "name": "stdout",
     "output_type": "stream",
     "text": [
      "1/1 [==============================] - 0s 80ms/step\n"
     ]
    },
    {
     "name": "stderr",
     "output_type": "stream",
     "text": [
      "127.0.0.1 - - [2022-06-03 05:04:14] \"POST /predict HTTP/1.1\" 200 159 0.416013\n"
     ]
    },
    {
     "name": "stdout",
     "output_type": "stream",
     "text": [
      "1/1 [==============================] - 0s 83ms/step\n"
     ]
    },
    {
     "name": "stderr",
     "output_type": "stream",
     "text": [
      "127.0.0.1 - - [2022-06-03 05:04:15] \"POST /predict HTTP/1.1\" 200 159 0.412007\n"
     ]
    },
    {
     "name": "stdout",
     "output_type": "stream",
     "text": [
      "1/1 [==============================] - 0s 67ms/step\n"
     ]
    },
    {
     "name": "stderr",
     "output_type": "stream",
     "text": [
      "127.0.0.1 - - [2022-06-03 05:04:15] \"POST /predict HTTP/1.1\" 200 159 0.381993\n"
     ]
    },
    {
     "name": "stdout",
     "output_type": "stream",
     "text": [
      "1/1 [==============================] - 0s 82ms/step\n"
     ]
    },
    {
     "name": "stderr",
     "output_type": "stream",
     "text": [
      "127.0.0.1 - - [2022-06-03 05:04:16] \"POST /predict HTTP/1.1\" 200 159 0.571000\n"
     ]
    },
    {
     "name": "stdout",
     "output_type": "stream",
     "text": [
      "1/1 [==============================] - 0s 145ms/step\n"
     ]
    },
    {
     "name": "stderr",
     "output_type": "stream",
     "text": [
      "127.0.0.1 - - [2022-06-03 05:04:16] \"POST /predict HTTP/1.1\" 200 159 0.626000\n"
     ]
    },
    {
     "name": "stdout",
     "output_type": "stream",
     "text": [
      "1/1 [==============================] - 0s 155ms/step\n"
     ]
    },
    {
     "name": "stderr",
     "output_type": "stream",
     "text": [
      "127.0.0.1 - - [2022-06-03 05:04:17] \"POST /predict HTTP/1.1\" 200 159 0.549002\n"
     ]
    },
    {
     "name": "stdout",
     "output_type": "stream",
     "text": [
      "1/1 [==============================] - 0s 143ms/step\n"
     ]
    },
    {
     "name": "stderr",
     "output_type": "stream",
     "text": [
      "127.0.0.1 - - [2022-06-03 05:04:18] \"POST /predict HTTP/1.1\" 200 159 0.638004\n"
     ]
    },
    {
     "name": "stdout",
     "output_type": "stream",
     "text": [
      "1/1 [==============================] - 0s 68ms/step\n"
     ]
    },
    {
     "name": "stderr",
     "output_type": "stream",
     "text": [
      "127.0.0.1 - - [2022-06-03 05:04:19] \"POST /predict HTTP/1.1\" 200 160 0.893007\n"
     ]
    },
    {
     "name": "stdout",
     "output_type": "stream",
     "text": [
      "1/1 [==============================] - 0s 67ms/step\n"
     ]
    },
    {
     "name": "stderr",
     "output_type": "stream",
     "text": [
      "127.0.0.1 - - [2022-06-03 05:04:19] \"POST /predict HTTP/1.1\" 200 159 0.772008\n"
     ]
    },
    {
     "name": "stdout",
     "output_type": "stream",
     "text": [
      "1/1 [==============================] - 0s 71ms/step\n"
     ]
    },
    {
     "name": "stderr",
     "output_type": "stream",
     "text": [
      "127.0.0.1 - - [2022-06-03 05:04:20] \"POST /predict HTTP/1.1\" 200 159 0.316004\n"
     ]
    },
    {
     "name": "stdout",
     "output_type": "stream",
     "text": [
      "1/1 [==============================] - 0s 70ms/step\n"
     ]
    },
    {
     "name": "stderr",
     "output_type": "stream",
     "text": [
      "127.0.0.1 - - [2022-06-03 05:04:20] \"POST /predict HTTP/1.1\" 200 159 0.359001\n"
     ]
    },
    {
     "name": "stdout",
     "output_type": "stream",
     "text": [
      "1/1 [==============================] - 0s 70ms/step\n"
     ]
    },
    {
     "name": "stderr",
     "output_type": "stream",
     "text": [
      "127.0.0.1 - - [2022-06-03 05:04:21] \"POST /predict HTTP/1.1\" 200 159 0.862999\n"
     ]
    },
    {
     "name": "stdout",
     "output_type": "stream",
     "text": [
      "1/1 [==============================] - 0s 82ms/step\n"
     ]
    },
    {
     "name": "stderr",
     "output_type": "stream",
     "text": [
      "127.0.0.1 - - [2022-06-03 05:04:21] \"POST /predict HTTP/1.1\" 200 159 0.343012\n"
     ]
    },
    {
     "name": "stdout",
     "output_type": "stream",
     "text": [
      "1/1 [==============================] - 0s 64ms/step\n"
     ]
    },
    {
     "name": "stderr",
     "output_type": "stream",
     "text": [
      "127.0.0.1 - - [2022-06-03 05:04:22] \"POST /predict HTTP/1.1\" 200 159 0.443004\n"
     ]
    },
    {
     "name": "stdout",
     "output_type": "stream",
     "text": [
      "1/1 [==============================] - 0s 82ms/step\n"
     ]
    },
    {
     "name": "stderr",
     "output_type": "stream",
     "text": [
      "127.0.0.1 - - [2022-06-03 05:04:22] \"POST /predict HTTP/1.1\" 200 159 0.482999\n"
     ]
    },
    {
     "name": "stdout",
     "output_type": "stream",
     "text": [
      "1/1 [==============================] - 0s 55ms/step\n"
     ]
    },
    {
     "name": "stderr",
     "output_type": "stream",
     "text": [
      "127.0.0.1 - - [2022-06-03 05:04:23] \"POST /predict HTTP/1.1\" 200 159 0.348000\n"
     ]
    },
    {
     "name": "stdout",
     "output_type": "stream",
     "text": [
      "1/1 [==============================] - 0s 52ms/step\n"
     ]
    },
    {
     "name": "stderr",
     "output_type": "stream",
     "text": [
      "127.0.0.1 - - [2022-06-03 05:04:23] \"POST /predict HTTP/1.1\" 200 159 0.427004\n"
     ]
    },
    {
     "name": "stdout",
     "output_type": "stream",
     "text": [
      "1/1 [==============================] - 0s 82ms/step\n"
     ]
    },
    {
     "name": "stderr",
     "output_type": "stream",
     "text": [
      "127.0.0.1 - - [2022-06-03 05:04:24] \"POST /predict HTTP/1.1\" 200 159 0.292008\n"
     ]
    },
    {
     "name": "stdout",
     "output_type": "stream",
     "text": [
      "1/1 [==============================] - 0s 78ms/step\n"
     ]
    },
    {
     "name": "stderr",
     "output_type": "stream",
     "text": [
      "127.0.0.1 - - [2022-06-03 05:04:24] \"POST /predict HTTP/1.1\" 200 159 0.446001\n"
     ]
    },
    {
     "name": "stdout",
     "output_type": "stream",
     "text": [
      "1/1 [==============================] - 0s 66ms/step\n"
     ]
    },
    {
     "name": "stderr",
     "output_type": "stream",
     "text": [
      "127.0.0.1 - - [2022-06-03 05:04:25] \"POST /predict HTTP/1.1\" 200 159 0.539003\n"
     ]
    },
    {
     "name": "stdout",
     "output_type": "stream",
     "text": [
      "1/1 [==============================] - 0s 81ms/step\n"
     ]
    },
    {
     "name": "stderr",
     "output_type": "stream",
     "text": [
      "127.0.0.1 - - [2022-06-03 05:04:25] \"POST /predict HTTP/1.1\" 200 159 0.314005\n"
     ]
    },
    {
     "name": "stdout",
     "output_type": "stream",
     "text": [
      "1/1 [==============================] - 0s 71ms/step\n"
     ]
    },
    {
     "name": "stderr",
     "output_type": "stream",
     "text": [
      "127.0.0.1 - - [2022-06-03 05:04:26] \"POST /predict HTTP/1.1\" 200 159 0.821994\n"
     ]
    },
    {
     "name": "stdout",
     "output_type": "stream",
     "text": [
      "1/1 [==============================] - 0s 82ms/step\n"
     ]
    },
    {
     "name": "stderr",
     "output_type": "stream",
     "text": [
      "127.0.0.1 - - [2022-06-03 05:04:26] \"POST /predict HTTP/1.1\" 200 159 0.357003\n"
     ]
    },
    {
     "name": "stdout",
     "output_type": "stream",
     "text": [
      "1/1 [==============================] - 0s 77ms/step\n"
     ]
    },
    {
     "name": "stderr",
     "output_type": "stream",
     "text": [
      "127.0.0.1 - - [2022-06-03 05:04:27] \"POST /predict HTTP/1.1\" 200 159 0.291004\n"
     ]
    },
    {
     "name": "stdout",
     "output_type": "stream",
     "text": [
      "1/1 [==============================] - 0s 74ms/step\n"
     ]
    },
    {
     "name": "stderr",
     "output_type": "stream",
     "text": [
      "127.0.0.1 - - [2022-06-03 05:04:27] \"POST /predict HTTP/1.1\" 200 160 0.229007\n"
     ]
    },
    {
     "name": "stdout",
     "output_type": "stream",
     "text": [
      "1/1 [==============================] - 0s 63ms/step\n"
     ]
    },
    {
     "name": "stderr",
     "output_type": "stream",
     "text": [
      "127.0.0.1 - - [2022-06-03 05:04:28] \"POST /predict HTTP/1.1\" 200 159 0.595003\n"
     ]
    },
    {
     "name": "stdout",
     "output_type": "stream",
     "text": [
      "1/1 [==============================] - 0s 74ms/step\n"
     ]
    },
    {
     "name": "stderr",
     "output_type": "stream",
     "text": [
      "127.0.0.1 - - [2022-06-03 05:04:28] \"POST /predict HTTP/1.1\" 200 159 0.272003\n"
     ]
    },
    {
     "name": "stdout",
     "output_type": "stream",
     "text": [
      "1/1 [==============================] - 0s 65ms/step\n"
     ]
    },
    {
     "name": "stderr",
     "output_type": "stream",
     "text": [
      "127.0.0.1 - - [2022-06-03 05:04:29] \"POST /predict HTTP/1.1\" 200 159 1.355008\n"
     ]
    },
    {
     "name": "stdout",
     "output_type": "stream",
     "text": [
      "1/1 [==============================] - 0s 83ms/step\n"
     ]
    },
    {
     "name": "stderr",
     "output_type": "stream",
     "text": [
      "127.0.0.1 - - [2022-06-03 05:04:30] \"POST /predict HTTP/1.1\" 200 159 0.539001\n"
     ]
    },
    {
     "name": "stdout",
     "output_type": "stream",
     "text": [
      "1/1 [==============================] - 0s 56ms/step\n"
     ]
    },
    {
     "name": "stderr",
     "output_type": "stream",
     "text": [
      "127.0.0.1 - - [2022-06-03 05:04:30] \"POST /predict HTTP/1.1\" 200 159 0.414001\n"
     ]
    },
    {
     "name": "stdout",
     "output_type": "stream",
     "text": [
      "1/1 [==============================] - 0s 63ms/step\n"
     ]
    },
    {
     "name": "stderr",
     "output_type": "stream",
     "text": [
      "127.0.0.1 - - [2022-06-03 05:04:31] \"POST /predict HTTP/1.1\" 200 159 0.844995\n"
     ]
    },
    {
     "name": "stdout",
     "output_type": "stream",
     "text": [
      "1/1 [==============================] - 0s 66ms/step\n"
     ]
    },
    {
     "name": "stderr",
     "output_type": "stream",
     "text": [
      "127.0.0.1 - - [2022-06-03 05:04:32] \"POST /predict HTTP/1.1\" 200 159 0.607004\n"
     ]
    },
    {
     "name": "stdout",
     "output_type": "stream",
     "text": [
      "1/1 [==============================] - 0s 92ms/step\n"
     ]
    },
    {
     "name": "stderr",
     "output_type": "stream",
     "text": [
      "127.0.0.1 - - [2022-06-03 05:04:32] \"POST /predict HTTP/1.1\" 200 159 0.318996\n"
     ]
    },
    {
     "name": "stdout",
     "output_type": "stream",
     "text": [
      "1/1 [==============================] - 0s 98ms/step\n"
     ]
    },
    {
     "name": "stderr",
     "output_type": "stream",
     "text": [
      "127.0.0.1 - - [2022-06-03 05:04:33] \"POST /predict HTTP/1.1\" 200 159 0.468002\n"
     ]
    },
    {
     "name": "stdout",
     "output_type": "stream",
     "text": [
      "1/1 [==============================] - 0s 57ms/step\n"
     ]
    },
    {
     "name": "stderr",
     "output_type": "stream",
     "text": [
      "127.0.0.1 - - [2022-06-03 05:04:33] \"POST /predict HTTP/1.1\" 200 159 0.518991\n"
     ]
    },
    {
     "name": "stdout",
     "output_type": "stream",
     "text": [
      "1/1 [==============================] - 0s 99ms/step\n"
     ]
    },
    {
     "name": "stderr",
     "output_type": "stream",
     "text": [
      "127.0.0.1 - - [2022-06-03 05:04:34] \"POST /predict HTTP/1.1\" 200 159 0.650006\n"
     ]
    },
    {
     "name": "stdout",
     "output_type": "stream",
     "text": [
      "1/1 [==============================] - 0s 74ms/step\n"
     ]
    },
    {
     "name": "stderr",
     "output_type": "stream",
     "text": [
      "127.0.0.1 - - [2022-06-03 05:04:34] \"POST /predict HTTP/1.1\" 200 159 0.233000\n"
     ]
    },
    {
     "name": "stdout",
     "output_type": "stream",
     "text": [
      "1/1 [==============================] - 0s 106ms/step\n"
     ]
    },
    {
     "name": "stderr",
     "output_type": "stream",
     "text": [
      "127.0.0.1 - - [2022-06-03 05:04:35] \"POST /predict HTTP/1.1\" 200 159 0.794004\n"
     ]
    },
    {
     "name": "stdout",
     "output_type": "stream",
     "text": [
      "1/1 [==============================] - 0s 97ms/step\n"
     ]
    },
    {
     "name": "stderr",
     "output_type": "stream",
     "text": [
      "127.0.0.1 - - [2022-06-03 05:04:36] \"POST /predict HTTP/1.1\" 200 159 0.796997\n"
     ]
    },
    {
     "name": "stdout",
     "output_type": "stream",
     "text": [
      "1/1 [==============================] - 0s 63ms/step\n"
     ]
    },
    {
     "name": "stderr",
     "output_type": "stream",
     "text": [
      "127.0.0.1 - - [2022-06-03 05:04:36] \"POST /predict HTTP/1.1\" 200 159 0.358994\n"
     ]
    },
    {
     "name": "stdout",
     "output_type": "stream",
     "text": [
      "1/1 [==============================] - 0s 102ms/step\n"
     ]
    },
    {
     "name": "stderr",
     "output_type": "stream",
     "text": [
      "127.0.0.1 - - [2022-06-03 05:04:37] \"POST /predict HTTP/1.1\" 200 159 0.688001\n"
     ]
    },
    {
     "name": "stdout",
     "output_type": "stream",
     "text": [
      "1/1 [==============================] - 0s 92ms/step\n"
     ]
    },
    {
     "name": "stderr",
     "output_type": "stream",
     "text": [
      "127.0.0.1 - - [2022-06-03 05:04:38] \"POST /predict HTTP/1.1\" 200 159 0.380999\n"
     ]
    },
    {
     "name": "stdout",
     "output_type": "stream",
     "text": [
      "1/1 [==============================] - 0s 61ms/step\n"
     ]
    },
    {
     "name": "stderr",
     "output_type": "stream",
     "text": [
      "127.0.0.1 - - [2022-06-03 05:04:38] \"POST /predict HTTP/1.1\" 200 159 0.297007\n"
     ]
    },
    {
     "name": "stdout",
     "output_type": "stream",
     "text": [
      "1/1 [==============================] - 0s 58ms/step\n"
     ]
    },
    {
     "name": "stderr",
     "output_type": "stream",
     "text": [
      "127.0.0.1 - - [2022-06-03 05:04:38] \"POST /predict HTTP/1.1\" 200 160 0.379996\n"
     ]
    },
    {
     "name": "stdout",
     "output_type": "stream",
     "text": [
      "1/1 [==============================] - 0s 174ms/step\n"
     ]
    },
    {
     "name": "stderr",
     "output_type": "stream",
     "text": [
      "127.0.0.1 - - [2022-06-03 05:04:39] \"POST /predict HTTP/1.1\" 200 159 1.082002\n"
     ]
    },
    {
     "name": "stdout",
     "output_type": "stream",
     "text": [
      "1/1 [==============================] - 0s 85ms/step\n"
     ]
    },
    {
     "name": "stderr",
     "output_type": "stream",
     "text": [
      "127.0.0.1 - - [2022-06-03 05:04:40] \"POST /predict HTTP/1.1\" 200 159 0.896007\n"
     ]
    },
    {
     "name": "stdout",
     "output_type": "stream",
     "text": [
      "1/1 [==============================] - 0s 85ms/step\n"
     ]
    },
    {
     "name": "stderr",
     "output_type": "stream",
     "text": [
      "127.0.0.1 - - [2022-06-03 05:04:41] \"POST /predict HTTP/1.1\" 200 159 0.428013\n"
     ]
    },
    {
     "name": "stdout",
     "output_type": "stream",
     "text": [
      "1/1 [==============================] - 0s 82ms/step\n"
     ]
    },
    {
     "name": "stderr",
     "output_type": "stream",
     "text": [
      "127.0.0.1 - - [2022-06-03 05:04:41] \"POST /predict HTTP/1.1\" 200 159 0.418005\n"
     ]
    },
    {
     "name": "stdout",
     "output_type": "stream",
     "text": [
      "1/1 [==============================] - 0s 83ms/step\n"
     ]
    },
    {
     "name": "stderr",
     "output_type": "stream",
     "text": [
      "127.0.0.1 - - [2022-06-03 05:04:42] \"POST /predict HTTP/1.1\" 200 159 0.268003\n"
     ]
    },
    {
     "name": "stdout",
     "output_type": "stream",
     "text": [
      "1/1 [==============================] - 0s 91ms/step\n"
     ]
    },
    {
     "name": "stderr",
     "output_type": "stream",
     "text": [
      "127.0.0.1 - - [2022-06-03 05:04:42] \"POST /predict HTTP/1.1\" 200 159 0.487006\n"
     ]
    },
    {
     "name": "stdout",
     "output_type": "stream",
     "text": [
      "1/1 [==============================] - 0s 69ms/step\n"
     ]
    },
    {
     "name": "stderr",
     "output_type": "stream",
     "text": [
      "127.0.0.1 - - [2022-06-03 05:04:43] \"POST /predict HTTP/1.1\" 200 159 0.555000\n"
     ]
    },
    {
     "name": "stdout",
     "output_type": "stream",
     "text": [
      "1/1 [==============================] - 0s 96ms/step\n"
     ]
    },
    {
     "name": "stderr",
     "output_type": "stream",
     "text": [
      "127.0.0.1 - - [2022-06-03 05:04:43] \"POST /predict HTTP/1.1\" 200 159 0.390006\n"
     ]
    },
    {
     "name": "stdout",
     "output_type": "stream",
     "text": [
      "1/1 [==============================] - 0s 82ms/step\n"
     ]
    },
    {
     "name": "stderr",
     "output_type": "stream",
     "text": [
      "127.0.0.1 - - [2022-06-03 05:04:44] \"POST /predict HTTP/1.1\" 200 159 0.332992\n"
     ]
    },
    {
     "name": "stdout",
     "output_type": "stream",
     "text": [
      "1/1 [==============================] - 0s 122ms/step\n"
     ]
    },
    {
     "name": "stderr",
     "output_type": "stream",
     "text": [
      "127.0.0.1 - - [2022-06-03 05:04:44] \"POST /predict HTTP/1.1\" 200 159 0.600006\n"
     ]
    },
    {
     "name": "stdout",
     "output_type": "stream",
     "text": [
      "1/1 [==============================] - 0s 106ms/step\n"
     ]
    },
    {
     "name": "stderr",
     "output_type": "stream",
     "text": [
      "127.0.0.1 - - [2022-06-03 05:04:45] \"POST /predict HTTP/1.1\" 200 159 1.069001\n"
     ]
    },
    {
     "name": "stdout",
     "output_type": "stream",
     "text": [
      "1/1 [==============================] - 0s 68ms/step\n"
     ]
    },
    {
     "name": "stderr",
     "output_type": "stream",
     "text": [
      "127.0.0.1 - - [2022-06-03 05:04:46] \"POST /predict HTTP/1.1\" 200 159 0.468998\n"
     ]
    },
    {
     "name": "stdout",
     "output_type": "stream",
     "text": [
      "1/1 [==============================] - 0s 84ms/step\n"
     ]
    },
    {
     "name": "stderr",
     "output_type": "stream",
     "text": [
      "127.0.0.1 - - [2022-06-03 05:04:46] \"POST /predict HTTP/1.1\" 200 159 0.547005\n"
     ]
    },
    {
     "name": "stdout",
     "output_type": "stream",
     "text": [
      "1/1 [==============================] - 0s 67ms/step\n"
     ]
    },
    {
     "name": "stderr",
     "output_type": "stream",
     "text": [
      "127.0.0.1 - - [2022-06-03 05:04:47] \"POST /predict HTTP/1.1\" 200 159 0.630006\n"
     ]
    },
    {
     "name": "stdout",
     "output_type": "stream",
     "text": [
      "1/1 [==============================] - 0s 72ms/step\n"
     ]
    },
    {
     "name": "stderr",
     "output_type": "stream",
     "text": [
      "127.0.0.1 - - [2022-06-03 05:04:48] \"POST /predict HTTP/1.1\" 200 159 0.712995\n"
     ]
    },
    {
     "name": "stdout",
     "output_type": "stream",
     "text": [
      "1/1 [==============================] - 0s 69ms/step\n"
     ]
    },
    {
     "name": "stderr",
     "output_type": "stream",
     "text": [
      "127.0.0.1 - - [2022-06-03 05:04:48] \"POST /predict HTTP/1.1\" 200 159 0.423996\n"
     ]
    },
    {
     "name": "stdout",
     "output_type": "stream",
     "text": [
      "1/1 [==============================] - 0s 67ms/step\n"
     ]
    },
    {
     "name": "stderr",
     "output_type": "stream",
     "text": [
      "127.0.0.1 - - [2022-06-03 05:04:49] \"POST /predict HTTP/1.1\" 200 159 0.359999\n"
     ]
    },
    {
     "name": "stdout",
     "output_type": "stream",
     "text": [
      "1/1 [==============================] - 0s 80ms/step\n"
     ]
    },
    {
     "name": "stderr",
     "output_type": "stream",
     "text": [
      "127.0.0.1 - - [2022-06-03 05:04:49] \"POST /predict HTTP/1.1\" 200 159 0.342000\n"
     ]
    },
    {
     "name": "stdout",
     "output_type": "stream",
     "text": [
      "1/1 [==============================] - 0s 76ms/step\n"
     ]
    },
    {
     "name": "stderr",
     "output_type": "stream",
     "text": [
      "127.0.0.1 - - [2022-06-03 05:04:49] \"POST /predict HTTP/1.1\" 200 159 0.318005\n"
     ]
    },
    {
     "name": "stdout",
     "output_type": "stream",
     "text": [
      "1/1 [==============================] - 0s 119ms/step\n"
     ]
    },
    {
     "name": "stderr",
     "output_type": "stream",
     "text": [
      "127.0.0.1 - - [2022-06-03 05:04:51] \"POST /predict HTTP/1.1\" 200 159 1.347002\n"
     ]
    },
    {
     "name": "stdout",
     "output_type": "stream",
     "text": [
      "1/1 [==============================] - 0s 104ms/step\n"
     ]
    },
    {
     "name": "stderr",
     "output_type": "stream",
     "text": [
      "127.0.0.1 - - [2022-06-03 05:04:51] \"POST /predict HTTP/1.1\" 200 159 0.566000\n"
     ]
    },
    {
     "name": "stdout",
     "output_type": "stream",
     "text": [
      "1/1 [==============================] - 0s 74ms/step\n"
     ]
    },
    {
     "name": "stderr",
     "output_type": "stream",
     "text": [
      "127.0.0.1 - - [2022-06-03 05:04:52] \"POST /predict HTTP/1.1\" 200 159 0.271005\n"
     ]
    },
    {
     "name": "stdout",
     "output_type": "stream",
     "text": [
      "1/1 [==============================] - 0s 96ms/step\n"
     ]
    },
    {
     "name": "stderr",
     "output_type": "stream",
     "text": [
      "127.0.0.1 - - [2022-06-03 05:04:52] \"POST /predict HTTP/1.1\" 200 159 0.306996\n"
     ]
    },
    {
     "name": "stdout",
     "output_type": "stream",
     "text": [
      "1/1 [==============================] - 0s 70ms/step\n"
     ]
    },
    {
     "name": "stderr",
     "output_type": "stream",
     "text": [
      "127.0.0.1 - - [2022-06-03 05:04:52] \"POST /predict HTTP/1.1\" 200 159 0.271999\n"
     ]
    },
    {
     "name": "stdout",
     "output_type": "stream",
     "text": [
      "1/1 [==============================] - 0s 55ms/step\n"
     ]
    },
    {
     "name": "stderr",
     "output_type": "stream",
     "text": [
      "127.0.0.1 - - [2022-06-03 05:04:53] \"POST /predict HTTP/1.1\" 200 159 0.302003\n"
     ]
    },
    {
     "name": "stdout",
     "output_type": "stream",
     "text": [
      "1/1 [==============================] - 0s 70ms/step\n"
     ]
    },
    {
     "name": "stderr",
     "output_type": "stream",
     "text": [
      "127.0.0.1 - - [2022-06-03 05:04:53] \"POST /predict HTTP/1.1\" 200 159 0.304004\n"
     ]
    },
    {
     "name": "stdout",
     "output_type": "stream",
     "text": [
      "1/1 [==============================] - 0s 65ms/step\n"
     ]
    },
    {
     "name": "stderr",
     "output_type": "stream",
     "text": [
      "127.0.0.1 - - [2022-06-03 05:04:54] \"POST /predict HTTP/1.1\" 200 159 0.902003\n"
     ]
    },
    {
     "name": "stdout",
     "output_type": "stream",
     "text": [
      "1/1 [==============================] - 0s 122ms/step\n"
     ]
    },
    {
     "name": "stderr",
     "output_type": "stream",
     "text": [
      "127.0.0.1 - - [2022-06-03 05:04:55] \"POST /predict HTTP/1.1\" 200 159 0.747002\n"
     ]
    },
    {
     "name": "stdout",
     "output_type": "stream",
     "text": [
      "1/1 [==============================] - 0s 119ms/step\n"
     ]
    },
    {
     "name": "stderr",
     "output_type": "stream",
     "text": [
      "127.0.0.1 - - [2022-06-03 05:04:56] \"POST /predict HTTP/1.1\" 200 159 0.874009\n"
     ]
    },
    {
     "name": "stdout",
     "output_type": "stream",
     "text": [
      "1/1 [==============================] - 0s 106ms/step\n"
     ]
    },
    {
     "name": "stderr",
     "output_type": "stream",
     "text": [
      "127.0.0.1 - - [2022-06-03 05:04:56] \"POST /predict HTTP/1.1\" 200 159 0.387002\n"
     ]
    },
    {
     "name": "stdout",
     "output_type": "stream",
     "text": [
      "1/1 [==============================] - 0s 86ms/step\n"
     ]
    },
    {
     "name": "stderr",
     "output_type": "stream",
     "text": [
      "127.0.0.1 - - [2022-06-03 05:04:57] \"POST /predict HTTP/1.1\" 200 159 0.304000\n",
      "127.0.0.1 - - [2022-06-03 05:04:57] \"POST /predict HTTP/1.1\" 200 153 0.004001\n",
      "127.0.0.1 - - [2022-06-03 05:04:57] \"POST /predict HTTP/1.1\" 200 153 0.005001\n"
     ]
    },
    {
     "name": "stdout",
     "output_type": "stream",
     "text": [
      "1/1 [==============================] - 0s 82ms/step\n"
     ]
    },
    {
     "name": "stderr",
     "output_type": "stream",
     "text": [
      "127.0.0.1 - - [2022-06-03 05:04:57] \"POST /predict HTTP/1.1\" 200 159 0.583998\n"
     ]
    },
    {
     "name": "stdout",
     "output_type": "stream",
     "text": [
      "1/1 [==============================] - 0s 77ms/step\n"
     ]
    },
    {
     "name": "stderr",
     "output_type": "stream",
     "text": [
      "127.0.0.1 - - [2022-06-03 05:04:58] \"POST /predict HTTP/1.1\" 200 159 0.815014\n"
     ]
    },
    {
     "name": "stdout",
     "output_type": "stream",
     "text": [
      "1/1 [==============================] - 0s 78ms/step\n"
     ]
    },
    {
     "name": "stderr",
     "output_type": "stream",
     "text": [
      "127.0.0.1 - - [2022-06-03 05:04:59] \"POST /predict HTTP/1.1\" 200 159 0.598330\n"
     ]
    },
    {
     "name": "stdout",
     "output_type": "stream",
     "text": [
      "1/1 [==============================] - 0s 78ms/step\n"
     ]
    },
    {
     "name": "stderr",
     "output_type": "stream",
     "text": [
      "127.0.0.1 - - [2022-06-03 05:05:00] \"POST /predict HTTP/1.1\" 200 159 0.707223\n"
     ]
    },
    {
     "name": "stdout",
     "output_type": "stream",
     "text": [
      "1/1 [==============================] - 0s 73ms/step\n"
     ]
    },
    {
     "name": "stderr",
     "output_type": "stream",
     "text": [
      "127.0.0.1 - - [2022-06-03 05:05:00] \"POST /predict HTTP/1.1\" 200 160 0.338662\n"
     ]
    },
    {
     "name": "stdout",
     "output_type": "stream",
     "text": [
      "1/1 [==============================] - 0s 78ms/step\n"
     ]
    },
    {
     "name": "stderr",
     "output_type": "stream",
     "text": [
      "127.0.0.1 - - [2022-06-03 05:05:00] \"POST /predict HTTP/1.1\" 200 159 0.375010\n"
     ]
    },
    {
     "name": "stdout",
     "output_type": "stream",
     "text": [
      "1/1 [==============================] - 0s 64ms/step\n"
     ]
    },
    {
     "name": "stderr",
     "output_type": "stream",
     "text": [
      "127.0.0.1 - - [2022-06-03 05:05:01] \"POST /predict HTTP/1.1\" 200 159 0.250952\n"
     ]
    },
    {
     "name": "stdout",
     "output_type": "stream",
     "text": [
      "1/1 [==============================] - 0s 63ms/step\n"
     ]
    },
    {
     "name": "stderr",
     "output_type": "stream",
     "text": [
      "127.0.0.1 - - [2022-06-03 05:05:01] \"POST /predict HTTP/1.1\" 200 159 0.262299\n"
     ]
    },
    {
     "name": "stdout",
     "output_type": "stream",
     "text": [
      "1/1 [==============================] - 0s 78ms/step\n"
     ]
    },
    {
     "name": "stderr",
     "output_type": "stream",
     "text": [
      "127.0.0.1 - - [2022-06-03 05:05:01] \"POST /predict HTTP/1.1\" 200 159 0.281234\n"
     ]
    },
    {
     "name": "stdout",
     "output_type": "stream",
     "text": [
      "1/1 [==============================] - 0s 63ms/step\n"
     ]
    },
    {
     "name": "stderr",
     "output_type": "stream",
     "text": [
      "127.0.0.1 - - [2022-06-03 05:05:02] \"POST /predict HTTP/1.1\" 200 159 0.390628\n"
     ]
    },
    {
     "name": "stdout",
     "output_type": "stream",
     "text": [
      "1/1 [==============================] - 0s 63ms/step\n"
     ]
    },
    {
     "name": "stderr",
     "output_type": "stream",
     "text": [
      "127.0.0.1 - - [2022-06-03 05:05:02] \"POST /predict HTTP/1.1\" 200 159 0.500000\n"
     ]
    },
    {
     "name": "stdout",
     "output_type": "stream",
     "text": [
      "1/1 [==============================] - 0s 83ms/step\n"
     ]
    },
    {
     "name": "stderr",
     "output_type": "stream",
     "text": [
      "127.0.0.1 - - [2022-06-03 05:05:03] \"POST /predict HTTP/1.1\" 200 159 0.667123\n"
     ]
    },
    {
     "name": "stdout",
     "output_type": "stream",
     "text": [
      "1/1 [==============================] - 0s 63ms/step\n"
     ]
    },
    {
     "name": "stderr",
     "output_type": "stream",
     "text": [
      "127.0.0.1 - - [2022-06-03 05:05:03] \"POST /predict HTTP/1.1\" 200 159 0.380270\n"
     ]
    },
    {
     "name": "stdout",
     "output_type": "stream",
     "text": [
      "1/1 [==============================] - 0s 47ms/step\n"
     ]
    },
    {
     "name": "stderr",
     "output_type": "stream",
     "text": [
      "127.0.0.1 - - [2022-06-03 05:05:04] \"POST /predict HTTP/1.1\" 200 159 0.206643\n"
     ]
    },
    {
     "name": "stdout",
     "output_type": "stream",
     "text": [
      "1/1 [==============================] - 0s 47ms/step\n"
     ]
    },
    {
     "name": "stderr",
     "output_type": "stream",
     "text": [
      "127.0.0.1 - - [2022-06-03 05:05:04] \"POST /predict HTTP/1.1\" 200 159 0.234380\n",
      "127.0.0.1 - - [2022-06-03 05:05:04] \"POST /predict HTTP/1.1\" 200 153 0.015621\n"
     ]
    },
    {
     "name": "stdout",
     "output_type": "stream",
     "text": [
      "1/1 [==============================] - 0s 68ms/step\n"
     ]
    },
    {
     "name": "stderr",
     "output_type": "stream",
     "text": [
      "127.0.0.1 - - [2022-06-03 05:05:05] \"POST /predict HTTP/1.1\" 200 160 0.469760\n"
     ]
    },
    {
     "name": "stdout",
     "output_type": "stream",
     "text": [
      "1/1 [==============================] - 0s 133ms/step\n"
     ]
    },
    {
     "name": "stderr",
     "output_type": "stream",
     "text": [
      "127.0.0.1 - - [2022-06-03 05:05:05] \"POST /predict HTTP/1.1\" 200 159 0.848014\n"
     ]
    },
    {
     "name": "stdout",
     "output_type": "stream",
     "text": [
      "1/1 [==============================] - 0s 139ms/step\n"
     ]
    },
    {
     "name": "stderr",
     "output_type": "stream",
     "text": [
      "127.0.0.1 - - [2022-06-03 05:05:06] \"POST /predict HTTP/1.1\" 200 159 0.537985\n"
     ]
    },
    {
     "name": "stdout",
     "output_type": "stream",
     "text": [
      "1/1 [==============================] - 0s 96ms/step\n"
     ]
    },
    {
     "name": "stderr",
     "output_type": "stream",
     "text": [
      "127.0.0.1 - - [2022-06-03 05:05:06] \"POST /predict HTTP/1.1\" 200 159 0.324003\n"
     ]
    },
    {
     "name": "stdout",
     "output_type": "stream",
     "text": [
      "1/1 [==============================] - 0s 88ms/step\n"
     ]
    },
    {
     "name": "stderr",
     "output_type": "stream",
     "text": [
      "127.0.0.1 - - [2022-06-03 05:05:07] \"POST /predict HTTP/1.1\" 200 159 0.427010\n"
     ]
    },
    {
     "name": "stdout",
     "output_type": "stream",
     "text": [
      "1/1 [==============================] - 0s 96ms/step\n"
     ]
    },
    {
     "name": "stderr",
     "output_type": "stream",
     "text": [
      "127.0.0.1 - - [2022-06-03 05:05:08] \"POST /predict HTTP/1.1\" 200 159 0.724011\n"
     ]
    },
    {
     "name": "stdout",
     "output_type": "stream",
     "text": [
      "1/1 [==============================] - 0s 152ms/step\n"
     ]
    },
    {
     "name": "stderr",
     "output_type": "stream",
     "text": [
      "127.0.0.1 - - [2022-06-03 05:05:09] \"POST /predict HTTP/1.1\" 200 159 1.073002\n"
     ]
    },
    {
     "name": "stdout",
     "output_type": "stream",
     "text": [
      "1/1 [==============================] - 0s 205ms/step\n"
     ]
    },
    {
     "name": "stderr",
     "output_type": "stream",
     "text": [
      "127.0.0.1 - - [2022-06-03 05:05:09] \"POST /predict HTTP/1.1\" 200 160 0.579001\n",
      "127.0.0.1 - - [2022-06-03 05:05:09] \"POST /predict HTTP/1.1\" 200 153 0.007002\n",
      "127.0.0.1 - - [2022-06-03 05:05:09] \"POST /predict HTTP/1.1\" 200 153 0.006995\n"
     ]
    },
    {
     "name": "stdout",
     "output_type": "stream",
     "text": [
      "1/1 [==============================] - 0s 194ms/step\n"
     ]
    },
    {
     "name": "stderr",
     "output_type": "stream",
     "text": [
      "127.0.0.1 - - [2022-06-03 05:05:11] \"POST /predict HTTP/1.1\" 200 160 1.045002\n"
     ]
    },
    {
     "name": "stdout",
     "output_type": "stream",
     "text": [
      "1/1 [==============================] - 0s 64ms/step\n"
     ]
    },
    {
     "name": "stderr",
     "output_type": "stream",
     "text": [
      "127.0.0.1 - - [2022-06-03 05:05:11] \"POST /predict HTTP/1.1\" 200 159 0.424994\n"
     ]
    },
    {
     "name": "stdout",
     "output_type": "stream",
     "text": [
      "1/1 [==============================] - 0s 62ms/step\n",
      "1/1 [==============================] - ETA: 0s"
     ]
    },
    {
     "name": "stderr",
     "output_type": "stream",
     "text": [
      "127.0.0.1 - - [2022-06-03 05:05:12] \"POST /predict HTTP/1.1\" 200 159 0.670999\n"
     ]
    },
    {
     "name": "stdout",
     "output_type": "stream",
     "text": [
      "\b\b\b\b\b\b\b\b\b\b\b\b\b\b\b\b\b\b\b\b\b\b\b\b\b\b\b\b\b\b\b\b\b\b\b\b\b\b\b\b\b\b\b\b\b\b\r",
      "1/1 [==============================] - 0s 61ms/step\n"
     ]
    },
    {
     "name": "stderr",
     "output_type": "stream",
     "text": [
      "127.0.0.1 - - [2022-06-03 05:05:12] \"POST /predict HTTP/1.1\" 200 159 0.197008\n"
     ]
    },
    {
     "name": "stdout",
     "output_type": "stream",
     "text": [
      "1/1 [==============================] - 0s 63ms/step\n"
     ]
    },
    {
     "name": "stderr",
     "output_type": "stream",
     "text": [
      "127.0.0.1 - - [2022-06-03 05:05:12] \"POST /predict HTTP/1.1\" 200 159 0.215999\n"
     ]
    },
    {
     "name": "stdout",
     "output_type": "stream",
     "text": [
      "1/1 [==============================] - 0s 65ms/step\n"
     ]
    },
    {
     "name": "stderr",
     "output_type": "stream",
     "text": [
      "127.0.0.1 - - [2022-06-03 05:05:13] \"POST /predict HTTP/1.1\" 200 160 0.377003\n"
     ]
    },
    {
     "name": "stdout",
     "output_type": "stream",
     "text": [
      "1/1 [==============================] - 0s 57ms/step\n"
     ]
    },
    {
     "name": "stderr",
     "output_type": "stream",
     "text": [
      "127.0.0.1 - - [2022-06-03 05:05:13] \"POST /predict HTTP/1.1\" 200 159 0.406001\n"
     ]
    },
    {
     "name": "stdout",
     "output_type": "stream",
     "text": [
      "1/1 [==============================] - 0s 60ms/step\n"
     ]
    },
    {
     "name": "stderr",
     "output_type": "stream",
     "text": [
      "127.0.0.1 - - [2022-06-03 05:05:13] \"POST /predict HTTP/1.1\" 200 159 0.208991\n"
     ]
    },
    {
     "name": "stdout",
     "output_type": "stream",
     "text": [
      "1/1 [==============================] - 0s 73ms/step\n"
     ]
    },
    {
     "name": "stderr",
     "output_type": "stream",
     "text": [
      "127.0.0.1 - - [2022-06-03 05:05:14] \"POST /predict HTTP/1.1\" 200 160 0.337006\n"
     ]
    },
    {
     "name": "stdout",
     "output_type": "stream",
     "text": [
      "1/1 [==============================] - 0s 64ms/step\n"
     ]
    },
    {
     "name": "stderr",
     "output_type": "stream",
     "text": [
      "127.0.0.1 - - [2022-06-03 05:05:14] \"POST /predict HTTP/1.1\" 200 159 0.244001\n"
     ]
    },
    {
     "name": "stdout",
     "output_type": "stream",
     "text": [
      "1/1 [==============================] - 0s 60ms/step\n"
     ]
    },
    {
     "name": "stderr",
     "output_type": "stream",
     "text": [
      "127.0.0.1 - - [2022-06-03 05:05:14] \"POST /predict HTTP/1.1\" 200 159 0.195013\n"
     ]
    },
    {
     "name": "stdout",
     "output_type": "stream",
     "text": [
      "1/1 [==============================] - 0s 65ms/step\n"
     ]
    },
    {
     "name": "stderr",
     "output_type": "stream",
     "text": [
      "127.0.0.1 - - [2022-06-03 05:05:15] \"POST /predict HTTP/1.1\" 200 159 0.401811\n"
     ]
    },
    {
     "name": "stdout",
     "output_type": "stream",
     "text": [
      "1/1 [==============================] - 0s 57ms/step\n"
     ]
    },
    {
     "name": "stderr",
     "output_type": "stream",
     "text": [
      "127.0.0.1 - - [2022-06-03 05:05:15] \"POST /predict HTTP/1.1\" 200 159 0.229305\n"
     ]
    },
    {
     "name": "stdout",
     "output_type": "stream",
     "text": [
      "1/1 [==============================] - 0s 62ms/step\n"
     ]
    },
    {
     "name": "stderr",
     "output_type": "stream",
     "text": [
      "127.0.0.1 - - [2022-06-03 05:05:15] \"POST /predict HTTP/1.1\" 200 159 0.470586\n"
     ]
    },
    {
     "name": "stdout",
     "output_type": "stream",
     "text": [
      "1/1 [==============================] - 0s 94ms/step\n"
     ]
    },
    {
     "name": "stderr",
     "output_type": "stream",
     "text": [
      "127.0.0.1 - - [2022-06-03 05:05:16] \"POST /predict HTTP/1.1\" 200 160 0.333089\n"
     ]
    },
    {
     "name": "stdout",
     "output_type": "stream",
     "text": [
      "1/1 [==============================] - 0s 109ms/step\n"
     ]
    },
    {
     "name": "stderr",
     "output_type": "stream",
     "text": [
      "127.0.0.1 - - [2022-06-03 05:05:16] \"POST /predict HTTP/1.1\" 200 159 0.406262\n"
     ]
    },
    {
     "name": "stdout",
     "output_type": "stream",
     "text": [
      "1/1 [==============================] - 0s 78ms/step\n"
     ]
    },
    {
     "name": "stderr",
     "output_type": "stream",
     "text": [
      "127.0.0.1 - - [2022-06-03 05:05:17] \"POST /predict HTTP/1.1\" 200 159 0.468750\n"
     ]
    },
    {
     "name": "stdout",
     "output_type": "stream",
     "text": [
      "1/1 [==============================] - 0s 94ms/step\n"
     ]
    },
    {
     "name": "stderr",
     "output_type": "stream",
     "text": [
      "127.0.0.1 - - [2022-06-03 05:05:17] \"POST /predict HTTP/1.1\" 200 159 0.312516\n"
     ]
    },
    {
     "name": "stdout",
     "output_type": "stream",
     "text": [
      "1/1 [==============================] - 0s 65ms/step\n"
     ]
    },
    {
     "name": "stderr",
     "output_type": "stream",
     "text": [
      "127.0.0.1 - - [2022-06-03 05:05:18] \"POST /predict HTTP/1.1\" 200 159 0.671505\n"
     ]
    },
    {
     "name": "stdout",
     "output_type": "stream",
     "text": [
      "1/1 [==============================] - 0s 82ms/step\n"
     ]
    },
    {
     "name": "stderr",
     "output_type": "stream",
     "text": [
      "127.0.0.1 - - [2022-06-03 05:05:18] \"POST /predict HTTP/1.1\" 200 159 0.481011\n"
     ]
    },
    {
     "name": "stdout",
     "output_type": "stream",
     "text": [
      "1/1 [==============================] - 0s 73ms/step\n"
     ]
    },
    {
     "name": "stderr",
     "output_type": "stream",
     "text": [
      "127.0.0.1 - - [2022-06-03 05:05:19] \"POST /predict HTTP/1.1\" 200 159 0.327001\n"
     ]
    },
    {
     "name": "stdout",
     "output_type": "stream",
     "text": [
      "1/1 [==============================] - 0s 79ms/step\n"
     ]
    },
    {
     "name": "stderr",
     "output_type": "stream",
     "text": [
      "127.0.0.1 - - [2022-06-03 05:05:19] \"POST /predict HTTP/1.1\" 200 160 0.328000\n"
     ]
    },
    {
     "name": "stdout",
     "output_type": "stream",
     "text": [
      "1/1 [==============================] - 0s 90ms/step\n"
     ]
    },
    {
     "name": "stderr",
     "output_type": "stream",
     "text": [
      "127.0.0.1 - - [2022-06-03 05:05:20] \"POST /predict HTTP/1.1\" 200 159 0.625003\n"
     ]
    },
    {
     "name": "stdout",
     "output_type": "stream",
     "text": [
      "1/1 [==============================] - 0s 79ms/step\n"
     ]
    },
    {
     "name": "stderr",
     "output_type": "stream",
     "text": [
      "127.0.0.1 - - [2022-06-03 05:05:20] \"POST /predict HTTP/1.1\" 200 159 0.585004\n"
     ]
    },
    {
     "name": "stdout",
     "output_type": "stream",
     "text": [
      "1/1 [==============================] - 0s 112ms/step\n"
     ]
    },
    {
     "name": "stderr",
     "output_type": "stream",
     "text": [
      "127.0.0.1 - - [2022-06-03 05:05:21] \"POST /predict HTTP/1.1\" 200 159 0.929009\n",
      "127.0.0.1 - - [2022-06-03 05:05:21] \"POST /predict HTTP/1.1\" 200 153 0.004002\n",
      "127.0.0.1 - - [2022-06-03 05:05:21] \"POST /predict HTTP/1.1\" 200 153 0.004988\n",
      "127.0.0.1 - - [2022-06-03 05:05:21] \"POST /predict HTTP/1.1\" 200 153 0.003995\n",
      "127.0.0.1 - - [2022-06-03 05:05:21] \"POST /predict HTTP/1.1\" 200 153 0.004001\n"
     ]
    },
    {
     "name": "stdout",
     "output_type": "stream",
     "text": [
      "1/1 [==============================] - 0s 137ms/step\n"
     ]
    },
    {
     "name": "stderr",
     "output_type": "stream",
     "text": [
      "127.0.0.1 - - [2022-06-03 05:05:22] \"POST /predict HTTP/1.1\" 200 159 0.816000\n"
     ]
    },
    {
     "name": "stdout",
     "output_type": "stream",
     "text": [
      "1/1 [==============================] - 0s 136ms/step\n"
     ]
    },
    {
     "name": "stderr",
     "output_type": "stream",
     "text": [
      "127.0.0.1 - - [2022-06-03 05:05:23] \"POST /predict HTTP/1.1\" 200 159 0.913006\n"
     ]
    },
    {
     "name": "stdout",
     "output_type": "stream",
     "text": [
      "1/1 [==============================] - 0s 107ms/step\n"
     ]
    },
    {
     "name": "stderr",
     "output_type": "stream",
     "text": [
      "127.0.0.1 - - [2022-06-03 05:05:24] \"POST /predict HTTP/1.1\" 200 159 0.806006\n"
     ]
    },
    {
     "name": "stdout",
     "output_type": "stream",
     "text": [
      "1/1 [==============================] - 0s 301ms/step\n"
     ]
    },
    {
     "name": "stderr",
     "output_type": "stream",
     "text": [
      "127.0.0.1 - - [2022-06-03 05:05:25] \"POST /predict HTTP/1.1\" 200 160 0.800993\n"
     ]
    },
    {
     "name": "stdout",
     "output_type": "stream",
     "text": [
      "1/1 [==============================] - 0s 97ms/step\n"
     ]
    },
    {
     "name": "stderr",
     "output_type": "stream",
     "text": [
      "127.0.0.1 - - [2022-06-03 05:05:26] \"POST /predict HTTP/1.1\" 200 160 0.603003\n"
     ]
    },
    {
     "name": "stdout",
     "output_type": "stream",
     "text": [
      "1/1 [==============================] - 0s 87ms/step\n"
     ]
    },
    {
     "name": "stderr",
     "output_type": "stream",
     "text": [
      "127.0.0.1 - - [2022-06-03 05:05:27] \"POST /predict HTTP/1.1\" 200 159 1.056002\n"
     ]
    },
    {
     "name": "stdout",
     "output_type": "stream",
     "text": [
      "1/1 [==============================] - 0s 78ms/step\n"
     ]
    },
    {
     "name": "stderr",
     "output_type": "stream",
     "text": [
      "127.0.0.1 - - [2022-06-03 05:05:27] \"POST /predict HTTP/1.1\" 200 159 0.578999\n"
     ]
    },
    {
     "name": "stdout",
     "output_type": "stream",
     "text": [
      "1/1 [==============================] - 0s 300ms/step\n"
     ]
    },
    {
     "name": "stderr",
     "output_type": "stream",
     "text": [
      "127.0.0.1 - - [2022-06-03 05:05:28] \"POST /predict HTTP/1.1\" 200 160 0.645001\n"
     ]
    },
    {
     "name": "stdout",
     "output_type": "stream",
     "text": [
      "1/1 [==============================] - 0s 179ms/step\n"
     ]
    },
    {
     "name": "stderr",
     "output_type": "stream",
     "text": [
      "127.0.0.1 - - [2022-06-03 05:05:29] \"POST /predict HTTP/1.1\" 200 159 0.775007\n"
     ]
    },
    {
     "name": "stdout",
     "output_type": "stream",
     "text": [
      "1/1 [==============================] - 0s 141ms/step\n"
     ]
    },
    {
     "name": "stderr",
     "output_type": "stream",
     "text": [
      "127.0.0.1 - - [2022-06-03 05:05:29] \"POST /predict HTTP/1.1\" 200 159 0.605992\n"
     ]
    },
    {
     "name": "stdout",
     "output_type": "stream",
     "text": [
      "1/1 [==============================] - 0s 130ms/step\n"
     ]
    },
    {
     "name": "stderr",
     "output_type": "stream",
     "text": [
      "127.0.0.1 - - [2022-06-03 05:05:31] \"POST /predict HTTP/1.1\" 200 159 1.904002\n",
      "127.0.0.1 - - [2022-06-03 05:05:31] \"POST /predict HTTP/1.1\" 200 153 0.004994\n"
     ]
    },
    {
     "name": "stdout",
     "output_type": "stream",
     "text": [
      "1/1 [==============================] - 0s 101ms/step\n"
     ]
    },
    {
     "name": "stderr",
     "output_type": "stream",
     "text": [
      "127.0.0.1 - - [2022-06-03 05:05:32] \"POST /predict HTTP/1.1\" 200 159 0.409000\n"
     ]
    },
    {
     "name": "stdout",
     "output_type": "stream",
     "text": [
      "1/1 [==============================] - 0s 85ms/step\n"
     ]
    },
    {
     "name": "stderr",
     "output_type": "stream",
     "text": [
      "127.0.0.1 - - [2022-06-03 05:05:32] \"POST /predict HTTP/1.1\" 200 159 0.408997\n"
     ]
    },
    {
     "name": "stdout",
     "output_type": "stream",
     "text": [
      "1/1 [==============================] - 0s 99ms/step\n"
     ]
    },
    {
     "name": "stderr",
     "output_type": "stream",
     "text": [
      "127.0.0.1 - - [2022-06-03 05:05:35] \"POST /predict HTTP/1.1\" 200 159 2.792016\n"
     ]
    },
    {
     "name": "stdout",
     "output_type": "stream",
     "text": [
      "1/1 [==============================] - 0s 67ms/step\n"
     ]
    },
    {
     "name": "stderr",
     "output_type": "stream",
     "text": [
      "127.0.0.1 - - [2022-06-03 05:05:36] \"POST /predict HTTP/1.1\" 200 159 0.679001\n"
     ]
    },
    {
     "name": "stdout",
     "output_type": "stream",
     "text": [
      "1/1 [==============================] - 0s 62ms/step\n"
     ]
    },
    {
     "name": "stderr",
     "output_type": "stream",
     "text": [
      "127.0.0.1 - - [2022-06-03 05:05:37] \"POST /predict HTTP/1.1\" 200 159 0.540251\n"
     ]
    },
    {
     "name": "stdout",
     "output_type": "stream",
     "text": [
      "1/1 [==============================] - 0s 75ms/step\n"
     ]
    },
    {
     "name": "stderr",
     "output_type": "stream",
     "text": [
      "127.0.0.1 - - [2022-06-03 05:05:37] \"POST /predict HTTP/1.1\" 200 159 0.369792\n"
     ]
    },
    {
     "name": "stdout",
     "output_type": "stream",
     "text": [
      "1/1 [==============================] - 0s 47ms/step\n"
     ]
    },
    {
     "name": "stderr",
     "output_type": "stream",
     "text": [
      "127.0.0.1 - - [2022-06-03 05:05:37] \"POST /predict HTTP/1.1\" 200 159 0.473535\n"
     ]
    },
    {
     "name": "stdout",
     "output_type": "stream",
     "text": [
      "1/1 [==============================] - 0s 63ms/step\n"
     ]
    },
    {
     "name": "stderr",
     "output_type": "stream",
     "text": [
      "127.0.0.1 - - [2022-06-03 05:05:38] \"POST /predict HTTP/1.1\" 200 159 0.412063\n",
      "127.0.0.1 - - [2022-06-03 05:05:38] \"POST /predict HTTP/1.1\" 200 153 0.011281\n",
      "127.0.0.1 - - [2022-06-03 05:05:38] \"POST /predict HTTP/1.1\" 200 153 0.003001\n"
     ]
    },
    {
     "name": "stdout",
     "output_type": "stream",
     "text": [
      "1/1 [==============================] - 0s 73ms/step\n"
     ]
    },
    {
     "name": "stderr",
     "output_type": "stream",
     "text": [
      "127.0.0.1 - - [2022-06-03 05:05:38] \"POST /predict HTTP/1.1\" 200 159 0.313747\n"
     ]
    },
    {
     "name": "stdout",
     "output_type": "stream",
     "text": [
      "1/1 [==============================] - 0s 86ms/step\n"
     ]
    },
    {
     "name": "stderr",
     "output_type": "stream",
     "text": [
      "127.0.0.1 - - [2022-06-03 05:05:39] \"POST /predict HTTP/1.1\" 200 159 0.340022\n"
     ]
    },
    {
     "name": "stdout",
     "output_type": "stream",
     "text": [
      "1/1 [==============================] - 0s 83ms/step\n"
     ]
    },
    {
     "name": "stderr",
     "output_type": "stream",
     "text": [
      "127.0.0.1 - - [2022-06-03 05:05:39] \"POST /predict HTTP/1.1\" 200 159 0.291206\n"
     ]
    },
    {
     "name": "stdout",
     "output_type": "stream",
     "text": [
      "1/1 [==============================] - 0s 63ms/step\n"
     ]
    },
    {
     "name": "stderr",
     "output_type": "stream",
     "text": [
      "127.0.0.1 - - [2022-06-03 05:05:40] \"POST /predict HTTP/1.1\" 200 159 0.690084\n"
     ]
    },
    {
     "name": "stdout",
     "output_type": "stream",
     "text": [
      "1/1 [==============================] - 0s 78ms/step\n"
     ]
    },
    {
     "name": "stderr",
     "output_type": "stream",
     "text": [
      "127.0.0.1 - - [2022-06-03 05:05:40] \"POST /predict HTTP/1.1\" 200 159 0.564761\n"
     ]
    },
    {
     "name": "stdout",
     "output_type": "stream",
     "text": [
      "1/1 [==============================] - 0s 62ms/step\n"
     ]
    },
    {
     "name": "stderr",
     "output_type": "stream",
     "text": [
      "127.0.0.1 - - [2022-06-03 05:05:41] \"POST /predict HTTP/1.1\" 200 159 0.515625\n"
     ]
    },
    {
     "name": "stdout",
     "output_type": "stream",
     "text": [
      "1/1 [==============================] - 0s 63ms/step\n"
     ]
    },
    {
     "name": "stderr",
     "output_type": "stream",
     "text": [
      "127.0.0.1 - - [2022-06-03 05:05:42] \"POST /predict HTTP/1.1\" 200 159 0.607767\n"
     ]
    },
    {
     "name": "stdout",
     "output_type": "stream",
     "text": [
      "1/1 [==============================] - 0s 73ms/step\n"
     ]
    },
    {
     "name": "stderr",
     "output_type": "stream",
     "text": [
      "127.0.0.1 - - [2022-06-03 05:05:42] \"POST /predict HTTP/1.1\" 200 159 0.272185\n"
     ]
    },
    {
     "name": "stdout",
     "output_type": "stream",
     "text": [
      "1/1 [==============================] - 0s 75ms/step\n"
     ]
    },
    {
     "name": "stderr",
     "output_type": "stream",
     "text": [
      "127.0.0.1 - - [2022-06-03 05:05:43] \"POST /predict HTTP/1.1\" 200 159 0.635395\n"
     ]
    },
    {
     "name": "stdout",
     "output_type": "stream",
     "text": [
      "1/1 [==============================] - 0s 66ms/step\n"
     ]
    },
    {
     "name": "stderr",
     "output_type": "stream",
     "text": [
      "127.0.0.1 - - [2022-06-03 05:05:43] \"POST /predict HTTP/1.1\" 200 159 0.521415\n"
     ]
    },
    {
     "name": "stdout",
     "output_type": "stream",
     "text": [
      "1/1 [==============================] - 0s 80ms/step\n"
     ]
    },
    {
     "name": "stderr",
     "output_type": "stream",
     "text": [
      "127.0.0.1 - - [2022-06-03 05:05:44] \"POST /predict HTTP/1.1\" 200 159 0.579002\n",
      "127.0.0.1 - - [2022-06-03 05:05:44] \"POST /predict HTTP/1.1\" 200 153 0.001185\n"
     ]
    },
    {
     "name": "stdout",
     "output_type": "stream",
     "text": [
      "1/1 [==============================] - 0s 99ms/step\n"
     ]
    },
    {
     "name": "stderr",
     "output_type": "stream",
     "text": [
      "127.0.0.1 - - [2022-06-03 05:05:44] \"POST /predict HTTP/1.1\" 200 159 0.277127\n"
     ]
    },
    {
     "name": "stdout",
     "output_type": "stream",
     "text": [
      "1/1 [==============================] - 0s 78ms/step\n"
     ]
    },
    {
     "name": "stderr",
     "output_type": "stream",
     "text": [
      "127.0.0.1 - - [2022-06-03 05:05:44] \"POST /predict HTTP/1.1\" 200 159 0.247239\n"
     ]
    },
    {
     "name": "stdout",
     "output_type": "stream",
     "text": [
      "1/1 [==============================] - 0s 82ms/step\n"
     ]
    },
    {
     "name": "stderr",
     "output_type": "stream",
     "text": [
      "127.0.0.1 - - [2022-06-03 05:05:45] \"POST /predict HTTP/1.1\" 200 160 0.275911\n"
     ]
    },
    {
     "name": "stdout",
     "output_type": "stream",
     "text": [
      "1/1 [==============================] - 0s 62ms/step\n"
     ]
    },
    {
     "name": "stderr",
     "output_type": "stream",
     "text": [
      "127.0.0.1 - - [2022-06-03 05:05:45] \"POST /predict HTTP/1.1\" 200 159 0.318744\n"
     ]
    },
    {
     "name": "stdout",
     "output_type": "stream",
     "text": [
      "1/1 [==============================] - 0s 62ms/step\n"
     ]
    },
    {
     "name": "stderr",
     "output_type": "stream",
     "text": [
      "127.0.0.1 - - [2022-06-03 05:05:46] \"POST /predict HTTP/1.1\" 200 159 0.717797\n"
     ]
    },
    {
     "name": "stdout",
     "output_type": "stream",
     "text": [
      "1/1 [==============================] - 0s 62ms/step\n"
     ]
    },
    {
     "name": "stderr",
     "output_type": "stream",
     "text": [
      "127.0.0.1 - - [2022-06-03 05:05:46] \"POST /predict HTTP/1.1\" 200 159 0.470086\n"
     ]
    },
    {
     "name": "stdout",
     "output_type": "stream",
     "text": [
      "1/1 [==============================] - 0s 73ms/step\n"
     ]
    },
    {
     "name": "stderr",
     "output_type": "stream",
     "text": [
      "127.0.0.1 - - [2022-06-03 05:05:47] \"POST /predict HTTP/1.1\" 200 160 0.368006\n"
     ]
    },
    {
     "name": "stdout",
     "output_type": "stream",
     "text": [
      "1/1 [==============================] - 0s 62ms/step\n",
      "1/1 [==============================] - ETA: 0s"
     ]
    },
    {
     "name": "stderr",
     "output_type": "stream",
     "text": [
      "127.0.0.1 - - [2022-06-03 05:05:47] \"POST /predict HTTP/1.1\" 200 159 0.677310\n"
     ]
    },
    {
     "name": "stdout",
     "output_type": "stream",
     "text": [
      "\b\b\b\b\b\b\b\b\b\b\b\b\b\b\b\b\b\b\b\b\b\b\b\b\b\b\b\b\b\b\b\b\b\b\b\b\b\b\b\b\b\b\b\b\b\b\r",
      "1/1 [==============================] - 0s 57ms/step\n"
     ]
    },
    {
     "name": "stderr",
     "output_type": "stream",
     "text": [
      "127.0.0.1 - - [2022-06-03 05:05:48] \"POST /predict HTTP/1.1\" 200 159 0.187480\n"
     ]
    },
    {
     "name": "stdout",
     "output_type": "stream",
     "text": [
      "1/1 [==============================] - 0s 59ms/step\n"
     ]
    },
    {
     "name": "stderr",
     "output_type": "stream",
     "text": [
      "127.0.0.1 - - [2022-06-03 05:05:48] \"POST /predict HTTP/1.1\" 200 159 0.382435\n"
     ]
    },
    {
     "name": "stdout",
     "output_type": "stream",
     "text": [
      "1/1 [==============================] - 0s 72ms/step\n"
     ]
    },
    {
     "name": "stderr",
     "output_type": "stream",
     "text": [
      "127.0.0.1 - - [2022-06-03 05:05:49] \"POST /predict HTTP/1.1\" 200 159 0.838362\n",
      "127.0.0.1 - - [2022-06-03 05:05:49] \"POST /predict HTTP/1.1\" 200 153 0.003994\n"
     ]
    },
    {
     "name": "stdout",
     "output_type": "stream",
     "text": [
      "1/1 [==============================] - 0s 78ms/step\n"
     ]
    },
    {
     "name": "stderr",
     "output_type": "stream",
     "text": [
      "127.0.0.1 - - [2022-06-03 05:05:49] \"POST /predict HTTP/1.1\" 200 159 0.385560\n"
     ]
    },
    {
     "name": "stdout",
     "output_type": "stream",
     "text": [
      "1/1 [==============================] - 0s 97ms/step\n"
     ]
    },
    {
     "name": "stderr",
     "output_type": "stream",
     "text": [
      "127.0.0.1 - - [2022-06-03 05:05:50] \"POST /predict HTTP/1.1\" 200 159 0.573004\n"
     ]
    },
    {
     "name": "stdout",
     "output_type": "stream",
     "text": [
      "1/1 [==============================] - 0s 69ms/step\n"
     ]
    },
    {
     "name": "stderr",
     "output_type": "stream",
     "text": [
      "127.0.0.1 - - [2022-06-03 05:05:51] \"POST /predict HTTP/1.1\" 200 159 0.460175\n"
     ]
    },
    {
     "name": "stdout",
     "output_type": "stream",
     "text": [
      "1/1 [==============================] - 0s 63ms/step\n"
     ]
    },
    {
     "name": "stderr",
     "output_type": "stream",
     "text": [
      "127.0.0.1 - - [2022-06-03 05:05:51] \"POST /predict HTTP/1.1\" 200 159 0.830452\n"
     ]
    },
    {
     "name": "stdout",
     "output_type": "stream",
     "text": [
      "1/1 [==============================] - 0s 62ms/step\n"
     ]
    },
    {
     "name": "stderr",
     "output_type": "stream",
     "text": [
      "127.0.0.1 - - [2022-06-03 05:05:52] \"POST /predict HTTP/1.1\" 200 160 0.349037\n"
     ]
    },
    {
     "name": "stdout",
     "output_type": "stream",
     "text": [
      "1/1 [==============================] - 0s 78ms/step\n"
     ]
    },
    {
     "name": "stderr",
     "output_type": "stream",
     "text": [
      "127.0.0.1 - - [2022-06-03 05:05:52] \"POST /predict HTTP/1.1\" 200 159 0.428378\n"
     ]
    },
    {
     "name": "stdout",
     "output_type": "stream",
     "text": [
      "1/1 [==============================] - 0s 78ms/step\n"
     ]
    },
    {
     "name": "stderr",
     "output_type": "stream",
     "text": [
      "127.0.0.1 - - [2022-06-03 05:05:53] \"POST /predict HTTP/1.1\" 200 160 0.236057\n"
     ]
    },
    {
     "name": "stdout",
     "output_type": "stream",
     "text": [
      "1/1 [==============================] - 0s 78ms/step\n"
     ]
    },
    {
     "name": "stderr",
     "output_type": "stream",
     "text": [
      "127.0.0.1 - - [2022-06-03 05:05:53] \"POST /predict HTTP/1.1\" 200 160 0.296871\n"
     ]
    },
    {
     "name": "stdout",
     "output_type": "stream",
     "text": [
      "1/1 [==============================] - 0s 94ms/step\n"
     ]
    },
    {
     "name": "stderr",
     "output_type": "stream",
     "text": [
      "127.0.0.1 - - [2022-06-03 05:05:53] \"POST /predict HTTP/1.1\" 200 160 0.407164\n"
     ]
    },
    {
     "name": "stdout",
     "output_type": "stream",
     "text": [
      "1/1 [==============================] - 0s 64ms/step\n"
     ]
    },
    {
     "name": "stderr",
     "output_type": "stream",
     "text": [
      "127.0.0.1 - - [2022-06-03 05:05:54] \"POST /predict HTTP/1.1\" 200 159 0.896273\n"
     ]
    },
    {
     "name": "stdout",
     "output_type": "stream",
     "text": [
      "1/1 [==============================] - 0s 61ms/step\n"
     ]
    },
    {
     "name": "stderr",
     "output_type": "stream",
     "text": [
      "127.0.0.1 - - [2022-06-03 05:05:55] \"POST /predict HTTP/1.1\" 200 159 0.499343\n"
     ]
    },
    {
     "name": "stdout",
     "output_type": "stream",
     "text": [
      "1/1 [==============================] - 0s 59ms/step\n"
     ]
    },
    {
     "name": "stderr",
     "output_type": "stream",
     "text": [
      "127.0.0.1 - - [2022-06-03 05:05:55] \"POST /predict HTTP/1.1\" 200 159 0.210954\n"
     ]
    },
    {
     "name": "stdout",
     "output_type": "stream",
     "text": [
      "1/1 [==============================] - 0s 75ms/step\n"
     ]
    },
    {
     "name": "stderr",
     "output_type": "stream",
     "text": [
      "127.0.0.1 - - [2022-06-03 05:05:55] \"POST /predict HTTP/1.1\" 200 160 0.315006\n"
     ]
    },
    {
     "name": "stdout",
     "output_type": "stream",
     "text": [
      "1/1 [==============================] - 0s 61ms/step\n"
     ]
    },
    {
     "name": "stderr",
     "output_type": "stream",
     "text": [
      "127.0.0.1 - - [2022-06-03 05:05:56] \"POST /predict HTTP/1.1\" 200 160 0.295795\n"
     ]
    },
    {
     "name": "stdout",
     "output_type": "stream",
     "text": [
      "1/1 [==============================] - 0s 62ms/step\n"
     ]
    },
    {
     "name": "stderr",
     "output_type": "stream",
     "text": [
      "127.0.0.1 - - [2022-06-03 05:05:56] \"POST /predict HTTP/1.1\" 200 159 0.263618\n"
     ]
    },
    {
     "name": "stdout",
     "output_type": "stream",
     "text": [
      "1/1 [==============================] - 0s 66ms/step\n"
     ]
    },
    {
     "name": "stderr",
     "output_type": "stream",
     "text": [
      "127.0.0.1 - - [2022-06-03 05:05:56] \"POST /predict HTTP/1.1\" 200 159 0.228009\n"
     ]
    },
    {
     "name": "stdout",
     "output_type": "stream",
     "text": [
      "1/1 [==============================] - 0s 97ms/step\n"
     ]
    },
    {
     "name": "stderr",
     "output_type": "stream",
     "text": [
      "127.0.0.1 - - [2022-06-03 05:05:57] \"POST /predict HTTP/1.1\" 200 159 0.257071\n"
     ]
    },
    {
     "name": "stdout",
     "output_type": "stream",
     "text": [
      "1/1 [==============================] - 0s 69ms/step\n"
     ]
    },
    {
     "name": "stderr",
     "output_type": "stream",
     "text": [
      "127.0.0.1 - - [2022-06-03 05:05:57] \"POST /predict HTTP/1.1\" 200 159 0.298039\n"
     ]
    },
    {
     "name": "stdout",
     "output_type": "stream",
     "text": [
      "1/1 [==============================] - 0s 59ms/step\n"
     ]
    },
    {
     "name": "stderr",
     "output_type": "stream",
     "text": [
      "127.0.0.1 - - [2022-06-03 05:05:57] \"POST /predict HTTP/1.1\" 200 160 0.487978\n"
     ]
    },
    {
     "name": "stdout",
     "output_type": "stream",
     "text": [
      "1/1 [==============================] - 0s 51ms/step\n"
     ]
    },
    {
     "name": "stderr",
     "output_type": "stream",
     "text": [
      "127.0.0.1 - - [2022-06-03 05:05:58] \"POST /predict HTTP/1.1\" 200 159 0.491947\n",
      "127.0.0.1 - - [2022-06-03 05:05:58] \"POST /predict HTTP/1.1\" 200 153 0.000000\n"
     ]
    },
    {
     "name": "stdout",
     "output_type": "stream",
     "text": [
      "1/1 [==============================] - 0s 65ms/step\n"
     ]
    },
    {
     "name": "stderr",
     "output_type": "stream",
     "text": [
      "127.0.0.1 - - [2022-06-03 05:05:58] \"POST /predict HTTP/1.1\" 200 159 0.186811\n"
     ]
    },
    {
     "name": "stdout",
     "output_type": "stream",
     "text": [
      "1/1 [==============================] - 0s 65ms/step\n"
     ]
    },
    {
     "name": "stderr",
     "output_type": "stream",
     "text": [
      "127.0.0.1 - - [2022-06-03 05:05:59] \"POST /predict HTTP/1.1\" 200 159 0.249005\n"
     ]
    },
    {
     "name": "stdout",
     "output_type": "stream",
     "text": [
      "1/1 [==============================] - 0s 76ms/step\n"
     ]
    },
    {
     "name": "stderr",
     "output_type": "stream",
     "text": [
      "127.0.0.1 - - [2022-06-03 05:05:59] \"POST /predict HTTP/1.1\" 200 159 0.318008\n",
      "127.0.0.1 - - [2022-06-03 05:05:59] \"POST /predict HTTP/1.1\" 200 153 0.002989\n"
     ]
    },
    {
     "name": "stdout",
     "output_type": "stream",
     "text": [
      "1/1 [==============================] - 0s 45ms/step\n"
     ]
    },
    {
     "name": "stderr",
     "output_type": "stream",
     "text": [
      "127.0.0.1 - - [2022-06-03 05:05:59] \"POST /predict HTTP/1.1\" 200 160 0.500969\n"
     ]
    },
    {
     "name": "stdout",
     "output_type": "stream",
     "text": [
      "1/1 [==============================] - 0s 154ms/step\n"
     ]
    },
    {
     "name": "stderr",
     "output_type": "stream",
     "text": [
      "127.0.0.1 - - [2022-06-03 05:06:00] \"POST /predict HTTP/1.1\" 200 159 0.628126\n"
     ]
    },
    {
     "name": "stdout",
     "output_type": "stream",
     "text": [
      "1/1 [==============================] - 0s 66ms/step\n"
     ]
    },
    {
     "name": "stderr",
     "output_type": "stream",
     "text": [
      "127.0.0.1 - - [2022-06-03 05:06:01] \"POST /predict HTTP/1.1\" 200 159 0.479857\n"
     ]
    },
    {
     "name": "stdout",
     "output_type": "stream",
     "text": [
      "1/1 [==============================] - 0s 62ms/step\n"
     ]
    },
    {
     "name": "stderr",
     "output_type": "stream",
     "text": [
      "127.0.0.1 - - [2022-06-03 05:06:01] \"POST /predict HTTP/1.1\" 200 159 0.416799\n",
      "127.0.0.1 - - [2022-06-03 05:06:01] \"POST /predict HTTP/1.1\" 200 153 0.002997\n"
     ]
    },
    {
     "name": "stdout",
     "output_type": "stream",
     "text": [
      "1/1 [==============================] - 0s 73ms/step\n"
     ]
    },
    {
     "name": "stderr",
     "output_type": "stream",
     "text": [
      "127.0.0.1 - - [2022-06-03 05:06:02] \"POST /predict HTTP/1.1\" 200 160 0.442337\n"
     ]
    },
    {
     "name": "stdout",
     "output_type": "stream",
     "text": [
      "1/1 [==============================] - 0s 72ms/step\n"
     ]
    },
    {
     "name": "stderr",
     "output_type": "stream",
     "text": [
      "127.0.0.1 - - [2022-06-03 05:06:02] \"POST /predict HTTP/1.1\" 200 160 0.322742\n"
     ]
    },
    {
     "name": "stdout",
     "output_type": "stream",
     "text": [
      "1/1 [==============================] - 0s 61ms/step\n"
     ]
    },
    {
     "name": "stderr",
     "output_type": "stream",
     "text": [
      "127.0.0.1 - - [2022-06-03 05:06:02] \"POST /predict HTTP/1.1\" 200 159 0.234953\n"
     ]
    },
    {
     "name": "stdout",
     "output_type": "stream",
     "text": [
      "1/1 [==============================] - 0s 61ms/step\n"
     ]
    },
    {
     "name": "stderr",
     "output_type": "stream",
     "text": [
      "127.0.0.1 - - [2022-06-03 05:06:03] \"POST /predict HTTP/1.1\" 200 160 0.308120\n"
     ]
    },
    {
     "name": "stdout",
     "output_type": "stream",
     "text": [
      "1/1 [==============================] - 0s 65ms/step\n"
     ]
    },
    {
     "name": "stderr",
     "output_type": "stream",
     "text": [
      "127.0.0.1 - - [2022-06-03 05:06:03] \"POST /predict HTTP/1.1\" 200 159 0.261193\n"
     ]
    },
    {
     "name": "stdout",
     "output_type": "stream",
     "text": [
      "1/1 [==============================] - 0s 65ms/step\n"
     ]
    },
    {
     "name": "stderr",
     "output_type": "stream",
     "text": [
      "127.0.0.1 - - [2022-06-03 05:06:03] \"POST /predict HTTP/1.1\" 200 160 0.432369\n"
     ]
    },
    {
     "name": "stdout",
     "output_type": "stream",
     "text": [
      "1/1 [==============================] - 0s 90ms/step\n"
     ]
    },
    {
     "name": "stderr",
     "output_type": "stream",
     "text": [
      "127.0.0.1 - - [2022-06-03 05:06:04] \"POST /predict HTTP/1.1\" 200 159 0.782907\n",
      "127.0.0.1 - - [2022-06-03 05:06:04] \"POST /predict HTTP/1.1\" 200 153 0.004003\n"
     ]
    },
    {
     "name": "stdout",
     "output_type": "stream",
     "text": [
      "1/1 [==============================] - 0s 90ms/step\n"
     ]
    },
    {
     "name": "stderr",
     "output_type": "stream",
     "text": [
      "127.0.0.1 - - [2022-06-03 05:06:05] \"POST /predict HTTP/1.1\" 200 159 0.262951\n"
     ]
    },
    {
     "name": "stdout",
     "output_type": "stream",
     "text": [
      "1/1 [==============================] - 0s 80ms/step\n"
     ]
    },
    {
     "name": "stderr",
     "output_type": "stream",
     "text": [
      "127.0.0.1 - - [2022-06-03 05:06:05] \"POST /predict HTTP/1.1\" 200 159 0.324012\n"
     ]
    },
    {
     "name": "stdout",
     "output_type": "stream",
     "text": [
      "1/1 [==============================] - 0s 81ms/step\n"
     ]
    },
    {
     "name": "stderr",
     "output_type": "stream",
     "text": [
      "127.0.0.1 - - [2022-06-03 05:06:05] \"POST /predict HTTP/1.1\" 200 159 0.451087\n",
      "127.0.0.1 - - [2022-06-03 05:06:05] \"POST /predict HTTP/1.1\" 200 153 0.001999\n"
     ]
    },
    {
     "name": "stdout",
     "output_type": "stream",
     "text": [
      "1/1 [==============================] - 0s 98ms/step\n"
     ]
    },
    {
     "name": "stderr",
     "output_type": "stream",
     "text": [
      "127.0.0.1 - - [2022-06-03 05:06:06] \"POST /predict HTTP/1.1\" 200 159 0.380177\n"
     ]
    },
    {
     "name": "stdout",
     "output_type": "stream",
     "text": [
      "1/1 [==============================] - 0s 61ms/step\n"
     ]
    },
    {
     "name": "stderr",
     "output_type": "stream",
     "text": [
      "127.0.0.1 - - [2022-06-03 05:06:06] \"POST /predict HTTP/1.1\" 200 159 0.538749\n"
     ]
    },
    {
     "name": "stdout",
     "output_type": "stream",
     "text": [
      "1/1 [==============================] - 0s 107ms/step\n"
     ]
    },
    {
     "name": "stderr",
     "output_type": "stream",
     "text": [
      "127.0.0.1 - - [2022-06-03 05:06:07] \"POST /predict HTTP/1.1\" 200 159 0.461120\n"
     ]
    },
    {
     "name": "stdout",
     "output_type": "stream",
     "text": [
      "1/1 [==============================] - 0s 81ms/step\n"
     ]
    },
    {
     "name": "stderr",
     "output_type": "stream",
     "text": [
      "127.0.0.1 - - [2022-06-03 05:06:07] \"POST /predict HTTP/1.1\" 200 160 0.360025\n"
     ]
    },
    {
     "name": "stdout",
     "output_type": "stream",
     "text": [
      "1/1 [==============================] - 0s 148ms/step\n"
     ]
    },
    {
     "name": "stderr",
     "output_type": "stream",
     "text": [
      "127.0.0.1 - - [2022-06-03 05:06:08] \"POST /predict HTTP/1.1\" 200 159 0.842004\n",
      "127.0.0.1 - - [2022-06-03 05:06:08] \"POST /predict HTTP/1.1\" 200 153 0.006998\n"
     ]
    },
    {
     "name": "stdout",
     "output_type": "stream",
     "text": [
      "1/1 [==============================] - 0s 108ms/step\n"
     ]
    },
    {
     "name": "stderr",
     "output_type": "stream",
     "text": [
      "127.0.0.1 - - [2022-06-03 05:06:09] \"POST /predict HTTP/1.1\" 200 159 0.461998\n"
     ]
    },
    {
     "name": "stdout",
     "output_type": "stream",
     "text": [
      "1/1 [==============================] - 0s 126ms/step\n"
     ]
    },
    {
     "name": "stderr",
     "output_type": "stream",
     "text": [
      "127.0.0.1 - - [2022-06-03 05:06:10] \"POST /predict HTTP/1.1\" 200 160 1.422999\n",
      "127.0.0.1 - - [2022-06-03 05:06:10] \"POST /predict HTTP/1.1\" 200 153 0.006000\n"
     ]
    },
    {
     "name": "stdout",
     "output_type": "stream",
     "text": [
      "1/1 [==============================] - 0s 102ms/step\n"
     ]
    },
    {
     "name": "stderr",
     "output_type": "stream",
     "text": [
      "127.0.0.1 - - [2022-06-03 05:06:11] \"POST /predict HTTP/1.1\" 200 159 0.649996\n"
     ]
    },
    {
     "name": "stdout",
     "output_type": "stream",
     "text": [
      "1/1 [==============================] - 0s 128ms/step\n"
     ]
    },
    {
     "name": "stderr",
     "output_type": "stream",
     "text": [
      "127.0.0.1 - - [2022-06-03 05:06:12] \"POST /predict HTTP/1.1\" 200 159 1.090102\n"
     ]
    },
    {
     "name": "stdout",
     "output_type": "stream",
     "text": [
      "1/1 [==============================] - 0s 93ms/step\n"
     ]
    },
    {
     "name": "stderr",
     "output_type": "stream",
     "text": [
      "127.0.0.1 - - [2022-06-03 05:06:13] \"POST /predict HTTP/1.1\" 200 160 1.218007\n"
     ]
    },
    {
     "name": "stdout",
     "output_type": "stream",
     "text": [
      "1/1 [==============================] - 0s 121ms/step\n"
     ]
    },
    {
     "name": "stderr",
     "output_type": "stream",
     "text": [
      "127.0.0.1 - - [2022-06-03 05:06:14] \"POST /predict HTTP/1.1\" 200 159 0.379999\n"
     ]
    },
    {
     "name": "stdout",
     "output_type": "stream",
     "text": [
      "1/1 [==============================] - 0s 98ms/step\n"
     ]
    },
    {
     "name": "stderr",
     "output_type": "stream",
     "text": [
      "127.0.0.1 - - [2022-06-03 05:06:14] \"POST /predict HTTP/1.1\" 200 160 0.372010\n",
      "127.0.0.1 - - [2022-06-03 05:06:14] \"POST /predict HTTP/1.1\" 200 153 0.003991\n"
     ]
    },
    {
     "name": "stdout",
     "output_type": "stream",
     "text": [
      "1/1 [==============================] - 0s 103ms/step\n"
     ]
    },
    {
     "name": "stderr",
     "output_type": "stream",
     "text": [
      "127.0.0.1 - - [2022-06-03 05:06:14] \"POST /predict HTTP/1.1\" 200 160 0.260995\n"
     ]
    },
    {
     "name": "stdout",
     "output_type": "stream",
     "text": [
      "1/1 [==============================] - 0s 68ms/step\n"
     ]
    },
    {
     "name": "stderr",
     "output_type": "stream",
     "text": [
      "127.0.0.1 - - [2022-06-03 05:06:15] \"POST /predict HTTP/1.1\" 200 159 0.248004\n"
     ]
    },
    {
     "name": "stdout",
     "output_type": "stream",
     "text": [
      "1/1 [==============================] - 0s 62ms/step\n"
     ]
    },
    {
     "name": "stderr",
     "output_type": "stream",
     "text": [
      "127.0.0.1 - - [2022-06-03 05:06:15] \"POST /predict HTTP/1.1\" 200 160 0.196995\n"
     ]
    },
    {
     "name": "stdout",
     "output_type": "stream",
     "text": [
      "1/1 [==============================] - 0s 66ms/step\n"
     ]
    },
    {
     "name": "stderr",
     "output_type": "stream",
     "text": [
      "127.0.0.1 - - [2022-06-03 05:06:15] \"POST /predict HTTP/1.1\" 200 159 0.381001\n"
     ]
    },
    {
     "name": "stdout",
     "output_type": "stream",
     "text": [
      "1/1 [==============================] - 0s 62ms/step\n"
     ]
    },
    {
     "name": "stderr",
     "output_type": "stream",
     "text": [
      "127.0.0.1 - - [2022-06-03 05:06:16] \"POST /predict HTTP/1.1\" 200 159 0.258992\n"
     ]
    },
    {
     "name": "stdout",
     "output_type": "stream",
     "text": [
      "1/1 [==============================] - 0s 64ms/step\n"
     ]
    },
    {
     "name": "stderr",
     "output_type": "stream",
     "text": [
      "127.0.0.1 - - [2022-06-03 05:06:16] \"POST /predict HTTP/1.1\" 200 160 0.223006\n",
      "127.0.0.1 - - [2022-06-03 05:06:16] \"POST /predict HTTP/1.1\" 200 153 0.002997\n"
     ]
    },
    {
     "name": "stdout",
     "output_type": "stream",
     "text": [
      "1/1 [==============================] - 0s 65ms/step\n"
     ]
    },
    {
     "name": "stderr",
     "output_type": "stream",
     "text": [
      "127.0.0.1 - - [2022-06-03 05:06:16] \"POST /predict HTTP/1.1\" 200 160 0.198008\n"
     ]
    },
    {
     "name": "stdout",
     "output_type": "stream",
     "text": [
      "1/1 [==============================] - 0s 62ms/step\n"
     ]
    },
    {
     "name": "stderr",
     "output_type": "stream",
     "text": [
      "127.0.0.1 - - [2022-06-03 05:06:16] \"POST /predict HTTP/1.1\" 200 160 0.261005\n"
     ]
    },
    {
     "name": "stdout",
     "output_type": "stream",
     "text": [
      "1/1 [==============================] - 0s 67ms/step\n"
     ]
    },
    {
     "name": "stderr",
     "output_type": "stream",
     "text": [
      "127.0.0.1 - - [2022-06-03 05:06:17] \"POST /predict HTTP/1.1\" 200 159 0.392002\n"
     ]
    },
    {
     "name": "stdout",
     "output_type": "stream",
     "text": [
      "1/1 [==============================] - 0s 116ms/step\n"
     ]
    },
    {
     "name": "stderr",
     "output_type": "stream",
     "text": [
      "127.0.0.1 - - [2022-06-03 05:06:17] \"POST /predict HTTP/1.1\" 200 159 0.492011\n"
     ]
    },
    {
     "name": "stdout",
     "output_type": "stream",
     "text": [
      "1/1 [==============================] - 0s 102ms/step\n"
     ]
    },
    {
     "name": "stderr",
     "output_type": "stream",
     "text": [
      "127.0.0.1 - - [2022-06-03 05:06:18] \"POST /predict HTTP/1.1\" 200 160 0.482998\n",
      "127.0.0.1 - - [2022-06-03 05:06:18] \"POST /predict HTTP/1.1\" 200 153 0.005013\n"
     ]
    },
    {
     "name": "stdout",
     "output_type": "stream",
     "text": [
      "1/1 [==============================] - 0s 126ms/step\n"
     ]
    },
    {
     "name": "stderr",
     "output_type": "stream",
     "text": [
      "127.0.0.1 - - [2022-06-03 05:06:18] \"POST /predict HTTP/1.1\" 200 159 0.474998\n"
     ]
    },
    {
     "name": "stdout",
     "output_type": "stream",
     "text": [
      "1/1 [==============================] - 0s 100ms/step\n"
     ]
    },
    {
     "name": "stderr",
     "output_type": "stream",
     "text": [
      "127.0.0.1 - - [2022-06-03 05:06:19] \"POST /predict HTTP/1.1\" 200 159 0.506006\n"
     ]
    },
    {
     "name": "stdout",
     "output_type": "stream",
     "text": [
      "1/1 [==============================] - 0s 104ms/step\n"
     ]
    },
    {
     "name": "stderr",
     "output_type": "stream",
     "text": [
      "127.0.0.1 - - [2022-06-03 05:06:19] \"POST /predict HTTP/1.1\" 200 159 0.378002\n"
     ]
    },
    {
     "name": "stdout",
     "output_type": "stream",
     "text": [
      "1/1 [==============================] - 0s 72ms/step\n"
     ]
    },
    {
     "name": "stderr",
     "output_type": "stream",
     "text": [
      "127.0.0.1 - - [2022-06-03 05:06:20] \"POST /predict HTTP/1.1\" 200 159 0.522004\n"
     ]
    },
    {
     "name": "stdout",
     "output_type": "stream",
     "text": [
      "1/1 [==============================] - 0s 107ms/step\n"
     ]
    },
    {
     "name": "stderr",
     "output_type": "stream",
     "text": [
      "127.0.0.1 - - [2022-06-03 05:06:21] \"POST /predict HTTP/1.1\" 200 159 0.930002\n"
     ]
    },
    {
     "name": "stdout",
     "output_type": "stream",
     "text": [
      "1/1 [==============================] - 0s 93ms/step\n"
     ]
    },
    {
     "name": "stderr",
     "output_type": "stream",
     "text": [
      "127.0.0.1 - - [2022-06-03 05:06:21] \"POST /predict HTTP/1.1\" 200 159 0.354999\n"
     ]
    },
    {
     "name": "stdout",
     "output_type": "stream",
     "text": [
      "1/1 [==============================] - 0s 88ms/step\n"
     ]
    },
    {
     "name": "stderr",
     "output_type": "stream",
     "text": [
      "127.0.0.1 - - [2022-06-03 05:06:22] \"POST /predict HTTP/1.1\" 200 160 0.347998\n"
     ]
    },
    {
     "name": "stdout",
     "output_type": "stream",
     "text": [
      "1/1 [==============================] - 0s 85ms/step\n"
     ]
    },
    {
     "name": "stderr",
     "output_type": "stream",
     "text": [
      "127.0.0.1 - - [2022-06-03 05:06:22] \"POST /predict HTTP/1.1\" 200 159 0.317000\n"
     ]
    },
    {
     "name": "stdout",
     "output_type": "stream",
     "text": [
      "1/1 [==============================] - 0s 101ms/step\n",
      "1/1 [==============================] - ETA: 0s"
     ]
    },
    {
     "name": "stderr",
     "output_type": "stream",
     "text": [
      "127.0.0.1 - - [2022-06-03 05:06:22] \"POST /predict HTTP/1.1\" 200 159 0.323002\n"
     ]
    },
    {
     "name": "stdout",
     "output_type": "stream",
     "text": [
      "\b\b\b\b\b\b\b\b\b\b\b\b\b\b\b\b\b\b\b\b\b\b\b\b\b\b\b\b\b\b\b\b\b\b\b\b\b\b\b\b\b\b\b\b\b\b\r",
      "1/1 [==============================] - 0s 61ms/step\n"
     ]
    },
    {
     "name": "stderr",
     "output_type": "stream",
     "text": [
      "127.0.0.1 - - [2022-06-03 05:06:23] \"POST /predict HTTP/1.1\" 200 159 0.188998\n"
     ]
    },
    {
     "name": "stdout",
     "output_type": "stream",
     "text": [
      "1/1 [==============================] - 0s 57ms/step\n"
     ]
    },
    {
     "name": "stderr",
     "output_type": "stream",
     "text": [
      "127.0.0.1 - - [2022-06-03 05:06:23] \"POST /predict HTTP/1.1\" 200 159 0.476999\n"
     ]
    },
    {
     "name": "stdout",
     "output_type": "stream",
     "text": [
      "1/1 [==============================] - 0s 119ms/step\n"
     ]
    },
    {
     "name": "stderr",
     "output_type": "stream",
     "text": [
      "127.0.0.1 - - [2022-06-03 05:06:23] \"POST /predict HTTP/1.1\" 200 160 0.273012\n"
     ]
    },
    {
     "name": "stdout",
     "output_type": "stream",
     "text": [
      "1/1 [==============================] - 0s 122ms/step\n"
     ]
    },
    {
     "name": "stderr",
     "output_type": "stream",
     "text": [
      "127.0.0.1 - - [2022-06-03 05:06:24] \"POST /predict HTTP/1.1\" 200 160 0.385995\n"
     ]
    },
    {
     "name": "stdout",
     "output_type": "stream",
     "text": [
      "1/1 [==============================] - 0s 90ms/step\n"
     ]
    },
    {
     "name": "stderr",
     "output_type": "stream",
     "text": [
      "127.0.0.1 - - [2022-06-03 05:06:24] \"POST /predict HTTP/1.1\" 200 159 0.331001\n"
     ]
    },
    {
     "name": "stdout",
     "output_type": "stream",
     "text": [
      "1/1 [==============================] - 0s 79ms/step\n"
     ]
    },
    {
     "name": "stderr",
     "output_type": "stream",
     "text": [
      "127.0.0.1 - - [2022-06-03 05:06:25] \"POST /predict HTTP/1.1\" 200 159 0.307002\n"
     ]
    },
    {
     "name": "stdout",
     "output_type": "stream",
     "text": [
      "1/1 [==============================] - 0s 88ms/step\n"
     ]
    },
    {
     "name": "stderr",
     "output_type": "stream",
     "text": [
      "127.0.0.1 - - [2022-06-03 05:06:25] \"POST /predict HTTP/1.1\" 200 159 0.337003\n"
     ]
    },
    {
     "name": "stdout",
     "output_type": "stream",
     "text": [
      "1/1 [==============================] - 0s 83ms/step\n"
     ]
    },
    {
     "name": "stderr",
     "output_type": "stream",
     "text": [
      "127.0.0.1 - - [2022-06-03 05:06:25] \"POST /predict HTTP/1.1\" 200 159 0.370002\n"
     ]
    },
    {
     "name": "stdout",
     "output_type": "stream",
     "text": [
      "1/1 [==============================] - 0s 207ms/step\n"
     ]
    },
    {
     "name": "stderr",
     "output_type": "stream",
     "text": [
      "127.0.0.1 - - [2022-06-03 05:06:26] \"POST /predict HTTP/1.1\" 200 159 0.723964\n"
     ]
    },
    {
     "name": "stdout",
     "output_type": "stream",
     "text": [
      "1/1 [==============================] - 0s 131ms/step\n"
     ]
    },
    {
     "name": "stderr",
     "output_type": "stream",
     "text": [
      "127.0.0.1 - - [2022-06-03 05:06:27] \"POST /predict HTTP/1.1\" 200 159 0.792193\n"
     ]
    },
    {
     "name": "stdout",
     "output_type": "stream",
     "text": [
      "1/1 [==============================] - 0s 95ms/step\n"
     ]
    },
    {
     "name": "stderr",
     "output_type": "stream",
     "text": [
      "127.0.0.1 - - [2022-06-03 05:06:27] \"POST /predict HTTP/1.1\" 200 159 0.392299\n"
     ]
    },
    {
     "name": "stdout",
     "output_type": "stream",
     "text": [
      "1/1 [==============================] - 0s 88ms/step\n"
     ]
    },
    {
     "name": "stderr",
     "output_type": "stream",
     "text": [
      "127.0.0.1 - - [2022-06-03 05:06:28] \"POST /predict HTTP/1.1\" 200 159 0.358069\n"
     ]
    },
    {
     "name": "stdout",
     "output_type": "stream",
     "text": [
      "1/1 [==============================] - 0s 102ms/step\n"
     ]
    },
    {
     "name": "stderr",
     "output_type": "stream",
     "text": [
      "127.0.0.1 - - [2022-06-03 05:06:28] \"POST /predict HTTP/1.1\" 200 159 0.302162\n"
     ]
    },
    {
     "name": "stdout",
     "output_type": "stream",
     "text": [
      "1/1 [==============================] - 0s 101ms/step\n"
     ]
    },
    {
     "name": "stderr",
     "output_type": "stream",
     "text": [
      "127.0.0.1 - - [2022-06-03 05:06:29] \"POST /predict HTTP/1.1\" 200 159 0.327223\n"
     ]
    },
    {
     "name": "stdout",
     "output_type": "stream",
     "text": [
      "1/1 [==============================] - 0s 107ms/step\n"
     ]
    },
    {
     "name": "stderr",
     "output_type": "stream",
     "text": [
      "127.0.0.1 - - [2022-06-03 05:06:29] \"POST /predict HTTP/1.1\" 200 159 0.462381\n"
     ]
    },
    {
     "name": "stdout",
     "output_type": "stream",
     "text": [
      "1/1 [==============================] - 0s 81ms/step\n"
     ]
    },
    {
     "name": "stderr",
     "output_type": "stream",
     "text": [
      "127.0.0.1 - - [2022-06-03 05:06:29] \"POST /predict HTTP/1.1\" 200 159 0.362033\n",
      "127.0.0.1 - - [2022-06-03 05:06:29] \"POST /predict HTTP/1.1\" 200 153 0.006006\n",
      "127.0.0.1 - - [2022-06-03 05:06:30] \"POST /predict HTTP/1.1\" 200 153 0.005002\n",
      "127.0.0.1 - - [2022-06-03 05:06:30] \"POST /predict HTTP/1.1\" 200 153 0.006486\n",
      "127.0.0.1 - - [2022-06-03 05:06:30] \"POST /predict HTTP/1.1\" 200 153 0.006004\n"
     ]
    },
    {
     "name": "stdout",
     "output_type": "stream",
     "text": [
      "1/1 [==============================] - 0s 126ms/step\n"
     ]
    },
    {
     "name": "stderr",
     "output_type": "stream",
     "text": [
      "127.0.0.1 - - [2022-06-03 05:06:30] \"POST /predict HTTP/1.1\" 200 159 0.595886\n"
     ]
    },
    {
     "name": "stdout",
     "output_type": "stream",
     "text": [
      "1/1 [==============================] - 0s 109ms/step\n"
     ]
    },
    {
     "name": "stderr",
     "output_type": "stream",
     "text": [
      "127.0.0.1 - - [2022-06-03 05:06:31] \"POST /predict HTTP/1.1\" 200 159 0.399650\n"
     ]
    },
    {
     "name": "stdout",
     "output_type": "stream",
     "text": [
      "1/1 [==============================] - 0s 114ms/step\n"
     ]
    },
    {
     "name": "stderr",
     "output_type": "stream",
     "text": [
      "127.0.0.1 - - [2022-06-03 05:06:32] \"POST /predict HTTP/1.1\" 200 159 0.948116\n"
     ]
    },
    {
     "name": "stdout",
     "output_type": "stream",
     "text": [
      "1/1 [==============================] - 0s 113ms/step\n"
     ]
    },
    {
     "name": "stderr",
     "output_type": "stream",
     "text": [
      "127.0.0.1 - - [2022-06-03 05:06:32] \"POST /predict HTTP/1.1\" 200 159 0.759968\n"
     ]
    },
    {
     "name": "stdout",
     "output_type": "stream",
     "text": [
      "1/1 [==============================] - 0s 103ms/step\n"
     ]
    },
    {
     "name": "stderr",
     "output_type": "stream",
     "text": [
      "127.0.0.1 - - [2022-06-03 05:06:33] \"POST /predict HTTP/1.1\" 200 159 0.736477\n"
     ]
    },
    {
     "name": "stdout",
     "output_type": "stream",
     "text": [
      "1/1 [==============================] - 0s 119ms/step\n"
     ]
    },
    {
     "name": "stderr",
     "output_type": "stream",
     "text": [
      "127.0.0.1 - - [2022-06-03 05:06:34] \"POST /predict HTTP/1.1\" 200 159 0.450122\n"
     ]
    },
    {
     "name": "stdout",
     "output_type": "stream",
     "text": [
      "1/1 [==============================] - 0s 95ms/step\n"
     ]
    },
    {
     "name": "stderr",
     "output_type": "stream",
     "text": [
      "127.0.0.1 - - [2022-06-03 05:06:34] \"POST /predict HTTP/1.1\" 200 159 0.384007\n"
     ]
    },
    {
     "name": "stdout",
     "output_type": "stream",
     "text": [
      "1/1 [==============================] - 0s 103ms/step\n"
     ]
    },
    {
     "name": "stderr",
     "output_type": "stream",
     "text": [
      "127.0.0.1 - - [2022-06-03 05:06:34] \"POST /predict HTTP/1.1\" 200 159 0.330997\n"
     ]
    },
    {
     "name": "stdout",
     "output_type": "stream",
     "text": [
      "1/1 [==============================] - 0s 111ms/step\n"
     ]
    },
    {
     "name": "stderr",
     "output_type": "stream",
     "text": [
      "127.0.0.1 - - [2022-06-03 05:06:35] \"POST /predict HTTP/1.1\" 200 159 0.464002\n"
     ]
    },
    {
     "name": "stdout",
     "output_type": "stream",
     "text": [
      "1/1 [==============================] - 0s 83ms/step\n"
     ]
    },
    {
     "name": "stderr",
     "output_type": "stream",
     "text": [
      "127.0.0.1 - - [2022-06-03 05:06:35] \"POST /predict HTTP/1.1\" 200 159 0.287291\n"
     ]
    },
    {
     "name": "stdout",
     "output_type": "stream",
     "text": [
      "1/1 [==============================] - 0s 87ms/step\n"
     ]
    },
    {
     "name": "stderr",
     "output_type": "stream",
     "text": [
      "127.0.0.1 - - [2022-06-03 05:06:36] \"POST /predict HTTP/1.1\" 200 159 0.439736\n"
     ]
    },
    {
     "name": "stdout",
     "output_type": "stream",
     "text": [
      "1/1 [==============================] - 0s 55ms/step\n"
     ]
    },
    {
     "name": "stderr",
     "output_type": "stream",
     "text": [
      "127.0.0.1 - - [2022-06-03 05:06:36] \"POST /predict HTTP/1.1\" 200 159 0.680009\n"
     ]
    },
    {
     "name": "stdout",
     "output_type": "stream",
     "text": [
      "1/1 [==============================] - 0s 69ms/step\n"
     ]
    },
    {
     "name": "stderr",
     "output_type": "stream",
     "text": [
      "127.0.0.1 - - [2022-06-03 05:06:37] \"POST /predict HTTP/1.1\" 200 159 0.205125\n"
     ]
    },
    {
     "name": "stdout",
     "output_type": "stream",
     "text": [
      "1/1 [==============================] - 0s 68ms/step\n"
     ]
    },
    {
     "name": "stderr",
     "output_type": "stream",
     "text": [
      "127.0.0.1 - - [2022-06-03 05:06:37] \"POST /predict HTTP/1.1\" 200 159 0.675128\n"
     ]
    },
    {
     "name": "stdout",
     "output_type": "stream",
     "text": [
      "1/1 [==============================] - 0s 50ms/step\n"
     ]
    },
    {
     "name": "stderr",
     "output_type": "stream",
     "text": [
      "127.0.0.1 - - [2022-06-03 05:06:38] \"POST /predict HTTP/1.1\" 200 159 0.220385\n"
     ]
    },
    {
     "name": "stdout",
     "output_type": "stream",
     "text": [
      "1/1 [==============================] - 0s 68ms/step\n"
     ]
    },
    {
     "name": "stderr",
     "output_type": "stream",
     "text": [
      "127.0.0.1 - - [2022-06-03 05:06:38] \"POST /predict HTTP/1.1\" 200 159 0.219218\n"
     ]
    },
    {
     "name": "stdout",
     "output_type": "stream",
     "text": [
      "1/1 [==============================] - 0s 67ms/step\n"
     ]
    },
    {
     "name": "stderr",
     "output_type": "stream",
     "text": [
      "127.0.0.1 - - [2022-06-03 05:06:38] \"POST /predict HTTP/1.1\" 200 159 0.404138\n"
     ]
    },
    {
     "name": "stdout",
     "output_type": "stream",
     "text": [
      "1/1 [==============================] - 0s 94ms/step\n"
     ]
    },
    {
     "name": "stderr",
     "output_type": "stream",
     "text": [
      "127.0.0.1 - - [2022-06-03 05:06:39] \"POST /predict HTTP/1.1\" 200 160 0.373598\n"
     ]
    },
    {
     "name": "stdout",
     "output_type": "stream",
     "text": [
      "1/1 [==============================] - 0s 109ms/step\n"
     ]
    },
    {
     "name": "stderr",
     "output_type": "stream",
     "text": [
      "127.0.0.1 - - [2022-06-03 05:06:39] \"POST /predict HTTP/1.1\" 200 159 0.553757\n"
     ]
    },
    {
     "name": "stdout",
     "output_type": "stream",
     "text": [
      "1/1 [==============================] - 0s 89ms/step\n"
     ]
    },
    {
     "name": "stderr",
     "output_type": "stream",
     "text": [
      "127.0.0.1 - - [2022-06-03 05:06:40] \"POST /predict HTTP/1.1\" 200 159 0.451701\n"
     ]
    },
    {
     "name": "stdout",
     "output_type": "stream",
     "text": [
      "1/1 [==============================] - 0s 69ms/step\n"
     ]
    },
    {
     "name": "stderr",
     "output_type": "stream",
     "text": [
      "127.0.0.1 - - [2022-06-03 05:06:40] \"POST /predict HTTP/1.1\" 200 159 0.458522\n"
     ]
    },
    {
     "name": "stdout",
     "output_type": "stream",
     "text": [
      "1/1 [==============================] - 0s 78ms/step\n"
     ]
    },
    {
     "name": "stderr",
     "output_type": "stream",
     "text": [
      "127.0.0.1 - - [2022-06-03 05:06:41] \"POST /predict HTTP/1.1\" 200 159 0.209229\n"
     ]
    },
    {
     "name": "stdout",
     "output_type": "stream",
     "text": [
      "1/1 [==============================] - 0s 68ms/step\n"
     ]
    },
    {
     "name": "stderr",
     "output_type": "stream",
     "text": [
      "127.0.0.1 - - [2022-06-03 05:06:41] \"POST /predict HTTP/1.1\" 200 159 0.217002\n"
     ]
    },
    {
     "name": "stdout",
     "output_type": "stream",
     "text": [
      "1/1 [==============================] - 0s 65ms/step\n"
     ]
    },
    {
     "name": "stderr",
     "output_type": "stream",
     "text": [
      "127.0.0.1 - - [2022-06-03 05:06:41] \"POST /predict HTTP/1.1\" 200 159 0.236264\n"
     ]
    },
    {
     "name": "stdout",
     "output_type": "stream",
     "text": [
      "1/1 [==============================] - 0s 89ms/step\n"
     ]
    },
    {
     "name": "stderr",
     "output_type": "stream",
     "text": [
      "127.0.0.1 - - [2022-06-03 05:06:41] \"POST /predict HTTP/1.1\" 200 159 0.277119\n"
     ]
    },
    {
     "name": "stdout",
     "output_type": "stream",
     "text": [
      "1/1 [==============================] - 0s 65ms/step\n"
     ]
    },
    {
     "name": "stderr",
     "output_type": "stream",
     "text": [
      "127.0.0.1 - - [2022-06-03 05:06:42] \"POST /predict HTTP/1.1\" 200 159 0.292283\n"
     ]
    },
    {
     "name": "stdout",
     "output_type": "stream",
     "text": [
      "1/1 [==============================] - 0s 62ms/step\n"
     ]
    },
    {
     "name": "stderr",
     "output_type": "stream",
     "text": [
      "127.0.0.1 - - [2022-06-03 05:06:42] \"POST /predict HTTP/1.1\" 200 159 0.277894\n"
     ]
    },
    {
     "name": "stdout",
     "output_type": "stream",
     "text": [
      "1/1 [==============================] - 0s 63ms/step\n"
     ]
    },
    {
     "name": "stderr",
     "output_type": "stream",
     "text": [
      "127.0.0.1 - - [2022-06-03 05:06:42] \"POST /predict HTTP/1.1\" 200 159 0.250746\n"
     ]
    },
    {
     "name": "stdout",
     "output_type": "stream",
     "text": [
      "1/1 [==============================] - 0s 58ms/step\n"
     ]
    },
    {
     "name": "stderr",
     "output_type": "stream",
     "text": [
      "127.0.0.1 - - [2022-06-03 05:06:43] \"POST /predict HTTP/1.1\" 200 159 0.273878\n"
     ]
    },
    {
     "name": "stdout",
     "output_type": "stream",
     "text": [
      "1/1 [==============================] - 0s 65ms/step\n"
     ]
    },
    {
     "name": "stderr",
     "output_type": "stream",
     "text": [
      "127.0.0.1 - - [2022-06-03 05:06:43] \"POST /predict HTTP/1.1\" 200 159 0.335139\n"
     ]
    },
    {
     "name": "stdout",
     "output_type": "stream",
     "text": [
      "1/1 [==============================] - 0s 72ms/step\n"
     ]
    },
    {
     "name": "stderr",
     "output_type": "stream",
     "text": [
      "127.0.0.1 - - [2022-06-03 05:06:43] \"POST /predict HTTP/1.1\" 200 159 0.318124\n"
     ]
    },
    {
     "name": "stdout",
     "output_type": "stream",
     "text": [
      "1/1 [==============================] - 0s 63ms/step\n"
     ]
    },
    {
     "name": "stderr",
     "output_type": "stream",
     "text": [
      "127.0.0.1 - - [2022-06-03 05:06:44] \"POST /predict HTTP/1.1\" 200 159 0.207290\n"
     ]
    },
    {
     "name": "stdout",
     "output_type": "stream",
     "text": [
      "1/1 [==============================] - 0s 67ms/step\n",
      "1/1 [==============================] - ETA: 0s"
     ]
    },
    {
     "name": "stderr",
     "output_type": "stream",
     "text": [
      "127.0.0.1 - - [2022-06-03 05:06:44] \"POST /predict HTTP/1.1\" 200 159 0.324002\n"
     ]
    },
    {
     "name": "stdout",
     "output_type": "stream",
     "text": [
      "\b\b\b\b\b\b\b\b\b\b\b\b\b\b\b\b\b\b\b\b\b\b\b\b\b\b\b\b\b\b\b\b\b\b\b\b\b\b\b\b\b\b\b\b\b\b\r",
      "1/1 [==============================] - 0s 68ms/step\n"
     ]
    },
    {
     "name": "stderr",
     "output_type": "stream",
     "text": [
      "127.0.0.1 - - [2022-06-03 05:06:44] \"POST /predict HTTP/1.1\" 200 159 0.208998\n"
     ]
    },
    {
     "name": "stdout",
     "output_type": "stream",
     "text": [
      "1/1 [==============================] - 0s 104ms/step\n"
     ]
    },
    {
     "name": "stderr",
     "output_type": "stream",
     "text": [
      "127.0.0.1 - - [2022-06-03 05:06:45] \"POST /predict HTTP/1.1\" 200 159 0.349999\n"
     ]
    },
    {
     "name": "stdout",
     "output_type": "stream",
     "text": [
      "1/1 [==============================] - 0s 141ms/step\n"
     ]
    },
    {
     "name": "stderr",
     "output_type": "stream",
     "text": [
      "127.0.0.1 - - [2022-06-03 05:06:45] \"POST /predict HTTP/1.1\" 200 159 0.588139\n"
     ]
    },
    {
     "name": "stdout",
     "output_type": "stream",
     "text": [
      "1/1 [==============================] - 0s 107ms/step\n"
     ]
    },
    {
     "name": "stderr",
     "output_type": "stream",
     "text": [
      "127.0.0.1 - - [2022-06-03 05:06:46] \"POST /predict HTTP/1.1\" 200 159 0.401996\n"
     ]
    },
    {
     "name": "stdout",
     "output_type": "stream",
     "text": [
      "1/1 [==============================] - 0s 123ms/step\n"
     ]
    },
    {
     "name": "stderr",
     "output_type": "stream",
     "text": [
      "127.0.0.1 - - [2022-06-03 05:06:46] \"POST /predict HTTP/1.1\" 200 159 0.714007\n"
     ]
    },
    {
     "name": "stdout",
     "output_type": "stream",
     "text": [
      "1/1 [==============================] - 0s 70ms/step\n"
     ]
    },
    {
     "name": "stderr",
     "output_type": "stream",
     "text": [
      "127.0.0.1 - - [2022-06-03 05:06:47] \"POST /predict HTTP/1.1\" 200 159 0.376008\n"
     ]
    },
    {
     "name": "stdout",
     "output_type": "stream",
     "text": [
      "1/1 [==============================] - 0s 72ms/step\n"
     ]
    },
    {
     "name": "stderr",
     "output_type": "stream",
     "text": [
      "127.0.0.1 - - [2022-06-03 05:06:47] \"POST /predict HTTP/1.1\" 200 159 0.250003\n"
     ]
    },
    {
     "name": "stdout",
     "output_type": "stream",
     "text": [
      "1/1 [==============================] - 0s 79ms/step\n"
     ]
    },
    {
     "name": "stderr",
     "output_type": "stream",
     "text": [
      "127.0.0.1 - - [2022-06-03 05:06:47] \"POST /predict HTTP/1.1\" 200 159 0.293003\n"
     ]
    },
    {
     "name": "stdout",
     "output_type": "stream",
     "text": [
      "1/1 [==============================] - 0s 92ms/step\n"
     ]
    },
    {
     "name": "stderr",
     "output_type": "stream",
     "text": [
      "127.0.0.1 - - [2022-06-03 05:06:48] \"POST /predict HTTP/1.1\" 200 160 0.312020\n"
     ]
    },
    {
     "name": "stdout",
     "output_type": "stream",
     "text": [
      "1/1 [==============================] - 0s 81ms/step\n"
     ]
    },
    {
     "name": "stderr",
     "output_type": "stream",
     "text": [
      "127.0.0.1 - - [2022-06-03 05:06:48] \"POST /predict HTTP/1.1\" 200 159 0.494126\n"
     ]
    },
    {
     "name": "stdout",
     "output_type": "stream",
     "text": [
      "1/1 [==============================] - 0s 62ms/step\n"
     ]
    },
    {
     "name": "stderr",
     "output_type": "stream",
     "text": [
      "127.0.0.1 - - [2022-06-03 05:06:49] \"POST /predict HTTP/1.1\" 200 159 0.468795\n"
     ]
    },
    {
     "name": "stdout",
     "output_type": "stream",
     "text": [
      "1/1 [==============================] - 0s 83ms/step\n"
     ]
    },
    {
     "name": "stderr",
     "output_type": "stream",
     "text": [
      "127.0.0.1 - - [2022-06-03 05:06:49] \"POST /predict HTTP/1.1\" 200 159 0.232339\n"
     ]
    },
    {
     "name": "stdout",
     "output_type": "stream",
     "text": [
      "1/1 [==============================] - 0s 64ms/step\n",
      "1/1 [==============================] - ETA: 0s"
     ]
    },
    {
     "name": "stderr",
     "output_type": "stream",
     "text": [
      "127.0.0.1 - - [2022-06-03 05:06:49] \"POST /predict HTTP/1.1\" 200 159 0.283483\n"
     ]
    },
    {
     "name": "stdout",
     "output_type": "stream",
     "text": [
      "\b\b\b\b\b\b\b\b\b\b\b\b\b\b\b\b\b\b\b\b\b\b\b\b\b\b\b\b\b\b\b\b\b\b\b\b\b\b\b\b\b\b\b\b\b\b\r",
      "1/1 [==============================] - 0s 47ms/step\n"
     ]
    },
    {
     "name": "stderr",
     "output_type": "stream",
     "text": [
      "127.0.0.1 - - [2022-06-03 05:06:50] \"POST /predict HTTP/1.1\" 200 159 0.188357\n"
     ]
    },
    {
     "name": "stdout",
     "output_type": "stream",
     "text": [
      "1/1 [==============================] - 0s 67ms/step\n"
     ]
    },
    {
     "name": "stderr",
     "output_type": "stream",
     "text": [
      "127.0.0.1 - - [2022-06-03 05:06:50] \"POST /predict HTTP/1.1\" 200 159 0.198092\n"
     ]
    },
    {
     "name": "stdout",
     "output_type": "stream",
     "text": [
      "1/1 [==============================] - 0s 47ms/step\n"
     ]
    },
    {
     "name": "stderr",
     "output_type": "stream",
     "text": [
      "127.0.0.1 - - [2022-06-03 05:06:50] \"POST /predict HTTP/1.1\" 200 159 0.258792\n"
     ]
    },
    {
     "name": "stdout",
     "output_type": "stream",
     "text": [
      "1/1 [==============================] - 0s 78ms/step\n"
     ]
    },
    {
     "name": "stderr",
     "output_type": "stream",
     "text": [
      "127.0.0.1 - - [2022-06-03 05:06:50] \"POST /predict HTTP/1.1\" 200 159 0.249008\n"
     ]
    },
    {
     "name": "stdout",
     "output_type": "stream",
     "text": [
      "1/1 [==============================] - 0s 68ms/step\n"
     ]
    },
    {
     "name": "stderr",
     "output_type": "stream",
     "text": [
      "127.0.0.1 - - [2022-06-03 05:06:51] \"POST /predict HTTP/1.1\" 200 159 0.217770\n"
     ]
    },
    {
     "name": "stdout",
     "output_type": "stream",
     "text": [
      "1/1 [==============================] - 0s 78ms/step\n"
     ]
    },
    {
     "name": "stderr",
     "output_type": "stream",
     "text": [
      "127.0.0.1 - - [2022-06-03 05:06:51] \"POST /predict HTTP/1.1\" 200 159 0.218751\n"
     ]
    },
    {
     "name": "stdout",
     "output_type": "stream",
     "text": [
      "1/1 [==============================] - 0s 94ms/step\n"
     ]
    },
    {
     "name": "stderr",
     "output_type": "stream",
     "text": [
      "127.0.0.1 - - [2022-06-03 05:06:51] \"POST /predict HTTP/1.1\" 200 159 0.302024\n"
     ]
    },
    {
     "name": "stdout",
     "output_type": "stream",
     "text": [
      "1/1 [==============================] - 0s 78ms/step\n"
     ]
    },
    {
     "name": "stderr",
     "output_type": "stream",
     "text": [
      "127.0.0.1 - - [2022-06-03 05:06:52] \"POST /predict HTTP/1.1\" 200 159 0.218754\n"
     ]
    },
    {
     "name": "stdout",
     "output_type": "stream",
     "text": [
      "1/1 [==============================] - 0s 62ms/step\n"
     ]
    },
    {
     "name": "stderr",
     "output_type": "stream",
     "text": [
      "127.0.0.1 - - [2022-06-03 05:06:52] \"POST /predict HTTP/1.1\" 200 159 0.254106\n"
     ]
    },
    {
     "name": "stdout",
     "output_type": "stream",
     "text": [
      "1/1 [==============================] - 0s 64ms/step\n"
     ]
    },
    {
     "name": "stderr",
     "output_type": "stream",
     "text": [
      "127.0.0.1 - - [2022-06-03 05:06:52] \"POST /predict HTTP/1.1\" 200 159 0.376155\n"
     ]
    },
    {
     "name": "stdout",
     "output_type": "stream",
     "text": [
      "1/1 [==============================] - 0s 78ms/step\n"
     ]
    },
    {
     "name": "stderr",
     "output_type": "stream",
     "text": [
      "127.0.0.1 - - [2022-06-03 05:06:53] \"POST /predict HTTP/1.1\" 200 159 0.421884\n"
     ]
    },
    {
     "name": "stdout",
     "output_type": "stream",
     "text": [
      "1/1 [==============================] - 0s 84ms/step\n"
     ]
    },
    {
     "name": "stderr",
     "output_type": "stream",
     "text": [
      "127.0.0.1 - - [2022-06-03 05:06:53] \"POST /predict HTTP/1.1\" 200 159 0.271573\n"
     ]
    },
    {
     "name": "stdout",
     "output_type": "stream",
     "text": [
      "1/1 [==============================] - 0s 63ms/step\n"
     ]
    },
    {
     "name": "stderr",
     "output_type": "stream",
     "text": [
      "127.0.0.1 - - [2022-06-03 05:06:53] \"POST /predict HTTP/1.1\" 200 159 0.354529\n"
     ]
    },
    {
     "name": "stdout",
     "output_type": "stream",
     "text": [
      "1/1 [==============================] - 0s 80ms/step\n"
     ]
    },
    {
     "name": "stderr",
     "output_type": "stream",
     "text": [
      "127.0.0.1 - - [2022-06-03 05:06:54] \"POST /predict HTTP/1.1\" 200 159 0.361468\n"
     ]
    },
    {
     "name": "stdout",
     "output_type": "stream",
     "text": [
      "1/1 [==============================] - 0s 78ms/step\n"
     ]
    },
    {
     "name": "stderr",
     "output_type": "stream",
     "text": [
      "127.0.0.1 - - [2022-06-03 05:06:54] \"POST /predict HTTP/1.1\" 200 159 0.218751\n"
     ]
    },
    {
     "name": "stdout",
     "output_type": "stream",
     "text": [
      "1/1 [==============================] - 0s 62ms/step\n"
     ]
    },
    {
     "name": "stderr",
     "output_type": "stream",
     "text": [
      "127.0.0.1 - - [2022-06-03 05:06:55] \"POST /predict HTTP/1.1\" 200 159 0.392776\n"
     ]
    },
    {
     "name": "stdout",
     "output_type": "stream",
     "text": [
      "1/1 [==============================] - 0s 62ms/step\n"
     ]
    },
    {
     "name": "stderr",
     "output_type": "stream",
     "text": [
      "127.0.0.1 - - [2022-06-03 05:06:55] \"POST /predict HTTP/1.1\" 200 159 0.265628\n"
     ]
    },
    {
     "name": "stdout",
     "output_type": "stream",
     "text": [
      "1/1 [==============================] - 0s 62ms/step\n"
     ]
    },
    {
     "name": "stderr",
     "output_type": "stream",
     "text": [
      "127.0.0.1 - - [2022-06-03 05:06:55] \"POST /predict HTTP/1.1\" 200 159 0.312503\n"
     ]
    },
    {
     "name": "stdout",
     "output_type": "stream",
     "text": [
      "1/1 [==============================] - 0s 66ms/step\n"
     ]
    },
    {
     "name": "stderr",
     "output_type": "stream",
     "text": [
      "127.0.0.1 - - [2022-06-03 05:06:55] \"POST /predict HTTP/1.1\" 200 159 0.235582\n"
     ]
    },
    {
     "name": "stdout",
     "output_type": "stream",
     "text": [
      "1/1 [==============================] - 0s 73ms/step\n"
     ]
    },
    {
     "name": "stderr",
     "output_type": "stream",
     "text": [
      "127.0.0.1 - - [2022-06-03 05:06:56] \"POST /predict HTTP/1.1\" 200 159 0.266655\n"
     ]
    },
    {
     "name": "stdout",
     "output_type": "stream",
     "text": [
      "1/1 [==============================] - 0s 95ms/step\n"
     ]
    },
    {
     "name": "stderr",
     "output_type": "stream",
     "text": [
      "127.0.0.1 - - [2022-06-03 05:06:56] \"POST /predict HTTP/1.1\" 200 159 0.340646\n"
     ]
    },
    {
     "name": "stdout",
     "output_type": "stream",
     "text": [
      "1/1 [==============================] - 0s 77ms/step\n"
     ]
    },
    {
     "name": "stderr",
     "output_type": "stream",
     "text": [
      "127.0.0.1 - - [2022-06-03 05:06:56] \"POST /predict HTTP/1.1\" 200 159 0.361660\n"
     ]
    },
    {
     "name": "stdout",
     "output_type": "stream",
     "text": [
      "1/1 [==============================] - 0s 63ms/step\n"
     ]
    },
    {
     "name": "stderr",
     "output_type": "stream",
     "text": [
      "127.0.0.1 - - [2022-06-03 05:06:57] \"POST /predict HTTP/1.1\" 200 159 0.568002\n"
     ]
    },
    {
     "name": "stdout",
     "output_type": "stream",
     "text": [
      "1/1 [==============================] - 0s 86ms/step\n"
     ]
    },
    {
     "name": "stderr",
     "output_type": "stream",
     "text": [
      "127.0.0.1 - - [2022-06-03 05:06:57] \"POST /predict HTTP/1.1\" 200 159 0.258009\n"
     ]
    },
    {
     "name": "stdout",
     "output_type": "stream",
     "text": [
      "1/1 [==============================] - 0s 109ms/step\n"
     ]
    },
    {
     "name": "stderr",
     "output_type": "stream",
     "text": [
      "127.0.0.1 - - [2022-06-03 05:06:58] \"POST /predict HTTP/1.1\" 200 160 0.461002\n"
     ]
    },
    {
     "name": "stdout",
     "output_type": "stream",
     "text": [
      "1/1 [==============================] - 0s 111ms/step\n"
     ]
    },
    {
     "name": "stderr",
     "output_type": "stream",
     "text": [
      "127.0.0.1 - - [2022-06-03 05:06:59] \"POST /predict HTTP/1.1\" 200 159 0.646014\n"
     ]
    },
    {
     "name": "stdout",
     "output_type": "stream",
     "text": [
      "1/1 [==============================] - 0s 137ms/step\n"
     ]
    },
    {
     "name": "stderr",
     "output_type": "stream",
     "text": [
      "127.0.0.1 - - [2022-06-03 05:06:59] \"POST /predict HTTP/1.1\" 200 159 0.619005\n"
     ]
    },
    {
     "name": "stdout",
     "output_type": "stream",
     "text": [
      "1/1 [==============================] - 0s 122ms/step\n"
     ]
    },
    {
     "name": "stderr",
     "output_type": "stream",
     "text": [
      "127.0.0.1 - - [2022-06-03 05:07:00] \"POST /predict HTTP/1.1\" 200 159 0.534005\n"
     ]
    },
    {
     "name": "stdout",
     "output_type": "stream",
     "text": [
      "1/1 [==============================] - 0s 95ms/step\n"
     ]
    },
    {
     "name": "stderr",
     "output_type": "stream",
     "text": [
      "127.0.0.1 - - [2022-06-03 05:07:00] \"POST /predict HTTP/1.1\" 200 159 0.446002\n"
     ]
    },
    {
     "name": "stdout",
     "output_type": "stream",
     "text": [
      "1/1 [==============================] - 0s 96ms/step\n"
     ]
    },
    {
     "name": "stderr",
     "output_type": "stream",
     "text": [
      "127.0.0.1 - - [2022-06-03 05:07:01] \"POST /predict HTTP/1.1\" 200 159 0.512987\n"
     ]
    },
    {
     "name": "stdout",
     "output_type": "stream",
     "text": [
      "1/1 [==============================] - 0s 118ms/step\n"
     ]
    },
    {
     "name": "stderr",
     "output_type": "stream",
     "text": [
      "127.0.0.1 - - [2022-06-03 05:07:01] \"POST /predict HTTP/1.1\" 200 160 0.420894\n"
     ]
    },
    {
     "name": "stdout",
     "output_type": "stream",
     "text": [
      "1/1 [==============================] - 0s 94ms/step\n"
     ]
    },
    {
     "name": "stderr",
     "output_type": "stream",
     "text": [
      "127.0.0.1 - - [2022-06-03 05:07:02] \"POST /predict HTTP/1.1\" 200 159 0.376978\n"
     ]
    },
    {
     "name": "stdout",
     "output_type": "stream",
     "text": [
      "1/1 [==============================] - 0s 83ms/step\n"
     ]
    },
    {
     "name": "stderr",
     "output_type": "stream",
     "text": [
      "127.0.0.1 - - [2022-06-03 05:07:02] \"POST /predict HTTP/1.1\" 200 159 0.364606\n"
     ]
    },
    {
     "name": "stdout",
     "output_type": "stream",
     "text": [
      "1/1 [==============================] - 0s 118ms/step\n"
     ]
    },
    {
     "name": "stderr",
     "output_type": "stream",
     "text": [
      "127.0.0.1 - - [2022-06-03 05:07:03] \"POST /predict HTTP/1.1\" 200 159 0.385222\n"
     ]
    },
    {
     "name": "stdout",
     "output_type": "stream",
     "text": [
      "1/1 [==============================] - 0s 83ms/step\n"
     ]
    },
    {
     "name": "stderr",
     "output_type": "stream",
     "text": [
      "127.0.0.1 - - [2022-06-03 05:07:03] \"POST /predict HTTP/1.1\" 200 159 0.453216\n"
     ]
    },
    {
     "name": "stdout",
     "output_type": "stream",
     "text": [
      "1/1 [==============================] - 0s 62ms/step\n"
     ]
    },
    {
     "name": "stderr",
     "output_type": "stream",
     "text": [
      "127.0.0.1 - - [2022-06-03 05:07:03] \"POST /predict HTTP/1.1\" 200 159 0.306228\n"
     ]
    },
    {
     "name": "stdout",
     "output_type": "stream",
     "text": [
      "1/1 [==============================] - 0s 66ms/step\n"
     ]
    },
    {
     "name": "stderr",
     "output_type": "stream",
     "text": [
      "127.0.0.1 - - [2022-06-03 05:07:04] \"POST /predict HTTP/1.1\" 200 159 0.295128\n"
     ]
    },
    {
     "name": "stdout",
     "output_type": "stream",
     "text": [
      "1/1 [==============================] - 0s 101ms/step\n"
     ]
    },
    {
     "name": "stderr",
     "output_type": "stream",
     "text": [
      "127.0.0.1 - - [2022-06-03 05:07:04] \"POST /predict HTTP/1.1\" 200 159 0.485125\n"
     ]
    },
    {
     "name": "stdout",
     "output_type": "stream",
     "text": [
      "1/1 [==============================] - 0s 62ms/step\n"
     ]
    },
    {
     "name": "stderr",
     "output_type": "stream",
     "text": [
      "127.0.0.1 - - [2022-06-03 05:07:04] \"POST /predict HTTP/1.1\" 200 159 0.201675\n"
     ]
    },
    {
     "name": "stdout",
     "output_type": "stream",
     "text": [
      "1/1 [==============================] - 0s 62ms/step\n"
     ]
    },
    {
     "name": "stderr",
     "output_type": "stream",
     "text": [
      "127.0.0.1 - - [2022-06-03 05:07:05] \"POST /predict HTTP/1.1\" 200 160 0.203123\n"
     ]
    },
    {
     "name": "stdout",
     "output_type": "stream",
     "text": [
      "1/1 [==============================] - 0s 82ms/step\n"
     ]
    },
    {
     "name": "stderr",
     "output_type": "stream",
     "text": [
      "127.0.0.1 - - [2022-06-03 05:07:05] \"POST /predict HTTP/1.1\" 200 159 0.218383\n"
     ]
    },
    {
     "name": "stdout",
     "output_type": "stream",
     "text": [
      "1/1 [==============================] - 0s 61ms/step\n"
     ]
    },
    {
     "name": "stderr",
     "output_type": "stream",
     "text": [
      "127.0.0.1 - - [2022-06-03 05:07:05] \"POST /predict HTTP/1.1\" 200 159 0.237918\n"
     ]
    },
    {
     "name": "stdout",
     "output_type": "stream",
     "text": [
      "1/1 [==============================] - 0s 63ms/step\n"
     ]
    },
    {
     "name": "stderr",
     "output_type": "stream",
     "text": [
      "127.0.0.1 - - [2022-06-03 05:07:05] \"POST /predict HTTP/1.1\" 200 159 0.234376\n"
     ]
    },
    {
     "name": "stdout",
     "output_type": "stream",
     "text": [
      "1/1 [==============================] - 0s 87ms/step\n"
     ]
    },
    {
     "name": "stderr",
     "output_type": "stream",
     "text": [
      "127.0.0.1 - - [2022-06-03 05:07:06] \"POST /predict HTTP/1.1\" 200 159 0.273112\n"
     ]
    },
    {
     "name": "stdout",
     "output_type": "stream",
     "text": [
      "1/1 [==============================] - 0s 58ms/step\n"
     ]
    },
    {
     "name": "stderr",
     "output_type": "stream",
     "text": [
      "127.0.0.1 - - [2022-06-03 05:07:06] \"POST /predict HTTP/1.1\" 200 159 0.230601\n"
     ]
    },
    {
     "name": "stdout",
     "output_type": "stream",
     "text": [
      "1/1 [==============================] - 0s 75ms/step\n"
     ]
    },
    {
     "name": "stderr",
     "output_type": "stream",
     "text": [
      "127.0.0.1 - - [2022-06-03 05:07:06] \"POST /predict HTTP/1.1\" 200 159 0.327966\n"
     ]
    },
    {
     "name": "stdout",
     "output_type": "stream",
     "text": [
      "1/1 [==============================] - 0s 110ms/step\n"
     ]
    },
    {
     "name": "stderr",
     "output_type": "stream",
     "text": [
      "127.0.0.1 - - [2022-06-03 05:07:07] \"POST /predict HTTP/1.1\" 200 159 0.455366\n"
     ]
    },
    {
     "name": "stdout",
     "output_type": "stream",
     "text": [
      "1/1 [==============================] - 0s 62ms/step\n"
     ]
    },
    {
     "name": "stderr",
     "output_type": "stream",
     "text": [
      "127.0.0.1 - - [2022-06-03 05:07:07] \"POST /predict HTTP/1.1\" 200 159 0.431322\n"
     ]
    },
    {
     "name": "stdout",
     "output_type": "stream",
     "text": [
      "1/1 [==============================] - 0s 88ms/step\n"
     ]
    },
    {
     "name": "stderr",
     "output_type": "stream",
     "text": [
      "127.0.0.1 - - [2022-06-03 05:07:08] \"POST /predict HTTP/1.1\" 200 159 0.314334\n"
     ]
    },
    {
     "name": "stdout",
     "output_type": "stream",
     "text": [
      "1/1 [==============================] - 0s 95ms/step\n"
     ]
    },
    {
     "name": "stderr",
     "output_type": "stream",
     "text": [
      "127.0.0.1 - - [2022-06-03 05:07:08] \"POST /predict HTTP/1.1\" 200 159 0.269261\n"
     ]
    },
    {
     "name": "stdout",
     "output_type": "stream",
     "text": [
      "1/1 [==============================] - 0s 78ms/step\n"
     ]
    },
    {
     "name": "stderr",
     "output_type": "stream",
     "text": [
      "127.0.0.1 - - [2022-06-03 05:07:08] \"POST /predict HTTP/1.1\" 200 159 0.304852\n"
     ]
    },
    {
     "name": "stdout",
     "output_type": "stream",
     "text": [
      "1/1 [==============================] - 0s 78ms/step\n"
     ]
    },
    {
     "name": "stderr",
     "output_type": "stream",
     "text": [
      "127.0.0.1 - - [2022-06-03 05:07:09] \"POST /predict HTTP/1.1\" 200 159 0.456780\n"
     ]
    },
    {
     "name": "stdout",
     "output_type": "stream",
     "text": [
      "1/1 [==============================] - 0s 94ms/step\n"
     ]
    },
    {
     "name": "stderr",
     "output_type": "stream",
     "text": [
      "127.0.0.1 - - [2022-06-03 05:07:09] \"POST /predict HTTP/1.1\" 200 159 0.374995\n"
     ]
    },
    {
     "name": "stdout",
     "output_type": "stream",
     "text": [
      "1/1 [==============================] - 0s 62ms/step\n"
     ]
    },
    {
     "name": "stderr",
     "output_type": "stream",
     "text": [
      "127.0.0.1 - - [2022-06-03 05:07:10] \"POST /predict HTTP/1.1\" 200 159 0.237934\n"
     ]
    },
    {
     "name": "stdout",
     "output_type": "stream",
     "text": [
      "1/1 [==============================] - 0s 78ms/step\n"
     ]
    },
    {
     "name": "stderr",
     "output_type": "stream",
     "text": [
      "127.0.0.1 - - [2022-06-03 05:07:10] \"POST /predict HTTP/1.1\" 200 159 0.260116\n",
      "127.0.0.1 - - [2022-06-03 05:07:10] \"POST /predict HTTP/1.1\" 200 153 0.015628\n",
      "127.0.0.1 - - [2022-06-03 05:07:10] \"POST /predict HTTP/1.1\" 200 153 0.000000\n",
      "127.0.0.1 - - [2022-06-03 05:07:10] \"POST /predict HTTP/1.1\" 200 153 0.000000\n",
      "127.0.0.1 - - [2022-06-03 05:07:10] \"POST /predict HTTP/1.1\" 200 153 0.000000\n",
      "127.0.0.1 - - [2022-06-03 05:07:10] \"POST /predict HTTP/1.1\" 200 153 0.000000\n",
      "127.0.0.1 - - [2022-06-03 05:07:10] \"POST /predict HTTP/1.1\" 200 153 0.015620\n",
      "127.0.0.1 - - [2022-06-03 05:07:10] \"POST /predict HTTP/1.1\" 200 153 0.000000\n",
      "127.0.0.1 - - [2022-06-03 05:07:10] \"POST /predict HTTP/1.1\" 200 153 0.000000\n",
      "127.0.0.1 - - [2022-06-03 05:07:10] \"POST /predict HTTP/1.1\" 200 153 0.000000\n",
      "127.0.0.1 - - [2022-06-03 05:07:10] \"POST /predict HTTP/1.1\" 200 153 0.000000\n"
     ]
    },
    {
     "name": "stdout",
     "output_type": "stream",
     "text": [
      "1/1 [==============================] - 0s 63ms/step\n"
     ]
    },
    {
     "name": "stderr",
     "output_type": "stream",
     "text": [
      "127.0.0.1 - - [2022-06-03 05:07:11] \"POST /predict HTTP/1.1\" 200 159 0.640625\n"
     ]
    },
    {
     "name": "stdout",
     "output_type": "stream",
     "text": [
      "1/1 [==============================] - 0s 94ms/step\n"
     ]
    },
    {
     "name": "stderr",
     "output_type": "stream",
     "text": [
      "127.0.0.1 - - [2022-06-03 05:07:11] \"POST /predict HTTP/1.1\" 200 159 0.374985\n"
     ]
    },
    {
     "name": "stdout",
     "output_type": "stream",
     "text": [
      "1/1 [==============================] - 0s 62ms/step\n"
     ]
    },
    {
     "name": "stderr",
     "output_type": "stream",
     "text": [
      "127.0.0.1 - - [2022-06-03 05:07:11] \"POST /predict HTTP/1.1\" 200 159 0.320150\n"
     ]
    },
    {
     "name": "stdout",
     "output_type": "stream",
     "text": [
      "1/1 [==============================] - 0s 62ms/step\n"
     ]
    },
    {
     "name": "stderr",
     "output_type": "stream",
     "text": [
      "127.0.0.1 - - [2022-06-03 05:07:12] \"POST /predict HTTP/1.1\" 200 159 0.250002\n"
     ]
    },
    {
     "name": "stdout",
     "output_type": "stream",
     "text": [
      "1/1 [==============================] - 0s 104ms/step\n"
     ]
    },
    {
     "name": "stderr",
     "output_type": "stream",
     "text": [
      "127.0.0.1 - - [2022-06-03 05:07:12] \"POST /predict HTTP/1.1\" 200 159 0.260192\n"
     ]
    },
    {
     "name": "stdout",
     "output_type": "stream",
     "text": [
      "1/1 [==============================] - 0s 62ms/step\n"
     ]
    },
    {
     "name": "stderr",
     "output_type": "stream",
     "text": [
      "127.0.0.1 - - [2022-06-03 05:07:12] \"POST /predict HTTP/1.1\" 200 159 0.266479\n"
     ]
    },
    {
     "name": "stdout",
     "output_type": "stream",
     "text": [
      "1/1 [==============================] - 0s 78ms/step\n"
     ]
    },
    {
     "name": "stderr",
     "output_type": "stream",
     "text": [
      "127.0.0.1 - - [2022-06-03 05:07:13] \"POST /predict HTTP/1.1\" 200 159 0.257255\n"
     ]
    },
    {
     "name": "stdout",
     "output_type": "stream",
     "text": [
      "1/1 [==============================] - 0s 63ms/step\n"
     ]
    },
    {
     "name": "stderr",
     "output_type": "stream",
     "text": [
      "127.0.0.1 - - [2022-06-03 05:07:13] \"POST /predict HTTP/1.1\" 200 159 0.265630\n"
     ]
    },
    {
     "name": "stdout",
     "output_type": "stream",
     "text": [
      "1/1 [==============================] - 0s 62ms/step\n"
     ]
    },
    {
     "name": "stderr",
     "output_type": "stream",
     "text": [
      "127.0.0.1 - - [2022-06-03 05:07:13] \"POST /predict HTTP/1.1\" 200 159 0.390605\n"
     ]
    },
    {
     "name": "stdout",
     "output_type": "stream",
     "text": [
      "1/1 [==============================] - 0s 47ms/step\n"
     ]
    },
    {
     "name": "stderr",
     "output_type": "stream",
     "text": [
      "127.0.0.1 - - [2022-06-03 05:07:14] \"POST /predict HTTP/1.1\" 200 159 0.218745\n"
     ]
    },
    {
     "name": "stdout",
     "output_type": "stream",
     "text": [
      "1/1 [==============================] - 0s 47ms/step\n"
     ]
    },
    {
     "name": "stderr",
     "output_type": "stream",
     "text": [
      "127.0.0.1 - - [2022-06-03 05:07:14] \"POST /predict HTTP/1.1\" 200 159 0.296872\n"
     ]
    },
    {
     "name": "stdout",
     "output_type": "stream",
     "text": [
      "1/1 [==============================] - 0s 78ms/step\n"
     ]
    },
    {
     "name": "stderr",
     "output_type": "stream",
     "text": [
      "127.0.0.1 - - [2022-06-03 05:07:14] \"POST /predict HTTP/1.1\" 200 159 0.296882\n"
     ]
    },
    {
     "name": "stdout",
     "output_type": "stream",
     "text": [
      "1/1 [==============================] - 0s 78ms/step\n"
     ]
    },
    {
     "name": "stderr",
     "output_type": "stream",
     "text": [
      "127.0.0.1 - - [2022-06-03 05:07:15] \"POST /predict HTTP/1.1\" 200 159 0.281250\n"
     ]
    },
    {
     "name": "stdout",
     "output_type": "stream",
     "text": [
      "1/1 [==============================] - 0s 78ms/step\n"
     ]
    },
    {
     "name": "stderr",
     "output_type": "stream",
     "text": [
      "127.0.0.1 - - [2022-06-03 05:07:15] \"POST /predict HTTP/1.1\" 200 159 0.312499\n"
     ]
    },
    {
     "name": "stdout",
     "output_type": "stream",
     "text": [
      "1/1 [==============================] - 0s 78ms/step\n"
     ]
    },
    {
     "name": "stderr",
     "output_type": "stream",
     "text": [
      "127.0.0.1 - - [2022-06-03 05:07:15] \"POST /predict HTTP/1.1\" 200 159 0.296873\n"
     ]
    },
    {
     "name": "stdout",
     "output_type": "stream",
     "text": [
      "1/1 [==============================] - 0s 78ms/step\n"
     ]
    },
    {
     "name": "stderr",
     "output_type": "stream",
     "text": [
      "127.0.0.1 - - [2022-06-03 05:07:16] \"POST /predict HTTP/1.1\" 200 159 0.265625\n"
     ]
    },
    {
     "name": "stdout",
     "output_type": "stream",
     "text": [
      "1/1 [==============================] - 0s 78ms/step\n"
     ]
    },
    {
     "name": "stderr",
     "output_type": "stream",
     "text": [
      "127.0.0.1 - - [2022-06-03 05:07:16] \"POST /predict HTTP/1.1\" 200 159 0.250003\n"
     ]
    },
    {
     "name": "stdout",
     "output_type": "stream",
     "text": [
      "1/1 [==============================] - 0s 78ms/step\n"
     ]
    },
    {
     "name": "stderr",
     "output_type": "stream",
     "text": [
      "127.0.0.1 - - [2022-06-03 05:07:16] \"POST /predict HTTP/1.1\" 200 159 0.250002\n"
     ]
    },
    {
     "name": "stdout",
     "output_type": "stream",
     "text": [
      "1/1 [==============================] - 0s 78ms/step\n"
     ]
    },
    {
     "name": "stderr",
     "output_type": "stream",
     "text": [
      "127.0.0.1 - - [2022-06-03 05:07:16] \"POST /predict HTTP/1.1\" 200 159 0.234366\n"
     ]
    },
    {
     "name": "stdout",
     "output_type": "stream",
     "text": [
      "1/1 [==============================] - 0s 62ms/step\n"
     ]
    },
    {
     "name": "stderr",
     "output_type": "stream",
     "text": [
      "127.0.0.1 - - [2022-06-03 05:07:17] \"POST /predict HTTP/1.1\" 200 159 0.234377\n"
     ]
    },
    {
     "name": "stdout",
     "output_type": "stream",
     "text": [
      "1/1 [==============================] - 0s 78ms/step\n"
     ]
    },
    {
     "name": "stderr",
     "output_type": "stream",
     "text": [
      "127.0.0.1 - - [2022-06-03 05:07:17] \"POST /predict HTTP/1.1\" 200 159 0.250000\n"
     ]
    },
    {
     "name": "stdout",
     "output_type": "stream",
     "text": [
      "1/1 [==============================] - 0s 78ms/step\n"
     ]
    },
    {
     "name": "stderr",
     "output_type": "stream",
     "text": [
      "127.0.0.1 - - [2022-06-03 05:07:17] \"POST /predict HTTP/1.1\" 200 159 0.343760\n",
      "127.0.0.1 - - [2022-06-03 05:07:17] \"POST /predict HTTP/1.1\" 200 153 0.000000\n",
      "127.0.0.1 - - [2022-06-03 05:07:17] \"POST /predict HTTP/1.1\" 200 153 0.000000\n"
     ]
    },
    {
     "name": "stdout",
     "output_type": "stream",
     "text": [
      "1/1 [==============================] - 0s 78ms/step\n"
     ]
    },
    {
     "name": "stderr",
     "output_type": "stream",
     "text": [
      "127.0.0.1 - - [2022-06-03 05:07:18] \"POST /predict HTTP/1.1\" 200 160 0.388090\n"
     ]
    },
    {
     "name": "stdout",
     "output_type": "stream",
     "text": [
      "1/1 [==============================] - 0s 62ms/step\n"
     ]
    },
    {
     "name": "stderr",
     "output_type": "stream",
     "text": [
      "127.0.0.1 - - [2022-06-03 05:07:18] \"POST /predict HTTP/1.1\" 200 160 0.218753\n",
      "127.0.0.1 - - [2022-06-03 05:07:18] \"POST /predict HTTP/1.1\" 200 153 0.000000\n",
      "127.0.0.1 - - [2022-06-03 05:07:18] \"POST /predict HTTP/1.1\" 200 153 0.000000\n",
      "127.0.0.1 - - [2022-06-03 05:07:18] \"POST /predict HTTP/1.1\" 200 153 0.012773\n",
      "127.0.0.1 - - [2022-06-03 05:07:18] \"POST /predict HTTP/1.1\" 200 153 0.015626\n",
      "127.0.0.1 - - [2022-06-03 05:07:18] \"POST /predict HTTP/1.1\" 200 153 0.000000\n"
     ]
    },
    {
     "name": "stdout",
     "output_type": "stream",
     "text": [
      "1/1 [==============================] - 0s 78ms/step\n"
     ]
    },
    {
     "name": "stderr",
     "output_type": "stream",
     "text": [
      "127.0.0.1 - - [2022-06-03 05:07:19] \"POST /predict HTTP/1.1\" 200 160 0.250005\n"
     ]
    },
    {
     "name": "stdout",
     "output_type": "stream",
     "text": [
      "1/1 [==============================] - 0s 63ms/step\n"
     ]
    },
    {
     "name": "stderr",
     "output_type": "stream",
     "text": [
      "127.0.0.1 - - [2022-06-03 05:07:20] \"POST /predict HTTP/1.1\" 200 160 1.498315\n"
     ]
    },
    {
     "name": "stdout",
     "output_type": "stream",
     "text": [
      "1/1 [==============================] - 0s 47ms/step\n"
     ]
    },
    {
     "name": "stderr",
     "output_type": "stream",
     "text": [
      "127.0.0.1 - - [2022-06-03 05:07:20] \"POST /predict HTTP/1.1\" 200 160 0.218750\n"
     ]
    },
    {
     "name": "stdout",
     "output_type": "stream",
     "text": [
      "1/1 [==============================] - 0s 62ms/step\n"
     ]
    },
    {
     "name": "stderr",
     "output_type": "stream",
     "text": [
      "127.0.0.1 - - [2022-06-03 05:07:21] \"POST /predict HTTP/1.1\" 200 160 0.234378\n",
      "127.0.0.1 - - [2022-06-03 05:07:21] \"POST /predict HTTP/1.1\" 200 153 0.000000\n"
     ]
    },
    {
     "name": "stdout",
     "output_type": "stream",
     "text": [
      "1/1 [==============================] - 0s 62ms/step\n"
     ]
    },
    {
     "name": "stderr",
     "output_type": "stream",
     "text": [
      "127.0.0.1 - - [2022-06-03 05:07:21] \"POST /predict HTTP/1.1\" 200 159 0.250005\n",
      "127.0.0.1 - - [2022-06-03 05:07:21] \"POST /predict HTTP/1.1\" 200 153 0.000000\n",
      "127.0.0.1 - - [2022-06-03 05:07:21] \"POST /predict HTTP/1.1\" 200 153 0.015622\n"
     ]
    },
    {
     "name": "stdout",
     "output_type": "stream",
     "text": [
      "1/1 [==============================] - 0s 69ms/step\n"
     ]
    },
    {
     "name": "stderr",
     "output_type": "stream",
     "text": [
      "127.0.0.1 - - [2022-06-03 05:07:21] \"POST /predict HTTP/1.1\" 200 160 0.240782\n"
     ]
    },
    {
     "name": "stdout",
     "output_type": "stream",
     "text": [
      "1/1 [==============================] - 0s 78ms/step\n"
     ]
    },
    {
     "name": "stderr",
     "output_type": "stream",
     "text": [
      "127.0.0.1 - - [2022-06-03 05:07:22] \"POST /predict HTTP/1.1\" 200 160 0.250000\n"
     ]
    },
    {
     "name": "stdout",
     "output_type": "stream",
     "text": [
      "1/1 [==============================] - 0s 78ms/step\n"
     ]
    },
    {
     "name": "stderr",
     "output_type": "stream",
     "text": [
      "127.0.0.1 - - [2022-06-03 05:07:22] \"POST /predict HTTP/1.1\" 200 160 0.234373\n",
      "127.0.0.1 - - [2022-06-03 05:07:22] \"POST /predict HTTP/1.1\" 200 153 0.000000\n"
     ]
    },
    {
     "name": "stdout",
     "output_type": "stream",
     "text": [
      "1/1 [==============================] - 0s 94ms/step\n"
     ]
    },
    {
     "name": "stderr",
     "output_type": "stream",
     "text": [
      "127.0.0.1 - - [2022-06-03 05:07:22] \"POST /predict HTTP/1.1\" 200 160 0.296873\n"
     ]
    },
    {
     "name": "stdout",
     "output_type": "stream",
     "text": [
      "1/1 [==============================] - 0s 94ms/step\n"
     ]
    },
    {
     "name": "stderr",
     "output_type": "stream",
     "text": [
      "127.0.0.1 - - [2022-06-03 05:07:22] \"POST /predict HTTP/1.1\" 200 160 0.250003\n"
     ]
    },
    {
     "name": "stdout",
     "output_type": "stream",
     "text": [
      "1/1 [==============================] - 0s 78ms/step\n"
     ]
    },
    {
     "name": "stderr",
     "output_type": "stream",
     "text": [
      "127.0.0.1 - - [2022-06-03 05:07:23] \"POST /predict HTTP/1.1\" 200 160 0.249992\n"
     ]
    },
    {
     "name": "stdout",
     "output_type": "stream",
     "text": [
      "1/1 [==============================] - 0s 78ms/step\n"
     ]
    },
    {
     "name": "stderr",
     "output_type": "stream",
     "text": [
      "127.0.0.1 - - [2022-06-03 05:07:23] \"POST /predict HTTP/1.1\" 200 160 0.249997\n"
     ]
    },
    {
     "name": "stdout",
     "output_type": "stream",
     "text": [
      "1/1 [==============================] - 0s 62ms/step\n"
     ]
    },
    {
     "name": "stderr",
     "output_type": "stream",
     "text": [
      "127.0.0.1 - - [2022-06-03 05:07:23] \"POST /predict HTTP/1.1\" 200 160 0.250005\n"
     ]
    },
    {
     "name": "stdout",
     "output_type": "stream",
     "text": [
      "1/1 [==============================] - 0s 78ms/step\n"
     ]
    },
    {
     "name": "stderr",
     "output_type": "stream",
     "text": [
      "127.0.0.1 - - [2022-06-03 05:07:24] \"POST /predict HTTP/1.1\" 200 160 0.249997\n"
     ]
    },
    {
     "name": "stdout",
     "output_type": "stream",
     "text": [
      "1/1 [==============================] - 0s 78ms/step\n"
     ]
    },
    {
     "name": "stderr",
     "output_type": "stream",
     "text": [
      "127.0.0.1 - - [2022-06-03 05:07:24] \"POST /predict HTTP/1.1\" 200 160 0.265635\n"
     ]
    },
    {
     "name": "stdout",
     "output_type": "stream",
     "text": [
      "1/1 [==============================] - 0s 78ms/step\n"
     ]
    },
    {
     "name": "stderr",
     "output_type": "stream",
     "text": [
      "127.0.0.1 - - [2022-06-03 05:07:24] \"POST /predict HTTP/1.1\" 200 160 0.250002\n"
     ]
    },
    {
     "name": "stdout",
     "output_type": "stream",
     "text": [
      "1/1 [==============================] - 0s 78ms/step\n"
     ]
    },
    {
     "name": "stderr",
     "output_type": "stream",
     "text": [
      "127.0.0.1 - - [2022-06-03 05:07:25] \"POST /predict HTTP/1.1\" 200 160 0.328130\n"
     ]
    },
    {
     "name": "stdout",
     "output_type": "stream",
     "text": [
      "1/1 [==============================] - 0s 78ms/step\n"
     ]
    },
    {
     "name": "stderr",
     "output_type": "stream",
     "text": [
      "127.0.0.1 - - [2022-06-03 05:07:25] \"POST /predict HTTP/1.1\" 200 160 0.265631\n"
     ]
    },
    {
     "name": "stdout",
     "output_type": "stream",
     "text": [
      "1/1 [==============================] - 0s 87ms/step\n"
     ]
    },
    {
     "name": "stderr",
     "output_type": "stream",
     "text": [
      "127.0.0.1 - - [2022-06-03 05:07:25] \"POST /predict HTTP/1.1\" 200 160 0.289793\n"
     ]
    },
    {
     "name": "stdout",
     "output_type": "stream",
     "text": [
      "1/1 [==============================] - 0s 78ms/step\n"
     ]
    },
    {
     "name": "stderr",
     "output_type": "stream",
     "text": [
      "127.0.0.1 - - [2022-06-03 05:07:25] \"POST /predict HTTP/1.1\" 200 160 0.281245\n"
     ]
    },
    {
     "name": "stdout",
     "output_type": "stream",
     "text": [
      "1/1 [==============================] - 0s 78ms/step\n"
     ]
    },
    {
     "name": "stderr",
     "output_type": "stream",
     "text": [
      "127.0.0.1 - - [2022-06-03 05:07:26] \"POST /predict HTTP/1.1\" 200 160 0.343750\n"
     ]
    },
    {
     "name": "stdout",
     "output_type": "stream",
     "text": [
      "1/1 [==============================] - 0s 78ms/step\n"
     ]
    },
    {
     "name": "stderr",
     "output_type": "stream",
     "text": [
      "127.0.0.1 - - [2022-06-03 05:07:26] \"POST /predict HTTP/1.1\" 200 160 0.281252\n"
     ]
    },
    {
     "name": "stdout",
     "output_type": "stream",
     "text": [
      "1/1 [==============================] - 0s 62ms/step\n"
     ]
    },
    {
     "name": "stderr",
     "output_type": "stream",
     "text": [
      "127.0.0.1 - - [2022-06-03 05:07:26] \"POST /predict HTTP/1.1\" 200 160 0.218744\n",
      "127.0.0.1 - - [2022-06-03 05:07:26] \"POST /predict HTTP/1.1\" 200 153 0.000000\n"
     ]
    },
    {
     "name": "stdout",
     "output_type": "stream",
     "text": [
      "1/1 [==============================] - 0s 47ms/step\n"
     ]
    },
    {
     "name": "stderr",
     "output_type": "stream",
     "text": [
      "127.0.0.1 - - [2022-06-03 05:07:27] \"POST /predict HTTP/1.1\" 200 160 0.234377\n"
     ]
    },
    {
     "name": "stdout",
     "output_type": "stream",
     "text": [
      "1/1 [==============================] - 0s 47ms/step\n"
     ]
    },
    {
     "name": "stderr",
     "output_type": "stream",
     "text": [
      "127.0.0.1 - - [2022-06-03 05:07:27] \"POST /predict HTTP/1.1\" 200 160 0.218753\n"
     ]
    },
    {
     "name": "stdout",
     "output_type": "stream",
     "text": [
      "1/1 [==============================] - 0s 63ms/step\n"
     ]
    },
    {
     "name": "stderr",
     "output_type": "stream",
     "text": [
      "127.0.0.1 - - [2022-06-03 05:07:27] \"POST /predict HTTP/1.1\" 200 160 0.500010\n"
     ]
    },
    {
     "name": "stdout",
     "output_type": "stream",
     "text": [
      "1/1 [==============================] - 0s 47ms/step\n"
     ]
    },
    {
     "name": "stderr",
     "output_type": "stream",
     "text": [
      "127.0.0.1 - - [2022-06-03 05:07:28] \"POST /predict HTTP/1.1\" 200 160 0.203114\n"
     ]
    },
    {
     "name": "stdout",
     "output_type": "stream",
     "text": [
      "1/1 [==============================] - 0s 62ms/step\n"
     ]
    },
    {
     "name": "stderr",
     "output_type": "stream",
     "text": [
      "127.0.0.1 - - [2022-06-03 05:07:28] \"POST /predict HTTP/1.1\" 200 160 0.187494\n"
     ]
    },
    {
     "name": "stdout",
     "output_type": "stream",
     "text": [
      "1/1 [==============================] - 0s 62ms/step\n"
     ]
    },
    {
     "name": "stderr",
     "output_type": "stream",
     "text": [
      "127.0.0.1 - - [2022-06-03 05:07:28] \"POST /predict HTTP/1.1\" 200 160 0.250005\n"
     ]
    },
    {
     "name": "stdout",
     "output_type": "stream",
     "text": [
      "1/1 [==============================] - 0s 69ms/step\n"
     ]
    },
    {
     "name": "stderr",
     "output_type": "stream",
     "text": [
      "127.0.0.1 - - [2022-06-03 05:07:29] \"POST /predict HTTP/1.1\" 200 160 0.389793\n"
     ]
    },
    {
     "name": "stdout",
     "output_type": "stream",
     "text": [
      "1/1 [==============================] - 0s 62ms/step\n"
     ]
    },
    {
     "name": "stderr",
     "output_type": "stream",
     "text": [
      "127.0.0.1 - - [2022-06-03 05:07:29] \"POST /predict HTTP/1.1\" 200 160 0.406258\n"
     ]
    },
    {
     "name": "stdout",
     "output_type": "stream",
     "text": [
      "1/1 [==============================] - 0s 78ms/step\n"
     ]
    },
    {
     "name": "stderr",
     "output_type": "stream",
     "text": [
      "127.0.0.1 - - [2022-06-03 05:07:29] \"POST /predict HTTP/1.1\" 200 160 0.265634\n"
     ]
    },
    {
     "name": "stdout",
     "output_type": "stream",
     "text": [
      "1/1 [==============================] - 0s 78ms/step\n"
     ]
    },
    {
     "name": "stderr",
     "output_type": "stream",
     "text": [
      "127.0.0.1 - - [2022-06-03 05:07:30] \"POST /predict HTTP/1.1\" 200 159 0.265629\n"
     ]
    },
    {
     "name": "stdout",
     "output_type": "stream",
     "text": [
      "1/1 [==============================] - 0s 125ms/step\n"
     ]
    },
    {
     "name": "stderr",
     "output_type": "stream",
     "text": [
      "127.0.0.1 - - [2022-06-03 05:07:30] \"POST /predict HTTP/1.1\" 200 160 0.765128\n"
     ]
    },
    {
     "name": "stdout",
     "output_type": "stream",
     "text": [
      "1/1 [==============================] - 0s 94ms/step\n"
     ]
    },
    {
     "name": "stderr",
     "output_type": "stream",
     "text": [
      "127.0.0.1 - - [2022-06-03 05:07:31] \"POST /predict HTTP/1.1\" 200 159 0.484149\n"
     ]
    },
    {
     "name": "stdout",
     "output_type": "stream",
     "text": [
      "1/1 [==============================] - 0s 89ms/step\n"
     ]
    },
    {
     "name": "stderr",
     "output_type": "stream",
     "text": [
      "127.0.0.1 - - [2022-06-03 05:07:31] \"POST /predict HTTP/1.1\" 200 160 0.417847\n"
     ]
    },
    {
     "name": "stdout",
     "output_type": "stream",
     "text": [
      "1/1 [==============================] - 0s 78ms/step\n"
     ]
    },
    {
     "name": "stderr",
     "output_type": "stream",
     "text": [
      "127.0.0.1 - - [2022-06-03 05:07:32] \"POST /predict HTTP/1.1\" 200 160 0.397688\n"
     ]
    },
    {
     "name": "stdout",
     "output_type": "stream",
     "text": [
      "1/1 [==============================] - 0s 62ms/step\n"
     ]
    },
    {
     "name": "stderr",
     "output_type": "stream",
     "text": [
      "127.0.0.1 - - [2022-06-03 05:07:32] \"POST /predict HTTP/1.1\" 200 160 0.281251\n"
     ]
    },
    {
     "name": "stdout",
     "output_type": "stream",
     "text": [
      "1/1 [==============================] - 0s 78ms/step\n"
     ]
    },
    {
     "name": "stderr",
     "output_type": "stream",
     "text": [
      "127.0.0.1 - - [2022-06-03 05:07:33] \"POST /predict HTTP/1.1\" 200 159 0.389245\n"
     ]
    },
    {
     "name": "stdout",
     "output_type": "stream",
     "text": [
      "1/1 [==============================] - 0s 80ms/step\n"
     ]
    },
    {
     "name": "stderr",
     "output_type": "stream",
     "text": [
      "127.0.0.1 - - [2022-06-03 05:07:33] \"POST /predict HTTP/1.1\" 200 160 0.350077\n"
     ]
    },
    {
     "name": "stdout",
     "output_type": "stream",
     "text": [
      "1/1 [==============================] - 0s 78ms/step\n"
     ]
    },
    {
     "name": "stderr",
     "output_type": "stream",
     "text": [
      "127.0.0.1 - - [2022-06-03 05:07:33] \"POST /predict HTTP/1.1\" 200 160 0.296877\n"
     ]
    },
    {
     "name": "stdout",
     "output_type": "stream",
     "text": [
      "1/1 [==============================] - 0s 78ms/step\n"
     ]
    },
    {
     "name": "stderr",
     "output_type": "stream",
     "text": [
      "127.0.0.1 - - [2022-06-03 05:07:34] \"POST /predict HTTP/1.1\" 200 160 0.312505\n"
     ]
    },
    {
     "name": "stdout",
     "output_type": "stream",
     "text": [
      "1/1 [==============================] - 0s 91ms/step\n"
     ]
    },
    {
     "name": "stderr",
     "output_type": "stream",
     "text": [
      "127.0.0.1 - - [2022-06-03 05:07:34] \"POST /predict HTTP/1.1\" 200 160 0.300161\n"
     ]
    },
    {
     "name": "stdout",
     "output_type": "stream",
     "text": [
      "1/1 [==============================] - 0s 62ms/step\n"
     ]
    },
    {
     "name": "stderr",
     "output_type": "stream",
     "text": [
      "127.0.0.1 - - [2022-06-03 05:07:35] \"POST /predict HTTP/1.1\" 200 160 0.722452\n"
     ]
    },
    {
     "name": "stdout",
     "output_type": "stream",
     "text": [
      "1/1 [==============================] - 0s 62ms/step\n"
     ]
    },
    {
     "name": "stderr",
     "output_type": "stream",
     "text": [
      "127.0.0.1 - - [2022-06-03 05:07:35] \"POST /predict HTTP/1.1\" 200 160 0.182033\n"
     ]
    },
    {
     "name": "stdout",
     "output_type": "stream",
     "text": [
      "1/1 [==============================] - 0s 47ms/step\n"
     ]
    },
    {
     "name": "stderr",
     "output_type": "stream",
     "text": [
      "127.0.0.1 - - [2022-06-03 05:07:35] \"POST /predict HTTP/1.1\" 200 160 0.171863\n"
     ]
    },
    {
     "name": "stdout",
     "output_type": "stream",
     "text": [
      "1/1 [==============================] - 0s 47ms/step\n"
     ]
    },
    {
     "name": "stderr",
     "output_type": "stream",
     "text": [
      "127.0.0.1 - - [2022-06-03 05:07:35] \"POST /predict HTTP/1.1\" 200 159 0.218754\n"
     ]
    },
    {
     "name": "stdout",
     "output_type": "stream",
     "text": [
      "1/1 [==============================] - 0s 47ms/step\n"
     ]
    },
    {
     "name": "stderr",
     "output_type": "stream",
     "text": [
      "127.0.0.1 - - [2022-06-03 05:07:36] \"POST /predict HTTP/1.1\" 200 160 0.171875\n"
     ]
    },
    {
     "name": "stdout",
     "output_type": "stream",
     "text": [
      "1/1 [==============================] - 0s 62ms/step\n"
     ]
    },
    {
     "name": "stderr",
     "output_type": "stream",
     "text": [
      "127.0.0.1 - - [2022-06-03 05:07:36] \"POST /predict HTTP/1.1\" 200 160 0.187498\n"
     ]
    },
    {
     "name": "stdout",
     "output_type": "stream",
     "text": [
      "1/1 [==============================] - 0s 63ms/step\n"
     ]
    },
    {
     "name": "stderr",
     "output_type": "stream",
     "text": [
      "127.0.0.1 - - [2022-06-03 05:07:36] \"POST /predict HTTP/1.1\" 200 160 0.203125\n"
     ]
    },
    {
     "name": "stdout",
     "output_type": "stream",
     "text": [
      "1/1 [==============================] - 0s 78ms/step\n"
     ]
    },
    {
     "name": "stderr",
     "output_type": "stream",
     "text": [
      "127.0.0.1 - - [2022-06-03 05:07:37] \"POST /predict HTTP/1.1\" 200 160 0.671886\n"
     ]
    },
    {
     "name": "stdout",
     "output_type": "stream",
     "text": [
      "1/1 [==============================] - 0s 78ms/step\n"
     ]
    },
    {
     "name": "stderr",
     "output_type": "stream",
     "text": [
      "127.0.0.1 - - [2022-06-03 05:07:37] \"POST /predict HTTP/1.1\" 200 160 0.312500\n"
     ]
    },
    {
     "name": "stdout",
     "output_type": "stream",
     "text": [
      "1/1 [==============================] - 0s 78ms/step\n"
     ]
    },
    {
     "name": "stderr",
     "output_type": "stream",
     "text": [
      "127.0.0.1 - - [2022-06-03 05:07:37] \"POST /predict HTTP/1.1\" 200 160 0.218747\n"
     ]
    },
    {
     "name": "stdout",
     "output_type": "stream",
     "text": [
      "1/1 [==============================] - 0s 94ms/step\n"
     ]
    },
    {
     "name": "stderr",
     "output_type": "stream",
     "text": [
      "127.0.0.1 - - [2022-06-03 05:07:38] \"POST /predict HTTP/1.1\" 200 159 0.328126\n"
     ]
    },
    {
     "name": "stdout",
     "output_type": "stream",
     "text": [
      "1/1 [==============================] - 0s 78ms/step\n"
     ]
    },
    {
     "name": "stderr",
     "output_type": "stream",
     "text": [
      "127.0.0.1 - - [2022-06-03 05:07:38] \"POST /predict HTTP/1.1\" 200 159 0.250001\n"
     ]
    },
    {
     "name": "stdout",
     "output_type": "stream",
     "text": [
      "1/1 [==============================] - 0s 78ms/step\n"
     ]
    },
    {
     "name": "stderr",
     "output_type": "stream",
     "text": [
      "127.0.0.1 - - [2022-06-03 05:07:38] \"POST /predict HTTP/1.1\" 200 159 0.218744\n"
     ]
    },
    {
     "name": "stdout",
     "output_type": "stream",
     "text": [
      "1/1 [==============================] - 0s 78ms/step\n"
     ]
    },
    {
     "name": "stderr",
     "output_type": "stream",
     "text": [
      "127.0.0.1 - - [2022-06-03 05:07:39] \"POST /predict HTTP/1.1\" 200 160 0.218750\n"
     ]
    },
    {
     "name": "stdout",
     "output_type": "stream",
     "text": [
      "1/1 [==============================] - 0s 62ms/step\n"
     ]
    },
    {
     "name": "stderr",
     "output_type": "stream",
     "text": [
      "127.0.0.1 - - [2022-06-03 05:07:39] \"POST /predict HTTP/1.1\" 200 160 0.273875\n",
      "127.0.0.1 - - [2022-06-03 05:07:39] \"POST /predict HTTP/1.1\" 200 153 0.000000\n"
     ]
    },
    {
     "name": "stdout",
     "output_type": "stream",
     "text": [
      "1/1 [==============================] - 0s 78ms/step\n"
     ]
    },
    {
     "name": "stderr",
     "output_type": "stream",
     "text": [
      "127.0.0.1 - - [2022-06-03 05:07:39] \"POST /predict HTTP/1.1\" 200 160 0.281259\n"
     ]
    },
    {
     "name": "stdout",
     "output_type": "stream",
     "text": [
      "1/1 [==============================] - 0s 78ms/step\n"
     ]
    },
    {
     "name": "stderr",
     "output_type": "stream",
     "text": [
      "127.0.0.1 - - [2022-06-03 05:07:40] \"POST /predict HTTP/1.1\" 200 159 0.281245\n"
     ]
    },
    {
     "name": "stdout",
     "output_type": "stream",
     "text": [
      "1/1 [==============================] - 0s 78ms/step\n"
     ]
    },
    {
     "name": "stderr",
     "output_type": "stream",
     "text": [
      "127.0.0.1 - - [2022-06-03 05:07:40] \"POST /predict HTTP/1.1\" 200 160 0.250005\n"
     ]
    },
    {
     "name": "stdout",
     "output_type": "stream",
     "text": [
      "1/1 [==============================] - 0s 94ms/step\n"
     ]
    },
    {
     "name": "stderr",
     "output_type": "stream",
     "text": [
      "127.0.0.1 - - [2022-06-03 05:07:40] \"POST /predict HTTP/1.1\" 200 160 0.328138\n"
     ]
    },
    {
     "name": "stdout",
     "output_type": "stream",
     "text": [
      "1/1 [==============================] - 0s 78ms/step\n"
     ]
    },
    {
     "name": "stderr",
     "output_type": "stream",
     "text": [
      "127.0.0.1 - - [2022-06-03 05:07:41] \"POST /predict HTTP/1.1\" 200 160 0.234383\n"
     ]
    },
    {
     "name": "stdout",
     "output_type": "stream",
     "text": [
      "1/1 [==============================] - 0s 62ms/step\n"
     ]
    },
    {
     "name": "stderr",
     "output_type": "stream",
     "text": [
      "127.0.0.1 - - [2022-06-03 05:07:41] \"POST /predict HTTP/1.1\" 200 160 0.249983\n"
     ]
    },
    {
     "name": "stdout",
     "output_type": "stream",
     "text": [
      "1/1 [==============================] - 0s 78ms/step\n"
     ]
    },
    {
     "name": "stderr",
     "output_type": "stream",
     "text": [
      "127.0.0.1 - - [2022-06-03 05:07:41] \"POST /predict HTTP/1.1\" 200 160 0.265624\n"
     ]
    },
    {
     "name": "stdout",
     "output_type": "stream",
     "text": [
      "1/1 [==============================] - 0s 47ms/step\n"
     ]
    },
    {
     "name": "stderr",
     "output_type": "stream",
     "text": [
      "127.0.0.1 - - [2022-06-03 05:07:41] \"POST /predict HTTP/1.1\" 200 160 0.249995\n"
     ]
    },
    {
     "name": "stdout",
     "output_type": "stream",
     "text": [
      "1/1 [==============================] - 0s 62ms/step\n"
     ]
    },
    {
     "name": "stderr",
     "output_type": "stream",
     "text": [
      "127.0.0.1 - - [2022-06-03 05:07:42] \"POST /predict HTTP/1.1\" 200 160 0.187500\n"
     ]
    },
    {
     "name": "stdout",
     "output_type": "stream",
     "text": [
      "1/1 [==============================] - 0s 47ms/step\n"
     ]
    },
    {
     "name": "stderr",
     "output_type": "stream",
     "text": [
      "127.0.0.1 - - [2022-06-03 05:07:42] \"POST /predict HTTP/1.1\" 200 160 0.187501\n"
     ]
    },
    {
     "name": "stdout",
     "output_type": "stream",
     "text": [
      "1/1 [==============================] - 0s 63ms/step\n"
     ]
    },
    {
     "name": "stderr",
     "output_type": "stream",
     "text": [
      "127.0.0.1 - - [2022-06-03 05:07:42] \"POST /predict HTTP/1.1\" 200 160 0.328138\n"
     ]
    },
    {
     "name": "stdout",
     "output_type": "stream",
     "text": [
      "1/1 [==============================] - 0s 63ms/step\n"
     ]
    },
    {
     "name": "stderr",
     "output_type": "stream",
     "text": [
      "127.0.0.1 - - [2022-06-03 05:07:43] \"POST /predict HTTP/1.1\" 200 160 0.203125\n"
     ]
    },
    {
     "name": "stdout",
     "output_type": "stream",
     "text": [
      "1/1 [==============================] - 0s 62ms/step\n"
     ]
    },
    {
     "name": "stderr",
     "output_type": "stream",
     "text": [
      "127.0.0.1 - - [2022-06-03 05:07:43] \"POST /predict HTTP/1.1\" 200 160 0.203125\n"
     ]
    },
    {
     "name": "stdout",
     "output_type": "stream",
     "text": [
      "1/1 [==============================] - 0s 62ms/step\n"
     ]
    },
    {
     "name": "stderr",
     "output_type": "stream",
     "text": [
      "127.0.0.1 - - [2022-06-03 05:07:43] \"POST /predict HTTP/1.1\" 200 160 0.171876\n"
     ]
    },
    {
     "name": "stdout",
     "output_type": "stream",
     "text": [
      "1/1 [==============================] - 0s 51ms/step\n"
     ]
    },
    {
     "name": "stderr",
     "output_type": "stream",
     "text": [
      "127.0.0.1 - - [2022-06-03 05:07:43] \"POST /predict HTTP/1.1\" 200 159 0.223920\n"
     ]
    },
    {
     "name": "stdout",
     "output_type": "stream",
     "text": [
      "1/1 [==============================] - 0s 63ms/step\n"
     ]
    },
    {
     "name": "stderr",
     "output_type": "stream",
     "text": [
      "127.0.0.1 - - [2022-06-03 05:07:43] \"POST /predict HTTP/1.1\" 200 160 0.203127\n"
     ]
    },
    {
     "name": "stdout",
     "output_type": "stream",
     "text": [
      "1/1 [==============================] - 0s 62ms/step\n"
     ]
    },
    {
     "name": "stderr",
     "output_type": "stream",
     "text": [
      "127.0.0.1 - - [2022-06-03 05:07:44] \"POST /predict HTTP/1.1\" 200 159 0.253571\n"
     ]
    },
    {
     "name": "stdout",
     "output_type": "stream",
     "text": [
      "1/1 [==============================] - 0s 62ms/step\n",
      "1/1 [==============================] - ETA: 0s"
     ]
    },
    {
     "name": "stderr",
     "output_type": "stream",
     "text": [
      "127.0.0.1 - - [2022-06-03 05:07:44] \"POST /predict HTTP/1.1\" 200 159 0.177640\n"
     ]
    },
    {
     "name": "stdout",
     "output_type": "stream",
     "text": [
      "\b\b\b\b\b\b\b\b\b\b\b\b\b\b\b\b\b\b\b\b\b\b\b\b\b\b\b\b\b\b\b\b\b\b\b\b\b\b\b\b\b\b\b\b\b\b\r",
      "1/1 [==============================] - 0s 47ms/step\n"
     ]
    },
    {
     "name": "stderr",
     "output_type": "stream",
     "text": [
      "127.0.0.1 - - [2022-06-03 05:07:44] \"POST /predict HTTP/1.1\" 200 160 0.187497\n"
     ]
    },
    {
     "name": "stdout",
     "output_type": "stream",
     "text": [
      "1/1 [==============================] - 0s 94ms/step\n"
     ]
    },
    {
     "name": "stderr",
     "output_type": "stream",
     "text": [
      "127.0.0.1 - - [2022-06-03 05:07:44] \"POST /predict HTTP/1.1\" 200 160 0.250004\n"
     ]
    },
    {
     "name": "stdout",
     "output_type": "stream",
     "text": [
      "1/1 [==============================] - 0s 94ms/step\n"
     ]
    },
    {
     "name": "stderr",
     "output_type": "stream",
     "text": [
      "127.0.0.1 - - [2022-06-03 05:07:45] \"POST /predict HTTP/1.1\" 200 159 0.218756\n"
     ]
    },
    {
     "name": "stdout",
     "output_type": "stream",
     "text": [
      "1/1 [==============================] - 0s 78ms/step\n"
     ]
    },
    {
     "name": "stderr",
     "output_type": "stream",
     "text": [
      "127.0.0.1 - - [2022-06-03 05:07:45] \"POST /predict HTTP/1.1\" 200 160 0.310130\n"
     ]
    },
    {
     "name": "stdout",
     "output_type": "stream",
     "text": [
      "1/1 [==============================] - 0s 102ms/step\n"
     ]
    },
    {
     "name": "stderr",
     "output_type": "stream",
     "text": [
      "127.0.0.1 - - [2022-06-03 05:07:45] \"POST /predict HTTP/1.1\" 200 159 0.338001\n"
     ]
    },
    {
     "name": "stdout",
     "output_type": "stream",
     "text": [
      "1/1 [==============================] - 0s 78ms/step\n"
     ]
    },
    {
     "name": "stderr",
     "output_type": "stream",
     "text": [
      "127.0.0.1 - - [2022-06-03 05:07:46] \"POST /predict HTTP/1.1\" 200 160 0.341250\n",
      "127.0.0.1 - - [2022-06-03 05:07:46] \"POST /predict HTTP/1.1\" 200 153 0.015614\n"
     ]
    },
    {
     "name": "stdout",
     "output_type": "stream",
     "text": [
      "1/1 [==============================] - 0s 78ms/step\n"
     ]
    },
    {
     "name": "stderr",
     "output_type": "stream",
     "text": [
      "127.0.0.1 - - [2022-06-03 05:07:46] \"POST /predict HTTP/1.1\" 200 160 0.412240\n",
      "127.0.0.1 - - [2022-06-03 05:07:46] \"POST /predict HTTP/1.1\" 200 153 0.015629\n"
     ]
    },
    {
     "name": "stdout",
     "output_type": "stream",
     "text": [
      "1/1 [==============================] - 0s 78ms/step\n"
     ]
    },
    {
     "name": "stderr",
     "output_type": "stream",
     "text": [
      "127.0.0.1 - - [2022-06-03 05:07:47] \"POST /predict HTTP/1.1\" 200 159 0.218747\n",
      "127.0.0.1 - - [2022-06-03 05:07:47] \"POST /predict HTTP/1.1\" 200 153 0.015626\n",
      "127.0.0.1 - - [2022-06-03 05:07:47] \"POST /predict HTTP/1.1\" 200 153 0.000000\n"
     ]
    },
    {
     "name": "stdout",
     "output_type": "stream",
     "text": [
      "1/1 [==============================] - 0s 94ms/step\n"
     ]
    },
    {
     "name": "stderr",
     "output_type": "stream",
     "text": [
      "127.0.0.1 - - [2022-06-03 05:07:47] \"POST /predict HTTP/1.1\" 200 160 0.296875\n",
      "127.0.0.1 - - [2022-06-03 05:07:47] \"POST /predict HTTP/1.1\" 200 153 0.000000\n",
      "127.0.0.1 - - [2022-06-03 05:07:47] \"POST /predict HTTP/1.1\" 200 153 0.000000\n",
      "127.0.0.1 - - [2022-06-03 05:07:47] \"POST /predict HTTP/1.1\" 200 153 0.000000\n",
      "127.0.0.1 - - [2022-06-03 05:07:47] \"POST /predict HTTP/1.1\" 200 153 0.000000\n"
     ]
    },
    {
     "name": "stdout",
     "output_type": "stream",
     "text": [
      "1/1 [==============================] - 0s 78ms/step\n"
     ]
    },
    {
     "name": "stderr",
     "output_type": "stream",
     "text": [
      "127.0.0.1 - - [2022-06-03 05:07:47] \"POST /predict HTTP/1.1\" 200 159 0.265624\n"
     ]
    },
    {
     "name": "stdout",
     "output_type": "stream",
     "text": [
      "1/1 [==============================] - 0s 78ms/step\n"
     ]
    },
    {
     "name": "stderr",
     "output_type": "stream",
     "text": [
      "127.0.0.1 - - [2022-06-03 05:07:48] \"POST /predict HTTP/1.1\" 200 160 0.375004\n"
     ]
    },
    {
     "name": "stdout",
     "output_type": "stream",
     "text": [
      "1/1 [==============================] - 0s 78ms/step\n"
     ]
    },
    {
     "name": "stderr",
     "output_type": "stream",
     "text": [
      "127.0.0.1 - - [2022-06-03 05:07:48] \"POST /predict HTTP/1.1\" 200 159 0.203133\n"
     ]
    },
    {
     "name": "stdout",
     "output_type": "stream",
     "text": [
      "1/1 [==============================] - 0s 78ms/step\n"
     ]
    },
    {
     "name": "stderr",
     "output_type": "stream",
     "text": [
      "127.0.0.1 - - [2022-06-03 05:07:48] \"POST /predict HTTP/1.1\" 200 160 0.332790\n"
     ]
    },
    {
     "name": "stdout",
     "output_type": "stream",
     "text": [
      "1/1 [==============================] - 0s 78ms/step\n"
     ]
    },
    {
     "name": "stderr",
     "output_type": "stream",
     "text": [
      "127.0.0.1 - - [2022-06-03 05:07:49] \"POST /predict HTTP/1.1\" 200 160 0.300144\n"
     ]
    },
    {
     "name": "stdout",
     "output_type": "stream",
     "text": [
      "1/1 [==============================] - 0s 78ms/step\n"
     ]
    },
    {
     "name": "stderr",
     "output_type": "stream",
     "text": [
      "127.0.0.1 - - [2022-06-03 05:07:49] \"POST /predict HTTP/1.1\" 200 160 0.265630\n"
     ]
    },
    {
     "name": "stdout",
     "output_type": "stream",
     "text": [
      "1/1 [==============================] - 0s 78ms/step\n"
     ]
    },
    {
     "name": "stderr",
     "output_type": "stream",
     "text": [
      "127.0.0.1 - - [2022-06-03 05:07:49] \"POST /predict HTTP/1.1\" 200 160 0.281254\n"
     ]
    },
    {
     "name": "stdout",
     "output_type": "stream",
     "text": [
      "1/1 [==============================] - 0s 78ms/step\n"
     ]
    },
    {
     "name": "stderr",
     "output_type": "stream",
     "text": [
      "127.0.0.1 - - [2022-06-03 05:07:50] \"POST /predict HTTP/1.1\" 200 160 0.390627\n"
     ]
    },
    {
     "name": "stdout",
     "output_type": "stream",
     "text": [
      "1/1 [==============================] - 0s 63ms/step\n"
     ]
    },
    {
     "name": "stderr",
     "output_type": "stream",
     "text": [
      "127.0.0.1 - - [2022-06-03 05:07:50] \"POST /predict HTTP/1.1\" 200 160 0.500005\n"
     ]
    },
    {
     "name": "stdout",
     "output_type": "stream",
     "text": [
      "1/1 [==============================] - 0s 62ms/step\n"
     ]
    },
    {
     "name": "stderr",
     "output_type": "stream",
     "text": [
      "127.0.0.1 - - [2022-06-03 05:07:51] \"POST /predict HTTP/1.1\" 200 160 0.203117\n"
     ]
    },
    {
     "name": "stdout",
     "output_type": "stream",
     "text": [
      "1/1 [==============================] - 0s 47ms/step\n"
     ]
    },
    {
     "name": "stderr",
     "output_type": "stream",
     "text": [
      "127.0.0.1 - - [2022-06-03 05:07:51] \"POST /predict HTTP/1.1\" 200 160 0.171877\n"
     ]
    },
    {
     "name": "stdout",
     "output_type": "stream",
     "text": [
      "1/1 [==============================] - 0s 62ms/step\n"
     ]
    },
    {
     "name": "stderr",
     "output_type": "stream",
     "text": [
      "127.0.0.1 - - [2022-06-03 05:07:51] \"POST /predict HTTP/1.1\" 200 160 0.390627\n",
      "127.0.0.1 - - [2022-06-03 05:07:51] \"POST /predict HTTP/1.1\" 200 153 0.015627\n"
     ]
    },
    {
     "name": "stdout",
     "output_type": "stream",
     "text": [
      "1/1 [==============================] - 0s 78ms/step\n"
     ]
    },
    {
     "name": "stderr",
     "output_type": "stream",
     "text": [
      "127.0.0.1 - - [2022-06-03 05:07:52] \"POST /predict HTTP/1.1\" 200 160 0.468751\n"
     ]
    },
    {
     "name": "stdout",
     "output_type": "stream",
     "text": [
      "1/1 [==============================] - 0s 78ms/step\n"
     ]
    },
    {
     "name": "stderr",
     "output_type": "stream",
     "text": [
      "127.0.0.1 - - [2022-06-03 05:07:52] \"POST /predict HTTP/1.1\" 200 159 0.234349\n"
     ]
    },
    {
     "name": "stdout",
     "output_type": "stream",
     "text": [
      "1/1 [==============================] - 0s 62ms/step\n"
     ]
    },
    {
     "name": "stderr",
     "output_type": "stream",
     "text": [
      "127.0.0.1 - - [2022-06-03 05:07:52] \"POST /predict HTTP/1.1\" 200 160 0.265625\n"
     ]
    },
    {
     "name": "stdout",
     "output_type": "stream",
     "text": [
      "1/1 [==============================] - 0s 78ms/step\n"
     ]
    },
    {
     "name": "stderr",
     "output_type": "stream",
     "text": [
      "127.0.0.1 - - [2022-06-03 05:07:53] \"POST /predict HTTP/1.1\" 200 159 0.218761\n"
     ]
    },
    {
     "name": "stdout",
     "output_type": "stream",
     "text": [
      "1/1 [==============================] - 0s 78ms/step\n"
     ]
    },
    {
     "name": "stderr",
     "output_type": "stream",
     "text": [
      "127.0.0.1 - - [2022-06-03 05:07:53] \"POST /predict HTTP/1.1\" 200 160 0.281245\n"
     ]
    },
    {
     "name": "stdout",
     "output_type": "stream",
     "text": [
      "1/1 [==============================] - 0s 78ms/step\n"
     ]
    },
    {
     "name": "stderr",
     "output_type": "stream",
     "text": [
      "127.0.0.1 - - [2022-06-03 05:07:53] \"POST /predict HTTP/1.1\" 200 160 0.468757\n"
     ]
    },
    {
     "name": "stdout",
     "output_type": "stream",
     "text": [
      "1/1 [==============================] - 0s 78ms/step\n"
     ]
    },
    {
     "name": "stderr",
     "output_type": "stream",
     "text": [
      "127.0.0.1 - - [2022-06-03 05:07:54] \"POST /predict HTTP/1.1\" 200 159 0.218759\n"
     ]
    },
    {
     "name": "stdout",
     "output_type": "stream",
     "text": [
      "1/1 [==============================] - 0s 62ms/step\n"
     ]
    },
    {
     "name": "stderr",
     "output_type": "stream",
     "text": [
      "127.0.0.1 - - [2022-06-03 05:07:54] \"POST /predict HTTP/1.1\" 200 160 0.265624\n"
     ]
    },
    {
     "name": "stdout",
     "output_type": "stream",
     "text": [
      "1/1 [==============================] - 0s 78ms/step\n"
     ]
    },
    {
     "name": "stderr",
     "output_type": "stream",
     "text": [
      "127.0.0.1 - - [2022-06-03 05:07:54] \"POST /predict HTTP/1.1\" 200 160 0.374999\n"
     ]
    },
    {
     "name": "stdout",
     "output_type": "stream",
     "text": [
      "1/1 [==============================] - 0s 78ms/step\n"
     ]
    },
    {
     "name": "stderr",
     "output_type": "stream",
     "text": [
      "127.0.0.1 - - [2022-06-03 05:07:55] \"POST /predict HTTP/1.1\" 200 160 0.234388\n",
      "127.0.0.1 - - [2022-06-03 05:07:55] \"POST /predict HTTP/1.1\" 200 153 0.000000\n"
     ]
    },
    {
     "name": "stdout",
     "output_type": "stream",
     "text": [
      "1/1 [==============================] - 0s 78ms/step\n"
     ]
    },
    {
     "name": "stderr",
     "output_type": "stream",
     "text": [
      "127.0.0.1 - - [2022-06-03 05:07:55] \"POST /predict HTTP/1.1\" 200 160 0.421887\n"
     ]
    },
    {
     "name": "stdout",
     "output_type": "stream",
     "text": [
      "1/1 [==============================] - 0s 78ms/step\n"
     ]
    },
    {
     "name": "stderr",
     "output_type": "stream",
     "text": [
      "127.0.0.1 - - [2022-06-03 05:07:55] \"POST /predict HTTP/1.1\" 200 159 0.250007\n"
     ]
    },
    {
     "name": "stdout",
     "output_type": "stream",
     "text": [
      "1/1 [==============================] - 0s 78ms/step\n"
     ]
    },
    {
     "name": "stderr",
     "output_type": "stream",
     "text": [
      "127.0.0.1 - - [2022-06-03 05:07:56] \"POST /predict HTTP/1.1\" 200 160 0.234375\n"
     ]
    },
    {
     "name": "stdout",
     "output_type": "stream",
     "text": [
      "1/1 [==============================] - 0s 78ms/step\n"
     ]
    },
    {
     "name": "stderr",
     "output_type": "stream",
     "text": [
      "127.0.0.1 - - [2022-06-03 05:07:56] \"POST /predict HTTP/1.1\" 200 160 0.281255\n"
     ]
    },
    {
     "name": "stdout",
     "output_type": "stream",
     "text": [
      "1/1 [==============================] - 0s 78ms/step\n"
     ]
    },
    {
     "name": "stderr",
     "output_type": "stream",
     "text": [
      "127.0.0.1 - - [2022-06-03 05:07:56] \"POST /predict HTTP/1.1\" 200 159 0.218765\n"
     ]
    },
    {
     "name": "stdout",
     "output_type": "stream",
     "text": [
      "1/1 [==============================] - 0s 78ms/step\n"
     ]
    },
    {
     "name": "stderr",
     "output_type": "stream",
     "text": [
      "127.0.0.1 - - [2022-06-03 05:07:57] \"POST /predict HTTP/1.1\" 200 160 0.296877\n"
     ]
    },
    {
     "name": "stdout",
     "output_type": "stream",
     "text": [
      "1/1 [==============================] - 0s 65ms/step\n"
     ]
    },
    {
     "name": "stderr",
     "output_type": "stream",
     "text": [
      "127.0.0.1 - - [2022-06-03 05:07:57] \"POST /predict HTTP/1.1\" 200 159 0.232125\n"
     ]
    },
    {
     "name": "stdout",
     "output_type": "stream",
     "text": [
      "1/1 [==============================] - 0s 78ms/step\n"
     ]
    },
    {
     "name": "stderr",
     "output_type": "stream",
     "text": [
      "127.0.0.1 - - [2022-06-03 05:07:57] \"POST /predict HTTP/1.1\" 200 160 0.242117\n"
     ]
    },
    {
     "name": "stdout",
     "output_type": "stream",
     "text": [
      "1/1 [==============================] - 0s 62ms/step\n"
     ]
    },
    {
     "name": "stderr",
     "output_type": "stream",
     "text": [
      "127.0.0.1 - - [2022-06-03 05:07:57] \"POST /predict HTTP/1.1\" 200 160 0.203122\n"
     ]
    },
    {
     "name": "stdout",
     "output_type": "stream",
     "text": [
      "1/1 [==============================] - 0s 47ms/step\n"
     ]
    },
    {
     "name": "stderr",
     "output_type": "stream",
     "text": [
      "127.0.0.1 - - [2022-06-03 05:07:57] \"POST /predict HTTP/1.1\" 200 159 0.171875\n"
     ]
    },
    {
     "name": "stdout",
     "output_type": "stream",
     "text": [
      "1/1 [==============================] - 0s 61ms/step\n"
     ]
    },
    {
     "name": "stderr",
     "output_type": "stream",
     "text": [
      "127.0.0.1 - - [2022-06-03 05:07:58] \"POST /predict HTTP/1.1\" 200 160 0.264322\n"
     ]
    },
    {
     "name": "stdout",
     "output_type": "stream",
     "text": [
      "1/1 [==============================] - 0s 47ms/step\n"
     ]
    },
    {
     "name": "stderr",
     "output_type": "stream",
     "text": [
      "127.0.0.1 - - [2022-06-03 05:07:58] \"POST /predict HTTP/1.1\" 200 160 0.265625\n"
     ]
    },
    {
     "name": "stdout",
     "output_type": "stream",
     "text": [
      "1/1 [==============================] - 0s 47ms/step\n"
     ]
    },
    {
     "name": "stderr",
     "output_type": "stream",
     "text": [
      "127.0.0.1 - - [2022-06-03 05:07:58] \"POST /predict HTTP/1.1\" 200 160 0.309841\n"
     ]
    },
    {
     "name": "stdout",
     "output_type": "stream",
     "text": [
      "1/1 [==============================] - 0s 62ms/step\n",
      "1/1 [==============================] - 0s 51ms/step\n"
     ]
    },
    {
     "name": "stderr",
     "output_type": "stream",
     "text": [
      "127.0.0.1 - - [2022-06-03 05:07:59] \"POST /predict HTTP/1.1\" 200 160 0.374995\n",
      "127.0.0.1 - - [2022-06-03 05:07:59] \"POST /predict HTTP/1.1\" 200 160 0.160432\n",
      "127.0.0.1 - - [2022-06-03 05:07:59] \"POST /predict HTTP/1.1\" 200 153 0.000000\n"
     ]
    },
    {
     "name": "stdout",
     "output_type": "stream",
     "text": [
      "1/1 [==============================] - 0s 94ms/step\n"
     ]
    },
    {
     "name": "stderr",
     "output_type": "stream",
     "text": [
      "127.0.0.1 - - [2022-06-03 05:07:59] \"POST /predict HTTP/1.1\" 200 160 0.421876\n"
     ]
    },
    {
     "name": "stdout",
     "output_type": "stream",
     "text": [
      "1/1 [==============================] - 0s 78ms/step\n"
     ]
    },
    {
     "name": "stderr",
     "output_type": "stream",
     "text": [
      "127.0.0.1 - - [2022-06-03 05:08:00] \"POST /predict HTTP/1.1\" 200 159 0.312501\n"
     ]
    },
    {
     "name": "stdout",
     "output_type": "stream",
     "text": [
      "1/1 [==============================] - 0s 78ms/step\n"
     ]
    },
    {
     "name": "stderr",
     "output_type": "stream",
     "text": [
      "127.0.0.1 - - [2022-06-03 05:08:00] \"POST /predict HTTP/1.1\" 200 159 0.218739\n"
     ]
    },
    {
     "name": "stdout",
     "output_type": "stream",
     "text": [
      "1/1 [==============================] - 0s 78ms/step\n"
     ]
    },
    {
     "name": "stderr",
     "output_type": "stream",
     "text": [
      "127.0.0.1 - - [2022-06-03 05:08:00] \"POST /predict HTTP/1.1\" 200 160 0.296863\n"
     ]
    },
    {
     "name": "stdout",
     "output_type": "stream",
     "text": [
      "1/1 [==============================] - 0s 62ms/step\n"
     ]
    },
    {
     "name": "stderr",
     "output_type": "stream",
     "text": [
      "127.0.0.1 - - [2022-06-03 05:08:01] \"POST /predict HTTP/1.1\" 200 160 0.312491\n",
      "127.0.0.1 - - [2022-06-03 05:08:01] \"POST /predict HTTP/1.1\" 200 153 0.000000\n",
      "127.0.0.1 - - [2022-06-03 05:08:01] \"POST /predict HTTP/1.1\" 200 153 0.000000\n",
      "127.0.0.1 - - [2022-06-03 05:08:01] \"POST /predict HTTP/1.1\" 200 153 0.015631\n",
      "127.0.0.1 - - [2022-06-03 05:08:01] \"POST /predict HTTP/1.1\" 200 153 0.015637\n"
     ]
    },
    {
     "name": "stdout",
     "output_type": "stream",
     "text": [
      "1/1 [==============================] - 0s 78ms/step\n"
     ]
    },
    {
     "name": "stderr",
     "output_type": "stream",
     "text": [
      "127.0.0.1 - - [2022-06-03 05:08:01] \"POST /predict HTTP/1.1\" 200 159 0.234361\n",
      "127.0.0.1 - - [2022-06-03 05:08:01] \"POST /predict HTTP/1.1\" 200 153 0.015630\n",
      "127.0.0.1 - - [2022-06-03 05:08:01] \"POST /predict HTTP/1.1\" 200 153 0.000000\n"
     ]
    },
    {
     "name": "stdout",
     "output_type": "stream",
     "text": [
      "1/1 [==============================] - 0s 78ms/step\n"
     ]
    },
    {
     "name": "stderr",
     "output_type": "stream",
     "text": [
      "127.0.0.1 - - [2022-06-03 05:08:01] \"POST /predict HTTP/1.1\" 200 160 0.250008\n"
     ]
    },
    {
     "name": "stdout",
     "output_type": "stream",
     "text": [
      "1/1 [==============================] - 0s 78ms/step\n"
     ]
    },
    {
     "name": "stderr",
     "output_type": "stream",
     "text": [
      "127.0.0.1 - - [2022-06-03 05:08:02] \"POST /predict HTTP/1.1\" 200 159 0.203129\n",
      "127.0.0.1 - - [2022-06-03 05:08:02] \"POST /predict HTTP/1.1\" 200 153 0.015620\n",
      "127.0.0.1 - - [2022-06-03 05:08:02] \"POST /predict HTTP/1.1\" 200 153 0.000000\n",
      "127.0.0.1 - - [2022-06-03 05:08:02] \"POST /predict HTTP/1.1\" 200 153 0.000000\n",
      "127.0.0.1 - - [2022-06-03 05:08:02] \"POST /predict HTTP/1.1\" 200 153 0.000000\n",
      "127.0.0.1 - - [2022-06-03 05:08:02] \"POST /predict HTTP/1.1\" 200 153 0.015636\n"
     ]
    },
    {
     "name": "stdout",
     "output_type": "stream",
     "text": [
      "1/1 [==============================] - 0s 78ms/step\n"
     ]
    },
    {
     "name": "stderr",
     "output_type": "stream",
     "text": [
      "127.0.0.1 - - [2022-06-03 05:08:02] \"POST /predict HTTP/1.1\" 200 160 0.250003\n",
      "127.0.0.1 - - [2022-06-03 05:08:02] \"POST /predict HTTP/1.1\" 200 153 0.015635\n"
     ]
    },
    {
     "name": "stdout",
     "output_type": "stream",
     "text": [
      "1/1 [==============================] - 0s 78ms/step\n"
     ]
    },
    {
     "name": "stderr",
     "output_type": "stream",
     "text": [
      "127.0.0.1 - - [2022-06-03 05:08:02] \"POST /predict HTTP/1.1\" 200 160 0.375003\n"
     ]
    },
    {
     "name": "stdout",
     "output_type": "stream",
     "text": [
      "1/1 [==============================] - 0s 78ms/step\n"
     ]
    },
    {
     "name": "stderr",
     "output_type": "stream",
     "text": [
      "127.0.0.1 - - [2022-06-03 05:08:03] \"POST /predict HTTP/1.1\" 200 160 0.203129\n"
     ]
    },
    {
     "name": "stdout",
     "output_type": "stream",
     "text": [
      "1/1 [==============================] - 0s 94ms/step\n"
     ]
    },
    {
     "name": "stderr",
     "output_type": "stream",
     "text": [
      "127.0.0.1 - - [2022-06-03 05:08:03] \"POST /predict HTTP/1.1\" 200 160 0.328123\n"
     ]
    },
    {
     "name": "stdout",
     "output_type": "stream",
     "text": [
      "1/1 [==============================] - 0s 78ms/step\n"
     ]
    },
    {
     "name": "stderr",
     "output_type": "stream",
     "text": [
      "127.0.0.1 - - [2022-06-03 05:08:03] \"POST /predict HTTP/1.1\" 200 159 0.250001\n",
      "127.0.0.1 - - [2022-06-03 05:08:03] \"POST /predict HTTP/1.1\" 200 153 0.015624\n",
      "127.0.0.1 - - [2022-06-03 05:08:03] \"POST /predict HTTP/1.1\" 200 153 0.015619\n",
      "127.0.0.1 - - [2022-06-03 05:08:03] \"POST /predict HTTP/1.1\" 200 153 0.000000\n",
      "127.0.0.1 - - [2022-06-03 05:08:03] \"POST /predict HTTP/1.1\" 200 153 0.000000\n",
      "127.0.0.1 - - [2022-06-03 05:08:03] \"POST /predict HTTP/1.1\" 200 153 0.000000\n",
      "127.0.0.1 - - [2022-06-03 05:08:03] \"POST /predict HTTP/1.1\" 200 153 0.000000\n"
     ]
    },
    {
     "name": "stdout",
     "output_type": "stream",
     "text": [
      "1/1 [==============================] - 0s 78ms/step\n"
     ]
    },
    {
     "name": "stderr",
     "output_type": "stream",
     "text": [
      "127.0.0.1 - - [2022-06-03 05:08:04] \"POST /predict HTTP/1.1\" 200 159 0.218748\n"
     ]
    },
    {
     "name": "stdout",
     "output_type": "stream",
     "text": [
      "1/1 [==============================] - 0s 78ms/step\n"
     ]
    },
    {
     "name": "stderr",
     "output_type": "stream",
     "text": [
      "127.0.0.1 - - [2022-06-03 05:08:04] \"POST /predict HTTP/1.1\" 200 160 0.218753\n",
      "127.0.0.1 - - [2022-06-03 05:08:04] \"POST /predict HTTP/1.1\" 200 153 0.000000\n",
      "127.0.0.1 - - [2022-06-03 05:08:04] \"POST /predict HTTP/1.1\" 200 153 0.015649\n"
     ]
    },
    {
     "name": "stdout",
     "output_type": "stream",
     "text": [
      "1/1 [==============================] - 0s 73ms/step\n"
     ]
    },
    {
     "name": "stderr",
     "output_type": "stream",
     "text": [
      "127.0.0.1 - - [2022-06-03 05:08:04] \"POST /predict HTTP/1.1\" 200 160 0.213150\n",
      "127.0.0.1 - - [2022-06-03 05:08:04] \"POST /predict HTTP/1.1\" 200 153 0.015623\n"
     ]
    },
    {
     "name": "stdout",
     "output_type": "stream",
     "text": [
      "1/1 [==============================] - 0s 47ms/step\n"
     ]
    },
    {
     "name": "stderr",
     "output_type": "stream",
     "text": [
      "127.0.0.1 - - [2022-06-03 05:08:05] \"POST /predict HTTP/1.1\" 200 160 0.245998\n"
     ]
    },
    {
     "name": "stdout",
     "output_type": "stream",
     "text": [
      "1/1 [==============================] - 0s 62ms/step\n"
     ]
    },
    {
     "name": "stderr",
     "output_type": "stream",
     "text": [
      "127.0.0.1 - - [2022-06-03 05:08:05] \"POST /predict HTTP/1.1\" 200 160 0.187501\n"
     ]
    },
    {
     "name": "stdout",
     "output_type": "stream",
     "text": [
      "1/1 [==============================] - 0s 62ms/step\n"
     ]
    },
    {
     "name": "stderr",
     "output_type": "stream",
     "text": [
      "127.0.0.1 - - [2022-06-03 05:08:05] \"POST /predict HTTP/1.1\" 200 160 0.156247\n",
      "127.0.0.1 - - [2022-06-03 05:08:05] \"POST /predict HTTP/1.1\" 200 153 0.000000\n"
     ]
    },
    {
     "name": "stdout",
     "output_type": "stream",
     "text": [
      "1/1 [==============================] - 0s 63ms/step\n"
     ]
    },
    {
     "name": "stderr",
     "output_type": "stream",
     "text": [
      "127.0.0.1 - - [2022-06-03 05:08:05] \"POST /predict HTTP/1.1\" 200 159 0.171880\n",
      "127.0.0.1 - - [2022-06-03 05:08:05] \"POST /predict HTTP/1.1\" 200 153 0.000000\n"
     ]
    },
    {
     "name": "stdout",
     "output_type": "stream",
     "text": [
      "1/1 [==============================] - 0s 68ms/step\n",
      "1/1 [==============================] - 0s 62ms/step\n"
     ]
    },
    {
     "name": "stderr",
     "output_type": "stream",
     "text": [
      "127.0.0.1 - - [2022-06-03 05:08:05] \"POST /predict HTTP/1.1\" 200 159 0.193769\n",
      "127.0.0.1 - - [2022-06-03 05:08:06] \"POST /predict HTTP/1.1\" 200 159 0.157335\n"
     ]
    },
    {
     "name": "stdout",
     "output_type": "stream",
     "text": [
      "1/1 [==============================] - 0s 63ms/step\n"
     ]
    },
    {
     "name": "stderr",
     "output_type": "stream",
     "text": [
      "127.0.0.1 - - [2022-06-03 05:08:06] \"POST /predict HTTP/1.1\" 200 159 0.187498\n",
      "127.0.0.1 - - [2022-06-03 05:08:06] \"POST /predict HTTP/1.1\" 200 153 0.000000\n",
      "127.0.0.1 - - [2022-06-03 05:08:06] \"POST /predict HTTP/1.1\" 200 153 0.000000\n",
      "127.0.0.1 - - [2022-06-03 05:08:06] \"POST /predict HTTP/1.1\" 200 153 0.000000\n",
      "127.0.0.1 - - [2022-06-03 05:08:06] \"POST /predict HTTP/1.1\" 200 153 0.000000\n"
     ]
    },
    {
     "name": "stdout",
     "output_type": "stream",
     "text": [
      "1/1 [==============================] - 0s 47ms/step\n"
     ]
    },
    {
     "name": "stderr",
     "output_type": "stream",
     "text": [
      "127.0.0.1 - - [2022-06-03 05:08:06] \"POST /predict HTTP/1.1\" 200 160 0.278276\n"
     ]
    },
    {
     "name": "stdout",
     "output_type": "stream",
     "text": [
      "1/1 [==============================] - 0s 62ms/step\n"
     ]
    },
    {
     "name": "stderr",
     "output_type": "stream",
     "text": [
      "127.0.0.1 - - [2022-06-03 05:08:06] \"POST /predict HTTP/1.1\" 200 160 0.234369\n"
     ]
    },
    {
     "name": "stdout",
     "output_type": "stream",
     "text": [
      "1/1 [==============================] - 0s 47ms/step\n"
     ]
    },
    {
     "name": "stderr",
     "output_type": "stream",
     "text": [
      "127.0.0.1 - - [2022-06-03 05:08:07] \"POST /predict HTTP/1.1\" 200 160 0.187504\n",
      "127.0.0.1 - - [2022-06-03 05:08:07] \"POST /predict HTTP/1.1\" 200 153 0.000000\n"
     ]
    },
    {
     "name": "stdout",
     "output_type": "stream",
     "text": [
      "1/1 [==============================] - 0s 62ms/step\n"
     ]
    },
    {
     "name": "stderr",
     "output_type": "stream",
     "text": [
      "127.0.0.1 - - [2022-06-03 05:08:07] \"POST /predict HTTP/1.1\" 200 160 0.171873\n"
     ]
    },
    {
     "name": "stdout",
     "output_type": "stream",
     "text": [
      "1/1 [==============================] - 0s 47ms/step\n"
     ]
    },
    {
     "name": "stderr",
     "output_type": "stream",
     "text": [
      "127.0.0.1 - - [2022-06-03 05:08:07] \"POST /predict HTTP/1.1\" 200 160 0.296874\n"
     ]
    },
    {
     "name": "stdout",
     "output_type": "stream",
     "text": [
      "1/1 [==============================] - 0s 63ms/step\n"
     ]
    },
    {
     "name": "stderr",
     "output_type": "stream",
     "text": [
      "127.0.0.1 - - [2022-06-03 05:08:07] \"POST /predict HTTP/1.1\" 200 160 0.187520\n"
     ]
    },
    {
     "name": "stdout",
     "output_type": "stream",
     "text": [
      "1/1 [==============================] - 0s 78ms/step\n"
     ]
    },
    {
     "name": "stderr",
     "output_type": "stream",
     "text": [
      "127.0.0.1 - - [2022-06-03 05:08:08] \"POST /predict HTTP/1.1\" 200 160 0.312500\n",
      "127.0.0.1 - - [2022-06-03 05:08:08] \"POST /predict HTTP/1.1\" 200 153 0.000000\n"
     ]
    },
    {
     "name": "stdout",
     "output_type": "stream",
     "text": [
      "1/1 [==============================] - 0s 62ms/step\n"
     ]
    },
    {
     "name": "stderr",
     "output_type": "stream",
     "text": [
      "127.0.0.1 - - [2022-06-03 05:08:08] \"POST /predict HTTP/1.1\" 200 159 0.218756\n"
     ]
    },
    {
     "name": "stdout",
     "output_type": "stream",
     "text": [
      "1/1 [==============================] - 0s 62ms/step\n"
     ]
    },
    {
     "name": "stderr",
     "output_type": "stream",
     "text": [
      "127.0.0.1 - - [2022-06-03 05:08:08] \"POST /predict HTTP/1.1\" 200 160 0.250002\n"
     ]
    },
    {
     "name": "stdout",
     "output_type": "stream",
     "text": [
      "1/1 [==============================] - 0s 63ms/step\n"
     ]
    },
    {
     "name": "stderr",
     "output_type": "stream",
     "text": [
      "127.0.0.1 - - [2022-06-03 05:08:09] \"POST /predict HTTP/1.1\" 200 160 0.345740\n"
     ]
    },
    {
     "name": "stdout",
     "output_type": "stream",
     "text": [
      "1/1 [==============================] - 0s 47ms/step\n"
     ]
    },
    {
     "name": "stderr",
     "output_type": "stream",
     "text": [
      "127.0.0.1 - - [2022-06-03 05:08:09] \"POST /predict HTTP/1.1\" 200 160 0.187494\n"
     ]
    },
    {
     "name": "stdout",
     "output_type": "stream",
     "text": [
      "1/1 [==============================] - 0s 63ms/step\n"
     ]
    },
    {
     "name": "stderr",
     "output_type": "stream",
     "text": [
      "127.0.0.1 - - [2022-06-03 05:08:09] \"POST /predict HTTP/1.1\" 200 160 0.203137\n"
     ]
    },
    {
     "name": "stdout",
     "output_type": "stream",
     "text": [
      "1/1 [==============================] - 0s 62ms/step\n"
     ]
    },
    {
     "name": "stderr",
     "output_type": "stream",
     "text": [
      "127.0.0.1 - - [2022-06-03 05:08:09] \"POST /predict HTTP/1.1\" 200 160 0.171871\n",
      "127.0.0.1 - - [2022-06-03 05:08:09] \"POST /predict HTTP/1.1\" 200 153 0.000000\n",
      "127.0.0.1 - - [2022-06-03 05:08:10] \"POST /predict HTTP/1.1\" 200 153 0.000000\n",
      "127.0.0.1 - - [2022-06-03 05:08:10] \"POST /predict HTTP/1.1\" 200 153 0.015627\n",
      "127.0.0.1 - - [2022-06-03 05:08:10] \"POST /predict HTTP/1.1\" 200 153 0.000000\n"
     ]
    },
    {
     "name": "stdout",
     "output_type": "stream",
     "text": [
      "1/1 [==============================] - 0s 62ms/step\n"
     ]
    },
    {
     "name": "stderr",
     "output_type": "stream",
     "text": [
      "127.0.0.1 - - [2022-06-03 05:08:10] \"POST /predict HTTP/1.1\" 200 160 0.234371\n",
      "127.0.0.1 - - [2022-06-03 05:08:10] \"POST /predict HTTP/1.1\" 200 153 0.015637\n",
      "127.0.0.1 - - [2022-06-03 05:08:10] \"POST /predict HTTP/1.1\" 200 153 0.000000\n",
      "127.0.0.1 - - [2022-06-03 05:08:10] \"POST /predict HTTP/1.1\" 200 153 0.000000\n"
     ]
    },
    {
     "name": "stdout",
     "output_type": "stream",
     "text": [
      "1/1 [==============================] - 0s 47ms/step\n"
     ]
    },
    {
     "name": "stderr",
     "output_type": "stream",
     "text": [
      "127.0.0.1 - - [2022-06-03 05:08:10] \"POST /predict HTTP/1.1\" 200 160 0.296880\n",
      "127.0.0.1 - - [2022-06-03 05:08:10] \"POST /predict HTTP/1.1\" 200 153 0.000000\n",
      "127.0.0.1 - - [2022-06-03 05:08:10] \"POST /predict HTTP/1.1\" 200 153 0.000000\n",
      "127.0.0.1 - - [2022-06-03 05:08:10] \"POST /predict HTTP/1.1\" 200 153 0.015632\n",
      "127.0.0.1 - - [2022-06-03 05:08:10] \"POST /predict HTTP/1.1\" 200 153 0.000000\n",
      "127.0.0.1 - - [2022-06-03 05:08:10] \"POST /predict HTTP/1.1\" 200 153 0.000000\n"
     ]
    },
    {
     "name": "stdout",
     "output_type": "stream",
     "text": [
      "1/1 [==============================] - 0s 47ms/step\n"
     ]
    },
    {
     "name": "stderr",
     "output_type": "stream",
     "text": [
      "127.0.0.1 - - [2022-06-03 05:08:10] \"POST /predict HTTP/1.1\" 200 159 0.171871\n"
     ]
    },
    {
     "name": "stdout",
     "output_type": "stream",
     "text": [
      "1/1 [==============================] - 0s 63ms/step\n"
     ]
    },
    {
     "name": "stderr",
     "output_type": "stream",
     "text": [
      "127.0.0.1 - - [2022-06-03 05:08:11] \"POST /predict HTTP/1.1\" 200 159 0.187498\n"
     ]
    },
    {
     "name": "stdout",
     "output_type": "stream",
     "text": [
      "1/1 [==============================] - 0s 47ms/step\n"
     ]
    },
    {
     "name": "stderr",
     "output_type": "stream",
     "text": [
      "127.0.0.1 - - [2022-06-03 05:08:11] \"POST /predict HTTP/1.1\" 200 160 0.171877\n"
     ]
    },
    {
     "name": "stdout",
     "output_type": "stream",
     "text": [
      "1/1 [==============================] - 0s 63ms/step\n"
     ]
    },
    {
     "name": "stderr",
     "output_type": "stream",
     "text": [
      "127.0.0.1 - - [2022-06-03 05:08:11] \"POST /predict HTTP/1.1\" 200 159 0.187509\n"
     ]
    },
    {
     "name": "stdout",
     "output_type": "stream",
     "text": [
      "1/1 [==============================] - 0s 63ms/step\n"
     ]
    },
    {
     "name": "stderr",
     "output_type": "stream",
     "text": [
      "127.0.0.1 - - [2022-06-03 05:08:11] \"POST /predict HTTP/1.1\" 200 160 0.234381\n"
     ]
    },
    {
     "name": "stdout",
     "output_type": "stream",
     "text": [
      "1/1 [==============================] - 0s 47ms/step\n"
     ]
    },
    {
     "name": "stderr",
     "output_type": "stream",
     "text": [
      "127.0.0.1 - - [2022-06-03 05:08:12] \"POST /predict HTTP/1.1\" 200 159 0.187497\n"
     ]
    },
    {
     "name": "stdout",
     "output_type": "stream",
     "text": [
      "1/1 [==============================] - 0s 62ms/step\n",
      "1/1 [==============================] - ETA: 0s"
     ]
    },
    {
     "name": "stderr",
     "output_type": "stream",
     "text": [
      "127.0.0.1 - - [2022-06-03 05:08:12] \"POST /predict HTTP/1.1\" 200 160 0.234378\n"
     ]
    },
    {
     "name": "stdout",
     "output_type": "stream",
     "text": [
      "\b\b\b\b\b\b\b\b\b\b\b\b\b\b\b\b\b\b\b\b\b\b\b\b\b\b\b\b\b\b\b\b\b\b\b\b\b\b\b\b\b\b\b\b\b\b\r",
      "1/1 [==============================] - 0s 47ms/step\n"
     ]
    },
    {
     "name": "stderr",
     "output_type": "stream",
     "text": [
      "127.0.0.1 - - [2022-06-03 05:08:12] \"POST /predict HTTP/1.1\" 200 159 0.171881\n",
      "127.0.0.1 - - [2022-06-03 05:08:12] \"POST /predict HTTP/1.1\" 200 153 0.015626\n",
      "127.0.0.1 - - [2022-06-03 05:08:12] \"POST /predict HTTP/1.1\" 200 153 0.000000\n"
     ]
    },
    {
     "name": "stdout",
     "output_type": "stream",
     "text": [
      "1/1 [==============================] - 0s 62ms/step\n"
     ]
    },
    {
     "name": "stderr",
     "output_type": "stream",
     "text": [
      "127.0.0.1 - - [2022-06-03 05:08:12] \"POST /predict HTTP/1.1\" 200 160 0.250003\n",
      "127.0.0.1 - - [2022-06-03 05:08:12] \"POST /predict HTTP/1.1\" 200 153 0.000000\n",
      "127.0.0.1 - - [2022-06-03 05:08:12] \"POST /predict HTTP/1.1\" 200 153 0.000000\n",
      "127.0.0.1 - - [2022-06-03 05:08:12] \"POST /predict HTTP/1.1\" 200 153 0.000000\n",
      "127.0.0.1 - - [2022-06-03 05:08:12] \"POST /predict HTTP/1.1\" 200 153 0.000000\n",
      "127.0.0.1 - - [2022-06-03 05:08:13] \"POST /predict HTTP/1.1\" 200 153 0.000000\n",
      "127.0.0.1 - - [2022-06-03 05:08:13] \"POST /predict HTTP/1.1\" 200 153 0.000000\n"
     ]
    },
    {
     "name": "stdout",
     "output_type": "stream",
     "text": [
      "1/1 [==============================] - 0s 62ms/step\n"
     ]
    },
    {
     "name": "stderr",
     "output_type": "stream",
     "text": [
      "127.0.0.1 - - [2022-06-03 05:08:13] \"POST /predict HTTP/1.1\" 200 160 0.187500\n"
     ]
    },
    {
     "name": "stdout",
     "output_type": "stream",
     "text": [
      "1/1 [==============================] - 0s 62ms/step\n"
     ]
    },
    {
     "name": "stderr",
     "output_type": "stream",
     "text": [
      "127.0.0.1 - - [2022-06-03 05:08:13] \"POST /predict HTTP/1.1\" 200 159 0.328130\n"
     ]
    },
    {
     "name": "stdout",
     "output_type": "stream",
     "text": [
      "1/1 [==============================] - 0s 78ms/step\n"
     ]
    },
    {
     "name": "stderr",
     "output_type": "stream",
     "text": [
      "127.0.0.1 - - [2022-06-03 05:08:13] \"POST /predict HTTP/1.1\" 200 159 0.234372\n"
     ]
    },
    {
     "name": "stdout",
     "output_type": "stream",
     "text": [
      "1/1 [==============================] - 0s 56ms/step\n"
     ]
    },
    {
     "name": "stderr",
     "output_type": "stream",
     "text": [
      "127.0.0.1 - - [2022-06-03 05:08:14] \"POST /predict HTTP/1.1\" 200 160 0.184351\n"
     ]
    },
    {
     "name": "stdout",
     "output_type": "stream",
     "text": [
      "1/1 [==============================] - 0s 68ms/step\n"
     ]
    },
    {
     "name": "stderr",
     "output_type": "stream",
     "text": [
      "127.0.0.1 - - [2022-06-03 05:08:14] \"POST /predict HTTP/1.1\" 200 160 0.223902\n"
     ]
    },
    {
     "name": "stdout",
     "output_type": "stream",
     "text": [
      "1/1 [==============================] - 0s 62ms/step\n"
     ]
    },
    {
     "name": "stderr",
     "output_type": "stream",
     "text": [
      "127.0.0.1 - - [2022-06-03 05:08:14] \"POST /predict HTTP/1.1\" 200 160 0.281247\n"
     ]
    },
    {
     "name": "stdout",
     "output_type": "stream",
     "text": [
      "1/1 [==============================] - 0s 62ms/step\n"
     ]
    },
    {
     "name": "stderr",
     "output_type": "stream",
     "text": [
      "127.0.0.1 - - [2022-06-03 05:08:14] \"POST /predict HTTP/1.1\" 200 159 0.187502\n"
     ]
    },
    {
     "name": "stdout",
     "output_type": "stream",
     "text": [
      "1/1 [==============================] - 0s 47ms/step\n"
     ]
    },
    {
     "name": "stderr",
     "output_type": "stream",
     "text": [
      "127.0.0.1 - - [2022-06-03 05:08:15] \"POST /predict HTTP/1.1\" 200 160 0.218752\n"
     ]
    },
    {
     "name": "stdout",
     "output_type": "stream",
     "text": [
      "1/1 [==============================] - 0s 47ms/step\n"
     ]
    },
    {
     "name": "stderr",
     "output_type": "stream",
     "text": [
      "127.0.0.1 - - [2022-06-03 05:08:15] \"POST /predict HTTP/1.1\" 200 160 0.234375\n"
     ]
    },
    {
     "name": "stdout",
     "output_type": "stream",
     "text": [
      "1/1 [==============================] - 0s 62ms/step\n"
     ]
    },
    {
     "name": "stderr",
     "output_type": "stream",
     "text": [
      "127.0.0.1 - - [2022-06-03 05:08:15] \"POST /predict HTTP/1.1\" 200 160 0.187500\n"
     ]
    },
    {
     "name": "stdout",
     "output_type": "stream",
     "text": [
      "1/1 [==============================] - 0s 62ms/step\n"
     ]
    },
    {
     "name": "stderr",
     "output_type": "stream",
     "text": [
      "127.0.0.1 - - [2022-06-03 05:08:15] \"POST /predict HTTP/1.1\" 200 159 0.171875\n"
     ]
    },
    {
     "name": "stdout",
     "output_type": "stream",
     "text": [
      "1/1 [==============================] - 0s 62ms/step\n"
     ]
    },
    {
     "name": "stderr",
     "output_type": "stream",
     "text": [
      "127.0.0.1 - - [2022-06-03 05:08:16] \"POST /predict HTTP/1.1\" 200 160 0.197725\n"
     ]
    },
    {
     "name": "stdout",
     "output_type": "stream",
     "text": [
      "1/1 [==============================] - 0s 63ms/step\n",
      "1/1 [==============================] - ETA: 0s"
     ]
    },
    {
     "name": "stderr",
     "output_type": "stream",
     "text": [
      "127.0.0.1 - - [2022-06-03 05:08:16] \"POST /predict HTTP/1.1\" 200 160 0.171888\n"
     ]
    },
    {
     "name": "stdout",
     "output_type": "stream",
     "text": [
      "\b\b\b\b\b\b\b\b\b\b\b\b\b\b\b\b\b\b\b\b\b\b\b\b\b\b\b\b\b\b\b\b\b\b\b\b\b\b\b\b\b\b\b\b\b\b\r",
      "1/1 [==============================] - 0s 62ms/step\n"
     ]
    },
    {
     "name": "stderr",
     "output_type": "stream",
     "text": [
      "127.0.0.1 - - [2022-06-03 05:08:16] \"POST /predict HTTP/1.1\" 200 159 0.187494\n"
     ]
    },
    {
     "name": "stdout",
     "output_type": "stream",
     "text": [
      "1/1 [==============================] - 0s 63ms/step\n"
     ]
    },
    {
     "name": "stderr",
     "output_type": "stream",
     "text": [
      "127.0.0.1 - - [2022-06-03 05:08:16] \"POST /predict HTTP/1.1\" 200 160 0.249994\n"
     ]
    },
    {
     "name": "stdout",
     "output_type": "stream",
     "text": [
      "1/1 [==============================] - 0s 63ms/step\n"
     ]
    },
    {
     "name": "stderr",
     "output_type": "stream",
     "text": [
      "127.0.0.1 - - [2022-06-03 05:08:17] \"POST /predict HTTP/1.1\" 200 160 0.312502\n"
     ]
    },
    {
     "name": "stdout",
     "output_type": "stream",
     "text": [
      "1/1 [==============================] - 0s 62ms/step\n"
     ]
    },
    {
     "name": "stderr",
     "output_type": "stream",
     "text": [
      "127.0.0.1 - - [2022-06-03 05:08:17] \"POST /predict HTTP/1.1\" 200 160 0.218755\n"
     ]
    },
    {
     "name": "stdout",
     "output_type": "stream",
     "text": [
      "1/1 [==============================] - 0s 47ms/step\n"
     ]
    },
    {
     "name": "stderr",
     "output_type": "stream",
     "text": [
      "127.0.0.1 - - [2022-06-03 05:08:17] \"POST /predict HTTP/1.1\" 200 159 0.187508\n"
     ]
    },
    {
     "name": "stdout",
     "output_type": "stream",
     "text": [
      "1/1 [==============================] - 0s 47ms/step\n"
     ]
    },
    {
     "name": "stderr",
     "output_type": "stream",
     "text": [
      "127.0.0.1 - - [2022-06-03 05:08:17] \"POST /predict HTTP/1.1\" 200 159 0.171872\n",
      "127.0.0.1 - - [2022-06-03 05:08:17] \"POST /predict HTTP/1.1\" 200 153 0.000000\n"
     ]
    },
    {
     "name": "stdout",
     "output_type": "stream",
     "text": [
      "1/1 [==============================] - 0s 47ms/step\n"
     ]
    },
    {
     "name": "stderr",
     "output_type": "stream",
     "text": [
      "127.0.0.1 - - [2022-06-03 05:08:18] \"POST /predict HTTP/1.1\" 200 159 0.187500\n"
     ]
    },
    {
     "name": "stdout",
     "output_type": "stream",
     "text": [
      "1/1 [==============================] - 0s 62ms/step\n"
     ]
    },
    {
     "name": "stderr",
     "output_type": "stream",
     "text": [
      "127.0.0.1 - - [2022-06-03 05:08:18] \"POST /predict HTTP/1.1\" 200 160 0.203128\n",
      "127.0.0.1 - - [2022-06-03 05:08:18] \"POST /predict HTTP/1.1\" 200 153 0.000000\n"
     ]
    },
    {
     "name": "stdout",
     "output_type": "stream",
     "text": [
      "1/1 [==============================] - 0s 62ms/step\n"
     ]
    },
    {
     "name": "stderr",
     "output_type": "stream",
     "text": [
      "127.0.0.1 - - [2022-06-03 05:08:18] \"POST /predict HTTP/1.1\" 200 160 0.234367\n",
      "127.0.0.1 - - [2022-06-03 05:08:18] \"POST /predict HTTP/1.1\" 200 153 0.015628\n"
     ]
    },
    {
     "name": "stdout",
     "output_type": "stream",
     "text": [
      "1/1 [==============================] - 0s 78ms/step\n"
     ]
    },
    {
     "name": "stderr",
     "output_type": "stream",
     "text": [
      "127.0.0.1 - - [2022-06-03 05:08:18] \"POST /predict HTTP/1.1\" 200 160 0.265630\n"
     ]
    },
    {
     "name": "stdout",
     "output_type": "stream",
     "text": [
      "1/1 [==============================] - 0s 94ms/step\n"
     ]
    },
    {
     "name": "stderr",
     "output_type": "stream",
     "text": [
      "127.0.0.1 - - [2022-06-03 05:08:19] \"POST /predict HTTP/1.1\" 200 159 0.250001\n",
      "127.0.0.1 - - [2022-06-03 05:08:19] \"POST /predict HTTP/1.1\" 200 153 0.000000\n"
     ]
    },
    {
     "name": "stdout",
     "output_type": "stream",
     "text": [
      "1/1 [==============================] - 0s 78ms/step\n"
     ]
    },
    {
     "name": "stderr",
     "output_type": "stream",
     "text": [
      "127.0.0.1 - - [2022-06-03 05:08:19] \"POST /predict HTTP/1.1\" 200 160 0.296889\n"
     ]
    }
   ],
   "source": [
    "from flask import Flask\n",
    "from gevent.pywsgi import WSGIServer\n",
    "\n",
    "app = Flask(__name__)\n",
    "@app.route('/predict', methods=['POST'])\n",
    "def infer_image():\n",
    "    if request.method == 'POST':\n",
    "        if 'file' not in request.files:\n",
    "            return \"Masukan hanya jenis file saja\"\n",
    "        file = request.files.get('file')\n",
    "        try:\n",
    "            img = transform_audio_to_spectogram_to_testing(file)\n",
    "            img_respon =  { \"status_user\":img,\"status_running\":\"Sukses\"}\n",
    "        except:\n",
    "            img_respon =  { \"status_user\":\"-\",\"status_running\":\"Gagal\"}\n",
    "        return img_respon\n",
    "    \n",
    "@app.route('/', methods=['GET'])\n",
    "def index():\n",
    "    return \"Selamat datang dimachine learning kami\"\n",
    "\n",
    "if __name__ == '__main__':\n",
    "    # Debug/Development\n",
    "    # app.run(debug=True, host=\"0.0.0.0\", port=\"5000\")\n",
    "    # Production\n",
    "    http_server = WSGIServer(('127.0.0.1', 5000), app)\n",
    "    http_server.serve_forever()"
   ]
  },
  {
   "cell_type": "code",
   "execution_count": null,
   "metadata": {},
   "outputs": [],
   "source": []
  },
  {
   "cell_type": "code",
   "execution_count": null,
   "metadata": {},
   "outputs": [],
   "source": []
  }
 ],
 "metadata": {
  "colab": {
   "collapsed_sections": [],
   "name": "Terbaik_2.ipynb",
   "provenance": []
  },
  "interpreter": {
   "hash": "42f60ef5713f6389c68d58b5cf9aed372996a4129bb1a516412447272d8a7fe7"
  },
  "kernelspec": {
   "display_name": "Python 3 (ipykernel)",
   "language": "python",
   "name": "python3"
  },
  "language_info": {
   "codemirror_mode": {
    "name": "ipython",
    "version": 3
   },
   "file_extension": ".py",
   "mimetype": "text/x-python",
   "name": "python",
   "nbconvert_exporter": "python",
   "pygments_lexer": "ipython3",
   "version": "3.8.12"
  }
 },
 "nbformat": 4,
 "nbformat_minor": 1
}
